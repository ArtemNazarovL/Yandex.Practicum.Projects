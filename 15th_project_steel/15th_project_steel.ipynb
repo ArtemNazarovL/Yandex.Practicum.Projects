{
  "cells": [
    {
      "cell_type": "markdown",
      "metadata": {
        "id": "52bGxivRLhRn"
      },
      "source": [
        "# Исследовательский анализ этапов обработки стали и построение модели предсказания температуры стали.\n",
        "\n",
        "# Exploratory analysis of steel processing steps and construction of a steel temperature prediction model."
      ]
    },
    {
      "cell_type": "markdown",
      "metadata": {
        "id": "Vo9pr9NkLhRn"
      },
      "source": [
        "# Описание проекта.\n",
        "\n",
        "# Description of the project."
      ]
    },
    {
      "cell_type": "markdown",
      "metadata": {
        "id": "wqw-pA4sLhRo"
      },
      "source": [
        "<b>Задача.</b> <br /> \n",
        "\n",
        "Металлургический завод поставил задачу уменьшить расходы на электроэнергию. Для этого необходимо научиться эффективно предсказывать температуру стали на разных этапах производства."
      ]
    },
    {
      "cell_type": "markdown",
      "source": [
        "<b>Task.</b> <br />\n",
        "\n",
        "The metallurgical plant set a goal to reduce electricity costs. To do this, it is necessary to learn how to effectively predict the temperature of steel at different stages of production."
      ],
      "metadata": {
        "id": "o9rw-633L-QZ"
      }
    },
    {
      "cell_type": "markdown",
      "metadata": {
        "id": "AObo2qryLhRp"
      },
      "source": [
        "<b>Описание этапа обработки. </b> <br />\n",
        "\n",
        "Расплавленную сталь заливают в ковш и подогревают до нужной температуры графитовыми электродами.\n",
        "\n",
        "Сталь легируют — изменяют её состав — подавая куски сплава из бункера для сыпучих материалов или проволоку через специальный трайб-аппарат (англ. tribe, «масса»).\n",
        "\n",
        "Перед тем как первый раз ввести легирующие добавки, измеряют температуру стали и производят её химический анализ. Потом температуру на несколько минут повышают, добавляют легирующие материалы и продувают сплав инертным газом. Затем его перемешивают и снова проводят измерения. Такой цикл повторяется до достижения целевого химического состава и оптимальной температуры плавки."
      ]
    },
    {
      "cell_type": "markdown",
      "source": [
        "<b>Description of the processing stage. </b> <br />\n",
        "\n",
        "Molten steel is poured into a ladle and heated to the desired temperature with graphite electrodes.\n",
        "\n",
        "Steel is alloyed - its composition is changed - by feeding pieces of alloy from a bunker for bulk materials or wire through a special tribe apparatus (English tribe, \"mass\").\n",
        "\n",
        "Before introducing alloying additives for the first time, the temperature of the steel is measured and its chemical analysis is carried out. Then the temperature is raised for several minutes, alloying materials are added and the alloy is purged with an inert gas. Then it is stirred and measured again. This cycle is repeated until the target chemical composition and optimum melting temperature are reached."
      ],
      "metadata": {
        "id": "t63wNweIMC5m"
      }
    },
    {
      "cell_type": "markdown",
      "metadata": {
        "id": "UhtwGUzkLhRq"
      },
      "source": [
        "<b>Описание файлов и содержащихся в них столбцов. </b> <br />\n",
        "\n",
        "1) data_arc.csv - данные об электродах: <br />\n",
        "key (номер партии); <br />\n",
        "Начало нагрева дугой; <br />\n",
        "Конец нагрева дугой; <br />\n",
        "Активная мощность; <br />\n",
        "Реактивная мощность. <br />\n",
        "2) data_bulk.csv - данные о подаче сыпучих материалов (объём): <br />\n",
        "key (номер партии); <br />\n",
        "Bulk 1 - Bulk 15 (объем легирующего сыпучего материала; цифра означает сорт материала; названия сортов нам неизвестны, но анализ можно провести и без названий). <br />\n",
        "3) data_bulk_time.csv - данные о подаче сыпучих материалов (время): <br />\n",
        "key (номер партии); <br />\n",
        "Bulk 1 - Bulk 15 (время подачи легирующего сыпучего материала; цифра означает сорт материала; названия сортов нам неизвестны, но анализ можно провести и без названий). <br />\n",
        "4) data_gas.csv - данные о продувке сплава газом: <br />\n",
        "key (номер партии); <br />\n",
        "Газ 1 (объем подаваемого инертного газа). <br />\n",
        "5) data_temp.csv - результаты измерения температуры:\n",
        "key (номер партии); <br />\n",
        "Время замера; <br />\n",
        "Температура. <br />\n",
        "6) data_wire.csv — данные о проволочных материалах (объём): <br />\n",
        "key (номер партии); <br />\n",
        "Wire 1 - Wire 9 (объем легирующего проволочного материала; цифра означает сорт материала; названия сортов нам неизвестны, но анализ можно провести и без названий). <br />\n",
        "7) data_wire_time.csv — данные о проволочных материалах (время): <br />\n",
        "key (номер партии); <br />\n",
        "Wire 1 - Wire 9 (время подачи легирующего проволочного материала; цифра означает сорт материала; названия сортов нам неизвестны, но анализ можно провести и без названий). <br />"
      ]
    },
    {
      "cell_type": "markdown",
      "source": [
        "<b>A description of the files and the columns they contain. </b> <br />\n",
        "\n",
        "1) data_arc.csv - data about electrodes: <br />\n",
        "key (batch number); <br />\n",
        "Start of arc heating; <br />\n",
        "End of arc heating; <br />\n",
        "Active power; <br />\n",
        "reactive power. <br />\n",
        "2) data_bulk.csv - data on the supply of bulk materials (volume): <br />\n",
        "key (batch number); <br />\n",
        "Bulk 1 - Bulk 15 (volume of bulk alloying material; the figure means the grade of the material; the grade names are unknown to us, but the analysis can be carried out without names). <br />\n",
        "3) data_bulk_time.csv - data on the supply of bulk materials (time): <br />\n",
        "key (batch number); <br />\n",
        "Bulk 1 - Bulk 15 (time for the supply of bulk alloying material; the number means the grade of the material; we do not know the names of the grades, but the analysis can be carried out without names). <br />\n",
        "4) data_gas.csv - data on alloy gas purge: <br />\n",
        "key (batch number); <br />\n",
        "Gas 1 (volume of supplied inert gas). <br />\n",
        "5) data_temp.csv - temperature measurement results:\n",
        "key (batch number); <br />\n",
        "Measurement time; <br />\n",
        "Temperature. <br />\n",
        "6) data_wire.csv - data on wire materials (volume): <br />\n",
        "key (batch number); <br />\n",
        "Wire 1 - Wire 9 (volume of alloying wire material; the figure means the grade of the material; we do not know the names of the grades, but the analysis can be carried out without names). <br />\n",
        "7) data_wire_time.csv - data on wire materials (time): <br />\n",
        "key (batch number); <br />\n",
        "Wire 1 - Wire 9 (the time of supply of the alloying wire material; the number means the grade of the material; the names of the grades are unknown to us, but the analysis can be carried out without names). <br />"
      ],
      "metadata": {
        "id": "hLQUCPKIMoLz"
      }
    },
    {
      "cell_type": "markdown",
      "metadata": {
        "id": "w9O5ztv8LhRr"
      },
      "source": [
        "# Оглавление.\n",
        "\n",
        "# Table of contents."
      ]
    },
    {
      "cell_type": "markdown",
      "metadata": {
        "id": "KIuQt0Z5LhRr"
      },
      "source": [
        "- [1. Загрузка файлов и предподготовка данных.](#Step_1)<br />\n",
        "[1.1. Загрузка файлов.](#Step_2) <br />\n",
        "[1.2. Предподготовка данных](#Step_3) <br />\n",
        "- [2.  Исследовательский анализ данных.](#Step_4) <br />\n",
        "[2.1. Температура.](#Step_5) <br />\n",
        "[2.2. Продолжительность нагрева.](#Step_6) <br />\n",
        "[2.3. Активная мощность.](#Step_7) <br />\n",
        "[2.1. Реактивная мощность.](#Step_8) <br />\n",
        "- [3. Создание дополнительных признаков и объединение таблиц.](#Step_9)<br />\n",
        "[3.1. Температуры.](#Step_10) <br />\n",
        "[3.2. Нагревы.](#Step_11) <br />\n",
        "[3.3. Легирующие материалы.](#Step_12) <br />\n",
        "[3.1. Объединение таблиц.](#Step_13) <br />\n",
        "- [4. Градиентный бустинг.](#Step_14)<br />\n",
        "- [5. Линейная регрессия.](#Step_15)<br />"
      ]
    },
    {
      "cell_type": "markdown",
      "source": [
        "- [1. Loading files and preparing data.](#Step_1)<br />\n",
        "[1.1. Loading files.](#Step_2) <br />\n",
        "[1.2. Data preparation](#Step_3) <br />\n",
        "- [2. Exploratory data analysis.](#Step_4) <br />\n",
        "[2.1. Temperature.](#Step_5) <br />\n",
        "[2.2. Heating duration.](#Step_6) <br />\n",
        "[2.3. Active power.](#Step_7) <br />\n",
        "[2.1. Reactive power.](#Step_8) <br />\n",
        "- [3. Creating additional features and merging tables.](#Step_9)<br />\n",
        "[3.1. Temperatures.](#Step_10) <br />\n",
        "[3.2. Heating.](#Step_11) <br />\n",
        "[3.3. Alloying materials.](#Step_12) <br />\n",
        "[3.1. Merging tables.](#Step_13) <br />\n",
        "- [four. Gradient boosting.](#Step_14)<br />\n",
        "- [5. Linear regression.](#Step_15)<br />"
      ],
      "metadata": {
        "id": "omhX7THuMsbK"
      }
    },
    {
      "cell_type": "markdown",
      "metadata": {
        "id": "aphJp6G-LhRs"
      },
      "source": [
        "<a id='Step_1'></a>\n",
        "## Загрузка файлов и предподготовка данных."
      ]
    },
    {
      "cell_type": "markdown",
      "source": [
        "<a id='Step_1'></a>\n",
        "## Uploading files and preparing data."
      ],
      "metadata": {
        "id": "ITAptCuuM09x"
      }
    },
    {
      "cell_type": "markdown",
      "metadata": {
        "id": "q1MAedMpLhRs"
      },
      "source": [
        "<a id='Step_2'></a>\n",
        "### Загрузка файлов и библиотек."
      ]
    },
    {
      "cell_type": "markdown",
      "source": [
        "<a id='Step_2'></a>\n",
        "### Loading files and libraries."
      ],
      "metadata": {
        "id": "4kC3OLUIM4US"
      }
    },
    {
      "cell_type": "code",
      "execution_count": null,
      "metadata": {
        "id": "Dsduj3WMLhRt"
      },
      "outputs": [],
      "source": [
        "import pandas as pd\n",
        "import numpy as np\n",
        "import matplotlib.pyplot as plt\n",
        "%matplotlib inline\n",
        "import statsmodels.api as sm\n",
        "from sklearn.metrics.scorer import make_scorer\n",
        "from sklearn.model_selection import GridSearchCV\n",
        "from sklearn.model_selection import train_test_split\n",
        "from sklearn.metrics import mean_absolute_error\n",
        "from catboost import CatBoostRegressor\n",
        "from statsmodels.stats.outliers_influence import variance_inflation_factor\n",
        "from statsmodels.tools.tools import add_constant\n",
        "import warnings\n",
        "warnings.filterwarnings(\"ignore\")"
      ]
    },
    {
      "cell_type": "code",
      "source": [
        "arc = pd.read_csv('data_arc.csv')\n",
        "bulk = pd.read_csv('data_bulk.csv')\n",
        "bulk_time = pd.read_csv('data_bulk_time.csv')\n",
        "gas = pd.read_csv('data_gas.csv')\n",
        "temp = pd.read_csv('data_temp.csv')\n",
        "wire = pd.read_csv('data_wire.csv')\n",
        "wire_time = pd.read_csv('data_wire_time.csv')"
      ],
      "metadata": {
        "id": "2FMWIm3kM-5o"
      },
      "execution_count": null,
      "outputs": []
    },
    {
      "cell_type": "code",
      "execution_count": null,
      "metadata": {
        "id": "htNn-sfbLhRw"
      },
      "outputs": [],
      "source": [
        "arc = pd.read_csv('/datasets/final_steel/data_arc.csv')\n",
        "bulk = pd.read_csv('/datasets/final_steel/data_bulk.csv')\n",
        "bulk_time = pd.read_csv('/datasets/final_steel/data_bulk_time.csv')\n",
        "gas = pd.read_csv('/datasets/final_steel/data_gas.csv')\n",
        "temp = pd.read_csv('/datasets/final_steel/data_temp.csv')\n",
        "wire = pd.read_csv('/datasets/final_steel/data_wire.csv')\n",
        "wire_time = pd.read_csv('/datasets/final_steel/data_wire_time.csv')"
      ]
    },
    {
      "cell_type": "markdown",
      "metadata": {
        "id": "rrp9Vz5-LhRw"
      },
      "source": [
        "<a id='Step_3'></a>\n",
        "### Предподготовка данных."
      ]
    },
    {
      "cell_type": "markdown",
      "source": [
        "<a id='Step_3'></a>\n",
        "### Data preparation."
      ],
      "metadata": {
        "id": "CD8N69R5NDQY"
      }
    },
    {
      "cell_type": "markdown",
      "metadata": {
        "id": "KhDV4R8ALhRx"
      },
      "source": [
        "<b>Файл \"temp\". </b> <br />\n",
        "\n",
        "В этой задаче целевым признаком является температутра. Из этого следует, что мы не можем заполнить пропуски чем-либо в столбце 'Температура' - остается только удалить пропуски в этой таблице, а вместе с ними и все остальные замеры температуры, которые относятся к тем же партиям. Время замера приведем к формату даты. Она нам еще пригодится."
      ]
    },
    {
      "cell_type": "markdown",
      "source": [
        "<b>The file \"temp\". </b> <br />\n",
        "\n",
        "In this problem, the target feature is temperature. From this it follows that we cannot fill in the gaps with anything in the 'Temperature' column - all that remains is to delete the gaps in this table, and with them all other temperature measurements that belong to the same batches. Let's bring the measurement time to the date format. We will still need it."
      ],
      "metadata": {
        "id": "H0hCTbPFNF_v"
      }
    },
    {
      "cell_type": "code",
      "execution_count": null,
      "metadata": {
        "id": "qjohSUzqLhRx",
        "outputId": "97df0a3e-0cd5-4aee-9b8c-1f3928e7a623"
      },
      "outputs": [
        {
          "data": {
            "text/html": [
              "<div>\n",
              "<style scoped>\n",
              "    .dataframe tbody tr th:only-of-type {\n",
              "        vertical-align: middle;\n",
              "    }\n",
              "\n",
              "    .dataframe tbody tr th {\n",
              "        vertical-align: top;\n",
              "    }\n",
              "\n",
              "    .dataframe thead th {\n",
              "        text-align: right;\n",
              "    }\n",
              "</style>\n",
              "<table border=\"1\" class=\"dataframe\">\n",
              "  <thead>\n",
              "    <tr style=\"text-align: right;\">\n",
              "      <th></th>\n",
              "      <th>key</th>\n",
              "      <th>Время замера</th>\n",
              "      <th>Температура</th>\n",
              "    </tr>\n",
              "  </thead>\n",
              "  <tbody>\n",
              "    <tr>\n",
              "      <td>0</td>\n",
              "      <td>1</td>\n",
              "      <td>2019-05-03 11:16:18</td>\n",
              "      <td>1571.0</td>\n",
              "    </tr>\n",
              "    <tr>\n",
              "      <td>1</td>\n",
              "      <td>1</td>\n",
              "      <td>2019-05-03 11:25:53</td>\n",
              "      <td>1604.0</td>\n",
              "    </tr>\n",
              "    <tr>\n",
              "      <td>2</td>\n",
              "      <td>1</td>\n",
              "      <td>2019-05-03 11:29:11</td>\n",
              "      <td>1618.0</td>\n",
              "    </tr>\n",
              "    <tr>\n",
              "      <td>3</td>\n",
              "      <td>1</td>\n",
              "      <td>2019-05-03 11:30:01</td>\n",
              "      <td>1601.0</td>\n",
              "    </tr>\n",
              "    <tr>\n",
              "      <td>4</td>\n",
              "      <td>1</td>\n",
              "      <td>2019-05-03 11:30:39</td>\n",
              "      <td>1613.0</td>\n",
              "    </tr>\n",
              "  </tbody>\n",
              "</table>\n",
              "</div>"
            ],
            "text/plain": [
              "   key         Время замера  Температура\n",
              "0    1  2019-05-03 11:16:18       1571.0\n",
              "1    1  2019-05-03 11:25:53       1604.0\n",
              "2    1  2019-05-03 11:29:11       1618.0\n",
              "3    1  2019-05-03 11:30:01       1601.0\n",
              "4    1  2019-05-03 11:30:39       1613.0"
            ]
          },
          "execution_count": 12,
          "metadata": {},
          "output_type": "execute_result"
        }
      ],
      "source": [
        "temp.head()"
      ]
    },
    {
      "cell_type": "code",
      "execution_count": null,
      "metadata": {
        "id": "kjQSGWYaLhRz"
      },
      "outputs": [],
      "source": [
        "temp.drop(\n",
        "    temp[temp['key'].isin(temp[temp['Температура'].isna()==True]['key'])].index, \n",
        "    axis=0, inplace=True)\n",
        "temp.reset_index(drop=True, inplace=True)\n",
        "temp['Время замера'] = pd.to_datetime(temp['Время замера'], format='%Y-%m-%d %H:%M:%S')"
      ]
    },
    {
      "cell_type": "code",
      "execution_count": null,
      "metadata": {
        "id": "p3xnZzQmLhRz",
        "outputId": "6d6f31a2-4c9a-4c35-d478-510e6d8ba7ff"
      },
      "outputs": [
        {
          "name": "stdout",
          "output_type": "stream",
          "text": [
            "<class 'pandas.core.frame.DataFrame'>\n",
            "RangeIndex: 12267 entries, 0 to 12266\n",
            "Data columns (total 3 columns):\n",
            "key             12267 non-null int64\n",
            "Время замера    12267 non-null datetime64[ns]\n",
            "Температура     12267 non-null float64\n",
            "dtypes: datetime64[ns](1), float64(1), int64(1)\n",
            "memory usage: 287.6 KB\n"
          ]
        }
      ],
      "source": [
        "temp.info()"
      ]
    },
    {
      "cell_type": "markdown",
      "metadata": {
        "id": "e2gqMYRcLhR0"
      },
      "source": [
        "<b>Файл \"arc\". </b> <br />\n",
        "\n",
        "При помощи столбцов \"Начала нагрева дугой\" и \"Конец нагрева дугой\", получим новый признак \"Продолжительность нагрева\", который будем измерять в секундах, а после избавимся от дат начала и конца нагрева: они нам больше не нужны.\n",
        "\n",
        "<b>The file \"arc\". </b> <br />\n",
        "\n",
        "Using the columns \"Start of heating by arc\" and \"End of heating by arc\", we will get a new attribute \"Heating duration\", which will be measured in seconds, and then get rid of the start and end dates of heating: we no longer need them."
      ]
    },
    {
      "cell_type": "code",
      "execution_count": null,
      "metadata": {
        "id": "bMOw5fXWLhR1",
        "outputId": "a78d5e13-b9db-4fd0-96a7-001579ffa26a"
      },
      "outputs": [
        {
          "data": {
            "text/html": [
              "<div>\n",
              "<style scoped>\n",
              "    .dataframe tbody tr th:only-of-type {\n",
              "        vertical-align: middle;\n",
              "    }\n",
              "\n",
              "    .dataframe tbody tr th {\n",
              "        vertical-align: top;\n",
              "    }\n",
              "\n",
              "    .dataframe thead th {\n",
              "        text-align: right;\n",
              "    }\n",
              "</style>\n",
              "<table border=\"1\" class=\"dataframe\">\n",
              "  <thead>\n",
              "    <tr style=\"text-align: right;\">\n",
              "      <th></th>\n",
              "      <th>key</th>\n",
              "      <th>Начало нагрева дугой</th>\n",
              "      <th>Конец нагрева дугой</th>\n",
              "      <th>Активная мощность</th>\n",
              "      <th>Реактивная мощность</th>\n",
              "    </tr>\n",
              "  </thead>\n",
              "  <tbody>\n",
              "    <tr>\n",
              "      <td>0</td>\n",
              "      <td>1</td>\n",
              "      <td>2019-05-03 11:02:14</td>\n",
              "      <td>2019-05-03 11:06:02</td>\n",
              "      <td>0.976059</td>\n",
              "      <td>0.687084</td>\n",
              "    </tr>\n",
              "    <tr>\n",
              "      <td>1</td>\n",
              "      <td>1</td>\n",
              "      <td>2019-05-03 11:07:28</td>\n",
              "      <td>2019-05-03 11:10:33</td>\n",
              "      <td>0.805607</td>\n",
              "      <td>0.520285</td>\n",
              "    </tr>\n",
              "    <tr>\n",
              "      <td>2</td>\n",
              "      <td>1</td>\n",
              "      <td>2019-05-03 11:11:44</td>\n",
              "      <td>2019-05-03 11:14:36</td>\n",
              "      <td>0.744363</td>\n",
              "      <td>0.498805</td>\n",
              "    </tr>\n",
              "    <tr>\n",
              "      <td>3</td>\n",
              "      <td>1</td>\n",
              "      <td>2019-05-03 11:18:14</td>\n",
              "      <td>2019-05-03 11:24:19</td>\n",
              "      <td>1.659363</td>\n",
              "      <td>1.062669</td>\n",
              "    </tr>\n",
              "    <tr>\n",
              "      <td>4</td>\n",
              "      <td>1</td>\n",
              "      <td>2019-05-03 11:26:09</td>\n",
              "      <td>2019-05-03 11:28:37</td>\n",
              "      <td>0.692755</td>\n",
              "      <td>0.414397</td>\n",
              "    </tr>\n",
              "  </tbody>\n",
              "</table>\n",
              "</div>"
            ],
            "text/plain": [
              "   key Начало нагрева дугой  Конец нагрева дугой  Активная мощность  \\\n",
              "0    1  2019-05-03 11:02:14  2019-05-03 11:06:02           0.976059   \n",
              "1    1  2019-05-03 11:07:28  2019-05-03 11:10:33           0.805607   \n",
              "2    1  2019-05-03 11:11:44  2019-05-03 11:14:36           0.744363   \n",
              "3    1  2019-05-03 11:18:14  2019-05-03 11:24:19           1.659363   \n",
              "4    1  2019-05-03 11:26:09  2019-05-03 11:28:37           0.692755   \n",
              "\n",
              "   Реактивная мощность  \n",
              "0             0.687084  \n",
              "1             0.520285  \n",
              "2             0.498805  \n",
              "3             1.062669  \n",
              "4             0.414397  "
            ]
          },
          "execution_count": 15,
          "metadata": {},
          "output_type": "execute_result"
        }
      ],
      "source": [
        "arc.head()"
      ]
    },
    {
      "cell_type": "code",
      "execution_count": null,
      "metadata": {
        "id": "yjmYBWcWLhR1"
      },
      "outputs": [],
      "source": [
        "arc['Начало нагрева дугой'] = pd.to_datetime(arc['Начало нагрева дугой'], format='%Y-%m-%d %H:%M:%S')\n",
        "arc['Конец нагрева дугой'] = pd.to_datetime(arc['Конец нагрева дугой'], format='%Y-%m-%d %H:%M:%S')\n",
        "arc['Продолжительность нагрева'] = (arc['Конец нагрева дугой'] -  arc['Начало нагрева дугой']).astype('timedelta64[s]')\n",
        "arc.drop(['Начало нагрева дугой', 'Конец нагрева дугой'], axis=1, inplace=True)"
      ]
    },
    {
      "cell_type": "code",
      "execution_count": null,
      "metadata": {
        "id": "ncOZuTqQLhR2",
        "outputId": "a53ed269-f2e1-4ec8-fffd-ff3d8256402b"
      },
      "outputs": [
        {
          "name": "stdout",
          "output_type": "stream",
          "text": [
            "<class 'pandas.core.frame.DataFrame'>\n",
            "RangeIndex: 14876 entries, 0 to 14875\n",
            "Data columns (total 4 columns):\n",
            "key                          14876 non-null int64\n",
            "Активная мощность            14876 non-null float64\n",
            "Реактивная мощность          14876 non-null float64\n",
            "Продолжительность нагрева    14876 non-null float64\n",
            "dtypes: float64(3), int64(1)\n",
            "memory usage: 465.0 KB\n"
          ]
        }
      ],
      "source": [
        "arc.info()"
      ]
    },
    {
      "cell_type": "markdown",
      "metadata": {
        "id": "FZ0g4Vl7LhR3"
      },
      "source": [
        "<b>Файлы \"bulk\" и \"wire\". </b> <br />\n",
        "\n",
        "В этих файлах много пропусков, каждый из которых означает, что сыпучий и проволочный материал не добавлялся на данном этапе. Лучше всего - заполнить эти пропуски нулями."
      ]
    },
    {
      "cell_type": "markdown",
      "source": [
        "<b>The \"bulk\" and \"wire\" files. </b> <br />\n",
        "\n",
        "There are many gaps in these files, each of which means that the bulk and wire material was not added at this stage. It is best to fill in these gaps with zeros."
      ],
      "metadata": {
        "id": "slApPXdfNUp7"
      }
    },
    {
      "cell_type": "code",
      "execution_count": null,
      "metadata": {
        "id": "7msd7sfzLhR3"
      },
      "outputs": [],
      "source": [
        "bulk.fillna(0, inplace=True)\n",
        "wire.fillna(0, inplace=True)"
      ]
    },
    {
      "cell_type": "markdown",
      "metadata": {
        "id": "gq7mpG29LhR3"
      },
      "source": [
        "<b>Файлы \"gas\", \"bulk_time\" и \"wire_time\". </b> <br />\n",
        "\n",
        "С фалойм \"gas\" всё в порядке, а \"bulk_time\" и \"wire_time\" пока неподлежат обработке, хотя они содержат пропуски. Пропуски обусловлены тем, что сыпучий или проволочный метериалы не применялись, а значит и время их применения неопределено."
      ]
    },
    {
      "cell_type": "markdown",
      "source": [
        "<b>Files \"gas\", \"bulk_time\", and \"wire_time\". </b> <br />\n",
        "\n",
        "The \"gas\" file is fine, but \"bulk_time\" and \"wire_time\" are still unprocessable, although they contain gaps. The omissions are due to the fact that loose or wire materials were not used, which means that the time of their use is indefinite."
      ],
      "metadata": {
        "id": "2jAMQCiPNXSw"
      }
    },
    {
      "cell_type": "code",
      "execution_count": null,
      "metadata": {
        "id": "PYrAXBxzLhR4",
        "outputId": "62621711-b0e9-4f1f-d662-536180664023"
      },
      "outputs": [
        {
          "name": "stdout",
          "output_type": "stream",
          "text": [
            "<class 'pandas.core.frame.DataFrame'>\n",
            "RangeIndex: 3239 entries, 0 to 3238\n",
            "Data columns (total 2 columns):\n",
            "key      3239 non-null int64\n",
            "Газ 1    3239 non-null float64\n",
            "dtypes: float64(1), int64(1)\n",
            "memory usage: 50.7 KB\n"
          ]
        }
      ],
      "source": [
        "gas.info()"
      ]
    },
    {
      "cell_type": "code",
      "execution_count": null,
      "metadata": {
        "id": "8aJ2qEQcLhR4",
        "outputId": "da605235-c525-4e57-9c05-d63518ac8fc8"
      },
      "outputs": [
        {
          "name": "stdout",
          "output_type": "stream",
          "text": [
            "<class 'pandas.core.frame.DataFrame'>\n",
            "RangeIndex: 3129 entries, 0 to 3128\n",
            "Data columns (total 16 columns):\n",
            "key        3129 non-null int64\n",
            "Bulk 1     252 non-null object\n",
            "Bulk 2     22 non-null object\n",
            "Bulk 3     1298 non-null object\n",
            "Bulk 4     1014 non-null object\n",
            "Bulk 5     77 non-null object\n",
            "Bulk 6     576 non-null object\n",
            "Bulk 7     25 non-null object\n",
            "Bulk 8     1 non-null object\n",
            "Bulk 9     19 non-null object\n",
            "Bulk 10    176 non-null object\n",
            "Bulk 11    177 non-null object\n",
            "Bulk 12    2450 non-null object\n",
            "Bulk 13    18 non-null object\n",
            "Bulk 14    2806 non-null object\n",
            "Bulk 15    2248 non-null object\n",
            "dtypes: int64(1), object(15)\n",
            "memory usage: 391.2+ KB\n"
          ]
        }
      ],
      "source": [
        "bulk_time.info()"
      ]
    },
    {
      "cell_type": "code",
      "execution_count": null,
      "metadata": {
        "scrolled": true,
        "id": "OYHg6L7HLhR5",
        "outputId": "b09314eb-bf44-441c-f1d4-78fa33a96449"
      },
      "outputs": [
        {
          "name": "stdout",
          "output_type": "stream",
          "text": [
            "<class 'pandas.core.frame.DataFrame'>\n",
            "RangeIndex: 3081 entries, 0 to 3080\n",
            "Data columns (total 10 columns):\n",
            "key       3081 non-null int64\n",
            "Wire 1    3055 non-null object\n",
            "Wire 2    1079 non-null object\n",
            "Wire 3    63 non-null object\n",
            "Wire 4    14 non-null object\n",
            "Wire 5    1 non-null object\n",
            "Wire 6    73 non-null object\n",
            "Wire 7    11 non-null object\n",
            "Wire 8    19 non-null object\n",
            "Wire 9    29 non-null object\n",
            "dtypes: int64(1), object(9)\n",
            "memory usage: 240.8+ KB\n"
          ]
        }
      ],
      "source": [
        "wire_time.info()"
      ]
    },
    {
      "cell_type": "markdown",
      "metadata": {
        "id": "gizqAgCSLhR5"
      },
      "source": [
        "<a id='Step_4'></a>\n",
        "## Исследовательский анализ данных."
      ]
    },
    {
      "cell_type": "markdown",
      "source": [
        "<a id='Step_4'></a>\n",
        "## Exploratory data analysis."
      ],
      "metadata": {
        "id": "--THh_-mNeiP"
      }
    },
    {
      "cell_type": "markdown",
      "metadata": {
        "id": "eziq3132LhR6"
      },
      "source": [
        "<a id='Step_5'></a>\n",
        "### Температура."
      ]
    },
    {
      "cell_type": "markdown",
      "source": [
        "<a id='Step_5'></a>\n",
        "### Temperature."
      ],
      "metadata": {
        "id": "W-XVnzrBNhPH"
      }
    },
    {
      "cell_type": "code",
      "execution_count": null,
      "metadata": {
        "id": "yHceTyV8LhR6",
        "outputId": "c69b176a-abda-41b8-8dda-2967eea99f10"
      },
      "outputs": [
        {
          "data": {
            "text/plain": [
              "count    12267.000000\n",
              "mean      1591.999022\n",
              "std         20.833175\n",
              "min       1191.000000\n",
              "25%       1581.000000\n",
              "50%       1591.000000\n",
              "75%       1601.000000\n",
              "max       1705.000000\n",
              "Name: Температура, dtype: float64"
            ]
          },
          "execution_count": 22,
          "metadata": {},
          "output_type": "execute_result"
        }
      ],
      "source": [
        "temp['Температура'].describe()"
      ]
    },
    {
      "cell_type": "code",
      "execution_count": null,
      "metadata": {
        "id": "7tLRnFmqLhR7",
        "outputId": "1a1df9da-1255-42fd-98ce-02163ff6d3fe"
      },
      "outputs": [
        {
          "data": {
            "image/png": "[encoded data removed]",
            "text/plain": [
              "<Figure size 1224x360 with 1 Axes>"
            ]
          },
          "metadata": {
            "needs_background": "light"
          },
          "output_type": "display_data"
        }
      ],
      "source": [
        "plt.figure(figsize=(17,5))\n",
        "plt.hist(temp['Температура'], bins=30)\n",
        "plt.title(\"Распределение температуры\")\n",
        "plt.xlabel(\"Температура\")\n",
        "plt.ylabel(\"Количество наблюдений\")\n",
        "plt.show()"
      ]
    },
    {
      "cell_type": "markdown",
      "metadata": {
        "id": "j7ihtHCRLhR7"
      },
      "source": [
        "Распределение почти нормальное, если не замечать, что есть очень маленькие значения, которые даже не видны на графике. Вывыдем такие значения.\n",
        "\n",
        "The distribution is almost normal, if you do not notice that there are very small values that are not even visible on the graph. Let's extract these values.\n"
      ]
    },
    {
      "cell_type": "code",
      "execution_count": null,
      "metadata": {
        "id": "9uyroHn8LhR7",
        "outputId": "87407653-663d-4496-c1fe-ea7fafbb6bd9"
      },
      "outputs": [
        {
          "data": {
            "text/html": [
              "<div>\n",
              "<style scoped>\n",
              "    .dataframe tbody tr th:only-of-type {\n",
              "        vertical-align: middle;\n",
              "    }\n",
              "\n",
              "    .dataframe tbody tr th {\n",
              "        vertical-align: top;\n",
              "    }\n",
              "\n",
              "    .dataframe thead th {\n",
              "        text-align: right;\n",
              "    }\n",
              "</style>\n",
              "<table border=\"1\" class=\"dataframe\">\n",
              "  <thead>\n",
              "    <tr style=\"text-align: right;\">\n",
              "      <th></th>\n",
              "      <th>key</th>\n",
              "      <th>Время замера</th>\n",
              "      <th>Температура</th>\n",
              "    </tr>\n",
              "  </thead>\n",
              "  <tbody>\n",
              "    <tr>\n",
              "      <td>4350</td>\n",
              "      <td>867</td>\n",
              "      <td>2019-06-04 14:21:00</td>\n",
              "      <td>1191.0</td>\n",
              "    </tr>\n",
              "    <tr>\n",
              "      <td>5978</td>\n",
              "      <td>1214</td>\n",
              "      <td>2019-06-16 05:32:00</td>\n",
              "      <td>1208.0</td>\n",
              "    </tr>\n",
              "    <tr>\n",
              "      <td>7958</td>\n",
              "      <td>1619</td>\n",
              "      <td>2019-06-30 11:03:54</td>\n",
              "      <td>1218.0</td>\n",
              "    </tr>\n",
              "    <tr>\n",
              "      <td>8913</td>\n",
              "      <td>1818</td>\n",
              "      <td>2019-07-07 00:30:49</td>\n",
              "      <td>1383.0</td>\n",
              "    </tr>\n",
              "    <tr>\n",
              "      <td>8914</td>\n",
              "      <td>1818</td>\n",
              "      <td>2019-07-07 00:31:40</td>\n",
              "      <td>1383.0</td>\n",
              "    </tr>\n",
              "    <tr>\n",
              "      <td>10127</td>\n",
              "      <td>2052</td>\n",
              "      <td>2019-07-21 14:51:40</td>\n",
              "      <td>1227.0</td>\n",
              "    </tr>\n",
              "  </tbody>\n",
              "</table>\n",
              "</div>"
            ],
            "text/plain": [
              "        key        Время замера  Температура\n",
              "4350    867 2019-06-04 14:21:00       1191.0\n",
              "5978   1214 2019-06-16 05:32:00       1208.0\n",
              "7958   1619 2019-06-30 11:03:54       1218.0\n",
              "8913   1818 2019-07-07 00:30:49       1383.0\n",
              "8914   1818 2019-07-07 00:31:40       1383.0\n",
              "10127  2052 2019-07-21 14:51:40       1227.0"
            ]
          },
          "execution_count": 24,
          "metadata": {},
          "output_type": "execute_result"
        }
      ],
      "source": [
        "temp[temp['Температура']<1400]"
      ]
    },
    {
      "cell_type": "markdown",
      "metadata": {
        "id": "4TnSaf57LhR8"
      },
      "source": [
        "Таких значений совсем немного, они выглядят подозрительно, лучше от партий, где наблюдались такие температуры.\n",
        "\n",
        "There are very few such values, they look suspicious, better from batches where such temperatures were observed."
      ]
    },
    {
      "cell_type": "code",
      "execution_count": null,
      "metadata": {
        "id": "7rM57-7XLhR8"
      },
      "outputs": [],
      "source": [
        "temp.drop(\n",
        "    temp[temp['key'].isin(temp[temp['Температура'] < 1400]['key'])].index, \n",
        "    axis=0, inplace=True)\n",
        "temp.reset_index(drop=True, inplace=True)"
      ]
    },
    {
      "cell_type": "markdown",
      "metadata": {
        "id": "fZadXBUnLhR9"
      },
      "source": [
        "<a id='Step_6'></a>\n",
        "### Продолжительность нагрева."
      ]
    },
    {
      "cell_type": "markdown",
      "source": [
        "<a id='Step_6'></a>\n",
        "### Heating time."
      ],
      "metadata": {
        "id": "dgeBbrKVN7Kl"
      }
    },
    {
      "cell_type": "code",
      "execution_count": null,
      "metadata": {
        "id": "jeX8i8qfLhR-",
        "outputId": "0b55858f-c2a4-4888-ae22-8b47b94d1298"
      },
      "outputs": [
        {
          "data": {
            "text/plain": [
              "count    14876.000000\n",
              "mean       171.670946\n",
              "std         98.186803\n",
              "min         11.000000\n",
              "25%        107.000000\n",
              "50%        147.000000\n",
              "75%        214.000000\n",
              "max        907.000000\n",
              "Name: Продолжительность нагрева, dtype: float64"
            ]
          },
          "execution_count": 26,
          "metadata": {},
          "output_type": "execute_result"
        }
      ],
      "source": [
        "arc['Продолжительность нагрева'].describe()"
      ]
    },
    {
      "cell_type": "code",
      "execution_count": null,
      "metadata": {
        "id": "kpfXoxP1LhR-",
        "outputId": "c613e0ae-bc4b-4501-8a9e-d3b3ffb320de"
      },
      "outputs": [
        {
          "data": {
            "image/png": "[encoded data removed]",
            "text/plain": [
              "<Figure size 1224x360 with 1 Axes>"
            ]
          },
          "metadata": {
            "needs_background": "light"
          },
          "output_type": "display_data"
        }
      ],
      "source": [
        "plt.figure(figsize=(17,5))\n",
        "plt.hist(arc['Продолжительность нагрева'], bins=30)\n",
        "plt.title(\"Распределение продолжительности нагерва\")\n",
        "plt.xlabel(\"Продолжительность нагрева\")\n",
        "plt.ylabel(\"Количество наблюдений\")\n",
        "plt.show()"
      ]
    },
    {
      "cell_type": "markdown",
      "metadata": {
        "id": "Ku5vb2rvLhR_"
      },
      "source": [
        "Распределение продолжительности нагерва скошенно вправо. Мы также можем заметить необычно большие значения."
      ]
    },
    {
      "cell_type": "markdown",
      "source": [
        "The heating time distribution is skewed to the right. We may also notice unusually large values."
      ],
      "metadata": {
        "id": "FIj9fXmYN-sV"
      }
    },
    {
      "cell_type": "markdown",
      "metadata": {
        "id": "Qm84U98ALhR_"
      },
      "source": [
        "<a id='Step_7'></a>\n",
        "### Активная мощность."
      ]
    },
    {
      "cell_type": "markdown",
      "source": [
        "<a id='Step_7'></a>\n",
        "### Active power."
      ],
      "metadata": {
        "id": "Ivmkv50ROIvD"
      }
    },
    {
      "cell_type": "code",
      "execution_count": null,
      "metadata": {
        "id": "isER21NdLhR_",
        "outputId": "2b0639ba-a437-4813-e3bc-7cb9377e0ef0"
      },
      "outputs": [
        {
          "data": {
            "text/plain": [
              "count    14876.000000\n",
              "mean         0.670441\n",
              "std          0.408159\n",
              "min          0.030002\n",
              "25%          0.395297\n",
              "50%          0.555517\n",
              "75%          0.857034\n",
              "max          3.731596\n",
              "Name: Активная мощность, dtype: float64"
            ]
          },
          "execution_count": 28,
          "metadata": {},
          "output_type": "execute_result"
        }
      ],
      "source": [
        "arc['Активная мощность'].describe()"
      ]
    },
    {
      "cell_type": "code",
      "execution_count": null,
      "metadata": {
        "id": "ocey0F36LhSA",
        "outputId": "320165bf-ff5f-47e2-bd33-4040e79f0e99"
      },
      "outputs": [
        {
          "data": {
            "image/png": "[encoded data removed]",
            "text/plain": [
              "<Figure size 1224x360 with 1 Axes>"
            ]
          },
          "metadata": {
            "needs_background": "light"
          },
          "output_type": "display_data"
        }
      ],
      "source": [
        "plt.figure(figsize=(17,5))\n",
        "plt.hist(arc['Активная мощность'], bins=30)\n",
        "plt.title(\"Распределение активной мощности\")\n",
        "plt.xlabel(\"Активная мощность\")\n",
        "plt.ylabel(\"Количество наблюдений\")\n",
        "plt.show()"
      ]
    },
    {
      "cell_type": "markdown",
      "metadata": {
        "id": "pERAQv0SLhSA"
      },
      "source": [
        "Распредление активной мощности очень похоже на распределние продолжительности нагрева. Это наводит на мысль, что они коррелированы. Проверим.\n",
        "\n",
        "The active power distribution is very similar to the heating duration distribution. This suggests that they are correlated. Let's check."
      ]
    },
    {
      "cell_type": "code",
      "execution_count": null,
      "metadata": {
        "id": "rdaqW2UiLhSB",
        "outputId": "c5d8c5b0-9584-4c1c-e4c8-8ada96f59deb"
      },
      "outputs": [
        {
          "name": "stdout",
          "output_type": "stream",
          "text": [
            "0.9741284657159849\n"
          ]
        },
        {
          "data": {
            "image/png": "[encoded data removed]",
            "text/plain": [
              "<Figure size 576x432 with 2 Axes>"
            ]
          },
          "metadata": {
            "needs_background": "light"
          },
          "output_type": "display_data"
        }
      ],
      "source": [
        "print(arc['Продолжительность нагрева'].corr(arc['Активная мощность']))\n",
        "arc.plot(x='Активная мощность', y='Продолжительность нагрева', kind='hexbin', gridsize=20, figsize=(8, 6), \n",
        "         sharex=False, grid=True)\n",
        "plt.title(\"Корреляция между активной мощностью и продолжительностью нагрева\")\n",
        "plt.show()"
      ]
    },
    {
      "cell_type": "markdown",
      "metadata": {
        "id": "H-fC828sLhSB"
      },
      "source": [
        "Выявлена сильная линейная зависимость между активной мощностью и продолжительностью нагрева.\n",
        "\n",
        "A strong linear relationship between active power and heating duration is revealed."
      ]
    },
    {
      "cell_type": "markdown",
      "metadata": {
        "id": "LrwTb0kCLhSC"
      },
      "source": [
        "<a id='Step_8'></a>\n",
        "### Реактивная мощность."
      ]
    },
    {
      "cell_type": "code",
      "execution_count": null,
      "metadata": {
        "id": "woc2fxatLhSC",
        "outputId": "141caebd-0ed8-414f-cc64-eaf7d0162519"
      },
      "outputs": [
        {
          "data": {
            "text/plain": [
              "count    14876.000000\n",
              "mean         0.452592\n",
              "std          5.878702\n",
              "min       -715.504924\n",
              "25%          0.290991\n",
              "50%          0.415962\n",
              "75%          0.637371\n",
              "max          2.676388\n",
              "Name: Реактивная мощность, dtype: float64"
            ]
          },
          "execution_count": 31,
          "metadata": {},
          "output_type": "execute_result"
        }
      ],
      "source": [
        "arc['Реактивная мощность'].describe()"
      ]
    },
    {
      "cell_type": "markdown",
      "metadata": {
        "id": "lDWkKgnALhSC"
      },
      "source": [
        "Здесь явно видна аномалия - отрицательное значение, удалим его.\n",
        "\n",
        "An anomaly is clearly visible here - a negative value, let's remove it."
      ]
    },
    {
      "cell_type": "code",
      "execution_count": null,
      "metadata": {
        "id": "fayQ7gqELhSD"
      },
      "outputs": [],
      "source": [
        "arc.drop(arc[arc['Реактивная мощность']<0].index, axis=0, inplace=True)\n",
        "arc.reset_index(inplace=True, drop=True)"
      ]
    },
    {
      "cell_type": "code",
      "execution_count": null,
      "metadata": {
        "id": "UMHhEkmJLhSD",
        "outputId": "4bbe5e7e-eee5-476f-a88b-52d506c9684f"
      },
      "outputs": [
        {
          "data": {
            "image/png": "[encoded data removed]",
            "text/plain": [
              "<Figure size 1224x360 with 1 Axes>"
            ]
          },
          "metadata": {
            "needs_background": "light"
          },
          "output_type": "display_data"
        }
      ],
      "source": [
        "plt.figure(figsize=(17,5))\n",
        "plt.hist(arc['Реактивная мощность'], bins=30)\n",
        "plt.title(\"Распределение реактивной мощности\")\n",
        "plt.xlabel(\"Реактивная мощность\")\n",
        "plt.ylabel(\"Количество наблюдений\")\n",
        "plt.show()"
      ]
    },
    {
      "cell_type": "markdown",
      "metadata": {
        "id": "lt6tE412LhSE"
      },
      "source": [
        "И снова мы видим похожие на предыдущие два распределение. Проверим корреляцию с продолжитеностью нагрева.\n",
        "\n",
        "And again we see distributions similar to the previous two. Let's check the correlation with the duration of heating."
      ]
    },
    {
      "cell_type": "code",
      "execution_count": null,
      "metadata": {
        "id": "dLmGvKLtLhSE",
        "outputId": "d6f92f56-7363-418a-b903-a6eb1deeeda3"
      },
      "outputs": [
        {
          "name": "stdout",
          "output_type": "stream",
          "text": [
            "0.9712688304411924\n"
          ]
        },
        {
          "data": {
            "image/png": "[encoded data removed]",
            "text/plain": [
              "<Figure size 576x432 with 2 Axes>"
            ]
          },
          "metadata": {
            "needs_background": "light"
          },
          "output_type": "display_data"
        }
      ],
      "source": [
        "print(arc['Продолжительность нагрева'].corr(arc['Реактивная мощность']))\n",
        "arc.plot(x='Реактивная мощность', y='Продолжительность нагрева', kind='hexbin', gridsize=20, figsize=(8, 6), \n",
        "         sharex=False, grid=True) \n",
        "plt.title(\"Корреляция между реактивной мощностью и продолжительностью нагрева\")\n",
        "plt.show()"
      ]
    },
    {
      "cell_type": "markdown",
      "metadata": {
        "id": "Jk9qGiD4LhSE"
      },
      "source": [
        "Выявлена сильная корреляция между реактивной мощностью и продолжительностью нагрева.\n",
        "\n",
        "A strong correlation was found between reactive power and heating time."
      ]
    },
    {
      "cell_type": "markdown",
      "metadata": {
        "id": "41Anh9RaLhSF"
      },
      "source": [
        "<b>Вывод. </b> <br />\n",
        "- Среднее значение температуры: 1591.84.\n",
        "- Продолжительность нагрева, активная и рекативная мощности коррелированны друг с другом.\n",
        "\n",
        "<b>Conclusion. </b> <br />\n",
        "- Average temperature value: 1591.84.\n",
        "- The duration of heating, active and reactive power are correlated with each other."
      ]
    },
    {
      "cell_type": "markdown",
      "metadata": {
        "id": "2f8LtJVZLhSF"
      },
      "source": [
        " Для выполнения работы были выполнены следующие преобразования:\n",
        " - удалены партии содержащие пустые и не превышащие 1500 грудсов значения температуры;\n",
        " - создан новый признак \"Продолжительность нагрева\";\n",
        "  - удалена аномалия (отрицательное значение) в реактивной мощности;\n",
        " - пустые значения сыпучих и проволчных материалов заменены на нули.\n",
        "\n",
        "To perform the work, the following transformations were performed:\n",
        "  - removed batches containing empty and not exceeding 1500 grouds temperature values;\n",
        "  - a new attribute \"Heating duration\" has been created;\n",
        "   - removed anomaly (negative value) in reactive power;\n",
        "  - empty values of bulk and wire materials are replaced by zeros."
      ]
    },
    {
      "cell_type": "markdown",
      "metadata": {
        "id": "rWV_vREYLhSG"
      },
      "source": [
        "<a id='Step_9'></a>\n",
        "## Создание дополнительных признаков и объединение таблиц."
      ]
    },
    {
      "cell_type": "markdown",
      "source": [
        "<a id='Step_9'></a>\n",
        "## Create additional features and merge tables."
      ],
      "metadata": {
        "id": "_eQRVsTOOsE1"
      }
    },
    {
      "cell_type": "markdown",
      "metadata": {
        "id": "wNuwipwYLhSG"
      },
      "source": [
        "Теперь, когда данные очищены и проанализированы, соберем датасет, в который включим, нужные для построения, параметры. После согласования было решено использовать последнюю дату замера температуры для каждой партии в качестве целевой переменной."
      ]
    },
    {
      "cell_type": "markdown",
      "source": [
        "Now that the data has been cleaned and analyzed, let's collect the dataset, in which we will include the parameters necessary for construction. After agreement, it was decided to use the last temperature measurement date for each batch as the target variable."
      ],
      "metadata": {
        "id": "inbxa5O-OvUV"
      }
    },
    {
      "cell_type": "markdown",
      "metadata": {
        "id": "EsmXwRrYLhSG"
      },
      "source": [
        "<a id='Step_10'></a>\n",
        "### Температуры."
      ]
    },
    {
      "cell_type": "markdown",
      "source": [
        "<a id='Step_10'></a>\n",
        "### Temperatures."
      ],
      "metadata": {
        "id": "RLam821COyqU"
      }
    },
    {
      "cell_type": "markdown",
      "metadata": {
        "id": "0AYPuNT4LhSH"
      },
      "source": [
        "Создадим таблицу с целевой переменной - последняя зафиксированная температура для каждой партии.\n",
        "\n",
        "Let's create a table with the target variable - the last recorded temperature for each batch."
      ]
    },
    {
      "cell_type": "code",
      "execution_count": null,
      "metadata": {
        "id": "SCVJ8BgWLhSH"
      },
      "outputs": [],
      "source": [
        "temp_last = temp.pivot_table(index='key', values='Время замера', aggfunc='max').merge(temp, on=['key', 'Время замера'])\n",
        "temp_last.drop('Время замера', axis=1, inplace=True)\n",
        "temp_last.rename(columns={'Температура':\"Последняя температура\"}, inplace=True)"
      ]
    },
    {
      "cell_type": "code",
      "execution_count": null,
      "metadata": {
        "scrolled": false,
        "id": "RP1386rJLhSH",
        "outputId": "afd74200-de1c-4392-e36c-124e26abdb46"
      },
      "outputs": [
        {
          "data": {
            "text/html": [
              "<div>\n",
              "<style scoped>\n",
              "    .dataframe tbody tr th:only-of-type {\n",
              "        vertical-align: middle;\n",
              "    }\n",
              "\n",
              "    .dataframe tbody tr th {\n",
              "        vertical-align: top;\n",
              "    }\n",
              "\n",
              "    .dataframe thead th {\n",
              "        text-align: right;\n",
              "    }\n",
              "</style>\n",
              "<table border=\"1\" class=\"dataframe\">\n",
              "  <thead>\n",
              "    <tr style=\"text-align: right;\">\n",
              "      <th></th>\n",
              "      <th>key</th>\n",
              "      <th>Последняя температура</th>\n",
              "    </tr>\n",
              "  </thead>\n",
              "  <tbody>\n",
              "    <tr>\n",
              "      <td>0</td>\n",
              "      <td>1</td>\n",
              "      <td>1613.0</td>\n",
              "    </tr>\n",
              "    <tr>\n",
              "      <td>1</td>\n",
              "      <td>2</td>\n",
              "      <td>1602.0</td>\n",
              "    </tr>\n",
              "    <tr>\n",
              "      <td>2</td>\n",
              "      <td>3</td>\n",
              "      <td>1599.0</td>\n",
              "    </tr>\n",
              "    <tr>\n",
              "      <td>3</td>\n",
              "      <td>4</td>\n",
              "      <td>1625.0</td>\n",
              "    </tr>\n",
              "    <tr>\n",
              "      <td>4</td>\n",
              "      <td>5</td>\n",
              "      <td>1602.0</td>\n",
              "    </tr>\n",
              "  </tbody>\n",
              "</table>\n",
              "</div>"
            ],
            "text/plain": [
              "   key  Последняя температура\n",
              "0    1                 1613.0\n",
              "1    2                 1602.0\n",
              "2    3                 1599.0\n",
              "3    4                 1625.0\n",
              "4    5                 1602.0"
            ]
          },
          "execution_count": 36,
          "metadata": {},
          "output_type": "execute_result"
        }
      ],
      "source": [
        "temp_last.head()"
      ]
    },
    {
      "cell_type": "markdown",
      "metadata": {
        "id": "4JP5WWNSLhSI"
      },
      "source": [
        "Создадим переменную, в которой будет хранится первое наблюдение температуры.\n",
        "\n",
        "Let's create a variable that will store the first temperature observation."
      ]
    },
    {
      "cell_type": "code",
      "execution_count": null,
      "metadata": {
        "id": "t0908a1qLhSI"
      },
      "outputs": [],
      "source": [
        "temp_first = temp.pivot_table(index='key', values='Время замера', aggfunc='min').merge(temp, on=['key', 'Время замера'])\n",
        "temp_first.drop('Время замера', axis=1, inplace=True)\n",
        "temp_first.rename(columns={'Температура':\"Первая температура\"}, inplace=True)"
      ]
    },
    {
      "cell_type": "code",
      "execution_count": null,
      "metadata": {
        "id": "AScrkKU_LhSI",
        "outputId": "8e660eb0-baca-44a0-ac86-aa7c8cd02eea"
      },
      "outputs": [
        {
          "data": {
            "text/html": [
              "<div>\n",
              "<style scoped>\n",
              "    .dataframe tbody tr th:only-of-type {\n",
              "        vertical-align: middle;\n",
              "    }\n",
              "\n",
              "    .dataframe tbody tr th {\n",
              "        vertical-align: top;\n",
              "    }\n",
              "\n",
              "    .dataframe thead th {\n",
              "        text-align: right;\n",
              "    }\n",
              "</style>\n",
              "<table border=\"1\" class=\"dataframe\">\n",
              "  <thead>\n",
              "    <tr style=\"text-align: right;\">\n",
              "      <th></th>\n",
              "      <th>key</th>\n",
              "      <th>Первая температура</th>\n",
              "    </tr>\n",
              "  </thead>\n",
              "  <tbody>\n",
              "    <tr>\n",
              "      <td>0</td>\n",
              "      <td>1</td>\n",
              "      <td>1571.0</td>\n",
              "    </tr>\n",
              "    <tr>\n",
              "      <td>1</td>\n",
              "      <td>2</td>\n",
              "      <td>1581.0</td>\n",
              "    </tr>\n",
              "    <tr>\n",
              "      <td>2</td>\n",
              "      <td>3</td>\n",
              "      <td>1596.0</td>\n",
              "    </tr>\n",
              "    <tr>\n",
              "      <td>3</td>\n",
              "      <td>4</td>\n",
              "      <td>1601.0</td>\n",
              "    </tr>\n",
              "    <tr>\n",
              "      <td>4</td>\n",
              "      <td>5</td>\n",
              "      <td>1576.0</td>\n",
              "    </tr>\n",
              "  </tbody>\n",
              "</table>\n",
              "</div>"
            ],
            "text/plain": [
              "   key  Первая температура\n",
              "0    1              1571.0\n",
              "1    2              1581.0\n",
              "2    3              1596.0\n",
              "3    4              1601.0\n",
              "4    5              1576.0"
            ]
          },
          "execution_count": 38,
          "metadata": {},
          "output_type": "execute_result"
        }
      ],
      "source": [
        "temp_first.head()"
      ]
    },
    {
      "cell_type": "markdown",
      "metadata": {
        "id": "fBzn6nCoLhSJ"
      },
      "source": [
        "Создадим переменную, в которой будем хранить время между первым и последним замером температуры.\n",
        "\n",
        "Let's create a variable in which we will store the time between the first and last temperature measurement."
      ]
    },
    {
      "cell_type": "code",
      "execution_count": null,
      "metadata": {
        "id": "RR1b1tYpLhSJ"
      },
      "outputs": [],
      "source": [
        "temp_pivot_max = temp.pivot_table(index='key', values='Время замера', aggfunc='max')\\\n",
        ".merge(temp, on=['key', 'Время замера'])[['key', 'Время замера']]\n",
        "temp_pivot_min = temp.pivot_table( index='key', values='Время замера', aggfunc='min')\\\n",
        ".merge(temp, on=['key', 'Время замера'])[['key', 'Время замера']]\n",
        "temp_tbm = temp_pivot_max.merge(temp_pivot_min, on='key')\n",
        "temp_tbm['Time between measurements'] = (temp_tbm['Время замера_x'] - temp_tbm['Время замера_y']).astype('timedelta64[m]')\n",
        "temp_tbm.drop(['Время замера_x', 'Время замера_y'], axis=1, inplace=True)"
      ]
    },
    {
      "cell_type": "code",
      "execution_count": null,
      "metadata": {
        "id": "nr31t80MLhSJ",
        "outputId": "644c5f14-090f-43cb-8e40-ea836117e8eb"
      },
      "outputs": [
        {
          "data": {
            "text/html": [
              "<div>\n",
              "<style scoped>\n",
              "    .dataframe tbody tr th:only-of-type {\n",
              "        vertical-align: middle;\n",
              "    }\n",
              "\n",
              "    .dataframe tbody tr th {\n",
              "        vertical-align: top;\n",
              "    }\n",
              "\n",
              "    .dataframe thead th {\n",
              "        text-align: right;\n",
              "    }\n",
              "</style>\n",
              "<table border=\"1\" class=\"dataframe\">\n",
              "  <thead>\n",
              "    <tr style=\"text-align: right;\">\n",
              "      <th></th>\n",
              "      <th>key</th>\n",
              "      <th>Time between measurements</th>\n",
              "    </tr>\n",
              "  </thead>\n",
              "  <tbody>\n",
              "    <tr>\n",
              "      <td>0</td>\n",
              "      <td>1</td>\n",
              "      <td>14.0</td>\n",
              "    </tr>\n",
              "    <tr>\n",
              "      <td>1</td>\n",
              "      <td>2</td>\n",
              "      <td>21.0</td>\n",
              "    </tr>\n",
              "    <tr>\n",
              "      <td>2</td>\n",
              "      <td>3</td>\n",
              "      <td>21.0</td>\n",
              "    </tr>\n",
              "    <tr>\n",
              "      <td>3</td>\n",
              "      <td>4</td>\n",
              "      <td>6.0</td>\n",
              "    </tr>\n",
              "    <tr>\n",
              "      <td>4</td>\n",
              "      <td>5</td>\n",
              "      <td>12.0</td>\n",
              "    </tr>\n",
              "  </tbody>\n",
              "</table>\n",
              "</div>"
            ],
            "text/plain": [
              "   key  Time between measurements\n",
              "0    1                       14.0\n",
              "1    2                       21.0\n",
              "2    3                       21.0\n",
              "3    4                        6.0\n",
              "4    5                       12.0"
            ]
          },
          "execution_count": 40,
          "metadata": {},
          "output_type": "execute_result"
        }
      ],
      "source": [
        "temp_tbm.head()"
      ]
    },
    {
      "cell_type": "markdown",
      "metadata": {
        "id": "HNZLyTmzLhSK"
      },
      "source": [
        "<a id='Step_11'></a>\n",
        "### Нагревы."
      ]
    },
    {
      "cell_type": "markdown",
      "source": [
        "<a id='Step_11'></a>\n",
        "### Heating."
      ],
      "metadata": {
        "id": "QwU8K_71PHTI"
      }
    },
    {
      "cell_type": "markdown",
      "metadata": {
        "id": "ZUYw0T13LhSK"
      },
      "source": [
        "Создадим переменную, в которой будет хранится количество нагревов стали и удалим те партии, где нагрев был всего один, так как если этого не сделать, то мы получим утечку данных.\n",
        "\n",
        "Let's create a variable that will store the number of steel heatings and delete those batches where there was only one heating, because if this is not done, then we will get a data leak."
      ]
    },
    {
      "cell_type": "code",
      "execution_count": null,
      "metadata": {
        "id": "2_vqUAFgLhSK"
      },
      "outputs": [],
      "source": [
        "arc_count = arc.pivot_table(index='key', values='Активная мощность', aggfunc='count')\n",
        "arc_count.rename(columns={'Активная мощность':'Кол-во нагревов'}, inplace=True)"
      ]
    },
    {
      "cell_type": "code",
      "execution_count": null,
      "metadata": {
        "scrolled": true,
        "id": "dqcjDKnFLhSL"
      },
      "outputs": [],
      "source": [
        "arc_count.drop((arc_count[arc_count['Кол-во нагревов'] == 1]).index,axis=0,inplace=True)"
      ]
    },
    {
      "cell_type": "code",
      "execution_count": null,
      "metadata": {
        "scrolled": false,
        "id": "5-_81-fQLhSL",
        "outputId": "2fddfdcd-4b1b-46cf-c10c-9ee9e37a8cdc"
      },
      "outputs": [
        {
          "data": {
            "text/html": [
              "<div>\n",
              "<style scoped>\n",
              "    .dataframe tbody tr th:only-of-type {\n",
              "        vertical-align: middle;\n",
              "    }\n",
              "\n",
              "    .dataframe tbody tr th {\n",
              "        vertical-align: top;\n",
              "    }\n",
              "\n",
              "    .dataframe thead th {\n",
              "        text-align: right;\n",
              "    }\n",
              "</style>\n",
              "<table border=\"1\" class=\"dataframe\">\n",
              "  <thead>\n",
              "    <tr style=\"text-align: right;\">\n",
              "      <th></th>\n",
              "      <th>Кол-во нагревов</th>\n",
              "    </tr>\n",
              "    <tr>\n",
              "      <th>key</th>\n",
              "      <th></th>\n",
              "    </tr>\n",
              "  </thead>\n",
              "  <tbody>\n",
              "    <tr>\n",
              "      <td>1</td>\n",
              "      <td>5</td>\n",
              "    </tr>\n",
              "    <tr>\n",
              "      <td>2</td>\n",
              "      <td>4</td>\n",
              "    </tr>\n",
              "    <tr>\n",
              "      <td>3</td>\n",
              "      <td>5</td>\n",
              "    </tr>\n",
              "    <tr>\n",
              "      <td>4</td>\n",
              "      <td>4</td>\n",
              "    </tr>\n",
              "    <tr>\n",
              "      <td>5</td>\n",
              "      <td>4</td>\n",
              "    </tr>\n",
              "  </tbody>\n",
              "</table>\n",
              "</div>"
            ],
            "text/plain": [
              "     Кол-во нагревов\n",
              "key                 \n",
              "1                  5\n",
              "2                  4\n",
              "3                  5\n",
              "4                  4\n",
              "5                  4"
            ]
          },
          "execution_count": 43,
          "metadata": {},
          "output_type": "execute_result"
        }
      ],
      "source": [
        "arc_count.head()"
      ]
    },
    {
      "cell_type": "markdown",
      "metadata": {
        "id": "4PCdSLT7LhSL"
      },
      "source": [
        "На пердыдущем шаге нам удалось выяснить, что продолжительность нагрева, активная мощность и реактивная мощность имеют сильную корреляцию между собой. При построении моделей, это может привести к мультиколлениарности, а это плохо отразится на качестве моделей. На согласовании был получен ответ, что все три величины физически взаимосвязанны и поэтому мы воспользуемся формулой полной мощности и после удалим продложительность нагрева, активную и реактивную мощности.\n",
        "\n",
        "In the previous step, we managed to find out that the duration of heating, active power and reactive power have a strong correlation with each other. When building models, this can lead to multicolleniarity, and this will have a bad effect on the quality of the models. At the agreement, the answer was received that all three quantities are physically interconnected and therefore we will use the total power formula and then remove the heating duration, active and reactive power."
      ]
    },
    {
      "cell_type": "code",
      "execution_count": null,
      "metadata": {
        "id": "8dCbnJEjLhSL"
      },
      "outputs": [],
      "source": [
        "arc_power_sum = arc.pivot_table(index='key', \n",
        "                                values=['Активная мощность', 'Реактивная мощность', 'Продолжительность нагрева'], aggfunc='sum')\n",
        "arc_power_sum['Полная мощность'] =((arc_power_sum['Активная мощность'] ) ** 2 \n",
        "                                   + arc_power_sum['Реактивная мощность'] ** 2) ** 0.5\n",
        "arc_power_sum.drop(['Активная мощность', 'Реактивная мощность', 'Продолжительность нагрева'], axis=1,inplace=True)"
      ]
    },
    {
      "cell_type": "code",
      "execution_count": null,
      "metadata": {
        "scrolled": false,
        "id": "GMcJNbaCLhSM",
        "outputId": "6a837691-6bdb-46c3-f3c3-e8f51ac838bb"
      },
      "outputs": [
        {
          "data": {
            "text/html": [
              "<div>\n",
              "<style scoped>\n",
              "    .dataframe tbody tr th:only-of-type {\n",
              "        vertical-align: middle;\n",
              "    }\n",
              "\n",
              "    .dataframe tbody tr th {\n",
              "        vertical-align: top;\n",
              "    }\n",
              "\n",
              "    .dataframe thead th {\n",
              "        text-align: right;\n",
              "    }\n",
              "</style>\n",
              "<table border=\"1\" class=\"dataframe\">\n",
              "  <thead>\n",
              "    <tr style=\"text-align: right;\">\n",
              "      <th></th>\n",
              "      <th>Полная мощность</th>\n",
              "    </tr>\n",
              "    <tr>\n",
              "      <th>key</th>\n",
              "      <th></th>\n",
              "    </tr>\n",
              "  </thead>\n",
              "  <tbody>\n",
              "    <tr>\n",
              "      <td>1</td>\n",
              "      <td>5.824889</td>\n",
              "    </tr>\n",
              "    <tr>\n",
              "      <td>2</td>\n",
              "      <td>3.648398</td>\n",
              "    </tr>\n",
              "    <tr>\n",
              "      <td>3</td>\n",
              "      <td>2.989502</td>\n",
              "    </tr>\n",
              "    <tr>\n",
              "      <td>4</td>\n",
              "      <td>3.813674</td>\n",
              "    </tr>\n",
              "    <tr>\n",
              "      <td>5</td>\n",
              "      <td>4.034596</td>\n",
              "    </tr>\n",
              "  </tbody>\n",
              "</table>\n",
              "</div>"
            ],
            "text/plain": [
              "     Полная мощность\n",
              "key                 \n",
              "1           5.824889\n",
              "2           3.648398\n",
              "3           2.989502\n",
              "4           3.813674\n",
              "5           4.034596"
            ]
          },
          "execution_count": 45,
          "metadata": {},
          "output_type": "execute_result"
        }
      ],
      "source": [
        "arc_power_sum.head()"
      ]
    },
    {
      "cell_type": "markdown",
      "metadata": {
        "id": "zJ2qnJ2ALhSM"
      },
      "source": [
        "<a id='Step_12'></a>\n",
        "### Легирующие материалы."
      ]
    },
    {
      "cell_type": "markdown",
      "source": [
        "<a id='Step_12'></a>\n",
        "### Alloying materials."
      ],
      "metadata": {
        "id": "Z_Em4I5iP_Eu"
      }
    },
    {
      "cell_type": "markdown",
      "metadata": {
        "id": "U0qgt0vCLhSN"
      },
      "source": [
        "Создадим переменные, в которых будут хранится объемы легирующих материалов.\n",
        "\n",
        "Let's create variables that will store the volumes of alloying materials."
      ]
    },
    {
      "cell_type": "code",
      "execution_count": null,
      "metadata": {
        "id": "_8F-5L23LhSN"
      },
      "outputs": [],
      "source": [
        "bulk_all_sum = bulk.pivot_table(index='key', values=bulk.columns, aggfunc='sum')\n",
        "wire_all_sum = wire.pivot_table(index='key', values=wire.columns, aggfunc='sum')"
      ]
    },
    {
      "cell_type": "code",
      "execution_count": null,
      "metadata": {
        "id": "6MADGr2LLhSN",
        "outputId": "abbc29d6-d078-476c-f67d-b33aea69affc"
      },
      "outputs": [
        {
          "data": {
            "text/html": [
              "<div>\n",
              "<style scoped>\n",
              "    .dataframe tbody tr th:only-of-type {\n",
              "        vertical-align: middle;\n",
              "    }\n",
              "\n",
              "    .dataframe tbody tr th {\n",
              "        vertical-align: top;\n",
              "    }\n",
              "\n",
              "    .dataframe thead th {\n",
              "        text-align: right;\n",
              "    }\n",
              "</style>\n",
              "<table border=\"1\" class=\"dataframe\">\n",
              "  <thead>\n",
              "    <tr style=\"text-align: right;\">\n",
              "      <th></th>\n",
              "      <th>Bulk 1</th>\n",
              "      <th>Bulk 10</th>\n",
              "      <th>Bulk 11</th>\n",
              "      <th>Bulk 12</th>\n",
              "      <th>Bulk 13</th>\n",
              "      <th>Bulk 14</th>\n",
              "      <th>Bulk 15</th>\n",
              "      <th>Bulk 2</th>\n",
              "      <th>Bulk 3</th>\n",
              "      <th>Bulk 4</th>\n",
              "      <th>Bulk 5</th>\n",
              "      <th>Bulk 6</th>\n",
              "      <th>Bulk 7</th>\n",
              "      <th>Bulk 8</th>\n",
              "      <th>Bulk 9</th>\n",
              "    </tr>\n",
              "    <tr>\n",
              "      <th>key</th>\n",
              "      <th></th>\n",
              "      <th></th>\n",
              "      <th></th>\n",
              "      <th></th>\n",
              "      <th></th>\n",
              "      <th></th>\n",
              "      <th></th>\n",
              "      <th></th>\n",
              "      <th></th>\n",
              "      <th></th>\n",
              "      <th></th>\n",
              "      <th></th>\n",
              "      <th></th>\n",
              "      <th></th>\n",
              "      <th></th>\n",
              "    </tr>\n",
              "  </thead>\n",
              "  <tbody>\n",
              "    <tr>\n",
              "      <td>1</td>\n",
              "      <td>0.0</td>\n",
              "      <td>0.0</td>\n",
              "      <td>0.0</td>\n",
              "      <td>206.0</td>\n",
              "      <td>0.0</td>\n",
              "      <td>150.0</td>\n",
              "      <td>154.0</td>\n",
              "      <td>0.0</td>\n",
              "      <td>0.0</td>\n",
              "      <td>43.0</td>\n",
              "      <td>0.0</td>\n",
              "      <td>0.0</td>\n",
              "      <td>0.0</td>\n",
              "      <td>0.0</td>\n",
              "      <td>0.0</td>\n",
              "    </tr>\n",
              "    <tr>\n",
              "      <td>2</td>\n",
              "      <td>0.0</td>\n",
              "      <td>0.0</td>\n",
              "      <td>0.0</td>\n",
              "      <td>206.0</td>\n",
              "      <td>0.0</td>\n",
              "      <td>149.0</td>\n",
              "      <td>154.0</td>\n",
              "      <td>0.0</td>\n",
              "      <td>0.0</td>\n",
              "      <td>73.0</td>\n",
              "      <td>0.0</td>\n",
              "      <td>0.0</td>\n",
              "      <td>0.0</td>\n",
              "      <td>0.0</td>\n",
              "      <td>0.0</td>\n",
              "    </tr>\n",
              "    <tr>\n",
              "      <td>3</td>\n",
              "      <td>0.0</td>\n",
              "      <td>0.0</td>\n",
              "      <td>0.0</td>\n",
              "      <td>205.0</td>\n",
              "      <td>0.0</td>\n",
              "      <td>152.0</td>\n",
              "      <td>153.0</td>\n",
              "      <td>0.0</td>\n",
              "      <td>0.0</td>\n",
              "      <td>34.0</td>\n",
              "      <td>0.0</td>\n",
              "      <td>0.0</td>\n",
              "      <td>0.0</td>\n",
              "      <td>0.0</td>\n",
              "      <td>0.0</td>\n",
              "    </tr>\n",
              "    <tr>\n",
              "      <td>4</td>\n",
              "      <td>0.0</td>\n",
              "      <td>0.0</td>\n",
              "      <td>0.0</td>\n",
              "      <td>207.0</td>\n",
              "      <td>0.0</td>\n",
              "      <td>153.0</td>\n",
              "      <td>154.0</td>\n",
              "      <td>0.0</td>\n",
              "      <td>0.0</td>\n",
              "      <td>81.0</td>\n",
              "      <td>0.0</td>\n",
              "      <td>0.0</td>\n",
              "      <td>0.0</td>\n",
              "      <td>0.0</td>\n",
              "      <td>0.0</td>\n",
              "    </tr>\n",
              "    <tr>\n",
              "      <td>5</td>\n",
              "      <td>0.0</td>\n",
              "      <td>0.0</td>\n",
              "      <td>0.0</td>\n",
              "      <td>203.0</td>\n",
              "      <td>0.0</td>\n",
              "      <td>151.0</td>\n",
              "      <td>152.0</td>\n",
              "      <td>0.0</td>\n",
              "      <td>0.0</td>\n",
              "      <td>78.0</td>\n",
              "      <td>0.0</td>\n",
              "      <td>0.0</td>\n",
              "      <td>0.0</td>\n",
              "      <td>0.0</td>\n",
              "      <td>0.0</td>\n",
              "    </tr>\n",
              "  </tbody>\n",
              "</table>\n",
              "</div>"
            ],
            "text/plain": [
              "     Bulk 1  Bulk 10  Bulk 11  Bulk 12  Bulk 13  Bulk 14  Bulk 15  Bulk 2  \\\n",
              "key                                                                         \n",
              "1       0.0      0.0      0.0    206.0      0.0    150.0    154.0     0.0   \n",
              "2       0.0      0.0      0.0    206.0      0.0    149.0    154.0     0.0   \n",
              "3       0.0      0.0      0.0    205.0      0.0    152.0    153.0     0.0   \n",
              "4       0.0      0.0      0.0    207.0      0.0    153.0    154.0     0.0   \n",
              "5       0.0      0.0      0.0    203.0      0.0    151.0    152.0     0.0   \n",
              "\n",
              "     Bulk 3  Bulk 4  Bulk 5  Bulk 6  Bulk 7  Bulk 8  Bulk 9  \n",
              "key                                                          \n",
              "1       0.0    43.0     0.0     0.0     0.0     0.0     0.0  \n",
              "2       0.0    73.0     0.0     0.0     0.0     0.0     0.0  \n",
              "3       0.0    34.0     0.0     0.0     0.0     0.0     0.0  \n",
              "4       0.0    81.0     0.0     0.0     0.0     0.0     0.0  \n",
              "5       0.0    78.0     0.0     0.0     0.0     0.0     0.0  "
            ]
          },
          "execution_count": 47,
          "metadata": {},
          "output_type": "execute_result"
        }
      ],
      "source": [
        "bulk_all_sum.head()"
      ]
    },
    {
      "cell_type": "code",
      "execution_count": null,
      "metadata": {
        "id": "9UUXrSDALhSO",
        "outputId": "17b1821e-beba-4436-b747-90f57d55683b"
      },
      "outputs": [
        {
          "data": {
            "text/html": [
              "<div>\n",
              "<style scoped>\n",
              "    .dataframe tbody tr th:only-of-type {\n",
              "        vertical-align: middle;\n",
              "    }\n",
              "\n",
              "    .dataframe tbody tr th {\n",
              "        vertical-align: top;\n",
              "    }\n",
              "\n",
              "    .dataframe thead th {\n",
              "        text-align: right;\n",
              "    }\n",
              "</style>\n",
              "<table border=\"1\" class=\"dataframe\">\n",
              "  <thead>\n",
              "    <tr style=\"text-align: right;\">\n",
              "      <th></th>\n",
              "      <th>Wire 1</th>\n",
              "      <th>Wire 2</th>\n",
              "      <th>Wire 3</th>\n",
              "      <th>Wire 4</th>\n",
              "      <th>Wire 5</th>\n",
              "      <th>Wire 6</th>\n",
              "      <th>Wire 7</th>\n",
              "      <th>Wire 8</th>\n",
              "      <th>Wire 9</th>\n",
              "    </tr>\n",
              "    <tr>\n",
              "      <th>key</th>\n",
              "      <th></th>\n",
              "      <th></th>\n",
              "      <th></th>\n",
              "      <th></th>\n",
              "      <th></th>\n",
              "      <th></th>\n",
              "      <th></th>\n",
              "      <th></th>\n",
              "      <th></th>\n",
              "    </tr>\n",
              "  </thead>\n",
              "  <tbody>\n",
              "    <tr>\n",
              "      <td>1</td>\n",
              "      <td>60.059998</td>\n",
              "      <td>0.00000</td>\n",
              "      <td>0.0</td>\n",
              "      <td>0.0</td>\n",
              "      <td>0.0</td>\n",
              "      <td>0.0</td>\n",
              "      <td>0.0</td>\n",
              "      <td>0.0</td>\n",
              "      <td>0.0</td>\n",
              "    </tr>\n",
              "    <tr>\n",
              "      <td>2</td>\n",
              "      <td>96.052315</td>\n",
              "      <td>0.00000</td>\n",
              "      <td>0.0</td>\n",
              "      <td>0.0</td>\n",
              "      <td>0.0</td>\n",
              "      <td>0.0</td>\n",
              "      <td>0.0</td>\n",
              "      <td>0.0</td>\n",
              "      <td>0.0</td>\n",
              "    </tr>\n",
              "    <tr>\n",
              "      <td>3</td>\n",
              "      <td>91.160157</td>\n",
              "      <td>0.00000</td>\n",
              "      <td>0.0</td>\n",
              "      <td>0.0</td>\n",
              "      <td>0.0</td>\n",
              "      <td>0.0</td>\n",
              "      <td>0.0</td>\n",
              "      <td>0.0</td>\n",
              "      <td>0.0</td>\n",
              "    </tr>\n",
              "    <tr>\n",
              "      <td>4</td>\n",
              "      <td>89.063515</td>\n",
              "      <td>0.00000</td>\n",
              "      <td>0.0</td>\n",
              "      <td>0.0</td>\n",
              "      <td>0.0</td>\n",
              "      <td>0.0</td>\n",
              "      <td>0.0</td>\n",
              "      <td>0.0</td>\n",
              "      <td>0.0</td>\n",
              "    </tr>\n",
              "    <tr>\n",
              "      <td>5</td>\n",
              "      <td>89.238236</td>\n",
              "      <td>9.11456</td>\n",
              "      <td>0.0</td>\n",
              "      <td>0.0</td>\n",
              "      <td>0.0</td>\n",
              "      <td>0.0</td>\n",
              "      <td>0.0</td>\n",
              "      <td>0.0</td>\n",
              "      <td>0.0</td>\n",
              "    </tr>\n",
              "  </tbody>\n",
              "</table>\n",
              "</div>"
            ],
            "text/plain": [
              "        Wire 1   Wire 2  Wire 3  Wire 4  Wire 5  Wire 6  Wire 7  Wire 8  \\\n",
              "key                                                                       \n",
              "1    60.059998  0.00000     0.0     0.0     0.0     0.0     0.0     0.0   \n",
              "2    96.052315  0.00000     0.0     0.0     0.0     0.0     0.0     0.0   \n",
              "3    91.160157  0.00000     0.0     0.0     0.0     0.0     0.0     0.0   \n",
              "4    89.063515  0.00000     0.0     0.0     0.0     0.0     0.0     0.0   \n",
              "5    89.238236  9.11456     0.0     0.0     0.0     0.0     0.0     0.0   \n",
              "\n",
              "     Wire 9  \n",
              "key          \n",
              "1       0.0  \n",
              "2       0.0  \n",
              "3       0.0  \n",
              "4       0.0  \n",
              "5       0.0  "
            ]
          },
          "execution_count": 48,
          "metadata": {},
          "output_type": "execute_result"
        }
      ],
      "source": [
        "wire_all_sum.head()"
      ]
    },
    {
      "cell_type": "markdown",
      "metadata": {
        "id": "Mz_VmCRrLhSO"
      },
      "source": [
        "<a id='Step_13'></a>\n",
        "### Объединение таблиц. "
      ]
    },
    {
      "cell_type": "markdown",
      "source": [
        "<a id='Step_13'></a>\n",
        "### Merging tables."
      ],
      "metadata": {
        "id": "vJbqcCrgQEUD"
      }
    },
    {
      "cell_type": "code",
      "execution_count": null,
      "metadata": {
        "scrolled": false,
        "id": "mgYc1_eNLhSO"
      },
      "outputs": [],
      "source": [
        "df = temp_last.merge(temp_first, on='key')\\\n",
        ".merge(arc_power_sum, on='key')\\\n",
        ".merge(temp_tbm, on='key')\\\n",
        ".merge(arc_count, on='key')\\\n",
        ".merge(bulk_all_sum, on='key')\\\n",
        ".merge(wire_all_sum, on='key')\\\n",
        ".merge(gas, on='key')\n",
        "df.drop(['key', 'Кол-во нагревов'], axis=1, inplace=True)"
      ]
    },
    {
      "cell_type": "markdown",
      "metadata": {
        "id": "pfUhjTILLhSP"
      },
      "source": [
        "Датасет будет смотреться более акутрано, если все столбцы будут называться на одном языке. Выберем английский.\n",
        "\n",
        "The dataset will look more neat if all columns are named in the same language. Let's choose English."
      ]
    },
    {
      "cell_type": "code",
      "execution_count": null,
      "metadata": {
        "id": "j3UPz7SALhSP"
      },
      "outputs": [],
      "source": [
        "df.rename(columns={'Последняя температура':'Temperature_last', 'Первая температура':'Temperature_first', \n",
        "                   'Полная мощность':'Full power', 'Газ 1':'Gas', 'Время между наблюдениями':'Time_between'}, inplace=True)"
      ]
    },
    {
      "cell_type": "markdown",
      "metadata": {
        "id": "rVj8TbIDLhSP"
      },
      "source": [
        "Восстановим индексы.\n",
        "\n",
        "Let's restore the indexes."
      ]
    },
    {
      "cell_type": "code",
      "execution_count": null,
      "metadata": {
        "id": "VMYryq_RLhSP"
      },
      "outputs": [],
      "source": [
        "df.reset_index(inplace=True, drop=True)"
      ]
    },
    {
      "cell_type": "code",
      "execution_count": null,
      "metadata": {
        "scrolled": true,
        "id": "lnNUA0gFLhSP",
        "outputId": "a5c6bb13-30f3-4a35-e01c-01f7ca0446d0"
      },
      "outputs": [
        {
          "name": "stdout",
          "output_type": "stream",
          "text": [
            "<class 'pandas.core.frame.DataFrame'>\n",
            "RangeIndex: 2300 entries, 0 to 2299\n",
            "Data columns (total 29 columns):\n",
            "Temperature_last             2300 non-null float64\n",
            "Temperature_first            2300 non-null float64\n",
            "Full power                   2300 non-null float64\n",
            "Time between measurements    2300 non-null float64\n",
            "Bulk 1                       2300 non-null float64\n",
            "Bulk 10                      2300 non-null float64\n",
            "Bulk 11                      2300 non-null float64\n",
            "Bulk 12                      2300 non-null float64\n",
            "Bulk 13                      2300 non-null float64\n",
            "Bulk 14                      2300 non-null float64\n",
            "Bulk 15                      2300 non-null float64\n",
            "Bulk 2                       2300 non-null float64\n",
            "Bulk 3                       2300 non-null float64\n",
            "Bulk 4                       2300 non-null float64\n",
            "Bulk 5                       2300 non-null float64\n",
            "Bulk 6                       2300 non-null float64\n",
            "Bulk 7                       2300 non-null float64\n",
            "Bulk 8                       2300 non-null float64\n",
            "Bulk 9                       2300 non-null float64\n",
            "Wire 1                       2300 non-null float64\n",
            "Wire 2                       2300 non-null float64\n",
            "Wire 3                       2300 non-null float64\n",
            "Wire 4                       2300 non-null float64\n",
            "Wire 5                       2300 non-null float64\n",
            "Wire 6                       2300 non-null float64\n",
            "Wire 7                       2300 non-null float64\n",
            "Wire 8                       2300 non-null float64\n",
            "Wire 9                       2300 non-null float64\n",
            "Gas                          2300 non-null float64\n",
            "dtypes: float64(29)\n",
            "memory usage: 521.2 KB\n"
          ]
        }
      ],
      "source": [
        "df.info()"
      ]
    },
    {
      "cell_type": "markdown",
      "metadata": {
        "id": "GJAyoZcyLhSQ"
      },
      "source": [
        "После всех преобразований у нас осталось 2300 наблюдений. \n",
        "\n",
        "After all the transformations, we have 2300 observations left."
      ]
    },
    {
      "cell_type": "markdown",
      "metadata": {
        "id": "KIQviMRaLhSQ"
      },
      "source": [
        "<b>Результат. </b> <br />\n",
        "\n",
        "Теперь у нас есть готовый датасет, в котором содержатся только необходимые для построения модели предсказания данные: температура, активная мощность, данные о добавлении сыпучих, проволочных метериалах и газах. Номера партии были удалены, а индексы восстановлнеы. Теперь можно  перейти к построению предсказаний.\n",
        "\n",
        "<b>Result. </b> <br />\n",
        "\n",
        "Now we have a ready-made dataset that contains only the data necessary for building a prediction model: temperature, active power, data on the addition of bulk, wire materials and gases. Lot numbers have been removed and indexes restored. Now we can move on to making predictions."
      ]
    },
    {
      "cell_type": "code",
      "execution_count": null,
      "metadata": {
        "id": "WwaEKCb9LhSQ",
        "outputId": "9876f352-0372-4e9d-ffbc-cf5e4473c172"
      },
      "outputs": [
        {
          "data": {
            "text/html": [
              "<div>\n",
              "<style scoped>\n",
              "    .dataframe tbody tr th:only-of-type {\n",
              "        vertical-align: middle;\n",
              "    }\n",
              "\n",
              "    .dataframe tbody tr th {\n",
              "        vertical-align: top;\n",
              "    }\n",
              "\n",
              "    .dataframe thead th {\n",
              "        text-align: right;\n",
              "    }\n",
              "</style>\n",
              "<table border=\"1\" class=\"dataframe\">\n",
              "  <thead>\n",
              "    <tr style=\"text-align: right;\">\n",
              "      <th></th>\n",
              "      <th>Temperature_first</th>\n",
              "      <th>Full power</th>\n",
              "      <th>Time between measurements</th>\n",
              "      <th>Bulk 1</th>\n",
              "      <th>Bulk 10</th>\n",
              "      <th>Bulk 11</th>\n",
              "      <th>Bulk 12</th>\n",
              "      <th>Bulk 13</th>\n",
              "      <th>Bulk 14</th>\n",
              "      <th>Bulk 15</th>\n",
              "      <th>...</th>\n",
              "      <th>Wire 1</th>\n",
              "      <th>Wire 2</th>\n",
              "      <th>Wire 3</th>\n",
              "      <th>Wire 4</th>\n",
              "      <th>Wire 5</th>\n",
              "      <th>Wire 6</th>\n",
              "      <th>Wire 7</th>\n",
              "      <th>Wire 8</th>\n",
              "      <th>Wire 9</th>\n",
              "      <th>Gas</th>\n",
              "    </tr>\n",
              "  </thead>\n",
              "  <tbody>\n",
              "    <tr>\n",
              "      <td>0</td>\n",
              "      <td>1571.0</td>\n",
              "      <td>5.824889</td>\n",
              "      <td>14.0</td>\n",
              "      <td>0.0</td>\n",
              "      <td>0.0</td>\n",
              "      <td>0.0</td>\n",
              "      <td>206.0</td>\n",
              "      <td>0.0</td>\n",
              "      <td>150.0</td>\n",
              "      <td>154.0</td>\n",
              "      <td>...</td>\n",
              "      <td>60.059998</td>\n",
              "      <td>0.00000</td>\n",
              "      <td>0.0</td>\n",
              "      <td>0.0</td>\n",
              "      <td>0.0</td>\n",
              "      <td>0.0</td>\n",
              "      <td>0.0</td>\n",
              "      <td>0.0</td>\n",
              "      <td>0.0</td>\n",
              "      <td>29.749986</td>\n",
              "    </tr>\n",
              "    <tr>\n",
              "      <td>1</td>\n",
              "      <td>1581.0</td>\n",
              "      <td>3.648398</td>\n",
              "      <td>21.0</td>\n",
              "      <td>0.0</td>\n",
              "      <td>0.0</td>\n",
              "      <td>0.0</td>\n",
              "      <td>206.0</td>\n",
              "      <td>0.0</td>\n",
              "      <td>149.0</td>\n",
              "      <td>154.0</td>\n",
              "      <td>...</td>\n",
              "      <td>96.052315</td>\n",
              "      <td>0.00000</td>\n",
              "      <td>0.0</td>\n",
              "      <td>0.0</td>\n",
              "      <td>0.0</td>\n",
              "      <td>0.0</td>\n",
              "      <td>0.0</td>\n",
              "      <td>0.0</td>\n",
              "      <td>0.0</td>\n",
              "      <td>12.555561</td>\n",
              "    </tr>\n",
              "    <tr>\n",
              "      <td>2</td>\n",
              "      <td>1596.0</td>\n",
              "      <td>2.989502</td>\n",
              "      <td>21.0</td>\n",
              "      <td>0.0</td>\n",
              "      <td>0.0</td>\n",
              "      <td>0.0</td>\n",
              "      <td>205.0</td>\n",
              "      <td>0.0</td>\n",
              "      <td>152.0</td>\n",
              "      <td>153.0</td>\n",
              "      <td>...</td>\n",
              "      <td>91.160157</td>\n",
              "      <td>0.00000</td>\n",
              "      <td>0.0</td>\n",
              "      <td>0.0</td>\n",
              "      <td>0.0</td>\n",
              "      <td>0.0</td>\n",
              "      <td>0.0</td>\n",
              "      <td>0.0</td>\n",
              "      <td>0.0</td>\n",
              "      <td>28.554793</td>\n",
              "    </tr>\n",
              "    <tr>\n",
              "      <td>3</td>\n",
              "      <td>1601.0</td>\n",
              "      <td>3.813674</td>\n",
              "      <td>6.0</td>\n",
              "      <td>0.0</td>\n",
              "      <td>0.0</td>\n",
              "      <td>0.0</td>\n",
              "      <td>207.0</td>\n",
              "      <td>0.0</td>\n",
              "      <td>153.0</td>\n",
              "      <td>154.0</td>\n",
              "      <td>...</td>\n",
              "      <td>89.063515</td>\n",
              "      <td>0.00000</td>\n",
              "      <td>0.0</td>\n",
              "      <td>0.0</td>\n",
              "      <td>0.0</td>\n",
              "      <td>0.0</td>\n",
              "      <td>0.0</td>\n",
              "      <td>0.0</td>\n",
              "      <td>0.0</td>\n",
              "      <td>18.841219</td>\n",
              "    </tr>\n",
              "    <tr>\n",
              "      <td>4</td>\n",
              "      <td>1576.0</td>\n",
              "      <td>4.034596</td>\n",
              "      <td>12.0</td>\n",
              "      <td>0.0</td>\n",
              "      <td>0.0</td>\n",
              "      <td>0.0</td>\n",
              "      <td>203.0</td>\n",
              "      <td>0.0</td>\n",
              "      <td>151.0</td>\n",
              "      <td>152.0</td>\n",
              "      <td>...</td>\n",
              "      <td>89.238236</td>\n",
              "      <td>9.11456</td>\n",
              "      <td>0.0</td>\n",
              "      <td>0.0</td>\n",
              "      <td>0.0</td>\n",
              "      <td>0.0</td>\n",
              "      <td>0.0</td>\n",
              "      <td>0.0</td>\n",
              "      <td>0.0</td>\n",
              "      <td>5.413692</td>\n",
              "    </tr>\n",
              "    <tr>\n",
              "      <td>...</td>\n",
              "      <td>...</td>\n",
              "      <td>...</td>\n",
              "      <td>...</td>\n",
              "      <td>...</td>\n",
              "      <td>...</td>\n",
              "      <td>...</td>\n",
              "      <td>...</td>\n",
              "      <td>...</td>\n",
              "      <td>...</td>\n",
              "      <td>...</td>\n",
              "      <td>...</td>\n",
              "      <td>...</td>\n",
              "      <td>...</td>\n",
              "      <td>...</td>\n",
              "      <td>...</td>\n",
              "      <td>...</td>\n",
              "      <td>...</td>\n",
              "      <td>...</td>\n",
              "      <td>...</td>\n",
              "      <td>...</td>\n",
              "      <td>...</td>\n",
              "    </tr>\n",
              "    <tr>\n",
              "      <td>2295</td>\n",
              "      <td>1570.0</td>\n",
              "      <td>3.985197</td>\n",
              "      <td>18.0</td>\n",
              "      <td>0.0</td>\n",
              "      <td>90.0</td>\n",
              "      <td>0.0</td>\n",
              "      <td>256.0</td>\n",
              "      <td>0.0</td>\n",
              "      <td>129.0</td>\n",
              "      <td>223.0</td>\n",
              "      <td>...</td>\n",
              "      <td>89.150879</td>\n",
              "      <td>0.00000</td>\n",
              "      <td>0.0</td>\n",
              "      <td>0.0</td>\n",
              "      <td>0.0</td>\n",
              "      <td>0.0</td>\n",
              "      <td>0.0</td>\n",
              "      <td>0.0</td>\n",
              "      <td>0.0</td>\n",
              "      <td>7.125735</td>\n",
              "    </tr>\n",
              "    <tr>\n",
              "      <td>2296</td>\n",
              "      <td>1554.0</td>\n",
              "      <td>5.055976</td>\n",
              "      <td>26.0</td>\n",
              "      <td>0.0</td>\n",
              "      <td>122.0</td>\n",
              "      <td>0.0</td>\n",
              "      <td>256.0</td>\n",
              "      <td>0.0</td>\n",
              "      <td>129.0</td>\n",
              "      <td>226.0</td>\n",
              "      <td>...</td>\n",
              "      <td>114.179527</td>\n",
              "      <td>0.00000</td>\n",
              "      <td>0.0</td>\n",
              "      <td>0.0</td>\n",
              "      <td>0.0</td>\n",
              "      <td>0.0</td>\n",
              "      <td>0.0</td>\n",
              "      <td>0.0</td>\n",
              "      <td>0.0</td>\n",
              "      <td>9.412616</td>\n",
              "    </tr>\n",
              "    <tr>\n",
              "      <td>2297</td>\n",
              "      <td>1571.0</td>\n",
              "      <td>2.884756</td>\n",
              "      <td>11.0</td>\n",
              "      <td>0.0</td>\n",
              "      <td>0.0</td>\n",
              "      <td>0.0</td>\n",
              "      <td>230.0</td>\n",
              "      <td>0.0</td>\n",
              "      <td>124.0</td>\n",
              "      <td>226.0</td>\n",
              "      <td>...</td>\n",
              "      <td>94.086723</td>\n",
              "      <td>9.04800</td>\n",
              "      <td>0.0</td>\n",
              "      <td>0.0</td>\n",
              "      <td>0.0</td>\n",
              "      <td>0.0</td>\n",
              "      <td>0.0</td>\n",
              "      <td>0.0</td>\n",
              "      <td>0.0</td>\n",
              "      <td>6.271699</td>\n",
              "    </tr>\n",
              "    <tr>\n",
              "      <td>2298</td>\n",
              "      <td>1591.0</td>\n",
              "      <td>4.143362</td>\n",
              "      <td>21.0</td>\n",
              "      <td>0.0</td>\n",
              "      <td>101.0</td>\n",
              "      <td>0.0</td>\n",
              "      <td>206.0</td>\n",
              "      <td>0.0</td>\n",
              "      <td>129.0</td>\n",
              "      <td>207.0</td>\n",
              "      <td>...</td>\n",
              "      <td>118.110717</td>\n",
              "      <td>0.00000</td>\n",
              "      <td>0.0</td>\n",
              "      <td>0.0</td>\n",
              "      <td>0.0</td>\n",
              "      <td>0.0</td>\n",
              "      <td>0.0</td>\n",
              "      <td>0.0</td>\n",
              "      <td>0.0</td>\n",
              "      <td>14.953657</td>\n",
              "    </tr>\n",
              "    <tr>\n",
              "      <td>2299</td>\n",
              "      <td>1569.0</td>\n",
              "      <td>4.951128</td>\n",
              "      <td>20.0</td>\n",
              "      <td>0.0</td>\n",
              "      <td>0.0</td>\n",
              "      <td>0.0</td>\n",
              "      <td>233.0</td>\n",
              "      <td>0.0</td>\n",
              "      <td>126.0</td>\n",
              "      <td>227.0</td>\n",
              "      <td>...</td>\n",
              "      <td>110.160958</td>\n",
              "      <td>50.00528</td>\n",
              "      <td>0.0</td>\n",
              "      <td>0.0</td>\n",
              "      <td>0.0</td>\n",
              "      <td>0.0</td>\n",
              "      <td>0.0</td>\n",
              "      <td>0.0</td>\n",
              "      <td>0.0</td>\n",
              "      <td>11.336151</td>\n",
              "    </tr>\n",
              "  </tbody>\n",
              "</table>\n",
              "<p>2300 rows × 28 columns</p>\n",
              "</div>"
            ],
            "text/plain": [
              "      Temperature_first  Full power  Time between measurements  Bulk 1  \\\n",
              "0                1571.0    5.824889                       14.0     0.0   \n",
              "1                1581.0    3.648398                       21.0     0.0   \n",
              "2                1596.0    2.989502                       21.0     0.0   \n",
              "3                1601.0    3.813674                        6.0     0.0   \n",
              "4                1576.0    4.034596                       12.0     0.0   \n",
              "...                 ...         ...                        ...     ...   \n",
              "2295             1570.0    3.985197                       18.0     0.0   \n",
              "2296             1554.0    5.055976                       26.0     0.0   \n",
              "2297             1571.0    2.884756                       11.0     0.0   \n",
              "2298             1591.0    4.143362                       21.0     0.0   \n",
              "2299             1569.0    4.951128                       20.0     0.0   \n",
              "\n",
              "      Bulk 10  Bulk 11  Bulk 12  Bulk 13  Bulk 14  Bulk 15  ...      Wire 1  \\\n",
              "0         0.0      0.0    206.0      0.0    150.0    154.0  ...   60.059998   \n",
              "1         0.0      0.0    206.0      0.0    149.0    154.0  ...   96.052315   \n",
              "2         0.0      0.0    205.0      0.0    152.0    153.0  ...   91.160157   \n",
              "3         0.0      0.0    207.0      0.0    153.0    154.0  ...   89.063515   \n",
              "4         0.0      0.0    203.0      0.0    151.0    152.0  ...   89.238236   \n",
              "...       ...      ...      ...      ...      ...      ...  ...         ...   \n",
              "2295     90.0      0.0    256.0      0.0    129.0    223.0  ...   89.150879   \n",
              "2296    122.0      0.0    256.0      0.0    129.0    226.0  ...  114.179527   \n",
              "2297      0.0      0.0    230.0      0.0    124.0    226.0  ...   94.086723   \n",
              "2298    101.0      0.0    206.0      0.0    129.0    207.0  ...  118.110717   \n",
              "2299      0.0      0.0    233.0      0.0    126.0    227.0  ...  110.160958   \n",
              "\n",
              "        Wire 2  Wire 3  Wire 4  Wire 5  Wire 6  Wire 7  Wire 8  Wire 9  \\\n",
              "0      0.00000     0.0     0.0     0.0     0.0     0.0     0.0     0.0   \n",
              "1      0.00000     0.0     0.0     0.0     0.0     0.0     0.0     0.0   \n",
              "2      0.00000     0.0     0.0     0.0     0.0     0.0     0.0     0.0   \n",
              "3      0.00000     0.0     0.0     0.0     0.0     0.0     0.0     0.0   \n",
              "4      9.11456     0.0     0.0     0.0     0.0     0.0     0.0     0.0   \n",
              "...        ...     ...     ...     ...     ...     ...     ...     ...   \n",
              "2295   0.00000     0.0     0.0     0.0     0.0     0.0     0.0     0.0   \n",
              "2296   0.00000     0.0     0.0     0.0     0.0     0.0     0.0     0.0   \n",
              "2297   9.04800     0.0     0.0     0.0     0.0     0.0     0.0     0.0   \n",
              "2298   0.00000     0.0     0.0     0.0     0.0     0.0     0.0     0.0   \n",
              "2299  50.00528     0.0     0.0     0.0     0.0     0.0     0.0     0.0   \n",
              "\n",
              "            Gas  \n",
              "0     29.749986  \n",
              "1     12.555561  \n",
              "2     28.554793  \n",
              "3     18.841219  \n",
              "4      5.413692  \n",
              "...         ...  \n",
              "2295   7.125735  \n",
              "2296   9.412616  \n",
              "2297   6.271699  \n",
              "2298  14.953657  \n",
              "2299  11.336151  \n",
              "\n",
              "[2300 rows x 28 columns]"
            ]
          },
          "execution_count": 59,
          "metadata": {},
          "output_type": "execute_result"
        }
      ],
      "source": [
        "X"
      ]
    },
    {
      "cell_type": "markdown",
      "metadata": {
        "id": "WNU3l7IOLhSR"
      },
      "source": [
        "<a id='Step_14'></a>\n",
        "## Градиентный бустинг (CatBoost)."
      ]
    },
    {
      "cell_type": "markdown",
      "source": [
        "<a id='Step_14'></a>\n",
        "## Gradient boosting (CatBoost)."
      ],
      "metadata": {
        "id": "zI3H7rvHQVSm"
      }
    },
    {
      "cell_type": "markdown",
      "metadata": {
        "id": "1Eku0cm-LhSR"
      },
      "source": [
        "В этой части будет продемонстрирована работа модели CatBoost и подбор гиперпараметров для неё на кросс-валидации. Затем мы применим модель с нужными параметрами на тестовой выборке.\n",
        "\n",
        "In this part, the work of the CatBoost model and the selection of hyperparameters for it on cross-validation will be demonstrated. Then we will apply the model with the desired parameters on the test set."
      ]
    },
    {
      "cell_type": "code",
      "execution_count": null,
      "metadata": {
        "scrolled": true,
        "id": "e_F2q4G_LhSR"
      },
      "outputs": [],
      "source": [
        "y = df['Temperature_last']\n",
        "X = df.drop(['Temperature_last'], axis=1)\n",
        "X_train, X_test, y_train, y_test = train_test_split(X, y, test_size=0.2, random_state=42)"
      ]
    },
    {
      "cell_type": "code",
      "execution_count": null,
      "metadata": {
        "id": "rDHtBi3FLhSR"
      },
      "outputs": [],
      "source": [
        "mae_loss = make_scorer(mean_absolute_error, greater_is_better=False)"
      ]
    },
    {
      "cell_type": "code",
      "execution_count": null,
      "metadata": {
        "id": "THlYf8hHLhSS",
        "outputId": "e5ccc4c0-87d0-4d25-d925-dbc6196858a2"
      },
      "outputs": [
        {
          "name": "stdout",
          "output_type": "stream",
          "text": [
            "Лучший MAE: -5.844092773439348\n",
            "Лучшие параметры: -5.844092773439348\n"
          ]
        },
        {
          "data": {
            "text/plain": [
              "{'iterations': 1500, 'learning_rate': 0.01, 'loss_function': 'MAE'}"
            ]
          },
          "execution_count": 55,
          "metadata": {},
          "output_type": "execute_result"
        }
      ],
      "source": [
        "model_cb = CatBoostRegressor(random_state=0, verbose=0)\n",
        "parameters_cb = {'iterations':[500, 1000, 1500], 'learning_rate':[0.01, 0.1, 0.05], \"loss_function\":[\"MAE\"]}\n",
        "clf_cb = GridSearchCV(model_cb, parameters_cb, cv=3, scoring=mae_loss)\n",
        "clf_cb.fit(X_train, y_train)\n",
        "print('Лучший MAE:', clf_cb.best_score_)\n",
        "print('Лучшие параметры:', clf_cb.best_score_)\n",
        "clf_cb.best_params_"
      ]
    },
    {
      "cell_type": "code",
      "execution_count": null,
      "metadata": {
        "id": "kH1j5LlzLhSS",
        "outputId": "2424b2db-9cbe-4691-b6ae-388c73802205"
      },
      "outputs": [
        {
          "name": "stdout",
          "output_type": "stream",
          "text": [
            "Лучший MAE: -5.844092773439348\n",
            "Лучшие параметры:\n"
          ]
        },
        {
          "data": {
            "text/plain": [
              "{'iterations': 1500, 'learning_rate': 0.01, 'loss_function': 'MAE'}"
            ]
          },
          "execution_count": 56,
          "metadata": {},
          "output_type": "execute_result"
        }
      ],
      "source": [
        "print('Лучший MAE:', clf_cb.best_score_)\n",
        "print('Лучшие параметры:')\n",
        "clf_cb.best_params_"
      ]
    },
    {
      "cell_type": "code",
      "execution_count": null,
      "metadata": {
        "scrolled": false,
        "id": "Au5-cRI5LhSS",
        "outputId": "6633edce-242e-4c7b-9f11-c296c8488ff8"
      },
      "outputs": [
        {
          "name": "stdout",
          "output_type": "stream",
          "text": [
            "5.4061996795541605\n"
          ]
        }
      ],
      "source": [
        "model = CatBoostRegressor(iterations=1500, learning_rate=0.01, loss_function='MAE', verbose=0, random_state=0)\n",
        "model.fit(X_train, y_train)\n",
        "prediction = model.predict(X_test)\n",
        "mae = mean_absolute_error(prediction, y_test)\n",
        "print(mae)"
      ]
    },
    {
      "cell_type": "markdown",
      "metadata": {
        "id": "mVCJZu2ILhSS"
      },
      "source": [
        "Необходимое значение метрики было достигнуто (MAE меньше шести). \n",
        "\n",
        "The required metric value has been reached (MAE less than six)."
      ]
    },
    {
      "cell_type": "markdown",
      "metadata": {
        "id": "NDR6HCBNLhST"
      },
      "source": [
        "<a id='Step_15'></a>\n",
        "## Линейная регрессия."
      ]
    },
    {
      "cell_type": "markdown",
      "source": [
        "<a id='Step_15'></a>\n",
        "## Linear regression."
      ],
      "metadata": {
        "id": "ijc1gtbeQeVp"
      }
    },
    {
      "cell_type": "markdown",
      "metadata": {
        "id": "IioQK-UTLhST"
      },
      "source": [
        "Несмотря на то, что задание может быть легко выполнено с помощью такой мощной моедли как CatBoost, воспользуемся линейной регрессией. Сделаем это потому, что результаты, которые даёт эта простая модель могут быть интерпритируемы. Предположительно, полученную формулу можно будет использовать на производстве, что бы управлять температурой стали. Именно это и позволило бы экономить на электроэнергии.\n",
        "\n",
        "Even though the task can be easily done with a powerful model like CatBoost, we will use linear regression. We do this because the results that this simple model gives can be interpreted. Presumably, the resulting formula can be used in production to control the temperature of the steel. This is what would save on electricity."
      ]
    },
    {
      "cell_type": "markdown",
      "metadata": {
        "id": "XHVQ4weILhST"
      },
      "source": [
        "Воспользуемся библиотекой \"Statsmodels\", что бы получить подробные результаты работы модели. Также необходимо добавить столбец с единицами в матрицу признаков.\n",
        "\n",
        "Let's use the \"Statsmodels\" library to get detailed results of the model. You also need to add a column with units to the feature matrix."
      ]
    },
    {
      "cell_type": "code",
      "execution_count": null,
      "metadata": {
        "scrolled": false,
        "id": "CovUCqaGLhST"
      },
      "outputs": [],
      "source": [
        "X_train = add_constant(X_train)\n",
        "X_test = add_constant(X_test)"
      ]
    },
    {
      "cell_type": "code",
      "execution_count": null,
      "metadata": {
        "id": "BHoE06odLhSU",
        "outputId": "0c3d86e5-4afe-48fd-8dd8-6655f5e672eb"
      },
      "outputs": [
        {
          "name": "stdout",
          "output_type": "stream",
          "text": [
            "                            OLS Regression Results                            \n",
            "==============================================================================\n",
            "Dep. Variable:       Temperature_last   R-squared:                       0.547\n",
            "Model:                            OLS   Adj. R-squared:                  0.541\n",
            "Method:                 Least Squares   F-statistic:                     84.36\n",
            "Date:                Tue, 27 Apr 2021   Prob (F-statistic):          3.53e-289\n",
            "Time:                        20:13:15   Log-Likelihood:                -6332.1\n",
            "No. Observations:                1840   AIC:                         1.272e+04\n",
            "Df Residuals:                    1813   BIC:                         1.287e+04\n",
            "Df Model:                          26                                         \n",
            "Covariance Type:            nonrobust                                         \n",
            "=============================================================================================\n",
            "                                coef    std err          t      P>|t|      [0.025      0.975]\n",
            "---------------------------------------------------------------------------------------------\n",
            "const                      1015.1494     17.393     58.366      0.000     981.037    1049.262\n",
            "Temperature_first             0.3539      0.011     32.473      0.000       0.332       0.375\n",
            "Full power                    5.7788      0.183     31.530      0.000       5.419       6.138\n",
            "Time between measurements    -0.2498      0.013    -19.311      0.000      -0.275      -0.224\n",
            "Bulk 1                       -0.1007      0.017     -5.886      0.000      -0.134      -0.067\n",
            "Bulk 10                      -0.0078      0.009     -0.869      0.385      -0.025       0.010\n",
            "Bulk 11                      -0.0237      0.008     -2.990      0.003      -0.039      -0.008\n",
            "Bulk 12                      -0.0028      0.002     -1.541      0.124      -0.006       0.001\n",
            "Bulk 13                      -0.0127      0.015     -0.826      0.409      -0.043       0.017\n",
            "Bulk 14                      -0.0054      0.003     -1.869      0.062      -0.011       0.000\n",
            "Bulk 15                       0.0097      0.003      3.453      0.001       0.004       0.015\n",
            "Bulk 2                        0.0468      0.020      2.305      0.021       0.007       0.087\n",
            "Bulk 3                       -0.0039      0.003     -1.563      0.118      -0.009       0.001\n",
            "Bulk 4                       -0.0029      0.004     -0.799      0.424      -0.010       0.004\n",
            "Bulk 5                       -0.0216      0.010     -2.158      0.031      -0.041      -0.002\n",
            "Bulk 6                       -0.0156      0.004     -4.237      0.000      -0.023      -0.008\n",
            "Bulk 7                       -0.0048      0.009     -0.515      0.607      -0.023       0.013\n",
            "Bulk 8                     2.436e-12   1.91e-12      1.277      0.202   -1.31e-12    6.18e-12\n",
            "Bulk 9                        0.1716      0.219      0.785      0.433      -0.257       0.600\n",
            "Wire 1                        0.0363      0.005      7.339      0.000       0.027       0.046\n",
            "Wire 2                       -0.0388      0.006     -6.525      0.000      -0.050      -0.027\n",
            "Wire 3                       -0.0036      0.007     -0.541      0.588      -0.017       0.009\n",
            "Wire 4                       -0.2816      0.123     -2.289      0.022      -0.523      -0.040\n",
            "Wire 5                     1.616e-14   1.27e-14      1.274      0.203   -8.72e-15     4.1e-14\n",
            "Wire 6                       -0.0243      0.023     -1.045      0.296      -0.070       0.021\n",
            "Wire 7                       -3.2912      2.562     -1.285      0.199      -8.316       1.734\n",
            "Wire 8                       -0.2429      0.280     -0.868      0.385      -0.792       0.306\n",
            "Wire 9                        0.0274      0.049      0.558      0.577      -0.069       0.124\n",
            "Gas                           0.0041      0.034      0.120      0.904      -0.063       0.071\n",
            "==============================================================================\n",
            "Omnibus:                       86.844   Durbin-Watson:                   2.020\n",
            "Prob(Omnibus):                  0.000   Jarque-Bera (JB):              201.553\n",
            "Skew:                           0.273   Prob(JB):                     1.71e-44\n",
            "Kurtosis:                       4.527   Cond. No.                     1.00e+16\n",
            "==============================================================================\n",
            "\n",
            "Warnings:\n",
            "[1] Standard Errors assume that the covariance matrix of the errors is correctly specified.\n",
            "[2] The smallest eigenvalue is 4.81e-23. This might indicate that there are\n",
            "strong multicollinearity problems or that the design matrix is singular.\n"
          ]
        }
      ],
      "source": [
        "model_lr = sm.OLS(y_train, X_train)\n",
        "results = model_lr.fit()\n",
        "print(results.summary())"
      ]
    },
    {
      "cell_type": "code",
      "execution_count": null,
      "metadata": {
        "id": "v7wK3XFjLhSU",
        "outputId": "0673ccbe-f02d-4499-d975-5b29c7fc1099"
      },
      "outputs": [
        {
          "name": "stdout",
          "output_type": "stream",
          "text": [
            "5.62908981911418\n"
          ]
        }
      ],
      "source": [
        "prediction = results.predict(X_test)\n",
        "mae = mean_absolute_error(prediction, y_test)\n",
        "print(mae)"
      ]
    },
    {
      "cell_type": "markdown",
      "metadata": {
        "id": "wVM4J3Z6LhSU"
      },
      "source": [
        "Полученная метрика всё также удоволитворяет требьваниям проекта, но на этот раз мы получили веса при каждой переменной и теперь знаем, что будет, если изменить какую-либо перменную на единицу. Например, при росте полной мощности на единицу, температура в среднем повышается на 5.7788 градусов. \n",
        "\n",
        "The resulting metric still satisfies the requirements of the project, but this time we have received weights for each variable and now we know what will happen if we change any variable by one. For example, with an increase in total power per unit, the temperature rises by an average of 5.7788 degrees."
      ]
    },
    {
      "cell_type": "markdown",
      "metadata": {
        "id": "vrJE6eiQLhSV"
      },
      "source": [
        "OLS Regression Results отобразил сообщение о замеченной мультиколлениарности. Проверим это при помощи VIF (коэфициент вздутия дисперсии). Перменные считаются коллерированнаыми, если VIF больше десяти. \n",
        "\n",
        "OLS Regression Results displayed a message about the observed multicolleniarity. Let's check it with the help of VIF (Variance Bulk Factor). Variables are considered to be called if the VIF is greater than ten. "
      ]
    },
    {
      "cell_type": "code",
      "execution_count": null,
      "metadata": {
        "scrolled": true,
        "id": "di14tJvULhSV",
        "outputId": "c42e92c9-b134-4943-867d-0893703e4170"
      },
      "outputs": [
        {
          "data": {
            "text/plain": [
              "const                        9605.329990\n",
              "Temperature_first               2.039898\n",
              "Full power                      3.234902\n",
              "Time between measurements       2.604316\n",
              "Bulk 1                          1.433560\n",
              "Bulk 10                         1.075316\n",
              "Bulk 11                         1.066030\n",
              "Bulk 12                         2.643706\n",
              "Bulk 13                         1.064005\n",
              "Bulk 14                         1.705728\n",
              "Bulk 15                         1.757307\n",
              "Bulk 2                          4.721636\n",
              "Bulk 3                          1.162883\n",
              "Bulk 4                          1.420477\n",
              "Bulk 5                          1.238444\n",
              "Bulk 6                          1.332230\n",
              "Bulk 7                          2.919373\n",
              "Bulk 8                               NaN\n",
              "Bulk 9                         49.409520\n",
              "Wire 1                          1.433825\n",
              "Wire 2                          1.242200\n",
              "Wire 3                          1.136985\n",
              "Wire 4                          9.241145\n",
              "Wire 5                               NaN\n",
              "Wire 6                          1.483918\n",
              "Wire 7                          3.001841\n",
              "Wire 8                         49.045933\n",
              "Wire 9                          1.064686\n",
              "Gas                             1.536244\n",
              "dtype: float64"
            ]
          },
          "execution_count": 52,
          "metadata": {},
          "output_type": "execute_result"
        }
      ],
      "source": [
        "pd.Series([variance_inflation_factor(X_train.values, i) \n",
        "               for i in range(X_train.shape[1])], \n",
        "              index=X_train.columns)"
      ]
    },
    {
      "cell_type": "markdown",
      "metadata": {
        "id": "pdI0qfA-LhSV"
      },
      "source": [
        "На перменную const можно не обращать внимания. Большие VIF у \"Bulk 9\" и \"Wire 8\". Можно предположить, что два этих материала зачастую используются совместно для получения какого-то определнного материала. Так же возможно, что линейная зависимость может быть следствием случайного сходства, например из-за большого количесства нулей во всех переменных с легируюзими материалами. Можно все сыпучие материалы объединить в одну колонку, сложив все значения. Так же можно поступить и с проволчными. От этого ухудшится предсказательная способность модели, но линейная зависимость между переменными, вероятно, исчезнет.\n",
        "\n",
        "You can ignore the const variable. Large VIFs for \"Bulk 9\" and \"Wire 8\". It can be assumed that these two materials are often used together to obtain some particular material. It is also possible that the linear relationship may be due to random similarity, for example due to the large number of zeros in all variables with alloying materials. You can combine all bulk materials into one column by adding all the values. The same can be done with wire. This will worsen the predictive power of the model, but the linear relationship between the variables is likely to disappear."
      ]
    },
    {
      "cell_type": "markdown",
      "metadata": {
        "id": "jVXL8MnjLhSW"
      },
      "source": [
        "# Результаты.\n",
        "1. Целевым признаком была выбрана последняя температура замера каждой партии. Данные были подготовлены и очищены.\n",
        "2. Были исследованы: температуры, нагревы и мощности. Признаки распределены нормально, но мощности и время нагрева коллерированны, поэтому была использована формула полной мощности для создания нового признака. Коллерированные признаки были удалены.\n",
        "3. Также были созданы признаки: время между замерами температуры и первая температура.\n",
        "4. Все признаки были объединены в один датафрейм, который был разбит на обучающую и тестовую выборки.\n",
        "5. Были подобраны парметры на кросс-валидации для модели градиентного бустинга CatBoost и получен MAE на тестовой выборке равный 5,4.\n",
        "6. Линейная регрессия была обучена на обучающей выборке и проверена на тестовой. MAE осталось меньше шести. Была выявлена линейная зависимость между двумя легирующеми материалами."
      ]
    },
    {
      "cell_type": "markdown",
      "source": [
        "# Results.\n",
        "1. The last sample temperature of each batch was chosen as the target. The data has been prepared and cleaned.\n",
        "2. Were investigated: temperatures, heating and power. The features are normally distributed, but the powers and heating times are collerated, so the total power formula was used to create a new feature. Collated features have been removed.\n",
        "3. Features were also created: the time between temperature measurements and the first temperature.\n",
        "4. All features were combined into one dataframe, which was divided into training and test sets.\n",
        "5. Cross-validation parameters were selected for the CatBoost gradient boosting model and MAE was obtained on the test set equal to 5.4.\n",
        "6. Linear regression was trained on the training set and tested on the test set. MAE is less than six. A linear relationship was found between the two alloying materials."
      ],
      "metadata": {
        "id": "Ozx-QC_eQ15j"
      }
    }
  ],
  "metadata": {
    "kernelspec": {
      "display_name": "Python 3 (ipykernel)",
      "language": "python",
      "name": "python3"
    },
    "language_info": {
      "codemirror_mode": {
        "name": "ipython",
        "version": 3
      },
      "file_extension": ".py",
      "mimetype": "text/x-python",
      "name": "python",
      "nbconvert_exporter": "python",
      "pygments_lexer": "ipython3",
      "version": "3.9.5"
    },
    "toc": {
      "base_numbering": 1,
      "nav_menu": {},
      "number_sections": true,
      "sideBar": true,
      "skip_h1_title": true,
      "title_cell": "Table of Contents",
      "title_sidebar": "Contents",
      "toc_cell": false,
      "toc_position": {},
      "toc_section_display": true,
      "toc_window_display": false
    },
    "colab": {
      "name": "15th_project_steel.ipynb",
      "provenance": []
    }
  },
  "nbformat": 4,
  "nbformat_minor": 0
}