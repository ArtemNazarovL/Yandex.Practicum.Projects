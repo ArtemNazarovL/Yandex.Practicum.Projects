{
 "cells": [
  {
   "cell_type": "markdown",
   "metadata": {},
   "source": [
    "# Исследование продаж видеоигр.\n",
    "\n",
    "# Video game sales research."
   ]
  },
  {
   "cell_type": "markdown",
   "metadata": {},
   "source": [
    "## Оглавление и описание проекта.\n",
    "\n",
    "## Table of contents and description of the project."
   ]
  },
  {
   "cell_type": "markdown",
   "metadata": {},
   "source": [
    "<div class=\"alert alert-info\">Интеренет-магазин продаёт компьётерные игры по всему миру. Нам досутпные исторические данные о продажах игр, их оценках от пользователей и экспертов, жанры и платформы. Необходимо определить закономерности, которые делают одни игры успешными, а другие нет. Этот анализ позволит понять, какой продукт будет иметь успех в будующем и составить рекламнные компании для его продвижения. </div>"
   ]
  },
  {
   "cell_type": "markdown",
   "metadata": {},
   "source": [
    "<div class=\"alert alert-info\">Internet store sells computer games all over the world. We have access to historical data on game sales, their ratings from users and experts, genres and platforms. It is necessary to identify the patterns that make some games successful and others not. This analysis will allow you to understand which product will be successful in the future and create advertising campaigns to promote it. </div>"
   ]
  },
  {
   "cell_type": "markdown",
   "metadata": {},
   "source": [
    "- [Шаг 1. Изучение общей информации о данных.](#Step_1)\n",
    "[Переменные.](#Step_2) <br />\n",
    "[Загрузка данных.](#Step_3) <br />\n",
    "- [Шаг 2. Предобработка данных.](#Step_4)\n",
    "[Обработка пропусков и изменение типов данных.](#Step_5) <br />\n",
    "[Унификация регистра и удаление дубликатов](#Step_6) <br />\n",
    "[Расчет дополнительных показателей.](#Step_7) <br />\n",
    "- [Шаг 3. Исследовательский анализ.](#Step_8)\n",
    "[Количество выпущенных игр в разные годы.](#Step_9) <br />\n",
    "[Изменение продаж по платформам.](#Step_10) <br />\n",
    "[Выбор актуального периода.](#Step_11) <br />\n",
    "[Лидирующие платформы по продажам игр.](#Step_12) <br />\n",
    "[Размах продаж игр в разбивке по платформам. ](#Step_13) <br />\n",
    "[Влияние отзывов на продажи игр в разбивке по платформам.](#Step_14) <br />\n",
    "[PS4.](#Step_15) <br />\n",
    "[3DS.](#Step_16) <br />\n",
    "[XOne.](#Step_17) <br />\n",
    "[Распределение игр по жанрам.](#Step_18) <br />\n",
    "- [Шаг 4. Портрет пользователя каждого региона.](#Step_19)\n",
    "[Северная Америка.](#Step_20) <br />\n",
    "[Европа.](#Step_21)<br />\n",
    "[Япония.](#Step_22)<br />\n",
    "- [Шаг 5. Проверка гипотез.](#Step_23)\n",
    "[Тест A.](#Step_24)<br />\n",
    "[Тест B.](#Step_25)<br /> \n",
    "- [Шаг 6. Вывод.](#Step_26)"
   ]
  },
  {
   "cell_type": "markdown",
   "metadata": {},
   "source": [
    "- [Step 1. Examine general information about the data.](#Step_1)\n",
    "[Variables.](#Step_2) <br />\n",
    "[Loading data.](#Step_3) <br />\n",
    "- [Step 2. Data preprocessing.](#Step_4)\n",
    "[Handling gaps and changing data types.](#Step_5) <br />\n",
    "[Case unification and removal of duplicates](#Step_6) <br />\n",
    "[Calculation of additional indicators.](#Step_7) <br />\n",
    "- [Step 3 Exploratory Analysis.](#Step_8)\n",
    "[Number of released games in different years.](#Step_9) <br />\n",
    "[Change sales by platform.](#Step_10) <br />\n",
    "[Select current period.](#Step_11) <br />\n",
    "[Top platforms for game sales.](#Step_12) <br />\n",
    "[Games sales range by platform. ](#Step_13) <br />\n",
    "[Influence of reviews on game sales by platform.](#Step_14) <br />\n",
    "[PS4.](#Step_15) <br />\n",
    "[3DS.](#Step_16) <br />\n",
    "[XOne.](#Step_17) <br />\n",
    "[Distribution of games by genre.](#Step_18) <br />\n",
    "- [Step 4. User portrait of each region.](#Step_19)\n",
    "[North America.](#Step_20) <br />\n",
    "[Europe.](#Step_21)<br />\n",
    "[Japan.](#Step_22)<br />\n",
    "- [Step 5. Hypothesis testing.](#Step_23)\n",
    "[Test A.](#Step_24)<br />\n",
    "[Test B.](#Step_25)<br />\n",
    "- [Step 6. Output.](#Step_26)"
   ]
  },
  {
   "cell_type": "markdown",
   "metadata": {},
   "source": [
    "<a id='Step_1'></a>\n",
    "## Шаг 1. Изучение общей информации о данных.\n",
    "\n",
    "## Step 1. Explore general information about the data."
   ]
  },
  {
   "cell_type": "markdown",
   "metadata": {},
   "source": [
    "<a id='Step_2'></a>\n",
    "### Переменные.\n",
    "\n",
    "### Variables."
   ]
  },
  {
   "cell_type": "markdown",
   "metadata": {},
   "source": [
    "- Name — название игры\n",
    "- Platform — платформа\n",
    "- Year_of_Release — год выпуска\n",
    "- Genre — жанр игры\n",
    "- NA_sales — продажи в Северной Америке (миллионы проданных копий)\n",
    "- EU_sales — продажи в Европе (миллионы проданных копий)\n",
    "- JP_sales — продажи в Японии (миллионы проданных копий)\n",
    "- Other_sales — продажи в других странах (миллионы проданных копий)\n",
    "- Critic_Score — оценка критиков (максимум 100)\n",
    "- User_Score — оценка пользователей (максимум 10); 'tbd' - рейтинг ожидается\n",
    "- Rating — рейтинг от организации ESRB (EC — для детей младшего возраста, E — для всех, E-A — для всех, E10+ - для всех от 10 лет и старше, T — подросткам, M — для взрослых, AO — только для взрослых, RP — рейтинг ожидается)"
   ]
  },
  {
   "cell_type": "markdown",
   "metadata": {},
   "source": [
    "- Name - the name of the game\n",
    "- Platform - platform\n",
    "- Year_of_Release - year of release\n",
    "- Genre - game genre\n",
    "- NA_sales - sales in North America (millions of copies sold)\n",
    "- EU_sales - sales in Europe (millions of copies sold)\n",
    "- JP_sales - sales in Japan (millions of copies sold)\n",
    "- Other_sales - sales in other countries (millions of copies sold)\n",
    "- Critic_Score - Critics score (maximum 100)\n",
    "- User_Score - user rating (maximum 10); 'tbd' - rating expected\n",
    "- Rating - rating from the ESRB organization (EC - for young children, E - for all, E-A - for all, E10+ - for all 10 years and older, T - for teenagers, M - for adults, AO - only for adults, RP - rating pending)"
   ]
  },
  {
   "cell_type": "markdown",
   "metadata": {},
   "source": [
    "<a id='Step_3'></a>\n",
    "### Загрузка данных.\n",
    "\n",
    "### Loading data."
   ]
  },
  {
   "cell_type": "markdown",
   "metadata": {},
   "source": [
    "Загружаем библиотеки и файл.\n",
    "\n",
    "Download libraries and file."
   ]
  },
  {
   "cell_type": "code",
   "execution_count": 53,
   "metadata": {},
   "outputs": [],
   "source": [
    "import pandas as pd\n",
    "import numpy as np\n",
    "import math\n",
    "from scipy import stats as st\n",
    "import warnings\n",
    "import matplotlib as plt\n",
    "%matplotlib inline"
   ]
  },
  {
   "cell_type": "code",
   "execution_count": 54,
   "metadata": {},
   "outputs": [],
   "source": [
    "df = pd.read_csv('/datasets/games.csv')"
   ]
  },
  {
   "cell_type": "markdown",
   "metadata": {},
   "source": [
    "Смотрим на данные.\n",
    "\n",
    "Let's look at the data."
   ]
  },
  {
   "cell_type": "code",
   "execution_count": 55,
   "metadata": {},
   "outputs": [
    {
     "data": {
      "text/html": [
       "<div>\n",
       "<style scoped>\n",
       "    .dataframe tbody tr th:only-of-type {\n",
       "        vertical-align: middle;\n",
       "    }\n",
       "\n",
       "    .dataframe tbody tr th {\n",
       "        vertical-align: top;\n",
       "    }\n",
       "\n",
       "    .dataframe thead th {\n",
       "        text-align: right;\n",
       "    }\n",
       "</style>\n",
       "<table border=\"1\" class=\"dataframe\">\n",
       "  <thead>\n",
       "    <tr style=\"text-align: right;\">\n",
       "      <th></th>\n",
       "      <th>Name</th>\n",
       "      <th>Platform</th>\n",
       "      <th>Year_of_Release</th>\n",
       "      <th>Genre</th>\n",
       "      <th>NA_sales</th>\n",
       "      <th>EU_sales</th>\n",
       "      <th>JP_sales</th>\n",
       "      <th>Other_sales</th>\n",
       "      <th>Critic_Score</th>\n",
       "      <th>User_Score</th>\n",
       "      <th>Rating</th>\n",
       "    </tr>\n",
       "  </thead>\n",
       "  <tbody>\n",
       "    <tr>\n",
       "      <td>0</td>\n",
       "      <td>Wii Sports</td>\n",
       "      <td>Wii</td>\n",
       "      <td>2006.0</td>\n",
       "      <td>Sports</td>\n",
       "      <td>41.36</td>\n",
       "      <td>28.96</td>\n",
       "      <td>3.77</td>\n",
       "      <td>8.45</td>\n",
       "      <td>76.0</td>\n",
       "      <td>8</td>\n",
       "      <td>E</td>\n",
       "    </tr>\n",
       "    <tr>\n",
       "      <td>1</td>\n",
       "      <td>Super Mario Bros.</td>\n",
       "      <td>NES</td>\n",
       "      <td>1985.0</td>\n",
       "      <td>Platform</td>\n",
       "      <td>29.08</td>\n",
       "      <td>3.58</td>\n",
       "      <td>6.81</td>\n",
       "      <td>0.77</td>\n",
       "      <td>NaN</td>\n",
       "      <td>NaN</td>\n",
       "      <td>NaN</td>\n",
       "    </tr>\n",
       "    <tr>\n",
       "      <td>2</td>\n",
       "      <td>Mario Kart Wii</td>\n",
       "      <td>Wii</td>\n",
       "      <td>2008.0</td>\n",
       "      <td>Racing</td>\n",
       "      <td>15.68</td>\n",
       "      <td>12.76</td>\n",
       "      <td>3.79</td>\n",
       "      <td>3.29</td>\n",
       "      <td>82.0</td>\n",
       "      <td>8.3</td>\n",
       "      <td>E</td>\n",
       "    </tr>\n",
       "    <tr>\n",
       "      <td>3</td>\n",
       "      <td>Wii Sports Resort</td>\n",
       "      <td>Wii</td>\n",
       "      <td>2009.0</td>\n",
       "      <td>Sports</td>\n",
       "      <td>15.61</td>\n",
       "      <td>10.93</td>\n",
       "      <td>3.28</td>\n",
       "      <td>2.95</td>\n",
       "      <td>80.0</td>\n",
       "      <td>8</td>\n",
       "      <td>E</td>\n",
       "    </tr>\n",
       "    <tr>\n",
       "      <td>4</td>\n",
       "      <td>Pokemon Red/Pokemon Blue</td>\n",
       "      <td>GB</td>\n",
       "      <td>1996.0</td>\n",
       "      <td>Role-Playing</td>\n",
       "      <td>11.27</td>\n",
       "      <td>8.89</td>\n",
       "      <td>10.22</td>\n",
       "      <td>1.00</td>\n",
       "      <td>NaN</td>\n",
       "      <td>NaN</td>\n",
       "      <td>NaN</td>\n",
       "    </tr>\n",
       "  </tbody>\n",
       "</table>\n",
       "</div>"
      ],
      "text/plain": [
       "                       Name Platform  Year_of_Release         Genre  NA_sales  \\\n",
       "0                Wii Sports      Wii           2006.0        Sports     41.36   \n",
       "1         Super Mario Bros.      NES           1985.0      Platform     29.08   \n",
       "2            Mario Kart Wii      Wii           2008.0        Racing     15.68   \n",
       "3         Wii Sports Resort      Wii           2009.0        Sports     15.61   \n",
       "4  Pokemon Red/Pokemon Blue       GB           1996.0  Role-Playing     11.27   \n",
       "\n",
       "   EU_sales  JP_sales  Other_sales  Critic_Score User_Score Rating  \n",
       "0     28.96      3.77         8.45          76.0          8      E  \n",
       "1      3.58      6.81         0.77           NaN        NaN    NaN  \n",
       "2     12.76      3.79         3.29          82.0        8.3      E  \n",
       "3     10.93      3.28         2.95          80.0          8      E  \n",
       "4      8.89     10.22         1.00           NaN        NaN    NaN  "
      ]
     },
     "execution_count": 55,
     "metadata": {},
     "output_type": "execute_result"
    }
   ],
   "source": [
    "df.head()"
   ]
  },
  {
   "cell_type": "markdown",
   "metadata": {},
   "source": [
    "Приведем названия столбцов к нижнему регистру.\n",
    "\n",
    "Let's convert the column names to lower case."
   ]
  },
  {
   "cell_type": "code",
   "execution_count": 56,
   "metadata": {},
   "outputs": [],
   "source": [
    "df.columns = df.columns.str.lower() "
   ]
  },
  {
   "cell_type": "markdown",
   "metadata": {},
   "source": [
    "Посмотрим общую информацию о данных.\n",
    "\n",
    "Let's look at general information about the data."
   ]
  },
  {
   "cell_type": "code",
   "execution_count": 57,
   "metadata": {
    "scrolled": true
   },
   "outputs": [
    {
     "name": "stdout",
     "output_type": "stream",
     "text": [
      "<class 'pandas.core.frame.DataFrame'>\n",
      "RangeIndex: 16715 entries, 0 to 16714\n",
      "Data columns (total 11 columns):\n",
      "name               16713 non-null object\n",
      "platform           16715 non-null object\n",
      "year_of_release    16446 non-null float64\n",
      "genre              16713 non-null object\n",
      "na_sales           16715 non-null float64\n",
      "eu_sales           16715 non-null float64\n",
      "jp_sales           16715 non-null float64\n",
      "other_sales        16715 non-null float64\n",
      "critic_score       8137 non-null float64\n",
      "user_score         10014 non-null object\n",
      "rating             9949 non-null object\n",
      "dtypes: float64(6), object(5)\n",
      "memory usage: 1.4+ MB\n"
     ]
    }
   ],
   "source": [
    "df.info()"
   ]
  },
  {
   "cell_type": "markdown",
   "metadata": {},
   "source": [
    "### Итог:\n",
    "- Видим много пропусков в оценках критиков и пользователей, рейтинге игры. \n",
    "- Наблюдаем некорректные форматы.\n",
    "\n",
    "### Result:\n",
    "- We see a lot of gaps in the ratings of critics and users, the rating of the game.\n",
    "- Watching incorrect formats."
   ]
  },
  {
   "cell_type": "markdown",
   "metadata": {},
   "source": [
    "<a id='Step_4'></a>\n",
    "## Шаг 2. Предобработка данных.\n",
    "\n",
    "## Step 2. Data preprocessing."
   ]
  },
  {
   "cell_type": "markdown",
   "metadata": {},
   "source": [
    "<a id='Step_5'></a>\n",
    "### Обработка пропусков и изменение типов данных.\n",
    "\n",
    "### Handling gaps and changing data types."
   ]
  },
  {
   "cell_type": "markdown",
   "metadata": {},
   "source": [
    "- name - мало пропузенных значений, заполнить не получится - удалим\n",
    "- platform - нет пропусков\n",
    "- year_of_release - мало пропузенных значений, заполнить не получится - удалим\n",
    "- genre - мало пропузенных значений, заполнить не получится - удалим\n",
    "- na_sales - нет пропусков, но есть нули\n",
    "- eu_sales - нет пропусков, но есть нули\n",
    "- jp_sales - нет пропусков, но есть нули\n",
    "- other_sales - нет пропусков, но есть нули\n",
    "- critic_score - заполним медианами по жанру\n",
    "- user_score - 'tbd' - изменим на 'nan' и заполним медианами по жанру\n",
    "- rating - много пропущенных значений - оставим как есть"
   ]
  },
  {
   "cell_type": "markdown",
   "metadata": {},
   "source": [
    "- name - there are few missing values, it will not work to fill - delete\n",
    "- platform - no skips\n",
    "- year_of_release - there are few missing values, it will not work to fill - delete\n",
    "- genre - few missing values, it will not work to fill - delete\n",
    "- na_sales - no gaps, but zeros\n",
    "- eu_sales - no gaps, but zeros\n",
    "- jp_sales - no gaps, but zeros\n",
    "- other_sales - no gaps, but zeros\n",
    "- critic_score - fill in medians by genre\n",
    "- user_score - 'tbd' - change to 'nan' and fill with medians by genre\n",
    "- rating - many missing values - leave as is"
   ]
  },
  {
   "cell_type": "code",
   "execution_count": 58,
   "metadata": {},
   "outputs": [],
   "source": [
    "# Заполним пропуски в рейтнге критиков медианами.\n",
    "df['critic_score'] = df.groupby('genre')['critic_score'].apply(lambda x: x.fillna(x.mean()))\n",
    "# Заменим 'tbd' на Nan, так как 'tbd' означает, что оценки еще нет.\n",
    "df.loc[df['user_score'] == 'tbd', 'user_score'] = np.nan\n",
    "# Изменим тип данных 'user_score' на float.\n",
    "df['user_score'] = df['user_score'].astype('float64')\n",
    "# Заполним пропуски в рейтнге критиков медианами.\n",
    "df['user_score'] = df.groupby('genre')['user_score'].apply(lambda x: x.fillna(x.mean()))\n",
    "#Удалим строки с пропусками в 'name', 'year_of_release', 'genre'.\n",
    "df.dropna(subset=['name', 'year_of_release', 'genre'], inplace=True)\n",
    "# Изменим тип данных 'year_of_release' на целочисленное значение.\n",
    "df['year_of_release'] = df['year_of_release'].astype('int64')"
   ]
  },
  {
   "cell_type": "markdown",
   "metadata": {},
   "source": [
    "<a id='Step_6'></a>\n",
    "### Унификация регистра и удаление дубликатов\n",
    "\n",
    "### Case unification and removal of duplicates"
   ]
  },
  {
   "cell_type": "code",
   "execution_count": 59,
   "metadata": {},
   "outputs": [],
   "source": [
    "# Приводим к нижнему регистру.\n",
    "for i in df.select_dtypes(include = ['object']):\n",
    "    df[i] = df[i].str.lower()\n",
    "# Удаляем дубликаты.\n",
    "df.drop_duplicates(inplace=True)\n",
    "df.reset_index(drop=True, inplace=True)"
   ]
  },
  {
   "cell_type": "markdown",
   "metadata": {},
   "source": [
    "Посмотрим на результат.\n",
    "\n",
    "Let's look at the result."
   ]
  },
  {
   "cell_type": "code",
   "execution_count": 60,
   "metadata": {
    "scrolled": true
   },
   "outputs": [
    {
     "name": "stdout",
     "output_type": "stream",
     "text": [
      "<class 'pandas.core.frame.DataFrame'>\n",
      "RangeIndex: 16444 entries, 0 to 16443\n",
      "Data columns (total 11 columns):\n",
      "name               16444 non-null object\n",
      "platform           16444 non-null object\n",
      "year_of_release    16444 non-null int64\n",
      "genre              16444 non-null object\n",
      "na_sales           16444 non-null float64\n",
      "eu_sales           16444 non-null float64\n",
      "jp_sales           16444 non-null float64\n",
      "other_sales        16444 non-null float64\n",
      "critic_score       16444 non-null float64\n",
      "user_score         16444 non-null float64\n",
      "rating             9768 non-null object\n",
      "dtypes: float64(6), int64(1), object(4)\n",
      "memory usage: 1.4+ MB\n"
     ]
    }
   ],
   "source": [
    "df.info()"
   ]
  },
  {
   "cell_type": "markdown",
   "metadata": {},
   "source": [
    "<a id='Step_7'></a>\n",
    "### Расчет дополнительных показателей.\n",
    "\n",
    "### Calculation of additional indicators."
   ]
  },
  {
   "cell_type": "markdown",
   "metadata": {},
   "source": [
    "Добавим общую выручку для каждой игры.\n",
    "\n",
    "Let's add the total revenue for each game."
   ]
  },
  {
   "cell_type": "code",
   "execution_count": 61,
   "metadata": {},
   "outputs": [],
   "source": [
    "df['total_sales'] = df['na_sales'] + df['eu_sales'] + df['jp_sales'] + df['other_sales']"
   ]
  },
  {
   "cell_type": "code",
   "execution_count": 62,
   "metadata": {
    "scrolled": false
   },
   "outputs": [
    {
     "data": {
      "text/html": [
       "<div>\n",
       "<style scoped>\n",
       "    .dataframe tbody tr th:only-of-type {\n",
       "        vertical-align: middle;\n",
       "    }\n",
       "\n",
       "    .dataframe tbody tr th {\n",
       "        vertical-align: top;\n",
       "    }\n",
       "\n",
       "    .dataframe thead th {\n",
       "        text-align: right;\n",
       "    }\n",
       "</style>\n",
       "<table border=\"1\" class=\"dataframe\">\n",
       "  <thead>\n",
       "    <tr style=\"text-align: right;\">\n",
       "      <th></th>\n",
       "      <th>name</th>\n",
       "      <th>platform</th>\n",
       "      <th>year_of_release</th>\n",
       "      <th>genre</th>\n",
       "      <th>na_sales</th>\n",
       "      <th>eu_sales</th>\n",
       "      <th>jp_sales</th>\n",
       "      <th>other_sales</th>\n",
       "      <th>critic_score</th>\n",
       "      <th>user_score</th>\n",
       "      <th>rating</th>\n",
       "      <th>total_sales</th>\n",
       "    </tr>\n",
       "  </thead>\n",
       "  <tbody>\n",
       "    <tr>\n",
       "      <td>0</td>\n",
       "      <td>wii sports</td>\n",
       "      <td>wii</td>\n",
       "      <td>2006</td>\n",
       "      <td>sports</td>\n",
       "      <td>41.36</td>\n",
       "      <td>28.96</td>\n",
       "      <td>3.77</td>\n",
       "      <td>8.45</td>\n",
       "      <td>76.000000</td>\n",
       "      <td>8.000000</td>\n",
       "      <td>e</td>\n",
       "      <td>82.54</td>\n",
       "    </tr>\n",
       "    <tr>\n",
       "      <td>1</td>\n",
       "      <td>super mario bros.</td>\n",
       "      <td>nes</td>\n",
       "      <td>1985</td>\n",
       "      <td>platform</td>\n",
       "      <td>29.08</td>\n",
       "      <td>3.58</td>\n",
       "      <td>6.81</td>\n",
       "      <td>0.77</td>\n",
       "      <td>68.058350</td>\n",
       "      <td>7.301402</td>\n",
       "      <td>NaN</td>\n",
       "      <td>40.24</td>\n",
       "    </tr>\n",
       "    <tr>\n",
       "      <td>2</td>\n",
       "      <td>mario kart wii</td>\n",
       "      <td>wii</td>\n",
       "      <td>2008</td>\n",
       "      <td>racing</td>\n",
       "      <td>15.68</td>\n",
       "      <td>12.76</td>\n",
       "      <td>3.79</td>\n",
       "      <td>3.29</td>\n",
       "      <td>82.000000</td>\n",
       "      <td>8.300000</td>\n",
       "      <td>e</td>\n",
       "      <td>35.52</td>\n",
       "    </tr>\n",
       "    <tr>\n",
       "      <td>3</td>\n",
       "      <td>wii sports resort</td>\n",
       "      <td>wii</td>\n",
       "      <td>2009</td>\n",
       "      <td>sports</td>\n",
       "      <td>15.61</td>\n",
       "      <td>10.93</td>\n",
       "      <td>3.28</td>\n",
       "      <td>2.95</td>\n",
       "      <td>80.000000</td>\n",
       "      <td>8.000000</td>\n",
       "      <td>e</td>\n",
       "      <td>32.77</td>\n",
       "    </tr>\n",
       "    <tr>\n",
       "      <td>4</td>\n",
       "      <td>pokemon red/pokemon blue</td>\n",
       "      <td>gb</td>\n",
       "      <td>1996</td>\n",
       "      <td>role-playing</td>\n",
       "      <td>11.27</td>\n",
       "      <td>8.89</td>\n",
       "      <td>10.22</td>\n",
       "      <td>1.00</td>\n",
       "      <td>72.652646</td>\n",
       "      <td>7.619515</td>\n",
       "      <td>NaN</td>\n",
       "      <td>31.38</td>\n",
       "    </tr>\n",
       "  </tbody>\n",
       "</table>\n",
       "</div>"
      ],
      "text/plain": [
       "                       name platform  year_of_release         genre  na_sales  \\\n",
       "0                wii sports      wii             2006        sports     41.36   \n",
       "1         super mario bros.      nes             1985      platform     29.08   \n",
       "2            mario kart wii      wii             2008        racing     15.68   \n",
       "3         wii sports resort      wii             2009        sports     15.61   \n",
       "4  pokemon red/pokemon blue       gb             1996  role-playing     11.27   \n",
       "\n",
       "   eu_sales  jp_sales  other_sales  critic_score  user_score rating  \\\n",
       "0     28.96      3.77         8.45     76.000000    8.000000      e   \n",
       "1      3.58      6.81         0.77     68.058350    7.301402    NaN   \n",
       "2     12.76      3.79         3.29     82.000000    8.300000      e   \n",
       "3     10.93      3.28         2.95     80.000000    8.000000      e   \n",
       "4      8.89     10.22         1.00     72.652646    7.619515    NaN   \n",
       "\n",
       "   total_sales  \n",
       "0        82.54  \n",
       "1        40.24  \n",
       "2        35.52  \n",
       "3        32.77  \n",
       "4        31.38  "
      ]
     },
     "execution_count": 62,
     "metadata": {},
     "output_type": "execute_result"
    }
   ],
   "source": [
    "df.head()"
   ]
  },
  {
   "cell_type": "markdown",
   "metadata": {},
   "source": [
    "### Итог: \n",
    "- пропуски заполнены\n",
    "- форматы исправлены\n",
    "- дубликаты и строки, где пропуски невозомжно удалить, удалены\n",
    "- добавлен столбец с общим объёмом продаж по каждой игре\n",
    "\n",
    "### Result:\n",
    "- gaps filled\n",
    "- formats fixed\n",
    "- duplicates and lines where gaps cannot be removed have been removed\n",
    "- added a column with total sales for each game"
   ]
  },
  {
   "cell_type": "markdown",
   "metadata": {},
   "source": [
    "<div class=\"alert alert-info\">Пропуски в name, year_of_release, genre и rating скорее всего обусловлены ошибками при сборе данных, так как эта информация является базовым описание игры. Пропуски в оценках критиков и пользователей, возможно, обсусловлены неправильным выбором ресурса, на котором собиралась информация или же эти игры на столько не популярны. </div>\n",
    "\n",
    "<div class=\"alert alert-info\">The omissions in name, year_of_release, genre, and rating are most likely due to errors in data collection, since this information is the base description of the game. The gaps in the ratings of critics and users may be due to the wrong choice of the resource on which the information was collected, or these games are not so popular. </div>"
   ]
  },
  {
   "cell_type": "markdown",
   "metadata": {},
   "source": [
    "<a id='Step_8'></a>\n",
    "## Шаг 3. Исследовательский анализ.\n",
    "\n",
    "## Step 3. Exploratory analysis."
   ]
  },
  {
   "cell_type": "markdown",
   "metadata": {},
   "source": [
    "<a id='Step_9'></a>\n",
    "### Посмотрим, сколько игр выпускалось в разные годы. Важны ли данные за все периоды?\n",
    "\n",
    "### Let's see how many games were released in different years. Is data for all periods important?"
   ]
  },
  {
   "cell_type": "code",
   "execution_count": 63,
   "metadata": {
    "scrolled": true
   },
   "outputs": [
    {
     "data": {
      "text/html": [
       "<div>\n",
       "<style scoped>\n",
       "    .dataframe tbody tr th:only-of-type {\n",
       "        vertical-align: middle;\n",
       "    }\n",
       "\n",
       "    .dataframe tbody tr th {\n",
       "        vertical-align: top;\n",
       "    }\n",
       "\n",
       "    .dataframe thead th {\n",
       "        text-align: right;\n",
       "    }\n",
       "</style>\n",
       "<table border=\"1\" class=\"dataframe\">\n",
       "  <thead>\n",
       "    <tr style=\"text-align: right;\">\n",
       "      <th></th>\n",
       "      <th>name</th>\n",
       "    </tr>\n",
       "    <tr>\n",
       "      <th>year_of_release</th>\n",
       "      <th></th>\n",
       "    </tr>\n",
       "  </thead>\n",
       "  <tbody>\n",
       "    <tr>\n",
       "      <td>1980</td>\n",
       "      <td>9</td>\n",
       "    </tr>\n",
       "    <tr>\n",
       "      <td>1981</td>\n",
       "      <td>46</td>\n",
       "    </tr>\n",
       "    <tr>\n",
       "      <td>1982</td>\n",
       "      <td>36</td>\n",
       "    </tr>\n",
       "    <tr>\n",
       "      <td>1983</td>\n",
       "      <td>17</td>\n",
       "    </tr>\n",
       "    <tr>\n",
       "      <td>1984</td>\n",
       "      <td>14</td>\n",
       "    </tr>\n",
       "    <tr>\n",
       "      <td>1985</td>\n",
       "      <td>14</td>\n",
       "    </tr>\n",
       "    <tr>\n",
       "      <td>1986</td>\n",
       "      <td>21</td>\n",
       "    </tr>\n",
       "    <tr>\n",
       "      <td>1987</td>\n",
       "      <td>16</td>\n",
       "    </tr>\n",
       "    <tr>\n",
       "      <td>1988</td>\n",
       "      <td>15</td>\n",
       "    </tr>\n",
       "    <tr>\n",
       "      <td>1989</td>\n",
       "      <td>17</td>\n",
       "    </tr>\n",
       "    <tr>\n",
       "      <td>1990</td>\n",
       "      <td>16</td>\n",
       "    </tr>\n",
       "    <tr>\n",
       "      <td>1991</td>\n",
       "      <td>41</td>\n",
       "    </tr>\n",
       "    <tr>\n",
       "      <td>1992</td>\n",
       "      <td>43</td>\n",
       "    </tr>\n",
       "    <tr>\n",
       "      <td>1993</td>\n",
       "      <td>60</td>\n",
       "    </tr>\n",
       "    <tr>\n",
       "      <td>1994</td>\n",
       "      <td>121</td>\n",
       "    </tr>\n",
       "    <tr>\n",
       "      <td>1995</td>\n",
       "      <td>219</td>\n",
       "    </tr>\n",
       "    <tr>\n",
       "      <td>1996</td>\n",
       "      <td>263</td>\n",
       "    </tr>\n",
       "    <tr>\n",
       "      <td>1997</td>\n",
       "      <td>289</td>\n",
       "    </tr>\n",
       "    <tr>\n",
       "      <td>1998</td>\n",
       "      <td>379</td>\n",
       "    </tr>\n",
       "    <tr>\n",
       "      <td>1999</td>\n",
       "      <td>338</td>\n",
       "    </tr>\n",
       "    <tr>\n",
       "      <td>2000</td>\n",
       "      <td>350</td>\n",
       "    </tr>\n",
       "    <tr>\n",
       "      <td>2001</td>\n",
       "      <td>482</td>\n",
       "    </tr>\n",
       "    <tr>\n",
       "      <td>2002</td>\n",
       "      <td>829</td>\n",
       "    </tr>\n",
       "    <tr>\n",
       "      <td>2003</td>\n",
       "      <td>775</td>\n",
       "    </tr>\n",
       "    <tr>\n",
       "      <td>2004</td>\n",
       "      <td>762</td>\n",
       "    </tr>\n",
       "    <tr>\n",
       "      <td>2005</td>\n",
       "      <td>939</td>\n",
       "    </tr>\n",
       "    <tr>\n",
       "      <td>2006</td>\n",
       "      <td>1006</td>\n",
       "    </tr>\n",
       "    <tr>\n",
       "      <td>2007</td>\n",
       "      <td>1197</td>\n",
       "    </tr>\n",
       "    <tr>\n",
       "      <td>2008</td>\n",
       "      <td>1427</td>\n",
       "    </tr>\n",
       "    <tr>\n",
       "      <td>2009</td>\n",
       "      <td>1426</td>\n",
       "    </tr>\n",
       "    <tr>\n",
       "      <td>2010</td>\n",
       "      <td>1255</td>\n",
       "    </tr>\n",
       "    <tr>\n",
       "      <td>2011</td>\n",
       "      <td>1136</td>\n",
       "    </tr>\n",
       "    <tr>\n",
       "      <td>2012</td>\n",
       "      <td>653</td>\n",
       "    </tr>\n",
       "    <tr>\n",
       "      <td>2013</td>\n",
       "      <td>544</td>\n",
       "    </tr>\n",
       "    <tr>\n",
       "      <td>2014</td>\n",
       "      <td>581</td>\n",
       "    </tr>\n",
       "    <tr>\n",
       "      <td>2015</td>\n",
       "      <td>606</td>\n",
       "    </tr>\n",
       "    <tr>\n",
       "      <td>2016</td>\n",
       "      <td>502</td>\n",
       "    </tr>\n",
       "  </tbody>\n",
       "</table>\n",
       "</div>"
      ],
      "text/plain": [
       "                 name\n",
       "year_of_release      \n",
       "1980                9\n",
       "1981               46\n",
       "1982               36\n",
       "1983               17\n",
       "1984               14\n",
       "1985               14\n",
       "1986               21\n",
       "1987               16\n",
       "1988               15\n",
       "1989               17\n",
       "1990               16\n",
       "1991               41\n",
       "1992               43\n",
       "1993               60\n",
       "1994              121\n",
       "1995              219\n",
       "1996              263\n",
       "1997              289\n",
       "1998              379\n",
       "1999              338\n",
       "2000              350\n",
       "2001              482\n",
       "2002              829\n",
       "2003              775\n",
       "2004              762\n",
       "2005              939\n",
       "2006             1006\n",
       "2007             1197\n",
       "2008             1427\n",
       "2009             1426\n",
       "2010             1255\n",
       "2011             1136\n",
       "2012              653\n",
       "2013              544\n",
       "2014              581\n",
       "2015              606\n",
       "2016              502"
      ]
     },
     "execution_count": 63,
     "metadata": {},
     "output_type": "execute_result"
    }
   ],
   "source": [
    "df.pivot_table(index='year_of_release', values='name', aggfunc='count').sort_values(by='year_of_release')"
   ]
  },
  {
   "cell_type": "markdown",
   "metadata": {},
   "source": [
    "Думаю, что данные об играх выпущенных ранее 2012 года не важны для текущего анализа.\n",
    "\n",
    "I think that data on games released before 2012 is not important for the current analysis."
   ]
  },
  {
   "cell_type": "code",
   "execution_count": 64,
   "metadata": {},
   "outputs": [
    {
     "data": {
      "image/png": "[encoded data removed]",
      "text/plain": [
       "<Figure size 432x288 with 1 Axes>"
      ]
     },
     "metadata": {
      "needs_background": "light"
     },
     "output_type": "display_data"
    }
   ],
   "source": [
    "df.pivot_table(index='year_of_release', values='name', aggfunc='count').sort_values(by='year_of_release').plot(\n",
    "    title='number of games released');"
   ]
  },
  {
   "cell_type": "markdown",
   "metadata": {},
   "source": [
    "<div class=\"alert alert-info\">Похоже, что игровая индустрия пережила свои лучшие годы в 2004-2011 годах. Объем выпускаемых игр в 2017 году скорее будет похож на объем выпущенных игр в 2012-2016 годах.</div>\n",
    "\n",
    "\n",
    "<div class=\"alert alert-info\">The gaming industry seems to have had its best years in 2004-2011. The volume of games released in 2017 is more likely to be similar to the volume of games released in 2012-2016.</div>"
   ]
  },
  {
   "cell_type": "markdown",
   "metadata": {},
   "source": [
    "<a id='Step_10'></a>\n",
    "### Посмотрим, как менялись продажи по платформам. Выберем платформы с наибольшими суммарными продажами и построим распределение по годам. За какой характерный срок появляются новые и исчезают старые платформы?\n",
    "\n",
    "### Let's see how sales changed by platform. Let's choose the platforms with the highest total sales and plot the distribution by years. How long does it take for new platforms to appear and old ones to disappear?"
   ]
  },
  {
   "cell_type": "code",
   "execution_count": 65,
   "metadata": {
    "scrolled": true
   },
   "outputs": [
    {
     "data": {
      "text/plain": [
       "platform\n",
       "ps2     1233.56\n",
       "x360     961.24\n",
       "ps3      931.34\n",
       "wii      891.18\n",
       "ds       802.78\n",
       "ps       727.58\n",
       "ps4      314.14\n",
       "gba      312.88\n",
       "psp      289.53\n",
       "3ds      257.81\n",
       "pc       255.76\n",
       "gb       254.43\n",
       "xb       251.57\n",
       "nes      251.05\n",
       "n64      218.01\n",
       "snes     200.04\n",
       "gc       196.73\n",
       "xone     159.32\n",
       "2600      86.48\n",
       "wiiu      82.19\n",
       "psv       53.81\n",
       "sat       33.59\n",
       "gen       28.35\n",
       "dc        15.95\n",
       "scd        1.86\n",
       "ng         1.44\n",
       "ws         1.42\n",
       "tg16       0.16\n",
       "3do        0.10\n",
       "gg         0.04\n",
       "pcfx       0.03\n",
       "Name: total_sales, dtype: float64"
      ]
     },
     "execution_count": 65,
     "metadata": {},
     "output_type": "execute_result"
    }
   ],
   "source": [
    "df.groupby('platform')['total_sales'].sum().sort_values(ascending=False)"
   ]
  },
  {
   "cell_type": "code",
   "execution_count": 66,
   "metadata": {},
   "outputs": [
    {
     "data": {
      "image/png": "[encoded data removed]",
      "text/plain": [
       "<Figure size 432x288 with 1 Axes>"
      ]
     },
     "metadata": {
      "needs_background": "light"
     },
     "output_type": "display_data"
    },
    {
     "data": {
      "image/png": "[encoded data removed]",
      "text/plain": [
       "<Figure size 432x288 with 1 Axes>"
      ]
     },
     "metadata": {
      "needs_background": "light"
     },
     "output_type": "display_data"
    },
    {
     "data": {
      "image/png": "[encoded data removed]",
      "text/plain": [
       "<Figure size 432x288 with 1 Axes>"
      ]
     },
     "metadata": {
      "needs_background": "light"
     },
     "output_type": "display_data"
    },
    {
     "data": {
      "image/png": "[encoded data removed]",
      "text/plain": [
       "<Figure size 432x288 with 1 Axes>"
      ]
     },
     "metadata": {
      "needs_background": "light"
     },
     "output_type": "display_data"
    },
    {
     "data": {
      "image/png": "[encoded data removed]",
      "text/plain": [
       "<Figure size 432x288 with 1 Axes>"
      ]
     },
     "metadata": {
      "needs_background": "light"
     },
     "output_type": "display_data"
    },
    {
     "data": {
      "image/png": "[encoded data removed]",
      "text/plain": [
       "<Figure size 432x288 with 1 Axes>"
      ]
     },
     "metadata": {
      "needs_background": "light"
     },
     "output_type": "display_data"
    },
    {
     "data": {
      "image/png": "[encoded data removed]",
      "text/plain": [
       "<Figure size 432x288 with 1 Axes>"
      ]
     },
     "metadata": {
      "needs_background": "light"
     },
     "output_type": "display_data"
    },
    {
     "data": {
      "image/png": "[encoded data removed]",
      "text/plain": [
       "<Figure size 432x288 with 1 Axes>"
      ]
     },
     "metadata": {
      "needs_background": "light"
     },
     "output_type": "display_data"
    },
    {
     "data": {
      "image/png": "[encoded data removed]",
      "text/plain": [
       "<Figure size 432x288 with 1 Axes>"
      ]
     },
     "metadata": {
      "needs_background": "light"
     },
     "output_type": "display_data"
    },
    {
     "data": {
      "image/png": "[encoded data removed]",
      "text/plain": [
       "<Figure size 432x288 with 1 Axes>"
      ]
     },
     "metadata": {
      "needs_background": "light"
     },
     "output_type": "display_data"
    }
   ],
   "source": [
    "for i in df.groupby('platform')['total_sales'].sum().sort_values(ascending=False).head(10).index:\n",
    "    df.query('platform == @i').pivot_table(index='year_of_release', values='total_sales', aggfunc='sum').plot(kind='bar', \n",
    "                                                                                                              title=i)"
   ]
  },
  {
   "cell_type": "markdown",
   "metadata": {},
   "source": [
    "- Похоже, что платформа живет 12 лет...\n",
    "- Основной объем продаж длится 5 лет.\n",
    "- Это все не касатеся ПК. У них более длинная история.\n",
    "\n"
   ]
  },
  {
   "cell_type": "markdown",
   "metadata": {},
   "source": [
    "- It looks like the platform has been alive for 12 years...\n",
    "- The main sales volume lasts 5 years.\n",
    "- This is not about PC. They have a longer history."
   ]
  },
  {
   "cell_type": "markdown",
   "metadata": {},
   "source": [
    "<a id='Step_11'></a>\n",
    "### Возьмём данные за соответствующий актуальный период. Актуальный период определим самостоятельно в результате исследования предыдущих вопросов. Основной фактор — эти данные помогут построить прогноз на 2017 год.\n",
    "\n",
    "### Let's take the data for the corresponding actual period. The current period will be determined independently as a result of the study of previous issues. The main factor is that these data will help build a forecast for 2017."
   ]
  },
  {
   "cell_type": "markdown",
   "metadata": {},
   "source": [
    "Будем исследовать данные за последние 5 лет (с 2012 года).\n",
    "\n",
    "We will examine the data for the last 5 years (since 2012)."
   ]
  },
  {
   "cell_type": "markdown",
   "metadata": {},
   "source": [
    "<a id='Step_12'></a>\n",
    "### Какие платформы лидируют по продажам, растут или падают? Выберите несколько потенциально прибыльных платформ.\n",
    "\n",
    "### Which platforms are leading in sales, rising or falling? Pick a few potentially profitable platforms."
   ]
  },
  {
   "cell_type": "markdown",
   "metadata": {},
   "source": [
    "К 2016 году всё еще продаются игры на следующие платформы:\n",
    "\n",
    "As of 2016, games are still being sold on the following platforms:"
   ]
  },
  {
   "cell_type": "code",
   "execution_count": 67,
   "metadata": {},
   "outputs": [
    {
     "name": "stdout",
     "output_type": "stream",
     "text": [
      "ps4\n",
      "3ds\n",
      "xone\n",
      "wiiu\n",
      "ps3\n",
      "pc\n",
      "x360\n",
      "psv\n",
      "wii\n"
     ]
    }
   ],
   "source": [
    "for i in df[df['year_of_release'] == 2016]['platform'].unique():\n",
    "    print(i)"
   ]
  },
  {
   "cell_type": "code",
   "execution_count": 68,
   "metadata": {},
   "outputs": [
    {
     "data": {
      "image/png": "[encoded data removed]",
      "text/plain": [
       "<Figure size 432x288 with 1 Axes>"
      ]
     },
     "metadata": {
      "needs_background": "light"
     },
     "output_type": "display_data"
    },
    {
     "data": {
      "image/png": "[encoded data removed]",
      "text/plain": [
       "<Figure size 432x288 with 1 Axes>"
      ]
     },
     "metadata": {
      "needs_background": "light"
     },
     "output_type": "display_data"
    },
    {
     "data": {
      "image/png": "[encoded data removed]",
      "text/plain": [
       "<Figure size 432x288 with 1 Axes>"
      ]
     },
     "metadata": {
      "needs_background": "light"
     },
     "output_type": "display_data"
    },
    {
     "data": {
      "image/png": "[encoded data removed]",
      "text/plain": [
       "<Figure size 432x288 with 1 Axes>"
      ]
     },
     "metadata": {
      "needs_background": "light"
     },
     "output_type": "display_data"
    },
    {
     "data": {
      "image/png": "[encoded data removed]",
      "text/plain": [
       "<Figure size 432x288 with 1 Axes>"
      ]
     },
     "metadata": {
      "needs_background": "light"
     },
     "output_type": "display_data"
    },
    {
     "data": {
      "image/png": "[encoded data removed]",
      "text/plain": [
       "<Figure size 432x288 with 1 Axes>"
      ]
     },
     "metadata": {
      "needs_background": "light"
     },
     "output_type": "display_data"
    },
    {
     "data": {
      "image/png": "[encoded data removed]",
      "text/plain": [
       "<Figure size 432x288 with 1 Axes>"
      ]
     },
     "metadata": {
      "needs_background": "light"
     },
     "output_type": "display_data"
    },
    {
     "data": {
      "image/png": "[encoded data removed]",
      "text/plain": [
       "<Figure size 432x288 with 1 Axes>"
      ]
     },
     "metadata": {
      "needs_background": "light"
     },
     "output_type": "display_data"
    },
    {
     "data": {
      "image/png": "[encoded data removed]",
      "text/plain": [
       "<Figure size 432x288 with 1 Axes>"
      ]
     },
     "metadata": {
      "needs_background": "light"
     },
     "output_type": "display_data"
    }
   ],
   "source": [
    "for i in df[df['year_of_release'] == 2016]['platform'].unique():\n",
    "    df.query('platform == @i').pivot_table(index='year_of_release', values='total_sales', aggfunc='sum').plot(kind='bar', \n",
    "                                                                                                              title=i)"
   ]
  },
  {
   "cell_type": "markdown",
   "metadata": {},
   "source": [
    "Все платформы показывают падение продаж. Исходя из объема продаж, наиболее приоритетными оказываются ps4, 3ds и xone.\n",
    "\n",
    "All platforms show a drop in sales. Based on sales volume, ps4, 3ds and xone are top priority."
   ]
  },
  {
   "cell_type": "markdown",
   "metadata": {},
   "source": [
    "<a id='Step_13'></a>\n",
    "### Построим график «ящик с усами» по глобальным продажам игр в разбивке по платформам. \n",
    "\n",
    "### Let's plot a box and mustache chart of global game sales by platform."
   ]
  },
  {
   "cell_type": "code",
   "execution_count": 69,
   "metadata": {
    "scrolled": false
   },
   "outputs": [
    {
     "name": "stderr",
     "output_type": "stream",
     "text": [
      "/opt/conda/lib/python3.7/site-packages/numpy/core/_asarray.py:83: VisibleDeprecationWarning: Creating an ndarray from ragged nested sequences (which is a list-or-tuple of lists-or-tuples-or ndarrays with different lengths or shapes) is deprecated. If you meant to do this, you must specify 'dtype=object' when creating the ndarray\n",
      "  return array(a, dtype, copy=False, order=order)\n"
     ]
    },
    {
     "data": {
      "text/plain": [
       "Text(0.5, 0.98, 'Sales (pieces)')"
      ]
     },
     "execution_count": 69,
     "metadata": {},
     "output_type": "execute_result"
    },
    {
     "data": {
      "image/png": "[encoded data removed]",
      "text/plain": [
       "<Figure size 1440x504 with 1 Axes>"
      ]
     },
     "metadata": {
      "needs_background": "light"
     },
     "output_type": "display_data"
    }
   ],
   "source": [
    "plt.pyplot.boxplot((df[df['platform'] == 'ps4']['total_sales'], df[df['platform'] == '3ds']['total_sales'], \n",
    "df[df['platform'] == 'xone']['total_sales']), labels=('ps4', '3ds', 'xone'), vert=False, patch_artist=True)\n",
    "fig = plt.pyplot.gcf()\n",
    "fig.set_size_inches(20, 7)\n",
    "fig.suptitle('Sales (pieces)', fontsize=20)"
   ]
  },
  {
   "cell_type": "markdown",
   "metadata": {},
   "source": [
    "Значения количества проданных копий по всем трем платформам очень вариативны. Наиболее приоритетной среди этих платоформ представляется PS4: наибольший интерквартильный размах, самое большое максимальное значение, самый большое среднее.\n",
    "\n",
    "The figures for the number of copies sold across all three platforms are very variable. PS4 seems to be the most priority among these platforms: the largest interquartile range, the largest maximum value, and the largest average."
   ]
  },
  {
   "cell_type": "markdown",
   "metadata": {},
   "source": [
    "<a id='Step_14'></a>\n",
    "### Посмотрим, как влияют на продажи внутри одной популярной платформы отзывы пользователей и критиков. Построим диаграмму рассеяния и посчитаем корреляцию между отзывами и продажами.\n",
    "\n",
    "### Let's see how the reviews of users and critics affect sales within one popular platform. Let's build a scatterplot and calculate the correlation between reviews and sales."
   ]
  },
  {
   "cell_type": "markdown",
   "metadata": {},
   "source": [
    "<a id='Step_15'></a>\n",
    "### Влияние отзывов на продажи игр на PS4.\n",
    "\n",
    "### Impact of reviews on PS4 game sales."
   ]
  },
  {
   "cell_type": "code",
   "execution_count": 70,
   "metadata": {
    "scrolled": false
   },
   "outputs": [
    {
     "data": {
      "image/png": "[encoded data removed]",
      "text/plain": [
       "<Figure size 360x360 with 9 Axes>"
      ]
     },
     "metadata": {
      "needs_background": "light"
     },
     "output_type": "display_data"
    }
   ],
   "source": [
    "pd.plotting.scatter_matrix(df[df['platform'] == 'ps4'][['total_sales','user_score', 'critic_score']], figsize=(5, 5));"
   ]
  },
  {
   "cell_type": "code",
   "execution_count": 71,
   "metadata": {
    "scrolled": true
   },
   "outputs": [
    {
     "data": {
      "text/html": [
       "<div>\n",
       "<style scoped>\n",
       "    .dataframe tbody tr th:only-of-type {\n",
       "        vertical-align: middle;\n",
       "    }\n",
       "\n",
       "    .dataframe tbody tr th {\n",
       "        vertical-align: top;\n",
       "    }\n",
       "\n",
       "    .dataframe thead th {\n",
       "        text-align: right;\n",
       "    }\n",
       "</style>\n",
       "<table border=\"1\" class=\"dataframe\">\n",
       "  <thead>\n",
       "    <tr style=\"text-align: right;\">\n",
       "      <th></th>\n",
       "      <th>total_sales</th>\n",
       "      <th>user_score</th>\n",
       "      <th>critic_score</th>\n",
       "    </tr>\n",
       "  </thead>\n",
       "  <tbody>\n",
       "    <tr>\n",
       "      <td>total_sales</td>\n",
       "      <td>1.000000</td>\n",
       "      <td>-0.050876</td>\n",
       "      <td>0.354517</td>\n",
       "    </tr>\n",
       "    <tr>\n",
       "      <td>user_score</td>\n",
       "      <td>-0.050876</td>\n",
       "      <td>1.000000</td>\n",
       "      <td>0.503579</td>\n",
       "    </tr>\n",
       "    <tr>\n",
       "      <td>critic_score</td>\n",
       "      <td>0.354517</td>\n",
       "      <td>0.503579</td>\n",
       "      <td>1.000000</td>\n",
       "    </tr>\n",
       "  </tbody>\n",
       "</table>\n",
       "</div>"
      ],
      "text/plain": [
       "              total_sales  user_score  critic_score\n",
       "total_sales      1.000000   -0.050876      0.354517\n",
       "user_score      -0.050876    1.000000      0.503579\n",
       "critic_score     0.354517    0.503579      1.000000"
      ]
     },
     "execution_count": 71,
     "metadata": {},
     "output_type": "execute_result"
    }
   ],
   "source": [
    "df[df['platform'] == 'ps4'][['total_sales', 'user_score', 'critic_score']].corr()"
   ]
  },
  {
   "cell_type": "markdown",
   "metadata": {},
   "source": [
    "<div class=\"alert alert-info\">Влияние мнений критиков на продажи игр для PS4 слабое. Мнение пользователей оказывает очень слабое влияние на продажи. Корреляция мнений пользователей и критиков находится на среднем уровне.</div>\n",
    "\n",
    "<div class=\"alert alert-info\">The influence of critics on PS4 sales is weak. User opinion has very little impact on sales. The correlation between the opinions of users and critics is at an average level.</div>"
   ]
  },
  {
   "cell_type": "markdown",
   "metadata": {},
   "source": [
    "<a id='Step_16'></a>\n",
    "### Влияние отзывов на продажи игр на 3DS."
   ]
  },
  {
   "cell_type": "code",
   "execution_count": 72,
   "metadata": {},
   "outputs": [
    {
     "data": {
      "image/png": "[encoded data removed]",
      "text/plain": [
       "<Figure size 360x360 with 9 Axes>"
      ]
     },
     "metadata": {
      "needs_background": "light"
     },
     "output_type": "display_data"
    }
   ],
   "source": [
    "pd.plotting.scatter_matrix(df[df['platform'] == '3ds'][['total_sales','user_score', 'critic_score']], figsize=(5, 5));"
   ]
  },
  {
   "cell_type": "code",
   "execution_count": 73,
   "metadata": {},
   "outputs": [
    {
     "data": {
      "text/html": [
       "<div>\n",
       "<style scoped>\n",
       "    .dataframe tbody tr th:only-of-type {\n",
       "        vertical-align: middle;\n",
       "    }\n",
       "\n",
       "    .dataframe tbody tr th {\n",
       "        vertical-align: top;\n",
       "    }\n",
       "\n",
       "    .dataframe thead th {\n",
       "        text-align: right;\n",
       "    }\n",
       "</style>\n",
       "<table border=\"1\" class=\"dataframe\">\n",
       "  <thead>\n",
       "    <tr style=\"text-align: right;\">\n",
       "      <th></th>\n",
       "      <th>total_sales</th>\n",
       "      <th>user_score</th>\n",
       "      <th>critic_score</th>\n",
       "    </tr>\n",
       "  </thead>\n",
       "  <tbody>\n",
       "    <tr>\n",
       "      <td>total_sales</td>\n",
       "      <td>1.000000</td>\n",
       "      <td>0.165996</td>\n",
       "      <td>0.259248</td>\n",
       "    </tr>\n",
       "    <tr>\n",
       "      <td>user_score</td>\n",
       "      <td>0.165996</td>\n",
       "      <td>1.000000</td>\n",
       "      <td>0.631795</td>\n",
       "    </tr>\n",
       "    <tr>\n",
       "      <td>critic_score</td>\n",
       "      <td>0.259248</td>\n",
       "      <td>0.631795</td>\n",
       "      <td>1.000000</td>\n",
       "    </tr>\n",
       "  </tbody>\n",
       "</table>\n",
       "</div>"
      ],
      "text/plain": [
       "              total_sales  user_score  critic_score\n",
       "total_sales      1.000000    0.165996      0.259248\n",
       "user_score       0.165996    1.000000      0.631795\n",
       "critic_score     0.259248    0.631795      1.000000"
      ]
     },
     "execution_count": 73,
     "metadata": {},
     "output_type": "execute_result"
    }
   ],
   "source": [
    "df[df['platform'] == '3ds'][['total_sales', 'user_score', 'critic_score']].corr()"
   ]
  },
  {
   "cell_type": "markdown",
   "metadata": {},
   "source": [
    "<div class=\"alert alert-info\">Влияние мнений критиков и пользователей на продажи игр для 3DS очень слабое. Корреляция мнений пользователей и критиков находится на среднем уровне.</div>\n",
    "\n",
    "<div class=\"alert alert-info\">The influence of critics and users on 3DS game sales is very weak. The correlation between the opinions of users and critics is at an average level.</div>"
   ]
  },
  {
   "cell_type": "markdown",
   "metadata": {},
   "source": [
    "<a id='Step_17'></a>\n",
    "### Влияние отзывов на продажи игр на XOne.\n",
    "\n",
    "### Impact of reviews on game sales on XOne."
   ]
  },
  {
   "cell_type": "code",
   "execution_count": 74,
   "metadata": {},
   "outputs": [
    {
     "data": {
      "image/png": "[encoded data removed]",
      "text/plain": [
       "<Figure size 360x360 with 9 Axes>"
      ]
     },
     "metadata": {
      "needs_background": "light"
     },
     "output_type": "display_data"
    }
   ],
   "source": [
    "pd.plotting.scatter_matrix(df[df['platform'] == 'xone'][['total_sales','user_score', 'critic_score']], figsize=(5, 5));"
   ]
  },
  {
   "cell_type": "code",
   "execution_count": 75,
   "metadata": {
    "scrolled": true
   },
   "outputs": [
    {
     "data": {
      "text/html": [
       "<div>\n",
       "<style scoped>\n",
       "    .dataframe tbody tr th:only-of-type {\n",
       "        vertical-align: middle;\n",
       "    }\n",
       "\n",
       "    .dataframe tbody tr th {\n",
       "        vertical-align: top;\n",
       "    }\n",
       "\n",
       "    .dataframe thead th {\n",
       "        text-align: right;\n",
       "    }\n",
       "</style>\n",
       "<table border=\"1\" class=\"dataframe\">\n",
       "  <thead>\n",
       "    <tr style=\"text-align: right;\">\n",
       "      <th></th>\n",
       "      <th>total_sales</th>\n",
       "      <th>user_score</th>\n",
       "      <th>critic_score</th>\n",
       "    </tr>\n",
       "  </thead>\n",
       "  <tbody>\n",
       "    <tr>\n",
       "      <td>total_sales</td>\n",
       "      <td>1.000000</td>\n",
       "      <td>-0.088882</td>\n",
       "      <td>0.382426</td>\n",
       "    </tr>\n",
       "    <tr>\n",
       "      <td>user_score</td>\n",
       "      <td>-0.088882</td>\n",
       "      <td>1.000000</td>\n",
       "      <td>0.365638</td>\n",
       "    </tr>\n",
       "    <tr>\n",
       "      <td>critic_score</td>\n",
       "      <td>0.382426</td>\n",
       "      <td>0.365638</td>\n",
       "      <td>1.000000</td>\n",
       "    </tr>\n",
       "  </tbody>\n",
       "</table>\n",
       "</div>"
      ],
      "text/plain": [
       "              total_sales  user_score  critic_score\n",
       "total_sales      1.000000   -0.088882      0.382426\n",
       "user_score      -0.088882    1.000000      0.365638\n",
       "critic_score     0.382426    0.365638      1.000000"
      ]
     },
     "execution_count": 75,
     "metadata": {},
     "output_type": "execute_result"
    }
   ],
   "source": [
    "df[df['platform'] == 'xone'][['total_sales', 'user_score', 'critic_score']].corr()"
   ]
  },
  {
   "cell_type": "markdown",
   "metadata": {},
   "source": [
    "<div class=\"alert alert-info\">Влияние мнений критиков на продажи игр для XOne слабое. Мнение пользователей оказывает очень слабое влияние на продажи. Корреляция мнений пользователей и критиков слабая.</div>\n",
    "\n"
   ]
  },
  {
   "cell_type": "markdown",
   "metadata": {},
   "source": [
    "<div class=\"alert alert-info\">The influence of critics on XOne game sales is weak. User opinion has very little impact on sales. The correlation between user and critic opinions is weak.</div>"
   ]
  },
  {
   "cell_type": "markdown",
   "metadata": {},
   "source": [
    "- По всем трём платформам очень слабые корреляции между мнениеми пользователей и продажами.\n",
    "- 3DS так же имеет очень слабую корреляцию между мнениеми критиков и продажами.\n",
    "- PS4 и XOne имеют слабые корреляции между мнениями критиков и продажами.\n",
    "\n"
   ]
  },
  {
   "cell_type": "markdown",
   "metadata": {},
   "source": [
    "- Across all three platforms, there are very weak correlations between user opinions and sales.\n",
    "- The 3DS also has a very weak correlation between critics and sales.\n",
    "- PS4 and XOne have weak correlations between critics and sales."
   ]
  },
  {
   "cell_type": "markdown",
   "metadata": {},
   "source": [
    "<a id='Step_18'></a>\n",
    "### Посмотрим на общее распределение игр по жанрам.\n",
    "\n",
    "### Let's look at the general distribution of games by genre."
   ]
  },
  {
   "cell_type": "markdown",
   "metadata": {},
   "source": [
    "Как и условились раньше, период до 2012 года брать не будем.\n",
    "\n",
    "As agreed earlier, we will not take the period up to 2012."
   ]
  },
  {
   "cell_type": "code",
   "execution_count": 76,
   "metadata": {
    "scrolled": true
   },
   "outputs": [
    {
     "data": {
      "text/plain": [
       "<matplotlib.axes._subplots.AxesSubplot at 0x7f7ae5236e50>"
      ]
     },
     "execution_count": 76,
     "metadata": {},
     "output_type": "execute_result"
    },
    {
     "data": {
      "image/png": "[encoded data removed]",
      "text/plain": [
       "<Figure size 432x288 with 1 Axes>"
      ]
     },
     "metadata": {
      "needs_background": "light"
     },
     "output_type": "display_data"
    }
   ],
   "source": [
    "df[df['year_of_release'] > 2011].groupby('genre')['genre'].count().plot(kind='bar', rot=45, title='Genres')"
   ]
  },
  {
   "cell_type": "markdown",
   "metadata": {},
   "source": [
    "Наиболее популярны жанры: action, role-plaing и adventure. Абсолютным людером является action.\n",
    "Наименее популярны жанры: puzzle, simulation, strategy и platform.\n",
    "\n",
    "The most popular genres are action, role-playing and adventure. The absolute luder is action.\n",
    "The least popular genres are puzzle, simulation, strategy and platform."
   ]
  },
  {
   "cell_type": "markdown",
   "metadata": {},
   "source": [
    "### Вывод: \n",
    "- данные релевантны, если отнсятся к периоду 2012-2016 годы\n",
    "- платоформы переживают цикл появдения-исчезновения примерно за 11 лет\n",
    "- платформа приносит максимальное количество денег примерно в течении 5 лет\n",
    "- потенциальными платформами мы выбрали PS4, 3DS и XOne\n",
    "- объемы продаж игр для всех 3ех платформ очень вариативны\n",
    "- объемы продаж игр для всех 3ех платформ падают\n",
    "- наибольшую прибыль приносит продажа игр для PS4\n",
    "- отзывы критиков слабо влияют на продажи игр для 3DS\n",
    "- отызвы пользователей очень слабо влияют на продажи игр для всех 3ех платофрм\n",
    "- наиболее поплярен жанр action, наимение популярен жанр puzzle"
   ]
  },
  {
   "cell_type": "markdown",
   "metadata": {},
   "source": [
    "### Conclusion:\n",
    "- data are relevant if they refer to the period 2012-2016\n",
    "- Platforms experience a cycle of appearance and disappearance in about 11 years\n",
    "- the platform brings the maximum amount of money for about 5 years\n",
    "- we chose PS4, 3DS and XOne as potential platforms\n",
    "- game sales volumes for all 3 platforms are very variable\n",
    "- sales of games for all 3 platforms are falling\n",
    "- the highest profit comes from the sale of games for PS4\n",
    "- critical reviews have little effect on sales of 3DS games\n",
    "- user reviews have very little effect on game sales for all 3 platforms\n",
    "- the most popular action genre, the least popular puzzle genre"
   ]
  },
  {
   "cell_type": "markdown",
   "metadata": {},
   "source": [
    "<a id='Step_19'></a>\n",
    "## Шаг 4. Составим портрет пользователя каждого региона.\n",
    "\n",
    "## Step 4. Let's make a portrait of the user of each region."
   ]
  },
  {
   "cell_type": "markdown",
   "metadata": {},
   "source": [
    "<a id='Step_20'></a>\n",
    "### Северная Америка.\n",
    "\n",
    "### North America."
   ]
  },
  {
   "cell_type": "markdown",
   "metadata": {},
   "source": [
    "Самые популярные платформы в Северной Америке.\n",
    "\n",
    "The most popular platforms in North America."
   ]
  },
  {
   "cell_type": "code",
   "execution_count": 77,
   "metadata": {
    "scrolled": true
   },
   "outputs": [
    {
     "data": {
      "text/plain": [
       "platform\n",
       "x360    140.05\n",
       "ps4     108.74\n",
       "ps3     103.38\n",
       "xone     93.12\n",
       "3ds      55.31\n",
       "Name: na_sales, dtype: float64"
      ]
     },
     "execution_count": 77,
     "metadata": {},
     "output_type": "execute_result"
    }
   ],
   "source": [
    "df[df['year_of_release'] > 2011].groupby('platform')['na_sales'].sum().sort_values(ascending=False).head()"
   ]
  },
  {
   "cell_type": "markdown",
   "metadata": {},
   "source": [
    "Самые популярные жанры в Северной Америке.\n",
    "\n",
    "The most popular genres in North America."
   ]
  },
  {
   "cell_type": "code",
   "execution_count": 78,
   "metadata": {
    "scrolled": true
   },
   "outputs": [
    {
     "data": {
      "text/plain": [
       "genre\n",
       "action          177.84\n",
       "shooter         144.77\n",
       "sports           81.53\n",
       "role-playing     64.00\n",
       "misc             38.19\n",
       "Name: na_sales, dtype: float64"
      ]
     },
     "execution_count": 78,
     "metadata": {},
     "output_type": "execute_result"
    }
   ],
   "source": [
    "df[df['year_of_release'] > 2011].groupby('genre')['na_sales'].sum().sort_values(ascending=False).head()"
   ]
  },
  {
   "cell_type": "markdown",
   "metadata": {},
   "source": [
    "Влияние рейтнга на продажи в Северной Америке.\n",
    "\n",
    "The most popular genres in North America."
   ]
  },
  {
   "cell_type": "code",
   "execution_count": 79,
   "metadata": {
    "scrolled": false
   },
   "outputs": [
    {
     "data": {
      "text/plain": [
       "rating\n",
       "m       231.57\n",
       "e       114.37\n",
       "e10+     75.70\n",
       "t        66.02\n",
       "Name: na_sales, dtype: float64"
      ]
     },
     "execution_count": 79,
     "metadata": {},
     "output_type": "execute_result"
    }
   ],
   "source": [
    "df[df['year_of_release'] > 2011].groupby('rating')['na_sales'].sum().sort_values(ascending=False)"
   ]
  },
  {
   "cell_type": "markdown",
   "metadata": {},
   "source": [
    "<a id='Step_21'></a>\n",
    "### Европа.\n",
    "\n",
    "### Europe."
   ]
  },
  {
   "cell_type": "markdown",
   "metadata": {},
   "source": [
    "Самые популярные платформы в Европе.\n",
    "\n",
    "The most popular platforms in Europe."
   ]
  },
  {
   "cell_type": "code",
   "execution_count": 80,
   "metadata": {},
   "outputs": [
    {
     "data": {
      "text/plain": [
       "platform\n",
       "ps4     141.09\n",
       "ps3     106.86\n",
       "x360     74.52\n",
       "xone     51.59\n",
       "3ds      42.64\n",
       "Name: eu_sales, dtype: float64"
      ]
     },
     "execution_count": 80,
     "metadata": {},
     "output_type": "execute_result"
    }
   ],
   "source": [
    "df[df['year_of_release'] > 2011].groupby('platform')['eu_sales'].sum().sort_values(ascending=False).head()"
   ]
  },
  {
   "cell_type": "markdown",
   "metadata": {},
   "source": [
    "Самые популярные жанры в Европе.\n",
    "\n",
    "The most popular genres in Europe."
   ]
  },
  {
   "cell_type": "code",
   "execution_count": 81,
   "metadata": {},
   "outputs": [
    {
     "data": {
      "text/plain": [
       "genre\n",
       "action          159.34\n",
       "shooter         113.47\n",
       "sports           69.09\n",
       "role-playing     48.53\n",
       "racing           27.29\n",
       "Name: eu_sales, dtype: float64"
      ]
     },
     "execution_count": 81,
     "metadata": {},
     "output_type": "execute_result"
    }
   ],
   "source": [
    "df[df['year_of_release'] > 2011].groupby('genre')['eu_sales'].sum().sort_values(ascending=False).head()"
   ]
  },
  {
   "cell_type": "markdown",
   "metadata": {},
   "source": [
    "Влияние рейтинга на продажи в Европе.\n",
    "\n",
    "Impact of rating on sales in Europe."
   ]
  },
  {
   "cell_type": "code",
   "execution_count": 82,
   "metadata": {
    "scrolled": true
   },
   "outputs": [
    {
     "data": {
      "text/plain": [
       "rating\n",
       "m       193.96\n",
       "e       113.03\n",
       "e10+     55.37\n",
       "t        52.96\n",
       "Name: eu_sales, dtype: float64"
      ]
     },
     "execution_count": 82,
     "metadata": {},
     "output_type": "execute_result"
    }
   ],
   "source": [
    "df[df['year_of_release'] > 2011].groupby('rating')['eu_sales'].sum().sort_values(ascending=False)"
   ]
  },
  {
   "cell_type": "markdown",
   "metadata": {},
   "source": [
    "<a id='Step_22'></a>\n",
    "### Япония.\n",
    "\n",
    "### Japan."
   ]
  },
  {
   "cell_type": "markdown",
   "metadata": {},
   "source": [
    "Самые популярные платформы в Японии.\n",
    "\n",
    "The most popular platforms in Japan."
   ]
  },
  {
   "cell_type": "code",
   "execution_count": 83,
   "metadata": {},
   "outputs": [
    {
     "data": {
      "text/plain": [
       "platform\n",
       "3ds     87.79\n",
       "ps3     35.29\n",
       "psv     21.04\n",
       "ps4     15.96\n",
       "wiiu    13.01\n",
       "Name: jp_sales, dtype: float64"
      ]
     },
     "execution_count": 83,
     "metadata": {},
     "output_type": "execute_result"
    }
   ],
   "source": [
    "df[df['year_of_release'] > 2011].groupby('platform')['jp_sales'].sum().sort_values(ascending=False).head()"
   ]
  },
  {
   "cell_type": "markdown",
   "metadata": {},
   "source": [
    "Самые популярные жанры в Японии.\n",
    "\n",
    "The most popular genres in Japan."
   ]
  },
  {
   "cell_type": "code",
   "execution_count": 84,
   "metadata": {},
   "outputs": [
    {
     "data": {
      "text/plain": [
       "genre\n",
       "role-playing    65.44\n",
       "action          52.80\n",
       "misc            12.86\n",
       "simulation      10.41\n",
       "fighting         9.44\n",
       "Name: jp_sales, dtype: float64"
      ]
     },
     "execution_count": 84,
     "metadata": {},
     "output_type": "execute_result"
    }
   ],
   "source": [
    "df[df['year_of_release'] > 2011].groupby('genre')['jp_sales'].sum().sort_values(ascending=False).head()"
   ]
  },
  {
   "cell_type": "markdown",
   "metadata": {},
   "source": [
    "Влияние рейтинга на продажи в Японии.\n",
    "\n",
    "Impact of rating on sales in Japan."
   ]
  },
  {
   "cell_type": "code",
   "execution_count": 85,
   "metadata": {
    "scrolled": false
   },
   "outputs": [
    {
     "data": {
      "text/plain": [
       "rating\n",
       "e       28.33\n",
       "t       26.02\n",
       "m       21.20\n",
       "e10+     8.19\n",
       "Name: jp_sales, dtype: float64"
      ]
     },
     "execution_count": 85,
     "metadata": {},
     "output_type": "execute_result"
    }
   ],
   "source": [
    "df[df['year_of_release'] > 2011].groupby('rating')['jp_sales'].sum().sort_values(ascending=False)"
   ]
  },
  {
   "cell_type": "markdown",
   "metadata": {},
   "source": [
    "### Вывод:\n",
    "- Евпропа и Северная Америка похожи по предпочтениям пользователей в вопросе выбора платформы: всё теже PS3, PS3, XOne и X360 меняются местами. В то время, как в Японии популрны еще и такие платформы: 3DS, PSV, WIIU. Кроме того, продукция XBox там не входит в топ 5 популярных.\n",
    "- Различия Европы и Северной Америки в выборе жанров в топ 5 незначительны: на 5-ом месте в Европе racing, а в Северной Америке music. Эти страны с Яопнией в выборе жанров связывает только action. Японцы больше всего любят role-playing, misc, simulation, fighting.\n",
    "- Евпропа и Северная Америка также похожи по выбору рейтинга игр, наибольшее количество продаж в рейтнинге M. В то время, как в Японии первые места занимаеют E и T.\n",
    "\n",
    "### Conclusion:\n",
    "- Europe and North America are similar in terms of user preferences in terms of platform choice: all the same PS3, PS3, XOne and X360 are swapped. While in Japan such platforms are also popular: 3DS, PSV, WIIU. In addition, XBox products are not included in the top 5 popular ones there.\n",
    "- Differences between Europe and North America in the choice of genres in the top 5 are insignificant: racing is in 5th place in Europe, and music in North America. These countries are connected with Japan in the choice of genres only by action. The Japanese are most fond of role-playing, misc, simulation, fighting.\n",
    "- Europe and North America are also similar in terms of game rankings, with the highest number of sales in the M ranking. While in Japan, E and T take the first places.\n"
   ]
  },
  {
   "cell_type": "markdown",
   "metadata": {},
   "source": [
    "<a id='Step_23'></a>\n",
    "## Шаг 5. Проверим гипотезы.\n",
    "\n",
    "## Step 5. Test the hypotheses."
   ]
  },
  {
   "cell_type": "markdown",
   "metadata": {},
   "source": [
    "Формируем гипотезы таким образом, что бы нулевая гипотеза могла быть сформулирована с использованием слова \"равно\" и при этом без его отрицания. Мы исследуем экономическое являение - спрос на игры, так что воспользуемся стандартным уровнем значимости - 5%. \n",
    "\n",
    "We form hypotheses in such a way that the null hypothesis could be formulated using the word \"equals\" and at the same time without its negation. We are examining an economic phenomenon - the demand for games, so we will use the standard significance level - 5%."
   ]
  },
  {
   "cell_type": "markdown",
   "metadata": {},
   "source": [
    "<a id='Step_24'></a>\n",
    "### Тест A.\n",
    "\n",
    "### Test A."
   ]
  },
  {
   "cell_type": "markdown",
   "metadata": {},
   "source": [
    "- H0 - средние пользовательские рейтинги платформ Xbox One и PC одинаковые.\n",
    "- H1 - средние пользовательские рейтинги платформ Xbox One и PC разные.\n",
    "- Используем двустороннюю гипотезу, так как разность может означать, как положительное так и отрицательное отклонение."
   ]
  },
  {
   "cell_type": "markdown",
   "metadata": {},
   "source": [
    "- H0 - The average user ratings of the Xbox One and PC platforms are the same.\n",
    "- H1 - the average user ratings of the Xbox One and PC platforms are different.\n",
    "- We use a two-sided hypothesis, since the difference can mean both a positive and a negative deviation."
   ]
  },
  {
   "cell_type": "markdown",
   "metadata": {},
   "source": [
    "Сначала проведем тест Левина.\n",
    "\n",
    "Let's do the Levin test first."
   ]
  },
  {
   "cell_type": "code",
   "execution_count": 86,
   "metadata": {
    "scrolled": true
   },
   "outputs": [
    {
     "name": "stdout",
     "output_type": "stream",
     "text": [
      "Levene test LeveneResult(statistic=9.314802899033483, pvalue=0.0023952381042608288)\n"
     ]
    }
   ],
   "source": [
    "print('Levene test' ,st.levene(df[(df['year_of_release'] > 2011) & (df['platform'] == 'xone')]['user_score'],\n",
    "                               df[(df['year_of_release'] > 2011) & (df['platform'] == 'pc')]['user_score']))"
   ]
  },
  {
   "cell_type": "markdown",
   "metadata": {},
   "source": [
    "Диспресии разные, будем иметь это в виду.\n",
    "\n",
    "The distributions are different, we will keep this in mind."
   ]
  },
  {
   "cell_type": "code",
   "execution_count": 87,
   "metadata": {
    "scrolled": false
   },
   "outputs": [
    {
     "name": "stdout",
     "output_type": "stream",
     "text": [
      "p-значение: 0.3358176607162189\n",
      "Не получилось отвергнуть нулевую гипотезу\n"
     ]
    }
   ],
   "source": [
    "alpha = .05\n",
    "results = st.ttest_ind(df[(df['year_of_release'] > 2011) & (df['platform'] == 'xone')]['user_score'],\n",
    "                               df[(df['year_of_release'] > 2011) & (df['platform'] == 'pc')]['user_score'], equal_var=False)\n",
    "print('p-значение:', results.pvalue)\n",
    "if (results.pvalue < alpha):\n",
    "    print(\"Отвергаем нулевую гипотезу\")\n",
    "else:\n",
    "    print(\"Не получилось отвергнуть нулевую гипотезу\")"
   ]
  },
  {
   "cell_type": "markdown",
   "metadata": {},
   "source": [
    "p-value: 0.3358176607162189\n",
    "Failed to reject the null hypothesis"
   ]
  },
  {
   "cell_type": "markdown",
   "metadata": {},
   "source": [
    "<a id='Step_25'></a>\n",
    "### Тест B.\n",
    "\n",
    "### Test B."
   ]
  },
  {
   "cell_type": "markdown",
   "metadata": {},
   "source": [
    "- H0 - средние пользовательские рейтинги жанров Action и Sports одинаковые.\n",
    "- H1 - средние пользовательские рейтинги жанров Action и Sports разные.\n",
    "- Используем двустороннюю гипотезу, так как разность может означать, как положительное так и отрицательное отклонение.\n",
    "\n"
   ]
  },
  {
   "cell_type": "markdown",
   "metadata": {},
   "source": [
    "- H0 - the average user ratings of the Action and Sports genres are the same.\n",
    "- H1 - average user ratings of Action and Sports genres are different.\n",
    "- We use a two-sided hypothesis, since the difference can mean both a positive and a negative deviation."
   ]
  },
  {
   "cell_type": "markdown",
   "metadata": {},
   "source": [
    "Сначала проведем тест Левина.\n",
    "\n",
    "Let's do the Levin test first."
   ]
  },
  {
   "cell_type": "code",
   "execution_count": 88,
   "metadata": {},
   "outputs": [
    {
     "name": "stdout",
     "output_type": "stream",
     "text": [
      "Levene test LeveneResult(statistic=0.014947469308823642, pvalue=0.9026976120431844)\n"
     ]
    }
   ],
   "source": [
    "print('Levene test' ,st.levene(df[(df['genre'] == 'action')]['user_score'],\n",
    "                               df[(df['genre'] == 'sports')]['user_score']))"
   ]
  },
  {
   "cell_type": "markdown",
   "metadata": {},
   "source": [
    "Дисперсии достаточно схожи, учтем это в проверке.\n",
    "\n",
    "The dispersions are quite similar, we will take this into account in the verification."
   ]
  },
  {
   "cell_type": "code",
   "execution_count": 89,
   "metadata": {},
   "outputs": [
    {
     "name": "stdout",
     "output_type": "stream",
     "text": [
      "p-значение: 1.2381219189333745e-39\n",
      "Отвергаем нулевую гипотезу\n"
     ]
    }
   ],
   "source": [
    "alpha = .05\n",
    "results = st.ttest_ind(df[(df['year_of_release'] > 2011) & (df['genre'] == 'action')]['user_score'],\n",
    "                               df[(df['year_of_release'] > 2011) & (df['genre'] == 'sports')]['user_score'])\n",
    "print('p-значение:', results.pvalue)\n",
    "if (results.pvalue < alpha):\n",
    "    print(\"Отвергаем нулевую гипотезу\")\n",
    "else:\n",
    "    print(\"Не получилось отвергнуть нулевую гипотезу\")"
   ]
  },
  {
   "cell_type": "markdown",
   "metadata": {},
   "source": [
    "p-value: 1.2381219189333745e-39\n",
    "Rejecting the null hypothesis"
   ]
  },
  {
   "cell_type": "code",
   "execution_count": 90,
   "metadata": {
    "scrolled": true
   },
   "outputs": [
    {
     "name": "stdout",
     "output_type": "stream",
     "text": [
      "Средний пользовтельский рейтинг action 6.9378799298256775\n",
      "Средний пользовтельский рейтинг sports 5.865922991569803\n"
     ]
    }
   ],
   "source": [
    "print('Средний пользовтельский рейтинг action', df[(df['year_of_release'] > 2011) & (df['genre'] == 'action')]['user_score'].mean())\n",
    "print('Средний пользовтельский рейтинг sports', df[(df['year_of_release'] > 2011) & (df['genre'] == 'sports')]['user_score'].mean())"
   ]
  },
  {
   "cell_type": "markdown",
   "metadata": {},
   "source": [
    "Average user rating action 6.9378799298256775\n",
    "Average user rating sports 5.865922991569803"
   ]
  },
  {
   "cell_type": "markdown",
   "metadata": {},
   "source": [
    "### Вывод:\n",
    "- Cредние пользовательские рейтинги платформ Xbox One и PC одинаковые.\n",
    "- Средние пользовательские рейтинги жанра Action выше чем у Sports.\n",
    "\n",
    "### Conclusion:\n",
    "- The average user ratings of the Xbox One and PC platforms are the same.\n",
    "- Average user ratings for the Action genre are higher than for Sports."
   ]
  },
  {
   "cell_type": "markdown",
   "metadata": {},
   "source": [
    "<a id='Step_26'></a>\n",
    "## Шаг 6. Вывод.\n",
    "\n",
    "## Step 6. Conclusion."
   ]
  },
  {
   "cell_type": "markdown",
   "metadata": {},
   "source": [
    "На первом шаге мы изучили общую информацию о данных.\n",
    "\n",
    "In the first step, we learned general information about the data."
   ]
  },
  {
   "cell_type": "markdown",
   "metadata": {},
   "source": [
    "На втором шаге мы подготовили данные: обработали дубликаты и пропуски, привели переменные к нужным форматам.\n",
    "\n",
    "At the second step, we prepared the data: processed duplicates and omissions, brought the variables to the required formats."
   ]
  },
  {
   "cell_type": "markdown",
   "metadata": {},
   "source": [
    "На третем шаге мы провели исследовательский анализ данных и получили следующие результаты:\n",
    "- данные релевантны, если отнсятся к периоду 2012-2016 годы\n",
    "- платоформы переживают цикл появдения-исчезновения примерно за 11 лет\n",
    "- платформа приносит максимальное количество денег примерно в течении 5 лет\n",
    "- потенциальными платформами мы выбрали PS4, 3DS и XOne\n",
    "- объемы продаж игр для всех 3ех платформ очень вариативны\n",
    "- объемы продаж игр для всех 3ех платформ падают\n",
    "- наибольшую прибыль приносит продажа игр для PS4\n",
    "- отзывы критиков слабо влияют на продажи игр для 3DS\n",
    "- отызвы пользователей очень слабо влияют на продажи игр для всех 3ех платофрм\n",
    "- наиболее поплярен жанр action, наимение популярен жанр puzzle"
   ]
  },
  {
   "cell_type": "markdown",
   "metadata": {},
   "source": [
    "In the third step, we conducted an exploratory data analysis and obtained the following results:\n",
    "- data are relevant if they refer to the period 2012-2016\n",
    "- Platforms experience a cycle of appearance and disappearance in about 11 years\n",
    "- the platform brings the maximum amount of money for about 5 years\n",
    "- we chose PS4, 3DS and XOne as potential platforms\n",
    "- game sales volumes for all 3 platforms are very variable\n",
    "- sales of games for all 3 platforms are falling\n",
    "- the highest profit comes from the sale of games for PS4\n",
    "- critical reviews have little effect on sales of 3DS games\n",
    "- user reviews have very little effect on game sales for all 3 platforms\n",
    "- the most popular action genre, the least popular puzzle genre"
   ]
  },
  {
   "cell_type": "markdown",
   "metadata": {},
   "source": [
    "На четвертом шаге мы определи предпочтения пользователей в Северной Америке, Европе и Японии и получили следующие результаты:\n",
    "- Евпропа и Северная Америка похожи по предпочтениям пользователей в вопросе выбора платформы: всё теже PS3, PS3, XOne и X360 меняются местами. В то время, как в Японии популрны еще и такие платформы: 3DS, PSV, WIIU. Кроме того, продукция XBox там не входит в топ 5 популярных.\n",
    "- Различия Европы и Северной Америки в выборе жанров в топ 5 незначительны: на 5-ом месте в Европе racing, а в Северной Америке music. Эти страны с Яопнией в выборе жанров связывает только action. Японцы больше всего любят role-playing, misc, simulation, fighting.\n",
    "- Евпропа и Северная Америка также похожи по выбору рейтинга игр, наибольшее количество продаж в рейтнинге M. В то время, как в Японии первые места занимаеют E и T."
   ]
  },
  {
   "cell_type": "markdown",
   "metadata": {},
   "source": [
    "In the fourth step, we determined the preferences of users in North America, Europe and Japan and got the following results:\n",
    "- Europe and North America are similar in terms of user preferences in terms of platform choice: all the same PS3, PS3, XOne and X360 are swapped. While in Japan such platforms are also popular: 3DS, PSV, WIIU. In addition, XBox products are not included in the top 5 popular ones there.\n",
    "- Differences between Europe and North America in the choice of genres in the top 5 are insignificant: racing is in 5th place in Europe, and music in North America. These countries are connected with Japan in the choice of genres only by action. The Japanese are most fond of role-playing, misc, simulation, fighting.\n",
    "- Europe and North America are also similar in terms of game rankings, with the highest number of sales in the M ranking. While in Japan, E and T take the first places."
   ]
  },
  {
   "cell_type": "markdown",
   "metadata": {},
   "source": [
    "На пятом шаге мы провели статистический анализ и получили следующие результаты:\n",
    "- Cредние пользовательские рейтинги платформ Xbox One и PC одинаковые.\n",
    "- Средние пользовательские рейтинги жанра Action выше чем у Sports."
   ]
  },
  {
   "cell_type": "markdown",
   "metadata": {},
   "source": [
    "At the fifth step, we performed a statistical analysis and obtained the following results:\n",
    "- The average user ratings of the Xbox One and PC platforms are the same.\n",
    "- Average user ratings for the Action genre are higher than for Sports."
   ]
  },
  {
   "cell_type": "markdown",
   "metadata": {},
   "source": [
    "<div class=\"alert alert-info\">Я бы порекомендовал компании, в 2017 году сделать следующее:</div>\n",
    "\n",
    "<div class=\"alert alert-info\">I would recommend that companies do the following in 2017:</div>"
   ]
  },
  {
   "cell_type": "markdown",
   "metadata": {},
   "source": [
    "- В Северной Америке сделать акцент на продажах action и shooter для XOne и PS4, с рейтингами M и E.\n",
    "- В Европе сделать акцент на продажах action и shooter для PS4 и PS3, с рейтингами M и E.\n",
    "- В Японии сделать акцент на продажах role-playing и action для 3DS и PS3, с рейтингами E, T и M."
   ]
  },
  {
   "cell_type": "markdown",
   "metadata": {},
   "source": [
    "- In North America, to focus on sales of action and shooter for XOne and PS4, rated M and E.\n",
    "- In Europe, to focus on sales of action and shooter for PS4 and PS3, rated M and E.\n",
    "- In Japan, focus on sales of role-playing and action for 3DS and PS3, rated E, T and M."
   ]
  },
  {
   "cell_type": "markdown",
   "metadata": {},
   "source": [
    "<div class=\"alert alert-info\">Также следует обратить внимание, что, как и во многих сферах, мнение пользователей не отражает реальной ситуации.</div>"
   ]
  },
  {
   "cell_type": "markdown",
   "metadata": {},
   "source": [
    "<div class=\"alert alert-info\">It should also be noted that, as in many areas, users' opinions do not reflect the real situation.</div>"
   ]
  },
  {
   "cell_type": "markdown",
   "metadata": {},
   "source": [
    "<div class=\"alert alert-info\">Кстати самая продавая игра выпущенная позже 2011 год - это \"grand theft auto v\".</div>"
   ]
  },
  {
   "cell_type": "markdown",
   "metadata": {},
   "source": [
    "<div class=\"alert alert-info\">By the way, the best selling game released after 2011 is \"grand theft auto v\".</div>"
   ]
  }
 ],
 "metadata": {
  "kernelspec": {
   "display_name": "Python 3 (ipykernel)",
   "language": "python",
   "name": "python3"
  },
  "language_info": {
   "codemirror_mode": {
    "name": "ipython",
    "version": 3
   },
   "file_extension": ".py",
   "mimetype": "text/x-python",
   "name": "python",
   "nbconvert_exporter": "python",
   "pygments_lexer": "ipython3",
   "version": "3.9.5"
  },
  "toc": {
   "base_numbering": 1,
   "nav_menu": {},
   "number_sections": true,
   "sideBar": true,
   "skip_h1_title": true,
   "title_cell": "Table of Contents",
   "title_sidebar": "Contents",
   "toc_cell": false,
   "toc_position": {},
   "toc_section_display": true,
   "toc_window_display": false
  }
 },
 "nbformat": 4,
 "nbformat_minor": 2
}
