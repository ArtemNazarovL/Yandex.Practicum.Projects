{
 "cells": [
  {
   "cell_type": "markdown",
   "metadata": {},
   "source": [
    "**Для этого исследования банк представил данные - статистику платёжеспособности клиентов. Необходимо выяснить влияют ли количество детей и семейное положение на факт своевременнего погашения кредита. Предпологается, что результаты данного исследования будут включены в модель банковского скоринга.**\n",
    "\n",
    "** For this study, the bank provided data - statistics on the solvency of customers. It is necessary to find out whether the number of children and marital status affect the fact of timely repayment of the loan. It is expected that the results of this study will be included in the bank scoring model.**"
   ]
  },
  {
   "cell_type": "markdown",
   "metadata": {},
   "source": [
    "### Шаг 1. Изучение представленных данных.\n",
    "### Step 1. Examine the presented data."
   ]
  },
  {
   "cell_type": "code",
   "execution_count": 1,
   "metadata": {},
   "outputs": [],
   "source": [
    "# Импортируем библиотеку \"Пандас\" и загружаем исходный файл. \n",
    "import pandas as pd\n",
    "df = pd.read_csv('/datasets/data.csv')"
   ]
  },
  {
   "cell_type": "code",
   "execution_count": 2,
   "metadata": {},
   "outputs": [
    {
     "data": {
      "text/html": [
       "<div>\n",
       "<style scoped>\n",
       "    .dataframe tbody tr th:only-of-type {\n",
       "        vertical-align: middle;\n",
       "    }\n",
       "\n",
       "    .dataframe tbody tr th {\n",
       "        vertical-align: top;\n",
       "    }\n",
       "\n",
       "    .dataframe thead th {\n",
       "        text-align: right;\n",
       "    }\n",
       "</style>\n",
       "<table border=\"1\" class=\"dataframe\">\n",
       "  <thead>\n",
       "    <tr style=\"text-align: right;\">\n",
       "      <th></th>\n",
       "      <th>children</th>\n",
       "      <th>days_employed</th>\n",
       "      <th>dob_years</th>\n",
       "      <th>education</th>\n",
       "      <th>education_id</th>\n",
       "      <th>family_status</th>\n",
       "      <th>family_status_id</th>\n",
       "      <th>gender</th>\n",
       "      <th>income_type</th>\n",
       "      <th>debt</th>\n",
       "      <th>total_income</th>\n",
       "      <th>purpose</th>\n",
       "    </tr>\n",
       "  </thead>\n",
       "  <tbody>\n",
       "    <tr>\n",
       "      <td>0</td>\n",
       "      <td>1</td>\n",
       "      <td>-8437.673028</td>\n",
       "      <td>42</td>\n",
       "      <td>высшее</td>\n",
       "      <td>0</td>\n",
       "      <td>женат / замужем</td>\n",
       "      <td>0</td>\n",
       "      <td>F</td>\n",
       "      <td>сотрудник</td>\n",
       "      <td>0</td>\n",
       "      <td>253875.639453</td>\n",
       "      <td>покупка жилья</td>\n",
       "    </tr>\n",
       "    <tr>\n",
       "      <td>1</td>\n",
       "      <td>1</td>\n",
       "      <td>-4024.803754</td>\n",
       "      <td>36</td>\n",
       "      <td>среднее</td>\n",
       "      <td>1</td>\n",
       "      <td>женат / замужем</td>\n",
       "      <td>0</td>\n",
       "      <td>F</td>\n",
       "      <td>сотрудник</td>\n",
       "      <td>0</td>\n",
       "      <td>112080.014102</td>\n",
       "      <td>приобретение автомобиля</td>\n",
       "    </tr>\n",
       "    <tr>\n",
       "      <td>2</td>\n",
       "      <td>0</td>\n",
       "      <td>-5623.422610</td>\n",
       "      <td>33</td>\n",
       "      <td>Среднее</td>\n",
       "      <td>1</td>\n",
       "      <td>женат / замужем</td>\n",
       "      <td>0</td>\n",
       "      <td>M</td>\n",
       "      <td>сотрудник</td>\n",
       "      <td>0</td>\n",
       "      <td>145885.952297</td>\n",
       "      <td>покупка жилья</td>\n",
       "    </tr>\n",
       "    <tr>\n",
       "      <td>3</td>\n",
       "      <td>3</td>\n",
       "      <td>-4124.747207</td>\n",
       "      <td>32</td>\n",
       "      <td>среднее</td>\n",
       "      <td>1</td>\n",
       "      <td>женат / замужем</td>\n",
       "      <td>0</td>\n",
       "      <td>M</td>\n",
       "      <td>сотрудник</td>\n",
       "      <td>0</td>\n",
       "      <td>267628.550329</td>\n",
       "      <td>дополнительное образование</td>\n",
       "    </tr>\n",
       "    <tr>\n",
       "      <td>4</td>\n",
       "      <td>0</td>\n",
       "      <td>340266.072047</td>\n",
       "      <td>53</td>\n",
       "      <td>среднее</td>\n",
       "      <td>1</td>\n",
       "      <td>гражданский брак</td>\n",
       "      <td>1</td>\n",
       "      <td>F</td>\n",
       "      <td>пенсионер</td>\n",
       "      <td>0</td>\n",
       "      <td>158616.077870</td>\n",
       "      <td>сыграть свадьбу</td>\n",
       "    </tr>\n",
       "    <tr>\n",
       "      <td>5</td>\n",
       "      <td>0</td>\n",
       "      <td>-926.185831</td>\n",
       "      <td>27</td>\n",
       "      <td>высшее</td>\n",
       "      <td>0</td>\n",
       "      <td>гражданский брак</td>\n",
       "      <td>1</td>\n",
       "      <td>M</td>\n",
       "      <td>компаньон</td>\n",
       "      <td>0</td>\n",
       "      <td>255763.565419</td>\n",
       "      <td>покупка жилья</td>\n",
       "    </tr>\n",
       "    <tr>\n",
       "      <td>6</td>\n",
       "      <td>0</td>\n",
       "      <td>-2879.202052</td>\n",
       "      <td>43</td>\n",
       "      <td>высшее</td>\n",
       "      <td>0</td>\n",
       "      <td>женат / замужем</td>\n",
       "      <td>0</td>\n",
       "      <td>F</td>\n",
       "      <td>компаньон</td>\n",
       "      <td>0</td>\n",
       "      <td>240525.971920</td>\n",
       "      <td>операции с жильем</td>\n",
       "    </tr>\n",
       "    <tr>\n",
       "      <td>7</td>\n",
       "      <td>0</td>\n",
       "      <td>-152.779569</td>\n",
       "      <td>50</td>\n",
       "      <td>СРЕДНЕЕ</td>\n",
       "      <td>1</td>\n",
       "      <td>женат / замужем</td>\n",
       "      <td>0</td>\n",
       "      <td>M</td>\n",
       "      <td>сотрудник</td>\n",
       "      <td>0</td>\n",
       "      <td>135823.934197</td>\n",
       "      <td>образование</td>\n",
       "    </tr>\n",
       "    <tr>\n",
       "      <td>8</td>\n",
       "      <td>2</td>\n",
       "      <td>-6929.865299</td>\n",
       "      <td>35</td>\n",
       "      <td>ВЫСШЕЕ</td>\n",
       "      <td>0</td>\n",
       "      <td>гражданский брак</td>\n",
       "      <td>1</td>\n",
       "      <td>F</td>\n",
       "      <td>сотрудник</td>\n",
       "      <td>0</td>\n",
       "      <td>95856.832424</td>\n",
       "      <td>на проведение свадьбы</td>\n",
       "    </tr>\n",
       "    <tr>\n",
       "      <td>9</td>\n",
       "      <td>0</td>\n",
       "      <td>-2188.756445</td>\n",
       "      <td>41</td>\n",
       "      <td>среднее</td>\n",
       "      <td>1</td>\n",
       "      <td>женат / замужем</td>\n",
       "      <td>0</td>\n",
       "      <td>M</td>\n",
       "      <td>сотрудник</td>\n",
       "      <td>0</td>\n",
       "      <td>144425.938277</td>\n",
       "      <td>покупка жилья для семьи</td>\n",
       "    </tr>\n",
       "  </tbody>\n",
       "</table>\n",
       "</div>"
      ],
      "text/plain": [
       "   children  days_employed  dob_years education  education_id  \\\n",
       "0         1   -8437.673028         42    высшее             0   \n",
       "1         1   -4024.803754         36   среднее             1   \n",
       "2         0   -5623.422610         33   Среднее             1   \n",
       "3         3   -4124.747207         32   среднее             1   \n",
       "4         0  340266.072047         53   среднее             1   \n",
       "5         0    -926.185831         27    высшее             0   \n",
       "6         0   -2879.202052         43    высшее             0   \n",
       "7         0    -152.779569         50   СРЕДНЕЕ             1   \n",
       "8         2   -6929.865299         35    ВЫСШЕЕ             0   \n",
       "9         0   -2188.756445         41   среднее             1   \n",
       "\n",
       "      family_status  family_status_id gender income_type  debt   total_income  \\\n",
       "0   женат / замужем                 0      F   сотрудник     0  253875.639453   \n",
       "1   женат / замужем                 0      F   сотрудник     0  112080.014102   \n",
       "2   женат / замужем                 0      M   сотрудник     0  145885.952297   \n",
       "3   женат / замужем                 0      M   сотрудник     0  267628.550329   \n",
       "4  гражданский брак                 1      F   пенсионер     0  158616.077870   \n",
       "5  гражданский брак                 1      M   компаньон     0  255763.565419   \n",
       "6   женат / замужем                 0      F   компаньон     0  240525.971920   \n",
       "7   женат / замужем                 0      M   сотрудник     0  135823.934197   \n",
       "8  гражданский брак                 1      F   сотрудник     0   95856.832424   \n",
       "9   женат / замужем                 0      M   сотрудник     0  144425.938277   \n",
       "\n",
       "                      purpose  \n",
       "0               покупка жилья  \n",
       "1     приобретение автомобиля  \n",
       "2               покупка жилья  \n",
       "3  дополнительное образование  \n",
       "4             сыграть свадьбу  \n",
       "5               покупка жилья  \n",
       "6           операции с жильем  \n",
       "7                 образование  \n",
       "8       на проведение свадьбы  \n",
       "9     покупка жилья для семьи  "
      ]
     },
     "execution_count": 2,
     "metadata": {},
     "output_type": "execute_result"
    }
   ],
   "source": [
    "# Ознакомимся с первыми 10-ю строками.\n",
    "df.head(10)"
   ]
  },
  {
   "cell_type": "code",
   "execution_count": 3,
   "metadata": {
    "scrolled": true
   },
   "outputs": [
    {
     "name": "stdout",
     "output_type": "stream",
     "text": [
      "<class 'pandas.core.frame.DataFrame'>\n",
      "RangeIndex: 21525 entries, 0 to 21524\n",
      "Data columns (total 12 columns):\n",
      "children            21525 non-null int64\n",
      "days_employed       19351 non-null float64\n",
      "dob_years           21525 non-null int64\n",
      "education           21525 non-null object\n",
      "education_id        21525 non-null int64\n",
      "family_status       21525 non-null object\n",
      "family_status_id    21525 non-null int64\n",
      "gender              21525 non-null object\n",
      "income_type         21525 non-null object\n",
      "debt                21525 non-null int64\n",
      "total_income        19351 non-null float64\n",
      "purpose             21525 non-null object\n",
      "dtypes: float64(2), int64(5), object(5)\n",
      "memory usage: 2.0+ MB\n"
     ]
    }
   ],
   "source": [
    "# Взглянем на общую информацию о содержании таблицы.\n",
    "df.info()"
   ]
  },
  {
   "cell_type": "markdown",
   "metadata": {},
   "source": [
    "Разберемся с пропущенными значениями. Видно, что пропущенные значение есть только в стобцах\n",
    "'total_income' и 'days_employed'. Причем, количество пропущенных значений одинаково.\n",
    "\n",
    "Let's deal with the missing values. It can be seen that the missing value is only in the columns\n",
    "'total_income' and 'days_employed'. Moreover, the number of missing values is the same."
   ]
  },
  {
   "cell_type": "code",
   "execution_count": 4,
   "metadata": {},
   "outputs": [
    {
     "name": "stdout",
     "output_type": "stream",
     "text": [
      "Строки с пропущенными значениями в столбцах \"days_employed\" и \"total_income\" одни и те же.\n"
     ]
    }
   ],
   "source": [
    "# Сравним индексы строк с пропущенными значениями в вышеуказанных столбцах.\n",
    "if df[df['days_employed'].isna() == True].index.tolist() == df[df['total_income'].isna() == True].index.tolist():\n",
    "    print('Строки с пропущенными значениями в столбцах \"days_employed\" и \"total_income\" одни и те же.')\n",
    "else: \n",
    "    print('Строки с пропущенными значениями в столбцах \"days_employed\" и \"total_income\" разные.')"
   ]
  },
  {
   "cell_type": "markdown",
   "metadata": {},
   "source": [
    "The rows with missing values in the \"days_employed\" and \"total_income\" columns are the same."
   ]
  },
  {
   "cell_type": "code",
   "execution_count": 5,
   "metadata": {
    "scrolled": false
   },
   "outputs": [
    {
     "data": {
      "text/plain": [
       "income_type\n",
       "безработный             NaN\n",
       "в декрете               NaN\n",
       "госслужащий        0.100754\n",
       "компаньон          0.099902\n",
       "пенсионер          0.107106\n",
       "предприниматель    0.500000\n",
       "сотрудник          0.099379\n",
       "студент                 NaN\n",
       "Name: purpose, dtype: float64"
      ]
     },
     "execution_count": 5,
     "metadata": {},
     "output_type": "execute_result"
    }
   ],
   "source": [
    "df[df['days_employed'].isna() == True].groupby('income_type')['purpose'].count() / df.groupby('income_type')['purpose'].count()"
   ]
  },
  {
   "cell_type": "markdown",
   "metadata": {},
   "source": [
    "Какой-то закономерности в пропусах не видно. \n",
    "Выше вы можете видеть коэффициент полученный делением количества наблюдений с пропусками на обшее количество наблюдений по группам населения.\n",
    "В отличии от социаологических опрсов, где респондент может уклониться от ответа о доходе, в случае с заявкой на кредит,\n",
    "клиент не может не сообщить о своем доходе. Другой вопрос - правидива ли предсталвенная клиетом информация. \n",
    "\n",
    "No pattern is seen in the gaps.\n",
    "Above you can see the ratio obtained by dividing the number of missing observations by the total number of observations per population.\n",
    "Unlike sociological surveys, where the respondent may evade answering about income, in the case of a loan application,\n",
    "the client cannot but report his income. Another question is whether the information provided by the client is correct."
   ]
  },
  {
   "cell_type": "code",
   "execution_count": 6,
   "metadata": {},
   "outputs": [
    {
     "name": "stdout",
     "output_type": "stream",
     "text": [
      "Объём строк с пропущенными значениями: 10.10%\n"
     ]
    }
   ],
   "source": [
    "# Посмотрим сколько какую часть от данных занимают строки с пропущенными значениями.\n",
    "print('Объём строк с пропущенными значениями: {:.2%}'.format(len(df[df['days_employed'].isna() == True]) / len(df)))"
   ]
  },
  {
   "cell_type": "markdown",
   "metadata": {},
   "source": [
    "Volume of rows with missing values: 10.10%"
   ]
  },
  {
   "cell_type": "markdown",
   "metadata": {},
   "source": [
    "Посмотрим какие уникальные значения содержат столбцы 'education', 'family_status', 'income_type' и\n",
    "'purpose'.\n",
    "\n",
    "Let's see what unique values the 'education', 'family_status', 'income_type' and\n",
    "'purpose'."
   ]
  },
  {
   "cell_type": "code",
   "execution_count": 7,
   "metadata": {
    "scrolled": true
   },
   "outputs": [
    {
     "data": {
      "text/plain": [
       "array(['высшее', 'среднее', 'Среднее', 'СРЕДНЕЕ', 'ВЫСШЕЕ',\n",
       "       'неоконченное высшее', 'начальное', 'Высшее',\n",
       "       'НЕОКОНЧЕННОЕ ВЫСШЕЕ', 'Неоконченное высшее', 'НАЧАЛЬНОЕ',\n",
       "       'Начальное', 'Ученая степень', 'УЧЕНАЯ СТЕПЕНЬ', 'ученая степень'],\n",
       "      dtype=object)"
      ]
     },
     "execution_count": 7,
     "metadata": {},
     "output_type": "execute_result"
    }
   ],
   "source": [
    "# Можно легко заметить, что слова имеют разный регистр, что может вызвать сложности в дальнейшем.\n",
    "df['education'].unique()"
   ]
  },
  {
   "cell_type": "code",
   "execution_count": 8,
   "metadata": {},
   "outputs": [
    {
     "data": {
      "text/plain": [
       "array(['женат / замужем', 'гражданский брак', 'вдовец / вдова',\n",
       "       'в разводе', 'Не женат / не замужем'], dtype=object)"
      ]
     },
     "execution_count": 8,
     "metadata": {},
     "output_type": "execute_result"
    }
   ],
   "source": [
    "# В этом случе тоже стоит привессти все слова к нижнему регистру\n",
    "df['family_status'].unique()"
   ]
  },
  {
   "cell_type": "code",
   "execution_count": 9,
   "metadata": {
    "scrolled": true
   },
   "outputs": [
    {
     "data": {
      "text/plain": [
       "array(['сотрудник', 'пенсионер', 'компаньон', 'госслужащий',\n",
       "       'безработный', 'предприниматель', 'студент', 'в декрете'],\n",
       "      dtype=object)"
      ]
     },
     "execution_count": 9,
     "metadata": {},
     "output_type": "execute_result"
    }
   ],
   "source": [
    "# В этом столбце всё в порядке.\n",
    "df['income_type'].unique()"
   ]
  },
  {
   "cell_type": "code",
   "execution_count": 10,
   "metadata": {
    "scrolled": true
   },
   "outputs": [
    {
     "data": {
      "text/plain": [
       "array(['покупка жилья', 'приобретение автомобиля',\n",
       "       'дополнительное образование', 'сыграть свадьбу',\n",
       "       'операции с жильем', 'образование', 'на проведение свадьбы',\n",
       "       'покупка жилья для семьи', 'покупка недвижимости',\n",
       "       'покупка коммерческой недвижимости', 'покупка жилой недвижимости',\n",
       "       'строительство собственной недвижимости', 'недвижимость',\n",
       "       'строительство недвижимости', 'на покупку подержанного автомобиля',\n",
       "       'на покупку своего автомобиля',\n",
       "       'операции с коммерческой недвижимостью',\n",
       "       'строительство жилой недвижимости', 'жилье',\n",
       "       'операции со своей недвижимостью', 'автомобили',\n",
       "       'заняться образованием', 'сделка с подержанным автомобилем',\n",
       "       'получение образования', 'автомобиль', 'свадьба',\n",
       "       'получение дополнительного образования', 'покупка своего жилья',\n",
       "       'операции с недвижимостью', 'получение высшего образования',\n",
       "       'свой автомобиль', 'сделка с автомобилем',\n",
       "       'профильное образование', 'высшее образование',\n",
       "       'покупка жилья для сдачи', 'на покупку автомобиля', 'ремонт жилью',\n",
       "       'заняться высшим образованием'], dtype=object)"
      ]
     },
     "execution_count": 10,
     "metadata": {},
     "output_type": "execute_result"
    }
   ],
   "source": [
    "# Видим, что некторые категории, которые по смыслу явлются одинаковыми, описаны по-разному.\n",
    "# Будем лемматизировать.\n",
    "df['purpose'].unique()"
   ]
  },
  {
   "cell_type": "code",
   "execution_count": 11,
   "metadata": {
    "scrolled": false
   },
   "outputs": [
    {
     "data": {
      "text/plain": [
       "0     -8437.673028\n",
       "1     -4024.803754\n",
       "2     -5623.422610\n",
       "3     -4124.747207\n",
       "4    340266.072047\n",
       "5      -926.185831\n",
       "6     -2879.202052\n",
       "7      -152.779569\n",
       "8     -6929.865299\n",
       "9     -2188.756445\n",
       "Name: days_employed, dtype: float64"
      ]
     },
     "execution_count": 11,
     "metadata": {},
     "output_type": "execute_result"
    }
   ],
   "source": [
    "# Также  в глаза бросаются отрицательный стаж в днях и, по крайне мере одно, огромное значение.\n",
    "# Кроме того, данные в этом столбе записаны дробными числами. \n",
    "df['days_employed'].head(10)"
   ]
  },
  {
   "cell_type": "markdown",
   "metadata": {},
   "source": [
    "### Вывод\n",
    "\n",
    "### Conclusion"
   ]
  },
  {
   "cell_type": "markdown",
   "metadata": {},
   "source": [
    "Представленные для анлиза данные имеют некторые некритичные изъяны, которые мы легко исправим вдальнейшем.\n",
    "Удалось установить:\n",
    "1. Переменные описывающие стаж работы и доход имеют пропуски, причем в одних и тех же строках. Однако их довльно много - 10% от общего объёма наблюдений. Пропуски скорее всего полностью случайны.\n",
    "2. В столбцах о семейном положении и образовании нет единообразия регистра.\n",
    "3. В столбце о стаже есть отрицательные и слишком большие значения. \n",
    "4. В столбцах о стаже и зарплате представлены дробные значения, которые в этой задачче лучше округлить до целых. \n",
    "Отрицательные и дробные значения скорее всего имеют техничекую природу.\n",
    "\n",
    "The data presented for analysis has some non-critical flaws, which we can easily correct in the future.\n",
    "Managed to install:\n",
    "1. Variables describing work experience and income have gaps, and in the same rows. However, there are quite a lot of them - 10% of the total volume of observations. The gaps are most likely completely random.\n",
    "2. The columns on marital status and education do not have a uniform register.\n",
    "3. There are negative and too large values ​​in the seniority column.\n",
    "4. The seniority and salary columns show fractional values, which in this problem should be rounded up to integers.\n",
    "Negative and fractional values ​​are likely to be of a technical nature."
   ]
  },
  {
   "cell_type": "markdown",
   "metadata": {},
   "source": [
    "### Шаг 2. Предобработка данных.\n",
    "\n",
    "### Step 2. Data preprocessing."
   ]
  },
  {
   "cell_type": "markdown",
   "metadata": {},
   "source": [
    "### Обработка пропусков\n",
    "\n",
    "### Pass handling"
   ]
  },
  {
   "cell_type": "markdown",
   "metadata": {},
   "source": [
    "Хотя известно, что заполнение пропусков средними искажает характеристики выборки, предпологается,\n",
    "что этого метода будет достаточно в этой задаче. Так и поступим. Заполним пропущенные значения в \n",
    "столбцах стаж и доход средними значениями по этим столбцам.\n",
    "Можно было удалить строки с пропущенными значениями, но тогда мы бы потряли 10% наблюдений.\n",
    "Наверно, самым правильным было бы применить регрессию и получить значения снчала для стажа, затем для дохода.\n",
    "\n",
    "Although it is known that filling in the gaps with means distorts the characteristics of the sample, it is assumed that\n",
    "that this method will suffice for this task. So let's do it. Fill in the missing values in\n",
    "the length of service and income columns are the average values for these columns.\n",
    "It was possible to remove rows with missing values, but then we would lose 10% of the observations.\n",
    "Probably the most correct would be to apply regression and get the values first for the length of service, then for the income."
   ]
  },
  {
   "cell_type": "markdown",
   "metadata": {},
   "source": [
    "Так как стаж не может быть отрицательным, сделаем такие значения положительными.\n",
    "\n",
    "Since seniority cannot be negative, let's make such values positive."
   ]
  },
  {
   "cell_type": "code",
   "execution_count": 12,
   "metadata": {},
   "outputs": [
    {
     "data": {
      "text/plain": [
       "0      8437.673028\n",
       "1      4024.803754\n",
       "2      5623.422610\n",
       "3      4124.747207\n",
       "4    340266.072047\n",
       "5       926.185831\n",
       "6      2879.202052\n",
       "7       152.779569\n",
       "8      6929.865299\n",
       "9      2188.756445\n",
       "Name: days_employed, dtype: float64"
      ]
     },
     "execution_count": 12,
     "metadata": {},
     "output_type": "execute_result"
    }
   ],
   "source": [
    "df['days_employed'] = df['days_employed'].abs()\n",
    "\n",
    "# Посмотрим результат.\n",
    "df['days_employed'].head(10)"
   ]
  },
  {
   "cell_type": "code",
   "execution_count": 13,
   "metadata": {
    "scrolled": true
   },
   "outputs": [
    {
     "data": {
      "text/html": [
       "<div>\n",
       "<style scoped>\n",
       "    .dataframe tbody tr th:only-of-type {\n",
       "        vertical-align: middle;\n",
       "    }\n",
       "\n",
       "    .dataframe tbody tr th {\n",
       "        vertical-align: top;\n",
       "    }\n",
       "\n",
       "    .dataframe thead th {\n",
       "        text-align: right;\n",
       "    }\n",
       "</style>\n",
       "<table border=\"1\" class=\"dataframe\">\n",
       "  <thead>\n",
       "    <tr style=\"text-align: right;\">\n",
       "      <th></th>\n",
       "      <th>children</th>\n",
       "      <th>days_employed</th>\n",
       "      <th>dob_years</th>\n",
       "      <th>education</th>\n",
       "      <th>education_id</th>\n",
       "      <th>family_status</th>\n",
       "      <th>family_status_id</th>\n",
       "      <th>gender</th>\n",
       "      <th>income_type</th>\n",
       "      <th>debt</th>\n",
       "      <th>total_income</th>\n",
       "      <th>purpose</th>\n",
       "    </tr>\n",
       "  </thead>\n",
       "  <tbody>\n",
       "    <tr>\n",
       "      <td>4</td>\n",
       "      <td>0</td>\n",
       "      <td>340266.072047</td>\n",
       "      <td>53</td>\n",
       "      <td>среднее</td>\n",
       "      <td>1</td>\n",
       "      <td>гражданский брак</td>\n",
       "      <td>1</td>\n",
       "      <td>F</td>\n",
       "      <td>пенсионер</td>\n",
       "      <td>0</td>\n",
       "      <td>158616.077870</td>\n",
       "      <td>сыграть свадьбу</td>\n",
       "    </tr>\n",
       "    <tr>\n",
       "      <td>18</td>\n",
       "      <td>0</td>\n",
       "      <td>400281.136913</td>\n",
       "      <td>53</td>\n",
       "      <td>среднее</td>\n",
       "      <td>1</td>\n",
       "      <td>вдовец / вдова</td>\n",
       "      <td>2</td>\n",
       "      <td>F</td>\n",
       "      <td>пенсионер</td>\n",
       "      <td>0</td>\n",
       "      <td>56823.777243</td>\n",
       "      <td>на покупку подержанного автомобиля</td>\n",
       "    </tr>\n",
       "    <tr>\n",
       "      <td>24</td>\n",
       "      <td>1</td>\n",
       "      <td>338551.952911</td>\n",
       "      <td>57</td>\n",
       "      <td>среднее</td>\n",
       "      <td>1</td>\n",
       "      <td>Не женат / не замужем</td>\n",
       "      <td>4</td>\n",
       "      <td>F</td>\n",
       "      <td>пенсионер</td>\n",
       "      <td>0</td>\n",
       "      <td>290547.235997</td>\n",
       "      <td>операции с коммерческой недвижимостью</td>\n",
       "    </tr>\n",
       "    <tr>\n",
       "      <td>25</td>\n",
       "      <td>0</td>\n",
       "      <td>363548.489348</td>\n",
       "      <td>67</td>\n",
       "      <td>среднее</td>\n",
       "      <td>1</td>\n",
       "      <td>женат / замужем</td>\n",
       "      <td>0</td>\n",
       "      <td>M</td>\n",
       "      <td>пенсионер</td>\n",
       "      <td>0</td>\n",
       "      <td>55112.757732</td>\n",
       "      <td>покупка недвижимости</td>\n",
       "    </tr>\n",
       "    <tr>\n",
       "      <td>30</td>\n",
       "      <td>1</td>\n",
       "      <td>335581.668515</td>\n",
       "      <td>62</td>\n",
       "      <td>среднее</td>\n",
       "      <td>1</td>\n",
       "      <td>женат / замужем</td>\n",
       "      <td>0</td>\n",
       "      <td>F</td>\n",
       "      <td>пенсионер</td>\n",
       "      <td>0</td>\n",
       "      <td>171456.067993</td>\n",
       "      <td>операции с коммерческой недвижимостью</td>\n",
       "    </tr>\n",
       "    <tr>\n",
       "      <td>...</td>\n",
       "      <td>...</td>\n",
       "      <td>...</td>\n",
       "      <td>...</td>\n",
       "      <td>...</td>\n",
       "      <td>...</td>\n",
       "      <td>...</td>\n",
       "      <td>...</td>\n",
       "      <td>...</td>\n",
       "      <td>...</td>\n",
       "      <td>...</td>\n",
       "      <td>...</td>\n",
       "      <td>...</td>\n",
       "    </tr>\n",
       "    <tr>\n",
       "      <td>21505</td>\n",
       "      <td>0</td>\n",
       "      <td>338904.866406</td>\n",
       "      <td>53</td>\n",
       "      <td>среднее</td>\n",
       "      <td>1</td>\n",
       "      <td>гражданский брак</td>\n",
       "      <td>1</td>\n",
       "      <td>M</td>\n",
       "      <td>пенсионер</td>\n",
       "      <td>0</td>\n",
       "      <td>75439.993167</td>\n",
       "      <td>сыграть свадьбу</td>\n",
       "    </tr>\n",
       "    <tr>\n",
       "      <td>21508</td>\n",
       "      <td>0</td>\n",
       "      <td>386497.714078</td>\n",
       "      <td>62</td>\n",
       "      <td>среднее</td>\n",
       "      <td>1</td>\n",
       "      <td>женат / замужем</td>\n",
       "      <td>0</td>\n",
       "      <td>M</td>\n",
       "      <td>пенсионер</td>\n",
       "      <td>0</td>\n",
       "      <td>72638.590915</td>\n",
       "      <td>недвижимость</td>\n",
       "    </tr>\n",
       "    <tr>\n",
       "      <td>21509</td>\n",
       "      <td>0</td>\n",
       "      <td>362161.054124</td>\n",
       "      <td>59</td>\n",
       "      <td>высшее</td>\n",
       "      <td>0</td>\n",
       "      <td>женат / замужем</td>\n",
       "      <td>0</td>\n",
       "      <td>M</td>\n",
       "      <td>пенсионер</td>\n",
       "      <td>0</td>\n",
       "      <td>73029.059379</td>\n",
       "      <td>операции с недвижимостью</td>\n",
       "    </tr>\n",
       "    <tr>\n",
       "      <td>21518</td>\n",
       "      <td>0</td>\n",
       "      <td>373995.710838</td>\n",
       "      <td>59</td>\n",
       "      <td>СРЕДНЕЕ</td>\n",
       "      <td>1</td>\n",
       "      <td>женат / замужем</td>\n",
       "      <td>0</td>\n",
       "      <td>F</td>\n",
       "      <td>пенсионер</td>\n",
       "      <td>0</td>\n",
       "      <td>153864.650328</td>\n",
       "      <td>сделка с автомобилем</td>\n",
       "    </tr>\n",
       "    <tr>\n",
       "      <td>21521</td>\n",
       "      <td>0</td>\n",
       "      <td>343937.404131</td>\n",
       "      <td>67</td>\n",
       "      <td>среднее</td>\n",
       "      <td>1</td>\n",
       "      <td>женат / замужем</td>\n",
       "      <td>0</td>\n",
       "      <td>F</td>\n",
       "      <td>пенсионер</td>\n",
       "      <td>0</td>\n",
       "      <td>155999.806512</td>\n",
       "      <td>сделка с автомобилем</td>\n",
       "    </tr>\n",
       "  </tbody>\n",
       "</table>\n",
       "<p>3519 rows × 12 columns</p>\n",
       "</div>"
      ],
      "text/plain": [
       "       children  days_employed  dob_years education  education_id  \\\n",
       "4             0  340266.072047         53   среднее             1   \n",
       "18            0  400281.136913         53   среднее             1   \n",
       "24            1  338551.952911         57   среднее             1   \n",
       "25            0  363548.489348         67   среднее             1   \n",
       "30            1  335581.668515         62   среднее             1   \n",
       "...         ...            ...        ...       ...           ...   \n",
       "21505         0  338904.866406         53   среднее             1   \n",
       "21508         0  386497.714078         62   среднее             1   \n",
       "21509         0  362161.054124         59    высшее             0   \n",
       "21518         0  373995.710838         59   СРЕДНЕЕ             1   \n",
       "21521         0  343937.404131         67   среднее             1   \n",
       "\n",
       "               family_status  family_status_id gender income_type  debt  \\\n",
       "4           гражданский брак                 1      F   пенсионер     0   \n",
       "18            вдовец / вдова                 2      F   пенсионер     0   \n",
       "24     Не женат / не замужем                 4      F   пенсионер     0   \n",
       "25           женат / замужем                 0      M   пенсионер     0   \n",
       "30           женат / замужем                 0      F   пенсионер     0   \n",
       "...                      ...               ...    ...         ...   ...   \n",
       "21505       гражданский брак                 1      M   пенсионер     0   \n",
       "21508        женат / замужем                 0      M   пенсионер     0   \n",
       "21509        женат / замужем                 0      M   пенсионер     0   \n",
       "21518        женат / замужем                 0      F   пенсионер     0   \n",
       "21521        женат / замужем                 0      F   пенсионер     0   \n",
       "\n",
       "        total_income                                purpose  \n",
       "4      158616.077870                        сыграть свадьбу  \n",
       "18      56823.777243     на покупку подержанного автомобиля  \n",
       "24     290547.235997  операции с коммерческой недвижимостью  \n",
       "25      55112.757732                   покупка недвижимости  \n",
       "30     171456.067993  операции с коммерческой недвижимостью  \n",
       "...              ...                                    ...  \n",
       "21505   75439.993167                        сыграть свадьбу  \n",
       "21508   72638.590915                           недвижимость  \n",
       "21509   73029.059379               операции с недвижимостью  \n",
       "21518  153864.650328                   сделка с автомобилем  \n",
       "21521  155999.806512                   сделка с автомобилем  \n",
       "\n",
       "[3519 rows x 12 columns]"
      ]
     },
     "execution_count": 13,
     "metadata": {},
     "output_type": "execute_result"
    }
   ],
   "source": [
    "# Можно заметить сликшом большие значения дней стажа.\n",
    "# Вряд ли ли кто-то работает дольше чем живет. Найдем такие значения.\n",
    "df[df['days_employed'] / 365 > df['dob_years']]"
   ]
  },
  {
   "cell_type": "code",
   "execution_count": 14,
   "metadata": {
    "scrolled": true
   },
   "outputs": [
    {
     "data": {
      "text/plain": [
       "income_type\n",
       "безработный        366413.652744\n",
       "в декрете            3296.759962\n",
       "госслужащий          2689.368353\n",
       "компаньон            1547.382223\n",
       "пенсионер          365213.306266\n",
       "предприниматель       520.848083\n",
       "сотрудник            1574.202821\n",
       "студент               578.751554\n",
       "Name: days_employed, dtype: float64"
      ]
     },
     "execution_count": 14,
     "metadata": {},
     "output_type": "execute_result"
    }
   ],
   "source": [
    "# Найдем медианы стажа для всех групп \"income_type\".\n",
    "# Видим что с пенсионерами и безработными что-то не так - слигком большие знаечния стажа.\n",
    "medians = df.groupby('income_type')['days_employed'].median()\n",
    "medians"
   ]
  },
  {
   "cell_type": "markdown",
   "metadata": {},
   "source": [
    "Все значения стажа пенсионеров и безработных заполним нулями,\n",
    "так как на данный момент они не трудоусроенны. Именно это инетресует банк при выдачи кредита.\n",
    "Видимо большие значения стажа у этих групп населения можно объяснить технической ошибкой.\n",
    "\n",
    "All values of the seniority of pensioners and the unemployed will be filled with zeros,\n",
    "as they are currently unemployed. This is what the bank asks when issuing a loan.\n",
    "Apparently, the large values of experience in these population groups can be explained by a technical error."
   ]
  },
  {
   "cell_type": "markdown",
   "metadata": {},
   "source": [
    "Пропуски по остальным группам заполним медианами.\n",
    "\n",
    "Fill in the gaps for the rest of the groups with medians."
   ]
  },
  {
   "cell_type": "code",
   "execution_count": 15,
   "metadata": {},
   "outputs": [],
   "source": [
    "df['days_employed'] = df.groupby('income_type')['days_employed'].apply(lambda x: x.fillna(x.median()))\n",
    "df.loc[(df['income_type'] == 'безработный'), 'days_employed'] = 0\n",
    "df.loc[(df['income_type'] == 'пенсионер'), 'days_employed'] = 0"
   ]
  },
  {
   "cell_type": "code",
   "execution_count": 16,
   "metadata": {},
   "outputs": [
    {
     "data": {
      "text/plain": [
       "income_type\n",
       "безработный           0.000000\n",
       "в декрете          3296.759962\n",
       "госслужащий        2689.368353\n",
       "компаньон          1547.382223\n",
       "пенсионер             0.000000\n",
       "предприниматель     520.848083\n",
       "сотрудник          1574.202821\n",
       "студент             578.751554\n",
       "Name: days_employed, dtype: float64"
      ]
     },
     "execution_count": 16,
     "metadata": {},
     "output_type": "execute_result"
    }
   ],
   "source": [
    "# Проверим медианы теперь.\n",
    "df.groupby('income_type')['days_employed'].median()"
   ]
  },
  {
   "cell_type": "code",
   "execution_count": 17,
   "metadata": {},
   "outputs": [
    {
     "data": {
      "text/plain": [
       "0"
      ]
     },
     "execution_count": 17,
     "metadata": {},
     "output_type": "execute_result"
    }
   ],
   "source": [
    "# Посмотрим остались ли нулевые значения в столбце стажа.\n",
    "df['days_employed'].isna().sum()"
   ]
  },
  {
   "cell_type": "markdown",
   "metadata": {},
   "source": [
    "Теперь посмотрим как обстоят дела с доходами.\n",
    "\n",
    "Now let's see how things are with income."
   ]
  },
  {
   "cell_type": "code",
   "execution_count": 18,
   "metadata": {
    "scrolled": false
   },
   "outputs": [
    {
     "data": {
      "text/plain": [
       "income_type\n",
       "безработный        131339.751676\n",
       "в декрете           53829.130729\n",
       "госслужащий        150447.935283\n",
       "компаньон          172357.950966\n",
       "пенсионер          118514.486412\n",
       "предприниматель    499163.144947\n",
       "сотрудник          142594.396847\n",
       "студент             98201.625314\n",
       "Name: total_income, dtype: float64"
      ]
     },
     "execution_count": 18,
     "metadata": {},
     "output_type": "execute_result"
    }
   ],
   "source": [
    "# Посмотрим на медианы.\n",
    "medians_income = df.groupby('income_type')['total_income'].median()\n",
    "medians_income"
   ]
  },
  {
   "cell_type": "code",
   "execution_count": 19,
   "metadata": {},
   "outputs": [
    {
     "name": "stdout",
     "output_type": "stream",
     "text": [
      "Размах в доходах у безработных 142765.51938439716\n",
      "Всего безработных 2\n",
      "Размах в доходах у пенсионеров 714436.0063733842\n",
      "Всего пенсионеров 3856\n"
     ]
    }
   ],
   "source": [
    "# Посмотрим на размах доходов у пенсионеров и безработных, так как до этого мы встрили ошибки в данных стажа по этим группам.\n",
    "print('Размах в доходах у безработных', df[df['income_type'] == 'безработный']['total_income'].max() \n",
    "      - df[df['income_type'] == 'безработный']['total_income'].min())\n",
    "print('Всего безработных', len(df[df['income_type'] == 'безработный']))\n",
    "print('Размах в доходах у пенсионеров', df[df['income_type'] == 'пенсионер']['total_income'].max() \n",
    "      - df[df['income_type'] == 'пенсионер']['total_income'].min())\n",
    "print('Всего пенсионеров', len(df[df['income_type'] == 'пенсионер']))"
   ]
  },
  {
   "cell_type": "markdown",
   "metadata": {},
   "source": [
    "The range in income of the unemployed 142765.51938439716\n",
    "\n",
    "Total unemployed 2\n",
    "\n",
    "The range in income of pensioners 714436.0063733842\n",
    "\n",
    "Total pensioners 3856"
   ]
  },
  {
   "cell_type": "markdown",
   "metadata": {},
   "source": [
    "Обратим внимание, что наблюдений по безработным очень мало - всего два.\n",
    "Похоже, что проблем с доходами нет: размах отличается от медиан, так что типовыми значениями по пенсионерам стобец с доходами не заполнен. \n",
    "Теперь мы можем заполнить заполнить пропуски в доходах соотвествующими медианами по группам.\n",
    "\n",
    "Note that there are very few observations on the unemployed - only two.\n",
    "It seems that there are no problems with income: the range differs from the median, so the income column is not filled with typical values for pensioners.\n",
    "We can now fill in the income gaps with the appropriate group medians."
   ]
  },
  {
   "cell_type": "code",
   "execution_count": 20,
   "metadata": {},
   "outputs": [],
   "source": [
    "df['total_income'] = df.groupby('income_type')['total_income'].apply(lambda x: x.fillna(x.median()))"
   ]
  },
  {
   "cell_type": "code",
   "execution_count": 21,
   "metadata": {},
   "outputs": [
    {
     "data": {
      "text/plain": [
       "children            0\n",
       "days_employed       0\n",
       "dob_years           0\n",
       "education           0\n",
       "education_id        0\n",
       "family_status       0\n",
       "family_status_id    0\n",
       "gender              0\n",
       "income_type         0\n",
       "debt                0\n",
       "total_income        0\n",
       "purpose             0\n",
       "dtype: int64"
      ]
     },
     "execution_count": 21,
     "metadata": {},
     "output_type": "execute_result"
    }
   ],
   "source": [
    "# Проверим результаты.\n",
    "df.isna().sum()"
   ]
  },
  {
   "cell_type": "code",
   "execution_count": 22,
   "metadata": {
    "scrolled": true
   },
   "outputs": [
    {
     "data": {
      "text/plain": [
       "array([ 1,  0,  3,  2, -1,  4, 20,  5])"
      ]
     },
     "execution_count": 22,
     "metadata": {},
     "output_type": "execute_result"
    }
   ],
   "source": [
    "# Так же обратим внимание, что в стобце 'children' есть значение \"-1\". Предположу, что это ошибка и подарузмаевтся \"1\".\n",
    "df['children'].unique()"
   ]
  },
  {
   "cell_type": "code",
   "execution_count": 23,
   "metadata": {},
   "outputs": [],
   "source": [
    "# Заменим такие значения на \"1\".\n",
    "df.loc[(df['children'] == -1), 'children'] = 1"
   ]
  },
  {
   "cell_type": "markdown",
   "metadata": {},
   "source": [
    "### Вывод\n",
    "\n",
    "### Conclusion"
   ]
  },
  {
   "cell_type": "markdown",
   "metadata": {},
   "source": [
    "1. Данных по безработным очень мало - всего 2 наблюдения.\n",
    "2. Значения стажа у безработных и пенсионеров ошибочны. \n",
    "На этом шаге я заполнил значения стажа у безработных и пенсионеров нулями, так как статус этих людей подразумевают, что на данный момент они не равботают, а правилных значений у нас нет вообще.\n",
    "Пропущенные значения доходов, я заполнил медианами по соответсвующим группам."
   ]
  },
  {
   "cell_type": "markdown",
   "metadata": {},
   "source": [
    "1. There are very few data on the unemployed - only 2 observations.\n",
    "2. The values of the length of service for the unemployed and pensioners are erroneous.\n",
    "At this step, I filled in the seniority values for the unemployed and pensioners with zeros, since the status of these people implies that they are not currently working, and we do not have the correct values \\u200b\\u200bat all.\n",
    "I filled in the missing income values with medians for the respective groups."
   ]
  },
  {
   "cell_type": "markdown",
   "metadata": {},
   "source": [
    "### Замена типа данных\n",
    "\n",
    "### Replacing the data type"
   ]
  },
  {
   "cell_type": "markdown",
   "metadata": {},
   "source": [
    "1. Заменим education_id и family_status_id на тип object, так как эти стобцы несут в себе смысл кодировки других строковых значений. debt приведем к типу bool.\n",
    "2. Округлим значения в 'days_employed' и 'days_employed' и приведем к формату int, так занкми после запятой в этих стобцах не имеют значения.\n",
    "\n"
   ]
  },
  {
   "cell_type": "markdown",
   "metadata": {},
   "source": [
    "1. Let's replace education_id and family_status_id with the object type, since these columns carry the meaning of encoding other string values. debt will be cast to bool.\n",
    "2. Round the values in 'days_employed' and 'days_employed' and convert them to int format, so the decimal places in these columns don't matter."
   ]
  },
  {
   "cell_type": "code",
   "execution_count": 24,
   "metadata": {
    "scrolled": true
   },
   "outputs": [
    {
     "name": "stdout",
     "output_type": "stream",
     "text": [
      "<class 'pandas.core.frame.DataFrame'>\n",
      "RangeIndex: 21525 entries, 0 to 21524\n",
      "Data columns (total 12 columns):\n",
      "children            21525 non-null int64\n",
      "days_employed       21525 non-null float64\n",
      "dob_years           21525 non-null int64\n",
      "education           21525 non-null object\n",
      "education_id        21525 non-null object\n",
      "family_status       21525 non-null object\n",
      "family_status_id    21525 non-null object\n",
      "gender              21525 non-null object\n",
      "income_type         21525 non-null object\n",
      "debt                21525 non-null int64\n",
      "total_income        21525 non-null float64\n",
      "purpose             21525 non-null object\n",
      "dtypes: float64(2), int64(3), object(7)\n",
      "memory usage: 2.0+ MB\n"
     ]
    }
   ],
   "source": [
    "# Выполним пункт 1 и помтрим на результат.\n",
    "df['education_id'] = df['education_id'].astype('object')\n",
    "df['family_status_id'] = df['family_status_id'].astype('object')\n",
    "df.info()"
   ]
  },
  {
   "cell_type": "code",
   "execution_count": 25,
   "metadata": {
    "scrolled": true
   },
   "outputs": [
    {
     "data": {
      "text/html": [
       "<div>\n",
       "<style scoped>\n",
       "    .dataframe tbody tr th:only-of-type {\n",
       "        vertical-align: middle;\n",
       "    }\n",
       "\n",
       "    .dataframe tbody tr th {\n",
       "        vertical-align: top;\n",
       "    }\n",
       "\n",
       "    .dataframe thead th {\n",
       "        text-align: right;\n",
       "    }\n",
       "</style>\n",
       "<table border=\"1\" class=\"dataframe\">\n",
       "  <thead>\n",
       "    <tr style=\"text-align: right;\">\n",
       "      <th></th>\n",
       "      <th>children</th>\n",
       "      <th>days_employed</th>\n",
       "      <th>dob_years</th>\n",
       "      <th>education</th>\n",
       "      <th>education_id</th>\n",
       "      <th>family_status</th>\n",
       "      <th>family_status_id</th>\n",
       "      <th>gender</th>\n",
       "      <th>income_type</th>\n",
       "      <th>debt</th>\n",
       "      <th>total_income</th>\n",
       "      <th>purpose</th>\n",
       "    </tr>\n",
       "  </thead>\n",
       "  <tbody>\n",
       "    <tr>\n",
       "      <td>0</td>\n",
       "      <td>1</td>\n",
       "      <td>8437</td>\n",
       "      <td>42</td>\n",
       "      <td>высшее</td>\n",
       "      <td>0</td>\n",
       "      <td>женат / замужем</td>\n",
       "      <td>0</td>\n",
       "      <td>F</td>\n",
       "      <td>сотрудник</td>\n",
       "      <td>0</td>\n",
       "      <td>253875</td>\n",
       "      <td>покупка жилья</td>\n",
       "    </tr>\n",
       "    <tr>\n",
       "      <td>1</td>\n",
       "      <td>1</td>\n",
       "      <td>4024</td>\n",
       "      <td>36</td>\n",
       "      <td>среднее</td>\n",
       "      <td>1</td>\n",
       "      <td>женат / замужем</td>\n",
       "      <td>0</td>\n",
       "      <td>F</td>\n",
       "      <td>сотрудник</td>\n",
       "      <td>0</td>\n",
       "      <td>112080</td>\n",
       "      <td>приобретение автомобиля</td>\n",
       "    </tr>\n",
       "    <tr>\n",
       "      <td>2</td>\n",
       "      <td>0</td>\n",
       "      <td>5623</td>\n",
       "      <td>33</td>\n",
       "      <td>Среднее</td>\n",
       "      <td>1</td>\n",
       "      <td>женат / замужем</td>\n",
       "      <td>0</td>\n",
       "      <td>M</td>\n",
       "      <td>сотрудник</td>\n",
       "      <td>0</td>\n",
       "      <td>145885</td>\n",
       "      <td>покупка жилья</td>\n",
       "    </tr>\n",
       "    <tr>\n",
       "      <td>3</td>\n",
       "      <td>3</td>\n",
       "      <td>4124</td>\n",
       "      <td>32</td>\n",
       "      <td>среднее</td>\n",
       "      <td>1</td>\n",
       "      <td>женат / замужем</td>\n",
       "      <td>0</td>\n",
       "      <td>M</td>\n",
       "      <td>сотрудник</td>\n",
       "      <td>0</td>\n",
       "      <td>267628</td>\n",
       "      <td>дополнительное образование</td>\n",
       "    </tr>\n",
       "    <tr>\n",
       "      <td>4</td>\n",
       "      <td>0</td>\n",
       "      <td>0</td>\n",
       "      <td>53</td>\n",
       "      <td>среднее</td>\n",
       "      <td>1</td>\n",
       "      <td>гражданский брак</td>\n",
       "      <td>1</td>\n",
       "      <td>F</td>\n",
       "      <td>пенсионер</td>\n",
       "      <td>0</td>\n",
       "      <td>158616</td>\n",
       "      <td>сыграть свадьбу</td>\n",
       "    </tr>\n",
       "  </tbody>\n",
       "</table>\n",
       "</div>"
      ],
      "text/plain": [
       "   children  days_employed  dob_years education education_id  \\\n",
       "0         1           8437         42    высшее            0   \n",
       "1         1           4024         36   среднее            1   \n",
       "2         0           5623         33   Среднее            1   \n",
       "3         3           4124         32   среднее            1   \n",
       "4         0              0         53   среднее            1   \n",
       "\n",
       "      family_status family_status_id gender income_type  debt  total_income  \\\n",
       "0   женат / замужем                0      F   сотрудник     0        253875   \n",
       "1   женат / замужем                0      F   сотрудник     0        112080   \n",
       "2   женат / замужем                0      M   сотрудник     0        145885   \n",
       "3   женат / замужем                0      M   сотрудник     0        267628   \n",
       "4  гражданский брак                1      F   пенсионер     0        158616   \n",
       "\n",
       "                      purpose  \n",
       "0               покупка жилья  \n",
       "1     приобретение автомобиля  \n",
       "2               покупка жилья  \n",
       "3  дополнительное образование  \n",
       "4             сыграть свадьбу  "
      ]
     },
     "execution_count": 25,
     "metadata": {},
     "output_type": "execute_result"
    }
   ],
   "source": [
    "# Выполним пункт 2 и посмотрим на результат.\n",
    "df['days_employed'] = df['days_employed'].astype('int64')\n",
    "df['total_income'] = df['total_income'].astype('int64')\n",
    "df.head()"
   ]
  },
  {
   "cell_type": "markdown",
   "metadata": {},
   "source": [
    "### Вывод\n",
    "\n",
    "### Conclusion"
   ]
  },
  {
   "cell_type": "markdown",
   "metadata": {},
   "source": [
    "Мы исправили почти все проблемы которые были в таблице: заполнили пропуски на прошлом этапе и привели столбцы к нужным типам. Осталось только сделать регистр однародным.\n",
    "\n",
    "We fixed almost all the problems that were in the table: we filled in the gaps at the last stage and cast the columns to the required types. It remains only to make the register homogeneous."
   ]
  },
  {
   "cell_type": "markdown",
   "metadata": {},
   "source": [
    "### Обработка дубликатов\n",
    "\n",
    "### Handling duplicates"
   ]
  },
  {
   "cell_type": "markdown",
   "metadata": {},
   "source": [
    "В-первую очередь приведем все данные к нижнему регистру. Затем найдем дубликаты и удалим.\n",
    "\n",
    "First of all, we will bring all the data to lower case. Then we find duplicates and delete them."
   ]
  },
  {
   "cell_type": "code",
   "execution_count": 26,
   "metadata": {},
   "outputs": [],
   "source": [
    "# Приводим к нижнему регистру стобцы со строковм типом данных.\n",
    "df['education'] = df['education'].astype(str).str.lower()\n",
    "df['family_status'] = df['family_status'].astype(str).str.lower()\n",
    "df['gender'] = df['gender'].astype(str).str.lower()\n",
    "df['income_type'] = df['income_type'].astype(str).str.lower()\n",
    "df['purpose'] = df['purpose'].astype(str).str.lower()"
   ]
  },
  {
   "cell_type": "code",
   "execution_count": 27,
   "metadata": {
    "scrolled": true
   },
   "outputs": [
    {
     "data": {
      "text/html": [
       "<div>\n",
       "<style scoped>\n",
       "    .dataframe tbody tr th:only-of-type {\n",
       "        vertical-align: middle;\n",
       "    }\n",
       "\n",
       "    .dataframe tbody tr th {\n",
       "        vertical-align: top;\n",
       "    }\n",
       "\n",
       "    .dataframe thead th {\n",
       "        text-align: right;\n",
       "    }\n",
       "</style>\n",
       "<table border=\"1\" class=\"dataframe\">\n",
       "  <thead>\n",
       "    <tr style=\"text-align: right;\">\n",
       "      <th></th>\n",
       "      <th>children</th>\n",
       "      <th>days_employed</th>\n",
       "      <th>dob_years</th>\n",
       "      <th>education</th>\n",
       "      <th>education_id</th>\n",
       "      <th>family_status</th>\n",
       "      <th>family_status_id</th>\n",
       "      <th>gender</th>\n",
       "      <th>income_type</th>\n",
       "      <th>debt</th>\n",
       "      <th>total_income</th>\n",
       "      <th>purpose</th>\n",
       "    </tr>\n",
       "  </thead>\n",
       "  <tbody>\n",
       "    <tr>\n",
       "      <td>2849</td>\n",
       "      <td>0</td>\n",
       "      <td>1574</td>\n",
       "      <td>41</td>\n",
       "      <td>среднее</td>\n",
       "      <td>1</td>\n",
       "      <td>женат / замужем</td>\n",
       "      <td>0</td>\n",
       "      <td>f</td>\n",
       "      <td>сотрудник</td>\n",
       "      <td>0</td>\n",
       "      <td>142594</td>\n",
       "      <td>покупка жилья для семьи</td>\n",
       "    </tr>\n",
       "    <tr>\n",
       "      <td>3290</td>\n",
       "      <td>0</td>\n",
       "      <td>0</td>\n",
       "      <td>58</td>\n",
       "      <td>среднее</td>\n",
       "      <td>1</td>\n",
       "      <td>гражданский брак</td>\n",
       "      <td>1</td>\n",
       "      <td>f</td>\n",
       "      <td>пенсионер</td>\n",
       "      <td>0</td>\n",
       "      <td>118514</td>\n",
       "      <td>сыграть свадьбу</td>\n",
       "    </tr>\n",
       "    <tr>\n",
       "      <td>4182</td>\n",
       "      <td>1</td>\n",
       "      <td>1574</td>\n",
       "      <td>34</td>\n",
       "      <td>высшее</td>\n",
       "      <td>0</td>\n",
       "      <td>гражданский брак</td>\n",
       "      <td>1</td>\n",
       "      <td>f</td>\n",
       "      <td>сотрудник</td>\n",
       "      <td>0</td>\n",
       "      <td>142594</td>\n",
       "      <td>свадьба</td>\n",
       "    </tr>\n",
       "    <tr>\n",
       "      <td>4851</td>\n",
       "      <td>0</td>\n",
       "      <td>0</td>\n",
       "      <td>60</td>\n",
       "      <td>среднее</td>\n",
       "      <td>1</td>\n",
       "      <td>гражданский брак</td>\n",
       "      <td>1</td>\n",
       "      <td>f</td>\n",
       "      <td>пенсионер</td>\n",
       "      <td>0</td>\n",
       "      <td>118514</td>\n",
       "      <td>свадьба</td>\n",
       "    </tr>\n",
       "    <tr>\n",
       "      <td>5557</td>\n",
       "      <td>0</td>\n",
       "      <td>0</td>\n",
       "      <td>58</td>\n",
       "      <td>среднее</td>\n",
       "      <td>1</td>\n",
       "      <td>гражданский брак</td>\n",
       "      <td>1</td>\n",
       "      <td>f</td>\n",
       "      <td>пенсионер</td>\n",
       "      <td>0</td>\n",
       "      <td>118514</td>\n",
       "      <td>сыграть свадьбу</td>\n",
       "    </tr>\n",
       "    <tr>\n",
       "      <td>...</td>\n",
       "      <td>...</td>\n",
       "      <td>...</td>\n",
       "      <td>...</td>\n",
       "      <td>...</td>\n",
       "      <td>...</td>\n",
       "      <td>...</td>\n",
       "      <td>...</td>\n",
       "      <td>...</td>\n",
       "      <td>...</td>\n",
       "      <td>...</td>\n",
       "      <td>...</td>\n",
       "      <td>...</td>\n",
       "    </tr>\n",
       "    <tr>\n",
       "      <td>20702</td>\n",
       "      <td>0</td>\n",
       "      <td>0</td>\n",
       "      <td>64</td>\n",
       "      <td>среднее</td>\n",
       "      <td>1</td>\n",
       "      <td>женат / замужем</td>\n",
       "      <td>0</td>\n",
       "      <td>f</td>\n",
       "      <td>пенсионер</td>\n",
       "      <td>0</td>\n",
       "      <td>118514</td>\n",
       "      <td>дополнительное образование</td>\n",
       "    </tr>\n",
       "    <tr>\n",
       "      <td>21032</td>\n",
       "      <td>0</td>\n",
       "      <td>0</td>\n",
       "      <td>60</td>\n",
       "      <td>среднее</td>\n",
       "      <td>1</td>\n",
       "      <td>женат / замужем</td>\n",
       "      <td>0</td>\n",
       "      <td>f</td>\n",
       "      <td>пенсионер</td>\n",
       "      <td>0</td>\n",
       "      <td>118514</td>\n",
       "      <td>заняться образованием</td>\n",
       "    </tr>\n",
       "    <tr>\n",
       "      <td>21132</td>\n",
       "      <td>0</td>\n",
       "      <td>1574</td>\n",
       "      <td>47</td>\n",
       "      <td>среднее</td>\n",
       "      <td>1</td>\n",
       "      <td>женат / замужем</td>\n",
       "      <td>0</td>\n",
       "      <td>f</td>\n",
       "      <td>сотрудник</td>\n",
       "      <td>0</td>\n",
       "      <td>142594</td>\n",
       "      <td>ремонт жилью</td>\n",
       "    </tr>\n",
       "    <tr>\n",
       "      <td>21281</td>\n",
       "      <td>1</td>\n",
       "      <td>1574</td>\n",
       "      <td>30</td>\n",
       "      <td>высшее</td>\n",
       "      <td>0</td>\n",
       "      <td>женат / замужем</td>\n",
       "      <td>0</td>\n",
       "      <td>f</td>\n",
       "      <td>сотрудник</td>\n",
       "      <td>0</td>\n",
       "      <td>142594</td>\n",
       "      <td>покупка коммерческой недвижимости</td>\n",
       "    </tr>\n",
       "    <tr>\n",
       "      <td>21415</td>\n",
       "      <td>0</td>\n",
       "      <td>0</td>\n",
       "      <td>54</td>\n",
       "      <td>среднее</td>\n",
       "      <td>1</td>\n",
       "      <td>женат / замужем</td>\n",
       "      <td>0</td>\n",
       "      <td>f</td>\n",
       "      <td>пенсионер</td>\n",
       "      <td>0</td>\n",
       "      <td>118514</td>\n",
       "      <td>операции с жильем</td>\n",
       "    </tr>\n",
       "  </tbody>\n",
       "</table>\n",
       "<p>71 rows × 12 columns</p>\n",
       "</div>"
      ],
      "text/plain": [
       "       children  days_employed  dob_years education education_id  \\\n",
       "2849          0           1574         41   среднее            1   \n",
       "3290          0              0         58   среднее            1   \n",
       "4182          1           1574         34    высшее            0   \n",
       "4851          0              0         60   среднее            1   \n",
       "5557          0              0         58   среднее            1   \n",
       "...         ...            ...        ...       ...          ...   \n",
       "20702         0              0         64   среднее            1   \n",
       "21032         0              0         60   среднее            1   \n",
       "21132         0           1574         47   среднее            1   \n",
       "21281         1           1574         30    высшее            0   \n",
       "21415         0              0         54   среднее            1   \n",
       "\n",
       "          family_status family_status_id gender income_type  debt  \\\n",
       "2849    женат / замужем                0      f   сотрудник     0   \n",
       "3290   гражданский брак                1      f   пенсионер     0   \n",
       "4182   гражданский брак                1      f   сотрудник     0   \n",
       "4851   гражданский брак                1      f   пенсионер     0   \n",
       "5557   гражданский брак                1      f   пенсионер     0   \n",
       "...                 ...              ...    ...         ...   ...   \n",
       "20702   женат / замужем                0      f   пенсионер     0   \n",
       "21032   женат / замужем                0      f   пенсионер     0   \n",
       "21132   женат / замужем                0      f   сотрудник     0   \n",
       "21281   женат / замужем                0      f   сотрудник     0   \n",
       "21415   женат / замужем                0      f   пенсионер     0   \n",
       "\n",
       "       total_income                            purpose  \n",
       "2849         142594            покупка жилья для семьи  \n",
       "3290         118514                    сыграть свадьбу  \n",
       "4182         142594                            свадьба  \n",
       "4851         118514                            свадьба  \n",
       "5557         118514                    сыграть свадьбу  \n",
       "...             ...                                ...  \n",
       "20702        118514         дополнительное образование  \n",
       "21032        118514              заняться образованием  \n",
       "21132        142594                       ремонт жилью  \n",
       "21281        142594  покупка коммерческой недвижимости  \n",
       "21415        118514                  операции с жильем  \n",
       "\n",
       "[71 rows x 12 columns]"
      ]
     },
     "execution_count": 27,
     "metadata": {},
     "output_type": "execute_result"
    }
   ],
   "source": [
    "df[df.duplicated() == True]"
   ]
  },
  {
   "cell_type": "code",
   "execution_count": 28,
   "metadata": {},
   "outputs": [],
   "source": [
    "# Удалим дубликаты.\n",
    "df.drop_duplicates(inplace=True)"
   ]
  },
  {
   "cell_type": "code",
   "execution_count": 29,
   "metadata": {},
   "outputs": [],
   "source": [
    "# Восстановим индексы.\n",
    "df.reset_index(drop=True, inplace=True)"
   ]
  },
  {
   "cell_type": "code",
   "execution_count": 30,
   "metadata": {
    "scrolled": true
   },
   "outputs": [
    {
     "name": "stdout",
     "output_type": "stream",
     "text": [
      "<class 'pandas.core.frame.DataFrame'>\n",
      "RangeIndex: 21454 entries, 0 to 21453\n",
      "Data columns (total 12 columns):\n",
      "children            21454 non-null int64\n",
      "days_employed       21454 non-null int64\n",
      "dob_years           21454 non-null int64\n",
      "education           21454 non-null object\n",
      "education_id        21454 non-null object\n",
      "family_status       21454 non-null object\n",
      "family_status_id    21454 non-null object\n",
      "gender              21454 non-null object\n",
      "income_type         21454 non-null object\n",
      "debt                21454 non-null int64\n",
      "total_income        21454 non-null int64\n",
      "purpose             21454 non-null object\n",
      "dtypes: int64(5), object(7)\n",
      "memory usage: 2.0+ MB\n"
     ]
    }
   ],
   "source": [
    "df.info()"
   ]
  },
  {
   "cell_type": "markdown",
   "metadata": {},
   "source": [
    "### Вывод\n",
    "\n",
    "### Conclusion"
   ]
  },
  {
   "cell_type": "markdown",
   "metadata": {},
   "source": [
    "Дубликаты могли появится двумя путями: задвоение в учете либо один и тот же человек взял кредит несколько раз. Проверить вторую гипотизу можно имея либо id клиента либо даты сбора наблюдения. На данный момент это проверить не получится, так как клиент мог родить ребенка, сменить работу, жениться и т.д, при этом мы не знаем сколько времени прошло между заявками.\n",
    "\n",
    "Duplicates could appear in two ways: double accounting or the same person took out a loan several times. You can check the second hypothesis by having either the client id or the date the observation was collected. At the moment, this cannot be verified, since the client could give birth to a child, change jobs, get married, etc., while we do not know how much time has passed between applications."
   ]
  },
  {
   "cell_type": "markdown",
   "metadata": {},
   "source": [
    "### Лемматизация\n",
    "\n",
    "### Lemmatization"
   ]
  },
  {
   "cell_type": "code",
   "execution_count": 31,
   "metadata": {
    "scrolled": true
   },
   "outputs": [],
   "source": [
    "# Загрузим библиотеу для лемматизации. Лемматизируем цели кредита.\n",
    "from pymystem3 import Mystem\n",
    "m = Mystem()\n",
    "lemmas = m.lemmatize(' '.join(list(df['purpose'].unique())))"
   ]
  },
  {
   "cell_type": "code",
   "execution_count": 32,
   "metadata": {
    "scrolled": false
   },
   "outputs": [
    {
     "name": "stdout",
     "output_type": "stream",
     "text": [
      "Counter({' ': 96, 'покупка': 10, 'недвижимость': 10, 'автомобиль': 9, 'образование': 9, 'жилье': 7, 'с': 5, 'операция': 4, 'на': 4, 'свой': 4, 'свадьба': 3, 'строительство': 3, 'получение': 3, 'высокий': 3, 'дополнительный': 2, 'для': 2, 'коммерческий': 2, 'жилой': 2, 'подержать': 2, 'заниматься': 2, 'сделка': 2, 'приобретение': 1, 'сыграть': 1, 'проведение': 1, 'семья': 1, 'собственный': 1, 'со': 1, 'профильный': 1, 'сдача': 1, 'ремонт': 1, '\\n': 1})\n"
     ]
    }
   ],
   "source": [
    "# Считаем количтсво каждой найденной леммы.\n",
    "from collections import Counter\n",
    "print(Counter(lemmas))"
   ]
  },
  {
   "cell_type": "markdown",
   "metadata": {},
   "source": [
    "Можно сделать вывод, что люди чаще всего в этой выборке берут кредит на недвижимость, автомобиль, образование и свадьбы.\n",
    "Заменим длинные наименования целей, на их более лаконичные обозначения.\n",
    "\n",
    "It can be concluded that people in this sample most often take loans for real estate, cars, education and weddings.\n",
    "Let's replace the long names of the goals with their more concise designations."
   ]
  },
  {
   "cell_type": "code",
   "execution_count": 33,
   "metadata": {},
   "outputs": [],
   "source": [
    "# Напишем функцию, которая будет возвращать цель кредита одним словом.\n",
    "def purpose(row):\n",
    "    purpose = row['purpose']\n",
    "    if \"недвиж\" in purpose:\n",
    "        return \"недвижимость\"\n",
    "    if \"жил\" in purpose:\n",
    "        return \"недвижимость\"\n",
    "    if \"строит\" in purpose:\n",
    "        return \"недвижимость\"\n",
    "    if \"образов\" in purpose:\n",
    "        return \"образование\"\n",
    "    if \"авто\" in purpose:\n",
    "        return \"автомобиль\"\n",
    "    if \"свадь\" in purpose:\n",
    "        return \"свадьба\""
   ]
  },
  {
   "cell_type": "code",
   "execution_count": 34,
   "metadata": {},
   "outputs": [
    {
     "data": {
      "text/plain": [
       "array(['недвижимость', 'автомобиль', 'образование', 'свадьба'],\n",
       "      dtype=object)"
      ]
     },
     "execution_count": 34,
     "metadata": {},
     "output_type": "execute_result"
    }
   ],
   "source": [
    "# Применим функцию и посомтрим на результат.\n",
    "df['purpose'] = df.apply(purpose, axis=1)\n",
    "df['purpose'].unique()"
   ]
  },
  {
   "cell_type": "markdown",
   "metadata": {},
   "source": [
    "### Вывод\n",
    "\n",
    "### Conclusion"
   ]
  },
  {
   "cell_type": "markdown",
   "metadata": {},
   "source": [
    "Зачастую цели кредита описываются целыми фразами, которые на самом деле можно свести к одному слову. Так будет легче работать с данными.\n",
    "В этот раз я применил лемматизацию, что бы узнать наиболее часто встрачающеся слова и затем почти вручную переименовал цели.\n",
    "Уверен, что можно было привести к исходным формам цели по каждому наблюдению, присвоить каждому слову в наблюдении число, которое бы равнялось частоте использования по выборке в целом (среди существительных, конечно, остальные части речи в каждом наблюдении можно откинуть). Слово с набольшем значением оставлось бы, а остльные удалялись, и так по каждому наблюдению. Но я так пока не научился. \n",
    "\n",
    "Often, the purpose of the loan is described in whole phrases, which can actually be reduced to one word. This will make it easier to work with the data.\n",
    "This time I applied lemmatization to find out the most frequently occurring words and then almost manually renamed the targets.\n",
    "I am sure that it was possible to bring to the original forms of the goal for each observation, to assign to each word in the observation a number that would equal the frequency of use in the sample as a whole (among nouns, of course, the remaining parts of speech in each observation can be discarded). The word with the largest value would remain, and the rest would be deleted, and so on for each observation. But I haven't learned that yet."
   ]
  },
  {
   "cell_type": "markdown",
   "metadata": {},
   "source": [
    "### Категоризация данных\n",
    "\n",
    "### Data categorization"
   ]
  },
  {
   "cell_type": "markdown",
   "metadata": {},
   "source": [
    "Для ответов на нижепоставленные вопросы нам не хватает только разделения заещиков по доходам.\n",
    "Введем следующие классы:\n",
    "\n",
    "-'меньше среднего' доход менее 60000;\n",
    "\n",
    "-'средний класс' доход более или равен 60000, но менее 150000;\n",
    "\n",
    "-'выше среднего'доход более или равен 150000, но менее 500000;\n",
    "\n",
    "-'обеспеченные' доход более 500000.\n",
    "\n",
    "To answer the questions below, we lack only the division of borrowers by income.\n",
    "Let's introduce the following classes:\n",
    "\n",
    "-'less than average' income less than 60,000;\n",
    "\n",
    "- 'middle class' income is greater than or equal to 60,000 but less than 150,000;\n",
    "\n",
    "- 'higher than average' income greater than or equal to 150,000 but less than 500,000;\n",
    "\n",
    "- 'secured' income over 500,000.\n",
    "\n"
   ]
  },
  {
   "cell_type": "code",
   "execution_count": 35,
   "metadata": {
    "scrolled": true
   },
   "outputs": [],
   "source": [
    "# Напишем функцию для категоризации по доходам и применим ее.\n",
    "def type_income(row):\n",
    "    total_income = row['total_income']\n",
    "    try:\n",
    "        if total_income < 60000:\n",
    "            return 'меньше среднего'\n",
    "        elif 60000 <= total_income < 150000:\n",
    "            return 'средний класс'\n",
    "        elif 150000 <= total_income < 500000:\n",
    "            return 'выше среднего'\n",
    "        elif total_income >= 500000:\n",
    "            return 'обеспеченные'\n",
    "    except:\n",
    "        return 'значение не является числом'\n",
    "df['income_type'] = df.apply(type_income, axis=1)"
   ]
  },
  {
   "cell_type": "code",
   "execution_count": 36,
   "metadata": {
    "scrolled": true
   },
   "outputs": [
    {
     "data": {
      "text/plain": [
       "array(['выше среднего', 'средний класс', 'меньше среднего',\n",
       "       'обеспеченные'], dtype=object)"
      ]
     },
     "execution_count": 36,
     "metadata": {},
     "output_type": "execute_result"
    }
   ],
   "source": [
    "# Посмотрим на результат.\n",
    "df['income_type'].unique()"
   ]
  },
  {
   "cell_type": "markdown",
   "metadata": {},
   "source": [
    "Разделим заемщиков на квартили.\n",
    "\n",
    "Dividing borrowers into quartiles."
   ]
  },
  {
   "cell_type": "code",
   "execution_count": 37,
   "metadata": {},
   "outputs": [],
   "source": [
    "df['income_quartiles'] = pd.qcut(df['total_income'], 4)"
   ]
  },
  {
   "cell_type": "markdown",
   "metadata": {},
   "source": [
    "### Вывод\n",
    "\n",
    "### Conclusion"
   ]
  },
  {
   "cell_type": "markdown",
   "metadata": {},
   "source": [
    "Чтобы понять как влиют доходы на возвращаемость, было необходимо придумать какую-то классификацию заемщиков по доходам. Классификация по доходам на 4 группы, показалась мне наиболее подходящей.\n",
    "\n",
    "To understand how income affects repayment, it was necessary to come up with some sort of classification of borrowers by income. Classification by income into 4 groups seemed to me the most appropriate."
   ]
  },
  {
   "cell_type": "markdown",
   "metadata": {},
   "source": [
    "### Шаг 3. Ответы на вопросы.\n",
    "### Step 3. Answering questions."
   ]
  },
  {
   "cell_type": "markdown",
   "metadata": {},
   "source": [
    "Для начала выясним какой процент возврата в общем по выборке.\n",
    "\n",
    "To begin with, let's find out what percentage of the return is in the total for the sample."
   ]
  },
  {
   "cell_type": "code",
   "execution_count": 38,
   "metadata": {},
   "outputs": [
    {
     "name": "stdout",
     "output_type": "stream",
     "text": [
      "8.12% заемщиков не вернули кредит в срок.\n"
     ]
    }
   ],
   "source": [
    "print('{:.2%}'.format(len(df[df['debt'] == True]) / len(df['debt'])), 'заемщиков не вернули кредит в срок.')"
   ]
  },
  {
   "cell_type": "markdown",
   "metadata": {},
   "source": [
    "8.12% of borrowers did not repay the loan on time."
   ]
  },
  {
   "cell_type": "markdown",
   "metadata": {},
   "source": [
    "- Есть ли зависимость между наличием детей и возвратом кредита в срок?\n",
    "\n",
    "- Is there a relationship between having children and repaying the loan on time?"
   ]
  },
  {
   "cell_type": "code",
   "execution_count": 39,
   "metadata": {
    "scrolled": false
   },
   "outputs": [
    {
     "name": "stdout",
     "output_type": "stream",
     "text": [
      "Процент невозврата\n",
      "            debt\n",
      "children        \n",
      "0          7.54%\n",
      "1          9.17%\n",
      "2          9.45%\n",
      "3          8.18%\n",
      "4          9.76%\n",
      "5           0.0%\n",
      "20        10.53%\n"
     ]
    }
   ],
   "source": [
    "pivot_children = df.pivot_table(index='children', values='debt', aggfunc=lambda x: str(round(x.sum() / x.count() * 100, 2)) \n",
    "                                + '%')\n",
    "print('Процент невозврата')\n",
    "print(pivot_children)"
   ]
  },
  {
   "cell_type": "code",
   "execution_count": 40,
   "metadata": {},
   "outputs": [
    {
     "name": "stdout",
     "output_type": "stream",
     "text": [
      "Заемщиков с количеством детей больше 4-ех: 85\n"
     ]
    }
   ],
   "source": [
    "print('Заемщиков с количеством детей больше 4-ех:', df[df['children'] > 4 ]['children'].count())"
   ]
  },
  {
   "cell_type": "markdown",
   "metadata": {},
   "source": [
    "Borrowers with more than 4 children: 85"
   ]
  },
  {
   "cell_type": "markdown",
   "metadata": {},
   "source": [
    "### Вывод\n",
    "\n",
    "### Conclusion"
   ]
  },
  {
   "cell_type": "markdown",
   "metadata": {},
   "source": [
    "Заемщики без детей чаще возврашают кредиты в срок. Заемщики с 5 детьми и больше - довольно редкое являние, поэтому на эти значения в этой задаче можно не обращать внимание.\n",
    "\n",
    "Borrowers without children are more likely to repay loans on time. Borrowers with 5 or more children are quite rare, so these values can be ignored in this problem."
   ]
  },
  {
   "cell_type": "markdown",
   "metadata": {},
   "source": [
    "- Есть ли зависимость между семейным положением и возвратом кредита в срок?\n",
    "\n",
    "- Is there a relationship between marital status and loan repayment on time?"
   ]
  },
  {
   "cell_type": "code",
   "execution_count": 41,
   "metadata": {
    "scrolled": true
   },
   "outputs": [
    {
     "name": "stdout",
     "output_type": "stream",
     "text": [
      "Процент невозврата\n",
      "                        debt\n",
      "family_status               \n",
      "в разводе              7.11%\n",
      "вдовец / вдова         6.57%\n",
      "гражданский брак       9.35%\n",
      "женат / замужем        7.55%\n",
      "не женат / не замужем  9.75%\n"
     ]
    }
   ],
   "source": [
    "pivot_family_status = df.pivot_table(index='family_status', values='debt', aggfunc=lambda x: str(round(x.sum() / x.count() \n",
    "                                                                                                       * 100, 2)) + '%')\n",
    "print('Процент невозврата')\n",
    "print(pivot_family_status)"
   ]
  },
  {
   "cell_type": "markdown",
   "metadata": {},
   "source": [
    "### Вывод\n",
    "\n",
    "### Conclusion"
   ]
  },
  {
   "cell_type": "markdown",
   "metadata": {},
   "source": [
    "Заемщики никогда не состоявшие в официальном браке реже возвращают кредиты в срок.\n",
    "\n",
    "Borrowers who have never been officially married are less likely to repay loans on time."
   ]
  },
  {
   "cell_type": "markdown",
   "metadata": {},
   "source": [
    "- Есть ли зависимость между уровнем дохода и возвратом кредита в срок?\n",
    "\n",
    "- Is there a relationship between the level of income and repayment of the loan on time?"
   ]
  },
  {
   "cell_type": "code",
   "execution_count": 42,
   "metadata": {},
   "outputs": [
    {
     "name": "stdout",
     "output_type": "stream",
     "text": [
      "Процент невозврата по интутивно выбранным категориям дохода заемщиков\n",
      "                  debt\n",
      "income_type           \n",
      "выше среднего    7.79%\n",
      "меньше среднего  6.08%\n",
      "обеспеченные     6.31%\n",
      "средний класс    8.59%\n"
     ]
    }
   ],
   "source": [
    "pivot_income = df.pivot_table(index='income_type', values='debt', aggfunc=lambda x: str(round(x.sum() / x.count() \n",
    "                                                                                              * 100, 2)) + '%')\n",
    "print('Процент невозврата по интутивно выбранным категориям дохода заемщиков')\n",
    "print(pivot_income)"
   ]
  },
  {
   "cell_type": "code",
   "execution_count": 43,
   "metadata": {
    "scrolled": true
   },
   "outputs": [
    {
     "name": "stdout",
     "output_type": "stream",
     "text": [
      "Процент невозврата по квартилям доходов заемщиков\n",
      "                         debt\n",
      "income_quartiles             \n",
      "(20666.999, 107623.0]   7.96%\n",
      "(107623.0, 142594.0]    8.82%\n",
      "(142594.0, 195820.25]   8.54%\n",
      "(195820.25, 2265604.0]  7.14%\n"
     ]
    }
   ],
   "source": [
    "pivot_income_quartiles = df.pivot_table(index='income_quartiles', values='debt', aggfunc=lambda x: str(round(x.sum() / x.count() \n",
    "                                                                                                             * 100, 2)) + '%')                                                                                                       \n",
    "print('Процент невозврата по квартилям доходов заемщиков')                                                                                                             \n",
    "print(pivot_income_quartiles)"
   ]
  },
  {
   "cell_type": "markdown",
   "metadata": {},
   "source": [
    "### Вывод\n",
    "\n",
    "### Conclusion"
   ]
  },
  {
   "cell_type": "markdown",
   "metadata": {},
   "source": [
    "Наиболее обеспеченные и наименние обеспеченные заемщики возвращают кредиты в срок чаще, чам представители средних классов. Это подверждается двумя типами категоризации: интуитвным и квартильным.\n",
    "\n",
    "The wealthiest and least wealthy borrowers repay loans on time more often than the middle classes. This is supported by two types of categorization: intuitive and quartile."
   ]
  },
  {
   "cell_type": "markdown",
   "metadata": {},
   "source": [
    "- Как разные цели кредита влияют на его возврат в срок?\n",
    "\n",
    "- How do different purposes of the loan affect its repayment on time?"
   ]
  },
  {
   "cell_type": "code",
   "execution_count": 44,
   "metadata": {},
   "outputs": [
    {
     "name": "stdout",
     "output_type": "stream",
     "text": [
      "Процент невозврата\n",
      "               debt\n",
      "purpose            \n",
      "автомобиль    9.36%\n",
      "недвижимость  7.23%\n",
      "образование   9.22%\n",
      "свадьба        8.0%\n"
     ]
    }
   ],
   "source": [
    "pivot_purpose = df.pivot_table(index='purpose', values='debt', aggfunc=lambda x: str(round(x.sum() / x.count() \n",
    "                                                                                           * 100, 2)) + '%')\n",
    "print('Процент невозврата')\n",
    "print(pivot_purpose)"
   ]
  },
  {
   "cell_type": "markdown",
   "metadata": {},
   "source": [
    "### Вывод\n",
    "\n",
    "### Conclusion"
   ]
  },
  {
   "cell_type": "markdown",
   "metadata": {},
   "source": [
    "Возврат кредита вероятнее, если он взят на покупку недвижимости или организации свадьбы.\n",
    "\n",
    "Repayment of a loan is more likely if it is taken to purchase real estate or organize a wedding."
   ]
  },
  {
   "cell_type": "markdown",
   "metadata": {},
   "source": [
    "### Шаг 4. Вывод.\n",
    "\n",
    "### Step 4. Conclusion."
   ]
  },
  {
   "cell_type": "markdown",
   "metadata": {},
   "source": [
    "Заемщиков можно описать переменными, а переменные могут подсказать будет ли долг возвращен. В этом документе мы показали как некоторые параметры влияют на возврат кредита. Лучшего результата и больших отклонений от среднего процента возвращаймости кредита, возможно, можно добиться комбинированием перменных. \n",
    "А пока нам ивзестно, что крдиты лучше возвращают люди, которые:\n",
    "- состоят или состояли в браке;\n",
    "\n",
    "- не имеют детей;\n",
    "\n",
    "- зарабатывают меньше 60000 либо больше 500000;\n",
    "\n",
    "- берут кредит на недвидимость или свадбу.\n",
    "\n",
    "Однако критичных отколнений по группам не выявленно.\n",
    "\n",
    "Borrowers can be described by variables, and variables can tell whether the debt will be repaid. In this document, we have shown how some parameters affect the return of a loan. A better result and larger deviations from the average loan recovery rate can probably be achieved by combining variables.\n",
    "In the meantime, we know that credits are better returned by people who:\n",
    "- are or have been married;\n",
    "\n",
    "- do not have children;\n",
    "\n",
    "- earn less than 60,000 or more than 500,000;\n",
    "\n",
    "- take a loan for real estate or a wedding.\n",
    "\n",
    "However, there were no critical deviations by groups."
   ]
  },
  {
   "cell_type": "markdown",
   "metadata": {},
   "source": [
    "На предыдущих шагах мы подготовили данные:\n",
    "\n",
    "- привели столбы к подоходящим форматам;\n",
    "\n",
    "- заполнили пропуски в доходах и стаже медианами;\n",
    "\n",
    "- исправили невозможные значения стажа у пенсионеров и безработных на нули;\n",
    "\n",
    "- исправили отрицательные значения количества детей на положительные;\n",
    "\n",
    "- привели все столбцы к нижнему регистру;\n",
    "\n",
    "- разделили заемщиков на 4 категории по доходам и добавили альтернативное разделение заемщиков на квартили доходов;\n",
    "\n",
    "- провели лемматизацию целей кредита; уницифировали цели при помощи выявленных лемм.\n",
    "\n",
    "In the previous steps, we prepared the data:\n",
    "\n",
    "- brought the pillars to suitable formats;\n",
    "\n",
    "- filled gaps in income and length of service with medians;\n",
    "\n",
    "- fixed the impossible values ​​of seniority for pensioners and the unemployed to zero;\n",
    "\n",
    "- corrected the negative values of the number of children to positive;\n",
    "\n",
    "- brought all columns to lower case;\n",
    "\n",
    "- divided borrowers into 4 income categories and added an alternative division of borrowers into income quartiles;\n",
    "\n",
    "- carried out lemmatization of the purposes of the loan; unified the goals with the help of the identified lemmas."
   ]
  }
 ],
 "metadata": {
  "kernelspec": {
   "display_name": "Python 3 (ipykernel)",
   "language": "python",
   "name": "python3"
  },
  "language_info": {
   "codemirror_mode": {
    "name": "ipython",
    "version": 3
   },
   "file_extension": ".py",
   "mimetype": "text/x-python",
   "name": "python",
   "nbconvert_exporter": "python",
   "pygments_lexer": "ipython3",
   "version": "3.9.5"
  },
  "toc": {
   "base_numbering": 1,
   "nav_menu": {},
   "number_sections": true,
   "sideBar": true,
   "skip_h1_title": true,
   "title_cell": "Table of Contents",
   "title_sidebar": "Contents",
   "toc_cell": false,
   "toc_position": {},
   "toc_section_display": true,
   "toc_window_display": false
  }
 },
 "nbformat": 4,
 "nbformat_minor": 2
}
