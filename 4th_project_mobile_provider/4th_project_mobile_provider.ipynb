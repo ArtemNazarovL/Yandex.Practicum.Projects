{
 "cells": [
  {
   "cell_type": "markdown",
   "metadata": {},
   "source": [
    "# Определение перспективного тарифа для телеком компании.\n",
    "\n",
    "# Determination of a prospective tariff for a telecom company."
   ]
  },
  {
   "cell_type": "markdown",
   "metadata": {},
   "source": [
    "## Оглавление.\n",
    "\n",
    "## Table of contents."
   ]
  },
  {
   "cell_type": "markdown",
   "metadata": {},
   "source": [
    "- [Шаг 1. О проекте.](#Step_1)\n",
    "- [Шаг 2. Загрузка библиотек и изучение данных.](#Step_2)\n",
    "- [Шаг 3. Предобработка данных.](#Step_3)<br />\n",
    "- [Шаг 4. Группировка и объединение данных.](#Step_4)\n",
    "- [Шаг 5. Рассчет дополнительных показателей.](#Step_5) \n",
    "- [Шаг 6. Анализ поведения клиентов.](#Step_6)<br />\n",
    "[Пункт A. Количество используемых минут.](#Step_7) <br />\n",
    "[Пункт B. Объем потребляемого трафика.](#Step_8) <br />\n",
    "[Пункт C. Количество использованных сообщений.](#Step_9) <br />\n",
    "[Пункт D. Изучение переплаты.](#Step_10) <br />\n",
    "[Пункт E. Структура доходов.](#Step_11) <br />\n",
    "[Пункт F. Динамика выручки.](#Step_12) <br />\n",
    "[Пункт G. Отключившиеся абоненты.](#Step_13) <br />\n",
    "- [Шаг 7. Статистическое исследование.](#Step_14) <br />\n",
    "[Пункт A. Равнество средних доходов тарифов.](#Step_15) <br />\n",
    "[Пункт B. Равенство средних доходов от тарифов в Москве и регионах.](#Step_16) <br />\n",
    "- [Шаг 8. Вывод.](#Step_17)"
   ]
  },
  {
   "cell_type": "markdown",
   "metadata": {},
   "source": [
    "- [Step 1. About the project.](#Step_1)\n",
    "- [Step 2. Download libraries and explore data.](#Step_2)\n",
    "- [Step 3. Data preprocessing.](#Step_3)<br />\n",
    "- [Step 4. Grouping and merging data.](#Step_4)\n",
    "- [Step 5. Calculation of additional indicators.](#Step_5)\n",
    "- [Step 6. Analyze customer behavior.](#Step_6)<br />\n",
    "[Point A. Number of minutes used.](#Step_7) <br />\n",
    "[Point B. Amount of traffic consumed.](#Step_8) <br />\n",
    "[Point C. Number of messages used.](#Step_9) <br />\n",
    "[Point D. Examining overpayment.](#Step_10) <br />\n",
    "[Point E. Income structure.](#Step_11) <br />\n",
    "[Point F. Revenue dynamics.](#Step_12) <br />\n",
    "[Point G. Disconnected subscribers.](#Step_13) <br />\n",
    "- [Step 7. Statistical study.](#Step_14) <br />\n",
    "[Point A. Equality of average income tariffs.](#Step_15) <br />\n",
    "[Point B. Equality of average revenues from tariffs in Moscow and the regions.](#Step_16) <br />\n",
    "- [Step 8. Output.](#Step_17)"
   ]
  },
  {
   "cell_type": "markdown",
   "metadata": {
    "scrolled": true
   },
   "source": [
    "<a id='Step_1'></a>\n",
    "## 1. О проекте.\n",
    "\n",
    "## 1. About the project."
   ]
  },
  {
   "cell_type": "markdown",
   "metadata": {},
   "source": [
    "### Задача.\n",
    "### The task."
   ]
  },
  {
   "cell_type": "markdown",
   "metadata": {},
   "source": [
    "На основе данных за 2018 год о пятиста пользователях сделать вывод: какой тариф лучше с точки зрения коммерческого департамента. Коммерческий департамент собирается пересмотреть рекламный бюджет и для этого ему необходимо понять какой тариф приносит больше денег.\n",
    "\n",
    "Based on data for 2018 on five hundred users, draw a conclusion: which tariff is better from the point of view of the commercial department. The commercial department is going to revise the advertising budget and for this it needs to understand which tariff brings in more money."
   ]
  },
  {
   "cell_type": "markdown",
   "metadata": {},
   "source": [
    "### Описание данных. \n",
    "\n",
    "### Description of the data."
   ]
  },
  {
   "cell_type": "markdown",
   "metadata": {},
   "source": [
    "Нам было дано пять файлов:\n",
    "- calls\n",
    "- internet\n",
    "- messages\n",
    "- users\n",
    "- tariffs"
   ]
  },
  {
   "cell_type": "markdown",
   "metadata": {},
   "source": [
    "We were given five files:\n",
    "- calls\n",
    "- internet\n",
    "-messages\n",
    "- users\n",
    "- tariffs"
   ]
  },
  {
   "cell_type": "markdown",
   "metadata": {},
   "source": [
    "Первые четыре файла мы объеденили в один DataFrame, рассчитав месячные показатели для каждого пользователя. В итоге у нас получилось два DataFrame: df (сведения о пользователях), tariffs (сведения о тарифах).\n",
    "Переменные df:\n",
    "- user_id — уникальный идентификатор пользователя\n",
    "- first_name — имя пользователя\n",
    "- last_name — фамилия пользователя\n",
    "- age — возраст пользователя (годы)\n",
    "- reg_date — дата подключения тарифа (день, месяц, год)\n",
    "- churn_date — дата прекращения пользования тарифом (если значение пропущено, то тариф ещё действовал на момент выгрузки данных)\n",
    "- city — город проживания пользователя\n",
    "- tariff — название тарифного плана\n",
    "- month - месяц наблюдения\n",
    "- total_internet - потрачено трафика за месяц\n",
    "- total_duration - потрачено минут за месяц\n",
    "- total_calls - совершенно звонков за месяц\n",
    "- mean_duration - средняя продолжительность разговора в месяц за месяц\n",
    "- total_messages - потрачено сообщений за месяц\n",
    "- overpay_call - рубллей переплачено за звоки а месяц\n",
    "- overpay_messages - рубллей переплачено за сообщения а месяц\n",
    "- overpay_internet - рубллей переплачено за трафик а месяц\n",
    "- total_fee - рублей потрачено за звоки а месяц"
   ]
  },
  {
   "cell_type": "markdown",
   "metadata": {},
   "source": [
    "We combined the first four files into one DataFrame, calculating monthly indicators for each user. As a result, we got two DataFrames: df (user information), tariffs (tariff information).\n",
    "df variables:\n",
    "- user_id - unique user ID\n",
    "- first_name - username\n",
    "- last_name - last name of the user\n",
    "- age — user's age (years)\n",
    "- reg_date — tariff activation date (day, month, year)\n",
    "- churn_date — date of termination of the tariff use (if the value is omitted, then the tariff was still valid at the time of data upload)\n",
    "- city — user's city of residence\n",
    "- tariff — tariff plan name\n",
    "- month - observation month\n",
    "- total_internet - traffic spent per month\n",
    "- total_duration - spent minutes per month\n",
    "- total_calls - total calls per month\n",
    "- mean_duration - average call duration per month per month\n",
    "- total_messages - messages spent per month\n",
    "- overpay_call - rubles overpaid for calls per month\n",
    "- overpay_messages - rubles overpaid for messages a month\n",
    "- overpay_internet - rubles overpaid for monthly traffic\n",
    "- total_fee - rubles spent for calls per month"
   ]
  },
  {
   "cell_type": "markdown",
   "metadata": {},
   "source": [
    "Переменные tariffs:\n",
    "- tariff_name — название тарифа\n",
    "- rub_monthly_fee — ежемесячная абонентская плата в рублях\n",
    "- minutes_included — количество минут разговора в месяц, включённых в абонентскую плату\n",
    "- messages_included — количество сообщений в месяц, включённых в абонентскую плату\n",
    "- mb_per_month_included — объём интернет-трафика, включённого в абонентскую плату (в мегабайтах)\n",
    "- rub_per_minute — стоимость минуты разговора сверх тарифного пакета (например, если в тарифе 100 минут разговора в месяц, то со 101 минуты будет взиматься плата)\n",
    "- rub_per_message — стоимость отправки сообщения сверх тарифного пакета\n",
    "- rub_per_gb — стоимость дополнительного гигабайта интернет-трафика сверх тарифного пакета (1 гигабайт = 1024 мегабайта)"
   ]
  },
  {
   "cell_type": "markdown",
   "metadata": {},
   "source": [
    "Variable tariffs:\n",
    "- tariff_name — tariff name\n",
    "- rub_monthly_fee — monthly subscription fee in rubles\n",
    "- minutes_included - the number of minutes of conversation per month included in the subscription fee\n",
    "- messages_included - number of messages per month included in the subscription fee\n",
    "- mb_per_month_included - the amount of Internet traffic included in the subscription fee (in megabytes)\n",
    "- rub_per_minute - the cost of a minute of conversation in excess of the tariff package (for example, if the tariff includes 100 minutes of conversation per month, then a fee will be charged from 101 minutes)\n",
    "- rub_per_message - the cost of sending a message in excess of the tariff package\n",
    "- rub_per_gb - the cost of an additional gigabyte of Internet traffic in excess of the tariff package (1 gigabyte = 1024 megabytes)"
   ]
  },
  {
   "cell_type": "markdown",
   "metadata": {},
   "source": [
    "<a id='Step_2'></a>\n",
    "## 2. Загрузка библиотек и изучение данных.\n",
    "\n",
    "## 2. Loading libraries and exploring the data."
   ]
  },
  {
   "cell_type": "markdown",
   "metadata": {},
   "source": [
    "Загружаем данные и библиотеки.\n",
    "\n",
    "Loading data and libraries."
   ]
  },
  {
   "cell_type": "code",
   "execution_count": 1,
   "metadata": {},
   "outputs": [],
   "source": [
    "import pandas as pd\n",
    "import numpy as np\n",
    "import math\n",
    "from scipy import stats as st\n",
    "import warnings\n",
    "import matplotlib as plt\n",
    "%matplotlib inline\n",
    "warnings.filterwarnings('ignore')\n",
    "calls = pd.read_csv('/datasets/calls.csv')\n",
    "internet = pd.read_csv('/datasets/internet.csv')\n",
    "messages = pd.read_csv('/datasets/messages.csv')\n",
    "tariffs = pd.read_csv('/datasets/tariffs.csv')\n",
    "users = pd.read_csv('/datasets/users.csv')"
   ]
  },
  {
   "cell_type": "markdown",
   "metadata": {},
   "source": [
    "Посмотрим на данные.\n",
    "\n",
    "Let's look at the data."
   ]
  },
  {
   "cell_type": "code",
   "execution_count": 2,
   "metadata": {
    "scrolled": true
   },
   "outputs": [
    {
     "data": {
      "text/html": [
       "<div>\n",
       "<style scoped>\n",
       "    .dataframe tbody tr th:only-of-type {\n",
       "        vertical-align: middle;\n",
       "    }\n",
       "\n",
       "    .dataframe tbody tr th {\n",
       "        vertical-align: top;\n",
       "    }\n",
       "\n",
       "    .dataframe thead th {\n",
       "        text-align: right;\n",
       "    }\n",
       "</style>\n",
       "<table border=\"1\" class=\"dataframe\">\n",
       "  <thead>\n",
       "    <tr style=\"text-align: right;\">\n",
       "      <th></th>\n",
       "      <th>id</th>\n",
       "      <th>call_date</th>\n",
       "      <th>duration</th>\n",
       "      <th>user_id</th>\n",
       "    </tr>\n",
       "  </thead>\n",
       "  <tbody>\n",
       "    <tr>\n",
       "      <td>0</td>\n",
       "      <td>1000_0</td>\n",
       "      <td>2018-07-25</td>\n",
       "      <td>0.00</td>\n",
       "      <td>1000</td>\n",
       "    </tr>\n",
       "    <tr>\n",
       "      <td>1</td>\n",
       "      <td>1000_1</td>\n",
       "      <td>2018-08-17</td>\n",
       "      <td>0.00</td>\n",
       "      <td>1000</td>\n",
       "    </tr>\n",
       "    <tr>\n",
       "      <td>2</td>\n",
       "      <td>1000_2</td>\n",
       "      <td>2018-06-11</td>\n",
       "      <td>2.85</td>\n",
       "      <td>1000</td>\n",
       "    </tr>\n",
       "    <tr>\n",
       "      <td>3</td>\n",
       "      <td>1000_3</td>\n",
       "      <td>2018-09-21</td>\n",
       "      <td>13.80</td>\n",
       "      <td>1000</td>\n",
       "    </tr>\n",
       "    <tr>\n",
       "      <td>4</td>\n",
       "      <td>1000_4</td>\n",
       "      <td>2018-12-15</td>\n",
       "      <td>5.18</td>\n",
       "      <td>1000</td>\n",
       "    </tr>\n",
       "  </tbody>\n",
       "</table>\n",
       "</div>"
      ],
      "text/plain": [
       "       id   call_date  duration  user_id\n",
       "0  1000_0  2018-07-25      0.00     1000\n",
       "1  1000_1  2018-08-17      0.00     1000\n",
       "2  1000_2  2018-06-11      2.85     1000\n",
       "3  1000_3  2018-09-21     13.80     1000\n",
       "4  1000_4  2018-12-15      5.18     1000"
      ]
     },
     "execution_count": 2,
     "metadata": {},
     "output_type": "execute_result"
    }
   ],
   "source": [
    "calls.head()"
   ]
  },
  {
   "cell_type": "code",
   "execution_count": 3,
   "metadata": {},
   "outputs": [
    {
     "name": "stdout",
     "output_type": "stream",
     "text": [
      "Минимальная длительность звонка 0.0\n",
      "Максимальная длительность звонка 38.0\n"
     ]
    }
   ],
   "source": [
    "print('Минимальная длительность звонка', calls['duration'].min())\n",
    "print('Максимальная длительность звонка', calls['duration'].max())"
   ]
  },
  {
   "cell_type": "markdown",
   "metadata": {},
   "source": [
    "Minimum call duration 0.0\n",
    "\n",
    "Maximum call duration 38.0"
   ]
  },
  {
   "cell_type": "code",
   "execution_count": 4,
   "metadata": {
    "scrolled": true
   },
   "outputs": [
    {
     "data": {
      "text/html": [
       "<div>\n",
       "<style scoped>\n",
       "    .dataframe tbody tr th:only-of-type {\n",
       "        vertical-align: middle;\n",
       "    }\n",
       "\n",
       "    .dataframe tbody tr th {\n",
       "        vertical-align: top;\n",
       "    }\n",
       "\n",
       "    .dataframe thead th {\n",
       "        text-align: right;\n",
       "    }\n",
       "</style>\n",
       "<table border=\"1\" class=\"dataframe\">\n",
       "  <thead>\n",
       "    <tr style=\"text-align: right;\">\n",
       "      <th></th>\n",
       "      <th>Unnamed: 0</th>\n",
       "      <th>id</th>\n",
       "      <th>mb_used</th>\n",
       "      <th>session_date</th>\n",
       "      <th>user_id</th>\n",
       "    </tr>\n",
       "  </thead>\n",
       "  <tbody>\n",
       "    <tr>\n",
       "      <td>0</td>\n",
       "      <td>0</td>\n",
       "      <td>1000_0</td>\n",
       "      <td>112.95</td>\n",
       "      <td>2018-11-25</td>\n",
       "      <td>1000</td>\n",
       "    </tr>\n",
       "    <tr>\n",
       "      <td>1</td>\n",
       "      <td>1</td>\n",
       "      <td>1000_1</td>\n",
       "      <td>1052.81</td>\n",
       "      <td>2018-09-07</td>\n",
       "      <td>1000</td>\n",
       "    </tr>\n",
       "    <tr>\n",
       "      <td>2</td>\n",
       "      <td>2</td>\n",
       "      <td>1000_2</td>\n",
       "      <td>1197.26</td>\n",
       "      <td>2018-06-25</td>\n",
       "      <td>1000</td>\n",
       "    </tr>\n",
       "    <tr>\n",
       "      <td>3</td>\n",
       "      <td>3</td>\n",
       "      <td>1000_3</td>\n",
       "      <td>550.27</td>\n",
       "      <td>2018-08-22</td>\n",
       "      <td>1000</td>\n",
       "    </tr>\n",
       "    <tr>\n",
       "      <td>4</td>\n",
       "      <td>4</td>\n",
       "      <td>1000_4</td>\n",
       "      <td>302.56</td>\n",
       "      <td>2018-09-24</td>\n",
       "      <td>1000</td>\n",
       "    </tr>\n",
       "  </tbody>\n",
       "</table>\n",
       "</div>"
      ],
      "text/plain": [
       "   Unnamed: 0      id  mb_used session_date  user_id\n",
       "0           0  1000_0   112.95   2018-11-25     1000\n",
       "1           1  1000_1  1052.81   2018-09-07     1000\n",
       "2           2  1000_2  1197.26   2018-06-25     1000\n",
       "3           3  1000_3   550.27   2018-08-22     1000\n",
       "4           4  1000_4   302.56   2018-09-24     1000"
      ]
     },
     "execution_count": 4,
     "metadata": {},
     "output_type": "execute_result"
    }
   ],
   "source": [
    "internet.head()"
   ]
  },
  {
   "cell_type": "code",
   "execution_count": 5,
   "metadata": {},
   "outputs": [
    {
     "name": "stdout",
     "output_type": "stream",
     "text": [
      "Минимальный объем потраченного трафика в течении сессии 0.0\n",
      "Максимальный объем потраченного трафика в течении сессии 1724.83\n"
     ]
    }
   ],
   "source": [
    "print('Минимальный объем потраченного трафика в течении сессии', internet['mb_used'].min())\n",
    "print('Максимальный объем потраченного трафика в течении сессии', internet['mb_used'].max())"
   ]
  },
  {
   "cell_type": "markdown",
   "metadata": {},
   "source": [
    "The minimum amount of traffic spent during the session 0.0\n",
    "\n",
    "The maximum amount of traffic spent during the session 1724.83"
   ]
  },
  {
   "cell_type": "code",
   "execution_count": 6,
   "metadata": {},
   "outputs": [
    {
     "data": {
      "text/html": [
       "<div>\n",
       "<style scoped>\n",
       "    .dataframe tbody tr th:only-of-type {\n",
       "        vertical-align: middle;\n",
       "    }\n",
       "\n",
       "    .dataframe tbody tr th {\n",
       "        vertical-align: top;\n",
       "    }\n",
       "\n",
       "    .dataframe thead th {\n",
       "        text-align: right;\n",
       "    }\n",
       "</style>\n",
       "<table border=\"1\" class=\"dataframe\">\n",
       "  <thead>\n",
       "    <tr style=\"text-align: right;\">\n",
       "      <th></th>\n",
       "      <th>id</th>\n",
       "      <th>message_date</th>\n",
       "      <th>user_id</th>\n",
       "    </tr>\n",
       "  </thead>\n",
       "  <tbody>\n",
       "    <tr>\n",
       "      <td>0</td>\n",
       "      <td>1000_0</td>\n",
       "      <td>2018-06-27</td>\n",
       "      <td>1000</td>\n",
       "    </tr>\n",
       "    <tr>\n",
       "      <td>1</td>\n",
       "      <td>1000_1</td>\n",
       "      <td>2018-10-08</td>\n",
       "      <td>1000</td>\n",
       "    </tr>\n",
       "    <tr>\n",
       "      <td>2</td>\n",
       "      <td>1000_2</td>\n",
       "      <td>2018-08-04</td>\n",
       "      <td>1000</td>\n",
       "    </tr>\n",
       "    <tr>\n",
       "      <td>3</td>\n",
       "      <td>1000_3</td>\n",
       "      <td>2018-06-16</td>\n",
       "      <td>1000</td>\n",
       "    </tr>\n",
       "    <tr>\n",
       "      <td>4</td>\n",
       "      <td>1000_4</td>\n",
       "      <td>2018-12-05</td>\n",
       "      <td>1000</td>\n",
       "    </tr>\n",
       "  </tbody>\n",
       "</table>\n",
       "</div>"
      ],
      "text/plain": [
       "       id message_date  user_id\n",
       "0  1000_0   2018-06-27     1000\n",
       "1  1000_1   2018-10-08     1000\n",
       "2  1000_2   2018-08-04     1000\n",
       "3  1000_3   2018-06-16     1000\n",
       "4  1000_4   2018-12-05     1000"
      ]
     },
     "execution_count": 6,
     "metadata": {},
     "output_type": "execute_result"
    }
   ],
   "source": [
    "messages.head()"
   ]
  },
  {
   "cell_type": "code",
   "execution_count": 7,
   "metadata": {},
   "outputs": [
    {
     "data": {
      "text/html": [
       "<div>\n",
       "<style scoped>\n",
       "    .dataframe tbody tr th:only-of-type {\n",
       "        vertical-align: middle;\n",
       "    }\n",
       "\n",
       "    .dataframe tbody tr th {\n",
       "        vertical-align: top;\n",
       "    }\n",
       "\n",
       "    .dataframe thead th {\n",
       "        text-align: right;\n",
       "    }\n",
       "</style>\n",
       "<table border=\"1\" class=\"dataframe\">\n",
       "  <thead>\n",
       "    <tr style=\"text-align: right;\">\n",
       "      <th></th>\n",
       "      <th>messages_included</th>\n",
       "      <th>mb_per_month_included</th>\n",
       "      <th>minutes_included</th>\n",
       "      <th>rub_monthly_fee</th>\n",
       "      <th>rub_per_gb</th>\n",
       "      <th>rub_per_message</th>\n",
       "      <th>rub_per_minute</th>\n",
       "      <th>tariff_name</th>\n",
       "    </tr>\n",
       "  </thead>\n",
       "  <tbody>\n",
       "    <tr>\n",
       "      <td>0</td>\n",
       "      <td>50</td>\n",
       "      <td>15360</td>\n",
       "      <td>500</td>\n",
       "      <td>550</td>\n",
       "      <td>200</td>\n",
       "      <td>3</td>\n",
       "      <td>3</td>\n",
       "      <td>smart</td>\n",
       "    </tr>\n",
       "    <tr>\n",
       "      <td>1</td>\n",
       "      <td>1000</td>\n",
       "      <td>30720</td>\n",
       "      <td>3000</td>\n",
       "      <td>1950</td>\n",
       "      <td>150</td>\n",
       "      <td>1</td>\n",
       "      <td>1</td>\n",
       "      <td>ultra</td>\n",
       "    </tr>\n",
       "  </tbody>\n",
       "</table>\n",
       "</div>"
      ],
      "text/plain": [
       "   messages_included  mb_per_month_included  minutes_included  \\\n",
       "0                 50                  15360               500   \n",
       "1               1000                  30720              3000   \n",
       "\n",
       "   rub_monthly_fee  rub_per_gb  rub_per_message  rub_per_minute tariff_name  \n",
       "0              550         200                3               3       smart  \n",
       "1             1950         150                1               1       ultra  "
      ]
     },
     "execution_count": 7,
     "metadata": {},
     "output_type": "execute_result"
    }
   ],
   "source": [
    "tariffs.head()"
   ]
  },
  {
   "cell_type": "code",
   "execution_count": 8,
   "metadata": {},
   "outputs": [
    {
     "data": {
      "text/html": [
       "<div>\n",
       "<style scoped>\n",
       "    .dataframe tbody tr th:only-of-type {\n",
       "        vertical-align: middle;\n",
       "    }\n",
       "\n",
       "    .dataframe tbody tr th {\n",
       "        vertical-align: top;\n",
       "    }\n",
       "\n",
       "    .dataframe thead th {\n",
       "        text-align: right;\n",
       "    }\n",
       "</style>\n",
       "<table border=\"1\" class=\"dataframe\">\n",
       "  <thead>\n",
       "    <tr style=\"text-align: right;\">\n",
       "      <th></th>\n",
       "      <th>user_id</th>\n",
       "      <th>age</th>\n",
       "      <th>churn_date</th>\n",
       "      <th>city</th>\n",
       "      <th>first_name</th>\n",
       "      <th>last_name</th>\n",
       "      <th>reg_date</th>\n",
       "      <th>tariff</th>\n",
       "    </tr>\n",
       "  </thead>\n",
       "  <tbody>\n",
       "    <tr>\n",
       "      <td>0</td>\n",
       "      <td>1000</td>\n",
       "      <td>52</td>\n",
       "      <td>NaN</td>\n",
       "      <td>Краснодар</td>\n",
       "      <td>Рафаил</td>\n",
       "      <td>Верещагин</td>\n",
       "      <td>2018-05-25</td>\n",
       "      <td>ultra</td>\n",
       "    </tr>\n",
       "    <tr>\n",
       "      <td>1</td>\n",
       "      <td>1001</td>\n",
       "      <td>41</td>\n",
       "      <td>NaN</td>\n",
       "      <td>Москва</td>\n",
       "      <td>Иван</td>\n",
       "      <td>Ежов</td>\n",
       "      <td>2018-11-01</td>\n",
       "      <td>smart</td>\n",
       "    </tr>\n",
       "    <tr>\n",
       "      <td>2</td>\n",
       "      <td>1002</td>\n",
       "      <td>59</td>\n",
       "      <td>NaN</td>\n",
       "      <td>Стерлитамак</td>\n",
       "      <td>Евгений</td>\n",
       "      <td>Абрамович</td>\n",
       "      <td>2018-06-17</td>\n",
       "      <td>smart</td>\n",
       "    </tr>\n",
       "    <tr>\n",
       "      <td>3</td>\n",
       "      <td>1003</td>\n",
       "      <td>23</td>\n",
       "      <td>NaN</td>\n",
       "      <td>Москва</td>\n",
       "      <td>Белла</td>\n",
       "      <td>Белякова</td>\n",
       "      <td>2018-08-17</td>\n",
       "      <td>ultra</td>\n",
       "    </tr>\n",
       "    <tr>\n",
       "      <td>4</td>\n",
       "      <td>1004</td>\n",
       "      <td>68</td>\n",
       "      <td>NaN</td>\n",
       "      <td>Новокузнецк</td>\n",
       "      <td>Татьяна</td>\n",
       "      <td>Авдеенко</td>\n",
       "      <td>2018-05-14</td>\n",
       "      <td>ultra</td>\n",
       "    </tr>\n",
       "  </tbody>\n",
       "</table>\n",
       "</div>"
      ],
      "text/plain": [
       "   user_id  age churn_date         city first_name  last_name    reg_date  \\\n",
       "0     1000   52        NaN    Краснодар     Рафаил  Верещагин  2018-05-25   \n",
       "1     1001   41        NaN       Москва       Иван       Ежов  2018-11-01   \n",
       "2     1002   59        NaN  Стерлитамак    Евгений  Абрамович  2018-06-17   \n",
       "3     1003   23        NaN       Москва      Белла   Белякова  2018-08-17   \n",
       "4     1004   68        NaN  Новокузнецк    Татьяна   Авдеенко  2018-05-14   \n",
       "\n",
       "  tariff  \n",
       "0  ultra  \n",
       "1  smart  \n",
       "2  smart  \n",
       "3  ultra  \n",
       "4  ultra  "
      ]
     },
     "execution_count": 8,
     "metadata": {},
     "output_type": "execute_result"
    }
   ],
   "source": [
    "users.head()"
   ]
  },
  {
   "cell_type": "code",
   "execution_count": 9,
   "metadata": {},
   "outputs": [
    {
     "name": "stdout",
     "output_type": "stream",
     "text": [
      "<class 'pandas.core.frame.DataFrame'>\n",
      "RangeIndex: 202607 entries, 0 to 202606\n",
      "Data columns (total 4 columns):\n",
      "id           202607 non-null object\n",
      "call_date    202607 non-null object\n",
      "duration     202607 non-null float64\n",
      "user_id      202607 non-null int64\n",
      "dtypes: float64(1), int64(1), object(2)\n",
      "memory usage: 6.2+ MB\n"
     ]
    }
   ],
   "source": [
    "calls.info()"
   ]
  },
  {
   "cell_type": "code",
   "execution_count": 10,
   "metadata": {},
   "outputs": [
    {
     "name": "stdout",
     "output_type": "stream",
     "text": [
      "<class 'pandas.core.frame.DataFrame'>\n",
      "RangeIndex: 149396 entries, 0 to 149395\n",
      "Data columns (total 5 columns):\n",
      "Unnamed: 0      149396 non-null int64\n",
      "id              149396 non-null object\n",
      "mb_used         149396 non-null float64\n",
      "session_date    149396 non-null object\n",
      "user_id         149396 non-null int64\n",
      "dtypes: float64(1), int64(2), object(2)\n",
      "memory usage: 5.7+ MB\n"
     ]
    }
   ],
   "source": [
    "internet.info()"
   ]
  },
  {
   "cell_type": "code",
   "execution_count": 11,
   "metadata": {},
   "outputs": [
    {
     "name": "stdout",
     "output_type": "stream",
     "text": [
      "<class 'pandas.core.frame.DataFrame'>\n",
      "RangeIndex: 123036 entries, 0 to 123035\n",
      "Data columns (total 3 columns):\n",
      "id              123036 non-null object\n",
      "message_date    123036 non-null object\n",
      "user_id         123036 non-null int64\n",
      "dtypes: int64(1), object(2)\n",
      "memory usage: 2.8+ MB\n"
     ]
    }
   ],
   "source": [
    "messages.info()"
   ]
  },
  {
   "cell_type": "code",
   "execution_count": 12,
   "metadata": {
    "scrolled": true
   },
   "outputs": [
    {
     "name": "stdout",
     "output_type": "stream",
     "text": [
      "<class 'pandas.core.frame.DataFrame'>\n",
      "RangeIndex: 500 entries, 0 to 499\n",
      "Data columns (total 8 columns):\n",
      "user_id       500 non-null int64\n",
      "age           500 non-null int64\n",
      "churn_date    38 non-null object\n",
      "city          500 non-null object\n",
      "first_name    500 non-null object\n",
      "last_name     500 non-null object\n",
      "reg_date      500 non-null object\n",
      "tariff        500 non-null object\n",
      "dtypes: int64(2), object(6)\n",
      "memory usage: 31.4+ KB\n"
     ]
    }
   ],
   "source": [
    "users.info()"
   ]
  },
  {
   "cell_type": "markdown",
   "metadata": {},
   "source": [
    "### <div class=\"alert alert-info\">Вывод:</div>\n",
    "- файлы разноразмерные; содержат информацию по каждому дейсвтию абонента (звонок, собщение, выход в интернет)\n",
    "- тарифы писанны отдельно в файле tariffs\n",
    "- есть пустые значения в churn_date\n",
    "- есть нулевые значения duration в файле calls\n",
    "- есть нулевые значения duration в файле internet"
   ]
  },
  {
   "cell_type": "markdown",
   "metadata": {},
   "source": [
    "### Conclusion:\n",
    "- files of various sizes; contain information on each action of the subscriber (call, message, access to the Internet)\n",
    "- tariffs are written separately in the tariffs file\n",
    "- there are empty values in churn_date\n",
    "- there are zero duration values in the calls file\n",
    "- there are zero duration values in the internet file"
   ]
  },
  {
   "cell_type": "markdown",
   "metadata": {},
   "source": [
    "<a id='Step_3'></a>\n",
    "## 3. Предобработка данных.\n",
    "\n",
    "## 3. Data preprocessing."
   ]
  },
  {
   "cell_type": "markdown",
   "metadata": {},
   "source": [
    "1. Users содержит пустые значения в churn_date. Оставим как есть, так как Nan в этом случае значит, что пользователи все еще пользуются тарифом.\n",
    "2. Calls содержит нули в duration. Такие значения нужно заменить на Nan, чтобы не искажать средние. Ноль означает, что разговор не состоялся.\n",
    "3. Internet тоже содержит нули. Также заменинм на Nan.\n",
    "4. Даты необходимо привести к нужному формату.\n",
    "5. Минуты и трафик оркугляем вверх (по заданию)."
   ]
  },
  {
   "cell_type": "markdown",
   "metadata": {},
   "source": [
    "1. Users contains empty values in churn_date. Let's leave it as it is, since Nan in this case means that users are still using the tariff.\n",
    "2. Calls contains zeros in duration. Such values should be replaced with Nan so as not to distort the averages. Zero means that the conversation did not take place.\n",
    "3. The Internet also contains zeros. Also change to Nan.\n",
    "4. Dates must be converted to the correct format.\n",
    "5. Minutes and traffic are rounded up (by task)."
   ]
  },
  {
   "cell_type": "markdown",
   "metadata": {},
   "source": [
    "Нулевой трафик тоже решил заменить на Nan.\n",
    "\n",
    "I also decided to replace zero traffic with Nan."
   ]
  },
  {
   "cell_type": "code",
   "execution_count": 13,
   "metadata": {},
   "outputs": [],
   "source": [
    "# Устноавим правильный формат для даты.\n",
    "users['reg_date'] = pd.to_datetime(users['reg_date'], format='%Y-%m-%d')\n",
    "internet['session_date'] = pd.to_datetime(internet['session_date'], format='%Y-%m-%d')\n",
    "messages['message_date'] = pd.to_datetime(messages['message_date'], format='%Y-%m-%d')\n",
    "users['churn_date'] = pd.to_datetime(users['churn_date'], format='%Y-%m-%d')\n",
    "calls['call_date'] = pd.to_datetime(calls['call_date'], format='%Y-%m-%d')\n",
    "# Округляем вверх нули и трафик.\n",
    "calls['duration'] = calls['duration'].apply(lambda x: math.ceil(x))\n",
    "internet['mb_used'] = internet['mb_used'].apply(lambda x: math.ceil(x))\n",
    "# Заменим нули в duration и mb_used на NaN.\n",
    "calls['duration'].replace(0.00, np.NaN, inplace=True)\n",
    "internet['mb_used'].replace(0.00, np.NaN, inplace=True)"
   ]
  },
  {
   "cell_type": "markdown",
   "metadata": {},
   "source": [
    "Данные содержат сведенья о клиентах за несколько месяцев. Будем группировать по id клинета и по месяцам. Для этого извличем месяц из даты."
   ]
  },
  {
   "cell_type": "markdown",
   "metadata": {},
   "source": [
    "The data contains customer details for several months. We will group by client id and by month. To do this, we extract the month from the date."
   ]
  },
  {
   "cell_type": "code",
   "execution_count": 14,
   "metadata": {},
   "outputs": [],
   "source": [
    "calls['month'] = pd.DatetimeIndex(calls['call_date']).month\n",
    "messages['month'] = pd.DatetimeIndex(messages['message_date']).month\n",
    "internet['month'] = pd.DatetimeIndex(internet['session_date']).month"
   ]
  },
  {
   "cell_type": "markdown",
   "metadata": {},
   "source": [
    "Перейдем непосредственно к группировке.\n",
    "\n",
    "Let's move on to grouping."
   ]
  },
  {
   "cell_type": "markdown",
   "metadata": {},
   "source": [
    "<a id='Step_4'></a>\n",
    "## 4. Группировка и объединение данных.\n",
    "\n",
    "## 4. Grouping and combining data."
   ]
  },
  {
   "cell_type": "markdown",
   "metadata": {},
   "source": [
    "#### Идея заключается в рассчете показателей затраченных минут, сообщений и трафика для каждого пользователя по всем месяцам.\n",
    "\n",
    "#### The idea is to calculate the spent minutes, messages and traffic for each user for all months."
   ]
  },
  {
   "cell_type": "markdown",
   "metadata": {},
   "source": [
    "Рассчитаем показатели для звонков.\n",
    "\n",
    "Let's calculate the indicators for calls."
   ]
  },
  {
   "cell_type": "code",
   "execution_count": 15,
   "metadata": {
    "scrolled": false
   },
   "outputs": [
    {
     "data": {
      "text/html": [
       "<div>\n",
       "<style scoped>\n",
       "    .dataframe tbody tr th:only-of-type {\n",
       "        vertical-align: middle;\n",
       "    }\n",
       "\n",
       "    .dataframe tbody tr th {\n",
       "        vertical-align: top;\n",
       "    }\n",
       "\n",
       "    .dataframe thead th {\n",
       "        text-align: right;\n",
       "    }\n",
       "</style>\n",
       "<table border=\"1\" class=\"dataframe\">\n",
       "  <thead>\n",
       "    <tr style=\"text-align: right;\">\n",
       "      <th></th>\n",
       "      <th>user_id</th>\n",
       "      <th>month</th>\n",
       "      <th>total_duration</th>\n",
       "      <th>total_calls</th>\n",
       "      <th>mean_duration</th>\n",
       "    </tr>\n",
       "  </thead>\n",
       "  <tbody>\n",
       "    <tr>\n",
       "      <td>0</td>\n",
       "      <td>1000</td>\n",
       "      <td>5</td>\n",
       "      <td>159.0</td>\n",
       "      <td>17</td>\n",
       "      <td>9.352941</td>\n",
       "    </tr>\n",
       "    <tr>\n",
       "      <td>1</td>\n",
       "      <td>1000</td>\n",
       "      <td>6</td>\n",
       "      <td>172.0</td>\n",
       "      <td>28</td>\n",
       "      <td>6.142857</td>\n",
       "    </tr>\n",
       "    <tr>\n",
       "      <td>2</td>\n",
       "      <td>1000</td>\n",
       "      <td>7</td>\n",
       "      <td>340.0</td>\n",
       "      <td>41</td>\n",
       "      <td>8.292683</td>\n",
       "    </tr>\n",
       "    <tr>\n",
       "      <td>3</td>\n",
       "      <td>1000</td>\n",
       "      <td>8</td>\n",
       "      <td>408.0</td>\n",
       "      <td>42</td>\n",
       "      <td>9.714286</td>\n",
       "    </tr>\n",
       "    <tr>\n",
       "      <td>4</td>\n",
       "      <td>1000</td>\n",
       "      <td>9</td>\n",
       "      <td>466.0</td>\n",
       "      <td>46</td>\n",
       "      <td>10.130435</td>\n",
       "    </tr>\n",
       "    <tr>\n",
       "      <td>...</td>\n",
       "      <td>...</td>\n",
       "      <td>...</td>\n",
       "      <td>...</td>\n",
       "      <td>...</td>\n",
       "      <td>...</td>\n",
       "    </tr>\n",
       "    <tr>\n",
       "      <td>3169</td>\n",
       "      <td>1498</td>\n",
       "      <td>10</td>\n",
       "      <td>247.0</td>\n",
       "      <td>30</td>\n",
       "      <td>8.233333</td>\n",
       "    </tr>\n",
       "    <tr>\n",
       "      <td>3170</td>\n",
       "      <td>1499</td>\n",
       "      <td>9</td>\n",
       "      <td>70.0</td>\n",
       "      <td>8</td>\n",
       "      <td>8.750000</td>\n",
       "    </tr>\n",
       "    <tr>\n",
       "      <td>3171</td>\n",
       "      <td>1499</td>\n",
       "      <td>10</td>\n",
       "      <td>449.0</td>\n",
       "      <td>44</td>\n",
       "      <td>10.204545</td>\n",
       "    </tr>\n",
       "    <tr>\n",
       "      <td>3172</td>\n",
       "      <td>1499</td>\n",
       "      <td>11</td>\n",
       "      <td>612.0</td>\n",
       "      <td>62</td>\n",
       "      <td>9.870968</td>\n",
       "    </tr>\n",
       "    <tr>\n",
       "      <td>3173</td>\n",
       "      <td>1499</td>\n",
       "      <td>12</td>\n",
       "      <td>492.0</td>\n",
       "      <td>56</td>\n",
       "      <td>8.785714</td>\n",
       "    </tr>\n",
       "  </tbody>\n",
       "</table>\n",
       "<p>3174 rows × 5 columns</p>\n",
       "</div>"
      ],
      "text/plain": [
       "      user_id  month  total_duration  total_calls  mean_duration\n",
       "0        1000      5           159.0           17       9.352941\n",
       "1        1000      6           172.0           28       6.142857\n",
       "2        1000      7           340.0           41       8.292683\n",
       "3        1000      8           408.0           42       9.714286\n",
       "4        1000      9           466.0           46      10.130435\n",
       "...       ...    ...             ...          ...            ...\n",
       "3169     1498     10           247.0           30       8.233333\n",
       "3170     1499      9            70.0            8       8.750000\n",
       "3171     1499     10           449.0           44      10.204545\n",
       "3172     1499     11           612.0           62       9.870968\n",
       "3173     1499     12           492.0           56       8.785714\n",
       "\n",
       "[3174 rows x 5 columns]"
      ]
     },
     "execution_count": 15,
     "metadata": {},
     "output_type": "execute_result"
    }
   ],
   "source": [
    "pivot_calls = calls.pivot_table(index=['user_id', 'month'], values='duration', aggfunc=['sum', 'count', 'mean'])\n",
    "pivot_calls.reset_index(inplace=True)\n",
    "pivot_calls.columns = pivot_calls.columns.droplevel(1)\n",
    "pivot_calls.rename(columns={'sum':'total_duration', 'count': 'total_calls', 'mean': 'mean_duration'}, inplace=True)\n",
    "pivot_calls"
   ]
  },
  {
   "cell_type": "markdown",
   "metadata": {},
   "source": [
    "Рассчитаем показатели для трафика.\n",
    "\n",
    "Calculate traffic metrics."
   ]
  },
  {
   "cell_type": "code",
   "execution_count": 16,
   "metadata": {
    "scrolled": true
   },
   "outputs": [
    {
     "data": {
      "text/html": [
       "<div>\n",
       "<style scoped>\n",
       "    .dataframe tbody tr th:only-of-type {\n",
       "        vertical-align: middle;\n",
       "    }\n",
       "\n",
       "    .dataframe tbody tr th {\n",
       "        vertical-align: top;\n",
       "    }\n",
       "\n",
       "    .dataframe thead th {\n",
       "        text-align: right;\n",
       "    }\n",
       "</style>\n",
       "<table border=\"1\" class=\"dataframe\">\n",
       "  <thead>\n",
       "    <tr style=\"text-align: right;\">\n",
       "      <th></th>\n",
       "      <th>user_id</th>\n",
       "      <th>month</th>\n",
       "      <th>total_internet</th>\n",
       "    </tr>\n",
       "  </thead>\n",
       "  <tbody>\n",
       "    <tr>\n",
       "      <td>0</td>\n",
       "      <td>1000</td>\n",
       "      <td>5</td>\n",
       "      <td>2256.0</td>\n",
       "    </tr>\n",
       "    <tr>\n",
       "      <td>1</td>\n",
       "      <td>1000</td>\n",
       "      <td>6</td>\n",
       "      <td>23257.0</td>\n",
       "    </tr>\n",
       "    <tr>\n",
       "      <td>2</td>\n",
       "      <td>1000</td>\n",
       "      <td>7</td>\n",
       "      <td>14016.0</td>\n",
       "    </tr>\n",
       "    <tr>\n",
       "      <td>3</td>\n",
       "      <td>1000</td>\n",
       "      <td>8</td>\n",
       "      <td>14070.0</td>\n",
       "    </tr>\n",
       "    <tr>\n",
       "      <td>4</td>\n",
       "      <td>1000</td>\n",
       "      <td>9</td>\n",
       "      <td>14581.0</td>\n",
       "    </tr>\n",
       "    <tr>\n",
       "      <td>...</td>\n",
       "      <td>...</td>\n",
       "      <td>...</td>\n",
       "      <td>...</td>\n",
       "    </tr>\n",
       "    <tr>\n",
       "      <td>3198</td>\n",
       "      <td>1498</td>\n",
       "      <td>10</td>\n",
       "      <td>20604.0</td>\n",
       "    </tr>\n",
       "    <tr>\n",
       "      <td>3199</td>\n",
       "      <td>1499</td>\n",
       "      <td>9</td>\n",
       "      <td>1848.0</td>\n",
       "    </tr>\n",
       "    <tr>\n",
       "      <td>3200</td>\n",
       "      <td>1499</td>\n",
       "      <td>10</td>\n",
       "      <td>17809.0</td>\n",
       "    </tr>\n",
       "    <tr>\n",
       "      <td>3201</td>\n",
       "      <td>1499</td>\n",
       "      <td>11</td>\n",
       "      <td>17984.0</td>\n",
       "    </tr>\n",
       "    <tr>\n",
       "      <td>3202</td>\n",
       "      <td>1499</td>\n",
       "      <td>12</td>\n",
       "      <td>13077.0</td>\n",
       "    </tr>\n",
       "  </tbody>\n",
       "</table>\n",
       "<p>3203 rows × 3 columns</p>\n",
       "</div>"
      ],
      "text/plain": [
       "      user_id  month  total_internet\n",
       "0        1000      5          2256.0\n",
       "1        1000      6         23257.0\n",
       "2        1000      7         14016.0\n",
       "3        1000      8         14070.0\n",
       "4        1000      9         14581.0\n",
       "...       ...    ...             ...\n",
       "3198     1498     10         20604.0\n",
       "3199     1499      9          1848.0\n",
       "3200     1499     10         17809.0\n",
       "3201     1499     11         17984.0\n",
       "3202     1499     12         13077.0\n",
       "\n",
       "[3203 rows x 3 columns]"
      ]
     },
     "execution_count": 16,
     "metadata": {},
     "output_type": "execute_result"
    }
   ],
   "source": [
    "pivot_internet = internet.pivot_table(index=['user_id', 'month'], values='mb_used', aggfunc=['sum'])\n",
    "pivot_internet.reset_index(inplace=True)\n",
    "pivot_internet.columns = pivot_internet.columns.droplevel(1)\n",
    "pivot_internet.rename(columns={'sum': 'total_internet'}, inplace=True)\n",
    "pivot_internet"
   ]
  },
  {
   "cell_type": "markdown",
   "metadata": {},
   "source": [
    "Рассчитаем показатели для сообщений.\n",
    "\n",
    "Calculate indicators for messages."
   ]
  },
  {
   "cell_type": "code",
   "execution_count": 17,
   "metadata": {
    "scrolled": true
   },
   "outputs": [
    {
     "data": {
      "text/html": [
       "<div>\n",
       "<style scoped>\n",
       "    .dataframe tbody tr th:only-of-type {\n",
       "        vertical-align: middle;\n",
       "    }\n",
       "\n",
       "    .dataframe tbody tr th {\n",
       "        vertical-align: top;\n",
       "    }\n",
       "\n",
       "    .dataframe thead th {\n",
       "        text-align: right;\n",
       "    }\n",
       "</style>\n",
       "<table border=\"1\" class=\"dataframe\">\n",
       "  <thead>\n",
       "    <tr style=\"text-align: right;\">\n",
       "      <th></th>\n",
       "      <th>user_id</th>\n",
       "      <th>month</th>\n",
       "      <th>total_messages</th>\n",
       "    </tr>\n",
       "  </thead>\n",
       "  <tbody>\n",
       "    <tr>\n",
       "      <td>0</td>\n",
       "      <td>1000</td>\n",
       "      <td>5</td>\n",
       "      <td>22</td>\n",
       "    </tr>\n",
       "    <tr>\n",
       "      <td>1</td>\n",
       "      <td>1000</td>\n",
       "      <td>6</td>\n",
       "      <td>60</td>\n",
       "    </tr>\n",
       "    <tr>\n",
       "      <td>2</td>\n",
       "      <td>1000</td>\n",
       "      <td>7</td>\n",
       "      <td>75</td>\n",
       "    </tr>\n",
       "    <tr>\n",
       "      <td>3</td>\n",
       "      <td>1000</td>\n",
       "      <td>8</td>\n",
       "      <td>81</td>\n",
       "    </tr>\n",
       "    <tr>\n",
       "      <td>4</td>\n",
       "      <td>1000</td>\n",
       "      <td>9</td>\n",
       "      <td>57</td>\n",
       "    </tr>\n",
       "    <tr>\n",
       "      <td>...</td>\n",
       "      <td>...</td>\n",
       "      <td>...</td>\n",
       "      <td>...</td>\n",
       "    </tr>\n",
       "    <tr>\n",
       "      <td>2712</td>\n",
       "      <td>1498</td>\n",
       "      <td>10</td>\n",
       "      <td>42</td>\n",
       "    </tr>\n",
       "    <tr>\n",
       "      <td>2713</td>\n",
       "      <td>1499</td>\n",
       "      <td>9</td>\n",
       "      <td>11</td>\n",
       "    </tr>\n",
       "    <tr>\n",
       "      <td>2714</td>\n",
       "      <td>1499</td>\n",
       "      <td>10</td>\n",
       "      <td>48</td>\n",
       "    </tr>\n",
       "    <tr>\n",
       "      <td>2715</td>\n",
       "      <td>1499</td>\n",
       "      <td>11</td>\n",
       "      <td>59</td>\n",
       "    </tr>\n",
       "    <tr>\n",
       "      <td>2716</td>\n",
       "      <td>1499</td>\n",
       "      <td>12</td>\n",
       "      <td>66</td>\n",
       "    </tr>\n",
       "  </tbody>\n",
       "</table>\n",
       "<p>2717 rows × 3 columns</p>\n",
       "</div>"
      ],
      "text/plain": [
       "      user_id  month  total_messages\n",
       "0        1000      5              22\n",
       "1        1000      6              60\n",
       "2        1000      7              75\n",
       "3        1000      8              81\n",
       "4        1000      9              57\n",
       "...       ...    ...             ...\n",
       "2712     1498     10              42\n",
       "2713     1499      9              11\n",
       "2714     1499     10              48\n",
       "2715     1499     11              59\n",
       "2716     1499     12              66\n",
       "\n",
       "[2717 rows x 3 columns]"
      ]
     },
     "execution_count": 17,
     "metadata": {},
     "output_type": "execute_result"
    }
   ],
   "source": [
    "pivot_messages = messages.pivot_table(index=['user_id', 'month'], values='id', aggfunc=['count'])\n",
    "pivot_messages.reset_index(inplace=True)\n",
    "pivot_messages.columns = pivot_messages.columns.droplevel(1)\n",
    "pivot_messages.rename(columns={'count': 'total_messages'}, inplace=True)\n",
    "pivot_messages"
   ]
  },
  {
   "cell_type": "markdown",
   "metadata": {},
   "source": [
    "Теперь объединим по user id и по month все таблицы pivot.\n",
    "\n",
    "Now let's combine by user id and by month all the pivot tables."
   ]
  },
  {
   "cell_type": "code",
   "execution_count": 18,
   "metadata": {
    "scrolled": false
   },
   "outputs": [
    {
     "name": "stdout",
     "output_type": "stream",
     "text": [
      "<class 'pandas.core.frame.DataFrame'>\n",
      "Int64Index: 3203 entries, 0 to 3202\n",
      "Data columns (total 14 columns):\n",
      "user_id           3203 non-null int64\n",
      "age               3203 non-null int64\n",
      "churn_date        186 non-null datetime64[ns]\n",
      "city              3203 non-null object\n",
      "first_name        3203 non-null object\n",
      "last_name         3203 non-null object\n",
      "reg_date          3203 non-null datetime64[ns]\n",
      "tariff            3203 non-null object\n",
      "month             3203 non-null int64\n",
      "total_internet    3203 non-null float64\n",
      "total_duration    3163 non-null float64\n",
      "total_calls       3163 non-null float64\n",
      "mean_duration     3157 non-null float64\n",
      "total_messages    2706 non-null float64\n",
      "dtypes: datetime64[ns](2), float64(5), int64(3), object(4)\n",
      "memory usage: 375.4+ KB\n"
     ]
    }
   ],
   "source": [
    "df = users.merge(pivot_internet, on='user_id')\n",
    "df = df.merge(pivot_calls, on=['user_id', 'month'], how='left')\n",
    "df = df.merge(pivot_messages, on=['user_id', 'month'], how='left')\n",
    "df.info()"
   ]
  },
  {
   "cell_type": "markdown",
   "metadata": {
    "scrolled": true
   },
   "source": [
    "Видим, что у нас получились пустые значения. Это связано с тем, что количество строк таблиц pivot отличается. Это нам никак не мешает - оставим как есть.\n",
    "Так же удалим из таблицы столбы first_name и last_name (у нас есть user_id, так что эта информация будет лишней). \n",
    "\n",
    "We see that we got empty values. This is because the number of rows of the pivot tables is different. This does not bother us in any way - we will leave it as it is.\n",
    "We will also remove the first_name and last_name columns from the table (we have a user_id, so this information will be superfluous)."
   ]
  },
  {
   "cell_type": "code",
   "execution_count": 20,
   "metadata": {},
   "outputs": [],
   "source": [
    "# Заполним пропуски нулям.\n",
    "df['total_duration'].fillna(0, inplace=True)\n",
    "df['total_calls'].fillna(0, inplace=True)\n",
    "df['mean_duration'].fillna(0, inplace=True)\n",
    "df['total_messages'].fillna(0, inplace=True)\n",
    "# Исправим форматы.\n",
    "df['total_duration'] = df['total_duration'].astype('int64')  \n",
    "df['total_calls'] = df['total_calls'].astype('int64')  \n",
    "df['total_internet'] = df['total_internet'].astype('int64')  \n",
    "df['total_messages'] = df['total_messages'].astype('int64')  "
   ]
  },
  {
   "cell_type": "code",
   "execution_count": 21,
   "metadata": {},
   "outputs": [
    {
     "data": {
      "text/html": [
       "<div>\n",
       "<style scoped>\n",
       "    .dataframe tbody tr th:only-of-type {\n",
       "        vertical-align: middle;\n",
       "    }\n",
       "\n",
       "    .dataframe tbody tr th {\n",
       "        vertical-align: top;\n",
       "    }\n",
       "\n",
       "    .dataframe thead th {\n",
       "        text-align: right;\n",
       "    }\n",
       "</style>\n",
       "<table border=\"1\" class=\"dataframe\">\n",
       "  <thead>\n",
       "    <tr style=\"text-align: right;\">\n",
       "      <th></th>\n",
       "      <th>user_id</th>\n",
       "      <th>age</th>\n",
       "      <th>churn_date</th>\n",
       "      <th>city</th>\n",
       "      <th>reg_date</th>\n",
       "      <th>tariff</th>\n",
       "      <th>month</th>\n",
       "      <th>total_internet</th>\n",
       "      <th>total_duration</th>\n",
       "      <th>total_calls</th>\n",
       "      <th>mean_duration</th>\n",
       "      <th>total_messages</th>\n",
       "    </tr>\n",
       "  </thead>\n",
       "  <tbody>\n",
       "    <tr>\n",
       "      <td>0</td>\n",
       "      <td>1000</td>\n",
       "      <td>52</td>\n",
       "      <td>NaT</td>\n",
       "      <td>Краснодар</td>\n",
       "      <td>2018-05-25</td>\n",
       "      <td>ultra</td>\n",
       "      <td>5</td>\n",
       "      <td>2256</td>\n",
       "      <td>159</td>\n",
       "      <td>17</td>\n",
       "      <td>9.352941</td>\n",
       "      <td>22</td>\n",
       "    </tr>\n",
       "    <tr>\n",
       "      <td>1</td>\n",
       "      <td>1000</td>\n",
       "      <td>52</td>\n",
       "      <td>NaT</td>\n",
       "      <td>Краснодар</td>\n",
       "      <td>2018-05-25</td>\n",
       "      <td>ultra</td>\n",
       "      <td>6</td>\n",
       "      <td>23257</td>\n",
       "      <td>172</td>\n",
       "      <td>28</td>\n",
       "      <td>6.142857</td>\n",
       "      <td>60</td>\n",
       "    </tr>\n",
       "    <tr>\n",
       "      <td>2</td>\n",
       "      <td>1000</td>\n",
       "      <td>52</td>\n",
       "      <td>NaT</td>\n",
       "      <td>Краснодар</td>\n",
       "      <td>2018-05-25</td>\n",
       "      <td>ultra</td>\n",
       "      <td>7</td>\n",
       "      <td>14016</td>\n",
       "      <td>340</td>\n",
       "      <td>41</td>\n",
       "      <td>8.292683</td>\n",
       "      <td>75</td>\n",
       "    </tr>\n",
       "    <tr>\n",
       "      <td>3</td>\n",
       "      <td>1000</td>\n",
       "      <td>52</td>\n",
       "      <td>NaT</td>\n",
       "      <td>Краснодар</td>\n",
       "      <td>2018-05-25</td>\n",
       "      <td>ultra</td>\n",
       "      <td>8</td>\n",
       "      <td>14070</td>\n",
       "      <td>408</td>\n",
       "      <td>42</td>\n",
       "      <td>9.714286</td>\n",
       "      <td>81</td>\n",
       "    </tr>\n",
       "    <tr>\n",
       "      <td>4</td>\n",
       "      <td>1000</td>\n",
       "      <td>52</td>\n",
       "      <td>NaT</td>\n",
       "      <td>Краснодар</td>\n",
       "      <td>2018-05-25</td>\n",
       "      <td>ultra</td>\n",
       "      <td>9</td>\n",
       "      <td>14581</td>\n",
       "      <td>466</td>\n",
       "      <td>46</td>\n",
       "      <td>10.130435</td>\n",
       "      <td>57</td>\n",
       "    </tr>\n",
       "  </tbody>\n",
       "</table>\n",
       "</div>"
      ],
      "text/plain": [
       "   user_id  age churn_date       city   reg_date tariff  month  \\\n",
       "0     1000   52        NaT  Краснодар 2018-05-25  ultra      5   \n",
       "1     1000   52        NaT  Краснодар 2018-05-25  ultra      6   \n",
       "2     1000   52        NaT  Краснодар 2018-05-25  ultra      7   \n",
       "3     1000   52        NaT  Краснодар 2018-05-25  ultra      8   \n",
       "4     1000   52        NaT  Краснодар 2018-05-25  ultra      9   \n",
       "\n",
       "   total_internet  total_duration  total_calls  mean_duration  total_messages  \n",
       "0            2256             159           17       9.352941              22  \n",
       "1           23257             172           28       6.142857              60  \n",
       "2           14016             340           41       8.292683              75  \n",
       "3           14070             408           42       9.714286              81  \n",
       "4           14581             466           46      10.130435              57  "
      ]
     },
     "execution_count": 21,
     "metadata": {},
     "output_type": "execute_result"
    }
   ],
   "source": [
    "df.drop(['first_name', 'last_name'], axis=1, inplace=True)\n",
    "df.head()"
   ]
  },
  {
   "cell_type": "markdown",
   "metadata": {},
   "source": [
    "### <div class=\"alert alert-info\">Вывод:</div>\n",
    "- Мы полчили объединенный файл, которые содержит информацию о звонках, сообщениях и трафике абонентов по каждому месяцу.\n",
    "- Обработали пропуски и приобразовали переменные к нужным форматам."
   ]
  },
  {
   "cell_type": "markdown",
   "metadata": {},
   "source": [
    "### <div class=\"alert alert-info\">Output:</div>\n",
    "- We have received a combined file that contains information about calls, messages and traffic of subscribers for each month.\n",
    "- Processed gaps and converted variables to the required formats."
   ]
  },
  {
   "cell_type": "markdown",
   "metadata": {},
   "source": [
    "<a id='Step 5'></a> ## 5. Расчет дополнительных показателей.\n",
    "\n",
    "<a id='Step 5'></a> ## 5. Calculation of additional indicators."
   ]
  },
  {
   "cell_type": "markdown",
   "metadata": {},
   "source": [
    "Поделим таблицу на две выборки по тарифам.\n",
    "\n",
    "Let's divide the table into two samples by tariffs."
   ]
  },
  {
   "cell_type": "code",
   "execution_count": 22,
   "metadata": {},
   "outputs": [],
   "source": [
    "df_smart = df.query('tariff == \"smart\"')\n",
    "df_ultra = df.query('tariff == \"ultra\"')"
   ]
  },
  {
   "cell_type": "markdown",
   "metadata": {},
   "source": [
    "Рассчитаем для каждого клинета переплату за минуты, трафик и смс, а также всё потраченную за месяц сумму.\n",
    "\n",
    "We calculate for each client the overpayment for minutes, traffic and SMS, as well as the entire amount spent per month."
   ]
  },
  {
   "cell_type": "code",
   "execution_count": 23,
   "metadata": {
    "scrolled": false
   },
   "outputs": [
    {
     "data": {
      "text/html": [
       "<div>\n",
       "<style scoped>\n",
       "    .dataframe tbody tr th:only-of-type {\n",
       "        vertical-align: middle;\n",
       "    }\n",
       "\n",
       "    .dataframe tbody tr th {\n",
       "        vertical-align: top;\n",
       "    }\n",
       "\n",
       "    .dataframe thead th {\n",
       "        text-align: right;\n",
       "    }\n",
       "</style>\n",
       "<table border=\"1\" class=\"dataframe\">\n",
       "  <thead>\n",
       "    <tr style=\"text-align: right;\">\n",
       "      <th></th>\n",
       "      <th>user_id</th>\n",
       "      <th>age</th>\n",
       "      <th>churn_date</th>\n",
       "      <th>city</th>\n",
       "      <th>reg_date</th>\n",
       "      <th>tariff</th>\n",
       "      <th>month</th>\n",
       "      <th>total_internet</th>\n",
       "      <th>total_duration</th>\n",
       "      <th>total_calls</th>\n",
       "      <th>mean_duration</th>\n",
       "      <th>total_messages</th>\n",
       "      <th>over_pay_calls</th>\n",
       "      <th>over_pay_internet</th>\n",
       "      <th>over_pay_messages</th>\n",
       "      <th>total_fee</th>\n",
       "    </tr>\n",
       "  </thead>\n",
       "  <tbody>\n",
       "    <tr>\n",
       "      <td>8</td>\n",
       "      <td>1001</td>\n",
       "      <td>41</td>\n",
       "      <td>NaT</td>\n",
       "      <td>Москва</td>\n",
       "      <td>2018-11-01</td>\n",
       "      <td>smart</td>\n",
       "      <td>11</td>\n",
       "      <td>18452</td>\n",
       "      <td>430</td>\n",
       "      <td>45</td>\n",
       "      <td>9.555556</td>\n",
       "      <td>0</td>\n",
       "      <td>0</td>\n",
       "      <td>600</td>\n",
       "      <td>0</td>\n",
       "      <td>1150</td>\n",
       "    </tr>\n",
       "    <tr>\n",
       "      <td>9</td>\n",
       "      <td>1001</td>\n",
       "      <td>41</td>\n",
       "      <td>NaT</td>\n",
       "      <td>Москва</td>\n",
       "      <td>2018-11-01</td>\n",
       "      <td>smart</td>\n",
       "      <td>12</td>\n",
       "      <td>14053</td>\n",
       "      <td>414</td>\n",
       "      <td>47</td>\n",
       "      <td>8.808511</td>\n",
       "      <td>0</td>\n",
       "      <td>0</td>\n",
       "      <td>0</td>\n",
       "      <td>0</td>\n",
       "      <td>550</td>\n",
       "    </tr>\n",
       "    <tr>\n",
       "      <td>10</td>\n",
       "      <td>1002</td>\n",
       "      <td>59</td>\n",
       "      <td>NaT</td>\n",
       "      <td>Стерлитамак</td>\n",
       "      <td>2018-06-17</td>\n",
       "      <td>smart</td>\n",
       "      <td>6</td>\n",
       "      <td>10871</td>\n",
       "      <td>117</td>\n",
       "      <td>14</td>\n",
       "      <td>8.357143</td>\n",
       "      <td>4</td>\n",
       "      <td>0</td>\n",
       "      <td>0</td>\n",
       "      <td>0</td>\n",
       "      <td>550</td>\n",
       "    </tr>\n",
       "    <tr>\n",
       "      <td>11</td>\n",
       "      <td>1002</td>\n",
       "      <td>59</td>\n",
       "      <td>NaT</td>\n",
       "      <td>Стерлитамак</td>\n",
       "      <td>2018-06-17</td>\n",
       "      <td>smart</td>\n",
       "      <td>7</td>\n",
       "      <td>17601</td>\n",
       "      <td>214</td>\n",
       "      <td>21</td>\n",
       "      <td>10.190476</td>\n",
       "      <td>11</td>\n",
       "      <td>0</td>\n",
       "      <td>400</td>\n",
       "      <td>0</td>\n",
       "      <td>950</td>\n",
       "    </tr>\n",
       "    <tr>\n",
       "      <td>12</td>\n",
       "      <td>1002</td>\n",
       "      <td>59</td>\n",
       "      <td>NaT</td>\n",
       "      <td>Стерлитамак</td>\n",
       "      <td>2018-06-17</td>\n",
       "      <td>smart</td>\n",
       "      <td>8</td>\n",
       "      <td>20347</td>\n",
       "      <td>289</td>\n",
       "      <td>37</td>\n",
       "      <td>7.810811</td>\n",
       "      <td>13</td>\n",
       "      <td>0</td>\n",
       "      <td>800</td>\n",
       "      <td>0</td>\n",
       "      <td>1350</td>\n",
       "    </tr>\n",
       "  </tbody>\n",
       "</table>\n",
       "</div>"
      ],
      "text/plain": [
       "    user_id  age churn_date         city   reg_date tariff  month  \\\n",
       "8      1001   41        NaT       Москва 2018-11-01  smart     11   \n",
       "9      1001   41        NaT       Москва 2018-11-01  smart     12   \n",
       "10     1002   59        NaT  Стерлитамак 2018-06-17  smart      6   \n",
       "11     1002   59        NaT  Стерлитамак 2018-06-17  smart      7   \n",
       "12     1002   59        NaT  Стерлитамак 2018-06-17  smart      8   \n",
       "\n",
       "    total_internet  total_duration  total_calls  mean_duration  \\\n",
       "8            18452             430           45       9.555556   \n",
       "9            14053             414           47       8.808511   \n",
       "10           10871             117           14       8.357143   \n",
       "11           17601             214           21      10.190476   \n",
       "12           20347             289           37       7.810811   \n",
       "\n",
       "    total_messages  over_pay_calls  over_pay_internet  over_pay_messages  \\\n",
       "8                0               0                600                  0   \n",
       "9                0               0                  0                  0   \n",
       "10               4               0                  0                  0   \n",
       "11              11               0                400                  0   \n",
       "12              13               0                800                  0   \n",
       "\n",
       "    total_fee  \n",
       "8        1150  \n",
       "9         550  \n",
       "10        550  \n",
       "11        950  \n",
       "12       1350  "
      ]
     },
     "execution_count": 23,
     "metadata": {},
     "output_type": "execute_result"
    }
   ],
   "source": [
    "df_smart['over_pay_calls'] = df_smart['total_duration'].apply(lambda x: (tariffs['minutes_included'][0] - x) \n",
    "                                                          * -tariffs['rub_per_minute'][0]\n",
    "                                                         if (tariffs['minutes_included'][0] - x) < 0 else 0)\n",
    "df_smart['over_pay_internet'] = df_smart['total_internet'].apply(lambda x: (math.ceil((tariffs['mb_per_month_included'][0] - x) \n",
    "                                                                                  / 1024)) * -tariffs['rub_per_gb'][0]\n",
    "                                                         if (tariffs['mb_per_month_included'][0] - x) < 0 else 0)\n",
    "df_smart['over_pay_messages'] = df_smart['total_messages'].apply(lambda x: (tariffs['messages_included'][0] - x) \n",
    "                                                             * -tariffs['rub_per_message'][0]\n",
    "                                                         if (tariffs['messages_included'][0] - x) < 0 else 0)\n",
    "df_smart['total_fee'] = (tariffs['rub_monthly_fee'][0] + df_smart['over_pay_calls'] + df_smart['over_pay_internet'] +\n",
    "                                                                                    df_smart['over_pay_messages'])\n",
    "df_smart.head()"
   ]
  },
  {
   "cell_type": "code",
   "execution_count": 24,
   "metadata": {
    "scrolled": true
   },
   "outputs": [
    {
     "data": {
      "text/html": [
       "<div>\n",
       "<style scoped>\n",
       "    .dataframe tbody tr th:only-of-type {\n",
       "        vertical-align: middle;\n",
       "    }\n",
       "\n",
       "    .dataframe tbody tr th {\n",
       "        vertical-align: top;\n",
       "    }\n",
       "\n",
       "    .dataframe thead th {\n",
       "        text-align: right;\n",
       "    }\n",
       "</style>\n",
       "<table border=\"1\" class=\"dataframe\">\n",
       "  <thead>\n",
       "    <tr style=\"text-align: right;\">\n",
       "      <th></th>\n",
       "      <th>user_id</th>\n",
       "      <th>age</th>\n",
       "      <th>churn_date</th>\n",
       "      <th>city</th>\n",
       "      <th>reg_date</th>\n",
       "      <th>tariff</th>\n",
       "      <th>month</th>\n",
       "      <th>total_internet</th>\n",
       "      <th>total_duration</th>\n",
       "      <th>total_calls</th>\n",
       "      <th>mean_duration</th>\n",
       "      <th>total_messages</th>\n",
       "      <th>over_pay_calls</th>\n",
       "      <th>over_pay_internet</th>\n",
       "      <th>over_pay_messages</th>\n",
       "      <th>total_fee</th>\n",
       "    </tr>\n",
       "  </thead>\n",
       "  <tbody>\n",
       "    <tr>\n",
       "      <td>0</td>\n",
       "      <td>1000</td>\n",
       "      <td>52</td>\n",
       "      <td>NaT</td>\n",
       "      <td>Краснодар</td>\n",
       "      <td>2018-05-25</td>\n",
       "      <td>ultra</td>\n",
       "      <td>5</td>\n",
       "      <td>2256</td>\n",
       "      <td>159</td>\n",
       "      <td>17</td>\n",
       "      <td>9.352941</td>\n",
       "      <td>22</td>\n",
       "      <td>0</td>\n",
       "      <td>0</td>\n",
       "      <td>0</td>\n",
       "      <td>1950</td>\n",
       "    </tr>\n",
       "    <tr>\n",
       "      <td>1</td>\n",
       "      <td>1000</td>\n",
       "      <td>52</td>\n",
       "      <td>NaT</td>\n",
       "      <td>Краснодар</td>\n",
       "      <td>2018-05-25</td>\n",
       "      <td>ultra</td>\n",
       "      <td>6</td>\n",
       "      <td>23257</td>\n",
       "      <td>172</td>\n",
       "      <td>28</td>\n",
       "      <td>6.142857</td>\n",
       "      <td>60</td>\n",
       "      <td>0</td>\n",
       "      <td>0</td>\n",
       "      <td>0</td>\n",
       "      <td>1950</td>\n",
       "    </tr>\n",
       "    <tr>\n",
       "      <td>2</td>\n",
       "      <td>1000</td>\n",
       "      <td>52</td>\n",
       "      <td>NaT</td>\n",
       "      <td>Краснодар</td>\n",
       "      <td>2018-05-25</td>\n",
       "      <td>ultra</td>\n",
       "      <td>7</td>\n",
       "      <td>14016</td>\n",
       "      <td>340</td>\n",
       "      <td>41</td>\n",
       "      <td>8.292683</td>\n",
       "      <td>75</td>\n",
       "      <td>0</td>\n",
       "      <td>0</td>\n",
       "      <td>0</td>\n",
       "      <td>1950</td>\n",
       "    </tr>\n",
       "    <tr>\n",
       "      <td>3</td>\n",
       "      <td>1000</td>\n",
       "      <td>52</td>\n",
       "      <td>NaT</td>\n",
       "      <td>Краснодар</td>\n",
       "      <td>2018-05-25</td>\n",
       "      <td>ultra</td>\n",
       "      <td>8</td>\n",
       "      <td>14070</td>\n",
       "      <td>408</td>\n",
       "      <td>42</td>\n",
       "      <td>9.714286</td>\n",
       "      <td>81</td>\n",
       "      <td>0</td>\n",
       "      <td>0</td>\n",
       "      <td>0</td>\n",
       "      <td>1950</td>\n",
       "    </tr>\n",
       "    <tr>\n",
       "      <td>4</td>\n",
       "      <td>1000</td>\n",
       "      <td>52</td>\n",
       "      <td>NaT</td>\n",
       "      <td>Краснодар</td>\n",
       "      <td>2018-05-25</td>\n",
       "      <td>ultra</td>\n",
       "      <td>9</td>\n",
       "      <td>14581</td>\n",
       "      <td>466</td>\n",
       "      <td>46</td>\n",
       "      <td>10.130435</td>\n",
       "      <td>57</td>\n",
       "      <td>0</td>\n",
       "      <td>0</td>\n",
       "      <td>0</td>\n",
       "      <td>1950</td>\n",
       "    </tr>\n",
       "  </tbody>\n",
       "</table>\n",
       "</div>"
      ],
      "text/plain": [
       "   user_id  age churn_date       city   reg_date tariff  month  \\\n",
       "0     1000   52        NaT  Краснодар 2018-05-25  ultra      5   \n",
       "1     1000   52        NaT  Краснодар 2018-05-25  ultra      6   \n",
       "2     1000   52        NaT  Краснодар 2018-05-25  ultra      7   \n",
       "3     1000   52        NaT  Краснодар 2018-05-25  ultra      8   \n",
       "4     1000   52        NaT  Краснодар 2018-05-25  ultra      9   \n",
       "\n",
       "   total_internet  total_duration  total_calls  mean_duration  total_messages  \\\n",
       "0            2256             159           17       9.352941              22   \n",
       "1           23257             172           28       6.142857              60   \n",
       "2           14016             340           41       8.292683              75   \n",
       "3           14070             408           42       9.714286              81   \n",
       "4           14581             466           46      10.130435              57   \n",
       "\n",
       "   over_pay_calls  over_pay_internet  over_pay_messages  total_fee  \n",
       "0               0                  0                  0       1950  \n",
       "1               0                  0                  0       1950  \n",
       "2               0                  0                  0       1950  \n",
       "3               0                  0                  0       1950  \n",
       "4               0                  0                  0       1950  "
      ]
     },
     "execution_count": 24,
     "metadata": {},
     "output_type": "execute_result"
    }
   ],
   "source": [
    "df_ultra['over_pay_calls'] = df_ultra['total_duration'].apply(lambda x: (tariffs['minutes_included'][1] - x) \n",
    "                                                          * -tariffs['rub_per_minute'][1]\n",
    "                                                         if (tariffs['minutes_included'][1] - x) < 0 else 0)\n",
    "df_ultra['over_pay_internet'] = df_ultra['total_internet'].apply(lambda x: (math.ceil((tariffs['mb_per_month_included'][1] - x) \n",
    "                                                                                  / 1024)) * -tariffs['rub_per_gb'][1]\n",
    "                                                         if (tariffs['mb_per_month_included'][1] - x) < 0 else 0)\n",
    "df_ultra['over_pay_messages'] = df_ultra['total_messages'].apply(lambda x: (tariffs['messages_included'][1] - x) \n",
    "                                                             * -tariffs['rub_per_message'][1]\n",
    "                                                         if (tariffs['messages_included'][1] - x) < 0 else 0)\n",
    "df_ultra['total_fee'] = (tariffs['rub_monthly_fee'][1] + df_ultra['over_pay_calls'] + df_ultra['over_pay_internet'] +\n",
    "                                                                                    df_ultra['over_pay_messages'])\n",
    "df_ultra.head()"
   ]
  },
  {
   "cell_type": "markdown",
   "metadata": {},
   "source": [
    "### <div class=\"alert alert-info\">Вывод:</div> \n",
    "- На этом шаге мы разделили выборку на две части по тарифам. \n",
    "- Рассчитали затраты абонентов на пользование тарифами, суммарно и раздельно (связь, трафик, сообщения)."
   ]
  },
  {
   "cell_type": "markdown",
   "metadata": {},
   "source": [
    "### <div class=\"alert alert-info\">Output:</div>\n",
    "- At this step, we divided the sample into two parts by tariffs.\n",
    "- Calculated the costs of subscribers for the use of tariffs, in total and separately (communication, traffic, messages)."
   ]
  },
  {
   "cell_type": "markdown",
   "metadata": {},
   "source": [
    "<a id='Step_6'></a>\n",
    "## <div class=\"alert alert-info\">6. Анализ поведения клиентов.</div>"
   ]
  },
  {
   "cell_type": "markdown",
   "metadata": {},
   "source": [
    "<a id='Step_6'></a>\n",
    "## <div class=\"alert alert-info\">6. Analysis of customer behavior.</div>"
   ]
  },
  {
   "cell_type": "markdown",
   "metadata": {},
   "source": [
    "<a id='Step_7'></a>\n",
    "#### Пункт A.\n",
    "\n",
    "#### Point A."
   ]
  },
  {
   "cell_type": "markdown",
   "metadata": {},
   "source": [
    "Изучим продолжительность разговора.\n",
    "\n",
    "Let's study the duration of the conversation."
   ]
  },
  {
   "cell_type": "code",
   "execution_count": 25,
   "metadata": {},
   "outputs": [
    {
     "name": "stdout",
     "output_type": "stream",
     "text": [
      "Средняя продолжительность разговора на тарифе smart: 418.1000897666068\n",
      "Медианная продолжительность разговора на тарифе smart: 422.0\n",
      "Средняя продолжительность разговора на тарифе ultra: 529.7497435897436\n",
      "Медианная продолжительность разговора на тарифе ultra: 520.0\n",
      "Стандартная ошибка продолжительности разговора на тарифе smart: 190.19664472359673\n",
      "Выборочная дисперсия продолжительности разговора на тарифе smart: 36174.76366411408\n",
      "Стандартная ошибка продолжительности разговора на тарифе ultra: 317.62213117306516\n",
      "Выборочная дисперсия продолжительности разговора на тарифе ultra: 100883.81821091981\n"
     ]
    }
   ],
   "source": [
    "print('Средняя продолжительность разговора на тарифе smart:', df_smart['total_duration'].mean())\n",
    "print('Медианная продолжительность разговора на тарифе smart:', df_smart['total_duration'].median())\n",
    "print('Средняя продолжительность разговора на тарифе ultra:', df_ultra['total_duration'].mean())\n",
    "print('Медианная продолжительность разговора на тарифе ultra:', df_ultra['total_duration'].median())\n",
    "print('Стандартная ошибка продолжительности разговора на тарифе smart:', np.std(df_smart['total_duration'], ddof=1))\n",
    "print('Выборочная дисперсия продолжительности разговора на тарифе smart:', np.var(df_smart['total_duration'], ddof=1))\n",
    "print('Стандартная ошибка продолжительности разговора на тарифе ultra:', np.std(df_ultra['total_duration'], ddof=1))\n",
    "print('Выборочная дисперсия продолжительности разговора на тарифе ultra:', np.var(df_ultra['total_duration'], ddof=1))\n"
   ]
  },
  {
   "cell_type": "markdown",
   "metadata": {},
   "source": [
    "Average call duration on the smart tariff: 418.1000897666068\n",
    "\n",
    "Median call duration on the smart tariff: 422.0\n",
    "\n",
    "Average call duration on ultra tariff: 529.7497435897436\n",
    "\n",
    "Median call duration on the ultra tariff: 520.0\n",
    "\n",
    "Standard error of call duration on smart tariff: 190.19664472359673\n",
    "\n",
    "Selective variance of call duration at the smart tariff: 36174.76366411408\n",
    "\n",
    "Standard error of call duration on ultra tariff: 317.62213117306516\n",
    "\n",
    "Sample variance of call duration at ultra tariff: 100883.81821091981"
   ]
  },
  {
   "cell_type": "code",
   "execution_count": 26,
   "metadata": {
    "scrolled": true
   },
   "outputs": [
    {
     "data": {
      "text/plain": [
       "<matplotlib.axes._subplots.AxesSubplot at 0x7f4f8a98e510>"
      ]
     },
     "execution_count": 26,
     "metadata": {},
     "output_type": "execute_result"
    },
    {
     "data": {
      "image/png": "[encoded data removed]",
      "text/plain": [
       "<Figure size 540x324 with 1 Axes>"
      ]
     },
     "metadata": {
      "needs_background": "light"
     },
     "output_type": "display_data"
    }
   ],
   "source": [
    "df_smart['total_duration'].plot(kind='hist', bins=30, alpha = 0.5, legend=True, \n",
    "                                title='Duration(minutes)', figsize=(7.5, 4.5), label='Smart')\n",
    "df_ultra['total_duration'].plot(kind='hist', bins=30, alpha = 0.7, legend=True, label='Ultra')"
   ]
  },
  {
   "cell_type": "code",
   "execution_count": 27,
   "metadata": {
    "scrolled": false
   },
   "outputs": [
    {
     "data": {
      "text/plain": [
       "Text(0.5, 0.98, 'Duration (minutes)')"
      ]
     },
     "execution_count": 27,
     "metadata": {},
     "output_type": "execute_result"
    },
    {
     "data": {
      "image/png": "[encoded data removed]",
      "text/plain": [
       "<Figure size 540x324 with 1 Axes>"
      ]
     },
     "metadata": {
      "needs_background": "light"
     },
     "output_type": "display_data"
    }
   ],
   "source": [
    "plt.pyplot.boxplot((df_smart['total_duration'],df_ultra['total_duration']), labels=('duration_smart', 'duration_ultra'), \n",
    "                   vert=False, patch_artist=True)\n",
    "fig = plt.pyplot.gcf()\n",
    "fig.set_size_inches(7.5, 4.5)\n",
    "fig.suptitle('Duration (minutes)', fontsize=20)"
   ]
  },
  {
   "cell_type": "markdown",
   "metadata": {},
   "source": [
    "Видим, что есть выюросы и знаем, что есть абоненты, которые не пользовались связью хотя бы один месяц. Посомтрим на время разговора без нулевых значений и без выбросов. Выбросами будем считать: 940 минут для Smart и 1450 минут для Ultra.\n",
    "\n",
    "We see that there are vyyuros and we know that there are subscribers who have not used communication for at least one month. Let's look at the time of the conversation without zero values and without outliers. We will consider emissions: 940 minutes for Smart and 1450 minutes for Ultra."
   ]
  },
  {
   "cell_type": "code",
   "execution_count": 28,
   "metadata": {
    "scrolled": false
   },
   "outputs": [
    {
     "name": "stdout",
     "output_type": "stream",
     "text": [
      "Средняя продолжительность разговора на тарифе smart: 416.72262443438916\n",
      "Медианная продолжительность разговора на тарифе smart: 421.5\n",
      "Средняя продолжительность разговора на тарифе ultra: 548.9026737967914\n",
      "Медианная продолжительность разговора на тарифе ultra: 533.0\n",
      "Стандартная ошибка продолжительности разговора на тарифе smart: 184.12367043849605\n",
      "Выборочная дисперсия продолжительности разговора на тарифе smart: 33901.526015743904\n",
      "Стандартная ошибка продолжительности разговора на тарифе ultra: 301.28547601061297\n",
      "Выборочная дисперсия продолжительности разговора на тарифе ultra: 90772.93805494164\n"
     ]
    }
   ],
   "source": [
    "print('Средняя продолжительность разговора на тарифе smart:', (df_smart.query('total_duration > 0 and total_duration < 940')\n",
    "                                                               ['total_duration'].mean()))\n",
    "print('Медианная продолжительность разговора на тарифе smart:', (df_smart.query('total_duration > 0 and total_duration < 940')\n",
    "                                                                 ['total_duration'].median()))\n",
    "print('Средняя продолжительность разговора на тарифе ultra:', (df_ultra.query('total_duration > 0 and total_duration < 1450')\n",
    "                                                                 ['total_duration'].mean()))\n",
    "print('Медианная продолжительность разговора на тарифе ultra:', (df_ultra.query('total_duration > 0 and total_duration < 1450')\n",
    "                                                                 ['total_duration'].median()))\n",
    "print('Стандартная ошибка продолжительности разговора на тарифе smart:', (np.std\n",
    "(df_smart.query('total_duration > 0 and total_duration < 940')['total_duration'], ddof=1)))\n",
    "print('Выборочная дисперсия продолжительности разговора на тарифе smart:', (np.var\n",
    "(df_smart.query('total_duration > 0 and total_duration < 940')['total_duration'], ddof=1)))\n",
    "print('Стандартная ошибка продолжительности разговора на тарифе ultra:', (np.std\n",
    "(df_ultra.query('total_duration > 0 and total_duration < 1450')['total_duration'], ddof=1)))\n",
    "print('Выборочная дисперсия продолжительности разговора на тарифе ultra:', (np.var\n",
    "(df_ultra.query('total_duration > 0 and total_duration < 1450')['total_duration'], ddof=1)))"
   ]
  },
  {
   "cell_type": "markdown",
   "metadata": {},
   "source": [
    "Average call duration on the smart tariff: 416.72262443438916\n",
    "\n",
    "Median call duration on the smart tariff: 421.5\n",
    "\n",
    "Average call duration on ultra tariff: 548.9026737967914\n",
    "\n",
    "Median call duration on the ultra tariff: 533.0\n",
    "\n",
    "Standard error of call duration on smart tariff: 184.12367043849605\n",
    "\n",
    "Selective variance of call duration at the smart tariff: 33901.526015743904\n",
    "\n",
    "Call duration standard error on ultra tariff: 301.28547601061297\n",
    "\n",
    "Sample variance of call duration at ultra tariff: 90772.93805494164"
   ]
  },
  {
   "cell_type": "code",
   "execution_count": 29,
   "metadata": {},
   "outputs": [
    {
     "name": "stdout",
     "output_type": "stream",
     "text": [
      " 82.99%,пользователей Ultra разговаривали менее пакета Smart\n"
     ]
    }
   ],
   "source": [
    "print('{: .2%},пользователей Ultra разговаривали менее пакета Smart'.format(len(df_ultra[df_ultra['total_duration'] \n",
    "                                  < tariffs['minutes_included'][0]]['user_id'].unique()) / len(df_ultra['user_id'].unique())))"
   ]
  },
  {
   "cell_type": "markdown",
   "metadata": {},
   "source": [
    "82.99% of Ultra users talked less than Smart"
   ]
  },
  {
   "cell_type": "code",
   "execution_count": 30,
   "metadata": {},
   "outputs": [
    {
     "name": "stdout",
     "output_type": "stream",
     "text": [
      " 60.86% пользователей Smart превысили объем пакета минут\n"
     ]
    }
   ],
   "source": [
    "print('{: .2%} пользователей Smart превысили объем пакета минут'.format(len(df_smart[df_smart['over_pay_calls'] > 0]\n",
    "                                                                  ['user_id'].unique()) / len(df_smart['user_id'].unique())))"
   ]
  },
  {
   "cell_type": "markdown",
   "metadata": {},
   "source": [
    "60.86% of Smart users have exceeded the package minutes"
   ]
  },
  {
   "cell_type": "markdown",
   "metadata": {},
   "source": [
    "- В среднем абоненты Smart разговривают 417 минут ,а абоненты Ultra - 549 минут.\n",
    "- Получили большие значения стандартных ошибок в Ultra. \n",
    "- Месячные суммы продолжительности разговоров на тарифе Ultra не образуют нормального распределения. \n",
    "- Это говорит о неоднордном поведении абонентов на этом тарифе. \n",
    "- Гистограмма продолжительности разговоров Smart имеет отрицательную скошенность, это подтверждает и боксплот.\n",
    "- Необходимо отметить, что тариф Ultra включает в себя 3000 минут разговора в месяц, но никто из абонентов (в этой выборке) столько не разговаоривал. Более того, значительная часть абонентов обошлась бы количеством минут Smart.\n",
    "- 61% пользователей Smart превысили объем пакета минут."
   ]
  },
  {
   "cell_type": "markdown",
   "metadata": {},
   "source": [
    "- On average, Smart subscribers talk 417 minutes, and Ultra subscribers - 549 minutes.\n",
    "- Got large standard errors in Ultra.\n",
    "- Monthly amounts of call duration on the Ultra tariff do not form a normal distribution.\n",
    "- This indicates the non-uniform behavior of subscribers at this tariff.\n",
    "- The Smart call duration histogram has a negative skew, which is confirmed by the boxplot.\n",
    "- It should be noted that the Ultra tariff includes 3,000 minutes of conversation per month, but none of the subscribers (in this sample) talked so much. Moreover, a significant part of subscribers would cost the number of Smart minutes.\n",
    "- 61% of Smart users have exceeded the package of minutes."
   ]
  },
  {
   "cell_type": "markdown",
   "metadata": {},
   "source": [
    "<a id='Step_8'></a>\n",
    "#### Пункт B.\n",
    "\n",
    "#### Point B."
   ]
  },
  {
   "cell_type": "markdown",
   "metadata": {},
   "source": [
    "Изучим объем потребляемого трафика за месяц одним абонентом.\n",
    "\n",
    "Let's study the amount of traffic consumed per month by one subscriber."
   ]
  },
  {
   "cell_type": "code",
   "execution_count": 31,
   "metadata": {},
   "outputs": [
    {
     "name": "stdout",
     "output_type": "stream",
     "text": [
      "Средний объем потребляемого трафика на тарифе smart: 16236.47262118492\n",
      "Медианный объем потребляемого трафика на тарифе smart: 16532.0\n",
      "Средний объем потребляемого трафика на тарифе ultra: 19686.76717948718\n",
      "Медианный объем потребляемого трафика на тарифе ultra: 19411.0\n",
      "Стандартная ошибка объема потребляемого трафика на тарифе smart: 5868.824471845583\n",
      "Выборочная дисперсия объема потребляемого трафика на тарифе smart: 34443100.68133359\n",
      "Стандартная ошибка объема потребляемого трафика на тарифе ultra: 9952.057054094726\n",
      "Выборочная дисперсия объема потребляемого трафика на тарифе ultra: 99043439.60795662\n"
     ]
    }
   ],
   "source": [
    "print('Средний объем потребляемого трафика на тарифе smart:', df_smart['total_internet'].mean())\n",
    "print('Медианный объем потребляемого трафика на тарифе smart:', df_smart['total_internet'].median())\n",
    "print('Средний объем потребляемого трафика на тарифе ultra:', df_ultra['total_internet'].mean())\n",
    "print('Медианный объем потребляемого трафика на тарифе ultra:', df_ultra['total_internet'].median())\n",
    "print('Стандартная ошибка объема потребляемого трафика на тарифе smart:', np.std(df_smart['total_internet'], ddof=1))\n",
    "print('Выборочная дисперсия объема потребляемого трафика на тарифе smart:', np.var(df_smart['total_internet'], ddof=1))\n",
    "print('Стандартная ошибка объема потребляемого трафика на тарифе ultra:', np.std(df_ultra['total_internet'], ddof=1))\n",
    "print('Выборочная дисперсия объема потребляемого трафика на тарифе ultra:', np.var(df_ultra['total_internet'], ddof=1))"
   ]
  },
  {
   "cell_type": "markdown",
   "metadata": {},
   "source": [
    "The average amount of traffic consumed on the smart tariff: 16236.47262118492\n",
    "\n",
    "Median volume of consumed traffic on the smart tariff: 16532.0\n",
    "\n",
    "The average amount of traffic consumed on the ultra tariff: 19686.76717948718\n",
    "\n",
    "Median volume of consumed traffic on the ultra tariff: 19411.0\n",
    "\n",
    "Standard error of the amount of traffic consumed on the smart tariff: 5868.824471845583\n",
    "\n",
    "Selective variance of the volume of consumed traffic on the smart tariff: 34443100.68133359\n",
    "\n",
    "Standard error of the amount of traffic consumed on the ultra tariff: 9952.057054094726\n",
    "\n",
    "Sample variance of the amount of consumed traffic on the ultra tariff: 99043439.60795662"
   ]
  },
  {
   "cell_type": "code",
   "execution_count": 32,
   "metadata": {},
   "outputs": [
    {
     "data": {
      "text/plain": [
       "<matplotlib.axes._subplots.AxesSubplot at 0x7f4f8a7fbc50>"
      ]
     },
     "execution_count": 32,
     "metadata": {},
     "output_type": "execute_result"
    },
    {
     "data": {
      "image/png": "[encoded data removed]",
      "text/plain": [
       "<Figure size 540x324 with 1 Axes>"
      ]
     },
     "metadata": {
      "needs_background": "light"
     },
     "output_type": "display_data"
    }
   ],
   "source": [
    "df_smart['total_internet'].plot(kind='hist', bins=30, alpha = 0.5, legend=True, \n",
    "                                title='Internet(mb)', figsize=(7.5, 4.5), label='Smart')\n",
    "df_ultra['total_internet'].plot(kind='hist', bins=30, alpha = 0.7, legend=True, label='Ultra')"
   ]
  },
  {
   "cell_type": "code",
   "execution_count": 33,
   "metadata": {},
   "outputs": [
    {
     "data": {
      "text/plain": [
       "Text(0.5, 0.98, 'Internet (mb)')"
      ]
     },
     "execution_count": 33,
     "metadata": {},
     "output_type": "execute_result"
    },
    {
     "data": {
      "image/png": "[encoded data removed]",
      "text/plain": [
       "<Figure size 540x324 with 1 Axes>"
      ]
     },
     "metadata": {
      "needs_background": "light"
     },
     "output_type": "display_data"
    }
   ],
   "source": [
    "plt.pyplot.boxplot((df_smart['total_internet'],df_ultra['total_internet']), labels=('internet_smart', 'internet_ultra'), \n",
    "                   vert=False, patch_artist=True)\n",
    "fig = plt.pyplot.gcf()\n",
    "fig.set_size_inches(7.5, 4.5)\n",
    "fig.suptitle('Internet (mb)', fontsize=20)"
   ]
  },
  {
   "cell_type": "markdown",
   "metadata": {},
   "source": [
    "Будем считать в Smart выбросами значений трафика менее 1600 мб и более 31200 мб; для Ultra значения более 49800 и равные 0.\n",
    "\n",
    "We will consider in Smart outliers traffic values less than 1600 mb and more than 31200 mb; for Ultra, values are greater than 49800 and equal to 0."
   ]
  },
  {
   "cell_type": "code",
   "execution_count": 34,
   "metadata": {
    "scrolled": true
   },
   "outputs": [
    {
     "name": "stdout",
     "output_type": "stream",
     "text": [
      "Средний объем потребляемого трафика на тарифе smart: 16276.736313868612\n",
      "Медианный объем потребляемого трафика на тарифе smart: 16561.5\n",
      "Средний объем потребляемого трафика на тарифе ultra: 19706.979466119097\n",
      "Медианный объем потребляемого трафика на тарифе ultra: 19427.5\n",
      "Стандартная ошибка объема потребляемого трафика на тарифе smart: 5519.381237999702\n",
      "Выборочная дисперсия объема потребляемого трафика на тарифе smart: 30463569.25038312\n",
      "Стандартная ошибка объема потребляемого трафика на тарифе ultra: 9937.127297804644\n",
      "Выборочная дисперсия объема потребляемого трафика на тарифе ultra: 98746498.93277423\n"
     ]
    }
   ],
   "source": [
    "print('Средний объем потребляемого трафика на тарифе smart:', (df_smart.query\n",
    "('total_internet < 31200 and total_internet > 1600')['total_internet'].mean()))\n",
    "print('Медианный объем потребляемого трафика на тарифе smart:', (df_smart.query\n",
    "('total_internet < 31200 and total_internet > 1600')['total_internet'].median()))\n",
    "print('Средний объем потребляемого трафика на тарифе ultra:', (df_ultra.query\n",
    "('total_internet < 49800 and total_internet > 0')['total_internet'].mean()))\n",
    "print('Медианный объем потребляемого трафика на тарифе ultra:', (df_ultra.query\n",
    "('total_internet < 49800 and total_internet > 0')['total_internet'].median()))\n",
    "print('Стандартная ошибка объема потребляемого трафика на тарифе smart:', (np.std(df_smart.query\n",
    "('total_internet < 31200 and total_internet > 1600')['total_internet'], ddof=1)))\n",
    "print('Выборочная дисперсия объема потребляемого трафика на тарифе smart:', (np.var(df_smart.query\n",
    "('total_internet < 31200 and total_internet > 1600')['total_internet'], ddof=1)))\n",
    "print('Стандартная ошибка объема потребляемого трафика на тарифе ultra:', (np.std(df_ultra.query\n",
    "('total_internet < 49800 and total_internet > 0')['total_internet'], ddof=1)))\n",
    "print('Выборочная дисперсия объема потребляемого трафика на тарифе ultra:', (np.var(df_ultra.query\n",
    "('total_internet < 49800 and total_internet > 0')['total_internet'], ddof=1)))"
   ]
  },
  {
   "cell_type": "markdown",
   "metadata": {},
   "source": [
    "The average amount of traffic consumed on the smart tariff: 16276.736313868612\n",
    "\n",
    "Median volume of consumed traffic on the smart tariff: 16561.5\n",
    "\n",
    "The average amount of traffic consumed on the ultra tariff: 19706.979466119097\n",
    "\n",
    "Median volume of consumed traffic on the ultra tariff: 19427.5\n",
    "\n",
    "Standard error of the volume of consumed traffic on the smart tariff: 5519.381237999702\n",
    "\n",
    "Selective variance of the amount of consumed traffic on the smart tariff: 30463569.25038312\n",
    "\n",
    "Standard error of the amount of traffic consumed on the ultra tariff: 9937.127297804644\n",
    "\n",
    "Sample variance of the amount of consumed traffic on the ultra tariff: 98746498.93277423"
   ]
  },
  {
   "cell_type": "code",
   "execution_count": 35,
   "metadata": {},
   "outputs": [
    {
     "name": "stdout",
     "output_type": "stream",
     "text": [
      " 84.00% пользователей Smart превысили объем пакета трафика\n"
     ]
    }
   ],
   "source": [
    "print('{: .2%} пользователей Smart превысили объем пакета трафика'.format(len(df_smart[df_smart['over_pay_internet'] > 0]\n",
    "                                                             ['user_id'].unique()) / len(df_smart['user_id'].unique())))"
   ]
  },
  {
   "cell_type": "markdown",
   "metadata": {},
   "source": [
    "84.00% of Smart users have exceeded the volume of the traffic package"
   ]
  },
  {
   "cell_type": "code",
   "execution_count": 36,
   "metadata": {},
   "outputs": [
    {
     "name": "stdout",
     "output_type": "stream",
     "text": [
      " 25.85% пользователей Ultra превысили объем пакета трафика\n"
     ]
    }
   ],
   "source": [
    "print('{: .2%} пользователей Ultra превысили объем пакета трафика'.format(len(df_ultra[df_ultra['over_pay_internet'] > 0]\n",
    "                                                                              ['user_id'].unique()) / len(df_ultra['user_id'].unique())))"
   ]
  },
  {
   "cell_type": "markdown",
   "metadata": {},
   "source": [
    "25.85% of Ultra users have exceeded their traffic package"
   ]
  },
  {
   "cell_type": "markdown",
   "metadata": {},
   "source": [
    "- В среднем абоненты Smart потребляет 16277 мб трафика ,а абоненты Ultra - 19707 мб трафика.\n",
    "- Получили большие значения стандартных ошибок объема трафика в Ultra. \n",
    "- Месячные суммы объема трафика на тарифе Ultra не образуют нормального распределения. \n",
    "- Это говорит о неоднордном поведении абонентов на этом тарифе. \n",
    "- Гистограмма объема трафика Smart имеет отрицательную скошенность.\n",
    "- 29% абонентов Ultra и 84% абонентов Smart превысили пакет трафика. Похоже что тариф Ulra скорее используют из-за интрнета, чем из-за минут."
   ]
  },
  {
   "cell_type": "markdown",
   "metadata": {},
   "source": [
    "- On average, Smart subscribers consume 16277 MB of traffic, and Ultra subscribers - 19707 MB of traffic.\n",
    "- Got high traffic volume standard errors in Ultra.\n",
    "- The monthly amounts of traffic volume on the Ultra tariff do not form a normal distribution.\n",
    "- This indicates the heterogeneous behavior of subscribers at this tariff.\n",
    "- Smart traffic volume histogram is negatively skewed.\n",
    "- 29% of Ultra subscribers and 84% of Smart subscribers exceeded the traffic package. It seems that the Ulra tariff is used more because of the Internet than because of the minutes."
   ]
  },
  {
   "cell_type": "markdown",
   "metadata": {},
   "source": [
    "<a id='Step_9'></a>\n",
    "#### Point C."
   ]
  },
  {
   "cell_type": "markdown",
   "metadata": {},
   "source": [
    "Изучим и охарактеризуйте использование пакетов сообщений.\n",
    "\n",
    "Let us study and characterize the use of message packets."
   ]
  },
  {
   "cell_type": "code",
   "execution_count": 37,
   "metadata": {
    "scrolled": true
   },
   "outputs": [
    {
     "name": "stdout",
     "output_type": "stream",
     "text": [
      "Среднее количество использованных сообщений на тарифе smart: 33.398563734290846\n",
      "Медианнее количествио использованных сообщений на тарифе smart: 28.0\n",
      "Среднее количество использованных сообщений на тарифе ultra: 49.585641025641024\n",
      "Медианнее количество использованных сообщений на тарифе ultra: 38.0\n",
      "Стандартная ошибка количества использованных сообщений на тарифе smart: 28.22586809520413\n",
      "Выборочная дисперсия количества использованных сообщений на тарифе smart: 796.6996297278624\n",
      "Стандартная ошибка количества использованных сообщений на тарифе ultra: 47.97837679209317\n",
      "Выборочная дисперсия количества использованных сообщений на тарифе ultra: 2301.9246396040644\n"
     ]
    }
   ],
   "source": [
    "print('Среднее количество использованных сообщений на тарифе smart:', df_smart['total_messages'].mean())\n",
    "print('Медианнее количествио использованных сообщений на тарифе smart:', df_smart['total_messages'].median())\n",
    "print('Среднее количество использованных сообщений на тарифе ultra:', df_ultra['total_messages'].mean())\n",
    "print('Медианнее количество использованных сообщений на тарифе ultra:', df_ultra['total_messages'].median())\n",
    "print('Стандартная ошибка количества использованных сообщений на тарифе smart:', np.std(df_smart['total_messages'], ddof=1))\n",
    "print('Выборочная дисперсия количества использованных сообщений на тарифе smart:', np.var(df_smart['total_messages'], ddof=1))\n",
    "print('Стандартная ошибка количества использованных сообщений на тарифе ultra:', np.std(df_ultra['total_messages'], ddof=1))\n",
    "print('Выборочная дисперсия количества использованных сообщений на тарифе ultra:', np.var(df_ultra['total_messages'], ddof=1))\n"
   ]
  },
  {
   "cell_type": "markdown",
   "metadata": {},
   "source": [
    "Average number of used messages on the smart plan: 33.398563734290846\n",
    "\n",
    "Median number of used messages on the smart plan: 28.0\n",
    "\n",
    "Average number of used messages on the ultra plan: 49.585641025641024\n",
    "\n",
    "Median number of messages used on the ultra plan: 38.0\n",
    "\n",
    "Standard error of the number of used messages on the smart tariff: 28.22586809520413\n",
    "\n",
    "Sample variance of the number of used messages on the smart tariff: 796.6996297278624\n",
    "\n",
    "Standard error of the number of used messages on the ultra tariff: 47.97837679209317\n",
    "\n",
    "Sample variance of the number of messages used on the ultra tariff: 2301.9246396040644"
   ]
  },
  {
   "cell_type": "code",
   "execution_count": 38,
   "metadata": {},
   "outputs": [
    {
     "data": {
      "text/plain": [
       "<matplotlib.axes._subplots.AxesSubplot at 0x7f4f8b4a7ed0>"
      ]
     },
     "execution_count": 38,
     "metadata": {},
     "output_type": "execute_result"
    },
    {
     "data": {
      "image/png": "[encoded data removed]",
      "text/plain": [
       "<Figure size 540x324 with 1 Axes>"
      ]
     },
     "metadata": {
      "needs_background": "light"
     },
     "output_type": "display_data"
    }
   ],
   "source": [
    "df_smart['total_messages'].plot(kind='hist', bins=30, alpha = 0.5, legend=True, \n",
    "                                title='Messages (pieces)', figsize=(7.5, 4.5), label='Smart')\n",
    "df_ultra['total_messages'].plot(kind='hist', bins=30, alpha = 0.7, legend=True, label='Ultra')"
   ]
  },
  {
   "cell_type": "code",
   "execution_count": 39,
   "metadata": {},
   "outputs": [
    {
     "data": {
      "text/plain": [
       "Text(0.5, 0.98, 'Messages (pieces)')"
      ]
     },
     "execution_count": 39,
     "metadata": {},
     "output_type": "execute_result"
    },
    {
     "data": {
      "image/png": "[encoded data removed]",
      "text/plain": [
       "<Figure size 540x324 with 1 Axes>"
      ]
     },
     "metadata": {
      "needs_background": "light"
     },
     "output_type": "display_data"
    }
   ],
   "source": [
    "plt.pyplot.boxplot((df_smart['total_messages'],df_ultra['total_messages']), labels=('messages_smart', 'messages_ultra'), \n",
    "                   vert=False, patch_artist=True)\n",
    "fig = plt.pyplot.gcf()\n",
    "fig.set_size_inches(7.5, 4.5)\n",
    "fig.suptitle('Messages (pieces)', fontsize=20)"
   ]
  },
  {
   "cell_type": "markdown",
   "metadata": {},
   "source": [
    "Отбросим 0 у обоих тарифов в использовании сообщений и значения выше 110 у Smart и выше 190 у Ultra.\n",
    "\n",
    "Let's drop 0 for both tariffs in the use of messages and values above 110 for Smart and above 190 for Ultra."
   ]
  },
  {
   "cell_type": "code",
   "execution_count": 40,
   "metadata": {
    "scrolled": true
   },
   "outputs": [
    {
     "name": "stdout",
     "output_type": "stream",
     "text": [
      "Среднее количество использованных сообщений на тарифе smart: 37.88748685594111\n",
      "Медианнее количествио использованных сообщений на тарифе smart: 33.0\n",
      "Среднее количество использованных сообщений на тарифе ultra: 60.126126126126124\n",
      "Медианнее количество использованных сообщений на тарифе ultra: 51.0\n",
      "Стандартная ошибка количества использованных сообщений на тарифе smart: 25.50262667812957\n",
      "Выборочная дисперсия количества использованных сообщений на тарифе smart: 650.383967484046\n",
      "Стандартная ошибка количества использованных сообщений на тарифе ultra: 43.931642654694144\n",
      "Выборочная дисперсия количества использованных сообщений на тарифе ultra: 1929.989226339742\n"
     ]
    }
   ],
   "source": [
    "print('Среднее количество использованных сообщений на тарифе smart:', (df_smart.query\n",
    "                                               ('total_messages > 0 and total_messages < 110')['total_messages'].mean()))\n",
    "print('Медианнее количествио использованных сообщений на тарифе smart:', (df_smart.query\n",
    "                                                ('total_messages > 0 and total_messages < 110')['total_messages'].median()))\n",
    "print('Среднее количество использованных сообщений на тарифе ultra:', (df_ultra.query\n",
    "                                                ('total_messages > 0 and total_messages < 190')['total_messages'].mean()))\n",
    "print('Медианнее количество использованных сообщений на тарифе ultra:', (df_ultra.query\n",
    "                                                 ('total_messages > 0 and total_messages < 190')['total_messages'].median()))\n",
    "print('Стандартная ошибка количества использованных сообщений на тарифе smart:', (np.std(df_smart.query\n",
    "                                                  ('total_messages > 0 and total_messages < 110')['total_messages'], ddof=1)))\n",
    "print('Выборочная дисперсия количества использованных сообщений на тарифе smart:', (np.var(df_smart.query\n",
    "                                                  ('total_messages > 0 and total_messages < 110')['total_messages'], ddof=1)))\n",
    "print('Стандартная ошибка количества использованных сообщений на тарифе ultra:', (np.std(df_ultra.query\n",
    "                                                ('total_messages > 0 and total_messages < 190')['total_messages'], ddof=1)))\n",
    "print('Выборочная дисперсия количества использованных сообщений на тарифе ultra:', (np.var(df_ultra.query\n",
    "                                                ('total_messages > 0 and total_messages < 190')['total_messages'], ddof=1)))"
   ]
  },
  {
   "cell_type": "markdown",
   "metadata": {},
   "source": [
    "Average number of used messages on the smart tariff: 37.88748685594111\n",
    "\n",
    "Median number of used messages on the smart plan: 33.0\n",
    "\n",
    "Average number of messages used on the ultra plan: 60.126126126126124\n",
    "\n",
    "Median number of messages used on the ultra plan: 51.0\n",
    "\n",
    "Standard error of the number of used messages on the smart tariff: 25.50262667812957\n",
    "\n",
    "Sample variance of the number of used messages on the smart tariff: 650.383967484046\n",
    "\n",
    "Standard error of the number of used messages on the ultra tariff: 43.931642654694144\n",
    "\n",
    "Sample variance of the number of used messages on the ultra tariff: 1929.989226339742"
   ]
  },
  {
   "cell_type": "code",
   "execution_count": 41,
   "metadata": {},
   "outputs": [
    {
     "name": "stdout",
     "output_type": "stream",
     "text": [
      " 35.71% пользователей Smart превысили объем пакета сообщений\n"
     ]
    }
   ],
   "source": [
    "print('{: .2%} пользователей Smart превысили объем пакета сообщений'.format(len(df_smart[df_smart['over_pay_messages'] > 0]\n",
    "                                              ['user_id'].unique()) / len(df_smart['user_id'].unique())))"
   ]
  },
  {
   "cell_type": "markdown",
   "metadata": {},
   "source": [
    "35.71% of Smart users have exceeded the message package"
   ]
  },
  {
   "cell_type": "code",
   "execution_count": 42,
   "metadata": {},
   "outputs": [
    {
     "name": "stdout",
     "output_type": "stream",
     "text": [
      " 0.00% пользователей Ultra превысили объем пакета сообщений\n"
     ]
    }
   ],
   "source": [
    "print('{: .2%} пользователей Ultra превысили объем пакета сообщений'.format(len(df_ultra[df_ultra['over_pay_messages'] > 0]\n",
    "                                                ['user_id'].unique()) / len(df_ultra['user_id'].unique())))"
   ]
  },
  {
   "cell_type": "markdown",
   "metadata": {},
   "source": [
    "0.00% of Ultra users have exceeded the message pack size"
   ]
  },
  {
   "cell_type": "markdown",
   "metadata": {},
   "source": [
    "- В среднем абоненты Smart отправляют 37 сообщений ,а абоненты Ultra - 60.\n",
    "- Получили большие значения стандартных ошибок количества отправленных сообщений в Ultra. \n",
    "- Месячные суммы отправленных сообщений на обоих тарифах не образуют нормального распределения. \n",
    "- Гистограмма количества отправленных сообщений Smart имеет отрицательную скошенность.\n",
    "- 0% абонентов Ultra и 35,7% абонентов Smart превысили пакет сообщений. Это еще раз подтверждает, что тариф Ulra скорее используют из-за интрнета, чем из-за минут.\n",
    "- Также очевидно, что пакета сообщений Smart не хвататает 1/3 пользователей и они вынужденны переплачивать. "
   ]
  },
  {
   "cell_type": "markdown",
   "metadata": {},
   "source": [
    "- On average, Smart subscribers send 37 messages, and Ultra subscribers - 60.\n",
    "- Got large standard errors for the number of messages sent in Ultra.\n",
    "- The monthly amounts of sent messages on both tariffs do not form a normal distribution.\n",
    "- The histogram of the number of Smart messages sent is negatively skewed.\n",
    "- 0% of Ultra subscribers and 35.7% of Smart subscribers exceeded the message package. This once again confirms that the Ulra tariff is more likely to be used because of the Internet than because of the minutes.\n",
    "- It is also obvious that 1/3 of the users lack the Smart messaging package and they have to overpay."
   ]
  },
  {
   "cell_type": "markdown",
   "metadata": {},
   "source": [
    "<a id='Step_10'></a>\n",
    "#### Point D."
   ]
  },
  {
   "cell_type": "markdown",
   "metadata": {},
   "source": [
    "Изучим какя услуга приносит больше всего денег от перепалат.\n",
    "\n",
    "Let's study which service brings the most money from perepalats."
   ]
  },
  {
   "cell_type": "code",
   "execution_count": 43,
   "metadata": {
    "scrolled": true
   },
   "outputs": [
    {
     "data": {
      "text/plain": [
       "<matplotlib.axes._subplots.AxesSubplot at 0x7f4f89405b10>"
      ]
     },
     "execution_count": 43,
     "metadata": {},
     "output_type": "execute_result"
    },
    {
     "data": {
      "image/png": "[encoded data removed]",
      "text/plain": [
       "<Figure size 432x288 with 1 Axes>"
      ]
     },
     "metadata": {
      "needs_background": "light"
     },
     "output_type": "display_data"
    }
   ],
   "source": [
    "pd.DataFrame({'proceeds': [df_smart['over_pay_calls'].sum() / 1000, df_smart['over_pay_internet'].sum() / 1000, \n",
    "df_smart['over_pay_messages'].sum() / 1000]}, index=['Calls', 'Internet', 'Messages']).plot(kind='bar' , rot=1, \n",
    "                                                                title='Over pay \"Smart\" (thousands of rubles)')"
   ]
  },
  {
   "cell_type": "code",
   "execution_count": 44,
   "metadata": {
    "scrolled": true
   },
   "outputs": [
    {
     "data": {
      "text/plain": [
       "<matplotlib.axes._subplots.AxesSubplot at 0x7f4f8936e710>"
      ]
     },
     "execution_count": 44,
     "metadata": {},
     "output_type": "execute_result"
    },
    {
     "data": {
      "image/png": "[encoded data removed]",
      "text/plain": [
       "<Figure size 432x288 with 1 Axes>"
      ]
     },
     "metadata": {
      "needs_background": "light"
     },
     "output_type": "display_data"
    }
   ],
   "source": [
    "pd.DataFrame({'proceeds': [df_ultra['over_pay_calls'].sum() / 1000, df_ultra['over_pay_internet'].sum() / 1000, \n",
    "df_ultra['over_pay_messages'].sum() / 1000]}, index=['Calls', 'Internet', 'Messages']).plot(kind='bar' , rot=1, \n",
    "                                                                 title='Over pay \"Ultra\"(thousands of rubles)')"
   ]
  },
  {
   "cell_type": "markdown",
   "metadata": {},
   "source": [
    "- Больше всего выручки от переплат на тарифе Smart приходит из-за переиспользования трафика.\n",
    "- Больше всего выручки от переплат на тарифе Ultra приходит из-за переиспользования трафика. Еще раз напомню, что в Ultra и без того большой пакет интрнета. "
   ]
  },
  {
   "cell_type": "markdown",
   "metadata": {},
   "source": [
    "- Most of the revenue from overpayments on the Smart tariff comes from overusing traffic.\n",
    "- Most of the revenue from overpayments on the Ultra tariff comes from overusing traffic. Let me remind you once again that Ultra already has a large Internet package."
   ]
  },
  {
   "cell_type": "markdown",
   "metadata": {},
   "source": [
    "<a id='Step_11'></a>\n",
    "#### Пункт E.\n",
    "\n",
    "#### Point E."
   ]
  },
  {
   "cell_type": "markdown",
   "metadata": {},
   "source": [
    "Изучим структуру доходов.\n",
    "\n",
    "Let's study the structure of income."
   ]
  },
  {
   "cell_type": "code",
   "execution_count": 45,
   "metadata": {},
   "outputs": [
    {
     "data": {
      "text/plain": [
       "<matplotlib.axes._subplots.AxesSubplot at 0x7f4f8b4ad050>"
      ]
     },
     "execution_count": 45,
     "metadata": {},
     "output_type": "execute_result"
    },
    {
     "data": {
      "image/png": "[encoded data removed]",
      "text/plain": [
       "<Figure size 432x288 with 1 Axes>"
      ]
     },
     "metadata": {
      "needs_background": "light"
     },
     "output_type": "display_data"
    }
   ],
   "source": [
    "pd.DataFrame({'Subscription_fee' : [tariffs['rub_monthly_fee'][0] * len(df_smart) / 1000, tariffs['rub_monthly_fee'][1] \n",
    "* len(df_ultra) / 1000], 'Over_pay_fee' : [(df_smart['total_fee'].sum() - tariffs['rub_monthly_fee'][0] * \n",
    "                                len(df_smart)) / 1000, (df_ultra['total_fee'].sum() - tariffs['rub_monthly_fee'][1] \n",
    "* len(df_ultra)) / 1000]}, index=['Smart', 'Ultra']).plot(kind='bar' , \n",
    "                                                  rot=1, title='Revenue Structure (thousands of rubles)' , stacked=True)"
   ]
  },
  {
   "cell_type": "code",
   "execution_count": 46,
   "metadata": {},
   "outputs": [
    {
     "name": "stdout",
     "output_type": "stream",
     "text": [
      "Всего клиентов Smart 351\n",
      "Всего клиентов Ultra 149\n"
     ]
    }
   ],
   "source": [
    "print('Всего клиентов Smart', len(users[users['tariff'] == 'smart']))\n",
    "print('Всего клиентов Ultra', len(users[users['tariff'] == 'ultra']))"
   ]
  },
  {
   "cell_type": "markdown",
   "metadata": {},
   "source": [
    "Total Smart 351 clients\n",
    "\n",
    "Total Ultra Clients 149"
   ]
  },
  {
   "cell_type": "markdown",
   "metadata": {},
   "source": [
    "- Вырчка от тарифа Smart наполовину состоит из перпеплат, в то время как на Ultra переплат почти не нет.\n",
    "- Абонентов Ultra в два раза меньше чем абонентов Smart."
   ]
  },
  {
   "cell_type": "markdown",
   "metadata": {},
   "source": [
    "- Half of the revenue from the Smart tariff consists of overpayments, while there are almost no overpayments on Ultra.\n",
    "- Ultra subscribers are two times less than Smart subscribers."
   ]
  },
  {
   "cell_type": "markdown",
   "metadata": {},
   "source": [
    "<a id='Step_12'></a>\n",
    "#### Пункт F.\n",
    "\n",
    "#### Point F."
   ]
  },
  {
   "cell_type": "markdown",
   "metadata": {},
   "source": [
    "Изучим динамику роста выручки.\n",
    "\n",
    "Let's study the dynamics of revenue growth."
   ]
  },
  {
   "cell_type": "code",
   "execution_count": 47,
   "metadata": {},
   "outputs": [
    {
     "data": {
      "text/plain": [
       "<matplotlib.axes._subplots.AxesSubplot at 0x7f4f89293ad0>"
      ]
     },
     "execution_count": 47,
     "metadata": {},
     "output_type": "execute_result"
    },
    {
     "data": {
      "image/png": "[encoded data removed]",
      "text/plain": [
       "<Figure size 432x288 with 1 Axes>"
      ]
     },
     "metadata": {
      "needs_background": "light"
     },
     "output_type": "display_data"
    }
   ],
   "source": [
    "df_smart.groupby('month')['user_id'].count().plot(legend=True, label='Number of clients Smart', \n",
    "                                                  title='Dynamics of number of clients')\n",
    "df_ultra.groupby('month')['user_id'].count().plot(legend=True, label='Number of clients Ultra')"
   ]
  },
  {
   "cell_type": "code",
   "execution_count": 48,
   "metadata": {
    "scrolled": true
   },
   "outputs": [
    {
     "data": {
      "text/plain": [
       "<matplotlib.axes._subplots.AxesSubplot at 0x7f4f892d9d90>"
      ]
     },
     "execution_count": 48,
     "metadata": {},
     "output_type": "execute_result"
    },
    {
     "data": {
      "image/png": "[encoded data removed]",
      "text/plain": [
       "<Figure size 432x288 with 1 Axes>"
      ]
     },
     "metadata": {
      "needs_background": "light"
     },
     "output_type": "display_data"
    }
   ],
   "source": [
    "df_smart.groupby('month')['total_fee'].sum().plot(legend=True, label='Revenue Smart', title='Dynamics of revenue (rubles)')\n",
    "df_ultra.groupby('month')['total_fee'].sum().plot(legend=True, label='Revenue Ultra')"
   ]
  },
  {
   "cell_type": "markdown",
   "metadata": {},
   "source": [
    "Количество клиентов и вместе с ними объем выручки выросли больше на тарифе Smart чем на Ultra.\n",
    "\n",
    "The number of customers and with them the amount of revenue grew more on the Smart tariff than on the Ultra one."
   ]
  },
  {
   "cell_type": "markdown",
   "metadata": {},
   "source": [
    "<a id='Step_13'></a>\n",
    "#### Пункт G.\n",
    "\n",
    "#### Point G."
   ]
  },
  {
   "cell_type": "markdown",
   "metadata": {},
   "source": [
    "Изучим отключившихся абонентов.\n",
    "\n",
    "Let's study disconnected subscribers."
   ]
  },
  {
   "cell_type": "code",
   "execution_count": 49,
   "metadata": {},
   "outputs": [
    {
     "data": {
      "text/plain": [
       "<matplotlib.axes._subplots.AxesSubplot at 0x7f4f88279950>"
      ]
     },
     "execution_count": 49,
     "metadata": {},
     "output_type": "execute_result"
    },
    {
     "data": {
      "image/png": "[encoded data removed]",
      "text/plain": [
       "<Figure size 432x288 with 1 Axes>"
      ]
     },
     "metadata": {
      "needs_background": "light"
     },
     "output_type": "display_data"
    }
   ],
   "source": [
    "df_smart[df_smart['churn_date'].isna() == False].groupby('month')['user_id'].count().plot(label='Smart number of churn', \n",
    "                                                                                          title='Number of churn', legend=True)\n",
    "df_ultra[df_ultra['churn_date'].isna() == False].groupby('month')['user_id'].count().plot(label='Ultra number of churn', \n",
    "                                                                                          legend=True)"
   ]
  },
  {
   "cell_type": "code",
   "execution_count": 50,
   "metadata": {},
   "outputs": [
    {
     "name": "stdout",
     "output_type": "stream",
     "text": [
      " 6.55% Пользователей ушли с тарифа Smart\n"
     ]
    }
   ],
   "source": [
    "print('{: .2%} Пользователей ушли с тарифа Smart'.format(len(users[(users['tariff'] == 'smart') & \n",
    "                (users['churn_date'].isna() == False)]) / len(users[users['tariff'] == 'smart'])))"
   ]
  },
  {
   "cell_type": "markdown",
   "metadata": {},
   "source": [
    "6.55% of Users left the Smart plan"
   ]
  },
  {
   "cell_type": "code",
   "execution_count": 51,
   "metadata": {},
   "outputs": [
    {
     "name": "stdout",
     "output_type": "stream",
     "text": [
      " 10.07% Пользователей ушли с тарифа Ultra\n"
     ]
    }
   ],
   "source": [
    "print('{: .2%} Пользователей ушли с тарифа Ultra'.format(len(users[(users['tariff'] == 'ultra') & \n",
    "                (users['churn_date'].isna() == False)]) / len(users[users['tariff'] == 'ultra'])))"
   ]
  },
  {
   "cell_type": "markdown",
   "metadata": {},
   "source": [
    "10.07% of Users have left the Ultra plan"
   ]
  },
  {
   "cell_type": "code",
   "execution_count": 52,
   "metadata": {
    "scrolled": true
   },
   "outputs": [
    {
     "name": "stdout",
     "output_type": "stream",
     "text": [
      " 68.18% ушедших с тарифа Smart переплачивали сверх абонентской платы\n"
     ]
    }
   ],
   "source": [
    "print('{: .2%} ушедших с тарифа Smart переплачивали сверх абонентской платы'.format(\n",
    "len(df_smart[(df_smart['churn_date'].isna() == False) & (df_smart['total_fee'] > tariffs['rub_monthly_fee'][0])]\n",
    "    ['user_id'].unique()) / len(df_smart[df_smart['churn_date'].isna() == False]['user_id'].unique())))"
   ]
  },
  {
   "cell_type": "markdown",
   "metadata": {},
   "source": [
    "68.18% of those who left the Smart tariff overpaid in excess of the monthly fee"
   ]
  },
  {
   "cell_type": "code",
   "execution_count": 53,
   "metadata": {},
   "outputs": [
    {
     "name": "stdout",
     "output_type": "stream",
     "text": [
      " 22.73% ушедших с тарифа Smart переплачивали сверх абонентской платы тарифа Ultra\n"
     ]
    }
   ],
   "source": [
    "print('{: .2%} ушедших с тарифа Smart переплачивали сверх абонентской платы тарифа Ultra'.format(\n",
    "len(df_smart[(df_smart['churn_date'].isna() == False) & (df_smart['total_fee'] > \n",
    "tariffs['rub_monthly_fee'][1])]['user_id'].unique()) / len(df_smart[df_smart['churn_date'].isna() == False]\n",
    "                                                           ['user_id'].unique())))\n",
    "    "
   ]
  },
  {
   "cell_type": "markdown",
   "metadata": {},
   "source": [
    "22.73% of those who left the Smart tariff overpaid in excess of the subscription fee of the Ultra tariff"
   ]
  },
  {
   "cell_type": "code",
   "execution_count": 54,
   "metadata": {},
   "outputs": [
    {
     "name": "stdout",
     "output_type": "stream",
     "text": [
      " 21.43% ушедших с тарифа Ultra переплачивали сверх абонентской платы\n"
     ]
    }
   ],
   "source": [
    "print('{: .2%} ушедших с тарифа Ultra переплачивали сверх абонентской платы'.format(\n",
    "len(df_ultra[(df_ultra['churn_date'].isna() == False) & (df_ultra['total_fee'] > \n",
    "tariffs['rub_monthly_fee'][1])]['user_id'].unique()) / len(df_ultra[df_ultra['churn_date'].isna() == False]\n",
    "                                                           ['user_id'].unique())))"
   ]
  },
  {
   "cell_type": "markdown",
   "metadata": {},
   "source": [
    "21.43% of those who left the Ultra plan overpaid on top of the subscription fee"
   ]
  },
  {
   "cell_type": "code",
   "execution_count": 55,
   "metadata": {
    "scrolled": true
   },
   "outputs": [
    {
     "name": "stdout",
     "output_type": "stream",
     "text": [
      " 92.86% ушедших абонентов Ultra могли бы огрничиться тарифом Smart\n"
     ]
    }
   ],
   "source": [
    "print('{: .2%} ушедших абонентов Ultra могли бы огрничиться тарифом Smart'.format(\n",
    "(len(df_ultra[(df_ultra['churn_date'].isna() == False) & (df_ultra['total_calls'] < tariffs['minutes_included'][0]) \n",
    "              & (df_ultra['total_internet'] < tariffs['mb_per_month_included'][0]) & (df_ultra['total_messages'] \n",
    "                    < tariffs['messages_included'][0])]['user_id'].unique()) / len(df_ultra[df_ultra['churn_date'].isna() == False]\n",
    "                                                                                   ['user_id'].unique()))))"
   ]
  },
  {
   "cell_type": "markdown",
   "metadata": {},
   "source": [
    "92.86% of Ultra subscribers who left could be limited to Smart tariff"
   ]
  },
  {
   "cell_type": "markdown",
   "metadata": {},
   "source": [
    "- c тарифа Smart ушло 6,5% абонентов, а с Ultra 10%.\n",
    "- с начала года количество ушедших абонентов росло, но на 8 и 10 месяцах, у Smart и Ultra соответсвенно, рост сменился падением, которое продолжалось до конца года.\n",
    "- 68% ушедших абонентов Smart переплачивали\n",
    "- 22,7 % из них платили больше чем абонентская плата тарифа Ultra\n",
    "- ушедшие абоненты тарифа Ultra  переплачивали в 21,4% случаев\n",
    "- 93% ушедших абонентов Ultra обошлись бы тарифом Smart "
   ]
  },
  {
   "cell_type": "markdown",
   "metadata": {},
   "source": [
    "- 6.5% of subscribers left the Smart tariff, and 10% from Ultra.\n",
    "- since the beginning of the year, the number of lost subscribers has been growing, but at 8 and 10 months, for Smart and Ultra, respectively, the growth was replaced by a fall, which continued until the end of the year.\n",
    "- 68% of the departed Smart subscribers overpaid\n",
    "- 22.7% of them paid more than the subscription fee of the Ultra tariff\n",
    "- departed Ultra tariff subscribers overpaid in 21.4% of cases\n",
    "- 93% of Ultra subscribers who left would get by with Smart tariff"
   ]
  },
  {
   "cell_type": "markdown",
   "metadata": {},
   "source": [
    "Кажется, оператору стоит прозвонить абонентов и предложить им перейти на более подходящий тариф.\n",
    "\n",
    "It seems that the operator should call subscribers and offer them to switch to a more suitable tariff."
   ]
  },
  {
   "cell_type": "markdown",
   "metadata": {},
   "source": [
    "#### Вывод:\n",
    "- использование пакета тарифа Ultra не имеет нормального распределения по всем трем услугам (связь, интрнет, сообщения)\n",
    "- тариф Smart используют больше абонентов и это приносит больший доход в абсолютных значенях, но меньшую доходность за счет своей цены\n",
    "- пакета Smart часто не хватает абонентам для использования, а тарифа Ultra оказывается слишком много\n",
    "- наблюдений по отключившимся абонентам слишком мало, но все таки, кажется, что причиной ухода абонентов с тарифа Smart служат постоянные переплаты\n",
    "- также можно предположить, что тариф Ultra по большей части используется из-за интрнета\n",
    "- абоненты из выборки Ultra не выговорили свой пакет минут, но часто переиспользовали пакет трафика и редко пакет сообщений"
   ]
  },
  {
   "cell_type": "markdown",
   "metadata": {},
   "source": [
    "#### Conclusion:\n",
    "- the use of the Ultra tariff package does not have a normal distribution for all three services (communication, internet, messages)\n",
    "- Smart tariff is used by more subscribers and it brings more income in absolute terms, but less profitability due to its price\n",
    "- the Smart package is often not enough for subscribers to use, and the Ultra tariff is too much\n",
    "- there are too few observations on disconnected subscribers, but still, it seems that the reason for subscribers leaving the Smart tariff is constant overpayments\n",
    "- it can also be assumed that the Ultra tariff is mostly used because of the Internet\n",
    "- subscribers from the Ultra sample did not pronounce their minutes package, but often reused the traffic package and rarely the message package"
   ]
  },
  {
   "cell_type": "markdown",
   "metadata": {},
   "source": [
    "Предположу, что услуги мобильных операторов активно используются абонентами. Тариф Smart часто при этом не способен дать им достатоный объем предоплаченных услуг. Это заставляет абонентов переплачивать. Переплата вызвает негативные эмоции, а это влечет за собой отказ от потребления услуг у данного оператора. Также тарифа Ultra зачатсую избыточно много."
   ]
  },
  {
   "cell_type": "markdown",
   "metadata": {},
   "source": [
    "I will assume that the services of mobile operators are actively used by subscribers. The Smart tariff is often not able to provide them with a sufficient volume of prepaid services. This forces subscribers to overpay. Overpayment causes negative emotions, and this entails a refusal to use services from this operator. Also, the Ultra tariff will conceive too much."
   ]
  },
  {
   "cell_type": "markdown",
   "metadata": {
    "scrolled": true
   },
   "source": [
    "<a id='Step_14'></a>\n",
    "## 7. Статистическое исследование.\n",
    "\n",
    "## 7. Statistical research."
   ]
  },
  {
   "cell_type": "markdown",
   "metadata": {},
   "source": [
    "<div class=\"alert alert-info\">Требуется ответить на два вопроса: какой тариф приносит в среднем больше денег и равна ли средняя выручка в Москве средней выручке в других городах. Для этого будем использовать двусторонний t-тест, так как неравнество средних может означать как положительное так и отрицательное отклонение.</div>"
   ]
  },
  {
   "cell_type": "markdown",
   "metadata": {},
   "source": [
    "<div class=\"alert alert-info\">Two questions need to be answered: which tariff brings more money on average and whether the average revenue in Moscow is equal to the average revenue in other cities. For this, we will use a two-tailed t-test, since the inequality of means can mean both positive and negative deviation.</div>"
   ]
  },
  {
   "cell_type": "markdown",
   "metadata": {},
   "source": [
    "<a id='Step_15'></a>\n",
    "#### Пункт A. \n",
    "Исследуем на доходы от тарифов. \n",
    "\n",
    "#### Point A.\n",
    "We investigate on income from tariffs."
   ]
  },
  {
   "cell_type": "code",
   "execution_count": 56,
   "metadata": {},
   "outputs": [
    {
     "data": {
      "text/plain": [
       "<matplotlib.axes._subplots.AxesSubplot at 0x7f4f881fa290>"
      ]
     },
     "execution_count": 56,
     "metadata": {},
     "output_type": "execute_result"
    },
    {
     "data": {
      "image/png": "[encoded data removed]",
      "text/plain": [
       "<Figure size 540x324 with 1 Axes>"
      ]
     },
     "metadata": {
      "needs_background": "light"
     },
     "output_type": "display_data"
    }
   ],
   "source": [
    "df_smart['total_fee'].plot(kind='hist', bins=50, alpha = 0.5, legend=True, \n",
    "                                title='Revenue (rubles)', figsize=(7.5, 4.5), label='Smart')\n",
    "df_ultra['total_fee'].plot(kind='hist', bins=50, alpha = 0.7, legend=True, label='Ultra')"
   ]
  },
  {
   "cell_type": "code",
   "execution_count": 57,
   "metadata": {
    "scrolled": true
   },
   "outputs": [
    {
     "data": {
      "text/plain": [
       "Text(0.5, 0.98, 'Revenue (rubles)')"
      ]
     },
     "execution_count": 57,
     "metadata": {},
     "output_type": "execute_result"
    },
    {
     "data": {
      "image/png": "[encoded data removed]",
      "text/plain": [
       "<Figure size 540x324 with 1 Axes>"
      ]
     },
     "metadata": {
      "needs_background": "light"
     },
     "output_type": "display_data"
    }
   ],
   "source": [
    "plt.pyplot.boxplot((df_smart['total_fee'],df_ultra['total_fee']), labels=('total_fee_smart', 'total_fee_ultra'), vert=False,\n",
    "                  patch_artist=True)\n",
    "fig = plt.pyplot.gcf()\n",
    "fig.set_size_inches(7.5, 4.5)\n",
    "fig.suptitle('Revenue (rubles)', fontsize=20)"
   ]
  },
  {
   "cell_type": "markdown",
   "metadata": {},
   "source": [
    "Очевидно, что средние доходов у тарифов разные. Значима ли разница?\n",
    "\n",
    "It is obvious that the average incomes of the tariffs are different. Is the difference significant?"
   ]
  },
  {
   "cell_type": "markdown",
   "metadata": {},
   "source": [
    "- H0 - оба тарифа приносят одинаковый доход в среднем\n",
    "- H1 - средние доходов двух тарифов отличаются"
   ]
  },
  {
   "cell_type": "markdown",
   "metadata": {},
   "source": [
    "- H0 - both tariffs bring the same income on average\n",
    "- H1 - the average incomes of the two tariffs are different"
   ]
  },
  {
   "cell_type": "code",
   "execution_count": 58,
   "metadata": {},
   "outputs": [
    {
     "name": "stdout",
     "output_type": "stream",
     "text": [
      "Shapiro-Wilk test для Smart (0.8052712678909302, 1.401298464324817e-45)\n",
      "Shapiro-Wilk test для Ultra (0.34007740020751953, 0.0)\n",
      "Levene test LeveneResult(statistic=532.3833845968306, pvalue=4.27480746542348e-109)\n",
      "Количество наблюдений Smart 2228\n",
      "Количество наблюдений Ultra 975\n"
     ]
    }
   ],
   "source": [
    "print('Shapiro-Wilk test для Smart', st.shapiro(df_smart['total_fee']))\n",
    "print('Shapiro-Wilk test для Ultra', st.shapiro(df_ultra['total_fee']))\n",
    "print('Levene test' ,st.levene(df_smart['total_fee'], df_ultra['total_fee']))\n",
    "print('Количество наблюдений Smart', len(df_smart))\n",
    "print('Количество наблюдений Ultra', len(df_ultra))"
   ]
  },
  {
   "cell_type": "markdown",
   "metadata": {},
   "source": [
    "Shapiro-Wilk test for Smart (0.8052712678909302, 1.401298464324817e-45)\n",
    "\n",
    "Shapiro-Wilk test for Ultra (0.34007740020751953, 0.0)\n",
    "\n",
    "Levene test LeveneResult(statistic=532.3833845968306, pvalue=4.27480746542348e-109)\n",
    "\n",
    "Number of Smart 2228 observations\n",
    "\n",
    "Number of Ultra 975 observations"
   ]
  },
  {
   "cell_type": "markdown",
   "metadata": {
    "scrolled": false
   },
   "source": [
    "Получили маленькое p-значение теста Левина - дисперсия слишком сильно отличается у двух выборок. Учтем это в тесте.\n",
    "\n",
    "We got a small p-value of the Levin test - the variance is too different for the two samples. Let's take this into account in the test."
   ]
  },
  {
   "cell_type": "code",
   "execution_count": 59,
   "metadata": {},
   "outputs": [
    {
     "name": "stdout",
     "output_type": "stream",
     "text": [
      "p-значение: 0.0\n",
      "Отвергаем нулевую гипотезу\n"
     ]
    }
   ],
   "source": [
    "alpha = .05\n",
    "results = st.ttest_ind(df_smart['total_fee'],df_ultra['total_fee'], equal_var=False)\n",
    "print('p-значение:', results.pvalue)\n",
    "if (results.pvalue < alpha):\n",
    "    print(\"Отвергаем нулевую гипотезу\")\n",
    "else:\n",
    "    print(\"Не получилось отвергнуть нулевую гипотезу\")"
   ]
  },
  {
   "cell_type": "markdown",
   "metadata": {},
   "source": [
    "p-value: 0.0\n",
    "Rejecting the null hypothesis"
   ]
  },
  {
   "cell_type": "markdown",
   "metadata": {},
   "source": [
    "#### Нулевая гипотеза отвергнута. Исходя из средних, \"Ultra\" приносит в целом больше денег чем \"Smart\".\n",
    "\n",
    "#### Null hypothesis rejected. Based on averages, \"Ultra\" makes more money overall than \"Smart\"."
   ]
  },
  {
   "cell_type": "markdown",
   "metadata": {},
   "source": [
    "<a id='Step_16'></a>\n",
    "#### Пункт B. \n",
    "\n",
    "#### Point B. "
   ]
  },
  {
   "cell_type": "markdown",
   "metadata": {},
   "source": [
    "Проверим гипотезу о равенстве выручки в Москве и других регионах.\n",
    "\n",
    "Let's test the hypothesis about the equality of revenue in Moscow and other regions."
   ]
  },
  {
   "cell_type": "code",
   "execution_count": 60,
   "metadata": {},
   "outputs": [],
   "source": [
    "# Получим выборки по городам: Москва и не Москва.\n",
    "Moscow = pd.concat([df_smart[df_smart['city'] == 'Москва'], df_ultra[df_ultra['city'] == 'Москва']], ignore_index=True)\n",
    "Non_Moscow = pd.concat([df_smart[df_smart['city'] != 'Москва'], df_ultra[df_ultra['city'] != 'Москва']], ignore_index=True)"
   ]
  },
  {
   "cell_type": "code",
   "execution_count": 61,
   "metadata": {},
   "outputs": [
    {
     "data": {
      "text/plain": [
       "<matplotlib.axes._subplots.AxesSubplot at 0x7f4f87fbb650>"
      ]
     },
     "execution_count": 61,
     "metadata": {},
     "output_type": "execute_result"
    },
    {
     "data": {
      "image/png": "[encoded data removed]",
      "text/plain": [
       "<Figure size 432x288 with 1 Axes>"
      ]
     },
     "metadata": {
      "needs_background": "light"
     },
     "output_type": "display_data"
    }
   ],
   "source": [
    "Non_Moscow['total_fee'].plot(kind='hist', bins=50, alpha = 0.3, legend=True, label='Non_Moscow')\n",
    "Moscow['total_fee'].plot(kind='hist', bins=50, alpha = 0.7, legend=True, label='Moscow', title='Revenue (rubles)')"
   ]
  },
  {
   "cell_type": "code",
   "execution_count": 62,
   "metadata": {
    "scrolled": true
   },
   "outputs": [
    {
     "data": {
      "text/plain": [
       "Text(0.5, 0.98, 'Revenue (rubles)')"
      ]
     },
     "execution_count": 62,
     "metadata": {},
     "output_type": "execute_result"
    },
    {
     "data": {
      "image/png": "[encoded data removed]",
      "text/plain": [
       "<Figure size 540x324 with 1 Axes>"
      ]
     },
     "metadata": {
      "needs_background": "light"
     },
     "output_type": "display_data"
    }
   ],
   "source": [
    "plt.pyplot.boxplot((Moscow['total_fee'], Non_Moscow['total_fee']), labels=('Moscow', 'Non_Moscow'), vert=False,\n",
    "                  patch_artist=True)\n",
    "fig = plt.pyplot.gcf()\n",
    "fig.set_size_inches(7.5, 4.5)\n",
    "fig.suptitle('Revenue (rubles)', fontsize=20)"
   ]
  },
  {
   "cell_type": "markdown",
   "metadata": {},
   "source": [
    "- H0 - В Москве и в регионах тарифы приносят одинковый доход в среднем\n",
    "- H1 - средний доход в Москве отличается от среднего дохода в других городах"
   ]
  },
  {
   "cell_type": "markdown",
   "metadata": {},
   "source": [
    "- H0 - In Moscow and in the regions, tariffs bring the same income on average\n",
    "- H1 - the average income in Moscow differs from the average income in other cities"
   ]
  },
  {
   "cell_type": "code",
   "execution_count": 63,
   "metadata": {
    "scrolled": false
   },
   "outputs": [
    {
     "name": "stdout",
     "output_type": "stream",
     "text": [
      "Levene test LeveneResult(statistic=4.692407757516543, pvalue=0.030369748278879522)\n"
     ]
    }
   ],
   "source": [
    "print('Levene test' ,st.levene(Moscow['total_fee'], Non_Moscow['total_fee']))"
   ]
  },
  {
   "cell_type": "markdown",
   "metadata": {},
   "source": [
    "P-значение теста Левина слишком маленькое - дисперсии  выборок разные. Учтем это в t-тесте.\n",
    "\n",
    "The p-value of Levin's test is too small - the sample variances are different. Let's take this into account in the t-test."
   ]
  },
  {
   "cell_type": "code",
   "execution_count": 64,
   "metadata": {
    "scrolled": true
   },
   "outputs": [
    {
     "name": "stdout",
     "output_type": "stream",
     "text": [
      "p-значение: 0.3283576305684036\n",
      "Не получилось отвергнуть нулевую гипотезу\n"
     ]
    }
   ],
   "source": [
    "alpha = .05\n",
    "results = st.ttest_ind(Moscow['total_fee'], Non_Moscow['total_fee'], equal_var=False)\n",
    "print('p-значение:', results.pvalue)\n",
    "if (results.pvalue < alpha):\n",
    "    print(\"Отвергаем нулевую гипотезу\")\n",
    "else:\n",
    "    print(\"Не получилось отвергнуть нулевую гипотезу\")"
   ]
  },
  {
   "cell_type": "markdown",
   "metadata": {},
   "source": [
    "p-value: 0.3283576305684036\n",
    "Failed to reject the null hypothesis"
   ]
  },
  {
   "cell_type": "markdown",
   "metadata": {},
   "source": [
    "#### Нулевая гипотеза не отвергнута. Средняя выручка в Москве и регионах значительно не отличается (с высокой веротяностью). \n",
    "\n",
    "#### Null hypothesis not rejected. The average revenue in Moscow and the regions does not differ significantly (with high probability)."
   ]
  },
  {
   "cell_type": "markdown",
   "metadata": {},
   "source": [
    "#### Вывод:\n",
    "- средняя выручка от тарифа Ultra выше чем средняя выручка от тарифа Smart (с высокой веротяностью)\n",
    "- средняя выручка в Москве примерно равна средней выручке в регионах (с высокой веротяностью)\n",
    "\n",
    "#### Conclusion:\n",
    "- the average revenue from the Ultra tariff is higher than the average revenue from the Smart tariff (with high probability)\n",
    "- average revenue in Moscow is approximately equal to the average revenue in the regions (with high probability)"
   ]
  },
  {
   "cell_type": "markdown",
   "metadata": {},
   "source": [
    "<a id='Step_17'></a>\n",
    "## Пункт 8. Вывод.\n",
    "\n",
    "## Item 8. Conclusion."
   ]
  },
  {
   "cell_type": "markdown",
   "metadata": {},
   "source": [
    "1. Данные были подготовлены и объединены. Необходимые показатели рассчитаны.\n",
    "2. На основе анализа поведения клииентов делаем выводы:\n",
    "- Тариф Smart не предоставляет достаточный объем пакетов. Половина абонентов вынуждены переплачивать.\n",
    "- Тариф Ultra предсотавляет пакет минут больший, чем кто либо из данной выборки смог израсходывать. Интрнет перерасходуют 26% пользоватедей. Отметим, что трафика и сообщений в этом тарифе много, 30 гб и 1000шт, соответсвенно. Абоненты Ultra - активные пользователи современных форм коммуникации - интернет и текстовые сообщения.\n",
    "- Выручка от тарифа Smart на 50% состоит из переплат. Больше всего переплат за интрнет - 1 млн.р. и минуты - 290 т.р.\n",
    "- Выручка от тарифа Ultra главным образом состоит из абонентсокй платы ~ 90%. Переплаты происходят за счет перерасхода трафика (100 т.р.).\n",
    "- Количетсво абонентов на тарифе Smart росло быстрее чем на Ultra и вместе с этим росла и выручка.\n",
    "- Возможно абонеты уходят с тарифа Smart из-за постонняых переплат. 22,5% платили даже больше, чем платили бы на Ultra.\n",
    "- В целом выручка по выборке больше у Smart 2,6 млн.р. против 2 млн.р. у Ultra.\n",
    "- Траты абонентов на связь и интрнет на тарифе Smart хорошо описываются нормальным распределением, сообщения не распределны нормально. В то время как всё выше перечисленное не описывается нормальным распределением у Ultra. Это говорит о значительной неоднордности поведения абонентов этого тарифа.\n",
    "3. На основе статистического исследования:\n",
    "- Отвергнута гипотеза о равенстве средней выручки тарифов Smart и Ultra и на основе превосходства средней выручки тарифа Ultra был сделан вывод, что средняя выручка от тарифа Ultra выше, чем от тарифа Smart.\n",
    "- Не была отвергнута гипотеза о равенстве выручки от использования обоих тарифов в Москве и других регионах. То есть, с высокой вероятностью, средняя выручка в Москве примерно равна средней выручке в других регионах.\n",
    "4. Подводя итог, можно дать рекомендацию коммерческому департаменту. Ресурсы реклманной компании должны быть перераспределены в сторону больших затрат на продвижение тарифа Ultra во всех регионах странны, так как этот тариф лучше отвечает потребностям пользователей и приносит большую среднюю выручку. Кроме того, абоненты меньше уходят с этого тарифа."
   ]
  },
  {
   "cell_type": "markdown",
   "metadata": {},
   "source": [
    "1. Data has been prepared and pooled. The required indicators are calculated.\n",
    "2. Based on the analysis of customer behavior, we draw conclusions:\n",
    "- The Smart tariff does not provide a sufficient volume of packages. Half of the subscribers are forced to overpay.\n",
    "- The Ultra tariff provides a package of minutes more than anyone from this selection could spend. Internet is overused by 26% of users. Note that there is a lot of traffic and messages in this tariff, 30 GB and 1000 pieces, respectively. Ultra subscribers are active users of modern forms of communication - Internet and text messages.\n",
    "- The proceeds from the Smart tariff for 50% consists of overpayments. Most overpayments for the Internet - 1 million rubles. and minutes - 290 tr.\n",
    "- Revenue from the Ultra tariff mainly consists of ~ 90% subscription fee. Overpayments occur due to traffic overruns (100 tr.).\n",
    "- The number of subscribers on the Smart tariff grew faster than on Ultra, and revenue grew along with it.\n",
    "- Perhaps subscribers leave the Smart tariff due to constant overpayments. 22.5% paid even more than they would have paid on Ultra.\n",
    "- In general, Smart's revenue for the sample is more than 2.6 million rubles. against 2 million rubles at Ultra.\n",
    "- The expenses of subscribers for communication and Internet on the Smart tariff are well described by the normal distribution, messages are not distributed normally. While all of the above is not described by the normal distribution of Ultra. This indicates a significant heterogeneity in the behavior of subscribers of this tariff.\n",
    "3. Based on a statistical study:\n",
    "- The hypothesis about the equality of the average revenue of the Smart and Ultra tariffs was rejected and, based on the superiority of the average revenue of the Ultra tariff, it was concluded that the average revenue from the Ultra tariff is higher than from the Smart tariff.\n",
    "- The hypothesis about the equality of revenue from the use of both tariffs in Moscow and other regions was not rejected. That is, with a high probability, the average revenue in Moscow is approximately equal to the average revenue in other regions.\n",
    "4. Summing up, we can give a recommendation to the commercial department. The resources of the advertising company should be reallocated towards higher costs for the promotion of the Ultra tariff in all regions is strange, since this tariff better meets the needs of users and brings a larger average revenue. In addition, subscribers leave this tariff less."
   ]
  }
 ],
 "metadata": {
  "kernelspec": {
   "display_name": "Python 3 (ipykernel)",
   "language": "python",
   "name": "python3"
  },
  "language_info": {
   "codemirror_mode": {
    "name": "ipython",
    "version": 3
   },
   "file_extension": ".py",
   "mimetype": "text/x-python",
   "name": "python",
   "nbconvert_exporter": "python",
   "pygments_lexer": "ipython3",
   "version": "3.9.5"
  },
  "toc": {
   "base_numbering": 1,
   "nav_menu": {},
   "number_sections": true,
   "sideBar": true,
   "skip_h1_title": true,
   "title_cell": "Table of Contents",
   "title_sidebar": "Contents",
   "toc_cell": false,
   "toc_position": {},
   "toc_section_display": true,
   "toc_window_display": false
  }
 },
 "nbformat": 4,
 "nbformat_minor": 2
}
