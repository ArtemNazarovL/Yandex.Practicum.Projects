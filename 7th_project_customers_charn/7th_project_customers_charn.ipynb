{
  "cells": [
    {
      "cell_type": "markdown",
      "metadata": {
        "id": "BkT_m5BwAdF4"
      },
      "source": [
        "# Отток клиентов\n",
        "\n",
        "# Customer churn"
      ]
    },
    {
      "cell_type": "markdown",
      "metadata": {
        "id": "wencsPCkAdF7"
      },
      "source": [
        "Каждый месяц , в небольших количествах, из банка банка уходят клиенты. Маркетологи проанализировав ситуацию, поняли, что сохранять клиентов дешевле, чем привлекать новых.\n",
        "Необходимо построить модель, на основе исторических данных, способную предсказать уйдет ли клиент. Используемая метрика: F1-мера, которую нужно довести как минимум до 0.59. Также необходимо построить AUC-ROC кривую и сравнить ее с F-1 мерой."
      ]
    },
    {
      "cell_type": "markdown",
      "source": [
        "Every month, in small quantities, customers leave the bank of the bank. After analyzing the situation, marketers realized that retaining customers is cheaper than attracting new ones.\n",
        "It is necessary to build a model based on historical data that can predict whether the client will leave. Metric used: F1-measure to be brought up to at least 0.59. It is also necessary to plot the AUC-ROC curve and compare it with the F-1 measure."
      ],
      "metadata": {
        "id": "ICCI301YC6C1"
      }
    },
    {
      "cell_type": "markdown",
      "source": [
        "# Оглавление."
      ],
      "metadata": {
        "id": "O7LmUnM6A8Nm"
      }
    },
    {
      "cell_type": "markdown",
      "source": [
        "- [Шаг 1. Подготовка данных.](#Step_1) <br />\n",
        "[1.1. Загрузка данных и первое знакомство с ними.](#Step_2) <br />\n",
        "[1.2. Подготовка данных.](#Step_3) <br />\n",
        "- [Шаг 2. Исследование задачи.](#Step_4) <br />\n",
        "[2.1. Решающее дерево.](#Step_5) <br />\n",
        "[2.2. Случайный лес.](#Step_6) <br />\n",
        "[2.2. Логистическая регрессия.](#Step_7) <br />\n",
        "- [Шаг 3. Борьба с дисбалансом.](#Step_8)<br />\n",
        "[3.1. Взвешивание классов.](#Step_9) <br />\n",
        "[3.2. Upsampling.](#Step_10) <br />\n",
        "[3.3. Downsampling.](#Step_11) <br />\n",
        "- [Шаг 4. Тестирование модели.](#Step_12)<br />\n"
      ],
      "metadata": {
        "id": "AvY8fFO6A6OM"
      }
    },
    {
      "cell_type": "markdown",
      "source": [
        "# Table of contents."
      ],
      "metadata": {
        "id": "GDVSff26DJnA"
      }
    },
    {
      "cell_type": "markdown",
      "source": [
        "- [Step 1. Data preparation.](#Step_1) <br />\n",
        "[1.1. Loading data and getting to know it for the first time.](#Step_2) <br />\n",
        "[1.2. Data preparation.](#Step_3) <br />\n",
        "- [Step 2. Research the problem.](#Step_4) <br />\n",
        "[2.1. Decision tree.](#Step_5) <br />\n",
        "[2.2. Random forest.](#Step_6) <br />\n",
        "[2.2. Logistic regression.](#Step_7) <br />\n",
        "- [Step 3. Dealing with imbalance.](#Step_8)<br />\n",
        "[3.1. Class weighting.](#Step_9) <br />\n",
        "[3.2. Upsampling.](#Step_10) <br />\n",
        "[3.3. Downsampling.](#Step_11) <br />\n",
        "- [Step 4. Model testing.](#Step_12)<br />"
      ],
      "metadata": {
        "id": "6ZRh-4YPDErN"
      }
    },
    {
      "cell_type": "markdown",
      "metadata": {
        "id": "LMtg8ulNAdF-"
      },
      "source": [
        "<a id='Step_1'></a>\n",
        "# 1. Подготовка данных"
      ]
    },
    {
      "cell_type": "markdown",
      "metadata": {
        "id": "446Lt0vzAdGA"
      },
      "source": [
        "<a id='Step_2'></a>\n",
        "### 1.1. Загрузка данных и первое знакомство с ними.\n",
        "\n",
        "### 1.1. Loading data and getting to know it for the first time."
      ]
    },
    {
      "cell_type": "markdown",
      "metadata": {
        "id": "uOqWKldrAdGB"
      },
      "source": [
        "Загружаем библиотеки.\n",
        "\n",
        "Loading libraries."
      ]
    },
    {
      "cell_type": "code",
      "execution_count": null,
      "metadata": {
        "id": "klkxhohjAdGC"
      },
      "outputs": [],
      "source": [
        "import pandas as pd\n",
        "import numpy as np\n",
        "import math \n",
        "from sklearn.model_selection import train_test_split \n",
        "from sklearn.linear_model import LogisticRegression \n",
        "from sklearn.ensemble import RandomForestClassifier \n",
        "from sklearn.tree import DecisionTreeClassifier\n",
        "from sklearn.metrics import f1_score \n",
        "from sklearn import preprocessing\n",
        "from sklearn.utils import shuffle\n",
        "from sklearn.metrics import confusion_matrix\n",
        "from sklearn.metrics import roc_auc_score\n",
        "import matplotlib.pyplot as plt\n",
        "from sklearn.metrics import roc_curve\n",
        "from sklearn.metrics import precision_score\n",
        "from sklearn.metrics import recall_score\n",
        "from sklearn.preprocessing import StandardScaler "
      ]
    },
    {
      "cell_type": "code",
      "execution_count": null,
      "metadata": {
        "id": "0qaGpezoAdGF"
      },
      "outputs": [],
      "source": [
        "from sklearn.metrics import recall_score"
      ]
    },
    {
      "cell_type": "markdown",
      "metadata": {
        "id": "LqyU6u79AdGG"
      },
      "source": [
        "Загружаем файл.\n",
        "\n",
        "Uploading a file."
      ]
    },
    {
      "cell_type": "code",
      "execution_count": null,
      "metadata": {
        "id": "Yhz7gydUAdGH"
      },
      "outputs": [],
      "source": [
        "df = pd.read_csv('/datasets/Churn.csv')"
      ]
    },
    {
      "cell_type": "markdown",
      "metadata": {
        "id": "tpcD6kyJAdGI"
      },
      "source": [
        "Посмотрим на общую информацию.\n",
        "\n",
        "Let's look at general information."
      ]
    },
    {
      "cell_type": "code",
      "execution_count": null,
      "metadata": {
        "id": "Hv7eI78MAdGJ",
        "outputId": "6f85351f-77e4-4c36-cce6-8c4a3d03f008"
      },
      "outputs": [
        {
          "data": {
            "text/html": [
              "<div>\n",
              "<style scoped>\n",
              "    .dataframe tbody tr th:only-of-type {\n",
              "        vertical-align: middle;\n",
              "    }\n",
              "\n",
              "    .dataframe tbody tr th {\n",
              "        vertical-align: top;\n",
              "    }\n",
              "\n",
              "    .dataframe thead th {\n",
              "        text-align: right;\n",
              "    }\n",
              "</style>\n",
              "<table border=\"1\" class=\"dataframe\">\n",
              "  <thead>\n",
              "    <tr style=\"text-align: right;\">\n",
              "      <th></th>\n",
              "      <th>RowNumber</th>\n",
              "      <th>CustomerId</th>\n",
              "      <th>Surname</th>\n",
              "      <th>CreditScore</th>\n",
              "      <th>Geography</th>\n",
              "      <th>Gender</th>\n",
              "      <th>Age</th>\n",
              "      <th>Tenure</th>\n",
              "      <th>Balance</th>\n",
              "      <th>NumOfProducts</th>\n",
              "      <th>HasCrCard</th>\n",
              "      <th>IsActiveMember</th>\n",
              "      <th>EstimatedSalary</th>\n",
              "      <th>Exited</th>\n",
              "    </tr>\n",
              "  </thead>\n",
              "  <tbody>\n",
              "    <tr>\n",
              "      <td>0</td>\n",
              "      <td>1</td>\n",
              "      <td>15634602</td>\n",
              "      <td>Hargrave</td>\n",
              "      <td>619</td>\n",
              "      <td>France</td>\n",
              "      <td>Female</td>\n",
              "      <td>42</td>\n",
              "      <td>2.0</td>\n",
              "      <td>0.00</td>\n",
              "      <td>1</td>\n",
              "      <td>1</td>\n",
              "      <td>1</td>\n",
              "      <td>101348.88</td>\n",
              "      <td>1</td>\n",
              "    </tr>\n",
              "    <tr>\n",
              "      <td>1</td>\n",
              "      <td>2</td>\n",
              "      <td>15647311</td>\n",
              "      <td>Hill</td>\n",
              "      <td>608</td>\n",
              "      <td>Spain</td>\n",
              "      <td>Female</td>\n",
              "      <td>41</td>\n",
              "      <td>1.0</td>\n",
              "      <td>83807.86</td>\n",
              "      <td>1</td>\n",
              "      <td>0</td>\n",
              "      <td>1</td>\n",
              "      <td>112542.58</td>\n",
              "      <td>0</td>\n",
              "    </tr>\n",
              "    <tr>\n",
              "      <td>2</td>\n",
              "      <td>3</td>\n",
              "      <td>15619304</td>\n",
              "      <td>Onio</td>\n",
              "      <td>502</td>\n",
              "      <td>France</td>\n",
              "      <td>Female</td>\n",
              "      <td>42</td>\n",
              "      <td>8.0</td>\n",
              "      <td>159660.80</td>\n",
              "      <td>3</td>\n",
              "      <td>1</td>\n",
              "      <td>0</td>\n",
              "      <td>113931.57</td>\n",
              "      <td>1</td>\n",
              "    </tr>\n",
              "    <tr>\n",
              "      <td>3</td>\n",
              "      <td>4</td>\n",
              "      <td>15701354</td>\n",
              "      <td>Boni</td>\n",
              "      <td>699</td>\n",
              "      <td>France</td>\n",
              "      <td>Female</td>\n",
              "      <td>39</td>\n",
              "      <td>1.0</td>\n",
              "      <td>0.00</td>\n",
              "      <td>2</td>\n",
              "      <td>0</td>\n",
              "      <td>0</td>\n",
              "      <td>93826.63</td>\n",
              "      <td>0</td>\n",
              "    </tr>\n",
              "    <tr>\n",
              "      <td>4</td>\n",
              "      <td>5</td>\n",
              "      <td>15737888</td>\n",
              "      <td>Mitchell</td>\n",
              "      <td>850</td>\n",
              "      <td>Spain</td>\n",
              "      <td>Female</td>\n",
              "      <td>43</td>\n",
              "      <td>2.0</td>\n",
              "      <td>125510.82</td>\n",
              "      <td>1</td>\n",
              "      <td>1</td>\n",
              "      <td>1</td>\n",
              "      <td>79084.10</td>\n",
              "      <td>0</td>\n",
              "    </tr>\n",
              "  </tbody>\n",
              "</table>\n",
              "</div>"
            ],
            "text/plain": [
              "   RowNumber  CustomerId   Surname  CreditScore Geography  Gender  Age  \\\n",
              "0          1    15634602  Hargrave          619    France  Female   42   \n",
              "1          2    15647311      Hill          608     Spain  Female   41   \n",
              "2          3    15619304      Onio          502    France  Female   42   \n",
              "3          4    15701354      Boni          699    France  Female   39   \n",
              "4          5    15737888  Mitchell          850     Spain  Female   43   \n",
              "\n",
              "   Tenure    Balance  NumOfProducts  HasCrCard  IsActiveMember  \\\n",
              "0     2.0       0.00              1          1               1   \n",
              "1     1.0   83807.86              1          0               1   \n",
              "2     8.0  159660.80              3          1               0   \n",
              "3     1.0       0.00              2          0               0   \n",
              "4     2.0  125510.82              1          1               1   \n",
              "\n",
              "   EstimatedSalary  Exited  \n",
              "0        101348.88       1  \n",
              "1        112542.58       0  \n",
              "2        113931.57       1  \n",
              "3         93826.63       0  \n",
              "4         79084.10       0  "
            ]
          },
          "execution_count": 94,
          "metadata": {},
          "output_type": "execute_result"
        }
      ],
      "source": [
        "df.head()"
      ]
    },
    {
      "cell_type": "markdown",
      "metadata": {
        "id": "-ekS4NkwAdGL"
      },
      "source": [
        "Посмотрим нет ли дубликатов строк и не записан ли какой-нибудь клиент дважды.\n",
        "\n",
        "Let's see if there are any duplicate lines and if any client is recorded twice."
      ]
    },
    {
      "cell_type": "code",
      "execution_count": null,
      "metadata": {
        "id": "VWByQqIyAdGM",
        "outputId": "a1f0f32b-b691-42ae-df0b-0a193f618217"
      },
      "outputs": [
        {
          "name": "stdout",
          "output_type": "stream",
          "text": [
            "0\n",
            "0\n"
          ]
        }
      ],
      "source": [
        "print(df.duplicated().sum())\n",
        "print(df.duplicated('CustomerId').sum())"
      ]
    },
    {
      "cell_type": "markdown",
      "metadata": {
        "id": "8Vb_sR4zAdGN"
      },
      "source": [
        "Дубликатов нет.\n",
        "\n",
        "There are no duplicates."
      ]
    },
    {
      "cell_type": "markdown",
      "metadata": {
        "id": "-9K1sKTCAdGN"
      },
      "source": [
        "Посмотрим на форматы и пропущенные значения.\n",
        "\n",
        "Let's look at formats and missing values."
      ]
    },
    {
      "cell_type": "code",
      "execution_count": null,
      "metadata": {
        "scrolled": false,
        "id": "xdieULC7AdGO",
        "outputId": "9b32104f-1474-4fda-fa72-fe6df74a7066"
      },
      "outputs": [
        {
          "name": "stdout",
          "output_type": "stream",
          "text": [
            "<class 'pandas.core.frame.DataFrame'>\n",
            "RangeIndex: 10000 entries, 0 to 9999\n",
            "Data columns (total 14 columns):\n",
            "RowNumber          10000 non-null int64\n",
            "CustomerId         10000 non-null int64\n",
            "Surname            10000 non-null object\n",
            "CreditScore        10000 non-null int64\n",
            "Geography          10000 non-null object\n",
            "Gender             10000 non-null object\n",
            "Age                10000 non-null int64\n",
            "Tenure             9091 non-null float64\n",
            "Balance            10000 non-null float64\n",
            "NumOfProducts      10000 non-null int64\n",
            "HasCrCard          10000 non-null int64\n",
            "IsActiveMember     10000 non-null int64\n",
            "EstimatedSalary    10000 non-null float64\n",
            "Exited             10000 non-null int64\n",
            "dtypes: float64(3), int64(8), object(3)\n",
            "memory usage: 1.1+ MB\n"
          ]
        }
      ],
      "source": [
        "df.info()"
      ]
    },
    {
      "cell_type": "markdown",
      "metadata": {
        "id": "SZbpg0c5AdGP"
      },
      "source": [
        "- RowNumber, CustomerId,  Surname - идентифицируют клиента. Удалим их: нам хватит индексации пондас.\n",
        "- Geography и Gender - качественные признаки - применим OHE.\n",
        "- Tenure - может быть только целочисленным - изменим формат на int.\n",
        "- HasCrCard, IsActiveMember, Exited - должны стать булевыми значениями."
      ]
    },
    {
      "cell_type": "markdown",
      "source": [
        "- RowNumber, CustomerId, Surname - identify the customer. Let's delete them: indexing pondas is enough for us.\n",
        "- Geography and Gender - qualitative features - applicable OHE.\n",
        "- Tenure - can only be integer - change the format to int.\n",
        "- HasCrCard, IsActiveMember, Exited - must become boolean values."
      ],
      "metadata": {
        "id": "XrJ8-BCaI9cU"
      }
    },
    {
      "cell_type": "markdown",
      "metadata": {
        "id": "3p9Jie-2AdGQ"
      },
      "source": [
        "Посмотрим на уникальные значения столбца с пропущенными значениями.\n",
        "\n",
        "Let's look at the unique values of a column with missing values."
      ]
    },
    {
      "cell_type": "code",
      "execution_count": null,
      "metadata": {
        "id": "9PtdlWwVAdGQ",
        "outputId": "b9c27780-6d1f-4547-8b92-507255be296b"
      },
      "outputs": [
        {
          "data": {
            "text/plain": [
              "array([ 2.,  1.,  8.,  7.,  4.,  6.,  3., 10.,  5.,  9.,  0., nan])"
            ]
          },
          "execution_count": 97,
          "metadata": {},
          "output_type": "execute_result"
        }
      ],
      "source": [
        "df['Tenure'].unique()"
      ]
    },
    {
      "cell_type": "markdown",
      "metadata": {
        "id": "5370noO_AdGR"
      },
      "source": [
        "Заполним nan нулями, предполагая, что имущества у клиента действительно нет.\n",
        "\n",
        "Let's fill nan with zeros, assuming that the client really does not have any property."
      ]
    },
    {
      "cell_type": "markdown",
      "metadata": {
        "id": "ovGUJLcxAdGR"
      },
      "source": [
        "<a id='Step_3'></a>\n",
        "### 1.2. Подготовка данных.\n",
        "\n",
        "### 1.2. Data preparation."
      ]
    },
    {
      "cell_type": "code",
      "execution_count": null,
      "metadata": {
        "scrolled": false,
        "id": "x7udIAy4AdGS",
        "outputId": "a8a0a318-b0ad-4cbf-e897-0877a4e584d0"
      },
      "outputs": [
        {
          "data": {
            "text/html": [
              "<div>\n",
              "<style scoped>\n",
              "    .dataframe tbody tr th:only-of-type {\n",
              "        vertical-align: middle;\n",
              "    }\n",
              "\n",
              "    .dataframe tbody tr th {\n",
              "        vertical-align: top;\n",
              "    }\n",
              "\n",
              "    .dataframe thead th {\n",
              "        text-align: right;\n",
              "    }\n",
              "</style>\n",
              "<table border=\"1\" class=\"dataframe\">\n",
              "  <thead>\n",
              "    <tr style=\"text-align: right;\">\n",
              "      <th></th>\n",
              "      <th>CreditScore</th>\n",
              "      <th>Age</th>\n",
              "      <th>Tenure</th>\n",
              "      <th>Balance</th>\n",
              "      <th>NumOfProducts</th>\n",
              "      <th>HasCrCard</th>\n",
              "      <th>IsActiveMember</th>\n",
              "      <th>EstimatedSalary</th>\n",
              "      <th>Exited</th>\n",
              "      <th>Geography_Germany</th>\n",
              "      <th>Geography_Spain</th>\n",
              "      <th>Gender_Male</th>\n",
              "    </tr>\n",
              "  </thead>\n",
              "  <tbody>\n",
              "    <tr>\n",
              "      <td>0</td>\n",
              "      <td>619</td>\n",
              "      <td>42</td>\n",
              "      <td>2</td>\n",
              "      <td>0.00</td>\n",
              "      <td>1</td>\n",
              "      <td>True</td>\n",
              "      <td>True</td>\n",
              "      <td>101348.88</td>\n",
              "      <td>True</td>\n",
              "      <td>0</td>\n",
              "      <td>0</td>\n",
              "      <td>0</td>\n",
              "    </tr>\n",
              "    <tr>\n",
              "      <td>1</td>\n",
              "      <td>608</td>\n",
              "      <td>41</td>\n",
              "      <td>1</td>\n",
              "      <td>83807.86</td>\n",
              "      <td>1</td>\n",
              "      <td>False</td>\n",
              "      <td>True</td>\n",
              "      <td>112542.58</td>\n",
              "      <td>False</td>\n",
              "      <td>0</td>\n",
              "      <td>1</td>\n",
              "      <td>0</td>\n",
              "    </tr>\n",
              "    <tr>\n",
              "      <td>2</td>\n",
              "      <td>502</td>\n",
              "      <td>42</td>\n",
              "      <td>8</td>\n",
              "      <td>159660.80</td>\n",
              "      <td>3</td>\n",
              "      <td>True</td>\n",
              "      <td>False</td>\n",
              "      <td>113931.57</td>\n",
              "      <td>True</td>\n",
              "      <td>0</td>\n",
              "      <td>0</td>\n",
              "      <td>0</td>\n",
              "    </tr>\n",
              "    <tr>\n",
              "      <td>3</td>\n",
              "      <td>699</td>\n",
              "      <td>39</td>\n",
              "      <td>1</td>\n",
              "      <td>0.00</td>\n",
              "      <td>2</td>\n",
              "      <td>False</td>\n",
              "      <td>False</td>\n",
              "      <td>93826.63</td>\n",
              "      <td>False</td>\n",
              "      <td>0</td>\n",
              "      <td>0</td>\n",
              "      <td>0</td>\n",
              "    </tr>\n",
              "    <tr>\n",
              "      <td>4</td>\n",
              "      <td>850</td>\n",
              "      <td>43</td>\n",
              "      <td>2</td>\n",
              "      <td>125510.82</td>\n",
              "      <td>1</td>\n",
              "      <td>True</td>\n",
              "      <td>True</td>\n",
              "      <td>79084.10</td>\n",
              "      <td>False</td>\n",
              "      <td>0</td>\n",
              "      <td>1</td>\n",
              "      <td>0</td>\n",
              "    </tr>\n",
              "  </tbody>\n",
              "</table>\n",
              "</div>"
            ],
            "text/plain": [
              "   CreditScore  Age  Tenure    Balance  NumOfProducts  HasCrCard  \\\n",
              "0          619   42       2       0.00              1       True   \n",
              "1          608   41       1   83807.86              1      False   \n",
              "2          502   42       8  159660.80              3       True   \n",
              "3          699   39       1       0.00              2      False   \n",
              "4          850   43       2  125510.82              1       True   \n",
              "\n",
              "   IsActiveMember  EstimatedSalary  Exited  Geography_Germany  \\\n",
              "0            True        101348.88    True                  0   \n",
              "1            True        112542.58   False                  0   \n",
              "2           False        113931.57    True                  0   \n",
              "3           False         93826.63   False                  0   \n",
              "4            True         79084.10   False                  0   \n",
              "\n",
              "   Geography_Spain  Gender_Male  \n",
              "0                0            0  \n",
              "1                1            0  \n",
              "2                0            0  \n",
              "3                0            0  \n",
              "4                1            0  "
            ]
          },
          "execution_count": 98,
          "metadata": {},
          "output_type": "execute_result"
        }
      ],
      "source": [
        "# Удаляем столбцы RowNumber, CustomerId,  Surname.\n",
        "df.drop(['RowNumber', 'CustomerId',  'Surname'], axis=1, inplace=True)\n",
        "# Заполняем пропушенные значения в Tenure нулями и меняем ормат на int.\n",
        "df['Tenure'].fillna(0, inplace=True)\n",
        "df['Tenure'] = df['Tenure'].astype('int')\n",
        "# Меняем формат HasCrCard, IsActiveMember, Exited на bool.\n",
        "df['HasCrCard'] = df['HasCrCard'].astype('bool')\n",
        "df['IsActiveMember'] = df['IsActiveMember'].astype('bool')\n",
        "df['Exited'] = df['Exited'].astype('bool')\n",
        "# Применим OHE к Geography и Gender.\n",
        "df = pd.get_dummies(df, drop_first=True)\n",
        "# Выводим результат.\n",
        "df.head()"
      ]
    },
    {
      "cell_type": "markdown",
      "metadata": {
        "id": "zm_ykd5aAdGU"
      },
      "source": [
        "Создадим выборки для обучения, валидации и теста, перед этим отделив признаки от целевой переменной.\n",
        "\n",
        "Let's create samples for training, validation and test, before that, separating the features from the target variable."
      ]
    },
    {
      "cell_type": "code",
      "execution_count": null,
      "metadata": {
        "id": "0A-AJcJDAdGU"
      },
      "outputs": [],
      "source": [
        "y = df['Exited']\n",
        "X = df.drop(['Exited'], axis=1)"
      ]
    },
    {
      "cell_type": "code",
      "execution_count": null,
      "metadata": {
        "id": "y_H4Z_IVAdGV"
      },
      "outputs": [],
      "source": [
        "X_train, X_test, y_train, y_test = train_test_split(X, y, test_size=0.2, random_state=42, stratify=y)\n",
        "X_train, X_valid, y_train, y_valid = train_test_split(X_train, y_train, test_size=0.25, random_state=42, stratify=y_train)"
      ]
    },
    {
      "cell_type": "markdown",
      "metadata": {
        "id": "38OyWm3RAdGv"
      },
      "source": [
        "Мы делили выборки в два этапа. На первом мы разделили в пропорции 80% на 20%. Затем нам нужно от 80% отделить еще 20% от первоначальных 100%. Но если просто изъять 20% из оставшихся 80%, то число получится меньше чем нужно, поэтому нам надо было расчитать какой процент от 80% объектов равен 20% от 100% объектов. Для этого мы делим 80% объектов на 20%. Получаем 4. То есть нам нужно взять от 100% четвертую часть, что равно 25%. Результат:\n",
        "\n",
        "We divided the samples in two stages. At the first, we divided in proportion 80% by 20%. Then we need to separate another 20% from the original 100% from 80%. But if we simply remove 20% of the remaining 80%, then the number will turn out to be less than necessary, so we had to calculate what percentage of 80% of objects is equal to 20% of 100% of objects. To do this, we divide 80% of the objects by 20%. We get 4. That is, we need to take the fourth part from 100%, which is equal to 25%. Result:"
      ]
    },
    {
      "cell_type": "code",
      "execution_count": null,
      "metadata": {
        "id": "mRXEQxFSAdGv",
        "outputId": "9628c60a-1c1c-4182-e819-d16d950139a9"
      },
      "outputs": [
        {
          "name": "stdout",
          "output_type": "stream",
          "text": [
            "X_train 6000\n",
            "X_valid 2000\n",
            "X_test 2000\n"
          ]
        }
      ],
      "source": [
        "print('X_train', len(X_train))\n",
        "print('X_valid', len(X_valid))\n",
        "print('X_test', len(X_test))"
      ]
    },
    {
      "cell_type": "markdown",
      "metadata": {
        "id": "e6r0iGfqAdGw"
      },
      "source": [
        "Теперь у нас есть шесть частей сета.\n",
        "- Обучение: X_train, y_train.\n",
        "- Валидация: X_valid, y_valid\n",
        "- Тест: X_test, y_test"
      ]
    },
    {
      "cell_type": "markdown",
      "source": [
        "Now we have six parts of the set.\n",
        "- Training: X_train, y_train.\n",
        "- Validation: X_valid, y_valid\n",
        "- Test: X_test, y_test"
      ],
      "metadata": {
        "id": "Yw6W0RlNihGg"
      }
    },
    {
      "cell_type": "markdown",
      "metadata": {
        "id": "lMPgcsJRAdGw"
      },
      "source": [
        " ### Summary:\n",
        " На этом шаге мы познакомились с данными и провели некторые преобразования:\n",
        " - заполнили пропуски нулями в стобце Tenure;\n",
        " - зрименили OHE к Gender (теперь 1='male', 0='female') и Geography;\n",
        " - удалили нативную индексацию, id клиента и его фамилию;\n",
        " - привели переменные к нужным форматам."
      ]
    },
    {
      "cell_type": "markdown",
      "source": [
        "### Summary:\n",
        "  At this step, we got acquainted with the data and carried out some transformations:\n",
        "  - filled in the gaps with zeros in the Tenure column;\n",
        "  - applied OHE to Gender (now 1='male', 0='female') and Geography;\n",
        "  - removed native indexing, client id and last name;\n",
        "  - brought the variables to the required formats."
      ],
      "metadata": {
        "id": "QaIBXr0qil8y"
      }
    },
    {
      "cell_type": "markdown",
      "metadata": {
        "id": "afJd6jZ6AdGx"
      },
      "source": [
        "<a id='Step_4'></a>\n",
        "# 2. Исследование задачи\n",
        "\n",
        "# 2. Research the problem"
      ]
    },
    {
      "cell_type": "markdown",
      "metadata": {
        "id": "528ZLDz-AdGx"
      },
      "source": [
        "Посмотрим на баланc классов.\n",
        "\n",
        "Let's look at class balance."
      ]
    },
    {
      "cell_type": "code",
      "execution_count": null,
      "metadata": {
        "id": "jfCOi_zRAdGx",
        "outputId": "7d83f963-a1e3-4325-cc3f-8a4aec456c83"
      },
      "outputs": [
        {
          "data": {
            "text/plain": [
              "False    4777\n",
              "True     1223\n",
              "Name: Exited, dtype: int64"
            ]
          },
          "execution_count": 102,
          "metadata": {},
          "output_type": "execute_result"
        }
      ],
      "source": [
        "y_train.value_counts()"
      ]
    },
    {
      "cell_type": "markdown",
      "metadata": {
        "id": "2wJiEDd_AdGx"
      },
      "source": [
        "В выборке наблюдается дисбаланс классов. На этам шаге нам нужно построить на модели без учета этого факта.\n",
        "\n",
        "There is a class imbalance in the sample. At this step, we need to build on the model without taking this fact into account."
      ]
    },
    {
      "cell_type": "markdown",
      "metadata": {
        "id": "lxpZBuSlAdGy"
      },
      "source": [
        "<a id='Step_5'></a>\n",
        "### 2.1. Решающее дерево.\n",
        "\n",
        "### 2.1. Decision tree."
      ]
    },
    {
      "cell_type": "code",
      "execution_count": null,
      "metadata": {
        "scrolled": true,
        "id": "KS9K8RIgAdGy",
        "outputId": "c44b8418-2223-4e5e-ff71-2b44d8e0449e"
      },
      "outputs": [
        {
          "name": "stderr",
          "output_type": "stream",
          "text": [
            "/opt/conda/lib/python3.7/site-packages/sklearn/metrics/classification.py:1437: UndefinedMetricWarning: F-score is ill-defined and being set to 0.0 due to no predicted samples.\n",
            "  'precision', 'predicted', average, warn_for)\n",
            "/opt/conda/lib/python3.7/site-packages/sklearn/metrics/classification.py:1437: UndefinedMetricWarning: F-score is ill-defined and being set to 0.0 due to no predicted samples.\n",
            "  'precision', 'predicted', average, warn_for)\n"
          ]
        },
        {
          "data": {
            "text/html": [
              "<div>\n",
              "<style scoped>\n",
              "    .dataframe tbody tr th:only-of-type {\n",
              "        vertical-align: middle;\n",
              "    }\n",
              "\n",
              "    .dataframe tbody tr th {\n",
              "        vertical-align: top;\n",
              "    }\n",
              "\n",
              "    .dataframe thead th {\n",
              "        text-align: right;\n",
              "    }\n",
              "</style>\n",
              "<table border=\"1\" class=\"dataframe\">\n",
              "  <thead>\n",
              "    <tr style=\"text-align: right;\">\n",
              "      <th></th>\n",
              "      <th>max_depth</th>\n",
              "      <th>criterion</th>\n",
              "      <th>result</th>\n",
              "    </tr>\n",
              "  </thead>\n",
              "  <tbody>\n",
              "    <tr>\n",
              "      <td>9</td>\n",
              "      <td>5</td>\n",
              "      <td>entropy</td>\n",
              "      <td>0.513471</td>\n",
              "    </tr>\n",
              "    <tr>\n",
              "      <td>2</td>\n",
              "      <td>2</td>\n",
              "      <td>gini</td>\n",
              "      <td>0.500711</td>\n",
              "    </tr>\n",
              "    <tr>\n",
              "      <td>3</td>\n",
              "      <td>2</td>\n",
              "      <td>entropy</td>\n",
              "      <td>0.500711</td>\n",
              "    </tr>\n",
              "    <tr>\n",
              "      <td>8</td>\n",
              "      <td>5</td>\n",
              "      <td>gini</td>\n",
              "      <td>0.472973</td>\n",
              "    </tr>\n",
              "    <tr>\n",
              "      <td>6</td>\n",
              "      <td>4</td>\n",
              "      <td>gini</td>\n",
              "      <td>0.462585</td>\n",
              "    </tr>\n",
              "    <tr>\n",
              "      <td>4</td>\n",
              "      <td>3</td>\n",
              "      <td>gini</td>\n",
              "      <td>0.380952</td>\n",
              "    </tr>\n",
              "    <tr>\n",
              "      <td>7</td>\n",
              "      <td>4</td>\n",
              "      <td>entropy</td>\n",
              "      <td>0.355469</td>\n",
              "    </tr>\n",
              "    <tr>\n",
              "      <td>5</td>\n",
              "      <td>3</td>\n",
              "      <td>entropy</td>\n",
              "      <td>0.337812</td>\n",
              "    </tr>\n",
              "    <tr>\n",
              "      <td>0</td>\n",
              "      <td>1</td>\n",
              "      <td>gini</td>\n",
              "      <td>0.000000</td>\n",
              "    </tr>\n",
              "    <tr>\n",
              "      <td>1</td>\n",
              "      <td>1</td>\n",
              "      <td>entropy</td>\n",
              "      <td>0.000000</td>\n",
              "    </tr>\n",
              "  </tbody>\n",
              "</table>\n",
              "</div>"
            ],
            "text/plain": [
              "   max_depth criterion    result\n",
              "9          5   entropy  0.513471\n",
              "2          2      gini  0.500711\n",
              "3          2   entropy  0.500711\n",
              "8          5      gini  0.472973\n",
              "6          4      gini  0.462585\n",
              "4          3      gini  0.380952\n",
              "7          4   entropy  0.355469\n",
              "5          3   entropy  0.337812\n",
              "0          1      gini  0.000000\n",
              "1          1   entropy  0.000000"
            ]
          },
          "execution_count": 103,
          "metadata": {},
          "output_type": "execute_result"
        }
      ],
      "source": [
        "max_depth_list_tree = []\n",
        "criterion_list_tree = [] \n",
        "result_list_tree = []\n",
        "for max_depth in range(1,6):\n",
        "    for criterion in ('gini', 'entropy'):\n",
        "        model_tree = DecisionTreeClassifier(random_state=42, max_depth=max_depth, criterion=criterion)\n",
        "        model_tree.fit(X_train, y_train)\n",
        "        prediction = model_tree.predict(X_valid)\n",
        "        result = f1_score(y_valid, prediction)\n",
        "        max_depth_list_tree.append(max_depth)\n",
        "        criterion_list_tree.append(criterion)\n",
        "        result_list_tree.append(result)\n",
        "\n",
        "trees = pd.DataFrame(data={'max_depth' : max_depth_list_tree, 'criterion' : criterion_list_tree, 'result' : result_list_tree})\n",
        "trees.sort_values(by='result', ascending=False)"
      ]
    },
    {
      "cell_type": "markdown",
      "metadata": {
        "id": "6iW3RlYsAdGy"
      },
      "source": [
        "Маловато F1.\n",
        "\n",
        "Not enough F1."
      ]
    },
    {
      "cell_type": "markdown",
      "metadata": {
        "id": "z91uv7vfAdGy"
      },
      "source": [
        "<a id='Step_6'></a>\n",
        "### 2.2. Случайный лес. \n",
        "\n",
        "### 2.2. Random forest."
      ]
    },
    {
      "cell_type": "code",
      "execution_count": null,
      "metadata": {
        "scrolled": true,
        "id": "SwLJj8Z3AdGz",
        "outputId": "5c3b11cf-7698-4fff-fc14-d31919ea794b"
      },
      "outputs": [
        {
          "name": "stderr",
          "output_type": "stream",
          "text": [
            "/opt/conda/lib/python3.7/site-packages/sklearn/metrics/classification.py:1439: UndefinedMetricWarning: F-score is ill-defined and being set to 0.0 due to no true samples.\n",
            "  'recall', 'true', average, warn_for)\n",
            "/opt/conda/lib/python3.7/site-packages/sklearn/metrics/classification.py:1439: UndefinedMetricWarning: F-score is ill-defined and being set to 0.0 due to no true samples.\n",
            "  'recall', 'true', average, warn_for)\n",
            "/opt/conda/lib/python3.7/site-packages/sklearn/metrics/classification.py:1439: UndefinedMetricWarning: F-score is ill-defined and being set to 0.0 due to no true samples.\n",
            "  'recall', 'true', average, warn_for)\n",
            "/opt/conda/lib/python3.7/site-packages/sklearn/metrics/classification.py:1439: UndefinedMetricWarning: F-score is ill-defined and being set to 0.0 due to no true samples.\n",
            "  'recall', 'true', average, warn_for)\n",
            "/opt/conda/lib/python3.7/site-packages/sklearn/metrics/classification.py:1439: UndefinedMetricWarning: F-score is ill-defined and being set to 0.0 due to no true samples.\n",
            "  'recall', 'true', average, warn_for)\n",
            "/opt/conda/lib/python3.7/site-packages/sklearn/metrics/classification.py:1439: UndefinedMetricWarning: F-score is ill-defined and being set to 0.0 due to no true samples.\n",
            "  'recall', 'true', average, warn_for)\n",
            "/opt/conda/lib/python3.7/site-packages/sklearn/metrics/classification.py:1439: UndefinedMetricWarning: F-score is ill-defined and being set to 0.0 due to no true samples.\n",
            "  'recall', 'true', average, warn_for)\n",
            "/opt/conda/lib/python3.7/site-packages/sklearn/metrics/classification.py:1439: UndefinedMetricWarning: F-score is ill-defined and being set to 0.0 due to no true samples.\n",
            "  'recall', 'true', average, warn_for)\n",
            "/opt/conda/lib/python3.7/site-packages/sklearn/metrics/classification.py:1439: UndefinedMetricWarning: F-score is ill-defined and being set to 0.0 due to no true samples.\n",
            "  'recall', 'true', average, warn_for)\n",
            "/opt/conda/lib/python3.7/site-packages/sklearn/metrics/classification.py:1439: UndefinedMetricWarning: F-score is ill-defined and being set to 0.0 due to no true samples.\n",
            "  'recall', 'true', average, warn_for)\n",
            "/opt/conda/lib/python3.7/site-packages/sklearn/metrics/classification.py:1439: UndefinedMetricWarning: F-score is ill-defined and being set to 0.0 due to no true samples.\n",
            "  'recall', 'true', average, warn_for)\n",
            "/opt/conda/lib/python3.7/site-packages/sklearn/metrics/classification.py:1439: UndefinedMetricWarning: F-score is ill-defined and being set to 0.0 due to no true samples.\n",
            "  'recall', 'true', average, warn_for)\n",
            "/opt/conda/lib/python3.7/site-packages/sklearn/metrics/classification.py:1439: UndefinedMetricWarning: F-score is ill-defined and being set to 0.0 due to no true samples.\n",
            "  'recall', 'true', average, warn_for)\n",
            "/opt/conda/lib/python3.7/site-packages/sklearn/metrics/classification.py:1439: UndefinedMetricWarning: F-score is ill-defined and being set to 0.0 due to no true samples.\n",
            "  'recall', 'true', average, warn_for)\n",
            "/opt/conda/lib/python3.7/site-packages/sklearn/metrics/classification.py:1439: UndefinedMetricWarning: F-score is ill-defined and being set to 0.0 due to no true samples.\n",
            "  'recall', 'true', average, warn_for)\n",
            "/opt/conda/lib/python3.7/site-packages/sklearn/metrics/classification.py:1439: UndefinedMetricWarning: F-score is ill-defined and being set to 0.0 due to no true samples.\n",
            "  'recall', 'true', average, warn_for)\n",
            "/opt/conda/lib/python3.7/site-packages/sklearn/metrics/classification.py:1439: UndefinedMetricWarning: F-score is ill-defined and being set to 0.0 due to no true samples.\n",
            "  'recall', 'true', average, warn_for)\n",
            "/opt/conda/lib/python3.7/site-packages/sklearn/metrics/classification.py:1439: UndefinedMetricWarning: F-score is ill-defined and being set to 0.0 due to no true samples.\n",
            "  'recall', 'true', average, warn_for)\n"
          ]
        },
        {
          "data": {
            "text/html": [
              "<div>\n",
              "<style scoped>\n",
              "    .dataframe tbody tr th:only-of-type {\n",
              "        vertical-align: middle;\n",
              "    }\n",
              "\n",
              "    .dataframe tbody tr th {\n",
              "        vertical-align: top;\n",
              "    }\n",
              "\n",
              "    .dataframe thead th {\n",
              "        text-align: right;\n",
              "    }\n",
              "</style>\n",
              "<table border=\"1\" class=\"dataframe\">\n",
              "  <thead>\n",
              "    <tr style=\"text-align: right;\">\n",
              "      <th></th>\n",
              "      <th>max_depth</th>\n",
              "      <th>criterion</th>\n",
              "      <th>n_estimators</th>\n",
              "      <th>result</th>\n",
              "    </tr>\n",
              "  </thead>\n",
              "  <tbody>\n",
              "    <tr>\n",
              "      <td>81</td>\n",
              "      <td>5</td>\n",
              "      <td>entropy</td>\n",
              "      <td>10</td>\n",
              "      <td>0.473230</td>\n",
              "    </tr>\n",
              "    <tr>\n",
              "      <td>72</td>\n",
              "      <td>5</td>\n",
              "      <td>gini</td>\n",
              "      <td>10</td>\n",
              "      <td>0.473043</td>\n",
              "    </tr>\n",
              "    <tr>\n",
              "      <td>73</td>\n",
              "      <td>5</td>\n",
              "      <td>gini</td>\n",
              "      <td>20</td>\n",
              "      <td>0.438061</td>\n",
              "    </tr>\n",
              "    <tr>\n",
              "      <td>79</td>\n",
              "      <td>5</td>\n",
              "      <td>gini</td>\n",
              "      <td>80</td>\n",
              "      <td>0.437613</td>\n",
              "    </tr>\n",
              "    <tr>\n",
              "      <td>80</td>\n",
              "      <td>5</td>\n",
              "      <td>gini</td>\n",
              "      <td>90</td>\n",
              "      <td>0.429872</td>\n",
              "    </tr>\n",
              "  </tbody>\n",
              "</table>\n",
              "</div>"
            ],
            "text/plain": [
              "    max_depth criterion  n_estimators    result\n",
              "81          5   entropy            10  0.473230\n",
              "72          5      gini            10  0.473043\n",
              "73          5      gini            20  0.438061\n",
              "79          5      gini            80  0.437613\n",
              "80          5      gini            90  0.429872"
            ]
          },
          "execution_count": 104,
          "metadata": {},
          "output_type": "execute_result"
        }
      ],
      "source": [
        "max_depth_list_forest = []\n",
        "criterion_list_forest = [] \n",
        "n_estimators_list_forest = []\n",
        "result_list_forest = []\n",
        "for max_depth in range(1,6):\n",
        "    for criterion in ('gini', 'entropy'):\n",
        "        for n_estimators in range(10, 100, 10):\n",
        "            model_forest = RandomForestClassifier(random_state=42, max_depth=max_depth, criterion=criterion, \n",
        "                                                  n_estimators=n_estimators)\n",
        "            model_forest.fit(X_train, y_train)\n",
        "            prediction = model_forest.predict(X_valid)\n",
        "            result = f1_score(prediction, y_valid)\n",
        "            max_depth_list_forest.append(max_depth)\n",
        "            criterion_list_forest.append(criterion)\n",
        "            n_estimators_list_forest.append(n_estimators)\n",
        "            result_list_forest.append(result)\n",
        "forest = pd.DataFrame(data={'max_depth' : max_depth_list_forest, 'criterion' : criterion_list_forest, \n",
        "                            'n_estimators' : n_estimators_list_forest, 'result' : result_list_forest})\n",
        "forest.sort_values(by='result', ascending=False).head()"
      ]
    },
    {
      "cell_type": "markdown",
      "metadata": {
        "id": "mh913c6tAdGz"
      },
      "source": [
        "Тоже F-мера не дотягивает.\n",
        "\n",
        "Also F-measure falls short."
      ]
    },
    {
      "cell_type": "markdown",
      "metadata": {
        "id": "7W3qR9ifAdGz"
      },
      "source": [
        "<a id='Step_7'></a>\n",
        "### 3.3. Логистическая регрессия.\n",
        "\n",
        "### 3.3. logistic regression."
      ]
    },
    {
      "cell_type": "code",
      "execution_count": null,
      "metadata": {
        "id": "fjG9DIGdAdG0"
      },
      "outputs": [],
      "source": [
        "scaler = StandardScaler()\n",
        "scaler.fit(X_train)\n",
        "X_train_scaled = scaler.transform(X_train)\n",
        "X_valid_scaled = scaler.transform(X_valid) "
      ]
    },
    {
      "cell_type": "code",
      "execution_count": null,
      "metadata": {
        "id": "NDLmPGOFAdG1",
        "outputId": "91889d05-68c2-49b4-fc8c-4eba492a253a"
      },
      "outputs": [
        {
          "name": "stdout",
          "output_type": "stream",
          "text": [
            "0.3135135135135135\n"
          ]
        }
      ],
      "source": [
        "model_logit_scale = LogisticRegression(solver='liblinear')\n",
        "model_logit_scale.fit(X_train_scaled, y_train)\n",
        "prediction_logit_scale = model_logit_scale.predict(X_valid_scaled)\n",
        "result = f1_score(prediction_logit_scale, y_valid)\n",
        "print(result)"
      ]
    },
    {
      "cell_type": "markdown",
      "metadata": {
        "id": "GO5f8mxuAdG1"
      },
      "source": [
        "Ну а тут совсем мало. \n",
        "\n",
        "Well, there is very little."
      ]
    },
    {
      "cell_type": "markdown",
      "metadata": {
        "id": "CcWQWcZpAdG2"
      },
      "source": [
        "### Summary:\n",
        "На этом шаге мы испытали модели: решающее дерево, случайный лес, логистическая регрессия. Без учета дисбаласна. Получили неудоволитворительные результаты. В следующем шаге попробуем улучшить модель, учитывая этот факт. \n",
        "\n",
        "### Summary:\n",
        "At this step, we tested the models: decision tree, random forest, logistic regression. Disregarding imbalance. We got unsatisfactory results. In the next step, we will try to improve the model, taking into account this fact."
      ]
    },
    {
      "cell_type": "markdown",
      "metadata": {
        "id": "Fk3f9zbkAdG2"
      },
      "source": [
        "<a id='Step_8'></a>\n",
        "# 3. Борьба с дисбалансом\n",
        "\n",
        "# 3. Fight imbalance"
      ]
    },
    {
      "cell_type": "markdown",
      "metadata": {
        "id": "iXoBa8N2AdG2"
      },
      "source": [
        "В нашем распоряжении три интрумента борьбы с дисбалансом:\n",
        "- взвешивание классов\n",
        "- upsampling\n",
        "- downsampling"
      ]
    },
    {
      "cell_type": "markdown",
      "source": [
        "We have three tools at our disposal to deal with imbalances:\n",
        "- class weighting\n",
        "- upsampling\n",
        "-downsampling"
      ],
      "metadata": {
        "id": "Hv5DA_PFjqLX"
      }
    },
    {
      "cell_type": "markdown",
      "metadata": {
        "id": "TsjRby4_AdG3"
      },
      "source": [
        "Исходя из опыта полученного на тренажере, я выбираю случайный лес в качестве основной модели для модернизации и дальнейшего использования. "
      ]
    },
    {
      "cell_type": "markdown",
      "source": [
        "Based on the experience gained on the simulator, I choose a random forest as the main model for modernization and further use."
      ],
      "metadata": {
        "id": "0sv8Rwpejsxv"
      }
    },
    {
      "cell_type": "markdown",
      "metadata": {
        "id": "tUYNV4qEAdG3"
      },
      "source": [
        "<a id='Step_9'></a>\n",
        "### 3.1. Взвешивание классов.\n",
        "\n",
        "### 3.1. Class weighting."
      ]
    },
    {
      "cell_type": "code",
      "execution_count": null,
      "metadata": {
        "id": "y1y98QpeAdG3",
        "outputId": "6bb116f6-84f0-496a-b734-c293600d9dde"
      },
      "outputs": [
        {
          "data": {
            "text/html": [
              "<div>\n",
              "<style scoped>\n",
              "    .dataframe tbody tr th:only-of-type {\n",
              "        vertical-align: middle;\n",
              "    }\n",
              "\n",
              "    .dataframe tbody tr th {\n",
              "        vertical-align: top;\n",
              "    }\n",
              "\n",
              "    .dataframe thead th {\n",
              "        text-align: right;\n",
              "    }\n",
              "</style>\n",
              "<table border=\"1\" class=\"dataframe\">\n",
              "  <thead>\n",
              "    <tr style=\"text-align: right;\">\n",
              "      <th></th>\n",
              "      <th>max_depth</th>\n",
              "      <th>criterion</th>\n",
              "      <th>n_estimators</th>\n",
              "      <th>result</th>\n",
              "    </tr>\n",
              "  </thead>\n",
              "  <tbody>\n",
              "    <tr>\n",
              "      <td>165</td>\n",
              "      <td>10</td>\n",
              "      <td>gini</td>\n",
              "      <td>40</td>\n",
              "      <td>0.639024</td>\n",
              "    </tr>\n",
              "    <tr>\n",
              "      <td>166</td>\n",
              "      <td>10</td>\n",
              "      <td>gini</td>\n",
              "      <td>50</td>\n",
              "      <td>0.635697</td>\n",
              "    </tr>\n",
              "    <tr>\n",
              "      <td>167</td>\n",
              "      <td>10</td>\n",
              "      <td>gini</td>\n",
              "      <td>60</td>\n",
              "      <td>0.634804</td>\n",
              "    </tr>\n",
              "    <tr>\n",
              "      <td>177</td>\n",
              "      <td>10</td>\n",
              "      <td>entropy</td>\n",
              "      <td>70</td>\n",
              "      <td>0.634499</td>\n",
              "    </tr>\n",
              "    <tr>\n",
              "      <td>149</td>\n",
              "      <td>9</td>\n",
              "      <td>gini</td>\n",
              "      <td>60</td>\n",
              "      <td>0.634033</td>\n",
              "    </tr>\n",
              "  </tbody>\n",
              "</table>\n",
              "</div>"
            ],
            "text/plain": [
              "     max_depth criterion  n_estimators    result\n",
              "165         10      gini            40  0.639024\n",
              "166         10      gini            50  0.635697\n",
              "167         10      gini            60  0.634804\n",
              "177         10   entropy            70  0.634499\n",
              "149          9      gini            60  0.634033"
            ]
          },
          "execution_count": 107,
          "metadata": {},
          "output_type": "execute_result"
        }
      ],
      "source": [
        "max_depth_list_forest = []\n",
        "criterion_list_forest = [] \n",
        "n_estimators_list_forest = []\n",
        "result_list_forest = []\n",
        "for max_depth in range(1,12):\n",
        "    for criterion in ('gini', 'entropy'):\n",
        "        for n_estimators in range(10, 100, 10):\n",
        "            model_forest = RandomForestClassifier(random_state=42, max_depth=max_depth, criterion=criterion, \n",
        "                                                  n_estimators=n_estimators, class_weight='balanced')\n",
        "            model_forest.fit(X_train, y_train)\n",
        "            prediction = model_forest.predict(X_valid)\n",
        "            result = f1_score(prediction, y_valid)\n",
        "            max_depth_list_forest.append(max_depth)\n",
        "            criterion_list_forest.append(criterion)\n",
        "            n_estimators_list_forest.append(n_estimators)\n",
        "            result_list_forest.append(result)\n",
        "forest = pd.DataFrame(data={'max_depth' : max_depth_list_forest, 'criterion' : criterion_list_forest, \n",
        "                            'n_estimators' : n_estimators_list_forest, 'result' : result_list_forest})\n",
        "forest.sort_values(by='result', ascending=False).head()"
      ]
    },
    {
      "cell_type": "markdown",
      "metadata": {
        "id": "X2HbqmyXAdG4"
      },
      "source": [
        "<a id='Step_10'></a>\n",
        "### 3.2. Upsampling."
      ]
    },
    {
      "cell_type": "code",
      "execution_count": null,
      "metadata": {
        "id": "YnohC84GAdG4"
      },
      "outputs": [],
      "source": [
        "def upsample(features, target, repeat):\n",
        "    features_zeros = features[target == 0]\n",
        "    features_ones = features[target == 1]\n",
        "    target_zeros = target[target == 0]\n",
        "    target_ones = target[target == 1]\n",
        "    features_upsampled = pd.concat([features_zeros] + [features_ones] * repeat)\n",
        "    target_upsampled = pd.concat([target_zeros] + [target_ones] * repeat)\n",
        "    features_upsampled, target_upsampled = shuffle(\n",
        "        features_upsampled, target_upsampled, random_state=12345)\n",
        "    return features_upsampled, target_upsampled\n",
        "\n",
        "X_upsampled, y_upsampled = upsample(X_train, y_train, 4)"
      ]
    },
    {
      "cell_type": "code",
      "execution_count": null,
      "metadata": {
        "id": "l4gbGNFCAdG4",
        "outputId": "d3ee2ba0-a675-463a-f85f-ce12703e7167"
      },
      "outputs": [
        {
          "data": {
            "text/plain": [
              "True     4892\n",
              "False    4777\n",
              "Name: Exited, dtype: int64"
            ]
          },
          "execution_count": 109,
          "metadata": {},
          "output_type": "execute_result"
        }
      ],
      "source": [
        "y_upsampled.value_counts()"
      ]
    },
    {
      "cell_type": "code",
      "execution_count": null,
      "metadata": {
        "id": "Uc09TbINAdG5",
        "outputId": "fad8e182-b429-4c7c-9a93-53f4ff7e844f"
      },
      "outputs": [
        {
          "data": {
            "text/html": [
              "<div>\n",
              "<style scoped>\n",
              "    .dataframe tbody tr th:only-of-type {\n",
              "        vertical-align: middle;\n",
              "    }\n",
              "\n",
              "    .dataframe tbody tr th {\n",
              "        vertical-align: top;\n",
              "    }\n",
              "\n",
              "    .dataframe thead th {\n",
              "        text-align: right;\n",
              "    }\n",
              "</style>\n",
              "<table border=\"1\" class=\"dataframe\">\n",
              "  <thead>\n",
              "    <tr style=\"text-align: right;\">\n",
              "      <th></th>\n",
              "      <th>max_depth</th>\n",
              "      <th>criterion</th>\n",
              "      <th>n_estimators</th>\n",
              "      <th>result</th>\n",
              "    </tr>\n",
              "  </thead>\n",
              "  <tbody>\n",
              "    <tr>\n",
              "      <td>163</td>\n",
              "      <td>10</td>\n",
              "      <td>gini</td>\n",
              "      <td>20</td>\n",
              "      <td>0.634956</td>\n",
              "    </tr>\n",
              "    <tr>\n",
              "      <td>168</td>\n",
              "      <td>10</td>\n",
              "      <td>gini</td>\n",
              "      <td>70</td>\n",
              "      <td>0.634038</td>\n",
              "    </tr>\n",
              "    <tr>\n",
              "      <td>166</td>\n",
              "      <td>10</td>\n",
              "      <td>gini</td>\n",
              "      <td>50</td>\n",
              "      <td>0.633333</td>\n",
              "    </tr>\n",
              "    <tr>\n",
              "      <td>165</td>\n",
              "      <td>10</td>\n",
              "      <td>gini</td>\n",
              "      <td>40</td>\n",
              "      <td>0.632385</td>\n",
              "    </tr>\n",
              "    <tr>\n",
              "      <td>170</td>\n",
              "      <td>10</td>\n",
              "      <td>gini</td>\n",
              "      <td>90</td>\n",
              "      <td>0.631813</td>\n",
              "    </tr>\n",
              "  </tbody>\n",
              "</table>\n",
              "</div>"
            ],
            "text/plain": [
              "     max_depth criterion  n_estimators    result\n",
              "163         10      gini            20  0.634956\n",
              "168         10      gini            70  0.634038\n",
              "166         10      gini            50  0.633333\n",
              "165         10      gini            40  0.632385\n",
              "170         10      gini            90  0.631813"
            ]
          },
          "execution_count": 110,
          "metadata": {},
          "output_type": "execute_result"
        }
      ],
      "source": [
        "max_depth_list_forest = []\n",
        "criterion_list_forest = [] \n",
        "n_estimators_list_forest = []\n",
        "result_list_forest = []\n",
        "for max_depth in range(1,12):\n",
        "    for criterion in ('gini', 'entropy'):\n",
        "        for n_estimators in range(10, 100, 10):\n",
        "            model_forest = RandomForestClassifier(random_state=42, max_depth=max_depth, criterion=criterion, \n",
        "                                                  n_estimators=n_estimators)\n",
        "            model_forest.fit(X_upsampled, y_upsampled)\n",
        "            prediction = model_forest.predict(X_valid)\n",
        "            result = f1_score(prediction, y_valid)\n",
        "            max_depth_list_forest.append(max_depth)\n",
        "            criterion_list_forest.append(criterion)\n",
        "            n_estimators_list_forest.append(n_estimators)\n",
        "            result_list_forest.append(result)\n",
        "forest = pd.DataFrame(data={'max_depth' : max_depth_list_forest, 'criterion' : criterion_list_forest, \n",
        "                            'n_estimators' : n_estimators_list_forest, 'result' : result_list_forest})\n",
        "forest.sort_values(by='result', ascending=False).head()"
      ]
    },
    {
      "cell_type": "markdown",
      "metadata": {
        "id": "kk8hnkjFAdG5"
      },
      "source": [
        "<a id='Step_11'></a>\n",
        "### 3.3. Downsampling."
      ]
    },
    {
      "cell_type": "code",
      "execution_count": null,
      "metadata": {
        "id": "38cWw6ANAdG6"
      },
      "outputs": [],
      "source": [
        "def downsample(features, target, fraction):\n",
        "    features_zeros = features[target == 0]\n",
        "    features_ones = features[target == 1]\n",
        "    target_zeros = target[target == 0]\n",
        "    target_ones = target[target == 1]\n",
        "\n",
        "    features_downsampled = pd.concat(\n",
        "        [features_zeros.sample(frac=fraction, random_state=12345)] + [features_ones])\n",
        "    target_downsampled = pd.concat(\n",
        "        [target_zeros.sample(frac=fraction, random_state=12345)] + [target_ones])\n",
        "    \n",
        "    features_downsampled, target_downsampled = shuffle(\n",
        "        features_downsampled, target_downsampled, random_state=12345)\n",
        "    \n",
        "    return features_downsampled, target_downsampled\n",
        "\n",
        "X_downsampled, y_downsampled = downsample(X_train, y_train, 0.3)"
      ]
    },
    {
      "cell_type": "code",
      "execution_count": null,
      "metadata": {
        "id": "tMvIsErYAdG6",
        "outputId": "065ccbec-7c0b-43c2-8d64-2f65cf31fb3b"
      },
      "outputs": [
        {
          "data": {
            "text/plain": [
              "False    1433\n",
              "True     1223\n",
              "Name: Exited, dtype: int64"
            ]
          },
          "execution_count": 112,
          "metadata": {},
          "output_type": "execute_result"
        }
      ],
      "source": [
        "y_downsampled.value_counts()"
      ]
    },
    {
      "cell_type": "code",
      "execution_count": null,
      "metadata": {
        "id": "XIsv2MzDAdG6",
        "outputId": "f1936d71-cfd8-43a7-b0cb-9d7cb343201b"
      },
      "outputs": [
        {
          "data": {
            "text/html": [
              "<div>\n",
              "<style scoped>\n",
              "    .dataframe tbody tr th:only-of-type {\n",
              "        vertical-align: middle;\n",
              "    }\n",
              "\n",
              "    .dataframe tbody tr th {\n",
              "        vertical-align: top;\n",
              "    }\n",
              "\n",
              "    .dataframe thead th {\n",
              "        text-align: right;\n",
              "    }\n",
              "</style>\n",
              "<table border=\"1\" class=\"dataframe\">\n",
              "  <thead>\n",
              "    <tr style=\"text-align: right;\">\n",
              "      <th></th>\n",
              "      <th>max_depth</th>\n",
              "      <th>criterion</th>\n",
              "      <th>n_estimators</th>\n",
              "      <th>result</th>\n",
              "    </tr>\n",
              "  </thead>\n",
              "  <tbody>\n",
              "    <tr>\n",
              "      <td>142</td>\n",
              "      <td>8</td>\n",
              "      <td>entropy</td>\n",
              "      <td>80</td>\n",
              "      <td>0.626609</td>\n",
              "    </tr>\n",
              "    <tr>\n",
              "      <td>137</td>\n",
              "      <td>8</td>\n",
              "      <td>entropy</td>\n",
              "      <td>30</td>\n",
              "      <td>0.625922</td>\n",
              "    </tr>\n",
              "    <tr>\n",
              "      <td>141</td>\n",
              "      <td>8</td>\n",
              "      <td>entropy</td>\n",
              "      <td>70</td>\n",
              "      <td>0.625806</td>\n",
              "    </tr>\n",
              "    <tr>\n",
              "      <td>143</td>\n",
              "      <td>8</td>\n",
              "      <td>entropy</td>\n",
              "      <td>90</td>\n",
              "      <td>0.624867</td>\n",
              "    </tr>\n",
              "    <tr>\n",
              "      <td>161</td>\n",
              "      <td>9</td>\n",
              "      <td>entropy</td>\n",
              "      <td>90</td>\n",
              "      <td>0.623950</td>\n",
              "    </tr>\n",
              "  </tbody>\n",
              "</table>\n",
              "</div>"
            ],
            "text/plain": [
              "     max_depth criterion  n_estimators    result\n",
              "142          8   entropy            80  0.626609\n",
              "137          8   entropy            30  0.625922\n",
              "141          8   entropy            70  0.625806\n",
              "143          8   entropy            90  0.624867\n",
              "161          9   entropy            90  0.623950"
            ]
          },
          "execution_count": 113,
          "metadata": {},
          "output_type": "execute_result"
        }
      ],
      "source": [
        "max_depth_list_forest = []\n",
        "criterion_list_forest = [] \n",
        "n_estimators_list_forest = []\n",
        "result_list_forest = []\n",
        "for max_depth in range(1,12):\n",
        "    for criterion in ('gini', 'entropy'):\n",
        "        for n_estimators in range(10, 100, 10):\n",
        "            model_forest = RandomForestClassifier(random_state=42, max_depth=max_depth, criterion=criterion, \n",
        "                                                  n_estimators=n_estimators)\n",
        "            model_forest.fit(X_downsampled, y_downsampled)\n",
        "            prediction = model_forest.predict(X_valid)\n",
        "            result = f1_score(prediction, y_valid)\n",
        "            max_depth_list_forest.append(max_depth)\n",
        "            criterion_list_forest.append(criterion)\n",
        "            n_estimators_list_forest.append(n_estimators)\n",
        "            result_list_forest.append(result)\n",
        "forest = pd.DataFrame(data={'max_depth' : max_depth_list_forest, 'criterion' : criterion_list_forest, \n",
        "                            'n_estimators' : n_estimators_list_forest, 'result' : result_list_forest})\n",
        "forest.sort_values(by='result', ascending=False).head()"
      ]
    },
    {
      "cell_type": "markdown",
      "metadata": {
        "id": "e5djVYJoAdG7"
      },
      "source": [
        "### Summary:\n",
        "Лучше всего себя показал метод увеличение веса класса. Его и будем использовать на тесте."
      ]
    },
    {
      "cell_type": "markdown",
      "source": [
        "### Summary:\n",
        "The method of increasing the weight of the class showed itself best of all. We will use it in the test."
      ],
      "metadata": {
        "id": "jlGXji2ej43z"
      }
    },
    {
      "cell_type": "markdown",
      "metadata": {
        "id": "56bRmJvUAdG7"
      },
      "source": [
        "<a id='Step_12'></a>\n",
        "# 4. Тестирование модели\n",
        "\n",
        "# 4. Model testing"
      ]
    },
    {
      "cell_type": "code",
      "execution_count": null,
      "metadata": {
        "id": "jYMBYfe7AdG8",
        "outputId": "468261c1-147c-431d-b429-a91ad5c0944d"
      },
      "outputs": [
        {
          "name": "stdout",
          "output_type": "stream",
          "text": [
            "0.6117353308364545\n"
          ]
        }
      ],
      "source": [
        "model_forest = RandomForestClassifier(random_state=42, max_depth=11, criterion='entropy', \n",
        "                                                  n_estimators=60, class_weight='balanced')\n",
        "model_forest.fit(X_train, y_train)\n",
        "prediction = model_forest.predict(X_test)\n",
        "result = f1_score(prediction, y_test)\n",
        "print(result)"
      ]
    },
    {
      "cell_type": "markdown",
      "metadata": {
        "id": "Mnn_W9VPAdG8"
      },
      "source": [
        "Мы получи неплохой для этого задания результат.\n",
        "\n",
        "We get a good result for this task."
      ]
    },
    {
      "cell_type": "markdown",
      "metadata": {
        "id": "o_ufLHFJAdG8"
      },
      "source": [
        "Выведем матрицу ошибок: она нам еще пригодится.\n",
        "\n",
        "Let's derive the error matrix: it will still be useful to us."
      ]
    },
    {
      "cell_type": "code",
      "execution_count": null,
      "metadata": {
        "scrolled": true,
        "id": "vtjxt_3yAdG9",
        "outputId": "387040f9-5ad6-45ca-98ab-6c67e5fa9591"
      },
      "outputs": [
        {
          "data": {
            "text/plain": [
              "array([[1444,  149],\n",
              "       [ 162,  245]])"
            ]
          },
          "execution_count": 115,
          "metadata": {},
          "output_type": "execute_result"
        }
      ],
      "source": [
        "confusion_matrix(y_test, prediction)"
      ]
    },
    {
      "cell_type": "markdown",
      "metadata": {
        "id": "kjMjRt8eAdG9"
      },
      "source": [
        "Посмотрим на AUC-ROC кривую и ее площадь.\n",
        "\n",
        "Let's look at the AUC-ROC curve and its area."
      ]
    },
    {
      "cell_type": "code",
      "execution_count": null,
      "metadata": {
        "id": "F1_LkrMSAdG9",
        "outputId": "82ad21e4-6b4c-4434-f36a-dcce78b01db9"
      },
      "outputs": [
        {
          "name": "stdout",
          "output_type": "stream",
          "text": [
            "auc_roc: 0.8570373146644333\n"
          ]
        },
        {
          "data": {
            "image/png": "[encoded data removed]",
            "text/plain": [
              "<Figure size 432x288 with 1 Axes>"
            ]
          },
          "metadata": {
            "needs_background": "light"
          },
          "output_type": "display_data"
        }
      ],
      "source": [
        "probabilities_test = model_forest.predict_proba(X_test)\n",
        "probabilities_one_test = probabilities_test[:, 1]\n",
        "auc_roc = roc_auc_score(y_test, probabilities_one_test)\n",
        "print('auc_roc:', auc_roc)\n",
        "fpr, tpr, thresholds = roc_curve(y_test, probabilities_one_test) \n",
        "plt.figure()\n",
        "plt.plot(fpr, tpr)\n",
        "plt.xlim([0.0, 1.0])\n",
        "plt.ylim([0.0, 1.0])\n",
        "plt.xlabel('False Positive Rate')\n",
        "plt.ylabel('True Positive Rate')\n",
        "plt.title('ROC-кривая')\n",
        "plt.show() "
      ]
    },
    {
      "cell_type": "markdown",
      "metadata": {
        "id": "csE4H-s3AdG9"
      },
      "source": [
        "Мы получили значение auc-roc 0,86 - это намного лучше слуйчайной модели (0,5). Мы не зря старались). Так можно найти баланс между TPR и FPR. Но я предлагаю сделать это подбором порога, так как нам важно сохранить метрику на уровне 0,59.\n",
        "\n",
        "We got an auc-roc value of 0.86, which is much better than the random model (0.5). We have not tried in vain). So you can find a balance between TPR and FPR. But I suggest doing this by thresholding, since it is important for us to keep the metric at 0.59."
      ]
    },
    {
      "cell_type": "code",
      "execution_count": null,
      "metadata": {
        "id": "kPQqIaa1AdG-",
        "outputId": "964029e4-887f-4482-b65f-13f8d015be6b"
      },
      "outputs": [
        {
          "name": "stdout",
          "output_type": "stream",
          "text": [
            "Порог = 0.30 | Точность = 0.418, Полнота = 0.821, F1 = 0.554\n",
            "Порог = 0.31 | Точность = 0.427, Полнота = 0.801, F1 = 0.557\n",
            "Порог = 0.32 | Точность = 0.437, Полнота = 0.789, F1 = 0.563\n",
            "Порог = 0.33 | Точность = 0.450, Полнота = 0.776, F1 = 0.569\n",
            "Порог = 0.34 | Точность = 0.462, Полнота = 0.771, F1 = 0.578\n",
            "Порог = 0.35 | Точность = 0.472, Полнота = 0.764, F1 = 0.583\n",
            "Порог = 0.36 | Точность = 0.483, Полнота = 0.759, F1 = 0.590\n",
            "Порог = 0.37 | Точность = 0.482, Полнота = 0.740, F1 = 0.584\n",
            "Порог = 0.38 | Точность = 0.496, Полнота = 0.730, F1 = 0.590\n",
            "Порог = 0.39 | Точность = 0.507, Полнота = 0.725, F1 = 0.597\n",
            "Порог = 0.40 | Точность = 0.519, Полнота = 0.722, F1 = 0.604\n"
          ]
        }
      ],
      "source": [
        "for threshold in np.arange(0.3, 0.4, 0.01):\n",
        "    predicted_test = probabilities_one_test > threshold \n",
        "    precision = precision_score(y_test, predicted_test) \n",
        "    recall = recall_score(y_test, predicted_test) \n",
        "    f1 = f1_score(y_test, predicted_test) \n",
        "    print(\"Порог = {:.2f} | Точность = {:.3f}, Полнота = {:.3f}, F1 = {:.3f}\".format(\n",
        "        threshold, precision, recall, f1))"
      ]
    },
    {
      "cell_type": "markdown",
      "metadata": {
        "id": "Vh6URLR0AdG-"
      },
      "source": [
        "Я бы предложил компании поставить порог отсечения на 0.38, так мы промаксимизируем полноту при минимально допустимой F-мере. \n",
        "\n",
        "I would suggest to the company to set the cutoff to 0.38, so we will maximize recall with the minimum allowed F-measure."
      ]
    },
    {
      "cell_type": "code",
      "execution_count": null,
      "metadata": {
        "id": "FfX_asjiAdG-",
        "outputId": "986c7358-4eca-4fc6-9d2d-4a508674ff2d"
      },
      "outputs": [
        {
          "name": "stdout",
          "output_type": "stream",
          "text": [
            "0.5904572564612327\n"
          ]
        },
        {
          "data": {
            "text/plain": [
              "array([[1291,  302],\n",
              "       [ 110,  297]])"
            ]
          },
          "execution_count": 118,
          "metadata": {},
          "output_type": "execute_result"
        }
      ],
      "source": [
        "predicted_test = probabilities_one_test > 0.38\n",
        "print(f1_score(y_test, predicted_test))\n",
        "confusion_matrix(y_test, predicted_test)"
      ]
    },
    {
      "cell_type": "markdown",
      "metadata": {
        "id": "XjpH2B2qAdG-"
      },
      "source": [
        "Таким образом мы выявим большее колчество тех, кто может отказать. В этом случае, мы выявлил еще 40 таких клинетов (256 при стандартном пороге, 296 - при измененном). При этом, конечно, выросло и число FP. В нашем случае почти в два раза (со 165 до 309). Имея данные о стоимости привлечения нового клиента и стоймости \"обхаживания\" старого, можно решить стоит ли применять такой порог.\n",
        "\n",
        "Thus, we will identify a greater number of those who can refuse. In this case, we identified 40 more such clients (256 with the standard threshold, 296 with the modified threshold). At the same time, of course, the number of FPs also increased. In our case, almost twice (from 165 to 309). Given the cost of acquiring a new customer and the cost of wooing an old one, one can decide whether to apply such a threshold."
      ]
    },
    {
      "cell_type": "markdown",
      "metadata": {
        "id": "S_9S_fhYAdG_"
      },
      "source": [
        "### <div class=\"alert alert-info\">Второй способ тестрирования.</div>\n",
        "\n",
        "### <div class=\"alert alert-info\">Second way of testing.</div>"
      ]
    },
    {
      "cell_type": "markdown",
      "metadata": {
        "id": "fcC95OMHAdG_"
      },
      "source": [
        "Станадртизируем тестовую выборку.\n",
        "\n",
        "We standardize the test sample."
      ]
    },
    {
      "cell_type": "code",
      "execution_count": null,
      "metadata": {
        "id": "-HZo8POsAdG_"
      },
      "outputs": [],
      "source": [
        "X_test_scaled = scaler.transform(X_test) "
      ]
    },
    {
      "cell_type": "markdown",
      "metadata": {
        "id": "JoTeBC3dAdHA"
      },
      "source": [
        "Объединим обучающую и тестовую выборки.\n",
        "\n",
        "Combine the training and test sets."
      ]
    },
    {
      "cell_type": "code",
      "execution_count": null,
      "metadata": {
        "scrolled": true,
        "id": "lOoO78qJAdHA"
      },
      "outputs": [],
      "source": [
        "X_concatenated = np.concatenate((X_train_scaled, X_valid_scaled),axis=0)"
      ]
    },
    {
      "cell_type": "code",
      "execution_count": null,
      "metadata": {
        "id": "5BTyBtvoAdHA"
      },
      "outputs": [],
      "source": [
        "y_concatenated = np.concatenate((y_train, y_valid), axis=0)"
      ]
    },
    {
      "cell_type": "code",
      "execution_count": null,
      "metadata": {
        "id": "4qEEdscNAdHA",
        "outputId": "389a335f-3b12-4c0d-cfe5-e3575347c6c3"
      },
      "outputs": [
        {
          "name": "stdout",
          "output_type": "stream",
          "text": [
            "0.6181818181818183\n"
          ]
        }
      ],
      "source": [
        "model_forest = RandomForestClassifier(random_state=42, max_depth=11, criterion='entropy', \n",
        "                                                  n_estimators=60, class_weight='balanced')\n",
        "model_forest.fit(X_concatenated, y_concatenated)\n",
        "prediction = model_forest.predict(X_test_scaled)\n",
        "result = f1_score(prediction, y_test)\n",
        "print(result)"
      ]
    },
    {
      "cell_type": "markdown",
      "metadata": {
        "id": "dOViC0NHAdHA"
      },
      "source": [
        "Также получили неплохой результат.\n",
        "\n",
        "We also got good results."
      ]
    },
    {
      "cell_type": "markdown",
      "metadata": {
        "id": "e9dwrnndAdHA"
      },
      "source": [
        "### Общий вывод:\n",
        "- Мы изучили и подготовили данные;\n",
        "- Провели тест моделей без балансировки классов и выбрали случайный лес в качестве рабочей модели;\n",
        "- Провели тест способов балансировки для обучения моделей и выбрали метод взвешивания классов;\n",
        "- Испытали модель на тестовой выборке и получили результат чуть выше требуемого - 0.63 (F-мера);\n",
        "- Дали рекомендации по использованию модели (установление порога отсечения на уровне 0,38). \n",
        "\n",
        "### General conclusion:\n",
        "- We studied and prepared the data;\n",
        "- Conducted a test of models without class balancing and chose a random forest as a working model;\n",
        "- Conducted a test of balancing methods for training models and chose a class weighting method;\n",
        "- We tested the model on a test sample and got a result slightly higher than the required one - 0.63 (F-measure);\n",
        "- Gave recommendations on the use of the model (setting the cut-off threshold at 0.38)."
      ]
    }
  ],
  "metadata": {
    "kernelspec": {
      "display_name": "Python 3 (ipykernel)",
      "language": "python",
      "name": "python3"
    },
    "language_info": {
      "codemirror_mode": {
        "name": "ipython",
        "version": 3
      },
      "file_extension": ".py",
      "mimetype": "text/x-python",
      "name": "python",
      "nbconvert_exporter": "python",
      "pygments_lexer": "ipython3",
      "version": "3.9.5"
    },
    "toc": {
      "base_numbering": 1,
      "nav_menu": {},
      "number_sections": true,
      "sideBar": true,
      "skip_h1_title": true,
      "title_cell": "Table of Contents",
      "title_sidebar": "Contents",
      "toc_cell": false,
      "toc_position": {},
      "toc_section_display": true,
      "toc_window_display": false
    },
    "colab": {
      "name": "7th_project_customers_charn.ipynb",
      "provenance": []
    }
  },
  "nbformat": 4,
  "nbformat_minor": 0
}