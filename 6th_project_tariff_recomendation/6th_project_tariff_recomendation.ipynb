{
 "cells": [
  {
   "cell_type": "markdown",
   "metadata": {},
   "source": [
    "# Рекомендация тарифов"
   ]
  },
  {
   "cell_type": "markdown",
   "metadata": {},
   "source": [
    "# Tariff recommendation."
   ]
  },
  {
   "cell_type": "markdown",
   "metadata": {},
   "source": [
    "Многие клиенты сотового оператора пользуются архивными тарифами. Оператор хочет создать систему, которая сможет анализировать поведение клиентов и предложить им новые \n",
    "тарифы: «Смарт» или «Ультра».\n",
    "Нам доступны данные о поведение клиентов, которые уже используют эти тарифы. Необходимо построить модель классификации, способную подобрать нужный тариф.\n",
    "Нужно построить модель с максимальным значением accuracy (не менее 75%)."
   ]
  },
  {
   "cell_type": "markdown",
   "metadata": {},
   "source": [
    "Many customers of the mobile operator use archival tariffs. The operator wants to create a system that can analyze the behavior of customers and offer them new\n",
    "tariffs: \"Smart\" or \"Ultra\".\n",
    "We have access to data about the behavior of customers who are already using these tariffs. It is necessary to build a classification model that can select the desired tariff.\n",
    "It is necessary to build a model with a maximum accuracy value (at least 75%)."
   ]
  },
  {
   "cell_type": "markdown",
   "metadata": {},
   "source": [
    "### Параметры.\n",
    "- сalls — количество звонков,\n",
    "- minutes — суммарная длительность звонков в минутах,\n",
    "- messages — количество sms-сообщений,\n",
    "- mb_used — израсходованный интернет-трафик в Мб,\n",
    "- is_ultra — каким тарифом пользовался в течение месяца («Ультра» — 1, «Смарт» — 0)."
   ]
  },
  {
   "cell_type": "markdown",
   "metadata": {},
   "source": [
    "### Arguments.\n",
    "- calls — number of calls,\n",
    "- minutes — total duration of calls in minutes,\n",
    "- messages — number of sms messages,\n",
    "- mb_used - used Internet traffic in Mb,\n",
    "- is_ultra - what tariff did you use during the month (\"Ultra\" - 1, \"Smart\" - 0)."
   ]
  },
  {
   "cell_type": "markdown",
   "metadata": {},
   "source": [
    "# Оглавление."
   ]
  },
  {
   "cell_type": "markdown",
   "metadata": {},
   "source": [
    "- [Шаг 1. Изучение файла.](#Step_1)\n",
    "- [Шаг 2. Разбиение на выборки.](#Step_2)\n",
    "- [Шаг 3. Исследование моделей.](#Step_3)<br />\n",
    "[Пункт A. Дерево.](#Step_4) <br />\n",
    "[Пункт B. Случайный лес.](#Step_5) <br />\n",
    "[Пункт C. Логистическая регрессия.](#Step_6) <br />\n",
    "- [Шаг 3. Проверка модели на тестовой выборке.](#Step_7)<br />\n",
    "[Пункт E. Дерево.](#Step_8) <br />\n",
    "[Пункт F. Случайный лес.](#Step_9) <br />\n",
    "[Пункт G. Логистическая регрессия.](#Step_10) <br />\n",
    "- [Шаг 4. Проверка моделей на адекватность.](#Step_11) <br />"
   ]
  },
  {
   "cell_type": "markdown",
   "metadata": {},
   "source": [
    "# Table of contents."
   ]
  },
  {
   "cell_type": "markdown",
   "metadata": {},
   "source": [
    "- [Step 1. Examine the file.](#Step_1)\n",
    "- [Step 2. Dividing into samples.](#Step_2)\n",
    "- [Step 3. Explore models.](#Step_3)<br />\n",
    "[Item A. Tree.](#Step_4) <br />\n",
    "[Item B. Random forest.](#Step_5) <br />\n",
    "[Item C. Logistic regression.](#Step_6) <br />\n",
    "- [Step 3. Checking the model on the test set.](#Step_7)<br />\n",
    "[Item E. Tree.](#Step_8) <br />\n",
    "[Item F. Random forest.](#Step_9) <br />\n",
    "[Item G. Logistic regression.](#Step_10) <br />\n",
    "- [Step 4. Checking models for adequacy.](#Step_11) <br />"
   ]
  },
  {
   "cell_type": "markdown",
   "metadata": {},
   "source": [
    "<a id='Step_1'></a>\n",
    "## 1. Изучение файла.\n",
    "\n",
    "## 1. Examining the file."
   ]
  },
  {
   "cell_type": "markdown",
   "metadata": {},
   "source": [
    "Загружаем библиотеки.\n",
    "\n",
    "Loading libraries."
   ]
  },
  {
   "cell_type": "code",
   "execution_count": 265,
   "metadata": {},
   "outputs": [],
   "source": [
    "import pandas as pd\n",
    "import numpy as np\n",
    "import math \n",
    "from sklearn.model_selection import train_test_split \n",
    "from sklearn.linear_model import LogisticRegression \n",
    "from sklearn.ensemble import RandomForestClassifier \n",
    "from sklearn.tree import DecisionTreeClassifier\n",
    "from sklearn.metrics import accuracy_score"
   ]
  },
  {
   "cell_type": "markdown",
   "metadata": {},
   "source": [
    "Загружаем файл.\n",
    "\n",
    "Uploading a file."
   ]
  },
  {
   "cell_type": "code",
   "execution_count": 266,
   "metadata": {},
   "outputs": [],
   "source": [
    "df = pd.read_csv('/datasets/users_behavior.csv')"
   ]
  },
  {
   "cell_type": "code",
   "execution_count": 267,
   "metadata": {},
   "outputs": [
    {
     "data": {
      "text/html": [
       "<div>\n",
       "<style scoped>\n",
       "    .dataframe tbody tr th:only-of-type {\n",
       "        vertical-align: middle;\n",
       "    }\n",
       "\n",
       "    .dataframe tbody tr th {\n",
       "        vertical-align: top;\n",
       "    }\n",
       "\n",
       "    .dataframe thead th {\n",
       "        text-align: right;\n",
       "    }\n",
       "</style>\n",
       "<table border=\"1\" class=\"dataframe\">\n",
       "  <thead>\n",
       "    <tr style=\"text-align: right;\">\n",
       "      <th></th>\n",
       "      <th>calls</th>\n",
       "      <th>minutes</th>\n",
       "      <th>messages</th>\n",
       "      <th>mb_used</th>\n",
       "      <th>is_ultra</th>\n",
       "    </tr>\n",
       "  </thead>\n",
       "  <tbody>\n",
       "    <tr>\n",
       "      <td>0</td>\n",
       "      <td>40.0</td>\n",
       "      <td>311.90</td>\n",
       "      <td>83.0</td>\n",
       "      <td>19915.42</td>\n",
       "      <td>0</td>\n",
       "    </tr>\n",
       "    <tr>\n",
       "      <td>1</td>\n",
       "      <td>85.0</td>\n",
       "      <td>516.75</td>\n",
       "      <td>56.0</td>\n",
       "      <td>22696.96</td>\n",
       "      <td>0</td>\n",
       "    </tr>\n",
       "    <tr>\n",
       "      <td>2</td>\n",
       "      <td>77.0</td>\n",
       "      <td>467.66</td>\n",
       "      <td>86.0</td>\n",
       "      <td>21060.45</td>\n",
       "      <td>0</td>\n",
       "    </tr>\n",
       "    <tr>\n",
       "      <td>3</td>\n",
       "      <td>106.0</td>\n",
       "      <td>745.53</td>\n",
       "      <td>81.0</td>\n",
       "      <td>8437.39</td>\n",
       "      <td>1</td>\n",
       "    </tr>\n",
       "    <tr>\n",
       "      <td>4</td>\n",
       "      <td>66.0</td>\n",
       "      <td>418.74</td>\n",
       "      <td>1.0</td>\n",
       "      <td>14502.75</td>\n",
       "      <td>0</td>\n",
       "    </tr>\n",
       "  </tbody>\n",
       "</table>\n",
       "</div>"
      ],
      "text/plain": [
       "   calls  minutes  messages   mb_used  is_ultra\n",
       "0   40.0   311.90      83.0  19915.42         0\n",
       "1   85.0   516.75      56.0  22696.96         0\n",
       "2   77.0   467.66      86.0  21060.45         0\n",
       "3  106.0   745.53      81.0   8437.39         1\n",
       "4   66.0   418.74       1.0  14502.75         0"
      ]
     },
     "execution_count": 267,
     "metadata": {},
     "output_type": "execute_result"
    }
   ],
   "source": [
    "df.head()"
   ]
  },
  {
   "cell_type": "code",
   "execution_count": 268,
   "metadata": {
    "scrolled": true
   },
   "outputs": [
    {
     "name": "stdout",
     "output_type": "stream",
     "text": [
      "<class 'pandas.core.frame.DataFrame'>\n",
      "RangeIndex: 3214 entries, 0 to 3213\n",
      "Data columns (total 5 columns):\n",
      "calls       3214 non-null float64\n",
      "minutes     3214 non-null float64\n",
      "messages    3214 non-null float64\n",
      "mb_used     3214 non-null float64\n",
      "is_ultra    3214 non-null int64\n",
      "dtypes: float64(4), int64(1)\n",
      "memory usage: 125.7 KB\n"
     ]
    }
   ],
   "source": [
    "df.info()"
   ]
  },
  {
   "cell_type": "markdown",
   "metadata": {},
   "source": [
    "Посмотрим на баланс классов.\n",
    "\n",
    "Let's look at class balance."
   ]
  },
  {
   "cell_type": "code",
   "execution_count": 269,
   "metadata": {},
   "outputs": [
    {
     "data": {
      "text/html": [
       "<div>\n",
       "<style scoped>\n",
       "    .dataframe tbody tr th:only-of-type {\n",
       "        vertical-align: middle;\n",
       "    }\n",
       "\n",
       "    .dataframe tbody tr th {\n",
       "        vertical-align: top;\n",
       "    }\n",
       "\n",
       "    .dataframe thead th {\n",
       "        text-align: right;\n",
       "    }\n",
       "</style>\n",
       "<table border=\"1\" class=\"dataframe\">\n",
       "  <thead>\n",
       "    <tr style=\"text-align: right;\">\n",
       "      <th></th>\n",
       "      <th>calls</th>\n",
       "      <th>minutes</th>\n",
       "      <th>messages</th>\n",
       "      <th>mb_used</th>\n",
       "    </tr>\n",
       "    <tr>\n",
       "      <th>is_ultra</th>\n",
       "      <th></th>\n",
       "      <th></th>\n",
       "      <th></th>\n",
       "      <th></th>\n",
       "    </tr>\n",
       "  </thead>\n",
       "  <tbody>\n",
       "    <tr>\n",
       "      <td>0</td>\n",
       "      <td>2229</td>\n",
       "      <td>2229</td>\n",
       "      <td>2229</td>\n",
       "      <td>2229</td>\n",
       "    </tr>\n",
       "    <tr>\n",
       "      <td>1</td>\n",
       "      <td>985</td>\n",
       "      <td>985</td>\n",
       "      <td>985</td>\n",
       "      <td>985</td>\n",
       "    </tr>\n",
       "  </tbody>\n",
       "</table>\n",
       "</div>"
      ],
      "text/plain": [
       "          calls  minutes  messages  mb_used\n",
       "is_ultra                                   \n",
       "0          2229     2229      2229     2229\n",
       "1           985      985       985      985"
      ]
     },
     "execution_count": 269,
     "metadata": {},
     "output_type": "execute_result"
    }
   ],
   "source": [
    "df.groupby('is_ultra').count()"
   ]
  },
  {
   "cell_type": "markdown",
   "metadata": {},
   "source": [
    "Классы не сбалансированы: \"1\" более чем в два раза меньше чем \"0\".\n",
    "\n",
    "Classes are not balanced: \"1\" is more than half of \"0\"."
   ]
  },
  {
   "cell_type": "markdown",
   "metadata": {},
   "source": [
    "В нашем распоряжении датасет из 3214 уже подготовленных объектов. Классы не сбалансированы. \n",
    "\n",
    "We have a dataset of 3214 already prepared objects. The classes are not balanced."
   ]
  },
  {
   "cell_type": "markdown",
   "metadata": {},
   "source": [
    "<a id='Step_2'></a>\n",
    "## 2. Разделение данных на выборки\n",
    "\n",
    "## 2. Dividing the data into samples"
   ]
  },
  {
   "cell_type": "markdown",
   "metadata": {},
   "source": [
    "Разделим признаки.\n",
    "- is_ultra - зависимая переменная\n",
    "- остальные - регрессоры"
   ]
  },
  {
   "cell_type": "markdown",
   "metadata": {},
   "source": [
    "Let's share the symptoms.\n",
    "- is_ultra - dependent variable\n",
    "- the rest are regressors"
   ]
  },
  {
   "cell_type": "code",
   "execution_count": 270,
   "metadata": {},
   "outputs": [],
   "source": [
    "y = df['is_ultra']\n",
    "X = df.drop(['is_ultra'], axis=1)"
   ]
  },
  {
   "cell_type": "markdown",
   "metadata": {},
   "source": [
    "Разделим сет на обучающую, валидационную и тестовую выборки.\n",
    "- Обучаяющая - для подгонки модели (60% от сета).\n",
    "- Валидационная - для выбора лучшей модели (20% от сета).\n",
    "- Тестовая - для финальной проверки качества (20% от сета)."
   ]
  },
  {
   "cell_type": "markdown",
   "metadata": {},
   "source": [
    "We divide the set into training, validation and test sets.\n",
    "- Educational - to fit the model (60% of the set).\n",
    "- Validation - to select the best model (20% of the set).\n",
    "- Test - for the final quality check (20% of the set)."
   ]
  },
  {
   "cell_type": "code",
   "execution_count": 271,
   "metadata": {},
   "outputs": [],
   "source": [
    "X_train, X_test, y_train, y_test = train_test_split(X, y, test_size=0.2, random_state=42)\n",
    "X_train, X_valid, y_train, y_valid = train_test_split(X_train, y_train, test_size=0.25, random_state=42)"
   ]
  },
  {
   "cell_type": "markdown",
   "metadata": {},
   "source": [
    "Мы делили выборки в два этапа. На первом мы разделили в пропорции 80% на 20%. Затем нам нужно от 80% отделить еще 20% от первоначальных 100%. Но если просто изъять 20% из оставшихся 80%, то число получится меньше чем нужно, поэтому нам надо было расчитать какой процент от 80% объектов равен 20% от 100% объектов. Для этого мы делим 80% объектов на 20%. Получаем 4. То есть нам нужно взять от 100% четвертую часть, что равно 25%. Результат:"
   ]
  },
  {
   "cell_type": "markdown",
   "metadata": {},
   "source": [
    "We divided the samples in two stages. At the first, we divided in proportion 80% by 20%. Then we need to separate another 20% from the original 100% from 80%. But if we simply remove 20% of the remaining 80%, then the number will turn out to be less than necessary, so we had to calculate what percentage of 80% of objects is equal to 20% of 100% of objects. To do this, we divide 80% of the objects by 20%. We get 4. That is, we need to take the fourth part from 100%, which is equal to 25%. Result:"
   ]
  },
  {
   "cell_type": "code",
   "execution_count": 272,
   "metadata": {},
   "outputs": [
    {
     "name": "stdout",
     "output_type": "stream",
     "text": [
      "X_train 1928\n",
      "X_valid 643\n",
      "X_test 643\n"
     ]
    }
   ],
   "source": [
    "print('X_train', len(X_train))\n",
    "print('X_valid', len(X_valid))\n",
    "print('X_test', len(X_test))"
   ]
  },
  {
   "cell_type": "markdown",
   "metadata": {},
   "source": [
    "Теперь у нас есть шесть частей сета.\n",
    "- Обучение: X_train, y_train.\n",
    "- Валидация: X_valid, y_valid\n",
    "- Тест: X_test, y_test"
   ]
  },
  {
   "cell_type": "markdown",
   "metadata": {},
   "source": [
    "Now we have six parts of the set.\n",
    "- Training: X_train, y_train.\n",
    "- Validation: X_valid, y_valid\n",
    "- Test: X_test, y_test"
   ]
  },
  {
   "cell_type": "markdown",
   "metadata": {},
   "source": [
    "<a id='Step_3'></a>\n",
    "## 3. Исследование модели. \n",
    "\n",
    "## 3. Study of the model."
   ]
  },
  {
   "cell_type": "markdown",
   "metadata": {},
   "source": [
    "<a id='Step_4'></a>\n",
    "### Дерево.\n",
    "\n",
    "### Tree."
   ]
  },
  {
   "cell_type": "markdown",
   "metadata": {},
   "source": [
    "Будем экспериментировать с глубиной дерева и критерием.\n",
    "\n",
    "We will experiment with the depth of the tree and the criterion."
   ]
  },
  {
   "cell_type": "code",
   "execution_count": 273,
   "metadata": {
    "scrolled": true
   },
   "outputs": [
    {
     "data": {
      "text/html": [
       "<div>\n",
       "<style scoped>\n",
       "    .dataframe tbody tr th:only-of-type {\n",
       "        vertical-align: middle;\n",
       "    }\n",
       "\n",
       "    .dataframe tbody tr th {\n",
       "        vertical-align: top;\n",
       "    }\n",
       "\n",
       "    .dataframe thead th {\n",
       "        text-align: right;\n",
       "    }\n",
       "</style>\n",
       "<table border=\"1\" class=\"dataframe\">\n",
       "  <thead>\n",
       "    <tr style=\"text-align: right;\">\n",
       "      <th></th>\n",
       "      <th>max_depth</th>\n",
       "      <th>criterion</th>\n",
       "      <th>result</th>\n",
       "    </tr>\n",
       "  </thead>\n",
       "  <tbody>\n",
       "    <tr>\n",
       "      <td>9</td>\n",
       "      <td>5</td>\n",
       "      <td>entropy</td>\n",
       "      <td>0.791602</td>\n",
       "    </tr>\n",
       "    <tr>\n",
       "      <td>5</td>\n",
       "      <td>3</td>\n",
       "      <td>entropy</td>\n",
       "      <td>0.786936</td>\n",
       "    </tr>\n",
       "    <tr>\n",
       "      <td>7</td>\n",
       "      <td>4</td>\n",
       "      <td>entropy</td>\n",
       "      <td>0.785381</td>\n",
       "    </tr>\n",
       "    <tr>\n",
       "      <td>6</td>\n",
       "      <td>4</td>\n",
       "      <td>gini</td>\n",
       "      <td>0.780715</td>\n",
       "    </tr>\n",
       "    <tr>\n",
       "      <td>2</td>\n",
       "      <td>2</td>\n",
       "      <td>gini</td>\n",
       "      <td>0.774495</td>\n",
       "    </tr>\n",
       "    <tr>\n",
       "      <td>3</td>\n",
       "      <td>2</td>\n",
       "      <td>entropy</td>\n",
       "      <td>0.774495</td>\n",
       "    </tr>\n",
       "    <tr>\n",
       "      <td>4</td>\n",
       "      <td>3</td>\n",
       "      <td>gini</td>\n",
       "      <td>0.774495</td>\n",
       "    </tr>\n",
       "    <tr>\n",
       "      <td>8</td>\n",
       "      <td>5</td>\n",
       "      <td>gini</td>\n",
       "      <td>0.771384</td>\n",
       "    </tr>\n",
       "    <tr>\n",
       "      <td>0</td>\n",
       "      <td>1</td>\n",
       "      <td>gini</td>\n",
       "      <td>0.741835</td>\n",
       "    </tr>\n",
       "    <tr>\n",
       "      <td>1</td>\n",
       "      <td>1</td>\n",
       "      <td>entropy</td>\n",
       "      <td>0.741835</td>\n",
       "    </tr>\n",
       "  </tbody>\n",
       "</table>\n",
       "</div>"
      ],
      "text/plain": [
       "   max_depth criterion    result\n",
       "9          5   entropy  0.791602\n",
       "5          3   entropy  0.786936\n",
       "7          4   entropy  0.785381\n",
       "6          4      gini  0.780715\n",
       "2          2      gini  0.774495\n",
       "3          2   entropy  0.774495\n",
       "4          3      gini  0.774495\n",
       "8          5      gini  0.771384\n",
       "0          1      gini  0.741835\n",
       "1          1   entropy  0.741835"
      ]
     },
     "execution_count": 273,
     "metadata": {},
     "output_type": "execute_result"
    }
   ],
   "source": [
    "max_depth_list_tree = []\n",
    "criterion_list_tree = [] \n",
    "result_list_tree = []\n",
    "for max_depth in range(1,6):\n",
    "    for criterion in ('gini', 'entropy'):\n",
    "        model_tree = DecisionTreeClassifier(random_state=42, max_depth=max_depth, criterion=criterion)\n",
    "        model_tree.fit(X_train, y_train)\n",
    "        prediction = model_tree.predict(X_valid)\n",
    "        result = accuracy_score(prediction, y_valid)\n",
    "        max_depth_list_tree.append(max_depth)\n",
    "        criterion_list_tree.append(criterion)\n",
    "        result_list_tree.append(result)\n",
    "\n",
    "trees = pd.DataFrame(data={'max_depth' : max_depth_list_tree, 'criterion' : criterion_list_tree, 'result' : result_list_tree})\n",
    "trees.sort_values(by='result', ascending=False)"
   ]
  },
  {
   "cell_type": "markdown",
   "metadata": {},
   "source": [
    "Похоже, что лучше всего использовать дерево глубиной 5 по энтропийному критерию, если конечно, мы вообще выберем дерево в качетсве нашей модели.\n",
    "\n",
    "It seems to be best to use an entropy-deep 5 tree, if we choose a tree at all as our model."
   ]
  },
  {
   "cell_type": "markdown",
   "metadata": {},
   "source": [
    "<a id='Step_5'></a>\n",
    "### Деревянный ансамбль.\n",
    "\n",
    "### Wooden ensemble."
   ]
  },
  {
   "cell_type": "markdown",
   "metadata": {},
   "source": [
    "Здесь будем менять глубину, критерий и количество деревьев.\n",
    "\n",
    "Here we will change the depth, criterion and number of trees."
   ]
  },
  {
   "cell_type": "code",
   "execution_count": 274,
   "metadata": {},
   "outputs": [
    {
     "data": {
      "text/html": [
       "<div>\n",
       "<style scoped>\n",
       "    .dataframe tbody tr th:only-of-type {\n",
       "        vertical-align: middle;\n",
       "    }\n",
       "\n",
       "    .dataframe tbody tr th {\n",
       "        vertical-align: top;\n",
       "    }\n",
       "\n",
       "    .dataframe thead th {\n",
       "        text-align: right;\n",
       "    }\n",
       "</style>\n",
       "<table border=\"1\" class=\"dataframe\">\n",
       "  <thead>\n",
       "    <tr style=\"text-align: right;\">\n",
       "      <th></th>\n",
       "      <th>max_depth</th>\n",
       "      <th>criterion</th>\n",
       "      <th>n_estimators</th>\n",
       "      <th>result</th>\n",
       "    </tr>\n",
       "  </thead>\n",
       "  <tbody>\n",
       "    <tr>\n",
       "      <td>64</td>\n",
       "      <td>4</td>\n",
       "      <td>entropy</td>\n",
       "      <td>20</td>\n",
       "      <td>0.805599</td>\n",
       "    </tr>\n",
       "    <tr>\n",
       "      <td>80</td>\n",
       "      <td>5</td>\n",
       "      <td>gini</td>\n",
       "      <td>90</td>\n",
       "      <td>0.804044</td>\n",
       "    </tr>\n",
       "    <tr>\n",
       "      <td>55</td>\n",
       "      <td>4</td>\n",
       "      <td>gini</td>\n",
       "      <td>20</td>\n",
       "      <td>0.804044</td>\n",
       "    </tr>\n",
       "    <tr>\n",
       "      <td>57</td>\n",
       "      <td>4</td>\n",
       "      <td>gini</td>\n",
       "      <td>40</td>\n",
       "      <td>0.804044</td>\n",
       "    </tr>\n",
       "    <tr>\n",
       "      <td>78</td>\n",
       "      <td>5</td>\n",
       "      <td>gini</td>\n",
       "      <td>70</td>\n",
       "      <td>0.804044</td>\n",
       "    </tr>\n",
       "  </tbody>\n",
       "</table>\n",
       "</div>"
      ],
      "text/plain": [
       "    max_depth criterion  n_estimators    result\n",
       "64          4   entropy            20  0.805599\n",
       "80          5      gini            90  0.804044\n",
       "55          4      gini            20  0.804044\n",
       "57          4      gini            40  0.804044\n",
       "78          5      gini            70  0.804044"
      ]
     },
     "execution_count": 274,
     "metadata": {},
     "output_type": "execute_result"
    }
   ],
   "source": [
    "max_depth_list_forest = []\n",
    "criterion_list_forest = [] \n",
    "n_estimators_list_forest = []\n",
    "result_list_forest = []\n",
    "for max_depth in range(1,6):\n",
    "    for criterion in ('gini', 'entropy'):\n",
    "        for n_estimators in range(10, 100, 10):\n",
    "            model_forest = RandomForestClassifier(random_state=42, max_depth=max_depth, criterion=criterion, \n",
    "                                                  n_estimators=n_estimators)\n",
    "            model_forest.fit(X_train, y_train)\n",
    "            prediction = model_forest.predict(X_valid)\n",
    "            result = accuracy_score(prediction, y_valid)\n",
    "            max_depth_list_forest.append(max_depth)\n",
    "            criterion_list_forest.append(criterion)\n",
    "            n_estimators_list_forest.append(n_estimators)\n",
    "            result_list_forest.append(result)\n",
    "forest = pd.DataFrame(data={'max_depth' : max_depth_list_forest, 'criterion' : criterion_list_forest, \n",
    "                            'n_estimators' : n_estimators_list_forest, 'result' : result_list_forest})\n",
    "forest.sort_values(by='result', ascending=False).head()"
   ]
  },
  {
   "cell_type": "markdown",
   "metadata": {},
   "source": [
    "20 энтропийных деревьев глубиной 4 показывают лучший результат.\n",
    "\n",
    "20 entropy trees with a depth of 4 show the best result."
   ]
  },
  {
   "cell_type": "markdown",
   "metadata": {},
   "source": [
    "<a id='Step_6'></a>\n",
    "### Логистическая регрессия.\n",
    "\n",
    "### Logistic regression."
   ]
  },
  {
   "cell_type": "code",
   "execution_count": 275,
   "metadata": {
    "scrolled": true
   },
   "outputs": [
    {
     "name": "stdout",
     "output_type": "stream",
     "text": [
      "0.7216174183514774\n"
     ]
    },
    {
     "name": "stderr",
     "output_type": "stream",
     "text": [
      "/opt/conda/lib/python3.7/site-packages/sklearn/linear_model/logistic.py:432: FutureWarning: Default solver will be changed to 'lbfgs' in 0.22. Specify a solver to silence this warning.\n",
      "  FutureWarning)\n"
     ]
    }
   ],
   "source": [
    "model_logit = LogisticRegression(class_weight=None)\n",
    "model_logit.fit(X_train, y_train)\n",
    "prediction = model_logit.predict(X_valid)\n",
    "result = accuracy_score(prediction, y_valid)\n",
    "print(result)"
   ]
  },
  {
   "cell_type": "markdown",
   "metadata": {},
   "source": [
    "Плоховато.\n",
    "\n",
    "Too bad."
   ]
  },
  {
   "cell_type": "markdown",
   "metadata": {},
   "source": [
    "От чего бы нам не отмасштабировать параметры?\n",
    "\n",
    "Why don't we scale the parameters?"
   ]
  },
  {
   "cell_type": "code",
   "execution_count": 276,
   "metadata": {},
   "outputs": [],
   "source": [
    "from sklearn import preprocessing\n",
    "X_train_scaled = preprocessing.scale(X_train)\n",
    "X_valid_scaled = preprocessing.scale(X_valid)"
   ]
  },
  {
   "cell_type": "code",
   "execution_count": 277,
   "metadata": {},
   "outputs": [
    {
     "name": "stdout",
     "output_type": "stream",
     "text": [
      "0.7511664074650077\n"
     ]
    }
   ],
   "source": [
    "model_logit_scale = LogisticRegression(C = 1e9, class_weight = {1 : 0.8}, solver='lbfgs')\n",
    "model_logit_scale.fit(X_train_scaled, y_train)\n",
    "prediction_logit_scale = model_logit_scale.predict(X_valid_scaled)\n",
    "result = accuracy_score(prediction_logit_scale, y_valid)\n",
    "print(result)"
   ]
  },
  {
   "cell_type": "markdown",
   "metadata": {},
   "source": [
    "Ого, мы вытянули регрессию за 75. Ура! (парметры подбирал руками). \n",
    "\n",
    "Wow, we pulled out the regression for 75. Hooray! (parameters selected by hand)."
   ]
  },
  {
   "cell_type": "markdown",
   "metadata": {},
   "source": [
    "Посмотрим, где ошибается регрессия регрессия. \n",
    "\n",
    "Let's see where regression regression goes wrong."
   ]
  },
  {
   "cell_type": "code",
   "execution_count": 278,
   "metadata": {},
   "outputs": [
    {
     "data": {
      "text/html": [
       "<div>\n",
       "<style scoped>\n",
       "    .dataframe tbody tr th:only-of-type {\n",
       "        vertical-align: middle;\n",
       "    }\n",
       "\n",
       "    .dataframe tbody tr th {\n",
       "        vertical-align: top;\n",
       "    }\n",
       "\n",
       "    .dataframe thead th {\n",
       "        text-align: right;\n",
       "    }\n",
       "</style>\n",
       "<table border=\"1\" class=\"dataframe\">\n",
       "  <thead>\n",
       "    <tr style=\"text-align: right;\">\n",
       "      <th></th>\n",
       "      <th>calls</th>\n",
       "      <th>minutes</th>\n",
       "      <th>messages</th>\n",
       "      <th>mb_used</th>\n",
       "    </tr>\n",
       "    <tr>\n",
       "      <th>is_ultra</th>\n",
       "      <th></th>\n",
       "      <th></th>\n",
       "      <th></th>\n",
       "      <th></th>\n",
       "    </tr>\n",
       "  </thead>\n",
       "  <tbody>\n",
       "    <tr>\n",
       "      <td>0</td>\n",
       "      <td>8</td>\n",
       "      <td>8</td>\n",
       "      <td>8</td>\n",
       "      <td>8</td>\n",
       "    </tr>\n",
       "    <tr>\n",
       "      <td>1</td>\n",
       "      <td>152</td>\n",
       "      <td>152</td>\n",
       "      <td>152</td>\n",
       "      <td>152</td>\n",
       "    </tr>\n",
       "  </tbody>\n",
       "</table>\n",
       "</div>"
      ],
      "text/plain": [
       "          calls  minutes  messages  mb_used\n",
       "is_ultra                                   \n",
       "0             8        8         8        8\n",
       "1           152      152       152      152"
      ]
     },
     "execution_count": 278,
     "metadata": {},
     "output_type": "execute_result"
    }
   ],
   "source": [
    "y_valid_df = pd.DataFrame({'is_ultra' : y_valid})\n",
    "y_valid_df['default_index'] = y_valid_df.index\n",
    "y_valid_df.reset_index(drop=True, inplace=True)\n",
    "y_valid_df.head()\n",
    "wrong = []\n",
    "for i in range(len(prediction)):\n",
    "    if prediction_logit_scale[i] != y_valid_df['is_ultra'][i]:\n",
    "        wrong.append(y_valid_df['default_index'][i])\n",
    "df.iloc[wrong].groupby('is_ultra').count()"
   ]
  },
  {
   "cell_type": "markdown",
   "metadata": {},
   "source": [
    "Что не так с классом \"1\". В чем причина, я не знаю. \n",
    "\n",
    "What is wrong with class \"1\". What is the reason, I don't know."
   ]
  },
  {
   "cell_type": "markdown",
   "metadata": {},
   "source": [
    "А давайте и главную компоненту запихаем (прости господи). \n",
    "\n",
    "And let's stuff the main component (God forgive me)."
   ]
  },
  {
   "cell_type": "code",
   "execution_count": 279,
   "metadata": {},
   "outputs": [],
   "source": [
    "X_train_scaled_pca = X_train_scaled.copy()\n",
    "from sklearn.decomposition import PCA\n",
    "pca = PCA(n_components=1)\n",
    "X_train_scaled_pca = pca.fit_transform(X_train_scaled_pca)\n",
    "X_valid_scaled_pca = X_valid_scaled.copy()\n",
    "X_valid_scaled_pca = pca.fit_transform(X_valid_scaled_pca)"
   ]
  },
  {
   "cell_type": "code",
   "execution_count": 280,
   "metadata": {},
   "outputs": [
    {
     "name": "stdout",
     "output_type": "stream",
     "text": [
      "0.7542768273716952\n"
     ]
    }
   ],
   "source": [
    "model_logit_scale = LogisticRegression(class_weight = {1 : 1.1}, solver='lbfgs')\n",
    "model_logit_scale.fit(X_train_scaled_pca, y_train)\n",
    "prediction = model_logit_scale.predict(X_valid_scaled_pca)\n",
    "result = accuracy_score(prediction, y_valid)\n",
    "print(result)"
   ]
  },
  {
   "cell_type": "markdown",
   "metadata": {},
   "source": [
    "Стало еще немного лучше, но коэффициенты интерпретировать уже не выйдет. В общем, поигрались и хватит. \n",
    "\n",
    "It has become a little better, but the coefficients will no longer be interpreted. In general, play around and that's enough."
   ]
  },
  {
   "cell_type": "markdown",
   "metadata": {},
   "source": [
    "### Вывод.\n",
    "Все три модели показали достаточный уромень accuracy. Все три проверим на тестовой выборке.\n",
    "\n",
    "### Conclusion.\n",
    "All three models showed a sufficient level of accuracy. We will check all three on a test sample."
   ]
  },
  {
   "cell_type": "markdown",
   "metadata": {},
   "source": [
    "<a id='Step_7'></a>\n",
    "## 4. Проверим модель на тестовой выборке.\n",
    "\n",
    "## 4. Check the model on the test set."
   ]
  },
  {
   "cell_type": "markdown",
   "metadata": {},
   "source": [
    "<a id='Step_8'></a>\n",
    "### Дерево (глубины 5 и энтропийным критерием).\n",
    "\n",
    "### Tree (depth 5 and entropy criterion)."
   ]
  },
  {
   "cell_type": "code",
   "execution_count": 281,
   "metadata": {},
   "outputs": [
    {
     "name": "stdout",
     "output_type": "stream",
     "text": [
      "0.7993779160186625\n"
     ]
    }
   ],
   "source": [
    "model_tree_test = DecisionTreeClassifier(random_state=42, max_depth=5, criterion='entropy')\n",
    "model_tree_test.fit(X_train, y_train)\n",
    "prediction_tree_test = model_tree_test.predict(X_test)\n",
    "result_tree_test = accuracy_score(prediction_tree_test, y_test)\n",
    "print(result_tree_test)"
   ]
  },
  {
   "cell_type": "markdown",
   "metadata": {},
   "source": [
    "<a id='Step_19'></a>\n",
    "### Случайный лес (глубины 4, 20-ю деревьями и энтропийным критерием)\n",
    "\n",
    "### Random forest (depth 4, 20 trees and entropy criterion)"
   ]
  },
  {
   "cell_type": "code",
   "execution_count": 282,
   "metadata": {},
   "outputs": [
    {
     "name": "stdout",
     "output_type": "stream",
     "text": [
      "0.8118195956454122\n"
     ]
    }
   ],
   "source": [
    "model_forest_test = RandomForestClassifier(random_state=42, max_depth=4, criterion='entropy', n_estimators=20)\n",
    "model_forest_test.fit(X_train, y_train)\n",
    "prediction_forest_test = model_forest_test.predict(X_test)\n",
    "result_forest_test = accuracy_score(prediction_forest_test, y_test)\n",
    "print(result_forest_test)"
   ]
  },
  {
   "cell_type": "markdown",
   "metadata": {},
   "source": [
    "<a id='Step_10'></a>\n",
    "### Логистическая регрессия (отмасштабированые параметры, балансированная, регуляризация отключена, дефолтный solver). \n",
    "\n",
    "### Logistic regression (scaled parameters, balanced, regularization off, default solver)."
   ]
  },
  {
   "cell_type": "code",
   "execution_count": 283,
   "metadata": {},
   "outputs": [
    {
     "name": "stdout",
     "output_type": "stream",
     "text": [
      "0.7573872472783826\n"
     ]
    }
   ],
   "source": [
    "X_test_scaled = preprocessing.scale(X_test)\n",
    "model_logit_scale = LogisticRegression(C = 1e9, class_weight = {1 : 0.8}, solver='lbfgs')\n",
    "model_logit_scale.fit(X_train_scaled, y_train)\n",
    "prediction_logit_scale = model_logit_scale.predict(X_test_scaled)\n",
    "result = accuracy_score(prediction_logit_scale, y_test)\n",
    "print(result)"
   ]
  },
  {
   "cell_type": "markdown",
   "metadata": {},
   "source": [
    "### Вывод.\n",
    "- Мы добились необходимого результата всеми тремя моделями.\n",
    "- Хуже всех показала себя регрессия. Надо разбираться.\n",
    "- Оптимальным решением, из представленных моделей, являеется дерево. Оно быстрее всех и не сильно усутпает случайному лесу."
   ]
  },
  {
   "cell_type": "markdown",
   "metadata": {},
   "source": [
    "### Conclusion.\n",
    "- We have achieved the desired result with all three models.\n",
    "- Worst of all showed itself regression. Need to figure it out.\n",
    "- The optimal solution, from the presented models, is a tree. It is the fastest and is not much inferior to the random forest."
   ]
  }
 ],
 "metadata": {
  "kernelspec": {
   "display_name": "Python 3 (ipykernel)",
   "language": "python",
   "name": "python3"
  },
  "language_info": {
   "codemirror_mode": {
    "name": "ipython",
    "version": 3
   },
   "file_extension": ".py",
   "mimetype": "text/x-python",
   "name": "python",
   "nbconvert_exporter": "python",
   "pygments_lexer": "ipython3",
   "version": "3.9.5"
  },
  "toc": {
   "base_numbering": 1,
   "nav_menu": {},
   "number_sections": true,
   "sideBar": true,
   "skip_h1_title": false,
   "title_cell": "Table of Contents",
   "title_sidebar": "Contents",
   "toc_cell": false,
   "toc_position": {},
   "toc_section_display": true,
   "toc_window_display": false
  }
 },
 "nbformat": 4,
 "nbformat_minor": 2
}
