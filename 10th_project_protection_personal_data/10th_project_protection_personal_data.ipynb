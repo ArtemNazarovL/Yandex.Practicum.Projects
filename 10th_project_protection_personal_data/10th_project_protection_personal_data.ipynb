{
  "cells": [
    {
      "cell_type": "markdown",
      "metadata": {
        "id": "zOVSkNv9ymsS"
      },
      "source": [
        "# Защита персональных данных клиентов\n",
        "\n",
        "# Protection of personal data of clients"
      ]
    },
    {
      "cell_type": "markdown",
      "source": [
        "В этом проекте необходимо придумать как зашифровать личные данные клиентов, но при этом ссохранить возможность работы с этими данными в моделях машинного обучения. Подбирать наилучшую модель не требуется.\n",
        "\n",
        "In this project, you need to figure out how to encrypt the personal data of customers, but at the same time preserve the ability to work with this data in machine learning models. There is no need to select the best model."
      ],
      "metadata": {
        "id": "gcp61zU1z5Fw"
      }
    },
    {
      "cell_type": "markdown",
      "source": [
        "# Оглавление.\n",
        "- [Шаг 1. Загрузка данных.](#Step_1)\n",
        "- [Шаг 2. Умножение матриц.](#Step_2)<br />\n",
        "- [Шаг 3. Алгоритм преобразования.](#Step_3)<br />\n",
        "- [Шаг 4. Проверка алгоритма.](#Step_4)<br />"
      ],
      "metadata": {
        "id": "6pugMPLhzIwK"
      }
    },
    {
      "cell_type": "markdown",
      "source": [
        "# Table of contents.\n",
        "- [Step 1. Loading data.](#Step_1)\n",
        "- [Step 2. Matrix multiplication.](#Step_2)<br />\n",
        "- [Step 3. Conversion algorithm.](#Step_3)<br />\n",
        "- [Step 4. Checking the algorithm.](#Step_4)<br />"
      ],
      "metadata": {
        "id": "Sjwtje1nzG2y"
      }
    },
    {
      "cell_type": "markdown",
      "metadata": {
        "id": "cYHsp_idymsY"
      },
      "source": [
        "<a id='Step_1'></a>\n",
        "## 1. Загрузка данных"
      ]
    },
    {
      "cell_type": "code",
      "execution_count": null,
      "metadata": {
        "id": "fi9w4xw8ymsa"
      },
      "outputs": [],
      "source": [
        "import pandas as pd\n",
        "import numpy as np\n",
        "from sklearn.linear_model import LinearRegression\n",
        "from sklearn.metrics import r2_score\n",
        "from sklearn.model_selection import train_test_split"
      ]
    },
    {
      "cell_type": "code",
      "execution_count": null,
      "metadata": {
        "id": "bWUjt7dAymsc"
      },
      "outputs": [],
      "source": [
        "df = pd.read_csv('/datasets/insurance.csv')"
      ]
    },
    {
      "cell_type": "code",
      "execution_count": null,
      "metadata": {
        "id": "7xyrWdz2ymsc",
        "outputId": "6332210b-ca24-459a-b70e-962bbf65bcb7"
      },
      "outputs": [
        {
          "data": {
            "text/html": [
              "<div>\n",
              "<style scoped>\n",
              "    .dataframe tbody tr th:only-of-type {\n",
              "        vertical-align: middle;\n",
              "    }\n",
              "\n",
              "    .dataframe tbody tr th {\n",
              "        vertical-align: top;\n",
              "    }\n",
              "\n",
              "    .dataframe thead th {\n",
              "        text-align: right;\n",
              "    }\n",
              "</style>\n",
              "<table border=\"1\" class=\"dataframe\">\n",
              "  <thead>\n",
              "    <tr style=\"text-align: right;\">\n",
              "      <th></th>\n",
              "      <th>Пол</th>\n",
              "      <th>Возраст</th>\n",
              "      <th>Зарплата</th>\n",
              "      <th>Члены семьи</th>\n",
              "      <th>Страховые выплаты</th>\n",
              "    </tr>\n",
              "  </thead>\n",
              "  <tbody>\n",
              "    <tr>\n",
              "      <td>0</td>\n",
              "      <td>1</td>\n",
              "      <td>41.0</td>\n",
              "      <td>49600.0</td>\n",
              "      <td>1</td>\n",
              "      <td>0</td>\n",
              "    </tr>\n",
              "    <tr>\n",
              "      <td>1</td>\n",
              "      <td>0</td>\n",
              "      <td>46.0</td>\n",
              "      <td>38000.0</td>\n",
              "      <td>1</td>\n",
              "      <td>1</td>\n",
              "    </tr>\n",
              "    <tr>\n",
              "      <td>2</td>\n",
              "      <td>0</td>\n",
              "      <td>29.0</td>\n",
              "      <td>21000.0</td>\n",
              "      <td>0</td>\n",
              "      <td>0</td>\n",
              "    </tr>\n",
              "    <tr>\n",
              "      <td>3</td>\n",
              "      <td>0</td>\n",
              "      <td>21.0</td>\n",
              "      <td>41700.0</td>\n",
              "      <td>2</td>\n",
              "      <td>0</td>\n",
              "    </tr>\n",
              "    <tr>\n",
              "      <td>4</td>\n",
              "      <td>1</td>\n",
              "      <td>28.0</td>\n",
              "      <td>26100.0</td>\n",
              "      <td>0</td>\n",
              "      <td>0</td>\n",
              "    </tr>\n",
              "  </tbody>\n",
              "</table>\n",
              "</div>"
            ],
            "text/plain": [
              "   Пол  Возраст  Зарплата  Члены семьи  Страховые выплаты\n",
              "0    1     41.0   49600.0            1                  0\n",
              "1    0     46.0   38000.0            1                  1\n",
              "2    0     29.0   21000.0            0                  0\n",
              "3    0     21.0   41700.0            2                  0\n",
              "4    1     28.0   26100.0            0                  0"
            ]
          },
          "execution_count": 3,
          "metadata": {},
          "output_type": "execute_result"
        }
      ],
      "source": [
        "df.head()"
      ]
    },
    {
      "cell_type": "code",
      "execution_count": null,
      "metadata": {
        "scrolled": true,
        "id": "268fdEaCymse",
        "outputId": "d065b855-3aba-4287-fc68-c9fc0480b36c"
      },
      "outputs": [
        {
          "name": "stdout",
          "output_type": "stream",
          "text": [
            "<class 'pandas.core.frame.DataFrame'>\n",
            "RangeIndex: 5000 entries, 0 to 4999\n",
            "Data columns (total 5 columns):\n",
            "Пол                  5000 non-null int64\n",
            "Возраст              5000 non-null float64\n",
            "Зарплата             5000 non-null float64\n",
            "Члены семьи          5000 non-null int64\n",
            "Страховые выплаты    5000 non-null int64\n",
            "dtypes: float64(2), int64(3)\n",
            "memory usage: 195.4 KB\n"
          ]
        }
      ],
      "source": [
        "df.info()"
      ]
    },
    {
      "cell_type": "markdown",
      "metadata": {
        "id": "wm3b_Widymse"
      },
      "source": [
        "### Summary.\n",
        "Библотеки загружены, файл открывается. Можно эксперементировать."
      ]
    },
    {
      "cell_type": "markdown",
      "source": [
        "### Summary.\n",
        "Libraries are loaded, the file is opened. You can experiment."
      ],
      "metadata": {
        "id": "-MZ3zq1w0Ekh"
      }
    },
    {
      "cell_type": "markdown",
      "metadata": {
        "id": "0eFxDXumymsf"
      },
      "source": [
        "<a id='Step_2'></a>\n",
        "## 2. Умножение матриц\n",
        "\n",
        "## 2. Matrix multiplication"
      ]
    },
    {
      "cell_type": "markdown",
      "metadata": {
        "id": "dh4uvdlHymsg"
      },
      "source": [
        "Обозначения:\n",
        "\n",
        "- $X$ — матрица признаков (нулевой столбец состоит из единиц)\n",
        "\n",
        "- $y$ — вектор целевого признака\n",
        "\n",
        "- $P$ — матрица, на которую умножаются признаки\n",
        "\n",
        "- $w$ — вектор весов линейной регрессии (нулевой элемент равен сдвигу)"
      ]
    },
    {
      "cell_type": "markdown",
      "source": [
        "Designations:\n",
        "\n",
        "- $X$ - feature matrix (zero column consists of ones)\n",
        "\n",
        "- $y$ — target feature vector\n",
        "\n",
        "- $P$ is the matrix by which features are multiplied\n",
        "\n",
        "- $w$ — vector of linear regression weights (zero element equals shift)"
      ],
      "metadata": {
        "id": "NC5qOvN10f12"
      }
    },
    {
      "cell_type": "markdown",
      "metadata": {
        "id": "2T-XyQvXymsh"
      },
      "source": [
        "Предсказания:\n",
        "\n",
        "$$\n",
        "a = Xw\n",
        "$$\n",
        "\n",
        "Задача обучения:\n",
        "\n",
        "$$\n",
        "w = \\arg\\min_w MSE(Xw, y)\n",
        "$$\n",
        "\n",
        "Формула обучения:\n",
        "\n",
        "$$\n",
        "w = (X^T X)^{-1} X^T y\n",
        "$$"
      ]
    },
    {
      "cell_type": "markdown",
      "source": [
        "Predictions:\n",
        "\n",
        "$$\n",
        "a = Xw\n",
        "$$\n",
        "\n",
        "Learning objective:\n",
        "\n",
        "$$\n",
        "w = \\arg\\min_w MSE(Xw, y)\n",
        "$$\n",
        "\n",
        "Learning formula:\n",
        "\n",
        "$$\n",
        "w = (X^T X)^{-1} X^T y\n",
        "$$"
      ],
      "metadata": {
        "id": "b2CW93Hu0jdH"
      }
    },
    {
      "cell_type": "markdown",
      "metadata": {
        "id": "MnA9L0Ebymsi"
      },
      "source": [
        "Обратимая матрица всегда квадратная.\n",
        "1. Например, у нас есть единичная матрица. Она обратима. Матрица призакнов имеет размер - 5000 на 4. Значит, чтобы умножение матриц стало возможным, единичная матрица должна быть размера 4 на 4. В результате получится матрица 5000 на 4 с исходными значениями. Результат обучения не изменится.\n",
        "2. Допустим у нас есть случайная квадратная обратимая матрица размером 4 на 4. Умножение будет возможным, а размерность исходной матрицы не изменится. Результат, как это показано ниже, не изменится. В этом случае каждый i-ый j-ый элемент новой матрицы признаков будет является скалярным произведением i-ой строки исходной матрицы признаков и j-ого столбца случайной обратимой матрицы.\n",
        "3. Исходную матрицу нельзя умножить на матрицу размера отличного от 4 на 4, так как в этом случае умножение будет невозможным."
      ]
    },
    {
      "cell_type": "markdown",
      "source": [
        "An invertible matrix is ​​always square.\n",
        "1. For example, we have an identity matrix. She is reversible. The pattern matrix has a size of 5000 by 4. So, in order for matrix multiplication to be possible, the identity matrix must be 4 by 4. The result is a 5000 by 4 matrix with the original values. The learning outcome will not change.\n",
        "2. Suppose we have a random square invertible matrix of size 4 by 4. Multiplication will be possible, and the dimension of the original matrix will not change. The result, as shown below, will not change. In this case, each i-th j-th element of the new feature matrix will be the scalar product of the i-th row of the original feature matrix and the j-th column of the random invertible matrix.\n",
        "3. The original matrix cannot be multiplied by a matrix of size other than 4 by 4, since in this case the multiplication will be impossible."
      ],
      "metadata": {
        "id": "Lb8gWGlm2OZ-"
      }
    },
    {
      "cell_type": "markdown",
      "metadata": {
        "id": "gfAT_RPqymsi"
      },
      "source": [
        "## <div class=\"alert alert-info\"> Математическое обоснование.</div>\n",
        "\n",
        "##  <div class=\"alert alert-info\"> Mathematical reasoning.</div>"
      ]
    },
    {
      "cell_type": "markdown",
      "metadata": {
        "id": "DsKCynYPymsj"
      },
      "source": [
        "- R - случаяная обратимая матрица.\n",
        "- H - Зашифрованная матрица."
      ]
    },
    {
      "cell_type": "markdown",
      "source": [
        "- R is a random invertible matrix.\n",
        "- H - Encrypted matrix."
      ],
      "metadata": {
        "id": "iI8XdbQL2eZf"
      }
    },
    {
      "cell_type": "markdown",
      "metadata": {
        "id": "dcGjzFHqymsj"
      },
      "source": [
        "Предсказания после шифрования:\n",
        "$a = XRw$ или $a = Hw$"
      ]
    },
    {
      "cell_type": "markdown",
      "source": [
        "Predictions after encryption:\n",
        "$a = XRw$ or $a = Hw$"
      ],
      "metadata": {
        "id": "uMcKpVVR2pEb"
      }
    },
    {
      "cell_type": "markdown",
      "metadata": {
        "id": "4_49W5Kdymsj"
      },
      "source": [
        "Задача обучения после шифрования:\n",
        "\n",
        "$w = \\arg\\min_w MSE(XRw, y)$ или $w = \\arg\\min_w MSE(Hw, y)$"
      ]
    },
    {
      "cell_type": "markdown",
      "source": [
        "Learning task after encryption:\n",
        "\n",
        "$w = \\arg\\min_w MSE(XRw, y)$ or $w = \\arg\\min_w MSE(Hw, y)$"
      ],
      "metadata": {
        "id": "A9rGvjCn2sRS"
      }
    },
    {
      "cell_type": "markdown",
      "metadata": {
        "id": "tiqnjfu6ymsk"
      },
      "source": [
        "Формула обучения после шифрования:\n",
        "- сразу произведем замену $XR=H$\n",
        "- $w = (H^T H)^{-1} H^T y$\n"
      ]
    },
    {
      "cell_type": "markdown",
      "source": [
        "Learning formula after encryption:\n",
        "- immediately make the replacement $XR=H$\n",
        "- $w = (H^T H)^{-1} H^T y$"
      ],
      "metadata": {
        "id": "jRN_Hb5c2vBr"
      }
    },
    {
      "cell_type": "markdown",
      "metadata": {
        "id": "UL_B6FuBymsk"
      },
      "source": [
        "Таким образом, обучение и предсказания модели будут происходить не по исходной матрице, а по произвдеению исходной матрицы на случайную обратную матрицу. Веса в этом случай также изменятся, таким образом, чтобы MSE было минимальным, но уже для зашифрованной матрицы."
      ]
    },
    {
      "cell_type": "markdown",
      "source": [
        "Thus, the training and predictions of the model will occur not by the original matrix, but by the product of the original matrix by a random inverse matrix. The weights in this case will also change, so that the MSE is minimal, but for the encrypted matrix."
      ],
      "metadata": {
        "id": "tfejZA3u2yg6"
      }
    },
    {
      "cell_type": "markdown",
      "metadata": {
        "id": "HdTLOTJFymsl"
      },
      "source": [
        "### Рассмотрим пункт 2 более подробно.\n",
        "\n",
        "### Consider point 2 in more detail."
      ]
    },
    {
      "cell_type": "markdown",
      "metadata": {
        "id": "0Y8cEEE4ymsl"
      },
      "source": [
        "Обучим модель на имеющихся данных.\n",
        "\n",
        "Let's train the model on the available data."
      ]
    },
    {
      "cell_type": "code",
      "execution_count": null,
      "metadata": {
        "id": "GRi9jVPHymsl",
        "outputId": "c1dcf7c8-727f-4581-ea56-c122effd7a61"
      },
      "outputs": [
        {
          "name": "stdout",
          "output_type": "stream",
          "text": [
            "R2 при исходных параметрах: 0.43\n"
          ]
        }
      ],
      "source": [
        "features = df.drop(['Страховые выплаты'] , axis=1)\n",
        "target = df['Страховые выплаты']\n",
        "features_train, features_test, target_train, target_test = train_test_split(features, target, test_size=0.25, random_state=42)\n",
        "\n",
        "model = LinearRegression()\n",
        "model.fit(features_train, target_train)\n",
        "prediction = model.predict(features_test)\n",
        "print('R2 при исходных параметрах:', round(r2_score(target_test, prediction), 2))"
      ]
    },
    {
      "cell_type": "markdown",
      "source": [
        "R2 at initial parameters: 0.43"
      ],
      "metadata": {
        "id": "OOIuE9bP28tV"
      }
    },
    {
      "cell_type": "markdown",
      "metadata": {
        "id": "aRV_etlAymsl"
      },
      "source": [
        "Обучим модель умножив матрицу параметров на случайную обратимую матрицу.\n",
        "\n",
        "We train the model by multiplying the parameter matrix by a random invertible matrix."
      ]
    },
    {
      "cell_type": "code",
      "execution_count": null,
      "metadata": {
        "scrolled": true,
        "id": "D8UAlQZmymsm",
        "outputId": "5b49ba66-8dd7-4442-d54e-cf66237abcd7"
      },
      "outputs": [
        {
          "name": "stdout",
          "output_type": "stream",
          "text": [
            "R2 при измененных параметрах: 0.43\n"
          ]
        }
      ],
      "source": [
        "np.random.seed(1000)\n",
        "rand_matrix = np.random.random_sample((features.shape[1], features.shape[1]))\n",
        "features = features @ rand_matrix\n",
        "features_train, features_test, target_train, target_test = train_test_split(features, target, test_size=0.25, \n",
        "                                                                            random_state=42)\n",
        "\n",
        "model = LinearRegression()\n",
        "model.fit(features_train, target_train)\n",
        "prediction = model.predict(features_test)\n",
        "print('R2 при измененных параметрах:', round(r2_score(target_test, prediction), 2))"
      ]
    },
    {
      "cell_type": "markdown",
      "source": [
        "R2 with changed parameters: 0.43"
      ],
      "metadata": {
        "id": "d7aIgEAs3DLj"
      }
    },
    {
      "cell_type": "markdown",
      "metadata": {
        "id": "sawXyhPSymsm"
      },
      "source": [
        "Результат R2 остался тем же.\n",
        "\n",
        "The result of R2 remained the same."
      ]
    },
    {
      "cell_type": "markdown",
      "metadata": {
        "id": "HHupFs7Cymsn"
      },
      "source": [
        "<a id='Step_3'></a>\n",
        "## 3. Алгоритм преобразования\n",
        "\n",
        "## 3. Conversion algorithm"
      ]
    },
    {
      "cell_type": "markdown",
      "metadata": {
        "id": "vRIhQazeymsn"
      },
      "source": [
        "**Алгоритм**\n",
        "\n",
        "1. <div class=\"alert alert-info\"> Создадим случайную квадратную матрицу, предположив, что она обратима. Размер матрицы равен количеству столбцов исходной матрицы призанов.</div>\n",
        "2. <div class=\"alert alert-info\"> Выполним проверку обратимости матрицы.</div>\n",
        "3. <div class=\"alert alert-info\"> Умножим исходную матрицу на случайную.</div>\n",
        "4. <div class=\"alert alert-info\"> Получим результат: новая матрица с размерностью исходной и зашифрованными признаками.</div>"
      ]
    },
    {
      "cell_type": "markdown",
      "source": [
        "**Algorithm**\n",
        "\n",
        "1. <div class=\"alert alert-info\"> Let's create a random square matrix, assuming it's invertible. The size of the matrix is equal to the number of columns of the original prize matrix.</div>\n",
        "2. <div class=\"alert alert-info\"> Let's check the matrix invertibility.</div>\n",
        "3. <div class=\"alert alert-info\"> Multiply the original matrix by a random one.</div>\n",
        "4. <div class=\"alert alert-info\"> Get the result: a new matrix with the original dimension and encrypted features.</div>"
      ],
      "metadata": {
        "id": "O4uUPBxB3X2A"
      }
    },
    {
      "cell_type": "markdown",
      "metadata": {
        "id": "qJYOvZybymsn"
      },
      "source": [
        "**Обоснование**\n",
        "\n",
        "Как указано в пунтке 2, результат обучения линейной регрессии не изменится, при этом понять, что именно обозначает каждый столбец уже нельзя.\n",
        "\n",
        "**Rationale**\n",
        "\n",
        "As indicated in paragraph 2, the result of learning linear regression will not change, while it is no longer possible to understand what exactly each column means."
      ]
    },
    {
      "cell_type": "markdown",
      "metadata": {
        "id": "za8kl60tymsp"
      },
      "source": [
        "<a id='Step_4'></a>\n",
        "## 4. Проверка алгоритма\n",
        "\n",
        "## 4. Checking the algorithm"
      ]
    },
    {
      "cell_type": "markdown",
      "metadata": {
        "id": "Is5s_NTVymsp"
      },
      "source": [
        "<div class=\"alert alert-info\"> Нам удалось предложить рабочий алгоритм для шифроваия признаков, описывающих клиентов страховой компании. Для этого используется случайная обратимая матрица размера равному количеству признаков. Как было показано выше, качество работы линейной регрессии при этом не изменится. Расшифорвка матрицы происходит с помощью умножения зашифрованной матрицы на матрицу обратную к случайной.</div>"
      ]
    },
    {
      "cell_type": "markdown",
      "source": [
        "<div class=\"alert alert-info\"> We have been able to come up with a working algorithm for encrypting features that describe insurance company customers. For this, a random invertible matrix of size equal to the number of features is used. As shown above, the performance of linear regression will not change in this case. The matrix is deciphered by multiplying the encrypted matrix by the matrix inverse to the random one.</div>"
      ],
      "metadata": {
        "id": "Ss8GNWV63ijE"
      }
    }
  ],
  "metadata": {
    "kernelspec": {
      "display_name": "Python 3 (ipykernel)",
      "language": "python",
      "name": "python3"
    },
    "language_info": {
      "codemirror_mode": {
        "name": "ipython",
        "version": 3
      },
      "file_extension": ".py",
      "mimetype": "text/x-python",
      "name": "python",
      "nbconvert_exporter": "python",
      "pygments_lexer": "ipython3",
      "version": "3.9.5"
    },
    "toc": {
      "base_numbering": 1,
      "nav_menu": {},
      "number_sections": true,
      "sideBar": true,
      "skip_h1_title": false,
      "title_cell": "Table of Contents",
      "title_sidebar": "Contents",
      "toc_cell": false,
      "toc_position": {},
      "toc_section_display": true,
      "toc_window_display": false
    },
    "colab": {
      "name": "10th_project_protection_personal_data.ipynb",
      "provenance": []
    }
  },
  "nbformat": 4,
  "nbformat_minor": 0
}