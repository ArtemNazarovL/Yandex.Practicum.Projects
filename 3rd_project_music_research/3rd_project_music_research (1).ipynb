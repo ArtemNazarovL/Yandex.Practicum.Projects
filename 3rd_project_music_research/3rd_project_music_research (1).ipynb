{
 "cells": [
  {
   "cell_type": "markdown",
   "metadata": {},
   "source": [
    "<div class=\"alert alert-info\"></div>"
   ]
  },
  {
   "cell_type": "markdown",
   "metadata": {},
   "source": [
    "# Исследование объявлений о продаже квартир\n",
    "\n",
    "Сервисом Яндекс.Недвижимость предоставленны данные о продаже квартир в Санкт-Петербурге и ближайших к нему населенных пунктов за несколько лет. Необходимо научиться определять рыночную стоимость недвижимости. Задача - установить необходимые параметры, которые позволят построить систему способную отследить аномалии и мошейническую деятельность.\n",
    "\n",
    "Для каждого наблюдения доступны два вида данных: первый внесен пользователем, второй - получен на основе картографических данных автоматически (растояние до центр, аэропорта, парков или водоемов).\n",
    "\n",
    "# Study of ads for the sale of apartments\n",
    "\n",
    "The Yandex.Real Estate service provides data on the sale of apartments in St. Petersburg and the nearest settlements for several years. You need to learn how to determine the market value of real estate. The task is to establish the necessary parameters that will allow building a system capable of tracking anomalies and fraudulent activity.\n",
    "\n",
    "For each observation, two types of data are available: the first is entered by the user, the second is obtained automatically from cartographic data (distance to the center, airport, parks or water bodies)."
   ]
  },
  {
   "cell_type": "markdown",
   "metadata": {},
   "source": [
    "### <div class=\"alert alert-info\">Список переменных:</div>\n",
    "- airports_nearest — расстояние до ближайшего аэропорта в метрах (м)\n",
    "- balcony — число балконов\n",
    "- ceiling_height — высота потолков (м)\n",
    "- cityCenters_nearest — расстояние до центра города (м)\n",
    "- days_exposition — сколько дней было размещено объявление (от публикации до снятия)\n",
    "- first_day_exposition — дата публикации\n",
    "- floor — этаж\n",
    "- floors_total — всего этажей в доме\n",
    "- is_apartment — апартаменты (булев тип)\n",
    "- kitchen_area — площадь кухни в квадратных метрах (м²)\n",
    "- last_price — цена на момент снятия с публикации\n",
    "- living_area — жилая площадь в квадратных метрах(м²)\n",
    "- locality_name — название населённого пункта\n",
    "- open_plan — свободная планировка (булев тип)\n",
    "- parks_around3000 — число парков в радиусе 3 км\n",
    "- parks_nearest — расстояние до ближайшего парка (м)\n",
    "- ponds_around3000 — число водоёмов в радиусе 3 км\n",
    "- ponds_nearest — расстояние до ближайшего водоёма (м)\n",
    "- rooms — число комнат\n",
    "- studio — квартира-студия (булев тип)\n",
    "- total_area — площадь квартиры в квадратных метрах (м²)\n",
    "- total_images — число фотографий квартиры в объявлении"
   ]
  },
  {
   "cell_type": "markdown",
   "metadata": {},
   "source": [
    "### <div class=\"alert alert-info\">Variable list:</div>\n",
    "- airports_nearest - distance to the nearest airport in meters (m)\n",
    "- balcony — number of balconies\n",
    "- ceiling_height - ceiling height (m)\n",
    "- cityCenters_nearest - distance to the city center (m)\n",
    "- days_exposition - how many days the ad was placed (from publication to removal)\n",
    "- first_day_exposition — publication date\n",
    "- floor - floor\n",
    "- floors_total - total floors in the building\n",
    "- is_apartment - apartments (boolean type)\n",
    "- kitchen_area - kitchen area in square meters (m²)\n",
    "- last_price - price at the time of removal from publication\n",
    "- living_area - living area in square meters (m²)\n",
    "- locality_name - name of the locality\n",
    "- open_plan - free layout (boolean type)\n",
    "- parks_around3000 - number of parks within a 3 km radius\n",
    "- parks_nearest - distance to the nearest park (m)\n",
    "- ponds_around3000 - number of ponds within a radius of 3 km\n",
    "- ponds_nearest — distance to the nearest body of water (m)\n",
    "- rooms - number of rooms\n",
    "- studio - studio apartment (boolean type)\n",
    "- total_area - area of ​​the apartment in square meters (m²)\n",
    "- total_images - the number of photos of the apartment in the ad"
   ]
  },
  {
   "cell_type": "markdown",
   "metadata": {},
   "source": [
    "<div class=\"alert alert-info\">План исследования.</div>"
   ]
  },
  {
   "cell_type": "markdown",
   "metadata": {},
   "source": [
    "- [Шаг 1. Знакомство с данными.](#Step_1)\n",
    "- [Шаг 2. Предобработка данных.](#Step_2)\n",
    "- [Шаг 3. Дополнение данных.](#Step_3)\n",
    "- [Шаг 4. Исследовательский анализ данных.](#Step_4) <br />\n",
    "[Пункт A. Изучиние параметров: площадь, цена, число комнат, высота потолков.](#Step_5) <br />\n",
    "[Пункт B. Изучение времени продажи квартиры.](#Step_6) <br />\n",
    "[Пункт C. Изучение зависимости цены от параметров.](#Step_7) <br />\n",
    "[Пункт D. Ранжирование населенных пунктов.](#Step_8) <br />\n",
    "[Пункт E. Поиск области центра.](#Step_9) <br />\n",
    "[Пункт F. Изучение параметров квартир расположенных в центре.](#Step_10) <br />\n",
    "- [Шаг 5. Вывод.](#Step_11)\n",
    "\n"
   ]
  },
  {
   "cell_type": "markdown",
   "metadata": {},
   "source": [
    "- [Step 1. Getting to know the data.](#Step_1)\n",
    "- [Step 2. Data preprocessing.](#Step_2)\n",
    "- [Step 3. Add data.](#Step_3)\n",
    "- [Step 4. Exploratory data analysis.](#Step_4) <br />\n",
    "[Point A. Study parameters: area, price, number of rooms, ceiling height.](#Step_5) <br />\n",
    "[Point B. Studying the time of sale of the apartment.](#Step_6) <br />\n",
    "[Point C. Studying the dependence of price on parameters.](#Step_7) <br />\n",
    "[Point D. Ranking of settlements.](#Step_8) <br />\n",
    "[Point E. Search for the center area.](#Step_9) <br />\n",
    "[Point F. Studying the parameters of apartments located in the center.](#Step_10) <br />\n",
    "- [Step 5. Conclusion.](#Step_11)"
   ]
  },
  {
   "cell_type": "markdown",
   "metadata": {},
   "source": [
    "<a id='Step_1'></a>\n",
    "### Шаг 1. Изучение общей информации. \n",
    "\n",
    "### Step 1. Studying the general information."
   ]
  },
  {
   "cell_type": "code",
   "execution_count": 1,
   "metadata": {
    "scrolled": false
   },
   "outputs": [
    {
     "data": {
      "text/html": [
       "<div>\n",
       "<style scoped>\n",
       "    .dataframe tbody tr th:only-of-type {\n",
       "        vertical-align: middle;\n",
       "    }\n",
       "\n",
       "    .dataframe tbody tr th {\n",
       "        vertical-align: top;\n",
       "    }\n",
       "\n",
       "    .dataframe thead th {\n",
       "        text-align: right;\n",
       "    }\n",
       "</style>\n",
       "<table border=\"1\" class=\"dataframe\">\n",
       "  <thead>\n",
       "    <tr style=\"text-align: right;\">\n",
       "      <th></th>\n",
       "      <th>total_images</th>\n",
       "      <th>last_price</th>\n",
       "      <th>total_area</th>\n",
       "      <th>first_day_exposition</th>\n",
       "      <th>rooms</th>\n",
       "      <th>ceiling_height</th>\n",
       "      <th>floors_total</th>\n",
       "      <th>living_area</th>\n",
       "      <th>floor</th>\n",
       "      <th>is_apartment</th>\n",
       "      <th>...</th>\n",
       "      <th>kitchen_area</th>\n",
       "      <th>balcony</th>\n",
       "      <th>locality_name</th>\n",
       "      <th>airports_nearest</th>\n",
       "      <th>cityCenters_nearest</th>\n",
       "      <th>parks_around3000</th>\n",
       "      <th>parks_nearest</th>\n",
       "      <th>ponds_around3000</th>\n",
       "      <th>ponds_nearest</th>\n",
       "      <th>days_exposition</th>\n",
       "    </tr>\n",
       "  </thead>\n",
       "  <tbody>\n",
       "    <tr>\n",
       "      <td>0</td>\n",
       "      <td>20</td>\n",
       "      <td>13000000.0</td>\n",
       "      <td>108.0</td>\n",
       "      <td>2019-03-07T00:00:00</td>\n",
       "      <td>3</td>\n",
       "      <td>2.70</td>\n",
       "      <td>16.0</td>\n",
       "      <td>51.0</td>\n",
       "      <td>8</td>\n",
       "      <td>NaN</td>\n",
       "      <td>...</td>\n",
       "      <td>25.0</td>\n",
       "      <td>NaN</td>\n",
       "      <td>Санкт-Петербург</td>\n",
       "      <td>18863.0</td>\n",
       "      <td>16028.0</td>\n",
       "      <td>1.0</td>\n",
       "      <td>482.0</td>\n",
       "      <td>2.0</td>\n",
       "      <td>755.0</td>\n",
       "      <td>NaN</td>\n",
       "    </tr>\n",
       "    <tr>\n",
       "      <td>1</td>\n",
       "      <td>7</td>\n",
       "      <td>3350000.0</td>\n",
       "      <td>40.4</td>\n",
       "      <td>2018-12-04T00:00:00</td>\n",
       "      <td>1</td>\n",
       "      <td>NaN</td>\n",
       "      <td>11.0</td>\n",
       "      <td>18.6</td>\n",
       "      <td>1</td>\n",
       "      <td>NaN</td>\n",
       "      <td>...</td>\n",
       "      <td>11.0</td>\n",
       "      <td>2.0</td>\n",
       "      <td>посёлок Шушары</td>\n",
       "      <td>12817.0</td>\n",
       "      <td>18603.0</td>\n",
       "      <td>0.0</td>\n",
       "      <td>NaN</td>\n",
       "      <td>0.0</td>\n",
       "      <td>NaN</td>\n",
       "      <td>81.0</td>\n",
       "    </tr>\n",
       "    <tr>\n",
       "      <td>2</td>\n",
       "      <td>10</td>\n",
       "      <td>5196000.0</td>\n",
       "      <td>56.0</td>\n",
       "      <td>2015-08-20T00:00:00</td>\n",
       "      <td>2</td>\n",
       "      <td>NaN</td>\n",
       "      <td>5.0</td>\n",
       "      <td>34.3</td>\n",
       "      <td>4</td>\n",
       "      <td>NaN</td>\n",
       "      <td>...</td>\n",
       "      <td>8.3</td>\n",
       "      <td>0.0</td>\n",
       "      <td>Санкт-Петербург</td>\n",
       "      <td>21741.0</td>\n",
       "      <td>13933.0</td>\n",
       "      <td>1.0</td>\n",
       "      <td>90.0</td>\n",
       "      <td>2.0</td>\n",
       "      <td>574.0</td>\n",
       "      <td>558.0</td>\n",
       "    </tr>\n",
       "    <tr>\n",
       "      <td>3</td>\n",
       "      <td>0</td>\n",
       "      <td>64900000.0</td>\n",
       "      <td>159.0</td>\n",
       "      <td>2015-07-24T00:00:00</td>\n",
       "      <td>3</td>\n",
       "      <td>NaN</td>\n",
       "      <td>14.0</td>\n",
       "      <td>NaN</td>\n",
       "      <td>9</td>\n",
       "      <td>NaN</td>\n",
       "      <td>...</td>\n",
       "      <td>NaN</td>\n",
       "      <td>0.0</td>\n",
       "      <td>Санкт-Петербург</td>\n",
       "      <td>28098.0</td>\n",
       "      <td>6800.0</td>\n",
       "      <td>2.0</td>\n",
       "      <td>84.0</td>\n",
       "      <td>3.0</td>\n",
       "      <td>234.0</td>\n",
       "      <td>424.0</td>\n",
       "    </tr>\n",
       "    <tr>\n",
       "      <td>4</td>\n",
       "      <td>2</td>\n",
       "      <td>10000000.0</td>\n",
       "      <td>100.0</td>\n",
       "      <td>2018-06-19T00:00:00</td>\n",
       "      <td>2</td>\n",
       "      <td>3.03</td>\n",
       "      <td>14.0</td>\n",
       "      <td>32.0</td>\n",
       "      <td>13</td>\n",
       "      <td>NaN</td>\n",
       "      <td>...</td>\n",
       "      <td>41.0</td>\n",
       "      <td>NaN</td>\n",
       "      <td>Санкт-Петербург</td>\n",
       "      <td>31856.0</td>\n",
       "      <td>8098.0</td>\n",
       "      <td>2.0</td>\n",
       "      <td>112.0</td>\n",
       "      <td>1.0</td>\n",
       "      <td>48.0</td>\n",
       "      <td>121.0</td>\n",
       "    </tr>\n",
       "  </tbody>\n",
       "</table>\n",
       "<p>5 rows × 22 columns</p>\n",
       "</div>"
      ],
      "text/plain": [
       "   total_images  last_price  total_area first_day_exposition  rooms  \\\n",
       "0            20  13000000.0       108.0  2019-03-07T00:00:00      3   \n",
       "1             7   3350000.0        40.4  2018-12-04T00:00:00      1   \n",
       "2            10   5196000.0        56.0  2015-08-20T00:00:00      2   \n",
       "3             0  64900000.0       159.0  2015-07-24T00:00:00      3   \n",
       "4             2  10000000.0       100.0  2018-06-19T00:00:00      2   \n",
       "\n",
       "   ceiling_height  floors_total  living_area  floor is_apartment  ...  \\\n",
       "0            2.70          16.0         51.0      8          NaN  ...   \n",
       "1             NaN          11.0         18.6      1          NaN  ...   \n",
       "2             NaN           5.0         34.3      4          NaN  ...   \n",
       "3             NaN          14.0          NaN      9          NaN  ...   \n",
       "4            3.03          14.0         32.0     13          NaN  ...   \n",
       "\n",
       "   kitchen_area  balcony    locality_name  airports_nearest  \\\n",
       "0          25.0      NaN  Санкт-Петербург           18863.0   \n",
       "1          11.0      2.0   посёлок Шушары           12817.0   \n",
       "2           8.3      0.0  Санкт-Петербург           21741.0   \n",
       "3           NaN      0.0  Санкт-Петербург           28098.0   \n",
       "4          41.0      NaN  Санкт-Петербург           31856.0   \n",
       "\n",
       "  cityCenters_nearest  parks_around3000  parks_nearest  ponds_around3000  \\\n",
       "0             16028.0               1.0          482.0               2.0   \n",
       "1             18603.0               0.0            NaN               0.0   \n",
       "2             13933.0               1.0           90.0               2.0   \n",
       "3              6800.0               2.0           84.0               3.0   \n",
       "4              8098.0               2.0          112.0               1.0   \n",
       "\n",
       "   ponds_nearest  days_exposition  \n",
       "0          755.0              NaN  \n",
       "1            NaN             81.0  \n",
       "2          574.0            558.0  \n",
       "3          234.0            424.0  \n",
       "4           48.0            121.0  \n",
       "\n",
       "[5 rows x 22 columns]"
      ]
     },
     "execution_count": 1,
     "metadata": {},
     "output_type": "execute_result"
    }
   ],
   "source": [
    "# Загрузим пандас, откроем файли взлянем на первые пять строк.\n",
    "import pandas as pd\n",
    "df = pd.read_csv('/datasets/real_estate_data.csv', sep='\\t')\n",
    "df.head()"
   ]
  },
  {
   "cell_type": "code",
   "execution_count": 2,
   "metadata": {
    "scrolled": false
   },
   "outputs": [
    {
     "name": "stdout",
     "output_type": "stream",
     "text": [
      "<class 'pandas.core.frame.DataFrame'>\n",
      "RangeIndex: 23699 entries, 0 to 23698\n",
      "Data columns (total 22 columns):\n",
      "total_images            23699 non-null int64\n",
      "last_price              23699 non-null float64\n",
      "total_area              23699 non-null float64\n",
      "first_day_exposition    23699 non-null object\n",
      "rooms                   23699 non-null int64\n",
      "ceiling_height          14504 non-null float64\n",
      "floors_total            23613 non-null float64\n",
      "living_area             21796 non-null float64\n",
      "floor                   23699 non-null int64\n",
      "is_apartment            2775 non-null object\n",
      "studio                  23699 non-null bool\n",
      "open_plan               23699 non-null bool\n",
      "kitchen_area            21421 non-null float64\n",
      "balcony                 12180 non-null float64\n",
      "locality_name           23650 non-null object\n",
      "airports_nearest        18157 non-null float64\n",
      "cityCenters_nearest     18180 non-null float64\n",
      "parks_around3000        18181 non-null float64\n",
      "parks_nearest           8079 non-null float64\n",
      "ponds_around3000        18181 non-null float64\n",
      "ponds_nearest           9110 non-null float64\n",
      "days_exposition         20518 non-null float64\n",
      "dtypes: bool(2), float64(14), int64(3), object(3)\n",
      "memory usage: 3.7+ MB\n"
     ]
    }
   ],
   "source": [
    "# Получим общую информацию о данных.\n",
    "df.info()"
   ]
  },
  {
   "cell_type": "markdown",
   "metadata": {},
   "source": [
    "Столбцы с пропусками:\n",
    "- ceiling_height - слишком много пропущенных значений, потолки как правило имеют стандарты - заполним медианами.\n",
    "- floors_total - предположим, что квартира продается на последнем этеже - заполним значениями floor.\n",
    "- living_area - мало пропущенных объектов; заполнение чем-либо вряд чем то поможет - удалим.\n",
    "- is_apartment - судя по всему в этом столбце Nan подразумевает жилой фонд - заполним нулями.\n",
    "- kitchen_area - мало пропущенных объектов; заполнение чем-либо вряд чем то поможет - удалим.\n",
    "- balcony - слишком много пропущенных значений - заполним нулями (исходя из предположения, что пользователь не указал количество балконов просто потому что их нет).               \n",
    "- locality_name - мало пропущенных объектов; угадать город не получится - удалим. \n",
    "- airports_nearest - слишком много пропущенных значений - заполним средним по каждому населенногому пункту.      \n",
    "- cityCenters_nearest - слишком много пропущенных значений - заполним средним по каждому населенногому пункту.  \n",
    "- parks_around3000 - слишком много пропущенных значений - заполним нулями (учитывая, что данные полученны автоматически, можно предоположить, что пропущенные значения обусловлены отсутсвием парков в указаном радиусе).  \n",
    "- parks_nearest - слишком много пропущенных значений - заполним нулями (исходя из того что рядом нет парков).           \n",
    "- ponds_around3000 - слишком много пропущенных значений - заполним нулями (учитывая, что данные полученны автоматически, можно предоположить, что пропущенные значения обусловлены отсутсвием водоемов в указаном радиусе).  \n",
    "- ponds_nearest - слишком много пропущенных значений - заполним нулями (исходя из того что рядом нет водоёмов).   \n",
    "- days_exposition - наверно сняли объявления в тот же день - оставим как есть."
   ]
  },
  {
   "cell_type": "markdown",
   "metadata": {},
   "source": [
    "Columns with gaps:\n",
    "- ceiling_height - too many missing values, ceilings usually have standards - fill in with medians.\n",
    "- floors_total - suppose that the apartment is for sale on the last floor - fill in the floor values.\n",
    "- living_area - few missed objects; filling with something is unlikely to help - delete it.\n",
    "- is_apartment - apparently in this column Nan means housing stock - fill in with zeros.\n",
    "- kitchen_area - few missed objects; filling with something is unlikely to help - delete it.\n",
    "- balcony - too many missing values ​​- fill in with zeros (based on the assumption that the user did not specify the number of balconies simply because there are none).\n",
    "- locality_name - few missed objects; guess the city will not work - delete.\n",
    "- airports_nearest - too many missing values ​​- fill in the average for each locality.\n",
    "- cityCenters_nearest - too many missing values ​​- fill in the average for each city.\n",
    "- parks_around3000 - too many missing values ​​- fill in with zeros (considering that the data was obtained automatically, we can assume that the missing values ​​are due to the lack of parks in the specified radius).\n",
    "- parks_nearest - too many missing values ​​- fill in with zeros (based on the fact that there are no parks nearby).\n",
    "- ponds_around3000 - too many missing values ​​- fill in with zeros (considering that the data was obtained automatically, we can assume that the missing values ​​are due to the lack of water bodies in the specified radius).\n",
    "- ponds_nearest - too many missing values ​​- fill in with zeros (based on the fact that there are no water bodies nearby).\n",
    "- days_exposition - probably removed ads on the same day - let's leave it as it is."
   ]
  },
  {
   "cell_type": "markdown",
   "metadata": {},
   "source": [
    "Неподходящие форматы:\n",
    "- last_price - значения довольны большие (знаки после запятой неважны) - будет удобнее работать с int64.\n",
    "- first_day_exposition - содержат значения даты - приведём к типу - datetime64.\n",
    "- floors_total - дробное значение этажа невозможно - приведем к int64.\n",
    "- is_apartment - неподходящий тип - приведем к bool.\n",
    "- balcony - число балконов не может быть дробным - приведем к int64.\n",
    "- locality_name - строковые объекты могут помешать в поиске дубликатов - привидем к нижнему регистру.\n",
    "- airports_nearest - значения довольны большие (знаки после запятой неважны) - будет удобнее работать с int64.\n",
    "- cityCenters_nearest - значения довольны большие (знакми после запятой неважны) - будет удобнее работать с int64.\n",
    "- parks_around3000 - число парков не может быть дробным - приведем к int64.\n",
    "- parks_nearest - значения довольны большие (знаки после запятой неважны) - будет удобнее работать с int64.\n",
    "- ponds_around3000 - число водоемов не может быть дробным - приведем к int64.\n",
    "- ponds_nearest - значения довольны большие (знаки после запятой неважны) - будет удобнее работать с int64.\n",
    "- days_exposition - так как оставляем пропуски к int64 привести не получится.."
   ]
  },
  {
   "cell_type": "markdown",
   "metadata": {},
   "source": [
    "Unsuitable formats:\n",
    "- last_price - the values ​​are quite large (the decimal places are not important) - it will be more convenient to work with int64.\n",
    "- first_day_exposition - contain date values ​​- cast to datetime64 type.\n",
    "- floors_total - fractional floor value is impossible - let's convert to int64.\n",
    "- is_apartment - inappropriate type - cast to bool.\n",
    "- balcony - the number of balconies cannot be fractional - cast to int64.\n",
    "- locality_name - string objects can interfere with the search for duplicates - cast to lower case.\n",
    "- airports_nearest - the values ​​are quite large (the decimal places are not important) - it will be more convenient to work with int64.\n",
    "- cityCenters_nearest - the values ​​are quite large (the decimal places are not important) - it will be more convenient to work with int64.\n",
    "- parks_around3000 - number of parks cannot be fractional - cast to int64.\n",
    "- parks_nearest - the values ​​are quite large (the decimal places are not important) - it will be more convenient to work with int64.\n",
    "- ponds_around3000 - the number of ponds cannot be fractional - let's convert to int64.\n",
    "- ponds_nearest - the values ​​are quite large (the decimal places are not important) - it will be more convenient to work with int64.\n",
    "- days_exposition - since we leave gaps to int64, it will not work.."
   ]
  },
  {
   "cell_type": "markdown",
   "metadata": {},
   "source": [
    "### Вывод\n",
    "\n",
    "### Conclusion"
   ]
  },
  {
   "cell_type": "markdown",
   "metadata": {},
   "source": [
    " В данных есть пропуски и неподходящие форматы. Это можно легко исправить применяя:\n",
    " - заполненение нулями;\n",
    " - заполнение медианами;\n",
    " - заполнение средними;\n",
    " - удаление строк;\n",
    " - изменения формата.\n",
    "\n",
    " There are gaps and inappropriate formats in the data. This can be easily fixed using:\n",
    "  - padding with zeros;\n",
    "  - filling with medians;\n",
    "  - filling with averages;\n",
    "  - delete lines;\n",
    "  - format changes."
   ]
  },
  {
   "cell_type": "markdown",
   "metadata": {},
   "source": [
    "<a id='Step_2'></a>\n",
    "### Шаг 2. Предобработка данных\n",
    "\n",
    "### Step 2. Data preprocessing"
   ]
  },
  {
   "cell_type": "code",
   "execution_count": 3,
   "metadata": {},
   "outputs": [
    {
     "name": "stdout",
     "output_type": "stream",
     "text": [
      "Всего строк до обработки: 23699\n"
     ]
    }
   ],
   "source": [
    "df_len_before = len(df)\n",
    "print('Всего строк до обработки:', df_len_before)"
   ]
  },
  {
   "cell_type": "markdown",
   "metadata": {},
   "source": [
    "Total rows before processing: 23699"
   ]
  },
  {
   "cell_type": "code",
   "execution_count": 4,
   "metadata": {
    "scrolled": true
   },
   "outputs": [
    {
     "name": "stdout",
     "output_type": "stream",
     "text": [
      "Медиана высоты потолков 2.65\n"
     ]
    }
   ],
   "source": [
    "# Медианами, мы хотим заполнить пропуски в ceiling_height.\n",
    "print('Медиана высоты потолков', df['ceiling_height'].median())"
   ]
  },
  {
   "cell_type": "markdown",
   "metadata": {},
   "source": [
    "Median ceiling height: 2.65"
   ]
  },
  {
   "cell_type": "markdown",
   "metadata": {},
   "source": [
    "Получили адекватное значение. Заполним этим значением пропуски в ceiling_height.\n",
    "\n",
    "Got the correct value. Fill in the gaps in ceiling_height with this value."
   ]
  },
  {
   "cell_type": "code",
   "execution_count": 5,
   "metadata": {
    "scrolled": true
   },
   "outputs": [],
   "source": [
    "df['ceiling_height'].fillna(df['ceiling_height'].median(), inplace=True)"
   ]
  },
  {
   "cell_type": "markdown",
   "metadata": {},
   "source": [
    "Заполним пропущенные значения нулями в 'is_apartment', 'balcony', 'parks_around3000', 'ponds_around3000', 'parks_nearest', 'ponds_nearest'.\n",
    "\n",
    "Fill in the missing values in 'is_apartment', 'balcony', 'parks_around3000', 'ponds_around3000', 'parks_nearest', 'ponds_nearest' with zeros."
   ]
  },
  {
   "cell_type": "code",
   "execution_count": 6,
   "metadata": {},
   "outputs": [],
   "source": [
    "for_zero_filling = ['is_apartment', 'balcony', 'parks_around3000', 'ponds_around3000', 'parks_nearest', \n",
    "                    'ponds_nearest']\n",
    "for i in for_zero_filling:\n",
    "    df[i].fillna(0, inplace= True)"
   ]
  },
  {
   "cell_type": "markdown",
   "metadata": {},
   "source": [
    "Удалим пропущенные значения 'locality_name', 'living_area', 'kithcen_area'.\n",
    "\n",
    "Remove missing values 'locality_name', 'living_area', 'kithcen_area'."
   ]
  },
  {
   "cell_type": "code",
   "execution_count": 7,
   "metadata": {},
   "outputs": [],
   "source": [
    "df.dropna(subset=['locality_name', 'living_area', 'kitchen_area'], inplace=True)"
   ]
  },
  {
   "cell_type": "markdown",
   "metadata": {},
   "source": [
    "Заполним пропущенные значения floors_total значениями floor.\n",
    "\n",
    "Let's аill in the missing floors_total values with floor values."
   ]
  },
  {
   "cell_type": "code",
   "execution_count": 8,
   "metadata": {},
   "outputs": [],
   "source": [
    "df.loc[df['floors_total'].isna() == True, 'floors_total'] = df['floor']"
   ]
  },
  {
   "cell_type": "markdown",
   "metadata": {},
   "source": [
    "Заполним прпоуски в airports_nearest и cityCenters_nearest.\n",
    "\n",
    "Let's fill in the blanks in airports_nearest and cityCenters_nearest."
   ]
  },
  {
   "cell_type": "markdown",
   "metadata": {},
   "source": [
    "При попытке заполнить пропуски в airports_nearest средними по населенным пунктам, стало понятно, что среди них есть такие, в которых вообще нет данных по расстоянию до аэропорта или центра.\n",
    "\n",
    "When trying to fill in the gaps in airports_nearest with averages for settlements, it became clear that among them there are those in which there is no data on the distance to the airport or center at all."
   ]
  },
  {
   "cell_type": "code",
   "execution_count": 9,
   "metadata": {
    "scrolled": true
   },
   "outputs": [
    {
     "data": {
      "text/html": [
       "<div>\n",
       "<style scoped>\n",
       "    .dataframe tbody tr th:only-of-type {\n",
       "        vertical-align: middle;\n",
       "    }\n",
       "\n",
       "    .dataframe tbody tr th {\n",
       "        vertical-align: top;\n",
       "    }\n",
       "\n",
       "    .dataframe thead th {\n",
       "        text-align: right;\n",
       "    }\n",
       "</style>\n",
       "<table border=\"1\" class=\"dataframe\">\n",
       "  <thead>\n",
       "    <tr style=\"text-align: right;\">\n",
       "      <th></th>\n",
       "      <th>airports_nearest</th>\n",
       "      <th>locality_name</th>\n",
       "    </tr>\n",
       "    <tr>\n",
       "      <th>locality_name</th>\n",
       "      <th></th>\n",
       "      <th></th>\n",
       "    </tr>\n",
       "  </thead>\n",
       "  <tbody>\n",
       "    <tr>\n",
       "      <td>Бокситогорск</td>\n",
       "      <td>0</td>\n",
       "      <td>10</td>\n",
       "    </tr>\n",
       "    <tr>\n",
       "      <td>Волосово</td>\n",
       "      <td>0</td>\n",
       "      <td>35</td>\n",
       "    </tr>\n",
       "    <tr>\n",
       "      <td>Волхов</td>\n",
       "      <td>0</td>\n",
       "      <td>91</td>\n",
       "    </tr>\n",
       "    <tr>\n",
       "      <td>Всеволожск</td>\n",
       "      <td>0</td>\n",
       "      <td>357</td>\n",
       "    </tr>\n",
       "    <tr>\n",
       "      <td>Выборг</td>\n",
       "      <td>0</td>\n",
       "      <td>190</td>\n",
       "    </tr>\n",
       "  </tbody>\n",
       "</table>\n",
       "</div>"
      ],
      "text/plain": [
       "               airports_nearest  locality_name\n",
       "locality_name                                 \n",
       "Бокситогорск                  0             10\n",
       "Волосово                      0             35\n",
       "Волхов                        0             91\n",
       "Всеволожск                    0            357\n",
       "Выборг                        0            190"
      ]
     },
     "execution_count": 9,
     "metadata": {},
     "output_type": "execute_result"
    }
   ],
   "source": [
    "airports_na = df.pivot_table(index='locality_name', values='airports_nearest', aggfunc='count').join(df['locality_name'].value_counts())\n",
    "airports_na.head()"
   ]
  },
  {
   "cell_type": "code",
   "execution_count": 10,
   "metadata": {},
   "outputs": [
    {
     "data": {
      "text/html": [
       "<div>\n",
       "<style scoped>\n",
       "    .dataframe tbody tr th:only-of-type {\n",
       "        vertical-align: middle;\n",
       "    }\n",
       "\n",
       "    .dataframe tbody tr th {\n",
       "        vertical-align: top;\n",
       "    }\n",
       "\n",
       "    .dataframe thead th {\n",
       "        text-align: right;\n",
       "    }\n",
       "</style>\n",
       "<table border=\"1\" class=\"dataframe\">\n",
       "  <thead>\n",
       "    <tr style=\"text-align: right;\">\n",
       "      <th></th>\n",
       "      <th>cityCenters_nearest</th>\n",
       "      <th>locality_name</th>\n",
       "    </tr>\n",
       "    <tr>\n",
       "      <th>locality_name</th>\n",
       "      <th></th>\n",
       "      <th></th>\n",
       "    </tr>\n",
       "  </thead>\n",
       "  <tbody>\n",
       "    <tr>\n",
       "      <td>Бокситогорск</td>\n",
       "      <td>0</td>\n",
       "      <td>10</td>\n",
       "    </tr>\n",
       "    <tr>\n",
       "      <td>Волосово</td>\n",
       "      <td>0</td>\n",
       "      <td>35</td>\n",
       "    </tr>\n",
       "    <tr>\n",
       "      <td>Волхов</td>\n",
       "      <td>0</td>\n",
       "      <td>91</td>\n",
       "    </tr>\n",
       "    <tr>\n",
       "      <td>Всеволожск</td>\n",
       "      <td>0</td>\n",
       "      <td>357</td>\n",
       "    </tr>\n",
       "    <tr>\n",
       "      <td>Выборг</td>\n",
       "      <td>0</td>\n",
       "      <td>190</td>\n",
       "    </tr>\n",
       "  </tbody>\n",
       "</table>\n",
       "</div>"
      ],
      "text/plain": [
       "               cityCenters_nearest  locality_name\n",
       "locality_name                                    \n",
       "Бокситогорск                     0             10\n",
       "Волосово                         0             35\n",
       "Волхов                           0             91\n",
       "Всеволожск                       0            357\n",
       "Выборг                           0            190"
      ]
     },
     "execution_count": 10,
     "metadata": {},
     "output_type": "execute_result"
    }
   ],
   "source": [
    "centers_na = df.pivot_table(index='locality_name', values='cityCenters_nearest', aggfunc='count').join(df['locality_name'].value_counts())\n",
    "centers_na.head()"
   ]
  },
  {
   "cell_type": "markdown",
   "metadata": {},
   "source": [
    "Заполнять пропуски средними по пропускам - это какой-то бред. Понятно, что эти населенные пункты очень далеко и от центра и от аэропрта. Я думаю, что тут нужно \"впаять\" им максимальные значения по этим переменным для каждого такого населелного пункта. А вот по остальным уже делать заполнение пропусков средними с учетом насленного пункта.\n",
    "\n",
    "Filling in the gaps with average gaps is some kind of nonsense. It is clear that these settlements are very far from the center and from the airport. I think that here it is necessary to \"solder\" them the maximum values for these variables for each such settlement. But for the rest, already fill in the gaps with averages, taking into account the settlement."
   ]
  },
  {
   "cell_type": "code",
   "execution_count": 11,
   "metadata": {},
   "outputs": [],
   "source": [
    "# Названия населенных пунктов, где нет наблюдений по расстояниям до аэропорта или центра.\n",
    "index_airports_na = airports_na[airports_na['airports_nearest'] == 0].index\n",
    "index_centers_na = centers_na[centers_na['cityCenters_nearest'] == 0].index"
   ]
  },
  {
   "cell_type": "code",
   "execution_count": 12,
   "metadata": {
    "scrolled": false
   },
   "outputs": [],
   "source": [
    "# Заполняем пустые значения максимальными для городов, в которых вообще нет наблюдений по расстояним до аэропрта или центра.\n",
    "df.loc[df.query('locality_name in @index_airports_na').index, 'airports_nearest'] = df['airports_nearest'].max()\n",
    "df.loc[df.query('locality_name in @index_centers_na').index, 'cityCenters_nearest'] = df['cityCenters_nearest'].max()\n",
    "# Заполняем пустые значения средними для городов, в которых есть наблюдения по расстояним до аэропрта или центра.\n",
    "df['airports_nearest'] = df.groupby('locality_name')['airports_nearest'].apply(lambda x: x.fillna(x.mean()))\n",
    "df['cityCenters_nearest'] = df.groupby('locality_name')['cityCenters_nearest'].apply(lambda x: x.fillna(x.mean()))"
   ]
  },
  {
   "cell_type": "code",
   "execution_count": 13,
   "metadata": {},
   "outputs": [
    {
     "data": {
      "text/plain": [
       "25597.828439688463"
      ]
     },
     "execution_count": 13,
     "metadata": {},
     "output_type": "execute_result"
    }
   ],
   "source": [
    "df['cityCenters_nearest'].mean()"
   ]
  },
  {
   "cell_type": "markdown",
   "metadata": {},
   "source": [
    "Посмотрим, сколько процентов наблюдений у нас осталось.\n",
    "\n",
    "Let's see how many percent of observations we have left."
   ]
  },
  {
   "cell_type": "code",
   "execution_count": 14,
   "metadata": {
    "scrolled": true
   },
   "outputs": [
    {
     "name": "stdout",
     "output_type": "stream",
     "text": [
      "Осталось 88.37% наблюдений.\n"
     ]
    }
   ],
   "source": [
    "print('Осталось {:.2%}'.format(len(df)/df_len_before), 'наблюдений.')"
   ]
  },
  {
   "cell_type": "markdown",
   "metadata": {},
   "source": [
    "There are 88.37% of observations left."
   ]
  },
  {
   "cell_type": "code",
   "execution_count": 15,
   "metadata": {},
   "outputs": [
    {
     "name": "stdout",
     "output_type": "stream",
     "text": [
      "<class 'pandas.core.frame.DataFrame'>\n",
      "Int64Index: 20943 entries, 0 to 23698\n",
      "Data columns (total 22 columns):\n",
      "total_images            20943 non-null int64\n",
      "last_price              20943 non-null float64\n",
      "total_area              20943 non-null float64\n",
      "first_day_exposition    20943 non-null object\n",
      "rooms                   20943 non-null int64\n",
      "ceiling_height          20943 non-null float64\n",
      "floors_total            20943 non-null float64\n",
      "living_area             20943 non-null float64\n",
      "floor                   20943 non-null int64\n",
      "is_apartment            20943 non-null object\n",
      "studio                  20943 non-null bool\n",
      "open_plan               20943 non-null bool\n",
      "kitchen_area            20943 non-null float64\n",
      "balcony                 20943 non-null float64\n",
      "locality_name           20943 non-null object\n",
      "airports_nearest        20943 non-null float64\n",
      "cityCenters_nearest     20943 non-null float64\n",
      "parks_around3000        20943 non-null float64\n",
      "parks_nearest           20943 non-null float64\n",
      "ponds_around3000        20943 non-null float64\n",
      "ponds_nearest           20943 non-null float64\n",
      "days_exposition         18053 non-null float64\n",
      "dtypes: bool(2), float64(14), int64(3), object(3)\n",
      "memory usage: 4.0+ MB\n"
     ]
    }
   ],
   "source": [
    "df.info()"
   ]
  },
  {
   "cell_type": "markdown",
   "metadata": {},
   "source": [
    "У нас всё еще достаточно значений для исследования.\n",
    "\n",
    "We still have enough values to explore."
   ]
  },
  {
   "cell_type": "markdown",
   "metadata": {},
   "source": [
    "Исправим форматы и регистр.\n",
    "\n",
    "Fixing formats and case."
   ]
  },
  {
   "cell_type": "code",
   "execution_count": 16,
   "metadata": {},
   "outputs": [],
   "source": [
    "df['last_price'] = df['last_price'].astype('int64')\n",
    "df['first_day_exposition'] = pd.to_datetime(df['first_day_exposition'])\n",
    "df['floors_total'] = df['floors_total'].astype('int64')\n",
    "df['is_apartment'] = df['is_apartment'].astype('bool')\n",
    "df['balcony'] = df['balcony'].astype('int64')\n",
    "df['locality_name'] = df['locality_name'].astype(str).str.lower()\n",
    "df['airports_nearest'] = df['airports_nearest'].astype('int64')\n",
    "df['cityCenters_nearest'] = df['cityCenters_nearest'].astype('int64')\n",
    "df['parks_around3000'] = df['parks_around3000'].astype('int64')\n",
    "df['ponds_around3000'] = df['ponds_around3000'].astype('int64')\n",
    "df['parks_nearest'] = df['parks_nearest'].astype('int64')\n",
    "df['ponds_nearest'] = df['ponds_nearest'].astype('int64')"
   ]
  },
  {
   "cell_type": "markdown",
   "metadata": {},
   "source": [
    "Удалим дубликаты.\n",
    "\n",
    "Let's remove the duplicates."
   ]
  },
  {
   "cell_type": "code",
   "execution_count": 17,
   "metadata": {},
   "outputs": [],
   "source": [
    "df.drop_duplicates(inplace=True)\n",
    "df.reset_index(inplace=True, drop=True)"
   ]
  },
  {
   "cell_type": "markdown",
   "metadata": {},
   "source": [
    "Посмотрим на финальный результат.\n",
    "\n",
    "Let's look at the final result."
   ]
  },
  {
   "cell_type": "code",
   "execution_count": 18,
   "metadata": {},
   "outputs": [
    {
     "name": "stdout",
     "output_type": "stream",
     "text": [
      "<class 'pandas.core.frame.DataFrame'>\n",
      "RangeIndex: 20943 entries, 0 to 20942\n",
      "Data columns (total 22 columns):\n",
      "total_images            20943 non-null int64\n",
      "last_price              20943 non-null int64\n",
      "total_area              20943 non-null float64\n",
      "first_day_exposition    20943 non-null datetime64[ns]\n",
      "rooms                   20943 non-null int64\n",
      "ceiling_height          20943 non-null float64\n",
      "floors_total            20943 non-null int64\n",
      "living_area             20943 non-null float64\n",
      "floor                   20943 non-null int64\n",
      "is_apartment            20943 non-null bool\n",
      "studio                  20943 non-null bool\n",
      "open_plan               20943 non-null bool\n",
      "kitchen_area            20943 non-null float64\n",
      "balcony                 20943 non-null int64\n",
      "locality_name           20943 non-null object\n",
      "airports_nearest        20943 non-null int64\n",
      "cityCenters_nearest     20943 non-null int64\n",
      "parks_around3000        20943 non-null int64\n",
      "parks_nearest           20943 non-null int64\n",
      "ponds_around3000        20943 non-null int64\n",
      "ponds_nearest           20943 non-null int64\n",
      "days_exposition         18053 non-null float64\n",
      "dtypes: bool(3), datetime64[ns](1), float64(5), int64(12), object(1)\n",
      "memory usage: 3.1+ MB\n"
     ]
    }
   ],
   "source": [
    "df.info()"
   ]
  },
  {
   "cell_type": "code",
   "execution_count": 19,
   "metadata": {
    "scrolled": true
   },
   "outputs": [
    {
     "data": {
      "text/html": [
       "<div>\n",
       "<style scoped>\n",
       "    .dataframe tbody tr th:only-of-type {\n",
       "        vertical-align: middle;\n",
       "    }\n",
       "\n",
       "    .dataframe tbody tr th {\n",
       "        vertical-align: top;\n",
       "    }\n",
       "\n",
       "    .dataframe thead th {\n",
       "        text-align: right;\n",
       "    }\n",
       "</style>\n",
       "<table border=\"1\" class=\"dataframe\">\n",
       "  <thead>\n",
       "    <tr style=\"text-align: right;\">\n",
       "      <th></th>\n",
       "      <th>total_images</th>\n",
       "      <th>last_price</th>\n",
       "      <th>total_area</th>\n",
       "      <th>first_day_exposition</th>\n",
       "      <th>rooms</th>\n",
       "      <th>ceiling_height</th>\n",
       "      <th>floors_total</th>\n",
       "      <th>living_area</th>\n",
       "      <th>floor</th>\n",
       "      <th>is_apartment</th>\n",
       "      <th>...</th>\n",
       "      <th>kitchen_area</th>\n",
       "      <th>balcony</th>\n",
       "      <th>locality_name</th>\n",
       "      <th>airports_nearest</th>\n",
       "      <th>cityCenters_nearest</th>\n",
       "      <th>parks_around3000</th>\n",
       "      <th>parks_nearest</th>\n",
       "      <th>ponds_around3000</th>\n",
       "      <th>ponds_nearest</th>\n",
       "      <th>days_exposition</th>\n",
       "    </tr>\n",
       "  </thead>\n",
       "  <tbody>\n",
       "    <tr>\n",
       "      <td>0</td>\n",
       "      <td>20</td>\n",
       "      <td>13000000</td>\n",
       "      <td>108.0</td>\n",
       "      <td>2019-03-07</td>\n",
       "      <td>3</td>\n",
       "      <td>2.70</td>\n",
       "      <td>16</td>\n",
       "      <td>51.0</td>\n",
       "      <td>8</td>\n",
       "      <td>False</td>\n",
       "      <td>...</td>\n",
       "      <td>25.0</td>\n",
       "      <td>0</td>\n",
       "      <td>санкт-петербург</td>\n",
       "      <td>18863</td>\n",
       "      <td>16028</td>\n",
       "      <td>1</td>\n",
       "      <td>482</td>\n",
       "      <td>2</td>\n",
       "      <td>755</td>\n",
       "      <td>NaN</td>\n",
       "    </tr>\n",
       "    <tr>\n",
       "      <td>1</td>\n",
       "      <td>7</td>\n",
       "      <td>3350000</td>\n",
       "      <td>40.4</td>\n",
       "      <td>2018-12-04</td>\n",
       "      <td>1</td>\n",
       "      <td>2.65</td>\n",
       "      <td>11</td>\n",
       "      <td>18.6</td>\n",
       "      <td>1</td>\n",
       "      <td>False</td>\n",
       "      <td>...</td>\n",
       "      <td>11.0</td>\n",
       "      <td>2</td>\n",
       "      <td>посёлок шушары</td>\n",
       "      <td>12817</td>\n",
       "      <td>18603</td>\n",
       "      <td>0</td>\n",
       "      <td>0</td>\n",
       "      <td>0</td>\n",
       "      <td>0</td>\n",
       "      <td>81.0</td>\n",
       "    </tr>\n",
       "    <tr>\n",
       "      <td>2</td>\n",
       "      <td>10</td>\n",
       "      <td>5196000</td>\n",
       "      <td>56.0</td>\n",
       "      <td>2015-08-20</td>\n",
       "      <td>2</td>\n",
       "      <td>2.65</td>\n",
       "      <td>5</td>\n",
       "      <td>34.3</td>\n",
       "      <td>4</td>\n",
       "      <td>False</td>\n",
       "      <td>...</td>\n",
       "      <td>8.3</td>\n",
       "      <td>0</td>\n",
       "      <td>санкт-петербург</td>\n",
       "      <td>21741</td>\n",
       "      <td>13933</td>\n",
       "      <td>1</td>\n",
       "      <td>90</td>\n",
       "      <td>2</td>\n",
       "      <td>574</td>\n",
       "      <td>558.0</td>\n",
       "    </tr>\n",
       "    <tr>\n",
       "      <td>3</td>\n",
       "      <td>2</td>\n",
       "      <td>10000000</td>\n",
       "      <td>100.0</td>\n",
       "      <td>2018-06-19</td>\n",
       "      <td>2</td>\n",
       "      <td>3.03</td>\n",
       "      <td>14</td>\n",
       "      <td>32.0</td>\n",
       "      <td>13</td>\n",
       "      <td>False</td>\n",
       "      <td>...</td>\n",
       "      <td>41.0</td>\n",
       "      <td>0</td>\n",
       "      <td>санкт-петербург</td>\n",
       "      <td>31856</td>\n",
       "      <td>8098</td>\n",
       "      <td>2</td>\n",
       "      <td>112</td>\n",
       "      <td>1</td>\n",
       "      <td>48</td>\n",
       "      <td>121.0</td>\n",
       "    </tr>\n",
       "    <tr>\n",
       "      <td>4</td>\n",
       "      <td>10</td>\n",
       "      <td>2890000</td>\n",
       "      <td>30.4</td>\n",
       "      <td>2018-09-10</td>\n",
       "      <td>1</td>\n",
       "      <td>2.65</td>\n",
       "      <td>12</td>\n",
       "      <td>14.4</td>\n",
       "      <td>5</td>\n",
       "      <td>False</td>\n",
       "      <td>...</td>\n",
       "      <td>9.1</td>\n",
       "      <td>0</td>\n",
       "      <td>городской посёлок янино-1</td>\n",
       "      <td>84869</td>\n",
       "      <td>65968</td>\n",
       "      <td>0</td>\n",
       "      <td>0</td>\n",
       "      <td>0</td>\n",
       "      <td>0</td>\n",
       "      <td>55.0</td>\n",
       "    </tr>\n",
       "  </tbody>\n",
       "</table>\n",
       "<p>5 rows × 22 columns</p>\n",
       "</div>"
      ],
      "text/plain": [
       "   total_images  last_price  total_area first_day_exposition  rooms  \\\n",
       "0            20    13000000       108.0           2019-03-07      3   \n",
       "1             7     3350000        40.4           2018-12-04      1   \n",
       "2            10     5196000        56.0           2015-08-20      2   \n",
       "3             2    10000000       100.0           2018-06-19      2   \n",
       "4            10     2890000        30.4           2018-09-10      1   \n",
       "\n",
       "   ceiling_height  floors_total  living_area  floor  is_apartment  ...  \\\n",
       "0            2.70            16         51.0      8         False  ...   \n",
       "1            2.65            11         18.6      1         False  ...   \n",
       "2            2.65             5         34.3      4         False  ...   \n",
       "3            3.03            14         32.0     13         False  ...   \n",
       "4            2.65            12         14.4      5         False  ...   \n",
       "\n",
       "   kitchen_area  balcony              locality_name  airports_nearest  \\\n",
       "0          25.0        0            санкт-петербург             18863   \n",
       "1          11.0        2             посёлок шушары             12817   \n",
       "2           8.3        0            санкт-петербург             21741   \n",
       "3          41.0        0            санкт-петербург             31856   \n",
       "4           9.1        0  городской посёлок янино-1             84869   \n",
       "\n",
       "  cityCenters_nearest  parks_around3000  parks_nearest  ponds_around3000  \\\n",
       "0               16028                 1            482                 2   \n",
       "1               18603                 0              0                 0   \n",
       "2               13933                 1             90                 2   \n",
       "3                8098                 2            112                 1   \n",
       "4               65968                 0              0                 0   \n",
       "\n",
       "   ponds_nearest  days_exposition  \n",
       "0            755              NaN  \n",
       "1              0             81.0  \n",
       "2            574            558.0  \n",
       "3             48            121.0  \n",
       "4              0             55.0  \n",
       "\n",
       "[5 rows x 22 columns]"
      ]
     },
     "execution_count": 19,
     "metadata": {},
     "output_type": "execute_result"
    }
   ],
   "source": [
    "df.head()"
   ]
  },
  {
   "cell_type": "markdown",
   "metadata": {},
   "source": [
    "## Вывод\n",
    "## Conclusion"
   ]
  },
  {
   "cell_type": "markdown",
   "metadata": {},
   "source": [
    "На этом шаге:\n",
    "- были заполнены пропущенные значения;\n",
    "- удалены строки, где пропуски заполнять нецелесообразно;\n",
    "- удалены дубликаты;\n",
    "- исправлены форматы и регистр.\n",
    "\n",
    "At this step:\n",
    "- missing values were filled in;\n",
    "- Removed lines where it is inappropriate to fill in gaps;\n",
    "- removed duplicates;\n",
    "- Fixed formats and case."
   ]
  },
  {
   "cell_type": "markdown",
   "metadata": {},
   "source": [
    "<a id='Step_3'></a>\n",
    "### Шаг 3. Расчет и добавление в таблицу необходимых параметров.\n",
    "\n",
    "### Step 3. Calculation and addition of required parameters to the table."
   ]
  },
  {
   "cell_type": "markdown",
   "metadata": {},
   "source": [
    "- цена квадратного метра;\n",
    "- день недели, месяц и год публикации объявления;\n",
    "- этаж квартиры; варианты — первый, последний, другой;\n",
    "- соотношение жилой и общей площади, а также отношение площади кухни к общей.\n",
    "\n"
   ]
  },
  {
   "cell_type": "markdown",
   "metadata": {},
   "source": [
    "- price per square meter;\n",
    "- day of the week, month and year of publication of the announcement;\n",
    "- floor of the apartment; options - first, last, other;\n",
    "- the ratio of residential and total area, as well as the ratio of kitchen area to total."
   ]
  },
  {
   "cell_type": "code",
   "execution_count": 20,
   "metadata": {},
   "outputs": [],
   "source": [
    "# Цена за метр.\n",
    "df['price_for_metr'] = round(df['last_price'] / df['total_area'], 2)\n",
    "# Получим день, месяц и год.\n",
    "df['day'] = df['first_day_exposition'].dt.day\n",
    "df['month'] = df['first_day_exposition'].dt.month\n",
    "df['year'] = df['first_day_exposition'].dt.year\n",
    "# Соотношение жилой площади к общей и площади кухни к общей. \n",
    "df['ratio_living/total'] = round(df['living_area']/df['total_area'], 2)\n",
    "df['ratio_kithcen/total'] = round(df['kitchen_area']/df['total_area'], 2)\n",
    "# Категоризируем квартиры по этажам.\n",
    "df['floor_position'] = df['floor']\n",
    "df['floor_position'].where(df['floor_position'] != df['floors_total'], 'последний', inplace=True)\n",
    "df['floor_position'].where(df['floor_position'] != 1, 'первый', inplace=True)\n",
    "df['floor_position'].where((df['floor_position'] == 'первый') | (df['floor_position'] == 'последний'), 'другой', inplace=True)"
   ]
  },
  {
   "cell_type": "markdown",
   "metadata": {},
   "source": [
    "## Вывод.\n",
    "\n",
    "## Conclusion."
   ]
  },
  {
   "cell_type": "markdown",
   "metadata": {},
   "source": [
    "На этом шаге рассчитали и добавили.\n",
    "- цену квадратного метра;\n",
    "- день недели, месяц и год публикации объявления;\n",
    "- этаж квартиры; варианты — первый, последний, другой;\n",
    "- соотношение жилой и общей площади, а также отношение площади кухни к общей.\n",
    "\n",
    "At this step, calculated and added.\n",
    "- price per square meter;\n",
    "- day of the week, month and year of publication of the announcement;\n",
    "- floor of the apartment; options - first, last, other;\n",
    "- the ratio of residential and total area, as well as the ratio of kitchen area to total."
   ]
  },
  {
   "cell_type": "markdown",
   "metadata": {},
   "source": [
    "<a id='Step_4'></a>\n",
    "### Шаг 4. Исследовательский анализ данных:\n",
    "\n",
    "### Step 4. Exploratory Data Analysis:"
   ]
  },
  {
   "cell_type": "markdown",
   "metadata": {},
   "source": [
    "<a id='Step_5'></a>\n",
    "#### Пункт А.\n",
    "\n",
    "#### Point A."
   ]
  },
  {
   "cell_type": "markdown",
   "metadata": {},
   "source": [
    "Изучим следующие параметры: площадь, цена, число комнат, высота потолков. Построим гистограммы для каждого параметра.\n",
    "\n",
    "We will study the following parameters: area, price, number of rooms, ceiling height. Let's construct histograms for each parameter."
   ]
  },
  {
   "cell_type": "markdown",
   "metadata": {},
   "source": [
    "Посмотрим на площади.\n",
    "\n",
    "Let's look at the square."
   ]
  },
  {
   "cell_type": "code",
   "execution_count": 21,
   "metadata": {},
   "outputs": [
    {
     "name": "stdout",
     "output_type": "stream",
     "text": [
      "Минимальная площадь: 14.0\n",
      "Максимальная плошадь: 900.0\n"
     ]
    }
   ],
   "source": [
    "print('Минимальная площадь:', df['total_area'].min())\n",
    "print('Максимальная плошадь:', df['total_area'].max())"
   ]
  },
  {
   "cell_type": "markdown",
   "metadata": {},
   "source": [
    "Minimum area: 14.0\n",
    "\n",
    "Maximum area: 900.0"
   ]
  },
  {
   "cell_type": "markdown",
   "metadata": {},
   "source": [
    "Видим довольно большой разброс.  \n",
    "\n",
    "We see a fairly large spread."
   ]
  },
  {
   "cell_type": "markdown",
   "metadata": {},
   "source": [
    "Видно, что квартир с площадью более 100 кв.м. совсем мало, а более 200 кв.м. почти что нет. Посмотрим поближе.\n",
    "\n",
    "It can be seen that apartments with an area of more than 100 sq.m. very little, and more than 200 sq.m. almost no. Let's take a closer look."
   ]
  },
  {
   "cell_type": "code",
   "execution_count": 46,
   "metadata": {},
   "outputs": [
    {
     "data": {
      "text/plain": [
       "<matplotlib.axes._subplots.AxesSubplot at 0x7f682b205510>"
      ]
     },
     "execution_count": 46,
     "metadata": {},
     "output_type": "execute_result"
    },
    {
     "data": {
      "image/png": "[encoded data removed]",
      "text/plain": [
       "<Figure size 432x288 with 1 Axes>"
      ]
     },
     "metadata": {
      "needs_background": "light"
     },
     "output_type": "display_data"
    }
   ],
   "source": [
    "df['total_area'].plot(kind='hist', bins=50, range=(0, 200), grid=True, title='Total area (sq. m.)')"
   ]
  },
  {
   "cell_type": "markdown",
   "metadata": {},
   "source": [
    "Ясно, что основная часть квартир имеет площадь примерно между 27 и 80 кв.м.. \n",
    "\n",
    "It is clear that the bulk of the apartments have an area between approximately 27 and 80 sq.m."
   ]
  },
  {
   "cell_type": "markdown",
   "metadata": {},
   "source": [
    "Посмотрим на цены.\n",
    "\n",
    "Let's look at prices."
   ]
  },
  {
   "cell_type": "code",
   "execution_count": 24,
   "metadata": {},
   "outputs": [
    {
     "name": "stdout",
     "output_type": "stream",
     "text": [
      "Минимальная цена: 12190\n",
      "Максимальная цена: 420000000\n"
     ]
    }
   ],
   "source": [
    "print('Минимальная цена:', df['last_price'].min())\n",
    "print('Максимальная цена:', df['last_price'].max())"
   ]
  },
  {
   "cell_type": "markdown",
   "metadata": {},
   "source": [
    "Minimum price: 12190\n",
    "\n",
    "Maximum price: 420000000"
   ]
  },
  {
   "cell_type": "markdown",
   "metadata": {},
   "source": [
    "Квартира за 420 млн. р.? - Верю (наверно мелькала в расследовании Навального).\n",
    "Квартира за 12190? - Не верю, но проверю!\n",
    "\n",
    "An apartment for 420 million rubles? - I believe (probably flashed in Navalny's investigation).\n",
    "Apartment for 12190? - I do not believe, but I will check!"
   ]
  },
  {
   "cell_type": "code",
   "execution_count": 25,
   "metadata": {
    "scrolled": true
   },
   "outputs": [
    {
     "data": {
      "text/html": [
       "<div>\n",
       "<style scoped>\n",
       "    .dataframe tbody tr th:only-of-type {\n",
       "        vertical-align: middle;\n",
       "    }\n",
       "\n",
       "    .dataframe tbody tr th {\n",
       "        vertical-align: top;\n",
       "    }\n",
       "\n",
       "    .dataframe thead th {\n",
       "        text-align: right;\n",
       "    }\n",
       "</style>\n",
       "<table border=\"1\" class=\"dataframe\">\n",
       "  <thead>\n",
       "    <tr style=\"text-align: right;\">\n",
       "      <th></th>\n",
       "      <th>total_images</th>\n",
       "      <th>last_price</th>\n",
       "      <th>total_area</th>\n",
       "      <th>first_day_exposition</th>\n",
       "      <th>rooms</th>\n",
       "      <th>ceiling_height</th>\n",
       "      <th>floors_total</th>\n",
       "      <th>living_area</th>\n",
       "      <th>floor</th>\n",
       "      <th>is_apartment</th>\n",
       "      <th>...</th>\n",
       "      <th>ponds_around3000</th>\n",
       "      <th>ponds_nearest</th>\n",
       "      <th>days_exposition</th>\n",
       "      <th>price_for_metr</th>\n",
       "      <th>day</th>\n",
       "      <th>month</th>\n",
       "      <th>year</th>\n",
       "      <th>ratio_living/total</th>\n",
       "      <th>ratio_kithcen/total</th>\n",
       "      <th>floor_position</th>\n",
       "    </tr>\n",
       "  </thead>\n",
       "  <tbody>\n",
       "    <tr>\n",
       "      <td>7797</td>\n",
       "      <td>7</td>\n",
       "      <td>12190</td>\n",
       "      <td>109.0</td>\n",
       "      <td>2019-03-20</td>\n",
       "      <td>2</td>\n",
       "      <td>2.75</td>\n",
       "      <td>25</td>\n",
       "      <td>32.0</td>\n",
       "      <td>25</td>\n",
       "      <td>False</td>\n",
       "      <td>...</td>\n",
       "      <td>0</td>\n",
       "      <td>0</td>\n",
       "      <td>8.0</td>\n",
       "      <td>111.83</td>\n",
       "      <td>20</td>\n",
       "      <td>3</td>\n",
       "      <td>2019</td>\n",
       "      <td>0.29</td>\n",
       "      <td>0.37</td>\n",
       "      <td>последний</td>\n",
       "    </tr>\n",
       "  </tbody>\n",
       "</table>\n",
       "<p>1 rows × 29 columns</p>\n",
       "</div>"
      ],
      "text/plain": [
       "      total_images  last_price  total_area first_day_exposition  rooms  \\\n",
       "7797             7       12190       109.0           2019-03-20      2   \n",
       "\n",
       "      ceiling_height  floors_total  living_area  floor  is_apartment  ...  \\\n",
       "7797            2.75            25         32.0     25         False  ...   \n",
       "\n",
       "      ponds_around3000  ponds_nearest  days_exposition  price_for_metr day  \\\n",
       "7797                 0              0              8.0          111.83  20   \n",
       "\n",
       "      month  year  ratio_living/total  ratio_kithcen/total  floor_position  \n",
       "7797      3  2019                0.29                 0.37       последний  \n",
       "\n",
       "[1 rows x 29 columns]"
      ]
     },
     "execution_count": 25,
     "metadata": {},
     "output_type": "execute_result"
    }
   ],
   "source": [
    "df[df['last_price'] < 400000]"
   ]
  },
  {
   "cell_type": "markdown",
   "metadata": {},
   "source": [
    "Наверно, просто забыли три нуля. Однако, гадать нам не нужно: оно всего одно - просто удалим.\n",
    "\n",
    "Probably just forgot three zeros. However, we do not need to guess: it is only one - just delete it."
   ]
  },
  {
   "cell_type": "code",
   "execution_count": 26,
   "metadata": {},
   "outputs": [],
   "source": [
    "df.drop(df[df['last_price'] < 400000].index, axis=0, inplace=True)\n",
    "df.reset_index(inplace=True, drop=True)"
   ]
  },
  {
   "cell_type": "markdown",
   "metadata": {},
   "source": [
    "Построим гистограмму. \n",
    "\n",
    "Let's build a histogram."
   ]
  },
  {
   "cell_type": "code",
   "execution_count": 47,
   "metadata": {
    "scrolled": true
   },
   "outputs": [
    {
     "data": {
      "text/plain": [
       "<matplotlib.axes._subplots.AxesSubplot at 0x7f6829f1e890>"
      ]
     },
     "execution_count": 47,
     "metadata": {},
     "output_type": "execute_result"
    },
    {
     "data": {
      "image/png": "[encoded data removed]",
      "text/plain": [
       "<Figure size 432x288 with 1 Axes>"
      ]
     },
     "metadata": {
      "needs_background": "light"
     },
     "output_type": "display_data"
    }
   ],
   "source": [
    "df['last_price'].plot(kind='hist', bins=100, title='Price (rubles)')"
   ]
  },
  {
   "cell_type": "markdown",
   "metadata": {},
   "source": [
    "Из-за сликшом большого размаха, сколько корзин не выбирай, гистограмма получается не информативной. Разобъем наблюдения по децилям цен.\n",
    "\n",
    "Due to too large scope, no matter how many baskets you choose, the histogram is not informative. Breakdown of observation by price deciles."
   ]
  },
  {
   "cell_type": "code",
   "execution_count": 48,
   "metadata": {},
   "outputs": [
    {
     "name": "stdout",
     "output_type": "stream",
     "text": [
      "price_quartilis\n",
      "(429999.999, 2600000.0]      2193\n",
      "(2600000.0, 3250000.0]       2075\n",
      "(3250000.0, 3700000.0]       2094\n",
      "(3700000.0, 4200000.0]       2252\n",
      "(4200000.0, 4700000.0]       2012\n",
      "(4700000.0, 5300000.0]       2007\n",
      "(5300000.0, 6200000.0]       2108\n",
      "(6200000.0, 7585000.0]       2013\n",
      "(7585000.0, 10847400.0]      2093\n",
      "(10847400.0, 420000000.0]    2095\n",
      "Name: locality_name, dtype: int64\n"
     ]
    }
   ],
   "source": [
    "df['price_quartilis'] = pd.qcut(df['last_price'] ,q=10)\n",
    "print(df.groupby('price_quartilis')['locality_name'].count())"
   ]
  },
  {
   "cell_type": "markdown",
   "metadata": {},
   "source": [
    "Ого, как сбалансированно! А не посмотреть ли на гистограммы внутри децилий?\n",
    "\n",
    "Wow, how balanced! Why not look at the histograms inside the deciles?"
   ]
  },
  {
   "cell_type": "code",
   "execution_count": 49,
   "metadata": {
    "scrolled": false
   },
   "outputs": [
    {
     "data": {
      "image/png": "[encoded data removed]",
      "text/plain": [
       "<Figure size 432x288 with 1 Axes>"
      ]
     },
     "metadata": {
      "needs_background": "light"
     },
     "output_type": "display_data"
    },
    {
     "data": {
      "image/png": "[encoded data removed]",
      "text/plain": [
       "<Figure size 432x288 with 1 Axes>"
      ]
     },
     "metadata": {
      "needs_background": "light"
     },
     "output_type": "display_data"
    },
    {
     "data": {
      "image/png": "[encoded data removed]",
      "text/plain": [
       "<Figure size 432x288 with 1 Axes>"
      ]
     },
     "metadata": {
      "needs_background": "light"
     },
     "output_type": "display_data"
    },
    {
     "data": {
      "image/png": "[encoded data removed]",
      "text/plain": [
       "<Figure size 432x288 with 1 Axes>"
      ]
     },
     "metadata": {
      "needs_background": "light"
     },
     "output_type": "display_data"
    },
    {
     "data": {
      "image/png": "[encoded data removed]",
      "text/plain": [
       "<Figure size 432x288 with 1 Axes>"
      ]
     },
     "metadata": {
      "needs_background": "light"
     },
     "output_type": "display_data"
    },
    {
     "data": {
      "image/png": "[encoded data removed]",
      "text/plain": [
       "<Figure size 432x288 with 1 Axes>"
      ]
     },
     "metadata": {
      "needs_background": "light"
     },
     "output_type": "display_data"
    },
    {
     "data": {
      "image/png": "[encoded data removed]",
      "text/plain": [
       "<Figure size 432x288 with 1 Axes>"
      ]
     },
     "metadata": {
      "needs_background": "light"
     },
     "output_type": "display_data"
    },
    {
     "data": {
      "image/png": "[encoded data removed]",
      "text/plain": [
       "<Figure size 432x288 with 1 Axes>"
      ]
     },
     "metadata": {
      "needs_background": "light"
     },
     "output_type": "display_data"
    },
    {
     "data": {
      "image/png": "[encoded data removed]",
      "text/plain": [
       "<Figure size 432x288 with 1 Axes>"
      ]
     },
     "metadata": {
      "needs_background": "light"
     },
     "output_type": "display_data"
    },
    {
     "data": {
      "image/png": "[encoded data removed]",
      "text/plain": [
       "<Figure size 432x288 with 1 Axes>"
      ]
     },
     "metadata": {
      "needs_background": "light"
     },
     "output_type": "display_data"
    }
   ],
   "source": [
    "for name, grouped_price in df.groupby('price_quartilis'):\n",
    "        grouped_price.plot(y='last_price', kind='hist', bins=50, title=name)"
   ]
  },
  {
   "cell_type": "markdown",
   "metadata": {},
   "source": [
    "Можно увидеть, что цены \"сбиваются в кучку\" рядом с наиболее \"круглыми\" значениями (оно и понятно, квартиры же продаём). Также внутри каждого графика видим похожие друг на друга пики (не считая самого дешевого и самого дорогого сегмента).\n",
    "\n",
    "You can see that the prices \"knock up\" next to the most \"round\" values (it's understandable, we are selling apartments). Also inside each chart we see peaks similar to each other (not counting the cheapest and most expensive segment)."
   ]
  },
  {
   "cell_type": "markdown",
   "metadata": {},
   "source": [
    "Посмотрим на количество комнат.\n",
    "\n",
    "Let's look at the number of rooms."
   ]
  },
  {
   "cell_type": "code",
   "execution_count": 50,
   "metadata": {},
   "outputs": [
    {
     "name": "stdout",
     "output_type": "stream",
     "text": [
      "Минимальное количество комнат: 1\n",
      "Максимальное количество комнат: 19\n"
     ]
    }
   ],
   "source": [
    "print('Минимальное количество комнат:', df['rooms'].min())\n",
    "print('Максимальное количество комнат:', df['rooms'].max())"
   ]
  },
  {
   "cell_type": "markdown",
   "metadata": {},
   "source": [
    "Minimum number of rooms: 1\n",
    "Maximum number of rooms: 19"
   ]
  },
  {
   "cell_type": "code",
   "execution_count": 74,
   "metadata": {
    "scrolled": true
   },
   "outputs": [
    {
     "data": {
      "text/plain": [
       "<matplotlib.axes._subplots.AxesSubplot at 0x7f6828f30e90>"
      ]
     },
     "execution_count": 74,
     "metadata": {},
     "output_type": "execute_result"
    },
    {
     "data": {
      "image/png": "[encoded data removed]",
      "text/plain": [
       "<Figure size 432x288 with 1 Axes>"
      ]
     },
     "metadata": {
      "needs_background": "light"
     },
     "output_type": "display_data"
    }
   ],
   "source": [
    "df['rooms'].plot(kind='hist', bins=15, title='Nember of rooms')"
   ]
  },
  {
   "cell_type": "markdown",
   "metadata": {},
   "source": [
    "Естественно, что квартир с 3+ комант довольно мало. Наверно, самый главый вывод, который можно сделать: пользователи добросовестно заполняют эту графу.\n",
    "\n",
    "Naturally, there are quite a few apartments with 3+ rooms. Probably the most important conclusion that can be drawn is that users fill out this column in good faith."
   ]
  },
  {
   "cell_type": "markdown",
   "metadata": {},
   "source": [
    "Посмотрим на квартиры, где 10 и больше комнат: вдруг что-то странное.\n",
    "\n",
    "Let's look at apartments with 10 or more rooms: suddenly something strange."
   ]
  },
  {
   "cell_type": "code",
   "execution_count": 52,
   "metadata": {
    "scrolled": true
   },
   "outputs": [
    {
     "data": {
      "text/html": [
       "<div>\n",
       "<style scoped>\n",
       "    .dataframe tbody tr th:only-of-type {\n",
       "        vertical-align: middle;\n",
       "    }\n",
       "\n",
       "    .dataframe tbody tr th {\n",
       "        vertical-align: top;\n",
       "    }\n",
       "\n",
       "    .dataframe thead th {\n",
       "        text-align: right;\n",
       "    }\n",
       "</style>\n",
       "<table border=\"1\" class=\"dataframe\">\n",
       "  <thead>\n",
       "    <tr style=\"text-align: right;\">\n",
       "      <th></th>\n",
       "      <th>total_images</th>\n",
       "      <th>last_price</th>\n",
       "      <th>total_area</th>\n",
       "      <th>first_day_exposition</th>\n",
       "      <th>rooms</th>\n",
       "      <th>ceiling_height</th>\n",
       "      <th>floors_total</th>\n",
       "      <th>living_area</th>\n",
       "      <th>floor</th>\n",
       "      <th>is_apartment</th>\n",
       "      <th>...</th>\n",
       "      <th>ponds_nearest</th>\n",
       "      <th>days_exposition</th>\n",
       "      <th>price_for_metr</th>\n",
       "      <th>day</th>\n",
       "      <th>month</th>\n",
       "      <th>year</th>\n",
       "      <th>ratio_living/total</th>\n",
       "      <th>ratio_kithcen/total</th>\n",
       "      <th>floor_position</th>\n",
       "      <th>price_quartilis</th>\n",
       "    </tr>\n",
       "  </thead>\n",
       "  <tbody>\n",
       "    <tr>\n",
       "      <td>585</td>\n",
       "      <td>3</td>\n",
       "      <td>17500000</td>\n",
       "      <td>183.7</td>\n",
       "      <td>2018-07-01</td>\n",
       "      <td>11</td>\n",
       "      <td>3.40</td>\n",
       "      <td>7</td>\n",
       "      <td>138.8</td>\n",
       "      <td>7</td>\n",
       "      <td>False</td>\n",
       "      <td>...</td>\n",
       "      <td>0</td>\n",
       "      <td>NaN</td>\n",
       "      <td>95264.02</td>\n",
       "      <td>1</td>\n",
       "      <td>7</td>\n",
       "      <td>2018</td>\n",
       "      <td>0.76</td>\n",
       "      <td>0.07</td>\n",
       "      <td>последний</td>\n",
       "      <td>(10847400.0, 420000000.0]</td>\n",
       "    </tr>\n",
       "    <tr>\n",
       "      <td>782</td>\n",
       "      <td>5</td>\n",
       "      <td>25000000</td>\n",
       "      <td>363.0</td>\n",
       "      <td>2017-12-23</td>\n",
       "      <td>14</td>\n",
       "      <td>3.16</td>\n",
       "      <td>5</td>\n",
       "      <td>222.0</td>\n",
       "      <td>4</td>\n",
       "      <td>False</td>\n",
       "      <td>...</td>\n",
       "      <td>435</td>\n",
       "      <td>418.0</td>\n",
       "      <td>68870.52</td>\n",
       "      <td>23</td>\n",
       "      <td>12</td>\n",
       "      <td>2017</td>\n",
       "      <td>0.61</td>\n",
       "      <td>0.05</td>\n",
       "      <td>другой</td>\n",
       "      <td>(10847400.0, 420000000.0]</td>\n",
       "    </tr>\n",
       "    <tr>\n",
       "      <td>3680</td>\n",
       "      <td>6</td>\n",
       "      <td>23000000</td>\n",
       "      <td>272.6</td>\n",
       "      <td>2018-01-11</td>\n",
       "      <td>10</td>\n",
       "      <td>3.14</td>\n",
       "      <td>7</td>\n",
       "      <td>145.9</td>\n",
       "      <td>7</td>\n",
       "      <td>False</td>\n",
       "      <td>...</td>\n",
       "      <td>531</td>\n",
       "      <td>NaN</td>\n",
       "      <td>84372.71</td>\n",
       "      <td>11</td>\n",
       "      <td>1</td>\n",
       "      <td>2018</td>\n",
       "      <td>0.54</td>\n",
       "      <td>0.07</td>\n",
       "      <td>последний</td>\n",
       "      <td>(10847400.0, 420000000.0]</td>\n",
       "    </tr>\n",
       "    <tr>\n",
       "      <td>4730</td>\n",
       "      <td>20</td>\n",
       "      <td>65000000</td>\n",
       "      <td>590.0</td>\n",
       "      <td>2019-02-14</td>\n",
       "      <td>15</td>\n",
       "      <td>3.50</td>\n",
       "      <td>6</td>\n",
       "      <td>409.0</td>\n",
       "      <td>3</td>\n",
       "      <td>False</td>\n",
       "      <td>...</td>\n",
       "      <td>0</td>\n",
       "      <td>14.0</td>\n",
       "      <td>110169.49</td>\n",
       "      <td>14</td>\n",
       "      <td>2</td>\n",
       "      <td>2019</td>\n",
       "      <td>0.69</td>\n",
       "      <td>0.17</td>\n",
       "      <td>другой</td>\n",
       "      <td>(10847400.0, 420000000.0]</td>\n",
       "    </tr>\n",
       "    <tr>\n",
       "      <td>8599</td>\n",
       "      <td>8</td>\n",
       "      <td>33000000</td>\n",
       "      <td>194.1</td>\n",
       "      <td>2017-02-07</td>\n",
       "      <td>11</td>\n",
       "      <td>3.43</td>\n",
       "      <td>5</td>\n",
       "      <td>129.0</td>\n",
       "      <td>2</td>\n",
       "      <td>False</td>\n",
       "      <td>...</td>\n",
       "      <td>66</td>\n",
       "      <td>813.0</td>\n",
       "      <td>170015.46</td>\n",
       "      <td>7</td>\n",
       "      <td>2</td>\n",
       "      <td>2017</td>\n",
       "      <td>0.66</td>\n",
       "      <td>0.06</td>\n",
       "      <td>другой</td>\n",
       "      <td>(10847400.0, 420000000.0]</td>\n",
       "    </tr>\n",
       "    <tr>\n",
       "      <td>12850</td>\n",
       "      <td>6</td>\n",
       "      <td>32250000</td>\n",
       "      <td>374.6</td>\n",
       "      <td>2018-06-09</td>\n",
       "      <td>19</td>\n",
       "      <td>2.65</td>\n",
       "      <td>5</td>\n",
       "      <td>264.5</td>\n",
       "      <td>2</td>\n",
       "      <td>False</td>\n",
       "      <td>...</td>\n",
       "      <td>548</td>\n",
       "      <td>114.0</td>\n",
       "      <td>86091.83</td>\n",
       "      <td>9</td>\n",
       "      <td>6</td>\n",
       "      <td>2018</td>\n",
       "      <td>0.71</td>\n",
       "      <td>0.07</td>\n",
       "      <td>другой</td>\n",
       "      <td>(10847400.0, 420000000.0]</td>\n",
       "    </tr>\n",
       "    <tr>\n",
       "      <td>16036</td>\n",
       "      <td>4</td>\n",
       "      <td>15500000</td>\n",
       "      <td>216.1</td>\n",
       "      <td>2016-07-04</td>\n",
       "      <td>10</td>\n",
       "      <td>3.15</td>\n",
       "      <td>5</td>\n",
       "      <td>161.4</td>\n",
       "      <td>2</td>\n",
       "      <td>False</td>\n",
       "      <td>...</td>\n",
       "      <td>0</td>\n",
       "      <td>11.0</td>\n",
       "      <td>71726.05</td>\n",
       "      <td>4</td>\n",
       "      <td>7</td>\n",
       "      <td>2016</td>\n",
       "      <td>0.75</td>\n",
       "      <td>0.09</td>\n",
       "      <td>другой</td>\n",
       "      <td>(10847400.0, 420000000.0]</td>\n",
       "    </tr>\n",
       "    <tr>\n",
       "      <td>16670</td>\n",
       "      <td>6</td>\n",
       "      <td>28500000</td>\n",
       "      <td>270.0</td>\n",
       "      <td>2015-03-02</td>\n",
       "      <td>16</td>\n",
       "      <td>3.00</td>\n",
       "      <td>4</td>\n",
       "      <td>180.0</td>\n",
       "      <td>4</td>\n",
       "      <td>False</td>\n",
       "      <td>...</td>\n",
       "      <td>0</td>\n",
       "      <td>1365.0</td>\n",
       "      <td>105555.56</td>\n",
       "      <td>2</td>\n",
       "      <td>3</td>\n",
       "      <td>2015</td>\n",
       "      <td>0.67</td>\n",
       "      <td>0.05</td>\n",
       "      <td>последний</td>\n",
       "      <td>(10847400.0, 420000000.0]</td>\n",
       "    </tr>\n",
       "    <tr>\n",
       "      <td>16710</td>\n",
       "      <td>11</td>\n",
       "      <td>40000000</td>\n",
       "      <td>290.0</td>\n",
       "      <td>2016-06-21</td>\n",
       "      <td>10</td>\n",
       "      <td>3.50</td>\n",
       "      <td>6</td>\n",
       "      <td>189.4</td>\n",
       "      <td>6</td>\n",
       "      <td>False</td>\n",
       "      <td>...</td>\n",
       "      <td>227</td>\n",
       "      <td>77.0</td>\n",
       "      <td>137931.03</td>\n",
       "      <td>21</td>\n",
       "      <td>6</td>\n",
       "      <td>2016</td>\n",
       "      <td>0.65</td>\n",
       "      <td>0.10</td>\n",
       "      <td>последний</td>\n",
       "      <td>(10847400.0, 420000000.0]</td>\n",
       "    </tr>\n",
       "    <tr>\n",
       "      <td>17278</td>\n",
       "      <td>8</td>\n",
       "      <td>420000000</td>\n",
       "      <td>900.0</td>\n",
       "      <td>2017-12-06</td>\n",
       "      <td>12</td>\n",
       "      <td>2.80</td>\n",
       "      <td>25</td>\n",
       "      <td>409.7</td>\n",
       "      <td>25</td>\n",
       "      <td>False</td>\n",
       "      <td>...</td>\n",
       "      <td>318</td>\n",
       "      <td>106.0</td>\n",
       "      <td>466666.67</td>\n",
       "      <td>6</td>\n",
       "      <td>12</td>\n",
       "      <td>2017</td>\n",
       "      <td>0.46</td>\n",
       "      <td>0.12</td>\n",
       "      <td>последний</td>\n",
       "      <td>(10847400.0, 420000000.0]</td>\n",
       "    </tr>\n",
       "    <tr>\n",
       "      <td>18415</td>\n",
       "      <td>6</td>\n",
       "      <td>28659000</td>\n",
       "      <td>245.4</td>\n",
       "      <td>2016-03-31</td>\n",
       "      <td>14</td>\n",
       "      <td>2.65</td>\n",
       "      <td>4</td>\n",
       "      <td>168.3</td>\n",
       "      <td>2</td>\n",
       "      <td>False</td>\n",
       "      <td>...</td>\n",
       "      <td>118</td>\n",
       "      <td>95.0</td>\n",
       "      <td>116784.84</td>\n",
       "      <td>31</td>\n",
       "      <td>3</td>\n",
       "      <td>2016</td>\n",
       "      <td>0.69</td>\n",
       "      <td>0.11</td>\n",
       "      <td>другой</td>\n",
       "      <td>(10847400.0, 420000000.0]</td>\n",
       "    </tr>\n",
       "  </tbody>\n",
       "</table>\n",
       "<p>11 rows × 30 columns</p>\n",
       "</div>"
      ],
      "text/plain": [
       "       total_images  last_price  total_area first_day_exposition  rooms  \\\n",
       "585               3    17500000       183.7           2018-07-01     11   \n",
       "782               5    25000000       363.0           2017-12-23     14   \n",
       "3680              6    23000000       272.6           2018-01-11     10   \n",
       "4730             20    65000000       590.0           2019-02-14     15   \n",
       "8599              8    33000000       194.1           2017-02-07     11   \n",
       "12850             6    32250000       374.6           2018-06-09     19   \n",
       "16036             4    15500000       216.1           2016-07-04     10   \n",
       "16670             6    28500000       270.0           2015-03-02     16   \n",
       "16710            11    40000000       290.0           2016-06-21     10   \n",
       "17278             8   420000000       900.0           2017-12-06     12   \n",
       "18415             6    28659000       245.4           2016-03-31     14   \n",
       "\n",
       "       ceiling_height  floors_total  living_area  floor  is_apartment  ...  \\\n",
       "585              3.40             7        138.8      7         False  ...   \n",
       "782              3.16             5        222.0      4         False  ...   \n",
       "3680             3.14             7        145.9      7         False  ...   \n",
       "4730             3.50             6        409.0      3         False  ...   \n",
       "8599             3.43             5        129.0      2         False  ...   \n",
       "12850            2.65             5        264.5      2         False  ...   \n",
       "16036            3.15             5        161.4      2         False  ...   \n",
       "16670            3.00             4        180.0      4         False  ...   \n",
       "16710            3.50             6        189.4      6         False  ...   \n",
       "17278            2.80            25        409.7     25         False  ...   \n",
       "18415            2.65             4        168.3      2         False  ...   \n",
       "\n",
       "       ponds_nearest  days_exposition  price_for_metr  day month  year  \\\n",
       "585                0              NaN        95264.02    1     7  2018   \n",
       "782              435            418.0        68870.52   23    12  2017   \n",
       "3680             531              NaN        84372.71   11     1  2018   \n",
       "4730               0             14.0       110169.49   14     2  2019   \n",
       "8599              66            813.0       170015.46    7     2  2017   \n",
       "12850            548            114.0        86091.83    9     6  2018   \n",
       "16036              0             11.0        71726.05    4     7  2016   \n",
       "16670              0           1365.0       105555.56    2     3  2015   \n",
       "16710            227             77.0       137931.03   21     6  2016   \n",
       "17278            318            106.0       466666.67    6    12  2017   \n",
       "18415            118             95.0       116784.84   31     3  2016   \n",
       "\n",
       "       ratio_living/total  ratio_kithcen/total  floor_position  \\\n",
       "585                  0.76                 0.07       последний   \n",
       "782                  0.61                 0.05          другой   \n",
       "3680                 0.54                 0.07       последний   \n",
       "4730                 0.69                 0.17          другой   \n",
       "8599                 0.66                 0.06          другой   \n",
       "12850                0.71                 0.07          другой   \n",
       "16036                0.75                 0.09          другой   \n",
       "16670                0.67                 0.05       последний   \n",
       "16710                0.65                 0.10       последний   \n",
       "17278                0.46                 0.12       последний   \n",
       "18415                0.69                 0.11          другой   \n",
       "\n",
       "                 price_quartilis  \n",
       "585    (10847400.0, 420000000.0]  \n",
       "782    (10847400.0, 420000000.0]  \n",
       "3680   (10847400.0, 420000000.0]  \n",
       "4730   (10847400.0, 420000000.0]  \n",
       "8599   (10847400.0, 420000000.0]  \n",
       "12850  (10847400.0, 420000000.0]  \n",
       "16036  (10847400.0, 420000000.0]  \n",
       "16670  (10847400.0, 420000000.0]  \n",
       "16710  (10847400.0, 420000000.0]  \n",
       "17278  (10847400.0, 420000000.0]  \n",
       "18415  (10847400.0, 420000000.0]  \n",
       "\n",
       "[11 rows x 30 columns]"
      ]
     },
     "execution_count": 52,
     "metadata": {},
     "output_type": "execute_result"
    }
   ],
   "source": [
    "df[df['rooms'] >= 10]"
   ]
  },
  {
   "cell_type": "markdown",
   "metadata": {},
   "source": [
    "Всё в порядке. Идём дальше.\n",
    "\n",
    "It's all right. Move on."
   ]
  },
  {
   "cell_type": "markdown",
   "metadata": {},
   "source": [
    "Взглянем на потолки.\n",
    "\n",
    "Let's take a look at the ceilings."
   ]
  },
  {
   "cell_type": "code",
   "execution_count": 53,
   "metadata": {
    "scrolled": true
   },
   "outputs": [
    {
     "name": "stdout",
     "output_type": "stream",
     "text": [
      "Минимальная высота потолка 1.0\n",
      "Максимальная высота потолка 100.0\n"
     ]
    }
   ],
   "source": [
    "print('Минимальная высота потолка', df['ceiling_height'].min())\n",
    "print('Максимальная высота потолка', df['ceiling_height'].max())"
   ]
  },
  {
   "cell_type": "markdown",
   "metadata": {},
   "source": [
    "Minimum ceiling height: 1.0\n",
    "\n",
    "Maximum ceiling height: 100.0"
   ]
  },
  {
   "cell_type": "markdown",
   "metadata": {},
   "source": [
    "Ну это ни в какие ворота.Проверим слишком болшие и слишком маленькие значения.\n",
    "\n",
    "Well, this is no way. Let's check the values that are too large and too small."
   ]
  },
  {
   "cell_type": "code",
   "execution_count": 54,
   "metadata": {
    "scrolled": true
   },
   "outputs": [
    {
     "data": {
      "text/html": [
       "<div>\n",
       "<style scoped>\n",
       "    .dataframe tbody tr th:only-of-type {\n",
       "        vertical-align: middle;\n",
       "    }\n",
       "\n",
       "    .dataframe tbody tr th {\n",
       "        vertical-align: top;\n",
       "    }\n",
       "\n",
       "    .dataframe thead th {\n",
       "        text-align: right;\n",
       "    }\n",
       "</style>\n",
       "<table border=\"1\" class=\"dataframe\">\n",
       "  <thead>\n",
       "    <tr style=\"text-align: right;\">\n",
       "      <th></th>\n",
       "      <th>total_images</th>\n",
       "      <th>last_price</th>\n",
       "      <th>total_area</th>\n",
       "      <th>first_day_exposition</th>\n",
       "      <th>rooms</th>\n",
       "      <th>ceiling_height</th>\n",
       "      <th>floors_total</th>\n",
       "      <th>living_area</th>\n",
       "      <th>floor</th>\n",
       "      <th>is_apartment</th>\n",
       "      <th>...</th>\n",
       "      <th>ponds_nearest</th>\n",
       "      <th>days_exposition</th>\n",
       "      <th>price_for_metr</th>\n",
       "      <th>day</th>\n",
       "      <th>month</th>\n",
       "      <th>year</th>\n",
       "      <th>ratio_living/total</th>\n",
       "      <th>ratio_kithcen/total</th>\n",
       "      <th>floor_position</th>\n",
       "      <th>price_quartilis</th>\n",
       "    </tr>\n",
       "  </thead>\n",
       "  <tbody>\n",
       "    <tr>\n",
       "      <td>2788</td>\n",
       "      <td>14</td>\n",
       "      <td>2900000</td>\n",
       "      <td>75.0</td>\n",
       "      <td>2018-11-12</td>\n",
       "      <td>3</td>\n",
       "      <td>32.00</td>\n",
       "      <td>3</td>\n",
       "      <td>53.0</td>\n",
       "      <td>2</td>\n",
       "      <td>False</td>\n",
       "      <td>...</td>\n",
       "      <td>0</td>\n",
       "      <td>NaN</td>\n",
       "      <td>38666.67</td>\n",
       "      <td>12</td>\n",
       "      <td>11</td>\n",
       "      <td>2018</td>\n",
       "      <td>0.71</td>\n",
       "      <td>0.11</td>\n",
       "      <td>другой</td>\n",
       "      <td>(2600000.0, 3250000.0]</td>\n",
       "    </tr>\n",
       "    <tr>\n",
       "      <td>3081</td>\n",
       "      <td>3</td>\n",
       "      <td>1400000</td>\n",
       "      <td>30.0</td>\n",
       "      <td>2018-03-16</td>\n",
       "      <td>1</td>\n",
       "      <td>8.00</td>\n",
       "      <td>5</td>\n",
       "      <td>15.3</td>\n",
       "      <td>2</td>\n",
       "      <td>False</td>\n",
       "      <td>...</td>\n",
       "      <td>0</td>\n",
       "      <td>125.0</td>\n",
       "      <td>46666.67</td>\n",
       "      <td>16</td>\n",
       "      <td>3</td>\n",
       "      <td>2018</td>\n",
       "      <td>0.51</td>\n",
       "      <td>0.24</td>\n",
       "      <td>другой</td>\n",
       "      <td>(429999.999, 2600000.0]</td>\n",
       "    </tr>\n",
       "    <tr>\n",
       "      <td>4112</td>\n",
       "      <td>0</td>\n",
       "      <td>4300000</td>\n",
       "      <td>45.0</td>\n",
       "      <td>2018-02-01</td>\n",
       "      <td>2</td>\n",
       "      <td>25.00</td>\n",
       "      <td>9</td>\n",
       "      <td>30.0</td>\n",
       "      <td>2</td>\n",
       "      <td>False</td>\n",
       "      <td>...</td>\n",
       "      <td>331</td>\n",
       "      <td>181.0</td>\n",
       "      <td>95555.56</td>\n",
       "      <td>1</td>\n",
       "      <td>2</td>\n",
       "      <td>2018</td>\n",
       "      <td>0.67</td>\n",
       "      <td>0.16</td>\n",
       "      <td>другой</td>\n",
       "      <td>(4200000.0, 4700000.0]</td>\n",
       "    </tr>\n",
       "    <tr>\n",
       "      <td>4483</td>\n",
       "      <td>0</td>\n",
       "      <td>3850000</td>\n",
       "      <td>30.5</td>\n",
       "      <td>2018-10-03</td>\n",
       "      <td>1</td>\n",
       "      <td>24.00</td>\n",
       "      <td>5</td>\n",
       "      <td>19.5</td>\n",
       "      <td>1</td>\n",
       "      <td>True</td>\n",
       "      <td>...</td>\n",
       "      <td>578</td>\n",
       "      <td>7.0</td>\n",
       "      <td>126229.51</td>\n",
       "      <td>3</td>\n",
       "      <td>10</td>\n",
       "      <td>2018</td>\n",
       "      <td>0.64</td>\n",
       "      <td>0.18</td>\n",
       "      <td>первый</td>\n",
       "      <td>(3700000.0, 4200000.0]</td>\n",
       "    </tr>\n",
       "    <tr>\n",
       "      <td>4638</td>\n",
       "      <td>0</td>\n",
       "      <td>2500000</td>\n",
       "      <td>54.0</td>\n",
       "      <td>2017-10-13</td>\n",
       "      <td>2</td>\n",
       "      <td>27.00</td>\n",
       "      <td>5</td>\n",
       "      <td>30.0</td>\n",
       "      <td>3</td>\n",
       "      <td>False</td>\n",
       "      <td>...</td>\n",
       "      <td>0</td>\n",
       "      <td>540.0</td>\n",
       "      <td>46296.30</td>\n",
       "      <td>13</td>\n",
       "      <td>10</td>\n",
       "      <td>2017</td>\n",
       "      <td>0.56</td>\n",
       "      <td>0.17</td>\n",
       "      <td>другой</td>\n",
       "      <td>(429999.999, 2600000.0]</td>\n",
       "    </tr>\n",
       "    <tr>\n",
       "      <td>5008</td>\n",
       "      <td>4</td>\n",
       "      <td>4400000</td>\n",
       "      <td>50.0</td>\n",
       "      <td>2017-08-08</td>\n",
       "      <td>2</td>\n",
       "      <td>26.00</td>\n",
       "      <td>9</td>\n",
       "      <td>21.3</td>\n",
       "      <td>3</td>\n",
       "      <td>False</td>\n",
       "      <td>...</td>\n",
       "      <td>0</td>\n",
       "      <td>267.0</td>\n",
       "      <td>88000.00</td>\n",
       "      <td>8</td>\n",
       "      <td>8</td>\n",
       "      <td>2017</td>\n",
       "      <td>0.43</td>\n",
       "      <td>0.14</td>\n",
       "      <td>другой</td>\n",
       "      <td>(4200000.0, 4700000.0]</td>\n",
       "    </tr>\n",
       "    <tr>\n",
       "      <td>5046</td>\n",
       "      <td>5</td>\n",
       "      <td>1500000</td>\n",
       "      <td>42.8</td>\n",
       "      <td>2017-08-14</td>\n",
       "      <td>2</td>\n",
       "      <td>1.20</td>\n",
       "      <td>2</td>\n",
       "      <td>27.5</td>\n",
       "      <td>1</td>\n",
       "      <td>False</td>\n",
       "      <td>...</td>\n",
       "      <td>0</td>\n",
       "      <td>248.0</td>\n",
       "      <td>35046.73</td>\n",
       "      <td>14</td>\n",
       "      <td>8</td>\n",
       "      <td>2017</td>\n",
       "      <td>0.64</td>\n",
       "      <td>0.12</td>\n",
       "      <td>первый</td>\n",
       "      <td>(429999.999, 2600000.0]</td>\n",
       "    </tr>\n",
       "    <tr>\n",
       "      <td>5131</td>\n",
       "      <td>17</td>\n",
       "      <td>8150000</td>\n",
       "      <td>80.0</td>\n",
       "      <td>2019-01-09</td>\n",
       "      <td>2</td>\n",
       "      <td>27.00</td>\n",
       "      <td>36</td>\n",
       "      <td>41.0</td>\n",
       "      <td>13</td>\n",
       "      <td>False</td>\n",
       "      <td>...</td>\n",
       "      <td>80</td>\n",
       "      <td>38.0</td>\n",
       "      <td>101875.00</td>\n",
       "      <td>9</td>\n",
       "      <td>1</td>\n",
       "      <td>2019</td>\n",
       "      <td>0.51</td>\n",
       "      <td>0.15</td>\n",
       "      <td>другой</td>\n",
       "      <td>(7585000.0, 10847400.0]</td>\n",
       "    </tr>\n",
       "    <tr>\n",
       "      <td>5180</td>\n",
       "      <td>20</td>\n",
       "      <td>5650000</td>\n",
       "      <td>45.0</td>\n",
       "      <td>2018-08-15</td>\n",
       "      <td>1</td>\n",
       "      <td>8.30</td>\n",
       "      <td>16</td>\n",
       "      <td>19.3</td>\n",
       "      <td>14</td>\n",
       "      <td>False</td>\n",
       "      <td>...</td>\n",
       "      <td>613</td>\n",
       "      <td>14.0</td>\n",
       "      <td>125555.56</td>\n",
       "      <td>15</td>\n",
       "      <td>8</td>\n",
       "      <td>2018</td>\n",
       "      <td>0.43</td>\n",
       "      <td>0.18</td>\n",
       "      <td>другой</td>\n",
       "      <td>(5300000.0, 6200000.0]</td>\n",
       "    </tr>\n",
       "    <tr>\n",
       "      <td>5522</td>\n",
       "      <td>6</td>\n",
       "      <td>3300000</td>\n",
       "      <td>44.4</td>\n",
       "      <td>2019-03-25</td>\n",
       "      <td>2</td>\n",
       "      <td>25.00</td>\n",
       "      <td>5</td>\n",
       "      <td>31.3</td>\n",
       "      <td>5</td>\n",
       "      <td>False</td>\n",
       "      <td>...</td>\n",
       "      <td>73</td>\n",
       "      <td>NaN</td>\n",
       "      <td>74324.32</td>\n",
       "      <td>25</td>\n",
       "      <td>3</td>\n",
       "      <td>2019</td>\n",
       "      <td>0.70</td>\n",
       "      <td>0.13</td>\n",
       "      <td>последний</td>\n",
       "      <td>(3250000.0, 3700000.0]</td>\n",
       "    </tr>\n",
       "    <tr>\n",
       "      <td>8324</td>\n",
       "      <td>5</td>\n",
       "      <td>3950000</td>\n",
       "      <td>42.0</td>\n",
       "      <td>2017-03-26</td>\n",
       "      <td>3</td>\n",
       "      <td>25.00</td>\n",
       "      <td>5</td>\n",
       "      <td>30.0</td>\n",
       "      <td>2</td>\n",
       "      <td>False</td>\n",
       "      <td>...</td>\n",
       "      <td>0</td>\n",
       "      <td>NaN</td>\n",
       "      <td>94047.62</td>\n",
       "      <td>26</td>\n",
       "      <td>3</td>\n",
       "      <td>2017</td>\n",
       "      <td>0.71</td>\n",
       "      <td>0.12</td>\n",
       "      <td>другой</td>\n",
       "      <td>(3700000.0, 4200000.0]</td>\n",
       "    </tr>\n",
       "    <tr>\n",
       "      <td>9536</td>\n",
       "      <td>8</td>\n",
       "      <td>3800000</td>\n",
       "      <td>58.0</td>\n",
       "      <td>2017-10-13</td>\n",
       "      <td>2</td>\n",
       "      <td>27.00</td>\n",
       "      <td>10</td>\n",
       "      <td>30.1</td>\n",
       "      <td>3</td>\n",
       "      <td>False</td>\n",
       "      <td>...</td>\n",
       "      <td>0</td>\n",
       "      <td>71.0</td>\n",
       "      <td>65517.24</td>\n",
       "      <td>13</td>\n",
       "      <td>10</td>\n",
       "      <td>2017</td>\n",
       "      <td>0.52</td>\n",
       "      <td>0.14</td>\n",
       "      <td>другой</td>\n",
       "      <td>(3700000.0, 4200000.0]</td>\n",
       "    </tr>\n",
       "    <tr>\n",
       "      <td>9997</td>\n",
       "      <td>0</td>\n",
       "      <td>1950000</td>\n",
       "      <td>37.0</td>\n",
       "      <td>2019-03-20</td>\n",
       "      <td>1</td>\n",
       "      <td>25.00</td>\n",
       "      <td>5</td>\n",
       "      <td>17.0</td>\n",
       "      <td>4</td>\n",
       "      <td>False</td>\n",
       "      <td>...</td>\n",
       "      <td>0</td>\n",
       "      <td>18.0</td>\n",
       "      <td>52702.70</td>\n",
       "      <td>20</td>\n",
       "      <td>3</td>\n",
       "      <td>2019</td>\n",
       "      <td>0.46</td>\n",
       "      <td>0.24</td>\n",
       "      <td>другой</td>\n",
       "      <td>(429999.999, 2600000.0]</td>\n",
       "    </tr>\n",
       "    <tr>\n",
       "      <td>12742</td>\n",
       "      <td>9</td>\n",
       "      <td>1700000</td>\n",
       "      <td>35.0</td>\n",
       "      <td>2015-12-04</td>\n",
       "      <td>1</td>\n",
       "      <td>25.00</td>\n",
       "      <td>5</td>\n",
       "      <td>20.0</td>\n",
       "      <td>2</td>\n",
       "      <td>False</td>\n",
       "      <td>...</td>\n",
       "      <td>0</td>\n",
       "      <td>206.0</td>\n",
       "      <td>48571.43</td>\n",
       "      <td>4</td>\n",
       "      <td>12</td>\n",
       "      <td>2015</td>\n",
       "      <td>0.57</td>\n",
       "      <td>0.23</td>\n",
       "      <td>другой</td>\n",
       "      <td>(429999.999, 2600000.0]</td>\n",
       "    </tr>\n",
       "    <tr>\n",
       "      <td>13342</td>\n",
       "      <td>19</td>\n",
       "      <td>5600000</td>\n",
       "      <td>56.4</td>\n",
       "      <td>2018-05-11</td>\n",
       "      <td>2</td>\n",
       "      <td>14.00</td>\n",
       "      <td>14</td>\n",
       "      <td>32.4</td>\n",
       "      <td>5</td>\n",
       "      <td>False</td>\n",
       "      <td>...</td>\n",
       "      <td>0</td>\n",
       "      <td>315.0</td>\n",
       "      <td>99290.78</td>\n",
       "      <td>11</td>\n",
       "      <td>5</td>\n",
       "      <td>2018</td>\n",
       "      <td>0.57</td>\n",
       "      <td>0.16</td>\n",
       "      <td>другой</td>\n",
       "      <td>(5300000.0, 6200000.0]</td>\n",
       "    </tr>\n",
       "    <tr>\n",
       "      <td>13948</td>\n",
       "      <td>14</td>\n",
       "      <td>5600000</td>\n",
       "      <td>67.0</td>\n",
       "      <td>2016-11-11</td>\n",
       "      <td>3</td>\n",
       "      <td>8.00</td>\n",
       "      <td>16</td>\n",
       "      <td>41.0</td>\n",
       "      <td>1</td>\n",
       "      <td>False</td>\n",
       "      <td>...</td>\n",
       "      <td>0</td>\n",
       "      <td>474.0</td>\n",
       "      <td>83582.09</td>\n",
       "      <td>11</td>\n",
       "      <td>11</td>\n",
       "      <td>2016</td>\n",
       "      <td>0.61</td>\n",
       "      <td>0.12</td>\n",
       "      <td>первый</td>\n",
       "      <td>(5300000.0, 6200000.0]</td>\n",
       "    </tr>\n",
       "    <tr>\n",
       "      <td>14999</td>\n",
       "      <td>5</td>\n",
       "      <td>4100000</td>\n",
       "      <td>40.0</td>\n",
       "      <td>2017-10-17</td>\n",
       "      <td>1</td>\n",
       "      <td>1.75</td>\n",
       "      <td>37</td>\n",
       "      <td>17.4</td>\n",
       "      <td>5</td>\n",
       "      <td>False</td>\n",
       "      <td>...</td>\n",
       "      <td>80</td>\n",
       "      <td>71.0</td>\n",
       "      <td>102500.00</td>\n",
       "      <td>17</td>\n",
       "      <td>10</td>\n",
       "      <td>2017</td>\n",
       "      <td>0.43</td>\n",
       "      <td>0.21</td>\n",
       "      <td>другой</td>\n",
       "      <td>(3700000.0, 4200000.0]</td>\n",
       "    </tr>\n",
       "    <tr>\n",
       "      <td>15494</td>\n",
       "      <td>15</td>\n",
       "      <td>6700000</td>\n",
       "      <td>92.9</td>\n",
       "      <td>2019-02-19</td>\n",
       "      <td>3</td>\n",
       "      <td>20.00</td>\n",
       "      <td>17</td>\n",
       "      <td>53.2</td>\n",
       "      <td>14</td>\n",
       "      <td>False</td>\n",
       "      <td>...</td>\n",
       "      <td>0</td>\n",
       "      <td>NaN</td>\n",
       "      <td>72120.56</td>\n",
       "      <td>19</td>\n",
       "      <td>2</td>\n",
       "      <td>2019</td>\n",
       "      <td>0.57</td>\n",
       "      <td>0.13</td>\n",
       "      <td>другой</td>\n",
       "      <td>(6200000.0, 7585000.0]</td>\n",
       "    </tr>\n",
       "    <tr>\n",
       "      <td>18107</td>\n",
       "      <td>11</td>\n",
       "      <td>8000000</td>\n",
       "      <td>45.0</td>\n",
       "      <td>2017-07-18</td>\n",
       "      <td>1</td>\n",
       "      <td>27.00</td>\n",
       "      <td>4</td>\n",
       "      <td>22.0</td>\n",
       "      <td>2</td>\n",
       "      <td>False</td>\n",
       "      <td>...</td>\n",
       "      <td>449</td>\n",
       "      <td>429.0</td>\n",
       "      <td>177777.78</td>\n",
       "      <td>18</td>\n",
       "      <td>7</td>\n",
       "      <td>2017</td>\n",
       "      <td>0.49</td>\n",
       "      <td>0.22</td>\n",
       "      <td>другой</td>\n",
       "      <td>(7585000.0, 10847400.0]</td>\n",
       "    </tr>\n",
       "    <tr>\n",
       "      <td>18131</td>\n",
       "      <td>12</td>\n",
       "      <td>5950000</td>\n",
       "      <td>60.0</td>\n",
       "      <td>2018-02-19</td>\n",
       "      <td>2</td>\n",
       "      <td>22.60</td>\n",
       "      <td>14</td>\n",
       "      <td>35.0</td>\n",
       "      <td>11</td>\n",
       "      <td>False</td>\n",
       "      <td>...</td>\n",
       "      <td>0</td>\n",
       "      <td>40.0</td>\n",
       "      <td>99166.67</td>\n",
       "      <td>19</td>\n",
       "      <td>2</td>\n",
       "      <td>2018</td>\n",
       "      <td>0.58</td>\n",
       "      <td>0.22</td>\n",
       "      <td>другой</td>\n",
       "      <td>(5300000.0, 6200000.0]</td>\n",
       "    </tr>\n",
       "    <tr>\n",
       "      <td>18900</td>\n",
       "      <td>19</td>\n",
       "      <td>4900000</td>\n",
       "      <td>42.0</td>\n",
       "      <td>2017-04-18</td>\n",
       "      <td>1</td>\n",
       "      <td>27.50</td>\n",
       "      <td>24</td>\n",
       "      <td>37.7</td>\n",
       "      <td>19</td>\n",
       "      <td>False</td>\n",
       "      <td>...</td>\n",
       "      <td>0</td>\n",
       "      <td>61.0</td>\n",
       "      <td>116666.67</td>\n",
       "      <td>18</td>\n",
       "      <td>4</td>\n",
       "      <td>2017</td>\n",
       "      <td>0.90</td>\n",
       "      <td>0.26</td>\n",
       "      <td>другой</td>\n",
       "      <td>(4700000.0, 5300000.0]</td>\n",
       "    </tr>\n",
       "    <tr>\n",
       "      <td>19293</td>\n",
       "      <td>20</td>\n",
       "      <td>2450000</td>\n",
       "      <td>44.0</td>\n",
       "      <td>2019-02-12</td>\n",
       "      <td>2</td>\n",
       "      <td>27.00</td>\n",
       "      <td>2</td>\n",
       "      <td>38.0</td>\n",
       "      <td>2</td>\n",
       "      <td>False</td>\n",
       "      <td>...</td>\n",
       "      <td>0</td>\n",
       "      <td>NaN</td>\n",
       "      <td>55681.82</td>\n",
       "      <td>12</td>\n",
       "      <td>2</td>\n",
       "      <td>2019</td>\n",
       "      <td>0.86</td>\n",
       "      <td>0.20</td>\n",
       "      <td>последний</td>\n",
       "      <td>(429999.999, 2600000.0]</td>\n",
       "    </tr>\n",
       "    <tr>\n",
       "      <td>19742</td>\n",
       "      <td>19</td>\n",
       "      <td>9999000</td>\n",
       "      <td>92.4</td>\n",
       "      <td>2019-04-05</td>\n",
       "      <td>2</td>\n",
       "      <td>32.00</td>\n",
       "      <td>6</td>\n",
       "      <td>55.5</td>\n",
       "      <td>5</td>\n",
       "      <td>False</td>\n",
       "      <td>...</td>\n",
       "      <td>511</td>\n",
       "      <td>NaN</td>\n",
       "      <td>108214.29</td>\n",
       "      <td>5</td>\n",
       "      <td>4</td>\n",
       "      <td>2019</td>\n",
       "      <td>0.60</td>\n",
       "      <td>0.18</td>\n",
       "      <td>другой</td>\n",
       "      <td>(7585000.0, 10847400.0]</td>\n",
       "    </tr>\n",
       "    <tr>\n",
       "      <td>19964</td>\n",
       "      <td>16</td>\n",
       "      <td>6000000</td>\n",
       "      <td>55.0</td>\n",
       "      <td>2018-10-31</td>\n",
       "      <td>2</td>\n",
       "      <td>1.00</td>\n",
       "      <td>12</td>\n",
       "      <td>32.4</td>\n",
       "      <td>7</td>\n",
       "      <td>False</td>\n",
       "      <td>...</td>\n",
       "      <td>289</td>\n",
       "      <td>13.0</td>\n",
       "      <td>109090.91</td>\n",
       "      <td>31</td>\n",
       "      <td>10</td>\n",
       "      <td>2018</td>\n",
       "      <td>0.59</td>\n",
       "      <td>0.18</td>\n",
       "      <td>другой</td>\n",
       "      <td>(5300000.0, 6200000.0]</td>\n",
       "    </tr>\n",
       "    <tr>\n",
       "      <td>20207</td>\n",
       "      <td>0</td>\n",
       "      <td>15000000</td>\n",
       "      <td>25.0</td>\n",
       "      <td>2018-07-25</td>\n",
       "      <td>1</td>\n",
       "      <td>100.00</td>\n",
       "      <td>5</td>\n",
       "      <td>14.0</td>\n",
       "      <td>5</td>\n",
       "      <td>True</td>\n",
       "      <td>...</td>\n",
       "      <td>30</td>\n",
       "      <td>19.0</td>\n",
       "      <td>600000.00</td>\n",
       "      <td>25</td>\n",
       "      <td>7</td>\n",
       "      <td>2018</td>\n",
       "      <td>0.56</td>\n",
       "      <td>0.44</td>\n",
       "      <td>последний</td>\n",
       "      <td>(10847400.0, 420000000.0]</td>\n",
       "    </tr>\n",
       "    <tr>\n",
       "      <td>20264</td>\n",
       "      <td>14</td>\n",
       "      <td>4000000</td>\n",
       "      <td>98.0</td>\n",
       "      <td>2018-03-15</td>\n",
       "      <td>4</td>\n",
       "      <td>27.00</td>\n",
       "      <td>2</td>\n",
       "      <td>73.0</td>\n",
       "      <td>2</td>\n",
       "      <td>True</td>\n",
       "      <td>...</td>\n",
       "      <td>0</td>\n",
       "      <td>27.0</td>\n",
       "      <td>40816.33</td>\n",
       "      <td>15</td>\n",
       "      <td>3</td>\n",
       "      <td>2018</td>\n",
       "      <td>0.74</td>\n",
       "      <td>0.09</td>\n",
       "      <td>последний</td>\n",
       "      <td>(3700000.0, 4200000.0]</td>\n",
       "    </tr>\n",
       "  </tbody>\n",
       "</table>\n",
       "<p>26 rows × 30 columns</p>\n",
       "</div>"
      ],
      "text/plain": [
       "       total_images  last_price  total_area first_day_exposition  rooms  \\\n",
       "2788             14     2900000        75.0           2018-11-12      3   \n",
       "3081              3     1400000        30.0           2018-03-16      1   \n",
       "4112              0     4300000        45.0           2018-02-01      2   \n",
       "4483              0     3850000        30.5           2018-10-03      1   \n",
       "4638              0     2500000        54.0           2017-10-13      2   \n",
       "5008              4     4400000        50.0           2017-08-08      2   \n",
       "5046              5     1500000        42.8           2017-08-14      2   \n",
       "5131             17     8150000        80.0           2019-01-09      2   \n",
       "5180             20     5650000        45.0           2018-08-15      1   \n",
       "5522              6     3300000        44.4           2019-03-25      2   \n",
       "8324              5     3950000        42.0           2017-03-26      3   \n",
       "9536              8     3800000        58.0           2017-10-13      2   \n",
       "9997              0     1950000        37.0           2019-03-20      1   \n",
       "12742             9     1700000        35.0           2015-12-04      1   \n",
       "13342            19     5600000        56.4           2018-05-11      2   \n",
       "13948            14     5600000        67.0           2016-11-11      3   \n",
       "14999             5     4100000        40.0           2017-10-17      1   \n",
       "15494            15     6700000        92.9           2019-02-19      3   \n",
       "18107            11     8000000        45.0           2017-07-18      1   \n",
       "18131            12     5950000        60.0           2018-02-19      2   \n",
       "18900            19     4900000        42.0           2017-04-18      1   \n",
       "19293            20     2450000        44.0           2019-02-12      2   \n",
       "19742            19     9999000        92.4           2019-04-05      2   \n",
       "19964            16     6000000        55.0           2018-10-31      2   \n",
       "20207             0    15000000        25.0           2018-07-25      1   \n",
       "20264            14     4000000        98.0           2018-03-15      4   \n",
       "\n",
       "       ceiling_height  floors_total  living_area  floor  is_apartment  ...  \\\n",
       "2788            32.00             3         53.0      2         False  ...   \n",
       "3081             8.00             5         15.3      2         False  ...   \n",
       "4112            25.00             9         30.0      2         False  ...   \n",
       "4483            24.00             5         19.5      1          True  ...   \n",
       "4638            27.00             5         30.0      3         False  ...   \n",
       "5008            26.00             9         21.3      3         False  ...   \n",
       "5046             1.20             2         27.5      1         False  ...   \n",
       "5131            27.00            36         41.0     13         False  ...   \n",
       "5180             8.30            16         19.3     14         False  ...   \n",
       "5522            25.00             5         31.3      5         False  ...   \n",
       "8324            25.00             5         30.0      2         False  ...   \n",
       "9536            27.00            10         30.1      3         False  ...   \n",
       "9997            25.00             5         17.0      4         False  ...   \n",
       "12742           25.00             5         20.0      2         False  ...   \n",
       "13342           14.00            14         32.4      5         False  ...   \n",
       "13948            8.00            16         41.0      1         False  ...   \n",
       "14999            1.75            37         17.4      5         False  ...   \n",
       "15494           20.00            17         53.2     14         False  ...   \n",
       "18107           27.00             4         22.0      2         False  ...   \n",
       "18131           22.60            14         35.0     11         False  ...   \n",
       "18900           27.50            24         37.7     19         False  ...   \n",
       "19293           27.00             2         38.0      2         False  ...   \n",
       "19742           32.00             6         55.5      5         False  ...   \n",
       "19964            1.00            12         32.4      7         False  ...   \n",
       "20207          100.00             5         14.0      5          True  ...   \n",
       "20264           27.00             2         73.0      2          True  ...   \n",
       "\n",
       "       ponds_nearest  days_exposition  price_for_metr  day month  year  \\\n",
       "2788               0              NaN        38666.67   12    11  2018   \n",
       "3081               0            125.0        46666.67   16     3  2018   \n",
       "4112             331            181.0        95555.56    1     2  2018   \n",
       "4483             578              7.0       126229.51    3    10  2018   \n",
       "4638               0            540.0        46296.30   13    10  2017   \n",
       "5008               0            267.0        88000.00    8     8  2017   \n",
       "5046               0            248.0        35046.73   14     8  2017   \n",
       "5131              80             38.0       101875.00    9     1  2019   \n",
       "5180             613             14.0       125555.56   15     8  2018   \n",
       "5522              73              NaN        74324.32   25     3  2019   \n",
       "8324               0              NaN        94047.62   26     3  2017   \n",
       "9536               0             71.0        65517.24   13    10  2017   \n",
       "9997               0             18.0        52702.70   20     3  2019   \n",
       "12742              0            206.0        48571.43    4    12  2015   \n",
       "13342              0            315.0        99290.78   11     5  2018   \n",
       "13948              0            474.0        83582.09   11    11  2016   \n",
       "14999             80             71.0       102500.00   17    10  2017   \n",
       "15494              0              NaN        72120.56   19     2  2019   \n",
       "18107            449            429.0       177777.78   18     7  2017   \n",
       "18131              0             40.0        99166.67   19     2  2018   \n",
       "18900              0             61.0       116666.67   18     4  2017   \n",
       "19293              0              NaN        55681.82   12     2  2019   \n",
       "19742            511              NaN       108214.29    5     4  2019   \n",
       "19964            289             13.0       109090.91   31    10  2018   \n",
       "20207             30             19.0       600000.00   25     7  2018   \n",
       "20264              0             27.0        40816.33   15     3  2018   \n",
       "\n",
       "       ratio_living/total  ratio_kithcen/total  floor_position  \\\n",
       "2788                 0.71                 0.11          другой   \n",
       "3081                 0.51                 0.24          другой   \n",
       "4112                 0.67                 0.16          другой   \n",
       "4483                 0.64                 0.18          первый   \n",
       "4638                 0.56                 0.17          другой   \n",
       "5008                 0.43                 0.14          другой   \n",
       "5046                 0.64                 0.12          первый   \n",
       "5131                 0.51                 0.15          другой   \n",
       "5180                 0.43                 0.18          другой   \n",
       "5522                 0.70                 0.13       последний   \n",
       "8324                 0.71                 0.12          другой   \n",
       "9536                 0.52                 0.14          другой   \n",
       "9997                 0.46                 0.24          другой   \n",
       "12742                0.57                 0.23          другой   \n",
       "13342                0.57                 0.16          другой   \n",
       "13948                0.61                 0.12          первый   \n",
       "14999                0.43                 0.21          другой   \n",
       "15494                0.57                 0.13          другой   \n",
       "18107                0.49                 0.22          другой   \n",
       "18131                0.58                 0.22          другой   \n",
       "18900                0.90                 0.26          другой   \n",
       "19293                0.86                 0.20       последний   \n",
       "19742                0.60                 0.18          другой   \n",
       "19964                0.59                 0.18          другой   \n",
       "20207                0.56                 0.44       последний   \n",
       "20264                0.74                 0.09       последний   \n",
       "\n",
       "                 price_quartilis  \n",
       "2788      (2600000.0, 3250000.0]  \n",
       "3081     (429999.999, 2600000.0]  \n",
       "4112      (4200000.0, 4700000.0]  \n",
       "4483      (3700000.0, 4200000.0]  \n",
       "4638     (429999.999, 2600000.0]  \n",
       "5008      (4200000.0, 4700000.0]  \n",
       "5046     (429999.999, 2600000.0]  \n",
       "5131     (7585000.0, 10847400.0]  \n",
       "5180      (5300000.0, 6200000.0]  \n",
       "5522      (3250000.0, 3700000.0]  \n",
       "8324      (3700000.0, 4200000.0]  \n",
       "9536      (3700000.0, 4200000.0]  \n",
       "9997     (429999.999, 2600000.0]  \n",
       "12742    (429999.999, 2600000.0]  \n",
       "13342     (5300000.0, 6200000.0]  \n",
       "13948     (5300000.0, 6200000.0]  \n",
       "14999     (3700000.0, 4200000.0]  \n",
       "15494     (6200000.0, 7585000.0]  \n",
       "18107    (7585000.0, 10847400.0]  \n",
       "18131     (5300000.0, 6200000.0]  \n",
       "18900     (4700000.0, 5300000.0]  \n",
       "19293    (429999.999, 2600000.0]  \n",
       "19742    (7585000.0, 10847400.0]  \n",
       "19964     (5300000.0, 6200000.0]  \n",
       "20207  (10847400.0, 420000000.0]  \n",
       "20264     (3700000.0, 4200000.0]  \n",
       "\n",
       "[26 rows x 30 columns]"
      ]
     },
     "execution_count": 54,
     "metadata": {},
     "output_type": "execute_result"
    }
   ],
   "source": [
    "df[(df['ceiling_height'] > 6) | (df['ceiling_height'] < 2)]"
   ]
  },
  {
   "cell_type": "markdown",
   "metadata": {},
   "source": [
    "В потолки меньше 2 метров или больше 6 я не верю, а таких наблюдений всего 20. Удаляем.\n",
    "\n",
    "I don’t believe in ceilings less than 2 meters or more than 6, but there are only 20 such observations. We delete it."
   ]
  },
  {
   "cell_type": "code",
   "execution_count": 55,
   "metadata": {},
   "outputs": [],
   "source": [
    "df.drop(df[(df['ceiling_height'] > 6) | (df['ceiling_height'] < 2)].index, axis=0, inplace=True)\n",
    "df.reset_index(inplace=True, drop=True)"
   ]
  },
  {
   "cell_type": "markdown",
   "metadata": {},
   "source": [
    "Теперь можно ожидать хорошей гистограммы.\n",
    "\n",
    "Now we can expect a good histogram."
   ]
  },
  {
   "cell_type": "code",
   "execution_count": 77,
   "metadata": {
    "scrolled": true
   },
   "outputs": [
    {
     "data": {
      "text/plain": [
       "<matplotlib.axes._subplots.AxesSubplot at 0x7f6828d9afd0>"
      ]
     },
     "execution_count": 77,
     "metadata": {},
     "output_type": "execute_result"
    },
    {
     "data": {
      "image/png": "[encoded data removed]",
      "text/plain": [
       "<Figure size 432x288 with 1 Axes>"
      ]
     },
     "metadata": {
      "needs_background": "light"
     },
     "output_type": "display_data"
    }
   ],
   "source": [
    "df['ceiling_height'].plot(kind='hist', bins=10, title='Ceiling height (m)')"
   ]
  },
  {
   "cell_type": "markdown",
   "metadata": {},
   "source": [
    "Отлично получилось! Как и полагается, большинство квартир имеют потолки высотой от 2,4 до 3,2 метров.\n",
    "\n",
    "It worked out great! As expected, most apartments have ceilings from 2.4 to 3.2 meters high."
   ]
  },
  {
   "cell_type": "markdown",
   "metadata": {},
   "source": [
    "<a id='Step_6'></a>\n",
    "#### Пункт B.\n",
    "\n",
    "#### Point B.\n"
   ]
  },
  {
   "cell_type": "markdown",
   "metadata": {},
   "source": [
    "Изучим время продажи квартиры. Построим гистограмму. Посчитаем среднее и медиану. Опишем, сколько обычно занимает продажа. Когда можно считать, что продажи прошли очень быстро, а когда необычно долго?\n",
    "\n",
    "We will study the time of sale of the apartment. Let's build a histogram. Let's calculate the mean and median. Let's describe how much a sale usually takes. When can sales be considered very fast, and when unusually long?"
   ]
  },
  {
   "cell_type": "markdown",
   "metadata": {},
   "source": [
    "Посмотрим на основные показатели времени до снятия.\n",
    "\n",
    "Let's look at the main indicators of the time before withdrawal."
   ]
  },
  {
   "cell_type": "code",
   "execution_count": 57,
   "metadata": {},
   "outputs": [
    {
     "name": "stdout",
     "output_type": "stream",
     "text": [
      "Минимальное время до снятия 1.0\n",
      "Максимальное время до снятия 1580.0\n",
      "Среднее время до снятия 185.56610470275066\n",
      "Медианное время до снятия 102.0\n"
     ]
    }
   ],
   "source": [
    "print('Минимальное время до снятия', df['days_exposition'].min())\n",
    "print('Максимальное время до снятия', df['days_exposition'].max())\n",
    "print('Среднее время до снятия', df['days_exposition'].mean())\n",
    "print('Медианное время до снятия', df['days_exposition'].median())"
   ]
  },
  {
   "cell_type": "markdown",
   "metadata": {},
   "source": [
    "Минимальное время до снятия 1.0\n",
    "Максимальное время до снятия 1580.0\n",
    "Среднее время до снятия 185.56610470275066\n",
    "Медианное время до снятия 102.0"
   ]
  },
  {
   "cell_type": "markdown",
   "metadata": {},
   "source": [
    "Посмотрим график. \n",
    "\n",
    "Let's see the chart."
   ]
  },
  {
   "cell_type": "code",
   "execution_count": 78,
   "metadata": {},
   "outputs": [
    {
     "data": {
      "text/plain": [
       "<matplotlib.axes._subplots.AxesSubplot at 0x7f6828cc6910>"
      ]
     },
     "execution_count": 78,
     "metadata": {},
     "output_type": "execute_result"
    },
    {
     "data": {
      "image/png": "[encoded data removed]",
      "text/plain": [
       "<Figure size 432x288 with 1 Axes>"
      ]
     },
     "metadata": {
      "needs_background": "light"
     },
     "output_type": "display_data"
    }
   ],
   "source": [
    "df['days_exposition'].plot(kind='hist', bins=100, title='Days exposition')"
   ]
  },
  {
   "cell_type": "code",
   "execution_count": 83,
   "metadata": {
    "scrolled": true
   },
   "outputs": [
    {
     "data": {
      "text/plain": [
       "<matplotlib.axes._subplots.AxesSubplot at 0x7f6829740d10>"
      ]
     },
     "execution_count": 83,
     "metadata": {},
     "output_type": "execute_result"
    },
    {
     "data": {
      "image/png": "[encoded data removed]",
      "text/plain": [
       "<Figure size 432x288 with 1 Axes>"
      ]
     },
     "metadata": {
      "needs_background": "light"
     },
     "output_type": "display_data"
    }
   ],
   "source": [
    "df.boxplot('days_exposition')"
   ]
  },
  {
   "cell_type": "markdown",
   "metadata": {},
   "source": [
    "Видим, что значения больше 550 - это выбросы - будем считать слишком большим значением. Значения до 7 дней будем считать слишком маленькми: скорее всего клиент просто передумал размещать объявление.\n",
    "\n",
    "We see that values ​​greater than 550 are outliers - we will consider it too large a value. We will consider values up to 7 days to be too small: most likely, the client simply changed his mind about placing an ad."
   ]
  },
  {
   "cell_type": "markdown",
   "metadata": {},
   "source": [
    "После отсекания слишком больших и слишком маленьких значений, получим актуальное описание времени до снятия.\n",
    "\n",
    "After cutting off too large and too small values, we get an actual description of the time before removal."
   ]
  },
  {
   "cell_type": "code",
   "execution_count": 60,
   "metadata": {
    "scrolled": true
   },
   "outputs": [
    {
     "name": "stdout",
     "output_type": "stream",
     "text": [
      "Минимальное время до снятия 8.0\n",
      "Максимальное время до снятия 549.0\n",
      "Среднее время до снятия 142.18580126796812\n",
      "Медианное время до снятия 96.0\n"
     ]
    }
   ],
   "source": [
    "print('Минимальное время до снятия', df[(df['days_exposition'] > 7) & (df['days_exposition'] < 550)]['days_exposition'].min())\n",
    "print('Максимальное время до снятия', df[(df['days_exposition'] > 7) & (df['days_exposition'] < 550)]['days_exposition'].max())\n",
    "print('Среднее время до снятия', df[(df['days_exposition'] > 7) & (df['days_exposition'] < 550)]['days_exposition'].mean())\n",
    "print('Медианное время до снятия', df[(df['days_exposition'] > 7) & (df['days_exposition'] < 550)]['days_exposition'].median())"
   ]
  },
  {
   "cell_type": "markdown",
   "metadata": {},
   "source": [
    "Minimum time to withdrawal 8.0\n",
    "\n",
    "Maximum time before withdrawal 549.0\n",
    "\n",
    "Average time to withdrawal 142.18580126796812\n",
    "\n",
    "Median time to withdrawal 96.0"
   ]
  },
  {
   "cell_type": "markdown",
   "metadata": {},
   "source": [
    "То есть чаще всего, квартира продается за 3 месяца. Данные о продаже менее чем за 7 дней и более чем за 550 дней мы исключили из выборки.\n",
    "\n",
    "That is, most often, the apartment is sold for 3 months. Sales data less than 7 days and more than 550 days were excluded from the sample."
   ]
  },
  {
   "cell_type": "markdown",
   "metadata": {},
   "source": [
    "<a id='Step_7'></a>\n",
    "#### Пункт C.\n",
    "\n",
    "#### Point C."
   ]
  },
  {
   "cell_type": "markdown",
   "metadata": {},
   "source": [
    "Какие факторы больше всего влияют на стоимость квартиры? Изучим, зависит ли цена от площади, числа комнат, удалённости от центра. Изучим зависимость цены от того, на каком этаже расположена квартира: первом, последнем или другом. Также изучим зависимость от даты размещения: дня недели, месяца и года.\n",
    "\n",
    "What factors most affect the value of an apartment? We will study whether the price depends on the area, number of rooms, distance from the center. We will study the dependence of the price on which floor the apartment is located on: first, last or another. We will also study the dependence on the placement date: day of the week, month and year."
   ]
  },
  {
   "cell_type": "markdown",
   "metadata": {},
   "source": [
    "Для этого нам понадобится матрица диаграмм рассеяния и корреляция.\n",
    "\n",
    "To do this, we need a matrix of scatterplots and correlation."
   ]
  },
  {
   "cell_type": "markdown",
   "metadata": {},
   "source": [
    "Корреляции по всем факторам.\n",
    "\n",
    "Correlations across all factors."
   ]
  },
  {
   "cell_type": "code",
   "execution_count": 61,
   "metadata": {},
   "outputs": [
    {
     "data": {
      "text/plain": [
       "last_price             1.000000\n",
       "price_for_metr         0.742706\n",
       "total_area             0.691568\n",
       "living_area            0.603435\n",
       "kitchen_area           0.518290\n",
       "rooms                  0.391182\n",
       "ceiling_height         0.338635\n",
       "cityCenters_nearest    0.253612\n",
       "ponds_around3000       0.220609\n",
       "parks_around3000       0.213762\n",
       "airports_nearest       0.184327\n",
       "parks_nearest          0.125106\n",
       "total_images           0.114208\n",
       "ponds_nearest          0.094750\n",
       "ratio_kithcen/total    0.090309\n",
       "days_exposition        0.088792\n",
       "year                   0.042654\n",
       "is_apartment           0.033782\n",
       "floor                  0.031454\n",
       "balcony                0.004398\n",
       "ratio_living/total     0.003688\n",
       "day                    0.003545\n",
       "floors_total           0.000510\n",
       "month                  0.000086\n",
       "studio                      NaN\n",
       "open_plan                   NaN\n",
       "Name: last_price, dtype: float64"
      ]
     },
     "execution_count": 61,
     "metadata": {},
     "output_type": "execute_result"
    }
   ],
   "source": [
    "df.corr()['last_price'].abs().sort_values(ascending=False)"
   ]
  },
  {
   "cell_type": "markdown",
   "metadata": {},
   "source": [
    "Ну что же... сильная корреляция цены наблюдается только с ценной за метр, хотя суммарную площадь можено тоже притянуть \"за уши\". Корреляции цены с ценой за метр, на сколько я понимаю, результат линейной зависимости (цену за метр мы получили из цены). Поэтому чемпионом я буду считать площадь. Больше площадь - дороже квартира. Это же подтверждают следующие за чемпионом показатели корреляции: желая площадь, площадь кухни, количество комнат, хотя в общем то сама общая площадь естсетсвенно объясняется своими состовляющими: жилая площадь, площадь кухни и плошадь всего остального (нет в таблице). Далее идет высота потолков - для меня факт не очевидный Может быть это за счет дорогих квартир? В более глубоком исследование стоило бы посотмреть на это в разрезе цен. Затем идут совершенно очевидные пункты: близость центра и количество парков и водоъемов в округе, хотя непосредсвтенная близость парков и водоъемов неважна. День недели, месяц и год никак не влияют на цену, то есть можно сказать, что цена на квартиры не подвержена сезонным колебаниям. \n",
    "\n",
    "Well ... a strong price correlation is observed only with the price per meter, although the total area can also be pulled \"by the ears\". Price correlation with the price per meter, as far as I understand, is the result of a linear relationship (we got the price per meter from the price). Therefore, I will consider the area as the champion. More area - more expensive apartment. This is also confirmed by the correlation indicators following the champion: wanting area, kitchen area, number of rooms, although in general the total area itself is naturally explained by its components: living area, kitchen area and the area of ​​\\u200b\\u200beverything else (not in the table). Next comes the height of the ceilings - a fact that is not obvious to me. Maybe this is due to expensive apartments? In a deeper study, it would be worth looking at this in terms of prices. Then there are absolutely obvious points: the proximity of the center and the number of parks and reservoirs in the district, although the immediate proximity of parks and reservoirs is not important. Day of the week, month and year do not affect the price in any way, that is, we can say that the price of apartments is not subject to seasonal fluctuations."
   ]
  },
  {
   "cell_type": "markdown",
   "metadata": {},
   "source": [
    "А теперь ответим на вопрос: как связана цена и этаж?\n",
    "\n",
    "And now let's answer the question: how is price and floor related?"
   ]
  },
  {
   "cell_type": "code",
   "execution_count": 62,
   "metadata": {},
   "outputs": [
    {
     "data": {
      "text/html": [
       "<div>\n",
       "<style scoped>\n",
       "    .dataframe tbody tr th:only-of-type {\n",
       "        vertical-align: middle;\n",
       "    }\n",
       "\n",
       "    .dataframe tbody tr th {\n",
       "        vertical-align: top;\n",
       "    }\n",
       "\n",
       "    .dataframe thead tr th {\n",
       "        text-align: left;\n",
       "    }\n",
       "\n",
       "    .dataframe thead tr:last-of-type th {\n",
       "        text-align: right;\n",
       "    }\n",
       "</style>\n",
       "<table border=\"1\" class=\"dataframe\">\n",
       "  <thead>\n",
       "    <tr>\n",
       "      <th></th>\n",
       "      <th>mean</th>\n",
       "      <th>median</th>\n",
       "    </tr>\n",
       "    <tr>\n",
       "      <th></th>\n",
       "      <th>last_price</th>\n",
       "      <th>last_price</th>\n",
       "    </tr>\n",
       "    <tr>\n",
       "      <th>floor_position</th>\n",
       "      <th></th>\n",
       "      <th></th>\n",
       "    </tr>\n",
       "  </thead>\n",
       "  <tbody>\n",
       "    <tr>\n",
       "      <td>другой</td>\n",
       "      <td>6.687274e+06</td>\n",
       "      <td>4900000</td>\n",
       "    </tr>\n",
       "    <tr>\n",
       "      <td>первый</td>\n",
       "      <td>4.850825e+06</td>\n",
       "      <td>3965198</td>\n",
       "    </tr>\n",
       "    <tr>\n",
       "      <td>последний</td>\n",
       "      <td>6.990083e+06</td>\n",
       "      <td>4350000</td>\n",
       "    </tr>\n",
       "  </tbody>\n",
       "</table>\n",
       "</div>"
      ],
      "text/plain": [
       "                        mean     median\n",
       "                  last_price last_price\n",
       "floor_position                         \n",
       "другой          6.687274e+06    4900000\n",
       "первый          4.850825e+06    3965198\n",
       "последний       6.990083e+06    4350000"
      ]
     },
     "execution_count": 62,
     "metadata": {},
     "output_type": "execute_result"
    }
   ],
   "source": [
    "df.pivot_table(index='floor_position', values='last_price', aggfunc=['mean', 'median'])"
   ]
  },
  {
   "cell_type": "markdown",
   "metadata": {},
   "source": [
    "Покупатели не ценят первые этажи. А вот с последними этажами что-то странное: вроде как это не лучший вариант, но средняя цена вышла самая большой, хотя и не с большим отрывом. Тут что-то не так.\n",
    "\n",
    "Buyers don't appreciate ground floors. But there is something strange with the last floors: it seems like this is not the best option, but the average price came out the highest, although not by a large margin. There's something wrong here."
   ]
  },
  {
   "cell_type": "markdown",
   "metadata": {},
   "source": [
    "Стало яснее. Похоже, что в жилье \"для смертных\" всё как пологается - первые и последние этажи дешевле остальных. А вот для дорогих квартир ситуация иная - там ценится последний этаж. Жилье будет качественным на любом этаже, а вот вид становится тем лучше, чем выше этаж. Да и ктому же, там может быть выход на крышу. Поэтому среднее становится некорректной основой для выводов о влиянии этажа на цену. Опять же, лучше смотреть на ситуацию и в разрезе цен, в том числе.\n",
    "\n",
    "It became clearer. It seems that in housing \"for mortals\" everything is as it should be - the first and last floors are cheaper than the rest. But for expensive apartments the situation is different - the last floor is valued there. Housing will be of high quality on any floor, but the view gets better, the higher the floor. Yes, and whoever, there may be access to the roof. Therefore, the average becomes an incorrect basis for conclusions about the effect of the floor on the price. Again, it is better to look at the situation in terms of prices, including."
   ]
  },
  {
   "cell_type": "markdown",
   "metadata": {},
   "source": [
    "<a id='Step_8'></a>\n",
    "#### Пункт D.\n",
    "\n",
    "#### Point D.\n"
   ]
  },
  {
   "cell_type": "markdown",
   "metadata": {},
   "source": [
    "Выберем 10 населённых пунктов с наибольшим числом объявлений. Посчитаем среднюю цену квадратного метра в этих населённых пунктах. Выделим среди них населённые пункты с самой высокой и низкой стоимостью жилья. \n",
    "\n",
    "Let's choose 10 settlements with the largest number of ads. Let's calculate the average price per square meter in these settlements. We single out among them the settlements with the highest and lowest cost of housing."
   ]
  },
  {
   "cell_type": "code",
   "execution_count": 63,
   "metadata": {},
   "outputs": [
    {
     "data": {
      "text/html": [
       "<div>\n",
       "<style scoped>\n",
       "    .dataframe tbody tr th:only-of-type {\n",
       "        vertical-align: middle;\n",
       "    }\n",
       "\n",
       "    .dataframe tbody tr th {\n",
       "        vertical-align: top;\n",
       "    }\n",
       "\n",
       "    .dataframe thead tr th {\n",
       "        text-align: left;\n",
       "    }\n",
       "\n",
       "    .dataframe thead tr:last-of-type th {\n",
       "        text-align: right;\n",
       "    }\n",
       "</style>\n",
       "<table border=\"1\" class=\"dataframe\">\n",
       "  <thead>\n",
       "    <tr>\n",
       "      <th></th>\n",
       "      <th>count</th>\n",
       "      <th>mean</th>\n",
       "    </tr>\n",
       "    <tr>\n",
       "      <th></th>\n",
       "      <th>price_for_metr</th>\n",
       "      <th>price_for_metr</th>\n",
       "    </tr>\n",
       "    <tr>\n",
       "      <th>locality_name</th>\n",
       "      <th></th>\n",
       "      <th></th>\n",
       "    </tr>\n",
       "  </thead>\n",
       "  <tbody>\n",
       "    <tr>\n",
       "      <td>санкт-петербург</td>\n",
       "      <td>14054</td>\n",
       "      <td>113883.230554</td>\n",
       "    </tr>\n",
       "    <tr>\n",
       "      <td>посёлок мурино</td>\n",
       "      <td>401</td>\n",
       "      <td>85470.734040</td>\n",
       "    </tr>\n",
       "    <tr>\n",
       "      <td>посёлок шушары</td>\n",
       "      <td>393</td>\n",
       "      <td>78535.194122</td>\n",
       "    </tr>\n",
       "    <tr>\n",
       "      <td>всеволожск</td>\n",
       "      <td>357</td>\n",
       "      <td>69029.150056</td>\n",
       "    </tr>\n",
       "    <tr>\n",
       "      <td>пушкин</td>\n",
       "      <td>337</td>\n",
       "      <td>103291.299110</td>\n",
       "    </tr>\n",
       "    <tr>\n",
       "      <td>колпино</td>\n",
       "      <td>322</td>\n",
       "      <td>75226.296398</td>\n",
       "    </tr>\n",
       "    <tr>\n",
       "      <td>гатчина</td>\n",
       "      <td>290</td>\n",
       "      <td>68635.620586</td>\n",
       "    </tr>\n",
       "    <tr>\n",
       "      <td>посёлок парголово</td>\n",
       "      <td>288</td>\n",
       "      <td>90756.002986</td>\n",
       "    </tr>\n",
       "    <tr>\n",
       "      <td>деревня кудрово</td>\n",
       "      <td>226</td>\n",
       "      <td>92248.477301</td>\n",
       "    </tr>\n",
       "    <tr>\n",
       "      <td>выборг</td>\n",
       "      <td>190</td>\n",
       "      <td>58319.351737</td>\n",
       "    </tr>\n",
       "  </tbody>\n",
       "</table>\n",
       "</div>"
      ],
      "text/plain": [
       "                           count           mean\n",
       "                  price_for_metr price_for_metr\n",
       "locality_name                                  \n",
       "санкт-петербург            14054  113883.230554\n",
       "посёлок мурино               401   85470.734040\n",
       "посёлок шушары               393   78535.194122\n",
       "всеволожск                   357   69029.150056\n",
       "пушкин                       337  103291.299110\n",
       "колпино                      322   75226.296398\n",
       "гатчина                      290   68635.620586\n",
       "посёлок парголово            288   90756.002986\n",
       "деревня кудрово              226   92248.477301\n",
       "выборг                       190   58319.351737"
      ]
     },
     "execution_count": 63,
     "metadata": {},
     "output_type": "execute_result"
    }
   ],
   "source": [
    "(df.pivot_table(index='locality_name', values='price_for_metr', aggfunc = ['count', 'mean'])\n",
    "                               .sort_values(by=('count', 'price_for_metr'), ascending=False)\n",
    "                                                                                  .head(10))"
   ]
  },
  {
   "cell_type": "code",
   "execution_count": 64,
   "metadata": {},
   "outputs": [
    {
     "data": {
      "text/html": [
       "<div>\n",
       "<style scoped>\n",
       "    .dataframe tbody tr th:only-of-type {\n",
       "        vertical-align: middle;\n",
       "    }\n",
       "\n",
       "    .dataframe tbody tr th {\n",
       "        vertical-align: top;\n",
       "    }\n",
       "\n",
       "    .dataframe thead tr th {\n",
       "        text-align: left;\n",
       "    }\n",
       "\n",
       "    .dataframe thead tr:last-of-type th {\n",
       "        text-align: right;\n",
       "    }\n",
       "</style>\n",
       "<table border=\"1\" class=\"dataframe\">\n",
       "  <thead>\n",
       "    <tr>\n",
       "      <th></th>\n",
       "      <th>count</th>\n",
       "      <th>mean</th>\n",
       "    </tr>\n",
       "    <tr>\n",
       "      <th></th>\n",
       "      <th>price_for_metr</th>\n",
       "      <th>price_for_metr</th>\n",
       "    </tr>\n",
       "    <tr>\n",
       "      <th>locality_name</th>\n",
       "      <th></th>\n",
       "      <th></th>\n",
       "    </tr>\n",
       "  </thead>\n",
       "  <tbody>\n",
       "    <tr>\n",
       "      <td>посёлок репино</td>\n",
       "      <td>2</td>\n",
       "      <td>127678.570000</td>\n",
       "    </tr>\n",
       "    <tr>\n",
       "      <td>санкт-петербург</td>\n",
       "      <td>14054</td>\n",
       "      <td>113883.230554</td>\n",
       "    </tr>\n",
       "    <tr>\n",
       "      <td>зеленогорск</td>\n",
       "      <td>23</td>\n",
       "      <td>113248.786087</td>\n",
       "    </tr>\n",
       "    <tr>\n",
       "      <td>деревня бор</td>\n",
       "      <td>1</td>\n",
       "      <td>105539.260000</td>\n",
       "    </tr>\n",
       "    <tr>\n",
       "      <td>пушкин</td>\n",
       "      <td>337</td>\n",
       "      <td>103291.299110</td>\n",
       "    </tr>\n",
       "    <tr>\n",
       "      <td>сестрорецк</td>\n",
       "      <td>166</td>\n",
       "      <td>101463.169036</td>\n",
       "    </tr>\n",
       "    <tr>\n",
       "      <td>кудрово</td>\n",
       "      <td>152</td>\n",
       "      <td>99960.444539</td>\n",
       "    </tr>\n",
       "    <tr>\n",
       "      <td>деревня мистолово</td>\n",
       "      <td>9</td>\n",
       "      <td>93294.498889</td>\n",
       "    </tr>\n",
       "    <tr>\n",
       "      <td>деревня кудрово</td>\n",
       "      <td>226</td>\n",
       "      <td>92248.477301</td>\n",
       "    </tr>\n",
       "    <tr>\n",
       "      <td>мурино</td>\n",
       "      <td>29</td>\n",
       "      <td>91460.910690</td>\n",
       "    </tr>\n",
       "  </tbody>\n",
       "</table>\n",
       "</div>"
      ],
      "text/plain": [
       "                           count           mean\n",
       "                  price_for_metr price_for_metr\n",
       "locality_name                                  \n",
       "посёлок репино                 2  127678.570000\n",
       "санкт-петербург            14054  113883.230554\n",
       "зеленогорск                   23  113248.786087\n",
       "деревня бор                    1  105539.260000\n",
       "пушкин                       337  103291.299110\n",
       "сестрорецк                   166  101463.169036\n",
       "кудрово                      152   99960.444539\n",
       "деревня мистолово              9   93294.498889\n",
       "деревня кудрово              226   92248.477301\n",
       "мурино                        29   91460.910690"
      ]
     },
     "execution_count": 64,
     "metadata": {},
     "output_type": "execute_result"
    }
   ],
   "source": [
    "(df.pivot_table(index='locality_name', values='price_for_metr', aggfunc = ['count', 'mean'])\n",
    "                               .sort_values(by=('mean', 'price_for_metr'), ascending=False)\n",
    "                                                                                  .head(10))"
   ]
  },
  {
   "cell_type": "markdown",
   "metadata": {},
   "source": [
    "Самое дорогое и самое дешевое жильё из топ-10 по количеству объявлений - Санк-Петербург и Гатчина, соответсвенно.\n",
    "\n",
    "The most expensive and cheapest housing from the top 10 in terms of the number of ads is St. Petersburg and Gatchina, respectively."
   ]
  },
  {
   "cell_type": "markdown",
   "metadata": {},
   "source": [
    "<a id='Step_9'></a>\n",
    "#### Пункт E.\n",
    "\n",
    "#### Point E."
   ]
  },
  {
   "cell_type": "markdown",
   "metadata": {},
   "source": [
    "Изучим предложения квартир: для каждой квартиры есть информация о расстоянии до центра. Выделим квартиры в Санкт-Петербурге ('locality_name'). Наша задача — выяснить, какая область входит в центр. Создадим столбец с расстоянием до центра в километрах: округлим до целых значений. После этого посчитаем среднюю цену для каждого километра. Построим график: как цена зависит от удалённости от центра. Определим границу, где график сильно меняется — это и будет центральная зона.\n",
    "\n",
    "Let's study the offers of apartments: for each apartment there is information about the distance to the center. Select apartments in St. Petersburg ('locality_name'). Our task is to find out which area is included in the center. Let's create a column with the distance to the center in kilometers: round to integer values. After that, we calculate the average price for each kilometer. Let's build a graph: how the price depends on the distance from the center. Let's define the border where the graph changes a lot - this will be the central zone."
   ]
  },
  {
   "cell_type": "markdown",
   "metadata": {},
   "source": [
    "Построим столбец - километры от квартиры до центра.\n",
    "\n",
    "Let's build a column - kilometers from the apartment to the center."
   ]
  },
  {
   "cell_type": "code",
   "execution_count": 65,
   "metadata": {},
   "outputs": [],
   "source": [
    "df['kilometer_to_center'] = round(df['cityCenters_nearest']/1000).astype('int64')"
   ]
  },
  {
   "cell_type": "markdown",
   "metadata": {},
   "source": [
    "Построим график зависимости средней цены от близости к центру.\n",
    "\n",
    "Let's build a graph of the dependence of the average price on the proximity to the center."
   ]
  },
  {
   "cell_type": "code",
   "execution_count": 106,
   "metadata": {
    "scrolled": true
   },
   "outputs": [
    {
     "data": {
      "text/plain": [
       "<matplotlib.axes._subplots.AxesSubplot at 0x7f6829c03990>"
      ]
     },
     "execution_count": 106,
     "metadata": {},
     "output_type": "execute_result"
    },
    {
     "data": {
      "image/png": "[encoded data removed]",
      "text/plain": [
       "<Figure size 432x288 with 1 Axes>"
      ]
     },
     "metadata": {
      "needs_background": "light"
     },
     "output_type": "display_data"
    }
   ],
   "source": [
    "df[df['locality_name'] == 'санкт-петербург'].groupby('kilometer_to_center')['last_price'].mean().plot(\n",
    "    title='Price dependence on proximity to the center', legend=True)"
   ]
  },
  {
   "cell_type": "markdown",
   "metadata": {},
   "source": [
    "Похоже, что центр города - 4 км вокруг условной точки на карте.\n",
    "\n",
    "It looks like the city center is 4 km around the symbolic point on the map."
   ]
  },
  {
   "cell_type": "markdown",
   "metadata": {},
   "source": [
    "<a id='Step_10'></a>\n",
    "#### Пункт F.\n",
    "\n",
    "#### Point F."
   ]
  },
  {
   "cell_type": "markdown",
   "metadata": {},
   "source": [
    "Выделим сегмент квартир в центре. Проанализируем эту территорию и изучите следующие параметры: площадь, цена, число комнат, высота потолков. Также выделим факторы, которые влияют на стоимость квартиры (число комнат, этаж, удалённость от центра, дата размещения объявления). Сделаем выводы. Отличаются ли они от общих выводов по всему городу?\n",
    "\n",
    "Let's select a segment of apartments in the center. Let's analyze this territory and study the following parameters: area, price, number of rooms, ceiling height. We also highlight the factors that affect the cost of an apartment (number of rooms, floor, distance from the center, date of placement of the announcement). Let's draw conclusions. Do they differ from the general findings throughout the city?"
   ]
  },
  {
   "cell_type": "markdown",
   "metadata": {},
   "source": [
    "Создадим переменную df_centr, которая хранит в себе наблюдения квартир из области цента (мы опредилил эту область на предыдущем шаге - 9 км).\n",
    "\n",
    "Let's create a variable df_centr, which stores the observations of apartments from the center area (we defined this area in the previous step - 9 km)."
   ]
  },
  {
   "cell_type": "code",
   "execution_count": 67,
   "metadata": {},
   "outputs": [],
   "source": [
    "df_centr = df.query('kilometer_to_center <= 4')"
   ]
  },
  {
   "cell_type": "markdown",
   "metadata": {},
   "source": [
    "Изучим площадь.\n",
    "\n",
    "Let's study the area."
   ]
  },
  {
   "cell_type": "code",
   "execution_count": 68,
   "metadata": {
    "scrolled": true
   },
   "outputs": [
    {
     "name": "stdout",
     "output_type": "stream",
     "text": [
      "Минимальная площадь по всему городу: 14.0\n",
      "Максимальная плошадь по всему городу: 900.0\n",
      "Средняя площадь по всему городу: 60.53916331994646\n",
      "Медианная плошадь по всему городу: 52.2\n",
      "\n",
      "Минимальная площадь в центре: 21.0\n",
      "Максимальная плошадь в центре: 517.0\n",
      "Средняя площадь в центре: 95.32302922309339\n",
      "Медианная плошадь в центре: 83.0\n"
     ]
    }
   ],
   "source": [
    "print('Минимальная площадь по всему городу:', df['total_area'].min())\n",
    "print('Максимальная плошадь по всему городу:', df['total_area'].max())\n",
    "print('Средняя площадь по всему городу:', df['total_area'].mean())\n",
    "print('Медианная плошадь по всему городу:', df['total_area'].median())\n",
    "print()\n",
    "print('Минимальная площадь в центре:', df_centr['total_area'].min())\n",
    "print('Максимальная плошадь в центре:', df_centr['total_area'].max())\n",
    "print('Средняя площадь в центре:', df_centr['total_area'].mean())\n",
    "print('Медианная плошадь в центре:', df_centr['total_area'].median())"
   ]
  },
  {
   "cell_type": "markdown",
   "metadata": {},
   "source": [
    "Minimum area throughout the city: 14.0\n",
    "\n",
    "Maximum area throughout the city: 900.0\n",
    "\n",
    "Average area across the city: 60.53916331994646\n",
    "\n",
    "Median area for the entire city: 52.2\n",
    "\n",
    "Minimum area in the center: 21.0\n",
    "\n",
    "Maximum area in the center: 517.0\n",
    "\n",
    "Average area in the center: 95.32302922309339\n",
    "\n",
    "Median area in the center: 83.0"
   ]
  },
  {
   "cell_type": "markdown",
   "metadata": {},
   "source": [
    "В среднем квартиры в центре больше."
   ]
  },
  {
   "cell_type": "markdown",
   "metadata": {},
   "source": [
    "Изучим цены.\n",
    "\n",
    "Let's look at the prices."
   ]
  },
  {
   "cell_type": "code",
   "execution_count": 69,
   "metadata": {},
   "outputs": [
    {
     "name": "stdout",
     "output_type": "stream",
     "text": [
      "Минимальная цена по всему городу: 430000\n",
      "Максимальная цена по всему городу: 420000000\n",
      "Средняя цена по всему городу: 6508811.723704341\n",
      "Медианная цена по всему городу: 4700000.0\n",
      "\n",
      "Минимальная цена в центре: 1600000\n",
      "Максимальная цена в центре: 401300000\n",
      "Средняя цена в центре: 14518498.091233073\n",
      "Медианная цена в центре: 9500000.0\n"
     ]
    }
   ],
   "source": [
    "\n",
    "print('Минимальная цена по всему городу:', df['last_price'].min())\n",
    "print('Максимальная цена по всему городу:', df['last_price'].max())\n",
    "print('Средняя цена по всему городу:', df['last_price'].mean())\n",
    "print('Медианная цена по всему городу:', df['last_price'].median())\n",
    "print()\n",
    "print('Минимальная цена в центре:', df_centr['last_price'].min())\n",
    "print('Максимальная цена в центре:', df_centr['last_price'].max())\n",
    "print('Средняя цена в центре:', df_centr['last_price'].mean())\n",
    "print('Медианная цена в центре:', df_centr['last_price'].median())"
   ]
  },
  {
   "cell_type": "markdown",
   "metadata": {},
   "source": [
    "Minimum price throughout the city: 430000\n",
    "\n",
    "Maximum price throughout the city: 420000000\n",
    "\n",
    "Average price throughout the city: 6508811.723704341\n",
    "\n",
    "Median price throughout the city: 4700000.0\n",
    "\n",
    "Minimum price in the center: 1600000\n",
    "\n",
    "Maximum price in the center: 401300000\n",
    "\n",
    "Average price in the center: 14518498.091233073\n",
    "\n",
    "Median price in the center: 9500000.0"
   ]
  },
  {
   "cell_type": "markdown",
   "metadata": {},
   "source": [
    "Всё как полагается - квартиры в центре значительно дороже.\n",
    "\n",
    "Everything is as it should be - apartments in the center are much more expensive."
   ]
  },
  {
   "cell_type": "markdown",
   "metadata": {},
   "source": [
    "Изучим высоту потолка.\n",
    "\n",
    "Let's study the height of the ceiling."
   ]
  },
  {
   "cell_type": "code",
   "execution_count": 70,
   "metadata": {},
   "outputs": [
    {
     "name": "stdout",
     "output_type": "stream",
     "text": [
      "Минимальная высота потолка по всему городу: 2.0\n",
      "Максимальная высота потолка по всему городу: 6.0\n",
      "Средняя высота потолка по всему городу: 2.6971227768215713\n",
      "Медианная высота потолка по всему городу: 2.65\n",
      "\n",
      "Минимальная высота потолка в центре: 2.4\n",
      "Максимальная высота потолка в центре: 4.9\n",
      "Средняя высота потолка в центре: 3.0105416963649314\n",
      "Медианная высота потолка в центре: 3.0\n"
     ]
    }
   ],
   "source": [
    "print('Минимальная высота потолка по всему городу:', df['ceiling_height'].min())\n",
    "print('Максимальная высота потолка по всему городу:', df['ceiling_height'].max())\n",
    "print('Средняя высота потолка по всему городу:', df['ceiling_height'].mean())\n",
    "print('Медианная высота потолка по всему городу:', df['ceiling_height'].median())\n",
    "print()\n",
    "print('Минимальная высота потолка в центре:', df_centr['ceiling_height'].min())\n",
    "print('Максимальная высота потолка в центре:', df_centr['ceiling_height'].max())\n",
    "print('Средняя высота потолка в центре:', df_centr['ceiling_height'].mean())\n",
    "print('Медианная высота потолка в центре:', df_centr['ceiling_height'].median())"
   ]
  },
  {
   "cell_type": "markdown",
   "metadata": {},
   "source": [
    "Потолки в центре немного выше: и в среднем и по минимуму. "
   ]
  },
  {
   "cell_type": "markdown",
   "metadata": {},
   "source": [
    "Изучим количество комнат."
   ]
  },
  {
   "cell_type": "code",
   "execution_count": 71,
   "metadata": {
    "scrolled": true
   },
   "outputs": [
    {
     "name": "stdout",
     "output_type": "stream",
     "text": [
      "Минимальное количество комнат по всему городу: 1\n",
      "Максимальное количество комнат по всему городу: 19\n",
      "Среднее количество комнат по всему городу: 2.0956683878370623\n",
      "Медианное количество комнат по всему городу: 2.0\n",
      "\n",
      "Минимальное количество комнат в центре: 1\n",
      "Максимальное количество комнат в центре: 19\n",
      "Среднее количество комнат в центре: 3.059158945117605\n",
      "Медианное количество комнат в центре: 3.0\n"
     ]
    }
   ],
   "source": [
    "print('Минимальное количество комнат по всему городу:', df['rooms'].min())\n",
    "print('Максимальное количество комнат по всему городу:', df['rooms'].max())\n",
    "print('Среднее количество комнат по всему городу:', df['rooms'].mean())\n",
    "print('Медианное количество комнат по всему городу:', df['rooms'].median())\n",
    "print()\n",
    "print('Минимальное количество комнат в центре:', df_centr['rooms'].min())\n",
    "print('Максимальное количество комнат в центре:', df_centr['rooms'].max())\n",
    "print('Среднее количество комнат в центре:', df_centr['rooms'].mean())\n",
    "print('Медианное количество комнат в центре:', df_centr['rooms'].median())"
   ]
  },
  {
   "cell_type": "markdown",
   "metadata": {},
   "source": [
    "Minimum number of rooms throughout the city:\n",
    "\n",
    "Maximum number of rooms throughout the city:\n",
    "\n",
    "Average number of rooms across the city:\n",
    "\n",
    "Median number of rooms across the city:\n",
    "\n",
    "Minimum number of rooms in the center:\n",
    "\n",
    "Maximum number of rooms in the center:\n",
    "\n",
    "Average number of rooms in the center:\n",
    "\n",
    "Median number of rooms in the center:"
   ]
  },
  {
   "cell_type": "markdown",
   "metadata": {},
   "source": [
    "В центре квартиры имеют больше комнат, чем по всему городу.\n",
    "\n",
    "In the center of the apartment have more rooms than throughout the city."
   ]
  },
  {
   "cell_type": "markdown",
   "metadata": {},
   "source": [
    "Посмотрим что влияет на цену.\n",
    "\n",
    "Let's see what affects the price."
   ]
  },
  {
   "cell_type": "code",
   "execution_count": 72,
   "metadata": {
    "scrolled": true
   },
   "outputs": [
    {
     "data": {
      "text/html": [
       "<div>\n",
       "<style scoped>\n",
       "    .dataframe tbody tr th:only-of-type {\n",
       "        vertical-align: middle;\n",
       "    }\n",
       "\n",
       "    .dataframe tbody tr th {\n",
       "        vertical-align: top;\n",
       "    }\n",
       "\n",
       "    .dataframe thead th {\n",
       "        text-align: right;\n",
       "    }\n",
       "</style>\n",
       "<table border=\"1\" class=\"dataframe\">\n",
       "  <thead>\n",
       "    <tr style=\"text-align: right;\">\n",
       "      <th></th>\n",
       "      <th>last_price_centr</th>\n",
       "      <th>last_price_whole_city</th>\n",
       "    </tr>\n",
       "  </thead>\n",
       "  <tbody>\n",
       "    <tr>\n",
       "      <td>last_price</td>\n",
       "      <td>1.000000</td>\n",
       "      <td>1.000000</td>\n",
       "    </tr>\n",
       "    <tr>\n",
       "      <td>price_for_metr</td>\n",
       "      <td>0.842846</td>\n",
       "      <td>0.742706</td>\n",
       "    </tr>\n",
       "    <tr>\n",
       "      <td>total_area</td>\n",
       "      <td>0.566010</td>\n",
       "      <td>0.691568</td>\n",
       "    </tr>\n",
       "    <tr>\n",
       "      <td>living_area</td>\n",
       "      <td>0.486800</td>\n",
       "      <td>0.603435</td>\n",
       "    </tr>\n",
       "    <tr>\n",
       "      <td>kitchen_area</td>\n",
       "      <td>0.389246</td>\n",
       "      <td>0.518290</td>\n",
       "    </tr>\n",
       "    <tr>\n",
       "      <td>rooms</td>\n",
       "      <td>0.265566</td>\n",
       "      <td>0.391182</td>\n",
       "    </tr>\n",
       "    <tr>\n",
       "      <td>kilometer_to_center</td>\n",
       "      <td>0.179645</td>\n",
       "      <td>0.253729</td>\n",
       "    </tr>\n",
       "    <tr>\n",
       "      <td>cityCenters_nearest</td>\n",
       "      <td>0.171210</td>\n",
       "      <td>0.253612</td>\n",
       "    </tr>\n",
       "    <tr>\n",
       "      <td>total_images</td>\n",
       "      <td>0.141648</td>\n",
       "      <td>0.114208</td>\n",
       "    </tr>\n",
       "    <tr>\n",
       "      <td>parks_around3000</td>\n",
       "      <td>0.129945</td>\n",
       "      <td>0.213762</td>\n",
       "    </tr>\n",
       "    <tr>\n",
       "      <td>ceiling_height</td>\n",
       "      <td>0.123044</td>\n",
       "      <td>0.338635</td>\n",
       "    </tr>\n",
       "    <tr>\n",
       "      <td>floor</td>\n",
       "      <td>0.120800</td>\n",
       "      <td>0.031454</td>\n",
       "    </tr>\n",
       "    <tr>\n",
       "      <td>balcony</td>\n",
       "      <td>0.107091</td>\n",
       "      <td>0.004398</td>\n",
       "    </tr>\n",
       "    <tr>\n",
       "      <td>ponds_around3000</td>\n",
       "      <td>0.093611</td>\n",
       "      <td>0.220609</td>\n",
       "    </tr>\n",
       "    <tr>\n",
       "      <td>ratio_kithcen/total</td>\n",
       "      <td>0.083092</td>\n",
       "      <td>0.090309</td>\n",
       "    </tr>\n",
       "    <tr>\n",
       "      <td>days_exposition</td>\n",
       "      <td>0.060759</td>\n",
       "      <td>0.088792</td>\n",
       "    </tr>\n",
       "    <tr>\n",
       "      <td>parks_nearest</td>\n",
       "      <td>0.060273</td>\n",
       "      <td>0.125106</td>\n",
       "    </tr>\n",
       "    <tr>\n",
       "      <td>is_apartment</td>\n",
       "      <td>0.059016</td>\n",
       "      <td>0.033782</td>\n",
       "    </tr>\n",
       "    <tr>\n",
       "      <td>floors_total</td>\n",
       "      <td>0.052323</td>\n",
       "      <td>0.000510</td>\n",
       "    </tr>\n",
       "    <tr>\n",
       "      <td>year</td>\n",
       "      <td>0.040387</td>\n",
       "      <td>0.042654</td>\n",
       "    </tr>\n",
       "    <tr>\n",
       "      <td>month</td>\n",
       "      <td>0.034909</td>\n",
       "      <td>0.000086</td>\n",
       "    </tr>\n",
       "    <tr>\n",
       "      <td>airports_nearest</td>\n",
       "      <td>0.013607</td>\n",
       "      <td>0.184327</td>\n",
       "    </tr>\n",
       "    <tr>\n",
       "      <td>ponds_nearest</td>\n",
       "      <td>0.011635</td>\n",
       "      <td>0.094750</td>\n",
       "    </tr>\n",
       "    <tr>\n",
       "      <td>ratio_living/total</td>\n",
       "      <td>0.005782</td>\n",
       "      <td>0.003688</td>\n",
       "    </tr>\n",
       "    <tr>\n",
       "      <td>day</td>\n",
       "      <td>0.001574</td>\n",
       "      <td>0.003545</td>\n",
       "    </tr>\n",
       "    <tr>\n",
       "      <td>studio</td>\n",
       "      <td>NaN</td>\n",
       "      <td>NaN</td>\n",
       "    </tr>\n",
       "    <tr>\n",
       "      <td>open_plan</td>\n",
       "      <td>NaN</td>\n",
       "      <td>NaN</td>\n",
       "    </tr>\n",
       "  </tbody>\n",
       "</table>\n",
       "</div>"
      ],
      "text/plain": [
       "                     last_price_centr  last_price_whole_city\n",
       "last_price                   1.000000               1.000000\n",
       "price_for_metr               0.842846               0.742706\n",
       "total_area                   0.566010               0.691568\n",
       "living_area                  0.486800               0.603435\n",
       "kitchen_area                 0.389246               0.518290\n",
       "rooms                        0.265566               0.391182\n",
       "kilometer_to_center          0.179645               0.253729\n",
       "cityCenters_nearest          0.171210               0.253612\n",
       "total_images                 0.141648               0.114208\n",
       "parks_around3000             0.129945               0.213762\n",
       "ceiling_height               0.123044               0.338635\n",
       "floor                        0.120800               0.031454\n",
       "balcony                      0.107091               0.004398\n",
       "ponds_around3000             0.093611               0.220609\n",
       "ratio_kithcen/total          0.083092               0.090309\n",
       "days_exposition              0.060759               0.088792\n",
       "parks_nearest                0.060273               0.125106\n",
       "is_apartment                 0.059016               0.033782\n",
       "floors_total                 0.052323               0.000510\n",
       "year                         0.040387               0.042654\n",
       "month                        0.034909               0.000086\n",
       "airports_nearest             0.013607               0.184327\n",
       "ponds_nearest                0.011635               0.094750\n",
       "ratio_living/total           0.005782               0.003688\n",
       "day                          0.001574               0.003545\n",
       "studio                            NaN                    NaN\n",
       "open_plan                         NaN                    NaN"
      ]
     },
     "execution_count": 72,
     "metadata": {},
     "output_type": "execute_result"
    }
   ],
   "source": [
    "corr_comp = (pd.DataFrame([df_centr.corr()['last_price'].abs().sort_values(ascending=False), \n",
    "                           df.corr()['last_price'].abs().sort_values(ascending=False)]).T)\n",
    "corr_comp.columns = ['last_price_centr', 'last_price_whole_city']\n",
    "corr_comp"
   ]
  },
  {
   "cell_type": "code",
   "execution_count": 73,
   "metadata": {
    "scrolled": true
   },
   "outputs": [
    {
     "data": {
      "text/html": [
       "<div>\n",
       "<style scoped>\n",
       "    .dataframe tbody tr th:only-of-type {\n",
       "        vertical-align: middle;\n",
       "    }\n",
       "\n",
       "    .dataframe tbody tr th {\n",
       "        vertical-align: top;\n",
       "    }\n",
       "\n",
       "    .dataframe thead tr th {\n",
       "        text-align: left;\n",
       "    }\n",
       "\n",
       "    .dataframe thead tr:last-of-type th {\n",
       "        text-align: right;\n",
       "    }\n",
       "</style>\n",
       "<table border=\"1\" class=\"dataframe\">\n",
       "  <thead>\n",
       "    <tr>\n",
       "      <th></th>\n",
       "      <th>mean</th>\n",
       "      <th>median</th>\n",
       "    </tr>\n",
       "    <tr>\n",
       "      <th></th>\n",
       "      <th>last_price</th>\n",
       "      <th>last_price</th>\n",
       "    </tr>\n",
       "    <tr>\n",
       "      <th>floor_position</th>\n",
       "      <th></th>\n",
       "      <th></th>\n",
       "    </tr>\n",
       "  </thead>\n",
       "  <tbody>\n",
       "    <tr>\n",
       "      <td>другой</td>\n",
       "      <td>1.527408e+07</td>\n",
       "      <td>9980000</td>\n",
       "    </tr>\n",
       "    <tr>\n",
       "      <td>первый</td>\n",
       "      <td>9.336884e+06</td>\n",
       "      <td>6975000</td>\n",
       "    </tr>\n",
       "    <tr>\n",
       "      <td>последний</td>\n",
       "      <td>1.534285e+07</td>\n",
       "      <td>9455000</td>\n",
       "    </tr>\n",
       "  </tbody>\n",
       "</table>\n",
       "</div>"
      ],
      "text/plain": [
       "                        mean     median\n",
       "                  last_price last_price\n",
       "floor_position                         \n",
       "другой          1.527408e+07    9980000\n",
       "первый          9.336884e+06    6975000\n",
       "последний       1.534285e+07    9455000"
      ]
     },
     "execution_count": 73,
     "metadata": {},
     "output_type": "execute_result"
    }
   ],
   "source": [
    "df_centr.pivot_table(index='floor_position', values='last_price', aggfunc=['mean', 'median'])"
   ]
  },
  {
   "cell_type": "markdown",
   "metadata": {},
   "source": [
    "Факторы влияющие на цену для квартир в центре и для квартир по всему городу одни и теже, за некоторыми исключениями:\n",
    "- в центре меньше внимания обращают на потолок;\n",
    "- в центре меньше внимания обращают на расстояние до условного центра и на количество прудов и водоемов.\n",
    "\n",
    "The factors affecting the price for apartments in the center and for apartments throughout the city are the same, with some exceptions:\n",
    "- in the center pay less attention to the ceiling;\n",
    "- in the center, less attention is paid to the distance to the conditional center and the number of ponds and reservoirs."
   ]
  },
  {
   "cell_type": "markdown",
   "metadata": {},
   "source": [
    "<a id='Step_11'></a>\n",
    "### Шаг 5. Общий вывод\n",
    "\n",
    "### Step 5. General conclusion"
   ]
  },
  {
   "cell_type": "markdown",
   "metadata": {},
   "source": [
    "Мы подготовили данные:\n",
    "We have prepared the data:"
   ]
  },
  {
   "cell_type": "markdown",
   "metadata": {},
   "source": [
    "- обработали пропуски и дубликаты;\n",
    "- подобрали подходящие типы для переменных;\n",
    "- удалили подозрительные наблюдения.\n",
    "\n"
   ]
  },
  {
   "cell_type": "markdown",
   "metadata": {},
   "source": [
    "- processed omissions and duplicates;\n",
    "- selected suitable types for variables;\n",
    "- removed suspicious observations."
   ]
  },
  {
   "cell_type": "markdown",
   "metadata": {},
   "source": [
    "Так же обнаружили, что в данных есть странные значения, например, слишком низкая цена или слишком низкие или высокие потолки.\n",
    "\n",
    "We also found that there are strange values in the data, for example, a price that is too low or ceilings that are too low or high."
   ]
  },
  {
   "cell_type": "markdown",
   "metadata": {},
   "source": [
    "Мы провели небольшое исследование и получили:\n",
    "\n",
    "We did a little research and got:"
   ]
  },
  {
   "cell_type": "markdown",
   "metadata": {},
   "source": [
    " - стоимость квадратного метра от 9615 и до 1736842 рублей;\n",
    " - площадь от 14 и до 900 квадратных метров;\n",
    " - максимальное количество комнат - 19;\n",
    " - квартира на первом этаже в среднем на 18,5% дешевле чем на остальных этажах;\n",
    " - чаще всего квартиры продаются за 3 месяца."
   ]
  },
  {
   "cell_type": "markdown",
   "metadata": {},
   "source": [
    "- cost per square meter from 9615 to 1736842 rubles;\n",
    "- area from 14 to 900 square meters;\n",
    "- maximum number of rooms - 19;\n",
    "- an apartment on the ground floor is on average 18.5% cheaper than on the other floors;\n",
    "- most often apartments are sold for 3 months."
   ]
  },
  {
   "cell_type": "markdown",
   "metadata": {},
   "source": [
    "И думаем, что:\n",
    "\n",
    "And we think that:"
   ]
  },
  {
   "cell_type": "markdown",
   "metadata": {},
   "source": [
    "- В целом на цену квартиры влияют: площадь, место, этаж, количество парков и водоемов, количество комнат и высота потолков.\n",
    "- В центре цены, площади и потолки больше. А влияние места, высоты потолка и парков и водоемов вокруг снижается.\n",
    "- Последний этаж может быть дороже для дорогих квартир из-за вида и возможного доступа к крыше.\n",
    "- Центр города - это радиус 4 км от условного центра.\n",
    "\n",
    "- In general, the price of an apartment is affected by: area, location, floor, number of parks and ponds, number of rooms and ceiling height.\n",
    "- In the center of the price, area and ceilings more. And the influence of the place, the height of the ceiling and the parks and reservoirs around is reduced.\n",
    "- The top floor can be more expensive for expensive apartments due to the view and possible access to the roof.\n",
    "- The city center is a radius of 4 km from the conditional center."
   ]
  }
 ],
 "metadata": {
  "kernelspec": {
   "display_name": "Python 3 (ipykernel)",
   "language": "python",
   "name": "python3"
  },
  "language_info": {
   "codemirror_mode": {
    "name": "ipython",
    "version": 3
   },
   "file_extension": ".py",
   "mimetype": "text/x-python",
   "name": "python",
   "nbconvert_exporter": "python",
   "pygments_lexer": "ipython3",
   "version": "3.9.5"
  },
  "toc": {
   "base_numbering": 1,
   "nav_menu": {},
   "number_sections": true,
   "sideBar": true,
   "skip_h1_title": true,
   "title_cell": "Table of Contents",
   "title_sidebar": "Contents",
   "toc_cell": false,
   "toc_position": {},
   "toc_section_display": true,
   "toc_window_display": false
  }
 },
 "nbformat": 4,
 "nbformat_minor": 2
}
