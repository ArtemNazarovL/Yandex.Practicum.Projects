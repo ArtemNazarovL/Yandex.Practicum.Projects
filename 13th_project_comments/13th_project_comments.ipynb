{
  "cells": [
    {
      "cell_type": "markdown",
      "metadata": {
        "id": "jM_BzjhYy6Y0"
      },
      "source": [
        "Оглавление.\n",
        "- [Шаг 1. Описание проекта.](#Step_1)\n",
        "- [Шаг 1.1. Подготовка.](#Step_2)\n",
        "- [Шаг 1.2. Обучение.](#Step_3)<br />\n",
        "- [Шаг 1.3. Выводы.](#Step_4)<br />"
      ]
    },
    {
      "cell_type": "markdown",
      "source": [
        "Table of contents.\n",
        "- [Step 1. Description of the project.](#Step_1)\n",
        "- [Step 1.1. Preparation.](#Step_2)\n",
        "- [Step 1.2. Learning.](#Step_3)<br />\n",
        "- [Step 1.3. Conclusions.](#Step_4)<br />"
      ],
      "metadata": {
        "id": "xpaySDK3zFTk"
      }
    },
    {
      "cell_type": "markdown",
      "metadata": {
        "id": "LebnU9foy6Y1"
      },
      "source": [
        "<a id='Step_1'></a>\n",
        "# Классификация комментариев интернет магазина\n",
        "\n",
        "Интернет-магазин разрабатывает сервис, в котором пользователи могут редактировать и дополнять описания товаров, как в вики-сообществах. Другими словами пользователи сами дают характеристики товарам. Поэтому сервис нуждается в инструменте, который будет выделять токсичные комментарии, чтобы модераторы могли обработать их самостоятельно.\n",
        "\n",
        "В этом проекте научим моедль классифицировать комментарии на таксичные и все остальные."
      ]
    },
    {
      "cell_type": "markdown",
      "source": [
        "<a id='Step_1'></a>\n",
        "# Classification of online store comments\n",
        "\n",
        "The online store is developing a service in which users can edit and supplement product descriptions, like in wiki communities. In other words, users themselves give characteristics to goods. Therefore, the service needs a tool that will highlight toxic comments so that moderators can process them themselves.\n",
        "\n",
        "In this project, we will teach the model to classify comments into taxic and all the rest."
      ],
      "metadata": {
        "id": "ZLA7jeYy0Z7P"
      }
    },
    {
      "cell_type": "markdown",
      "metadata": {
        "id": "G_Vbw5eqy6Y3"
      },
      "source": [
        "<a id='Step_2'></a>\n",
        "## Подготовка"
      ]
    },
    {
      "cell_type": "markdown",
      "source": [
        "<a id='Step_2'></a>\n",
        "## Training"
      ],
      "metadata": {
        "id": "TsLBI4550e3D"
      }
    },
    {
      "cell_type": "markdown",
      "metadata": {
        "id": "rI0S_1MNy6Y4"
      },
      "source": [
        "Загрузка библиотек.\n",
        "\n",
        "Loading libraries."
      ]
    },
    {
      "cell_type": "code",
      "execution_count": null,
      "metadata": {
        "id": "tGSz53EGy6Y5"
      },
      "outputs": [],
      "source": [
        "import pandas as pd\n",
        "from pymystem3 import Mystem\n",
        "import re \n",
        "import nltk\n",
        "from nltk.corpus import stopwords as nltk_stopwords\n",
        "from sklearn.feature_extraction.text import TfidfVectorizer \n",
        "from sklearn.metrics import f1_score\n",
        "from sklearn.metrics.scorer import make_scorer\n",
        "from sklearn.model_selection import GridSearchCV\n",
        "from sklearn.linear_model import LogisticRegression\n",
        "from sklearn.ensemble import RandomForestClassifier\n",
        "from lightgbm import LGBMClassifier\n",
        "import nltk\n",
        "from nltk.stem import WordNetLemmatizer \n",
        "from nltk.corpus import wordnet\n",
        "from sklearn.model_selection import train_test_split\n",
        "import numpy as np\n",
        "import catboost\n",
        "from catboost import CatBoostClassifier"
      ]
    },
    {
      "cell_type": "markdown",
      "metadata": {
        "id": "ZtHRHOUEy6Y9"
      },
      "source": [
        "Загрузка файла.\n",
        "\n",
        "File upload."
      ]
    },
    {
      "cell_type": "code",
      "execution_count": null,
      "metadata": {
        "id": "pb68sBL6y6Y_"
      },
      "outputs": [],
      "source": [
        "corpus = pd.read_csv('/datasets/toxic_comments.csv')"
      ]
    },
    {
      "cell_type": "code",
      "execution_count": null,
      "metadata": {
        "id": "ZjRDODs0y6ZB",
        "outputId": "86ca00a4-831c-4312-aeea-e7ca369ef889"
      },
      "outputs": [
        {
          "data": {
            "text/html": [
              "<div>\n",
              "<style scoped>\n",
              "    .dataframe tbody tr th:only-of-type {\n",
              "        vertical-align: middle;\n",
              "    }\n",
              "\n",
              "    .dataframe tbody tr th {\n",
              "        vertical-align: top;\n",
              "    }\n",
              "\n",
              "    .dataframe thead th {\n",
              "        text-align: right;\n",
              "    }\n",
              "</style>\n",
              "<table border=\"1\" class=\"dataframe\">\n",
              "  <thead>\n",
              "    <tr style=\"text-align: right;\">\n",
              "      <th></th>\n",
              "      <th>text</th>\n",
              "      <th>toxic</th>\n",
              "    </tr>\n",
              "  </thead>\n",
              "  <tbody>\n",
              "    <tr>\n",
              "      <td>0</td>\n",
              "      <td>Explanation\\nWhy the edits made under my usern...</td>\n",
              "      <td>0</td>\n",
              "    </tr>\n",
              "    <tr>\n",
              "      <td>1</td>\n",
              "      <td>D'aww! He matches this background colour I'm s...</td>\n",
              "      <td>0</td>\n",
              "    </tr>\n",
              "    <tr>\n",
              "      <td>2</td>\n",
              "      <td>Hey man, I'm really not trying to edit war. It...</td>\n",
              "      <td>0</td>\n",
              "    </tr>\n",
              "    <tr>\n",
              "      <td>3</td>\n",
              "      <td>\"\\nMore\\nI can't make any real suggestions on ...</td>\n",
              "      <td>0</td>\n",
              "    </tr>\n",
              "    <tr>\n",
              "      <td>4</td>\n",
              "      <td>You, sir, are my hero. Any chance you remember...</td>\n",
              "      <td>0</td>\n",
              "    </tr>\n",
              "  </tbody>\n",
              "</table>\n",
              "</div>"
            ],
            "text/plain": [
              "                                                text  toxic\n",
              "0  Explanation\\nWhy the edits made under my usern...      0\n",
              "1  D'aww! He matches this background colour I'm s...      0\n",
              "2  Hey man, I'm really not trying to edit war. It...      0\n",
              "3  \"\\nMore\\nI can't make any real suggestions on ...      0\n",
              "4  You, sir, are my hero. Any chance you remember...      0"
            ]
          },
          "execution_count": 20,
          "metadata": {},
          "output_type": "execute_result"
        }
      ],
      "source": [
        "corpus.head()"
      ]
    },
    {
      "cell_type": "markdown",
      "metadata": {
        "id": "RPLxEH-oy6ZD"
      },
      "source": [
        "Подготовим функции для лемматизации и очистки текста.\n",
        "\n",
        "Let's prepare functions for lemmatization and text cleaning."
      ]
    },
    {
      "cell_type": "code",
      "execution_count": null,
      "metadata": {
        "id": "ehzq3FlUy6ZE"
      },
      "outputs": [],
      "source": [
        "lemmatizer = WordNetLemmatizer()"
      ]
    },
    {
      "cell_type": "code",
      "execution_count": null,
      "metadata": {
        "id": "WtNI72hyy6ZF"
      },
      "outputs": [],
      "source": [
        "def get_wordnet_pos(word):\n",
        "    tag = nltk.pos_tag([word])[0][1][0].upper()\n",
        "    tag_dict = {\"J\": wordnet.ADJ,\n",
        "                \"N\": wordnet.NOUN,\n",
        "                \"V\": wordnet.VERB,\n",
        "                \"R\": wordnet.ADV}\n",
        "    return tag_dict.get(tag, wordnet.NOUN)"
      ]
    },
    {
      "cell_type": "code",
      "execution_count": null,
      "metadata": {
        "id": "-hWtaSg_y6ZG"
      },
      "outputs": [],
      "source": [
        "def lemmatize(text):\n",
        "    return \" \".join([lemmatizer.lemmatize(w, get_wordnet_pos(w)) for w in nltk.word_tokenize(text)]).lower()"
      ]
    },
    {
      "cell_type": "code",
      "execution_count": null,
      "metadata": {
        "id": "rFvutITny6ZH"
      },
      "outputs": [],
      "source": [
        "def clear_text(text):\n",
        "    return \" \".join((re.sub(r'[^a-zA-Z ]', ' ', text)).split())  "
      ]
    },
    {
      "cell_type": "markdown",
      "metadata": {
        "id": "XEBbx7-Vy6ZI"
      },
      "source": [
        "Отчистим текст.\n",
        "\n",
        "Let's clean up the text."
      ]
    },
    {
      "cell_type": "code",
      "execution_count": null,
      "metadata": {
        "id": "A_ynVtsKy6ZJ"
      },
      "outputs": [],
      "source": [
        "corpus['text'] = corpus['text'].apply(lambda x: clear_text(x))"
      ]
    },
    {
      "cell_type": "markdown",
      "metadata": {
        "id": "zrG6k9r4y6ZK"
      },
      "source": [
        "Проведем лемматизацию.\n",
        "\n",
        "Let's lemmatize."
      ]
    },
    {
      "cell_type": "code",
      "execution_count": null,
      "metadata": {
        "id": "xSMJFnKxy6ZM"
      },
      "outputs": [],
      "source": [
        "corpus['text'] = corpus['text'].apply(lambda x: lemmatize(x))"
      ]
    },
    {
      "cell_type": "markdown",
      "metadata": {
        "id": "cvG0ccH5y6ZO"
      },
      "source": [
        "Разделим данные для обучения и проверки качества.\n",
        "\n",
        "Let's separate the data for training and quality control."
      ]
    },
    {
      "cell_type": "code",
      "execution_count": null,
      "metadata": {
        "id": "c5H-hFNFy6ZO"
      },
      "outputs": [],
      "source": [
        "X = corpus.text\n",
        "y = corpus.toxic\n",
        "X_train, X_test, y_train, y_test = train_test_split(X, y, test_size=0.25, random_state=42)"
      ]
    },
    {
      "cell_type": "markdown",
      "metadata": {
        "id": "tXVIZbYEy6ZP"
      },
      "source": [
        "Выполним tf-idf векторизацию.\n",
        "\n",
        "Let's perform tf-idf vectorization."
      ]
    },
    {
      "cell_type": "code",
      "execution_count": null,
      "metadata": {
        "id": "KMIjsD91y6ZQ"
      },
      "outputs": [],
      "source": [
        "stopwords = set(nltk_stopwords.words('english'))\n",
        "vectorizer = TfidfVectorizer(stop_words=stopwords) \n",
        "X_train = vectorizer.fit_transform(X_train)\n",
        "X_test = vectorizer.transform(X_test)"
      ]
    },
    {
      "cell_type": "markdown",
      "metadata": {
        "id": "fycHBFGry6ZR"
      },
      "source": [
        "<a id='Step_3'></a>\n",
        "## Обучение"
      ]
    },
    {
      "cell_type": "markdown",
      "source": [
        "<a id='Step_3'></a>\n",
        "## Education"
      ],
      "metadata": {
        "id": "rMOtvDKY1Cq4"
      }
    },
    {
      "cell_type": "markdown",
      "metadata": {
        "id": "L_C_hkGDy6ZS"
      },
      "source": [
        "Регрессия.\n",
        "\n",
        "Regression."
      ]
    },
    {
      "cell_type": "code",
      "execution_count": null,
      "metadata": {
        "id": "XXFquop9y6ZS",
        "outputId": "3a7b4fb4-6c3b-418a-8656-42147162500a"
      },
      "outputs": [
        {
          "name": "stderr",
          "output_type": "stream",
          "text": [
            "/opt/conda/lib/python3.7/site-packages/sklearn/linear_model/logistic.py:432: FutureWarning: Default solver will be changed to 'lbfgs' in 0.22. Specify a solver to silence this warning.\n",
            "  FutureWarning)\n"
          ]
        },
        {
          "name": "stdout",
          "output_type": "stream",
          "text": [
            "F1: 0.7374851013110846\n",
            "CPU times: user 5.32 s, sys: 3.4 s, total: 8.72 s\n",
            "Wall time: 8.73 s\n"
          ]
        }
      ],
      "source": [
        "%%time\n",
        "model = LogisticRegression()\n",
        "model.fit(X_train, y_train)\n",
        "prediction = model.predict(X_test)\n",
        "print('F1:', f1_score(prediction, y_test))"
      ]
    },
    {
      "cell_type": "markdown",
      "metadata": {
        "id": "YI53oIrry6ZT"
      },
      "source": [
        "LGBM."
      ]
    },
    {
      "cell_type": "code",
      "execution_count": null,
      "metadata": {
        "id": "1AsznSC6y6ZU",
        "outputId": "4598cd8e-05f0-47e3-9a53-b17feabea85a"
      },
      "outputs": [
        {
          "name": "stderr",
          "output_type": "stream",
          "text": [
            "/opt/conda/lib/python3.7/site-packages/lightgbm/engine.py:148: UserWarning: Found `num_iterations` in params. Will use it instead of argument\n",
            "  warnings.warn(\"Found `{}` in params. Will use it instead of argument\".format(alias))\n"
          ]
        },
        {
          "name": "stdout",
          "output_type": "stream",
          "text": [
            "F1: 0.7697902097902097\n",
            "CPU times: user 8min 51s, sys: 997 ms, total: 8min 52s\n",
            "Wall time: 8min 57s\n"
          ]
        }
      ],
      "source": [
        "%%time\n",
        "model = LGBMClassifier(random_state=0, num_iterations = 250)\n",
        "model.fit(X_train, y_train)\n",
        "prediction = model.predict(X_test)\n",
        "print('F1:', f1_score(prediction, y_test))"
      ]
    },
    {
      "cell_type": "markdown",
      "metadata": {
        "id": "A7c3WJSYy6ZV"
      },
      "source": [
        "CatBoost."
      ]
    },
    {
      "cell_type": "code",
      "execution_count": null,
      "metadata": {
        "scrolled": false,
        "id": "A84UlXjHy6ZV",
        "outputId": "41112c28-7975-4cca-873b-e4a5dbcce1e0"
      },
      "outputs": [
        {
          "name": "stdout",
          "output_type": "stream",
          "text": [
            "Learning rate set to 0.306659\n",
            "0:\tlearn: 0.4371776\ttotal: 5.92s\tremaining: 17m 10s\n",
            "1:\tlearn: 0.3228587\ttotal: 10.5s\tremaining: 15m 10s\n",
            "2:\tlearn: 0.2740831\ttotal: 15.1s\tremaining: 14m 26s\n",
            "3:\tlearn: 0.2462572\ttotal: 19.8s\tremaining: 14m 7s\n",
            "4:\tlearn: 0.2329068\ttotal: 24.4s\tremaining: 13m 50s\n",
            "5:\tlearn: 0.2254028\ttotal: 29s\tremaining: 13m 37s\n",
            "6:\tlearn: 0.2189279\ttotal: 33.7s\tremaining: 13m 29s\n",
            "7:\tlearn: 0.2142304\ttotal: 38.4s\tremaining: 13m 22s\n",
            "8:\tlearn: 0.2105194\ttotal: 43.1s\tremaining: 13m 15s\n",
            "9:\tlearn: 0.2063897\ttotal: 47.8s\tremaining: 13m 9s\n",
            "10:\tlearn: 0.2035294\ttotal: 52.6s\tremaining: 13m 4s\n",
            "11:\tlearn: 0.2008108\ttotal: 57.3s\tremaining: 12m 58s\n",
            "12:\tlearn: 0.1977061\ttotal: 1m 2s\tremaining: 12m 52s\n",
            "13:\tlearn: 0.1952309\ttotal: 1m 6s\tremaining: 12m 44s\n",
            "14:\tlearn: 0.1917842\ttotal: 1m 11s\tremaining: 12m 40s\n",
            "15:\tlearn: 0.1900512\ttotal: 1m 15s\tremaining: 12m 34s\n",
            "16:\tlearn: 0.1881420\ttotal: 1m 20s\tremaining: 12m 28s\n",
            "17:\tlearn: 0.1859558\ttotal: 1m 25s\tremaining: 12m 23s\n",
            "18:\tlearn: 0.1841839\ttotal: 1m 30s\tremaining: 12m 19s\n",
            "19:\tlearn: 0.1820297\ttotal: 1m 34s\tremaining: 12m 13s\n",
            "20:\tlearn: 0.1807379\ttotal: 1m 39s\tremaining: 12m 8s\n",
            "21:\tlearn: 0.1794002\ttotal: 1m 44s\tremaining: 12m 4s\n",
            "22:\tlearn: 0.1777968\ttotal: 1m 48s\tremaining: 11m 59s\n",
            "23:\tlearn: 0.1767219\ttotal: 1m 53s\tremaining: 11m 54s\n",
            "24:\tlearn: 0.1755585\ttotal: 1m 58s\tremaining: 11m 49s\n",
            "25:\tlearn: 0.1746323\ttotal: 2m 2s\tremaining: 11m 44s\n",
            "26:\tlearn: 0.1736234\ttotal: 2m 7s\tremaining: 11m 40s\n",
            "27:\tlearn: 0.1722858\ttotal: 2m 12s\tremaining: 11m 34s\n",
            "28:\tlearn: 0.1711273\ttotal: 2m 16s\tremaining: 11m 29s\n",
            "29:\tlearn: 0.1700728\ttotal: 2m 21s\tremaining: 11m 24s\n",
            "30:\tlearn: 0.1691712\ttotal: 2m 26s\tremaining: 11m 19s\n",
            "31:\tlearn: 0.1683690\ttotal: 2m 30s\tremaining: 11m 14s\n",
            "32:\tlearn: 0.1675115\ttotal: 2m 35s\tremaining: 11m 8s\n",
            "33:\tlearn: 0.1666984\ttotal: 2m 40s\tremaining: 11m 3s\n",
            "34:\tlearn: 0.1654108\ttotal: 2m 44s\tremaining: 10m 58s\n",
            "35:\tlearn: 0.1645212\ttotal: 2m 49s\tremaining: 10m 53s\n",
            "36:\tlearn: 0.1637026\ttotal: 2m 53s\tremaining: 10m 48s\n",
            "37:\tlearn: 0.1630272\ttotal: 2m 58s\tremaining: 10m 43s\n",
            "38:\tlearn: 0.1623841\ttotal: 3m 3s\tremaining: 10m 38s\n",
            "39:\tlearn: 0.1615724\ttotal: 3m 7s\tremaining: 10m 33s\n",
            "40:\tlearn: 0.1608231\ttotal: 3m 12s\tremaining: 10m 28s\n",
            "41:\tlearn: 0.1598757\ttotal: 3m 16s\tremaining: 10m 23s\n",
            "42:\tlearn: 0.1591320\ttotal: 3m 21s\tremaining: 10m 18s\n",
            "43:\tlearn: 0.1584181\ttotal: 3m 26s\tremaining: 10m 13s\n",
            "44:\tlearn: 0.1577300\ttotal: 3m 30s\tremaining: 10m 8s\n",
            "45:\tlearn: 0.1571265\ttotal: 3m 35s\tremaining: 10m 4s\n",
            "46:\tlearn: 0.1566000\ttotal: 3m 40s\tremaining: 9m 59s\n",
            "47:\tlearn: 0.1559194\ttotal: 3m 44s\tremaining: 9m 55s\n",
            "48:\tlearn: 0.1554070\ttotal: 3m 49s\tremaining: 9m 50s\n",
            "49:\tlearn: 0.1547771\ttotal: 3m 54s\tremaining: 9m 45s\n",
            "50:\tlearn: 0.1540224\ttotal: 3m 59s\tremaining: 9m 41s\n",
            "51:\tlearn: 0.1531145\ttotal: 4m 4s\tremaining: 9m 38s\n",
            "52:\tlearn: 0.1525927\ttotal: 4m 9s\tremaining: 9m 33s\n",
            "53:\tlearn: 0.1519104\ttotal: 4m 13s\tremaining: 9m 29s\n",
            "54:\tlearn: 0.1514686\ttotal: 4m 18s\tremaining: 9m 24s\n",
            "55:\tlearn: 0.1507317\ttotal: 4m 23s\tremaining: 9m 19s\n",
            "56:\tlearn: 0.1502947\ttotal: 4m 28s\tremaining: 9m 15s\n",
            "57:\tlearn: 0.1494134\ttotal: 4m 33s\tremaining: 9m 11s\n",
            "58:\tlearn: 0.1489767\ttotal: 4m 38s\tremaining: 9m 6s\n",
            "59:\tlearn: 0.1484757\ttotal: 4m 42s\tremaining: 9m 2s\n",
            "60:\tlearn: 0.1479481\ttotal: 4m 47s\tremaining: 8m 57s\n",
            "61:\tlearn: 0.1476265\ttotal: 4m 52s\tremaining: 8m 53s\n",
            "62:\tlearn: 0.1470316\ttotal: 4m 57s\tremaining: 8m 48s\n",
            "63:\tlearn: 0.1467020\ttotal: 5m 2s\tremaining: 8m 44s\n",
            "64:\tlearn: 0.1462191\ttotal: 5m 7s\tremaining: 8m 39s\n",
            "65:\tlearn: 0.1458103\ttotal: 5m 11s\tremaining: 8m 35s\n",
            "66:\tlearn: 0.1454118\ttotal: 5m 16s\tremaining: 8m 30s\n",
            "67:\tlearn: 0.1449003\ttotal: 5m 21s\tremaining: 8m 25s\n",
            "68:\tlearn: 0.1445277\ttotal: 5m 26s\tremaining: 8m 21s\n",
            "69:\tlearn: 0.1438010\ttotal: 5m 31s\tremaining: 8m 16s\n",
            "70:\tlearn: 0.1432759\ttotal: 5m 35s\tremaining: 8m 12s\n",
            "71:\tlearn: 0.1426921\ttotal: 5m 40s\tremaining: 8m 7s\n",
            "72:\tlearn: 0.1424094\ttotal: 5m 45s\tremaining: 8m 3s\n",
            "73:\tlearn: 0.1420065\ttotal: 5m 50s\tremaining: 7m 58s\n",
            "74:\tlearn: 0.1416184\ttotal: 5m 55s\tremaining: 7m 53s\n",
            "75:\tlearn: 0.1413716\ttotal: 6m\tremaining: 7m 49s\n",
            "76:\tlearn: 0.1408857\ttotal: 6m 5s\tremaining: 7m 44s\n",
            "77:\tlearn: 0.1405250\ttotal: 6m 9s\tremaining: 7m 39s\n",
            "78:\tlearn: 0.1402160\ttotal: 6m 14s\tremaining: 7m 35s\n",
            "79:\tlearn: 0.1399206\ttotal: 6m 19s\tremaining: 7m 30s\n",
            "80:\tlearn: 0.1395095\ttotal: 6m 23s\tremaining: 7m 25s\n",
            "81:\tlearn: 0.1392204\ttotal: 6m 28s\tremaining: 7m 20s\n",
            "82:\tlearn: 0.1390243\ttotal: 6m 33s\tremaining: 7m 15s\n",
            "83:\tlearn: 0.1386485\ttotal: 6m 38s\tremaining: 7m 11s\n",
            "84:\tlearn: 0.1383774\ttotal: 6m 42s\tremaining: 7m 6s\n",
            "85:\tlearn: 0.1378405\ttotal: 6m 47s\tremaining: 7m 1s\n",
            "86:\tlearn: 0.1376644\ttotal: 6m 51s\tremaining: 6m 56s\n",
            "87:\tlearn: 0.1372648\ttotal: 6m 56s\tremaining: 6m 51s\n",
            "88:\tlearn: 0.1369744\ttotal: 7m\tremaining: 6m 46s\n",
            "89:\tlearn: 0.1367796\ttotal: 7m 5s\tremaining: 6m 41s\n",
            "90:\tlearn: 0.1365123\ttotal: 7m 9s\tremaining: 6m 36s\n",
            "91:\tlearn: 0.1360536\ttotal: 7m 14s\tremaining: 6m 31s\n",
            "92:\tlearn: 0.1356656\ttotal: 7m 18s\tremaining: 6m 26s\n",
            "93:\tlearn: 0.1354718\ttotal: 7m 23s\tremaining: 6m 21s\n",
            "94:\tlearn: 0.1351123\ttotal: 7m 27s\tremaining: 6m 17s\n",
            "95:\tlearn: 0.1346995\ttotal: 7m 32s\tremaining: 6m 12s\n",
            "96:\tlearn: 0.1345304\ttotal: 7m 36s\tremaining: 6m 7s\n",
            "97:\tlearn: 0.1341858\ttotal: 7m 41s\tremaining: 6m 2s\n",
            "98:\tlearn: 0.1338064\ttotal: 7m 45s\tremaining: 5m 57s\n",
            "99:\tlearn: 0.1335825\ttotal: 7m 50s\tremaining: 5m 52s\n",
            "100:\tlearn: 0.1333627\ttotal: 7m 54s\tremaining: 5m 47s\n",
            "101:\tlearn: 0.1329122\ttotal: 7m 59s\tremaining: 5m 43s\n",
            "102:\tlearn: 0.1326195\ttotal: 8m 3s\tremaining: 5m 38s\n",
            "103:\tlearn: 0.1322065\ttotal: 8m 8s\tremaining: 5m 33s\n",
            "104:\tlearn: 0.1319077\ttotal: 8m 12s\tremaining: 5m 28s\n",
            "105:\tlearn: 0.1317265\ttotal: 8m 17s\tremaining: 5m 23s\n",
            "106:\tlearn: 0.1313554\ttotal: 8m 21s\tremaining: 5m 18s\n",
            "107:\tlearn: 0.1311398\ttotal: 8m 26s\tremaining: 5m 13s\n",
            "108:\tlearn: 0.1308832\ttotal: 8m 30s\tremaining: 5m 9s\n",
            "109:\tlearn: 0.1307310\ttotal: 8m 35s\tremaining: 5m 4s\n",
            "110:\tlearn: 0.1305801\ttotal: 8m 39s\tremaining: 4m 59s\n",
            "111:\tlearn: 0.1303445\ttotal: 8m 44s\tremaining: 4m 54s\n",
            "112:\tlearn: 0.1302064\ttotal: 8m 48s\tremaining: 4m 49s\n",
            "113:\tlearn: 0.1300794\ttotal: 8m 52s\tremaining: 4m 45s\n",
            "114:\tlearn: 0.1298769\ttotal: 8m 57s\tremaining: 4m 40s\n",
            "115:\tlearn: 0.1296730\ttotal: 9m 1s\tremaining: 4m 35s\n",
            "116:\tlearn: 0.1293749\ttotal: 9m 6s\tremaining: 4m 30s\n",
            "117:\tlearn: 0.1292013\ttotal: 9m 10s\tremaining: 4m 26s\n",
            "118:\tlearn: 0.1289080\ttotal: 9m 15s\tremaining: 4m 21s\n",
            "119:\tlearn: 0.1287563\ttotal: 9m 19s\tremaining: 4m 16s\n",
            "120:\tlearn: 0.1283824\ttotal: 9m 24s\tremaining: 4m 11s\n",
            "121:\tlearn: 0.1282488\ttotal: 9m 28s\tremaining: 4m 7s\n",
            "122:\tlearn: 0.1281203\ttotal: 9m 33s\tremaining: 4m 2s\n",
            "123:\tlearn: 0.1279454\ttotal: 9m 37s\tremaining: 3m 57s\n",
            "124:\tlearn: 0.1276432\ttotal: 9m 42s\tremaining: 3m 52s\n",
            "125:\tlearn: 0.1275202\ttotal: 9m 47s\tremaining: 3m 48s\n",
            "126:\tlearn: 0.1274095\ttotal: 9m 51s\tremaining: 3m 43s\n",
            "127:\tlearn: 0.1271259\ttotal: 9m 56s\tremaining: 3m 39s\n",
            "128:\tlearn: 0.1269782\ttotal: 10m 1s\tremaining: 3m 34s\n",
            "129:\tlearn: 0.1268386\ttotal: 10m 6s\tremaining: 3m 29s\n",
            "130:\tlearn: 0.1267097\ttotal: 10m 11s\tremaining: 3m 25s\n",
            "131:\tlearn: 0.1263807\ttotal: 10m 16s\tremaining: 3m 20s\n",
            "132:\tlearn: 0.1261400\ttotal: 10m 21s\tremaining: 3m 16s\n",
            "133:\tlearn: 0.1260187\ttotal: 10m 26s\tremaining: 3m 11s\n",
            "134:\tlearn: 0.1257720\ttotal: 10m 31s\tremaining: 3m 7s\n",
            "135:\tlearn: 0.1255973\ttotal: 10m 36s\tremaining: 3m 2s\n",
            "136:\tlearn: 0.1254816\ttotal: 10m 40s\tremaining: 2m 57s\n",
            "137:\tlearn: 0.1252675\ttotal: 10m 46s\tremaining: 2m 53s\n",
            "138:\tlearn: 0.1249616\ttotal: 10m 50s\tremaining: 2m 48s\n",
            "139:\tlearn: 0.1247216\ttotal: 10m 55s\tremaining: 2m 43s\n",
            "140:\tlearn: 0.1246090\ttotal: 11m\tremaining: 2m 39s\n",
            "141:\tlearn: 0.1243357\ttotal: 11m 5s\tremaining: 2m 34s\n",
            "142:\tlearn: 0.1240517\ttotal: 11m 9s\tremaining: 2m 29s\n",
            "143:\tlearn: 0.1239357\ttotal: 11m 14s\tremaining: 2m 25s\n",
            "144:\tlearn: 0.1236660\ttotal: 11m 19s\tremaining: 2m 20s\n",
            "145:\tlearn: 0.1235476\ttotal: 11m 23s\tremaining: 2m 15s\n",
            "146:\tlearn: 0.1231653\ttotal: 11m 28s\tremaining: 2m 11s\n",
            "147:\tlearn: 0.1230313\ttotal: 11m 33s\tremaining: 2m 6s\n",
            "148:\tlearn: 0.1228258\ttotal: 11m 37s\tremaining: 2m 1s\n",
            "149:\tlearn: 0.1225059\ttotal: 11m 42s\tremaining: 1m 57s\n",
            "150:\tlearn: 0.1223458\ttotal: 11m 47s\tremaining: 1m 52s\n",
            "151:\tlearn: 0.1222429\ttotal: 11m 51s\tremaining: 1m 47s\n",
            "152:\tlearn: 0.1219376\ttotal: 11m 56s\tremaining: 1m 43s\n",
            "153:\tlearn: 0.1217670\ttotal: 12m 1s\tremaining: 1m 38s\n",
            "154:\tlearn: 0.1216483\ttotal: 12m 5s\tremaining: 1m 33s\n",
            "155:\tlearn: 0.1215398\ttotal: 12m 10s\tremaining: 1m 28s\n",
            "156:\tlearn: 0.1213966\ttotal: 12m 15s\tremaining: 1m 24s\n",
            "157:\tlearn: 0.1212904\ttotal: 12m 19s\tremaining: 1m 19s\n",
            "158:\tlearn: 0.1211883\ttotal: 12m 24s\tremaining: 1m 14s\n",
            "159:\tlearn: 0.1210627\ttotal: 12m 29s\tremaining: 1m 10s\n",
            "160:\tlearn: 0.1209642\ttotal: 12m 34s\tremaining: 1m 5s\n",
            "161:\tlearn: 0.1208674\ttotal: 12m 39s\tremaining: 1m\n",
            "162:\tlearn: 0.1206497\ttotal: 12m 44s\tremaining: 56.3s\n",
            "163:\tlearn: 0.1205071\ttotal: 12m 48s\tremaining: 51.6s\n",
            "164:\tlearn: 0.1203750\ttotal: 12m 53s\tremaining: 46.9s\n",
            "165:\tlearn: 0.1201013\ttotal: 12m 58s\tremaining: 42.2s\n",
            "166:\tlearn: 0.1199645\ttotal: 13m 3s\tremaining: 37.5s\n",
            "167:\tlearn: 0.1198615\ttotal: 13m 8s\tremaining: 32.8s\n",
            "168:\tlearn: 0.1196186\ttotal: 13m 13s\tremaining: 28.2s\n",
            "169:\tlearn: 0.1195089\ttotal: 13m 17s\tremaining: 23.5s\n",
            "170:\tlearn: 0.1192198\ttotal: 13m 22s\tremaining: 18.8s\n",
            "171:\tlearn: 0.1191267\ttotal: 13m 27s\tremaining: 14.1s\n",
            "172:\tlearn: 0.1190379\ttotal: 13m 32s\tremaining: 9.39s\n",
            "173:\tlearn: 0.1188070\ttotal: 13m 37s\tremaining: 4.7s\n",
            "174:\tlearn: 0.1187154\ttotal: 13m 42s\tremaining: 0us\n",
            "F1: 0.7415075083831463\n",
            "CPU times: user 14min 51s, sys: 19.8 s, total: 15min 11s\n",
            "Wall time: 15min 15s\n"
          ]
        }
      ],
      "source": [
        "%%time\n",
        "model = CatBoostClassifier(loss_function=\"Logloss\", iterations=175) \n",
        "model.fit(X_train, y_train)\n",
        "prediction = model.predict(X_test)\n",
        "print('F1:', f1_score(prediction, y_test))"
      ]
    },
    {
      "cell_type": "markdown",
      "metadata": {
        "id": "BX3W7kO_y6ZX"
      },
      "source": [
        "<a id='Step_4'></a>\n",
        "## Выводы"
      ]
    },
    {
      "cell_type": "markdown",
      "source": [
        "<a id='Step_4'></a>\n",
        "## Conclusions"
      ],
      "metadata": {
        "id": "zzhY3Z-X1ayb"
      }
    },
    {
      "cell_type": "markdown",
      "metadata": {
        "id": "GicGKEEvy6ZY"
      },
      "source": [
        "В этом проекте нами были подготовлены данные:\n",
        "- лемматизиация;\n",
        "- отчистка текста;\n",
        "- разделениние на обучение и тест.\n",
        "\n",
        "In this project, we prepared the following data:\n",
        "- lemmatization;\n",
        "- cleaning up the text;\n",
        "- division into training and test."
      ]
    },
    {
      "cell_type": "markdown",
      "metadata": {
        "id": "uPE9xkNay6ZZ"
      },
      "source": [
        "И обучены 3 модели:\n",
        "- логистическая регрессия;\n",
        "- lgbm классификатор;\n",
        "- cat boost  классификатор.\n",
        "\n",
        "And trained 3 models:\n",
        "- logistic regression;\n",
        "- lgbm classifier;\n",
        "- cat boost classifier."
      ]
    },
    {
      "cell_type": "markdown",
      "metadata": {
        "id": "iTLDoYX4y6Zb"
      },
      "source": [
        "Lgbm позволил достичь небходимого уровня метрики F1 = 0.7698 (F1>75 - требование задния). Время обучения LGBM меньше чем у Cat Boost. Возможно достичь лучших результатов и на LGBM и на Cat Boost, подбирая параметры и, скорее всего, увеличивая время обучения. С текущими параметрами наилучшей моделью является LGBM. Регрессия оказалсь быстрее остальных моделей, но показала хучшее качество. "
      ]
    },
    {
      "cell_type": "markdown",
      "source": [
        "Lgbm made it possible to achieve the required level of the metric F1 = 0.7698 (F1>75 is the rear requirement). LGBM training time is less than Cat Boost. It is possible to achieve better results on both LGBM and Cat Boost by tweaking the parameters and most likely increasing the training time. With the current parameters, the best model is LGBM. The regression turned out to be faster than the other models, but showed the worst quality."
      ],
      "metadata": {
        "id": "IxY0WBqL1vuU"
      }
    }
  ],
  "metadata": {
    "kernelspec": {
      "display_name": "Python 3 (ipykernel)",
      "language": "python",
      "name": "python3"
    },
    "language_info": {
      "codemirror_mode": {
        "name": "ipython",
        "version": 3
      },
      "file_extension": ".py",
      "mimetype": "text/x-python",
      "name": "python",
      "nbconvert_exporter": "python",
      "pygments_lexer": "ipython3",
      "version": "3.9.5"
    },
    "toc": {
      "base_numbering": 1,
      "nav_menu": {},
      "number_sections": true,
      "sideBar": true,
      "skip_h1_title": false,
      "title_cell": "Table of Contents",
      "title_sidebar": "Contents",
      "toc_cell": false,
      "toc_position": {},
      "toc_section_display": true,
      "toc_window_display": false
    },
    "colab": {
      "name": "13th_project_comments.ipynb",
      "provenance": []
    }
  },
  "nbformat": 4,
  "nbformat_minor": 0
}