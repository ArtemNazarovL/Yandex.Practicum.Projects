{
  "cells": [
    {
      "cell_type": "markdown",
      "source": [
        "# Восстановления золота из золотосодержащей руды\n",
        "\n",
        "# Recovery of gold from gold ore"
      ],
      "metadata": {
        "id": "t5tPWltLMMMQ"
      }
    },
    {
      "cell_type": "markdown",
      "source": [
        "# Оглавление."
      ],
      "metadata": {
        "id": "7tdYaxeOMWeB"
      }
    },
    {
      "cell_type": "markdown",
      "metadata": {
        "id": "MOpTEk45LxHK"
      },
      "source": [
        "- [Шаг 0. Описание проекта.](#Step_1)\n",
        "- [Шаг 1. Подготовка данных.](#Step_2)\n",
        "[Пункт 1.1. Изучение файлов.](#Step_3) <br />\n",
        "[Пункт 1.2. Проверка правильности расчетов обогощения после флотации.](#Step_4) <br />\n",
        "[Пункт 1.3. Признаки недоступные в тестовой выборке.](#Step_5) <br />\n",
        "[Пункт 1.4. Предподготовка данных.](#Step_6) <br />\n",
        "- [Шаг 2. Анализ данных.](#Step_7)<br />\n",
        "[Пункт 2.1. Посмотрим, как меняется концентрация металлов (Au, Ag, Pb) на различных этапах очистки.](#Step_8) <br />\n",
        "[Пункт 2.2. Сравним распределения размеров гранул сырья на обучающей и тестовой выборках.](#Step_9) <br />\n",
        "[Пункт Исследуем суммарную концентрацию всех веществ на разных стадиях: в сырье, в черновом и финальном концентратах.](#Step_10) <br />\n",
        "- [Шаг 3. Модель](#Step_11)<br />\n",
        "[Пункт 3.1. Функция sMAPE.](#Step_12) <br />\n",
        "[Пункт 3.2. Обучение и проверка моделей.](#Step_13) <br />"
      ]
    },
    {
      "cell_type": "markdown",
      "source": [
        "# Table of contents."
      ],
      "metadata": {
        "id": "6R93bTtjMmjF"
      }
    },
    {
      "cell_type": "markdown",
      "source": [
        "- [Step 0. Description of the project.](#Step_1)\n",
        "- [Step 1. Data preparation.](#Step_2)\n",
        "[Clause 1.1. Examining files.](#Step_3) <br />\n",
        "[Clause 1.2. Checking the correctness of the calculations of enrichment after flotation.](#Step_4) <br />\n",
        "[Clause 1.3. Features not available in the test set.](#Step_5) <br />\n",
        "[Clause 1.4. Data preparation.](#Step_6) <br />\n",
        "- [Step 2. Data analysis.](#Step_7)<br />\n",
        "[Clause 2.1. Let's see how the concentration of metals (Au, Ag, Pb) changes at different stages of purification.](#Step_8) <br />\n",
        "[Clause 2.2. Let's compare the size distributions of raw material granules on the training and test samples.](#Step_9) <br />\n",
        "[Item Investigate the total concentration of all substances at different stages: in raw materials, in roughing and final concentrates.](#Step_10) <br />\n",
        "- [Step 3. Model](#Step_11)<br />\n",
        "[Clause 3.1. sMAPE function.](#Step_12) <br />\n",
        "[Clause 3.2. Training and validating models.](#Step_13) <br />"
      ],
      "metadata": {
        "id": "iZpIwS7QMgW8"
      }
    },
    {
      "cell_type": "markdown",
      "metadata": {
        "id": "HqPUHDJXLxHL"
      },
      "source": [
        "<a id='Step_1'></a>\n",
        "# Описание проекта\n",
        "\n",
        "Необходтимо подготовить прототип модели машинного обучения для компании, которая разрабатывает бизнес решения для промышленных предприятий.\n",
        "\n",
        "Разрабатываемая модель должна предсказать коэффициент восстановления золота из золотосодержащей руды, на основе данных о содержании руды и процессе ее очистки.\n",
        "\n",
        "Эта модель оптимизирует производство для избежания открытия убыточного предприятия.\n",
        "\n",
        "\n",
        "# Description of the project\n",
        "\n",
        "It is necessary to prepare a prototype of a machine learning model for a company that develops business solutions for industrial enterprises.\n",
        "\n",
        "The model being developed should predict the recovery factor of gold from gold-bearing ore, based on data on the grade of the ore and the process of its refining.\n",
        "\n",
        "This model optimizes production to avoid opening a loss-making enterprise."
      ]
    },
    {
      "cell_type": "markdown",
      "metadata": {
        "id": "wziLLoGTLxHL"
      },
      "source": [
        "<a id='Step_2'></a>\n",
        "# 1. Подготовка данных\n",
        "\n",
        "# 1. Data preparation"
      ]
    },
    {
      "cell_type": "markdown",
      "metadata": {
        "id": "40jqbt7lLxHM"
      },
      "source": [
        "<a id='Step_3'></a>\n",
        "## 1.1. Изучение файлов.\n",
        "\n",
        "## 1.1. Studying files."
      ]
    },
    {
      "cell_type": "markdown",
      "metadata": {
        "id": "9JVKSh2KLxHM"
      },
      "source": [
        "Загрузка библиотек.\n",
        "\n",
        "Loading libraries."
      ]
    },
    {
      "cell_type": "code",
      "execution_count": null,
      "metadata": {
        "id": "pzz_eqKpLxHM"
      },
      "outputs": [],
      "source": [
        "import pandas as pd\n",
        "import numpy as np\n",
        "from sklearn.metrics import mean_absolute_error\n",
        "import scipy as st\n",
        "from scipy.stats import iqr\n",
        "from sklearn.linear_model import LinearRegression\n",
        "from sklearn.ensemble import RandomForestRegressor\n",
        "from sklearn.ensemble import GradientBoostingRegressor\n",
        "from sklearn.metrics.scorer import make_scorer\n",
        "from sklearn.model_selection import GridSearchCV"
      ]
    },
    {
      "cell_type": "markdown",
      "metadata": {
        "id": "XfVC_DvgLxHN"
      },
      "source": [
        "Загрузка файлов."
      ]
    },
    {
      "cell_type": "markdown",
      "source": [
        "Downloading files."
      ],
      "metadata": {
        "id": "j63w61a9OA_J"
      }
    },
    {
      "cell_type": "code",
      "execution_count": null,
      "metadata": {
        "id": "6Z4gQrBsLxHN"
      },
      "outputs": [],
      "source": [
        "df_train = pd.read_csv('/datasets/gold_recovery_train.csv')\n",
        "df_test = pd.read_csv('/datasets/gold_recovery_test.csv')\n",
        "df_full = pd.read_csv('/datasets/gold_recovery_full.csv')"
      ]
    },
    {
      "cell_type": "markdown",
      "metadata": {
        "id": "F09KuUJ6LxHO"
      },
      "source": [
        "Выведем первые пять наблюдений полного сета.\n",
        "\n",
        "We derive the first five observations of the complete set."
      ]
    },
    {
      "cell_type": "code",
      "execution_count": null,
      "metadata": {
        "scrolled": true,
        "id": "V1BusN9ZLxHO",
        "outputId": "396a17cb-c2ec-4cd6-ee88-23f52a7b8db8"
      },
      "outputs": [
        {
          "data": {
            "text/html": [
              "<div>\n",
              "<style scoped>\n",
              "    .dataframe tbody tr th:only-of-type {\n",
              "        vertical-align: middle;\n",
              "    }\n",
              "\n",
              "    .dataframe tbody tr th {\n",
              "        vertical-align: top;\n",
              "    }\n",
              "\n",
              "    .dataframe thead th {\n",
              "        text-align: right;\n",
              "    }\n",
              "</style>\n",
              "<table border=\"1\" class=\"dataframe\">\n",
              "  <thead>\n",
              "    <tr style=\"text-align: right;\">\n",
              "      <th></th>\n",
              "      <th>date</th>\n",
              "      <th>final.output.concentrate_ag</th>\n",
              "      <th>final.output.concentrate_pb</th>\n",
              "      <th>final.output.concentrate_sol</th>\n",
              "      <th>final.output.concentrate_au</th>\n",
              "      <th>final.output.recovery</th>\n",
              "      <th>final.output.tail_ag</th>\n",
              "      <th>final.output.tail_pb</th>\n",
              "      <th>final.output.tail_sol</th>\n",
              "      <th>final.output.tail_au</th>\n",
              "      <th>...</th>\n",
              "      <th>secondary_cleaner.state.floatbank4_a_air</th>\n",
              "      <th>secondary_cleaner.state.floatbank4_a_level</th>\n",
              "      <th>secondary_cleaner.state.floatbank4_b_air</th>\n",
              "      <th>secondary_cleaner.state.floatbank4_b_level</th>\n",
              "      <th>secondary_cleaner.state.floatbank5_a_air</th>\n",
              "      <th>secondary_cleaner.state.floatbank5_a_level</th>\n",
              "      <th>secondary_cleaner.state.floatbank5_b_air</th>\n",
              "      <th>secondary_cleaner.state.floatbank5_b_level</th>\n",
              "      <th>secondary_cleaner.state.floatbank6_a_air</th>\n",
              "      <th>secondary_cleaner.state.floatbank6_a_level</th>\n",
              "    </tr>\n",
              "  </thead>\n",
              "  <tbody>\n",
              "    <tr>\n",
              "      <td>0</td>\n",
              "      <td>2016-01-15 00:00:00</td>\n",
              "      <td>6.055403</td>\n",
              "      <td>9.889648</td>\n",
              "      <td>5.507324</td>\n",
              "      <td>42.192020</td>\n",
              "      <td>70.541216</td>\n",
              "      <td>10.411962</td>\n",
              "      <td>0.895447</td>\n",
              "      <td>16.904297</td>\n",
              "      <td>2.143149</td>\n",
              "      <td>...</td>\n",
              "      <td>14.016835</td>\n",
              "      <td>-502.488007</td>\n",
              "      <td>12.099931</td>\n",
              "      <td>-504.715942</td>\n",
              "      <td>9.925633</td>\n",
              "      <td>-498.310211</td>\n",
              "      <td>8.079666</td>\n",
              "      <td>-500.470978</td>\n",
              "      <td>14.151341</td>\n",
              "      <td>-605.841980</td>\n",
              "    </tr>\n",
              "    <tr>\n",
              "      <td>1</td>\n",
              "      <td>2016-01-15 01:00:00</td>\n",
              "      <td>6.029369</td>\n",
              "      <td>9.968944</td>\n",
              "      <td>5.257781</td>\n",
              "      <td>42.701629</td>\n",
              "      <td>69.266198</td>\n",
              "      <td>10.462676</td>\n",
              "      <td>0.927452</td>\n",
              "      <td>16.634514</td>\n",
              "      <td>2.224930</td>\n",
              "      <td>...</td>\n",
              "      <td>13.992281</td>\n",
              "      <td>-505.503262</td>\n",
              "      <td>11.950531</td>\n",
              "      <td>-501.331529</td>\n",
              "      <td>10.039245</td>\n",
              "      <td>-500.169983</td>\n",
              "      <td>7.984757</td>\n",
              "      <td>-500.582168</td>\n",
              "      <td>13.998353</td>\n",
              "      <td>-599.787184</td>\n",
              "    </tr>\n",
              "    <tr>\n",
              "      <td>2</td>\n",
              "      <td>2016-01-15 02:00:00</td>\n",
              "      <td>6.055926</td>\n",
              "      <td>10.213995</td>\n",
              "      <td>5.383759</td>\n",
              "      <td>42.657501</td>\n",
              "      <td>68.116445</td>\n",
              "      <td>10.507046</td>\n",
              "      <td>0.953716</td>\n",
              "      <td>16.208849</td>\n",
              "      <td>2.257889</td>\n",
              "      <td>...</td>\n",
              "      <td>14.015015</td>\n",
              "      <td>-502.520901</td>\n",
              "      <td>11.912783</td>\n",
              "      <td>-501.133383</td>\n",
              "      <td>10.070913</td>\n",
              "      <td>-500.129135</td>\n",
              "      <td>8.013877</td>\n",
              "      <td>-500.517572</td>\n",
              "      <td>14.028663</td>\n",
              "      <td>-601.427363</td>\n",
              "    </tr>\n",
              "    <tr>\n",
              "      <td>3</td>\n",
              "      <td>2016-01-15 03:00:00</td>\n",
              "      <td>6.047977</td>\n",
              "      <td>9.977019</td>\n",
              "      <td>4.858634</td>\n",
              "      <td>42.689819</td>\n",
              "      <td>68.347543</td>\n",
              "      <td>10.422762</td>\n",
              "      <td>0.883763</td>\n",
              "      <td>16.532835</td>\n",
              "      <td>2.146849</td>\n",
              "      <td>...</td>\n",
              "      <td>14.036510</td>\n",
              "      <td>-500.857308</td>\n",
              "      <td>11.999550</td>\n",
              "      <td>-501.193686</td>\n",
              "      <td>9.970366</td>\n",
              "      <td>-499.201640</td>\n",
              "      <td>7.977324</td>\n",
              "      <td>-500.255908</td>\n",
              "      <td>14.005551</td>\n",
              "      <td>-599.996129</td>\n",
              "    </tr>\n",
              "    <tr>\n",
              "      <td>4</td>\n",
              "      <td>2016-01-15 04:00:00</td>\n",
              "      <td>6.148599</td>\n",
              "      <td>10.142511</td>\n",
              "      <td>4.939416</td>\n",
              "      <td>42.774141</td>\n",
              "      <td>66.927016</td>\n",
              "      <td>10.360302</td>\n",
              "      <td>0.792826</td>\n",
              "      <td>16.525686</td>\n",
              "      <td>2.055292</td>\n",
              "      <td>...</td>\n",
              "      <td>14.027298</td>\n",
              "      <td>-499.838632</td>\n",
              "      <td>11.953070</td>\n",
              "      <td>-501.053894</td>\n",
              "      <td>9.925709</td>\n",
              "      <td>-501.686727</td>\n",
              "      <td>7.894242</td>\n",
              "      <td>-500.356035</td>\n",
              "      <td>13.996647</td>\n",
              "      <td>-601.496691</td>\n",
              "    </tr>\n",
              "  </tbody>\n",
              "</table>\n",
              "<p>5 rows × 87 columns</p>\n",
              "</div>"
            ],
            "text/plain": [
              "                  date  final.output.concentrate_ag  \\\n",
              "0  2016-01-15 00:00:00                     6.055403   \n",
              "1  2016-01-15 01:00:00                     6.029369   \n",
              "2  2016-01-15 02:00:00                     6.055926   \n",
              "3  2016-01-15 03:00:00                     6.047977   \n",
              "4  2016-01-15 04:00:00                     6.148599   \n",
              "\n",
              "   final.output.concentrate_pb  final.output.concentrate_sol  \\\n",
              "0                     9.889648                      5.507324   \n",
              "1                     9.968944                      5.257781   \n",
              "2                    10.213995                      5.383759   \n",
              "3                     9.977019                      4.858634   \n",
              "4                    10.142511                      4.939416   \n",
              "\n",
              "   final.output.concentrate_au  final.output.recovery  final.output.tail_ag  \\\n",
              "0                    42.192020              70.541216             10.411962   \n",
              "1                    42.701629              69.266198             10.462676   \n",
              "2                    42.657501              68.116445             10.507046   \n",
              "3                    42.689819              68.347543             10.422762   \n",
              "4                    42.774141              66.927016             10.360302   \n",
              "\n",
              "   final.output.tail_pb  final.output.tail_sol  final.output.tail_au  ...  \\\n",
              "0              0.895447              16.904297              2.143149  ...   \n",
              "1              0.927452              16.634514              2.224930  ...   \n",
              "2              0.953716              16.208849              2.257889  ...   \n",
              "3              0.883763              16.532835              2.146849  ...   \n",
              "4              0.792826              16.525686              2.055292  ...   \n",
              "\n",
              "   secondary_cleaner.state.floatbank4_a_air  \\\n",
              "0                                 14.016835   \n",
              "1                                 13.992281   \n",
              "2                                 14.015015   \n",
              "3                                 14.036510   \n",
              "4                                 14.027298   \n",
              "\n",
              "   secondary_cleaner.state.floatbank4_a_level  \\\n",
              "0                                 -502.488007   \n",
              "1                                 -505.503262   \n",
              "2                                 -502.520901   \n",
              "3                                 -500.857308   \n",
              "4                                 -499.838632   \n",
              "\n",
              "   secondary_cleaner.state.floatbank4_b_air  \\\n",
              "0                                 12.099931   \n",
              "1                                 11.950531   \n",
              "2                                 11.912783   \n",
              "3                                 11.999550   \n",
              "4                                 11.953070   \n",
              "\n",
              "   secondary_cleaner.state.floatbank4_b_level  \\\n",
              "0                                 -504.715942   \n",
              "1                                 -501.331529   \n",
              "2                                 -501.133383   \n",
              "3                                 -501.193686   \n",
              "4                                 -501.053894   \n",
              "\n",
              "   secondary_cleaner.state.floatbank5_a_air  \\\n",
              "0                                  9.925633   \n",
              "1                                 10.039245   \n",
              "2                                 10.070913   \n",
              "3                                  9.970366   \n",
              "4                                  9.925709   \n",
              "\n",
              "   secondary_cleaner.state.floatbank5_a_level  \\\n",
              "0                                 -498.310211   \n",
              "1                                 -500.169983   \n",
              "2                                 -500.129135   \n",
              "3                                 -499.201640   \n",
              "4                                 -501.686727   \n",
              "\n",
              "   secondary_cleaner.state.floatbank5_b_air  \\\n",
              "0                                  8.079666   \n",
              "1                                  7.984757   \n",
              "2                                  8.013877   \n",
              "3                                  7.977324   \n",
              "4                                  7.894242   \n",
              "\n",
              "   secondary_cleaner.state.floatbank5_b_level  \\\n",
              "0                                 -500.470978   \n",
              "1                                 -500.582168   \n",
              "2                                 -500.517572   \n",
              "3                                 -500.255908   \n",
              "4                                 -500.356035   \n",
              "\n",
              "   secondary_cleaner.state.floatbank6_a_air  \\\n",
              "0                                 14.151341   \n",
              "1                                 13.998353   \n",
              "2                                 14.028663   \n",
              "3                                 14.005551   \n",
              "4                                 13.996647   \n",
              "\n",
              "   secondary_cleaner.state.floatbank6_a_level  \n",
              "0                                 -605.841980  \n",
              "1                                 -599.787184  \n",
              "2                                 -601.427363  \n",
              "3                                 -599.996129  \n",
              "4                                 -601.496691  \n",
              "\n",
              "[5 rows x 87 columns]"
            ]
          },
          "execution_count": 3,
          "metadata": {},
          "output_type": "execute_result"
        }
      ],
      "source": [
        "df_full.head()"
      ]
    },
    {
      "cell_type": "markdown",
      "metadata": {
        "id": "G9mRasUVLxHP"
      },
      "source": [
        "Сет содержит 87 столбцов - это очень много. Нам известно, что полный сет содерижит в себе как обучающую так и тестовую выборки. Изучим именно их.\n",
        "\n",
        "The set contains 87 columns - that's a lot. We know that a complete set contains both training and test sets. Let's study them."
      ]
    },
    {
      "cell_type": "markdown",
      "metadata": {
        "id": "vO6jsqorLxHP"
      },
      "source": [
        "Общая информация. об обучающей выборке.\n",
        "\n",
        "General information. about the training sample."
      ]
    },
    {
      "cell_type": "code",
      "execution_count": null,
      "metadata": {
        "id": "8V-mq6uTLxHP",
        "outputId": "9ecdbfb4-7712-47a2-b0ff-960c5f58734b"
      },
      "outputs": [
        {
          "name": "stdout",
          "output_type": "stream",
          "text": [
            "df_train\n",
            "Форма: (16860, 87)\n",
            "Количество дубликатов: 0\n",
            "Число столбцов разных типов\n",
            "float64    86\n",
            "object      1\n",
            "dtype: int64\n",
            "Количество стобцов, которые могут оказаться bool: 0\n"
          ]
        }
      ],
      "source": [
        "print('df_train')\n",
        "print('Форма:', df_train.shape)\n",
        "print('Количество дубликатов:', sum(df_train.duplicated()))\n",
        "print('Число столбцов разных типов')\n",
        "print(df_train.columns.to_series().groupby(df_train.dtypes).count())\n",
        "total_bool = 0\n",
        "for col in df_train.select_dtypes(include=['float', 'int']).columns:\n",
        "    if {1,0} == set(df_train[col].unique()):\n",
        "        total_bool += 1\n",
        "print('Количество стобцов, которые могут оказаться bool:', total_bool)"
      ]
    },
    {
      "cell_type": "markdown",
      "source": [
        "- df_train\n",
        "> Form: (16860, 87)\\\n",
        "> Number of duplicates: 0\\\n",
        "> Number of columns of different types\\\n",
        "> float64 86\\\n",
        "> object 1\\\n",
        "> dtype: int64\\\n",
        "> Number of columns that can be bool: 0"
      ],
      "metadata": {
        "id": "_fy3AaMGOVBO"
      }
    },
    {
      "cell_type": "markdown",
      "metadata": {
        "id": "eYiMy3eiLxHQ"
      },
      "source": [
        "Кажется, всё в порядке, кроме даты. Но похоже, что она нам не понадобится. \n",
        "\n",
        "Everything seems to be in order, except for the date. But it looks like we won't need it."
      ]
    },
    {
      "cell_type": "markdown",
      "metadata": {
        "id": "oYsrZMHKLxHQ"
      },
      "source": [
        "Много стобцов - много пропусков. Проверим, сколько будет наблюдений, если мы уберем строки, в которых есть хоть один пропуск.\n",
        "\n",
        "Many columns - many gaps. Let's check how many observations there will be if we remove the rows that have at least one gap."
      ]
    },
    {
      "cell_type": "code",
      "execution_count": null,
      "metadata": {
        "id": "2qbplamzLxHR",
        "outputId": "bf95f96b-3757-4c8d-d398-e481cd701c6a"
      },
      "outputs": [
        {
          "data": {
            "text/plain": [
              "11017"
            ]
          },
          "execution_count": 5,
          "metadata": {},
          "output_type": "execute_result"
        }
      ],
      "source": [
        "len(df_train.dropna())"
      ]
    },
    {
      "cell_type": "markdown",
      "metadata": {
        "id": "H4iAlo7VLxHR"
      },
      "source": [
        "Останется очень мало наблюдений. Поэтому удалять мы их не будем.\n",
        "\n",
        "There will be very few observations left. Therefore, we will not remove them."
      ]
    },
    {
      "cell_type": "markdown",
      "metadata": {
        "id": "2eOI4WCKLxHR"
      },
      "source": [
        "Посмотрим на отчет для тестового документа.\n",
        "\n",
        "Let's look at the report for the test document."
      ]
    },
    {
      "cell_type": "code",
      "execution_count": null,
      "metadata": {
        "id": "dyuA_zTvLxHR",
        "outputId": "c4bfabd5-9110-4318-f4b9-e5c4bcf3dc83"
      },
      "outputs": [
        {
          "name": "stdout",
          "output_type": "stream",
          "text": [
            "df_train\n",
            "Форма: (5856, 53)\n",
            "Количество дубликатов: 0\n",
            "Число столбцов разных типов\n",
            "float64    52\n",
            "object      1\n",
            "dtype: int64\n",
            "Количество стобцов, которые могут оказаться bool: 0\n"
          ]
        }
      ],
      "source": [
        "print('df_train')\n",
        "print('Форма:', df_test.shape)\n",
        "print('Количество дубликатов:', sum(df_test.duplicated()))\n",
        "print('Число столбцов разных типов')\n",
        "print(df_test.columns.to_series().groupby(df_test.dtypes).count())\n",
        "total_bool = 0\n",
        "for col in df_test.select_dtypes(include=['float', 'int']).columns:\n",
        "    if {1,0} == set(df_test[col].unique()):\n",
        "        total_bool += 1\n",
        "print('Количество стобцов, которые могут оказаться bool:', total_bool)"
      ]
    },
    {
      "cell_type": "markdown",
      "source": [
        "- df_train\n",
        "\n",
        "> Form: (5856, 53)\\\n",
        "> Number of duplicates: 0\\\n",
        "> Number of columns of different types\\\n",
        "> float64 52\\\n",
        "> object 1\\\n",
        "> dtype: int64\\\n",
        "> Number of columns that can be bool: 0"
      ],
      "metadata": {
        "id": "i_2vs0b6PwSw"
      }
    },
    {
      "cell_type": "code",
      "execution_count": null,
      "metadata": {
        "id": "ssuL7MYTLxHS",
        "outputId": "6ddac7b6-f0c6-4308-ee65-b8b0b2cb0867"
      },
      "outputs": [
        {
          "name": "stdout",
          "output_type": "stream",
          "text": [
            "Минимальное количество пропусков в стобце с тестовой выборкой: 0\n",
            "Максимальное количество прпоусков в стобце с тестовой выборкой: 353\n"
          ]
        }
      ],
      "source": [
        "print('Минимальное количество пропусков в стобце с тестовой выборкой:', df_test.isna().sum().min())\n",
        "print('Максимальное количество прпоусков в стобце с тестовой выборкой:', df_test.isna().sum().max())"
      ]
    },
    {
      "cell_type": "markdown",
      "source": [
        "Minimum number of gaps in a column with a test set: 0\n",
        "\n",
        "Maximum number of passes in a column with a test set: 353"
      ],
      "metadata": {
        "id": "itQ1ZGi0O7Uw"
      }
    },
    {
      "cell_type": "markdown",
      "metadata": {
        "id": "LLqy-uDkLxHS"
      },
      "source": [
        "В тестовой выборке тоже есть пропуски. \n",
        "\n",
        "There are also gaps in the test sample."
      ]
    },
    {
      "cell_type": "markdown",
      "metadata": {
        "id": "QBt4-jajLxHS"
      },
      "source": [
        "<a id='Step_4'></a>\n",
        "### 1.2. Проверка правильности расчетов обогащения после флотации. \n",
        "\n",
        "### 1.2. Checking the correctness of the calculations of enrichment after flotation."
      ]
    },
    {
      "cell_type": "markdown",
      "metadata": {
        "id": "XV4ra5MBLxHT"
      },
      "source": [
        "Для првоерки правильности расчета обогощения после флотации воспользуемся формулой для расчета Recovery и сравним со столбцом сrougher.output.recovery в обущающей выборке.\n",
        "\n",
        "To check the correctness of the calculation of enrichment after flotation, we use the formula for calculating Recovery and compare it with the crougher.output.recovery column in the downstream sample."
      ]
    },
    {
      "cell_type": "code",
      "execution_count": null,
      "metadata": {
        "id": "0QSzJZV-LxHT"
      },
      "outputs": [],
      "source": [
        "recovery_calculated = ((df_train['rougher.output.concentrate_au']*(df_train['rougher.input.feed_au']-\n",
        "df_train['rougher.output.tail_au']))/\n",
        "(df_train['rougher.input.feed_au']*(df_train['rougher.output.concentrate_au']-df_train['rougher.output.tail_au']))) * 100"
      ]
    },
    {
      "cell_type": "code",
      "execution_count": null,
      "metadata": {
        "id": "dHPhGElaLxHT",
        "outputId": "f29b6b1a-ac40-4e89-e8e1-73a7635fded4"
      },
      "outputs": [
        {
          "name": "stdout",
          "output_type": "stream",
          "text": [
            "Количество пропусков в расчитанном recovery: 2283\n",
            "Количесство пропусков в данном recovery: 2573\n"
          ]
        }
      ],
      "source": [
        "print('Количество пропусков в расчитанном recovery:', recovery_calculated.isna().sum())\n",
        "print('Количесство пропусков в данном recovery:', df_train['rougher.output.recovery'].isna().sum())"
      ]
    },
    {
      "cell_type": "markdown",
      "source": [
        "Number of skips in calculated recovery: 2283\n",
        "\n",
        "Number of skips in this recovery: 2573"
      ],
      "metadata": {
        "id": "HY3E2ylHQOWr"
      }
    },
    {
      "cell_type": "markdown",
      "metadata": {
        "id": "n_zukkfVLxHT"
      },
      "source": [
        "Так как количество пропусов разное в двух столбцах, то оставим только те элемнты в рассчитаном recovery, которые присутсвуют в данном recovery, для расчета mae.\n",
        "\n",
        "Since the number of gaps is different in the two columns, we will leave only those elements in the calculated recovery that are present in this recovery for calculating mae."
      ]
    },
    {
      "cell_type": "code",
      "execution_count": null,
      "metadata": {
        "id": "BkGYhKheLxHU"
      },
      "outputs": [],
      "source": [
        "recovery_calculate_adj = recovery_calculated[df_train['rougher.output.recovery'].dropna().index]"
      ]
    },
    {
      "cell_type": "markdown",
      "metadata": {
        "id": "Tndva_w0LxHU"
      },
      "source": [
        "Получаем MAE.\n",
        "\n",
        "We get MAE."
      ]
    },
    {
      "cell_type": "code",
      "execution_count": null,
      "metadata": {
        "id": "Eljujx9iLxHU",
        "outputId": "de460376-625f-4edc-91b7-be9ec7824b75"
      },
      "outputs": [
        {
          "data": {
            "text/plain": [
              "9.444891926100695e-15"
            ]
          },
          "execution_count": 11,
          "metadata": {},
          "output_type": "execute_result"
        }
      ],
      "source": [
        "mean_absolute_error(df_train['rougher.output.recovery'].dropna(), recovery_calculate_adj)"
      ]
    },
    {
      "cell_type": "markdown",
      "metadata": {
        "id": "A9jxO_R8LxHU"
      },
      "source": [
        "Можно утверждать, что выгруженные расчеты верны, так как обнаруженны только незначительные отклоенния от полученных самостоятельно расчетов. Некоторые различия возможны из-за округления. \n",
        "\n",
        "It can be argued that the downloaded calculations are correct, since only minor deviations from the calculations obtained independently were found. Some differences may be due to rounding."
      ]
    },
    {
      "cell_type": "markdown",
      "metadata": {
        "id": "2BHdWRanLxHV"
      },
      "source": [
        "<a id='Step_5'></a>\n",
        "### 1.3. Признаки недоступные в тестовой выборке. \n",
        "\n",
        "### 1.3. Features not available in the test sample."
      ]
    },
    {
      "cell_type": "markdown",
      "metadata": {
        "id": "iIVeFHFuLxHV"
      },
      "source": [
        "Проверим какие столбцы не включены в тестовую выборку.\n",
        "\n",
        "Let's check which columns are not included in the test set."
      ]
    },
    {
      "cell_type": "code",
      "execution_count": null,
      "metadata": {
        "scrolled": false,
        "id": "U4oed1zgLxHV",
        "outputId": "06044b76-616c-4c61-8eff-888cac000ca4"
      },
      "outputs": [
        {
          "data": {
            "text/plain": [
              "{'final.output.concentrate_ag',\n",
              " 'final.output.concentrate_au',\n",
              " 'final.output.concentrate_pb',\n",
              " 'final.output.concentrate_sol',\n",
              " 'final.output.recovery',\n",
              " 'final.output.tail_ag',\n",
              " 'final.output.tail_au',\n",
              " 'final.output.tail_pb',\n",
              " 'final.output.tail_sol',\n",
              " 'primary_cleaner.output.concentrate_ag',\n",
              " 'primary_cleaner.output.concentrate_au',\n",
              " 'primary_cleaner.output.concentrate_pb',\n",
              " 'primary_cleaner.output.concentrate_sol',\n",
              " 'primary_cleaner.output.tail_ag',\n",
              " 'primary_cleaner.output.tail_au',\n",
              " 'primary_cleaner.output.tail_pb',\n",
              " 'primary_cleaner.output.tail_sol',\n",
              " 'rougher.calculation.au_pb_ratio',\n",
              " 'rougher.calculation.floatbank10_sulfate_to_au_feed',\n",
              " 'rougher.calculation.floatbank11_sulfate_to_au_feed',\n",
              " 'rougher.calculation.sulfate_to_au_concentrate',\n",
              " 'rougher.output.concentrate_ag',\n",
              " 'rougher.output.concentrate_au',\n",
              " 'rougher.output.concentrate_pb',\n",
              " 'rougher.output.concentrate_sol',\n",
              " 'rougher.output.recovery',\n",
              " 'rougher.output.tail_ag',\n",
              " 'rougher.output.tail_au',\n",
              " 'rougher.output.tail_pb',\n",
              " 'rougher.output.tail_sol',\n",
              " 'secondary_cleaner.output.tail_ag',\n",
              " 'secondary_cleaner.output.tail_au',\n",
              " 'secondary_cleaner.output.tail_pb',\n",
              " 'secondary_cleaner.output.tail_sol'}"
            ]
          },
          "execution_count": 12,
          "metadata": {},
          "output_type": "execute_result"
        }
      ],
      "source": [
        "set(df_train.columns)-set(df_test.columns)"
      ]
    },
    {
      "cell_type": "markdown",
      "metadata": {
        "id": "8rU8cckfLxHV"
      },
      "source": [
        "Все отсутствующие столбцы - параметры продукта (то есть то, что получается после обработки сырья). Всё потому, что output и подлежит прогнозированию, а именно output.recovery для rougher и final этапов. Также отсутствует полностью этап final, так как он содержит финальные харакетиристики концентрата.\n",
        "\n",
        "All missing columns are product parameters (that is, what is obtained after processing raw materials). This is because output is predictable, namely output.recovery for the rougher and final stages. The final stage is also completely missing, since it contains the final characteristics of the concentrate."
      ]
    },
    {
      "cell_type": "markdown",
      "metadata": {
        "id": "GeGvwbepLxHW"
      },
      "source": [
        "<a id='Step_6'></a>\n",
        "### 1.4. Предподготовка данных.  "
      ]
    },
    {
      "cell_type": "markdown",
      "metadata": {
        "id": "cuRBpJHaLxHW"
      },
      "source": [
        "<div class=\"alert alert-block alert-warning\">\n",
        "<b>Изменения:</b> Добавим в тестовую выборку целевые переменные. В тестовой и обучающей выборках заполним пропуски предудыщими значениями, кроме столбцов 'rougher.output.recovery', 'final.output.recovery'. Строки с пропусками в этих столбцах удалим, так как по пропускам нельзя получить предсказание, а заполнять пропуски в целелвой перменной средними само собой становится прогнозированием. Так же удалим столбец дата.\n",
        "</div>"
      ]
    },
    {
      "cell_type": "markdown",
      "source": [
        "<div class=\"alert alert-block alert-warning\">\n",
        "<b>Changes:</b> Let's add target variables to the test set. In the test and training samples, fill in the gaps with the previous values, except for the columns 'rougher.output.recovery', 'final.output.recovery'. We will delete the rows with gaps in these columns, since it is impossible to get a prediction from the gaps, and filling the gaps in the target variable with averages becomes a prediction by itself. We will also remove the date column.\n",
        "</div>"
      ],
      "metadata": {
        "id": "YiM-gN9MRLsB"
      }
    },
    {
      "cell_type": "markdown",
      "metadata": {
        "id": "kUdC8YsNLxHW"
      },
      "source": [
        "Добавим в тестовый файл целевую переменную из общего файла.\n",
        "\n",
        "Let's add a target variable from the shared file to the test file."
      ]
    },
    {
      "cell_type": "code",
      "execution_count": null,
      "metadata": {
        "scrolled": true,
        "id": "D8rOmtR0LxHW"
      },
      "outputs": [],
      "source": [
        "df_test = df_test.merge(df_full[['date', 'rougher.output.recovery', 'final.output.recovery']], on='date')"
      ]
    },
    {
      "cell_type": "code",
      "execution_count": null,
      "metadata": {
        "id": "dSQacuenLxHX"
      },
      "outputs": [],
      "source": [
        "# Удаляем дату в обучающем файле.\n",
        "df_train.drop('date', axis=1, inplace=True)\n",
        "# Заполняем пропуски предыдущими значениями в обучающем файле.\n",
        "for col in df_train.drop(['rougher.output.recovery', 'final.output.recovery'], axis=1).columns:\n",
        "    df_train[col].ffill(inplace=True)\n",
        "# Удаляем все строки с пропусками в целевых переменных в обучающем файле.\n",
        "df_train.dropna(inplace=True)\n",
        "# Удаляем дату в тестовом файле.\n",
        "df_test.drop('date', axis=1, inplace=True)\n",
        "# Заполняем пропуски предыдущими значениями в тестовом файле.\n",
        "for col in df_test.drop(['rougher.output.recovery', 'final.output.recovery'], axis=1).columns:\n",
        "    df_test[col].ffill(inplace=True)\n",
        "# Удаляем все строки с пропусками в целевых переменных в тестовом файле.\n",
        "df_test.dropna(inplace=True)"
      ]
    },
    {
      "cell_type": "markdown",
      "metadata": {
        "id": "0UGLE9rOLxHX"
      },
      "source": [
        "## Summary.\n",
        "На этом этапе мы изучили файлы, поняли чем они различаются: полный сет содержит все наблюдения, обучающий включает в себя наблюдения с наибольшим количеством параметров, тестовый - содержит только данные о сырье и применных к нему методов. Также мы проверили правльность расчета recovery на обучающей выборке - всё оказалось верно. Подготовли данные: удалили столбец с датами, заполними пропуси в регрессорах средним, удалили строки с пропусками в целевых переменных."
      ]
    },
    {
      "cell_type": "markdown",
      "metadata": {
        "id": "tbWUAmGOLxHX"
      },
      "source": [
        "## Summary.\n",
        "At this stage, we studied the files, understood how they differ: the full set contains all the observations, the training set includes the observations with the largest number of parameters, the test set contains only data on the raw material and the methods applied to it. We also checked the correctness of the recovery calculation on the training sample - everything turned out to be correct. Prepared the data: removed the column with dates, filled in the gaps in the regressors with the mean, removed rows with gaps in the target variables."
      ]
    },
    {
      "cell_type": "markdown",
      "metadata": {
        "id": "XwPSnB6ELxHX"
      },
      "source": [
        "<a id='Step_7'></a>\n",
        "# 2. Анализ данных\n",
        "\n",
        "# 2. Data analysis"
      ]
    },
    {
      "cell_type": "markdown",
      "metadata": {
        "id": "j4jNJQItLxHY"
      },
      "source": [
        "<a id='Step_8'></a>\n",
        "## 2.1. Посмотрим, как меняется концентрация металлов (Au, Ag, Pb) на различных этапах очистки.\n",
        "\n",
        "## 2.1. Let's see how the concentration of metals (Au, Ag, Pb) changes at different stages of purification."
      ]
    },
    {
      "cell_type": "code",
      "execution_count": null,
      "metadata": {
        "scrolled": true,
        "id": "j0Ed54zALxHY",
        "outputId": "a7b6a648-8a62-46f3-d043-4156944ed873"
      },
      "outputs": [
        {
          "data": {
            "text/plain": [
              "<matplotlib.axes._subplots.AxesSubplot at 0x7f632733a7d0>"
            ]
          },
          "execution_count": 15,
          "metadata": {},
          "output_type": "execute_result"
        },
        {
          "data": {
            "image/png": "[encoded data removed]",
            "text/plain": [
              "<Figure size 432x288 with 1 Axes>"
            ]
          },
          "metadata": {
            "needs_background": "light"
          },
          "output_type": "display_data"
        }
      ],
      "source": [
        "df_train['rougher.input.feed_au'].plot(kind='hist', legend=True, title='Concentration of au', alpha=0.2)\n",
        "df_train['rougher.output.concentrate_au'].plot(kind='hist', legend=True, alpha=0.5)\n",
        "df_train['primary_cleaner.output.concentrate_au'].plot(kind='hist', legend=True,alpha=0.7 )\n",
        "df_train['final.output.concentrate_au'].plot(kind='hist', legend=True)"
      ]
    },
    {
      "cell_type": "markdown",
      "metadata": {
        "id": "cuLh-dQ1LxHY"
      },
      "source": [
        "Отлично виден рост концентрации золота от этапа к этапу. Распределения нормальные, с легкими хвостами.\n",
        "\n",
        "The increase in the concentration of gold from stage to stage is clearly visible. The distributions are normal, with light tails."
      ]
    },
    {
      "cell_type": "code",
      "execution_count": null,
      "metadata": {
        "id": "BMaUgx6jLxHZ",
        "outputId": "ac897630-326d-4885-8c6a-650f57f06cca"
      },
      "outputs": [
        {
          "data": {
            "text/plain": [
              "<matplotlib.axes._subplots.AxesSubplot at 0x7f6326fb7d90>"
            ]
          },
          "execution_count": 16,
          "metadata": {},
          "output_type": "execute_result"
        },
        {
          "data": {
            "image/png": "[encoded data removed]",
            "text/plain": [
              "<Figure size 432x288 with 1 Axes>"
            ]
          },
          "metadata": {
            "needs_background": "light"
          },
          "output_type": "display_data"
        }
      ],
      "source": [
        "df_train['rougher.input.feed_ag'].plot(kind='hist', legend=True, title='Concentration of ag', alpha=0.5)\n",
        "df_train['rougher.output.concentrate_ag'].plot(kind='hist', legend=True, alpha=0.5)\n",
        "df_train['primary_cleaner.output.concentrate_ag'].plot(kind='hist', legend=True, alpha=0.5)\n",
        "df_train['final.output.concentrate_ag'].plot(kind='hist', legend=True, alpha=0.5)"
      ]
    },
    {
      "cell_type": "markdown",
      "metadata": {
        "id": "8iqMSr7bLxHZ"
      },
      "source": [
        "С серебром всё не так ясно, но его количество в среднем так или иначе снижается в процессе обработки. Распредления уже не очень нормальные.\n",
        "\n",
        "With silver, everything is not so clear, but its amount, on average, somehow decreases during processing. The distributions are no longer very normal."
      ]
    },
    {
      "cell_type": "code",
      "execution_count": null,
      "metadata": {
        "id": "zOIEmi8XLxHZ",
        "outputId": "10f4e73f-c1b7-4763-ab79-8d0d1751d71a"
      },
      "outputs": [
        {
          "data": {
            "text/plain": [
              "<matplotlib.axes._subplots.AxesSubplot at 0x7f6326835ad0>"
            ]
          },
          "execution_count": 17,
          "metadata": {},
          "output_type": "execute_result"
        },
        {
          "data": {
            "image/png": "[encoded data removed]",
            "text/plain": [
              "<Figure size 432x288 with 1 Axes>"
            ]
          },
          "metadata": {
            "needs_background": "light"
          },
          "output_type": "display_data"
        }
      ],
      "source": [
        "df_train['rougher.input.feed_pb'].plot(kind='hist', legend=True, title='Concentration of pb', alpha=0.2)\n",
        "df_train['rougher.output.concentrate_pb'].plot(kind='hist', legend=True, alpha=0.5)\n",
        "df_train['primary_cleaner.output.concentrate_pb'].plot(kind='hist', legend=True, alpha=0.7)\n",
        "df_train['final.output.concentrate_pb'].plot(kind='hist', legend=True, alpha=0.7)"
      ]
    },
    {
      "cell_type": "markdown",
      "metadata": {
        "id": "2BVvbxzDLxHZ"
      },
      "source": [
        "По всей видимости содержание свинца, растет вместе с содержанием золота (почти в 5 раз с момента поступления сырья в производство.\n",
        "\n",
        "Apparently, the lead content is growing along with the gold content (almost 5 times from the moment the raw material enters production."
      ]
    },
    {
      "cell_type": "markdown",
      "metadata": {
        "id": "Lw_CMhDRLxHa"
      },
      "source": [
        "<a id='Step_9'></a>\n",
        "## 2.2. Сравним распределения размеров гранул сырья на обучающей и тестовой выборках. \n",
        "\n",
        "## 2.2. Let us compare the size distributions of raw material granules on the training and test samples."
      ]
    },
    {
      "cell_type": "markdown",
      "metadata": {
        "id": "nRF4q8oTLxHa"
      },
      "source": [
        "Гранулы используются только на входе в этапы флотации и первого уровня отчистки.\n",
        "\n",
        "Granules are used only at the entrance to the stages of flotation and the first level of cleaning."
      ]
    },
    {
      "cell_type": "code",
      "execution_count": null,
      "metadata": {
        "scrolled": true,
        "id": "uNs4N7NALxHa",
        "outputId": "ecacc4c8-cf53-4339-dd2a-1140a381d6d4"
      },
      "outputs": [
        {
          "data": {
            "text/plain": [
              "<matplotlib.axes._subplots.AxesSubplot at 0x7f6326fc48d0>"
            ]
          },
          "execution_count": 18,
          "metadata": {},
          "output_type": "execute_result"
        },
        {
          "data": {
            "image/png": "[encoded data removed]",
            "text/plain": [
              "<Figure size 432x288 with 1 Axes>"
            ]
          },
          "metadata": {
            "needs_background": "light"
          },
          "output_type": "display_data"
        }
      ],
      "source": [
        "df_train['rougher.input.feed_size'].hist(alpha=0.5, density=True, bins=50)\n",
        "df_test['rougher.input.feed_size'].hist(alpha=0.5, density=True, bins=50)"
      ]
    },
    {
      "cell_type": "markdown",
      "metadata": {
        "id": "P8M0TRgZLxHb"
      },
      "source": [
        "Распределения на этапе флотации в обучении и тесте различаются, но не критично, по-моему мнению.\n",
        "\n",
        "The distributions at the flotation stage in training and test are different, but not critical, in my opinion."
      ]
    },
    {
      "cell_type": "code",
      "execution_count": null,
      "metadata": {
        "id": "nVYoKU7sLxHb",
        "outputId": "63131b70-4f64-454a-87fd-3fefe001a318"
      },
      "outputs": [
        {
          "data": {
            "text/plain": [
              "<matplotlib.axes._subplots.AxesSubplot at 0x7f63267f2b50>"
            ]
          },
          "execution_count": 19,
          "metadata": {},
          "output_type": "execute_result"
        },
        {
          "data": {
            "image/png": "[encoded data removed]",
            "text/plain": [
              "<Figure size 432x288 with 1 Axes>"
            ]
          },
          "metadata": {
            "needs_background": "light"
          },
          "output_type": "display_data"
        }
      ],
      "source": [
        "df_train['primary_cleaner.input.feed_size'].hist(alpha=0.5, density=True, bins=50)\n",
        "df_test['primary_cleaner.input.feed_size'].hist(alpha=0.5, density=True, bins=50)"
      ]
    },
    {
      "cell_type": "markdown",
      "metadata": {
        "id": "NWCMsFezLxHb"
      },
      "source": [
        "На первом уровне очистки распределения почти одинаковые в обучающем и тестовом файлах. \n",
        "\n",
        "At the first level of refinement, the distributions are almost the same in the training and test files."
      ]
    },
    {
      "cell_type": "markdown",
      "metadata": {
        "id": "OLhx4nfMLxHc"
      },
      "source": [
        "<a id='Step_10'></a>\n",
        "## 2.3. Исследуем суммарную концентрацию всех веществ на разных стадиях: в сырье, в черновом и финальном концентратах.\n",
        "\n",
        "## 2.3. We investigate the total concentration of all substances at different stages: in raw materials, in rough and final concentrates."
      ]
    },
    {
      "cell_type": "markdown",
      "metadata": {
        "id": "0GvmkVXcLxHc"
      },
      "source": [
        "Добавим в обучающий фрейм суммы концетрации веществ на разных этапах для обучающей выборки.\n",
        "\n",
        "Add to the training frame the sums of concentrations of substances at different stages for the training sample."
      ]
    },
    {
      "cell_type": "code",
      "execution_count": null,
      "metadata": {
        "id": "SA3WOQ5NLxHc"
      },
      "outputs": [],
      "source": [
        "df_train['sum_concentrate_feed'] = (df_train['rougher.input.feed_ag'] + df_train['rougher.input.feed_au'] +\n",
        "df_train['rougher.input.feed_pb'] + df_train['rougher.input.feed_sol'])\n",
        "df_train['sum_concentrate_rougher'] = (df_train['rougher.output.concentrate_ag'] + df_train['rougher.output.concentrate_au'] +\n",
        "df_train['rougher.output.concentrate_pb'] + df_train['rougher.output.concentrate_sol'])\n",
        "df_train['sum_concentrate_final'] = (df_train['final.output.concentrate_ag'] + df_train['final.output.concentrate_au'] +\n",
        "df_train['final.output.concentrate_pb'] + df_train['final.output.concentrate_sol'])"
      ]
    },
    {
      "cell_type": "markdown",
      "metadata": {
        "id": "xOIKXFRXLxHc"
      },
      "source": [
        "Добавим в тестовый фрейм суммы концетрации веществ в сырье: других этапов в этом сете не содержится.\n",
        "\n",
        "Let's add the sum of the concentration of substances in the raw material to the text frame: there are no other stages in this set."
      ]
    },
    {
      "cell_type": "code",
      "execution_count": null,
      "metadata": {
        "id": "f8PE4Nl0LxHc"
      },
      "outputs": [],
      "source": [
        "df_test['sum_concentrate_feed'] = (df_test['rougher.input.feed_ag'] + df_test['rougher.input.feed_au'] +\n",
        "df_test['rougher.input.feed_pb'] + df_test['rougher.input.feed_sol'])"
      ]
    },
    {
      "cell_type": "markdown",
      "metadata": {
        "id": "zr2bOHCMLxHc"
      },
      "source": [
        "Визуализируем полученные данные.\n",
        "\n",
        "We visualize the received data."
      ]
    },
    {
      "cell_type": "code",
      "execution_count": null,
      "metadata": {
        "id": "r51QD5FcLxHd",
        "outputId": "69d894d2-6a10-4618-92dc-339f0803576b"
      },
      "outputs": [
        {
          "data": {
            "text/plain": [
              "<matplotlib.axes._subplots.AxesSubplot at 0x7f63263a9a10>"
            ]
          },
          "execution_count": 22,
          "metadata": {},
          "output_type": "execute_result"
        },
        {
          "data": {
            "image/png": "[encoded data removed]",
            "text/plain": [
              "<Figure size 432x288 with 1 Axes>"
            ]
          },
          "metadata": {
            "needs_background": "light"
          },
          "output_type": "display_data"
        }
      ],
      "source": [
        "df_test['sum_concentrate_feed'].plot(kind='hist', title='df_test - sum_concentrate_feed')"
      ]
    },
    {
      "cell_type": "code",
      "execution_count": null,
      "metadata": {
        "id": "5Iu0VM7LLxHd",
        "outputId": "50282db0-94bf-4971-fa40-6fc9a727529b"
      },
      "outputs": [
        {
          "data": {
            "text/plain": [
              "<matplotlib.axes._subplots.AxesSubplot at 0x7f63803792d0>"
            ]
          },
          "execution_count": 23,
          "metadata": {},
          "output_type": "execute_result"
        },
        {
          "data": {
            "image/png": "[encoded data removed]",
            "text/plain": [
              "<Figure size 432x288 with 1 Axes>"
            ]
          },
          "metadata": {
            "needs_background": "light"
          },
          "output_type": "display_data"
        }
      ],
      "source": [
        "df_train['sum_concentrate_feed'].plot(kind='hist', title='df_train - sum_concentrate_feed')"
      ]
    },
    {
      "cell_type": "code",
      "execution_count": null,
      "metadata": {
        "id": "Iz6sRO0sLxHd",
        "outputId": "bb592efd-e1c1-432c-a9cf-d8fec3f329e8"
      },
      "outputs": [
        {
          "data": {
            "text/plain": [
              "<matplotlib.axes._subplots.AxesSubplot at 0x7f63233af050>"
            ]
          },
          "execution_count": 24,
          "metadata": {},
          "output_type": "execute_result"
        },
        {
          "data": {
            "image/png": "[encoded data removed]",
            "text/plain": [
              "<Figure size 432x288 with 1 Axes>"
            ]
          },
          "metadata": {
            "needs_background": "light"
          },
          "output_type": "display_data"
        }
      ],
      "source": [
        "df_train['sum_concentrate_rougher'].plot(kind='hist', title='df_train - sum_concentrate_rougher')"
      ]
    },
    {
      "cell_type": "code",
      "execution_count": null,
      "metadata": {
        "id": "he6PQxZqLxHd",
        "outputId": "725f0150-d7df-4cfa-80c7-034434a4025e"
      },
      "outputs": [
        {
          "data": {
            "text/plain": [
              "<matplotlib.axes._subplots.AxesSubplot at 0x7f6323328b50>"
            ]
          },
          "execution_count": 25,
          "metadata": {},
          "output_type": "execute_result"
        },
        {
          "data": {
            "image/png": "[encoded data removed]",
            "text/plain": [
              "<Figure size 432x288 with 1 Axes>"
            ]
          },
          "metadata": {
            "needs_background": "light"
          },
          "output_type": "display_data"
        }
      ],
      "source": [
        "df_train['sum_concentrate_final'].plot(kind='hist', title='df_train - sum_concentrate_final')"
      ]
    },
    {
      "cell_type": "markdown",
      "metadata": {
        "id": "OTtif7ZILxHd"
      },
      "source": [
        "Удалим выбросы вниз (то что не вписывается в полтора интерквартильных размаха вниз) по переменной ssum_concentrate_feed.\n",
        "\n",
        "Let's remove outliers down (that which does not fit into one and a half interquartile ranges down) in the ssum_concentrate_feed variable."
      ]
    },
    {
      "cell_type": "code",
      "execution_count": null,
      "metadata": {
        "scrolled": false,
        "id": "PFgBFPvBLxHe"
      },
      "outputs": [],
      "source": [
        "# Удалаение выбросов в обучающем файле.\n",
        "df_train_normal = df_train[(df_train['sum_concentrate_feed']>df_train['sum_concentrate_feed'].dropna().mean()\n",
        "         -iqr(df_train['sum_concentrate_feed'].dropna())*1.5)]"
      ]
    },
    {
      "cell_type": "markdown",
      "metadata": {
        "id": "CzLnmmgsLxHe"
      },
      "source": [
        "В обучщающей выборке удалим выбросы по столбцу суммарной концетрации веществ в сырье, исходя из того, что в тестовой выборке у нас есть только такие данные.\n",
        "\n",
        "In the training sample, we will remove outliers in the column of the total concentration of substances in raw materials, based on the fact that we have only such data in the test sample."
      ]
    },
    {
      "cell_type": "code",
      "execution_count": null,
      "metadata": {
        "id": "VoQhcm0BLxHe"
      },
      "outputs": [],
      "source": [
        "# Удалаение выбросов в тестовом файле.\n",
        "df_test_normal = df_test[(df_test['sum_concentrate_feed']>df_test['sum_concentrate_feed'].dropna().mean()\n",
        "         -iqr(df_test['sum_concentrate_feed'].dropna())*1.5)]"
      ]
    },
    {
      "cell_type": "markdown",
      "metadata": {
        "id": "6l7VfB-DLxHe"
      },
      "source": [
        "Веротяно, выбросы вниз на этапе поступелния сырья на флотацию, говорят о плохом сырье. На остльных этапах - о плохом сырье и/или неправильной обработке. Удаляем выбросы именно по сырью, так как если оно плохое изначально, то с ним нет смысла работать. Выбросы в большую сторону, вероятно означают изначально богатую руду, поэтомутакие наблюдение удалять  не будем.\n",
        "\n",
        "Probably, downward emissions at the stage of receipt of raw materials for flotation indicate poor raw materials. At other stages - about bad raw materials and / or improper processing. We remove emissions specifically for raw materials, since if it is bad initially, then there is no point in working with it. Emissions in the big direction probably mean initially rich ore, so we will not remove such observations."
      ]
    },
    {
      "cell_type": "markdown",
      "metadata": {
        "id": "gXzecbEhLxHf"
      },
      "source": [
        "## Summary.\n",
        "На этом этапе:\n",
        "- Изучили как изменяется содержание металлов в веществе на всех этапах. Содеражние золота растёт быстрее всего.\n",
        "- Сравнили распределение гранул в обучающем и тестовом файле. Они похожи - это хорошо.\n",
        "- Удалили наблюдения с малым суммарным значением содержания металлов в сырье. Такое сырье не взяли бы в производство."
      ]
    },
    {
      "cell_type": "markdown",
      "metadata": {
        "id": "FE_ulNQDLxHf"
      },
      "source": [
        "## Summary.\n",
        "At this stage:\n",
        "- We studied how the content of metals in the substance changes at all stages. The gold content is growing the fastest.\n",
        "- Compared the distribution of granules in the training and test file. They are similar, which is good.\n",
        "- Removed observations with a small total value of the content of metals in the raw material. Such raw materials would not be taken into production."
      ]
    },
    {
      "cell_type": "markdown",
      "metadata": {
        "id": "XOsaFkMBLxHf"
      },
      "source": [
        "<a id='Step_11'></a>\n",
        "# 3. Модель\n",
        "\n",
        "#3 Model"
      ]
    },
    {
      "cell_type": "markdown",
      "metadata": {
        "id": "wh52pdL7LxHf"
      },
      "source": [
        "<a id='Step_12'></a>\n",
        "## Пункт 3.1. Функция sMAPE.\n",
        "\n",
        "## Clause 3.1. sMAPE function."
      ]
    },
    {
      "cell_type": "markdown",
      "metadata": {
        "id": "mVMYJ1F-LxHg"
      },
      "source": [
        "Метрика sMAPE выражается не в абсолютных величинах, а в относительных. Она одинаково учитывает масштаб и целевого признака, и предсказания. Напишем фунцию для ее вычисления в соответствии с указанной в задании формуле.\n",
        "\n",
        "The sMAPE metric is expressed not in absolute terms, but in relative terms. It equally takes into account the scale of both the target feature and the prediction. Let's write a function for its calculation in accordance with the formula specified in the task."
      ]
    },
    {
      "cell_type": "code",
      "execution_count": null,
      "metadata": {
        "id": "-87LoepaLxHg"
      },
      "outputs": [],
      "source": [
        "def sMAPE(y, y_pred):\n",
        "    return (sum(abs(y-y_pred) / ((abs(y) + abs(y_pred)) / 2)) / len(y) * 100)"
      ]
    },
    {
      "cell_type": "code",
      "execution_count": null,
      "metadata": {
        "id": "wyh8NG0qLxHg"
      },
      "outputs": [],
      "source": [
        "sMAPE_loss = make_scorer(sMAPE, greater_is_better=False)"
      ]
    },
    {
      "cell_type": "markdown",
      "metadata": {
        "id": "ksl0XqbHLxHi"
      },
      "source": [
        "Так же напишем функцию для общего sMAPE.\n",
        "\n",
        "We will also write a function for the general sMAPE."
      ]
    },
    {
      "cell_type": "code",
      "execution_count": null,
      "metadata": {
        "id": "hf9S_8B3LxHi"
      },
      "outputs": [],
      "source": [
        "def sMAPE_common(sMAPE_rougher, sMAPE_final):\n",
        "    return (sMAPE_rougher * 0.25 + sMAPE_final * 0.75)"
      ]
    },
    {
      "cell_type": "markdown",
      "metadata": {
        "id": "yOiVxxUnLxHi"
      },
      "source": [
        "<a id='Step_13'></a>\n",
        "## 3.2. Обучение и проверка моделей.\n",
        "\n",
        "## 3.2. Training and validation of models."
      ]
    },
    {
      "cell_type": "markdown",
      "metadata": {
        "id": "OYf8UgOiLxHi"
      },
      "source": [
        "Требуется спрогнозировать две величины:\n",
        "- Эффективность обогащения чернового концентрата rougher.output.recovery. Для этого мы будем использовать только те данные, которые есть в тестовом файле и котороые при этом относятся к этапу Rougher. \n",
        "- Эффективность обогащения финального концентрата final.output.recovery. Для этого мы будем использовать только те данные, которые есть в тестовом файле и котороые при этом относятся к этапам следующим за Rougher."
      ]
    },
    {
      "cell_type": "markdown",
      "source": [
        "It is required to predict two quantities:\n",
        "- Rougher concentrate efficiency rougher.output.recovery. To do this, we will use only the data that is in the test file and which at the same time relate to the Rougher stage.\n",
        "- Efficiency of enrichment of the final concentrate final.output.recovery. To do this, we will use only the data that is in the test file and which at the same time relate to the stages following Rougher."
      ],
      "metadata": {
        "id": "9ln9SRuLTym4"
      }
    },
    {
      "cell_type": "markdown",
      "metadata": {
        "id": "OChkSPr2LxHi"
      },
      "source": [
        "Получим столбцы, описывающие процесс Rougher.\n",
        "\n",
        "Get columns describing the Rougher process."
      ]
    },
    {
      "cell_type": "code",
      "execution_count": null,
      "metadata": {
        "id": "-EMu9AN9LxHj",
        "outputId": "434adeac-1276-4624-bdb4-2fe8f62dd1da"
      },
      "outputs": [
        {
          "data": {
            "text/plain": [
              "['rougher.input.feed_ag',\n",
              " 'rougher.input.feed_pb',\n",
              " 'rougher.input.feed_rate',\n",
              " 'rougher.input.feed_size',\n",
              " 'rougher.input.feed_sol',\n",
              " 'rougher.input.feed_au',\n",
              " 'rougher.input.floatbank10_sulfate',\n",
              " 'rougher.input.floatbank10_xanthate',\n",
              " 'rougher.input.floatbank11_sulfate',\n",
              " 'rougher.input.floatbank11_xanthate',\n",
              " 'rougher.state.floatbank10_a_air',\n",
              " 'rougher.state.floatbank10_a_level',\n",
              " 'rougher.state.floatbank10_b_air',\n",
              " 'rougher.state.floatbank10_b_level',\n",
              " 'rougher.state.floatbank10_c_air',\n",
              " 'rougher.state.floatbank10_c_level',\n",
              " 'rougher.state.floatbank10_d_air',\n",
              " 'rougher.state.floatbank10_d_level',\n",
              " 'rougher.state.floatbank10_e_air',\n",
              " 'rougher.state.floatbank10_e_level',\n",
              " 'rougher.state.floatbank10_f_air',\n",
              " 'rougher.state.floatbank10_f_level']"
            ]
          },
          "execution_count": 31,
          "metadata": {},
          "output_type": "execute_result"
        }
      ],
      "source": [
        "col_rougher = []\n",
        "for col in df_test.columns.drop(['rougher.output.recovery', 'final.output.recovery']):\n",
        "    if 'rougher' in col:\n",
        "        col_rougher.append(col)\n",
        "col_rougher"
      ]
    },
    {
      "cell_type": "markdown",
      "metadata": {
        "id": "WKXnp398LxHj"
      },
      "source": [
        "Приступим к обучению моделей. Проверка будет осуществляться на кросс-валидации.\n",
        "\n",
        "Let's start training the models. Verification will be carried out on cross-validation."
      ]
    },
    {
      "cell_type": "code",
      "execution_count": null,
      "metadata": {
        "id": "KQATbqNrLxHj"
      },
      "outputs": [],
      "source": [
        "# Получим из обучающего файла регрессоры и целевую переменную для этапа Rougher.\n",
        "features_train_rougher = df_train_normal[col_rougher]\n",
        "target_train_rougher = df_train_normal['rougher.output.recovery']\n",
        "# Получим из обучающего файла регрессоры и целевую переменную для этапа Final.\n",
        "features_train_final = (df_train_normal[df_test_normal.columns].drop(col_rougher \n",
        "                              + ['sum_concentrate_feed', 'final.output.recovery', 'rougher.output.recovery'], axis=1))\n",
        "target_train_final = df_train_normal['final.output.recovery']"
      ]
    },
    {
      "cell_type": "markdown",
      "metadata": {
        "id": "MCASNJPtLxHj"
      },
      "source": [
        "### 1. Регрессия.\n",
        "\n",
        "### 1. Regression."
      ]
    },
    {
      "cell_type": "markdown",
      "metadata": {
        "id": "nijsmxSkLxHj"
      },
      "source": [
        "Обучение модели для Rougher.\n",
        "\n",
        "Model training for Rougher."
      ]
    },
    {
      "cell_type": "code",
      "execution_count": null,
      "metadata": {
        "scrolled": true,
        "id": "hERD-kINLxHj",
        "outputId": "4f5c9498-b6aa-447e-89ed-eba629d349ac"
      },
      "outputs": [
        {
          "ename": "NameError",
          "evalue": "name 'LinearRegression' is not defined",
          "output_type": "error",
          "traceback": [
            "\u001b[0;31m---------------------------------------------------------------------------\u001b[0m",
            "\u001b[0;31mNameError\u001b[0m                                 Traceback (most recent call last)",
            "\u001b[0;32m<ipython-input-1-39ad6fe3c14c>\u001b[0m in \u001b[0;36m<module>\u001b[0;34m\u001b[0m\n\u001b[0;32m----> 1\u001b[0;31m \u001b[0mmodel_l_r\u001b[0m \u001b[0;34m=\u001b[0m \u001b[0mLinearRegression\u001b[0m\u001b[0;34m(\u001b[0m\u001b[0mmax_iter\u001b[0m\u001b[0;34m=\u001b[0m\u001b[0;36m200\u001b[0m\u001b[0;34m)\u001b[0m\u001b[0;34m\u001b[0m\u001b[0;34m\u001b[0m\u001b[0m\n\u001b[0m\u001b[1;32m      2\u001b[0m \u001b[0mparameters_l_r\u001b[0m \u001b[0;34m=\u001b[0m \u001b[0;34m{\u001b[0m\u001b[0;34m'fit_intercept'\u001b[0m\u001b[0;34m:\u001b[0m\u001b[0;34m(\u001b[0m\u001b[0;32mTrue\u001b[0m\u001b[0;34m,\u001b[0m \u001b[0;32mFalse\u001b[0m\u001b[0;34m)\u001b[0m\u001b[0;34m,\u001b[0m \u001b[0;34m'normalize'\u001b[0m\u001b[0;34m:\u001b[0m\u001b[0;34m(\u001b[0m\u001b[0;32mTrue\u001b[0m\u001b[0;34m,\u001b[0m \u001b[0;32mFalse\u001b[0m\u001b[0;34m)\u001b[0m\u001b[0;34m}\u001b[0m\u001b[0;34m\u001b[0m\u001b[0;34m\u001b[0m\u001b[0m\n\u001b[1;32m      3\u001b[0m \u001b[0mclf_l_r\u001b[0m \u001b[0;34m=\u001b[0m \u001b[0mGridSearchCV\u001b[0m\u001b[0;34m(\u001b[0m\u001b[0mmodel_l_r\u001b[0m\u001b[0;34m,\u001b[0m \u001b[0mparameters_l_r\u001b[0m\u001b[0;34m,\u001b[0m \u001b[0mcv\u001b[0m\u001b[0;34m=\u001b[0m\u001b[0;36m5\u001b[0m\u001b[0;34m,\u001b[0m \u001b[0mscoring\u001b[0m\u001b[0;34m=\u001b[0m\u001b[0msMAPE_loss\u001b[0m\u001b[0;34m)\u001b[0m\u001b[0;34m\u001b[0m\u001b[0;34m\u001b[0m\u001b[0m\n\u001b[1;32m      4\u001b[0m \u001b[0mclf_l_r\u001b[0m\u001b[0;34m.\u001b[0m\u001b[0mfit\u001b[0m\u001b[0;34m(\u001b[0m\u001b[0mfeatures_train_rougher\u001b[0m\u001b[0;34m,\u001b[0m \u001b[0mtarget_train_rougher\u001b[0m\u001b[0;34m)\u001b[0m\u001b[0;34m\u001b[0m\u001b[0;34m\u001b[0m\u001b[0m\n\u001b[1;32m      5\u001b[0m \u001b[0mprint\u001b[0m\u001b[0;34m(\u001b[0m\u001b[0;34m'sMAPE rougher:'\u001b[0m\u001b[0;34m,\u001b[0m \u001b[0mclf_l_r\u001b[0m\u001b[0;34m.\u001b[0m\u001b[0mbest_score_\u001b[0m\u001b[0;34m)\u001b[0m\u001b[0;34m\u001b[0m\u001b[0;34m\u001b[0m\u001b[0m\n",
            "\u001b[0;31mNameError\u001b[0m: name 'LinearRegression' is not defined"
          ]
        }
      ],
      "source": [
        "model_l_r = LinearRegression()\n",
        "parameters_l_r = {'fit_intercept':(True, False), 'normalize':(True, False)}\n",
        "clf_l_r = GridSearchCV(model_l_r, parameters_l_r, cv=5, scoring=sMAPE_loss)\n",
        "clf_l_r.fit(features_train_rougher, target_train_rougher)\n",
        "print('sMAPE rougher:', clf_l_r.best_score_)\n",
        "model_l_f = LinearRegression()\n",
        "parameters_l_f = {'fit_intercept':(True, False), 'normalize':(True, False)}\n",
        "clf_l_f = GridSearchCV(model_l_f, parameters_l_f, cv=5, scoring=sMAPE_loss)\n",
        "clf_l_f.fit(features_train_final, target_train_final)\n",
        "print('sMAPE final:', clf_l_f.best_score_)\n",
        "print('sMAPE common:', sMAPE_common(clf_l_r.best_score_, clf_l_f.best_score_))"
      ]
    },
    {
      "cell_type": "markdown",
      "metadata": {
        "id": "oOdrom7mLxHk"
      },
      "source": [
        "### 2. Случайный лес.\n",
        "\n",
        "### 2. Random forest."
      ]
    },
    {
      "cell_type": "code",
      "execution_count": null,
      "metadata": {
        "id": "55Rjpu8QLxHk",
        "outputId": "ca7d14c7-3685-45d5-cf1f-7fbcd62303dd"
      },
      "outputs": [
        {
          "name": "stderr",
          "output_type": "stream",
          "text": [
            "/opt/conda/lib/python3.7/site-packages/sklearn/model_selection/_search.py:813: DeprecationWarning: The default of the `iid` parameter will change from True to False in version 0.22 and will be removed in 0.24. This will change numeric results when test-set sizes are unequal.\n",
            "  DeprecationWarning)\n"
          ]
        },
        {
          "name": "stdout",
          "output_type": "stream",
          "text": [
            "sMAPE rougher: -15.248972614373471\n",
            "sMAPE final: -16.022377911029483\n",
            "sMAPE common: -15.829026586865481\n"
          ]
        },
        {
          "name": "stderr",
          "output_type": "stream",
          "text": [
            "/opt/conda/lib/python3.7/site-packages/sklearn/model_selection/_search.py:813: DeprecationWarning: The default of the `iid` parameter will change from True to False in version 0.22 and will be removed in 0.24. This will change numeric results when test-set sizes are unequal.\n",
            "  DeprecationWarning)\n"
          ]
        }
      ],
      "source": [
        "model_r_r = RandomForestRegressor(random_state=0)\n",
        "parameters_r_r = {'max_depth': [5, 20], 'n_estimators':[1, 10]}\n",
        "clf_r_r = GridSearchCV(model_r_r, parameters_r_r, cv=3, scoring=sMAPE_loss)\n",
        "clf_r_r.fit(features_train_rougher, target_train_rougher)\n",
        "print('sMAPE rougher:', clf_r_r.best_score_)\n",
        "model_r_f = RandomForestRegressor(random_state=0)\n",
        "parameters_r_f = {'max_depth': [5, 20], 'n_estimators':[1, 10]}\n",
        "clf_r_f = GridSearchCV(model_r_f, parameters_r_f, cv=3, scoring=sMAPE_loss)\n",
        "clf_r_f.fit(features_train_final, target_train_final)\n",
        "print('sMAPE final:', clf_r_f.best_score_)\n",
        "print('sMAPE common:', sMAPE_common(clf_r_r.best_score_, clf_r_f.best_score_))"
      ]
    },
    {
      "cell_type": "markdown",
      "metadata": {
        "id": "SXCWuBwlLxHk"
      },
      "source": [
        "### 3. XGboost."
      ]
    },
    {
      "cell_type": "code",
      "execution_count": null,
      "metadata": {
        "id": "obOEwp6OLxHk",
        "outputId": "68abf95f-7e3f-4c20-e2b0-403c7b3e34b1"
      },
      "outputs": [
        {
          "name": "stdout",
          "output_type": "stream",
          "text": [
            "sMAPE rougher: -11.660843962172454\n",
            "sMAPE final: -12.82751745000648\n",
            "sMAPE common: -12.535849078047974\n"
          ]
        }
      ],
      "source": [
        "model_g_r = GradientBoostingRegressor(random_state=0)\n",
        "parameters_g_r = {'loss' : ('ls', 'lad'), 'learning_rate' : (0.1, 0.3)}\n",
        "clf_g_r = GridSearchCV(model_g_r, parameters_g_r, cv=3, scoring=sMAPE_loss)\n",
        "clf_g_r.fit(features_train_rougher, target_train_rougher)\n",
        "print('sMAPE rougher:', clf_g_r.best_score_)\n",
        "model_g_f = GradientBoostingRegressor(random_state=0)\n",
        "parameters_g_f = {'loss' : ('ls', 'lad'), 'learning_rate' : (0.1, 0.3)}\n",
        "clf_g_f = GridSearchCV(model_g_f, parameters_g_f, cv=3, scoring=sMAPE_loss)\n",
        "clf_g_f.fit(features_train_final, target_train_final)\n",
        "print('sMAPE final:', clf_g_f.best_score_)\n",
        "print('sMAPE common:', sMAPE_common(clf_g_r.best_score_, clf_g_f.best_score_))"
      ]
    },
    {
      "cell_type": "markdown",
      "metadata": {
        "id": "UR9018kULxHl"
      },
      "source": [
        "### Проверка на тестовых данных. \n",
        "\n",
        "### Checking on test data."
      ]
    },
    {
      "cell_type": "markdown",
      "metadata": {
        "id": "DTvk-NkpLxHl"
      },
      "source": [
        "Выбираем модель регрессии, так как она дает наименьшее значение функции потерь.\n",
        "\n",
        "We choose the regression model, since it gives the smallest value of the loss function."
      ]
    },
    {
      "cell_type": "code",
      "execution_count": null,
      "metadata": {
        "id": "YzZuBSZGLxHl"
      },
      "outputs": [],
      "source": [
        "# Получим из тестового файла регрессоры и целевую переменную для этапа Rougher.\n",
        "features_test_rougher = df_test_normal[col_rougher]\n",
        "target_test_rougher = df_test_normal['rougher.output.recovery']\n",
        "# Получим из тестого файла регрессоры и целевую переменную для этапа Final.\n",
        "features_test_final = (df_test_normal.drop(col_rougher + \n",
        "                                        ['sum_concentrate_feed', 'final.output.recovery', 'rougher.output.recovery'], axis=1))\n",
        "target_test_final = df_test_normal['final.output.recovery']"
      ]
    },
    {
      "cell_type": "markdown",
      "metadata": {
        "id": "a7G7WzgBLxHl"
      },
      "source": [
        "Получим общий sMAPE."
      ]
    },
    {
      "cell_type": "markdown",
      "source": [
        "We get the overall sMAPE."
      ],
      "metadata": {
        "id": "-jWd1scBUZF8"
      }
    },
    {
      "cell_type": "code",
      "execution_count": null,
      "metadata": {
        "id": "iKxl_1e1LxHl",
        "outputId": "42f77a12-839e-4352-eda9-42d8c905a499"
      },
      "outputs": [
        {
          "data": {
            "text/plain": [
              "9.126484773880145"
            ]
          },
          "execution_count": 60,
          "metadata": {},
          "output_type": "execute_result"
        }
      ],
      "source": [
        "sMAPE_common(sMAPE(target_test_rougher, clf_l_r.predict(features_test_rougher)),\n",
        "            sMAPE(target_test_final, clf_l_f.predict(features_test_final)))"
      ]
    },
    {
      "cell_type": "markdown",
      "metadata": {
        "id": "ZpxhZsEWLxHm"
      },
      "source": [
        "На тестовых данных регрессия сработала еще лучше."
      ]
    },
    {
      "cell_type": "markdown",
      "source": [
        "On the test data, the regression worked even better."
      ],
      "metadata": {
        "id": "fdPtopJaUbVm"
      }
    },
    {
      "cell_type": "markdown",
      "metadata": {
        "id": "Uqkt1nr7LxHt"
      },
      "source": [
        "## Total summary.\n",
        "- На первом этапе были загружены, изучены и подготовлены данные: пропуски в регрессорах были заполненны средними, а строки с пропусками в целевых переменных были удалены.\n",
        "- На втором шаге, мы проанализировали данные. Вывели, что с прохождением этапов обрабоки в концентрате растет содержание золото. Проверили похожесть распределния значений гранул в тестовой и обучающей выборке - выборки похожи. Нашли и удалил наблюдения, где суммарныая концентрация металлов в сырье была слишком мала, препдпологая, что изначально \"бедную\" руду не примут на производсвто и пронозировать восстановление такого сырья не имеет смысла.\n",
        "- На третем этапе мы проверили различные модели: линейную регрессию, случайный лес, и градиентный бустинг. Регрессия оказалась наиболее подходящей к имеющимся данным. Кроме того, такую модель легко интерпретировать. Так же мы получили предсказания для тестовой выборки."
      ]
    },
    {
      "cell_type": "markdown",
      "metadata": {
        "id": "x95RCKOnLxHt"
      },
      "source": [
        "## Total summary.\n",
        "- At the first stage, the data were loaded, studied and prepared: the gaps in the regressors were filled in with the means, and the rows with gaps in the target variables were removed.\n",
        "- In the second step, we analyzed the data. It was concluded that with the passage of the stages of processing in the concentrate, the gold content increases. We checked the similarity of the distribution of granule values ​​in the test and training samples - the samples are similar. We found and removed observations where the total concentration of metals in the raw material was too low, suggesting that initially \"poor\" ore would not be accepted for production and it makes no sense to predict the recovery of such raw materials.\n",
        "- In the third step, we tested different models: linear regression, random forest, and gradient boosting. The regression was found to be the best fit to the available data. In addition, such a model is easy to interpret. We also received predictions for the test sample."
      ]
    }
  ],
  "metadata": {
    "kernelspec": {
      "display_name": "Python 3 (ipykernel)",
      "language": "python",
      "name": "python3"
    },
    "language_info": {
      "codemirror_mode": {
        "name": "ipython",
        "version": 3
      },
      "file_extension": ".py",
      "mimetype": "text/x-python",
      "name": "python",
      "nbconvert_exporter": "python",
      "pygments_lexer": "ipython3",
      "version": "3.9.5"
    },
    "toc": {
      "base_numbering": 1,
      "nav_menu": {},
      "number_sections": true,
      "sideBar": true,
      "skip_h1_title": false,
      "title_cell": "Table of Contents",
      "title_sidebar": "Contents",
      "toc_cell": false,
      "toc_position": {},
      "toc_section_display": true,
      "toc_window_display": false
    },
    "colab": {
      "name": "9th_project_gold_mining.ipynb",
      "provenance": []
    }
  },
  "nbformat": 4,
  "nbformat_minor": 0
}