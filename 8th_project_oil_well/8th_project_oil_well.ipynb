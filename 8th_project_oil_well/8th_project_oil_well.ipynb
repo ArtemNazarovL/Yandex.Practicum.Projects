{
  "cells": [
    {
      "cell_type": "markdown",
      "source": [
        "# Выбор локации для скважины\n",
        "\n",
        "# Choice of location for the oil well"
      ],
      "metadata": {
        "id": "LnUo6_8z0VwD"
      }
    },
    {
      "cell_type": "markdown",
      "metadata": {
        "id": "MoWb0_Kkyo1M"
      },
      "source": [
        "- [Шаг 0. Описание проекта.](#Step_1)\n",
        "- [Шаг 1. Загрузка и подготовка данных.](#Step_2)\n",
        "- [Шаг 2. Обучение и проверка модели.](#Step_3)<br />\n",
        "[Пункт A. Обучение модели.](#Step_4) <br />\n",
        "[Пункт B. Анализ модели.](#Step_5) <br />\n",
        "- [Шаг 3. Подготовка к расчету прибыли.](#Step_6)\n",
        "- [Шаг 4. Расчет прибыли и рисков.](#Step_7) \n",
        "[Пункт A. Регион 0.](#Step_8) <br />\n",
        "[Пункт B. Регион 1.](#Step_9) <br />\n",
        "[Пункт C. Регион 2.](#Step_10) <br />"
      ]
    },
    {
      "cell_type": "markdown",
      "source": [
        "- [Step 0. Description of the project.](#Step_1)\n",
        "- [Step 1. Loading and preparing data.](#Step_2)\n",
        "- [Step 2. Train and validate the model.](#Step_3)<br />\n",
        "[Item A. Training the model.](#Step_4) <br />\n",
        "[Point B. Model analysis.](#Step_5) <br />\n",
        "- [Step 3. Preparing for profit calculation.](#Step_6)\n",
        "- [Step 4. Profit and risk calculation.](#Step_7)\n",
        "[Item A. Region 0.](#Step_8) <br />\n",
        "[Item B. Region 1.](#Step_9) <br />\n",
        "[Item C. Region 2.](#Step_10) <br />"
      ],
      "metadata": {
        "id": "Ypvxe6fjAjBr"
      }
    },
    {
      "cell_type": "markdown",
      "metadata": {
        "id": "lTJUHqvgyo1M"
      },
      "source": [
        "<a id='Step_1'></a>\n",
        "# Описание проекта\n",
        "\n",
        "# Description of the project"
      ]
    },
    {
      "cell_type": "markdown",
      "metadata": {
        "id": "Xleav0YSyo1N"
      },
      "source": [
        "Перед нами стоит задача - выбрать место для бурения новой нефтяной скважины.\n",
        "\n",
        "Нам доступны пробы нефти из трёх регионов, каждый из которых содержит 10000 месторождений. По каждому месторождению известны качество нефти и объём запасов. Необходимо разработать модель машинного обучения сопосбную определить регион, который принесет наибольшую прибыль. Также нужно проанализировать ожидаемую прибыль и риски при помощи Bootstrap.\n",
        "\n",
        "Порядок выбора места:\n",
        "- В выбранном регионе ищут месторождения и для каждого из них определяют значения признаков.\n",
        "- Разрабатывают модель и оценивают количество запасов.\n",
        "- Выбирают места с наивысшими оценками параметров. Количество месторождений зависит от доступного бюджета и стоимости разработки месторождения.\n",
        "- Считают прибыль, как сумму прибыли выбранным месторождений.\n",
        "\n",
        "Our task is to choose a place for drilling a new oil well.\n",
        "\n",
        "We have access to oil samples from three regions, each containing 10,000 deposits. For each field, the quality of oil and the volume of reserves are known. It is necessary to develop a machine learning model capable of identifying the region that will bring the greatest profit. You also need to analyze the expected profit and risks using Bootstrap.\n",
        "\n",
        "Place selection procedure:\n",
        "- In the selected region, deposits are searched and for each of them the values ​​of the features are determined.\n",
        "- Develop a model and estimate the amount of reserves.\n",
        "- Choose places with the highest parameter scores. The number of deposits depends on the available budget and the cost of developing the deposit.\n",
        "- Calculate the profit as the sum of the profits of the selected deposits."
      ]
    },
    {
      "cell_type": "markdown",
      "metadata": {
        "id": "nNOmlYCsyo1O"
      },
      "source": [
        "<a id='Step_2'></a>\n",
        "# 1. Загрузка и подготовка данных\n",
        "\n",
        "# 1. Loading and preparing data"
      ]
    },
    {
      "cell_type": "markdown",
      "metadata": {
        "id": "pzjcc5iqyo1O"
      },
      "source": [
        "Загрузка библиотек.\n",
        "\n",
        "Loading libraries."
      ]
    },
    {
      "cell_type": "code",
      "execution_count": null,
      "metadata": {
        "id": "QxZLRVTkyo1P"
      },
      "outputs": [],
      "source": [
        "!pip install statsmodels==0.12.1\n",
        "import pandas as pd\n",
        "import numpy as np\n",
        "from sklearn.model_selection import train_test_split\n",
        "from sklearn.linear_model import LinearRegression\n",
        "from sklearn.preprocessing import StandardScaler\n",
        "from sklearn.metrics import mean_squared_error\n",
        "from statsmodels.stats import outliers_influence as oi\n",
        "from statsmodels.stats import diagnostic as dc\n",
        "from scipy import stats as st\n",
        "import statsmodels"
      ]
    },
    {
      "cell_type": "markdown",
      "metadata": {
        "id": "LbIYGlR4yo1Q"
      },
      "source": [
        "Загрузка данных.\n",
        "\n",
        "Loading data."
      ]
    },
    {
      "cell_type": "code",
      "execution_count": null,
      "metadata": {
        "id": "I1QgSU8-yo1R"
      },
      "outputs": [],
      "source": [
        "df0=pd.read_csv('/datasets/geo_data_0.csv')\n",
        "df1=pd.read_csv('/datasets/geo_data_1.csv')\n",
        "df2=pd.read_csv('/datasets/geo_data_2.csv')"
      ]
    },
    {
      "cell_type": "markdown",
      "metadata": {
        "id": "neTUddElyo1R"
      },
      "source": [
        "Общий отчет.\n",
        "\n",
        "General report."
      ]
    },
    {
      "cell_type": "code",
      "execution_count": null,
      "metadata": {
        "id": "PKUycwQNyo1R",
        "outputId": "18c1a873-7756-475d-992f-864203aea966"
      },
      "outputs": [
        {
          "name": "stdout",
          "output_type": "stream",
          "text": [
            "First 5\n",
            "      id        f0        f1        f2     product\n",
            "0  txEyH  0.705745 -0.497823  1.221170  105.280062\n",
            "1  2acmU  1.334711 -0.340164  4.365080   73.037750\n",
            "2  409Wp  1.022732  0.151990  1.419926   85.265647\n",
            "3  iJLyR -0.032172  0.139033  2.978566  168.620776\n",
            "4  Xdl7t  1.988431  0.155413  4.751769  154.036647\n",
            "\n",
            "Info\n",
            "<class 'pandas.core.frame.DataFrame'>\n",
            "RangeIndex: 100000 entries, 0 to 99999\n",
            "Data columns (total 5 columns):\n",
            "id         100000 non-null object\n",
            "f0         100000 non-null float64\n",
            "f1         100000 non-null float64\n",
            "f2         100000 non-null float64\n",
            "product    100000 non-null float64\n",
            "dtypes: float64(4), object(1)\n",
            "memory usage: 3.8+ MB\n",
            "None\n",
            "\n",
            "Duplicates\n",
            "0\n",
            "\n",
            "########################################\n",
            "First 5\n",
            "      id         f0         f1        f2     product\n",
            "0  kBEdx -15.001348  -8.276000 -0.005876    3.179103\n",
            "1  62mP7  14.272088  -3.475083  0.999183   26.953261\n",
            "2  vyE1P   6.263187  -5.948386  5.001160  134.766305\n",
            "3  KcrkZ -13.081196 -11.506057  4.999415  137.945408\n",
            "4  AHL4O  12.702195  -8.147433  5.004363  134.766305\n",
            "\n",
            "Info\n",
            "<class 'pandas.core.frame.DataFrame'>\n",
            "RangeIndex: 100000 entries, 0 to 99999\n",
            "Data columns (total 5 columns):\n",
            "id         100000 non-null object\n",
            "f0         100000 non-null float64\n",
            "f1         100000 non-null float64\n",
            "f2         100000 non-null float64\n",
            "product    100000 non-null float64\n",
            "dtypes: float64(4), object(1)\n",
            "memory usage: 3.8+ MB\n",
            "None\n",
            "\n",
            "Duplicates\n",
            "0\n",
            "\n",
            "########################################\n",
            "First 5\n",
            "      id        f0        f1        f2     product\n",
            "0  fwXo0 -1.146987  0.963328 -0.828965   27.758673\n",
            "1  WJtFt  0.262778  0.269839 -2.530187   56.069697\n",
            "2  ovLUW  0.194587  0.289035 -5.586433   62.871910\n",
            "3  q6cA6  2.236060 -0.553760  0.930038  114.572842\n",
            "4  WPMUX -0.515993  1.716266  5.899011  149.600746\n",
            "\n",
            "Info\n",
            "<class 'pandas.core.frame.DataFrame'>\n",
            "RangeIndex: 100000 entries, 0 to 99999\n",
            "Data columns (total 5 columns):\n",
            "id         100000 non-null object\n",
            "f0         100000 non-null float64\n",
            "f1         100000 non-null float64\n",
            "f2         100000 non-null float64\n",
            "product    100000 non-null float64\n",
            "dtypes: float64(4), object(1)\n",
            "memory usage: 3.8+ MB\n",
            "None\n",
            "\n",
            "Duplicates\n",
            "0\n",
            "\n",
            "########################################\n"
          ]
        }
      ],
      "source": [
        "for doc in (df0, df1, df2):\n",
        "    print(\"First 5\")\n",
        "    print(doc.head())\n",
        "    print()\n",
        "    print(\"Info\")\n",
        "    print(doc.info())\n",
        "    print()\n",
        "    print(\"Duplicates\")\n",
        "    print(doc.duplicated().sum())\n",
        "    print()\n",
        "    print(\"########################################\")"
      ]
    },
    {
      "cell_type": "code",
      "execution_count": null,
      "metadata": {
        "scrolled": true,
        "id": "OBGvsuz-yo1S",
        "outputId": "09088659-f365-477a-bf09-ace0ccbc7820"
      },
      "outputs": [
        {
          "name": "stdout",
          "output_type": "stream",
          "text": [
            "      id        f0        f1        f2     product\n",
            "0  txEyH  0.705745 -0.497823  1.221170  105.280062\n",
            "1  2acmU  1.334711 -0.340164  4.365080   73.037750\n",
            "2  409Wp  1.022732  0.151990  1.419926   85.265647\n",
            "3  iJLyR -0.032172  0.139033  2.978566  168.620776\n",
            "4  Xdl7t  1.988431  0.155413  4.751769  154.036647\n",
            "      id         f0         f1        f2     product\n",
            "0  kBEdx -15.001348  -8.276000 -0.005876    3.179103\n",
            "1  62mP7  14.272088  -3.475083  0.999183   26.953261\n",
            "2  vyE1P   6.263187  -5.948386  5.001160  134.766305\n",
            "3  KcrkZ -13.081196 -11.506057  4.999415  137.945408\n",
            "4  AHL4O  12.702195  -8.147433  5.004363  134.766305\n",
            "      id        f0        f1        f2     product\n",
            "0  fwXo0 -1.146987  0.963328 -0.828965   27.758673\n",
            "1  WJtFt  0.262778  0.269839 -2.530187   56.069697\n",
            "2  ovLUW  0.194587  0.289035 -5.586433   62.871910\n",
            "3  q6cA6  2.236060 -0.553760  0.930038  114.572842\n",
            "4  WPMUX -0.515993  1.716266  5.899011  149.600746\n"
          ]
        }
      ],
      "source": [
        "print(df0.head())\n",
        "print(df1.head())\n",
        "print(df2.head())"
      ]
    },
    {
      "cell_type": "markdown",
      "metadata": {
        "id": "XJ-9tFMgyo1T"
      },
      "source": [
        "### Summary.\n",
        "- Данные по каждому региону (регион 0 = df0, регион 1 = df1, регион 2 = df2) содержатся раздельно в соотетсвующих файлах.\n",
        "- Каждый регион представлен 100000 наблюдений. Пропусков и дубликатов не обнаружено.\n",
        "- Переменные хранятся в подходящих форматах."
      ]
    },
    {
      "cell_type": "markdown",
      "source": [
        "### Summary.\n",
        "- Data for each region (region 0 = df0, region 1 = df1, region 2 = df2) are contained separately in their respective files.\n",
        "- Each region is represented by 100,000 observations. No gaps or duplicates found.\n",
        "- Variables are stored in suitable formats."
      ],
      "metadata": {
        "id": "NoKoizg63sgV"
      }
    },
    {
      "cell_type": "markdown",
      "metadata": {
        "id": "YqrORvFVyo1T"
      },
      "source": [
        "<a id='Step_3'></a>\n",
        "# 2. Обучение и проверка модели\n",
        "\n",
        "#2 Train and validate the model"
      ]
    },
    {
      "cell_type": "markdown",
      "metadata": {
        "id": "J5vU_MaCyo1U"
      },
      "source": [
        "<a id='Step_4'></a>\n",
        "### Обучение модели.\n",
        "\n",
        "### Model training."
      ]
    },
    {
      "cell_type": "code",
      "execution_count": null,
      "metadata": {
        "scrolled": true,
        "id": "34meOCOAyo1U",
        "outputId": "f86b9ddb-7eb0-4a86-ae98-0e7dedef99fd"
      },
      "outputs": [
        {
          "data": {
            "text/html": [
              "<div>\n",
              "<style scoped>\n",
              "    .dataframe tbody tr th:only-of-type {\n",
              "        vertical-align: middle;\n",
              "    }\n",
              "\n",
              "    .dataframe tbody tr th {\n",
              "        vertical-align: top;\n",
              "    }\n",
              "\n",
              "    .dataframe thead th {\n",
              "        text-align: right;\n",
              "    }\n",
              "</style>\n",
              "<table border=\"1\" class=\"dataframe\">\n",
              "  <thead>\n",
              "    <tr style=\"text-align: right;\">\n",
              "      <th></th>\n",
              "      <th>Avg_pred_product</th>\n",
              "      <th>RMSE</th>\n",
              "      <th>R2</th>\n",
              "    </tr>\n",
              "  </thead>\n",
              "  <tbody>\n",
              "    <tr>\n",
              "      <td>0</td>\n",
              "      <td>92.398800</td>\n",
              "      <td>37.756600</td>\n",
              "      <td>0.276653</td>\n",
              "    </tr>\n",
              "    <tr>\n",
              "      <td>1</td>\n",
              "      <td>68.712878</td>\n",
              "      <td>0.890280</td>\n",
              "      <td>0.999624</td>\n",
              "    </tr>\n",
              "    <tr>\n",
              "      <td>2</td>\n",
              "      <td>94.771024</td>\n",
              "      <td>40.145872</td>\n",
              "      <td>0.199613</td>\n",
              "    </tr>\n",
              "  </tbody>\n",
              "</table>\n",
              "</div>"
            ],
            "text/plain": [
              "   Avg_pred_product       RMSE        R2\n",
              "0         92.398800  37.756600  0.276653\n",
              "1         68.712878   0.890280  0.999624\n",
              "2         94.771024  40.145872  0.199613"
            ]
          },
          "execution_count": 67,
          "metadata": {},
          "output_type": "execute_result"
        }
      ],
      "source": [
        "# Список для предсказаний.\n",
        "predictions_values= []\n",
        "# Список для средних предсказаний.\n",
        "predictions_means = []\n",
        "# Список для средних ошибок прогнозирования\n",
        "RMSE = []\n",
        "# Список для коэфициентов\n",
        "coefs = []\n",
        "# Список для R2.\n",
        "scores = []\n",
        "# Цикл для обучения моделй и получения предсказаний по всем трем регионам.\n",
        "for doc in (df0, df1, df2):\n",
        "    # Сохраним признаки.\n",
        "    features = doc[['f0', 'f1', 'f2']]\n",
        "    # сохраним целевую перменную.\n",
        "    target = doc['product']\n",
        "    # Разделем данные на обучение и валидацию.\n",
        "    features_train, features_valid, target_train, target_valid = train_test_split(features, target, \n",
        "                                                                                  test_size=0.25, random_state=42)\n",
        "    # Обучим модель. \n",
        "    reg = LinearRegression().fit(features_train, target_train)\n",
        "    # Получим предсказания\n",
        "    prediction = reg.predict(features_valid)\n",
        "    # Получим средние ошибки.\n",
        "    rmse = mean_squared_error(target_valid, prediction) ** 0.5\n",
        "    # Добавим предсказания в спискок.\n",
        "    predictions_values.append(prediction)\n",
        "    # Добавим средние предсказания в список.к\n",
        "    predictions_means.append(prediction.mean())\n",
        "    # Добавим средние ошибки в спискок. \n",
        "    RMSE.append(rmse)\n",
        "    # Добавим R2 в список.\n",
        "    scores.append(reg.score(features_train, target_train))\n",
        "    # Сделаем ДФ для средних, ошибок и R2.\n",
        "    reg_table = pd.DataFrame({\"Avg_pred_product\" : predictions_means, \"RMSE\" : RMSE, \"R2\" : scores})\n",
        "    # Добавим коэффициенты в список.\n",
        "    coefs.append(list(reg.coef_))\n",
        "    # Сделаем ДФ для коэффициентов.\n",
        "    coefs_table =  pd.DataFrame(coefs, columns=['coef_f0', 'coef_f1', 'coef_f2'])\n",
        "    # Напечатаем средние, ошибки и R2 а экране\n",
        "reg_table"
      ]
    },
    {
      "cell_type": "markdown",
      "metadata": {
        "id": "-KjDhAQRyo1V"
      },
      "source": [
        "Видим большой разброс и больше среднее у регионов 0 и 2. Маленький разброс и меньшее среднее у 1-ого региона. R2 слишком маленький у 0-ого и 2-ого региона.\n",
        "\n",
        "We see a large scatter and a larger average for regions 0 and 2. A small scatter and a smaller average for the 1st region. R2 is too small for the 0th and 2nd regions."
      ]
    },
    {
      "cell_type": "markdown",
      "metadata": {
        "id": "vg3ibMQIyo1V"
      },
      "source": [
        "<a id='Step_5'></a>\n",
        "### Анализ модели.\n",
        "\n",
        "### Analysis of the model."
      ]
    },
    {
      "cell_type": "markdown",
      "metadata": {
        "id": "HewVaxVdyo1W"
      },
      "source": [
        "#### Интерпритация коэфициентов.\n",
        "\n",
        "#### Interpretation of coefficients."
      ]
    },
    {
      "cell_type": "markdown",
      "metadata": {
        "id": "5cXNupTtyo1W"
      },
      "source": [
        "В данной ситуации, коэффициенты отлично итерпретируются. Разберем на примере 1-ого региона.\n",
        "\n",
        "In this situation, the coefficients are perfectly interpreted. Let's look at the example of the 1st region."
      ]
    },
    {
      "cell_type": "code",
      "execution_count": null,
      "metadata": {
        "scrolled": true,
        "id": "lIzXrXIlyo1W",
        "outputId": "5b31c595-4ec8-40d8-bf33-21970448799a"
      },
      "outputs": [
        {
          "name": "stdout",
          "output_type": "stream",
          "text": [
            "    coef_f0    coef_f1    coef_f2\n",
            "0  3.832254 -14.260473   6.593573\n",
            "1 -0.144913  -0.021672  26.953109\n",
            "2 -0.084158  -0.015461   5.750120\n"
          ]
        }
      ],
      "source": [
        "print(coefs_table)"
      ]
    },
    {
      "cell_type": "markdown",
      "metadata": {
        "id": "SQuSolxyyo1W"
      },
      "source": [
        "- С увеличением f0 на 1 ед. product снижается на -0.144913.\n",
        "- С увеличением f1 на 1 ед. product снижается на -0.021672.\n",
        "- С увеличением f2 на 1 ед. product увеличивается на 26.953109.\n",
        "- То есть в этом регионе наибольший вес из предствленных переменных имеет f2.\n",
        "- Можно заметить, что для 0-ого региона больший вес имеет f1, а для 2-ого f2."
      ]
    },
    {
      "cell_type": "markdown",
      "source": [
        "- With an increase in f0 by 1 unit. product goes down by -0.144913.\n",
        "- With an increase in f1 by 1 unit. product goes down by -0.021672.\n",
        "- With an increase in f2 by 1 unit. product increases by 26.953109.\n",
        "- That is, in this region, f2 has the greatest weight of the presented variables.\n",
        "- It can be seen that for the 0th region, f1 has more weight, and for the 2nd region, f2."
      ],
      "metadata": {
        "id": "otoieWQU4xDS"
      }
    },
    {
      "cell_type": "markdown",
      "metadata": {
        "id": "aJ6rRqy9yo1X"
      },
      "source": [
        "#### Сравнение результатов прогнозирования при помощи линейной регрессии с моделей среднего.\n",
        "\n",
        "#### Comparison of prediction results using linear regression from mean models."
      ]
    },
    {
      "cell_type": "markdown",
      "metadata": {
        "id": "Ktm-dW9Gyo1X"
      },
      "source": [
        "Попробуем в качестве прогноза использовать среднее.\n",
        "\n",
        "Let's try to use the average as a forecast."
      ]
    },
    {
      "cell_type": "code",
      "execution_count": null,
      "metadata": {
        "id": "8LPkxaINyo1Y",
        "outputId": "b0a6ac71-e88c-42e9-b9e2-e9f02a28300c"
      },
      "outputs": [
        {
          "name": "stdout",
          "output_type": "stream",
          "text": [
            "        RMSE        R2\n",
            "0  44.277235  0.226749\n",
            "1  45.944859  0.060432\n",
            "2  44.782777  0.199613\n"
          ]
        }
      ],
      "source": [
        "predictions = []\n",
        "RMSE = []\n",
        "scores = []\n",
        "for doc in (df0, df1, df2):\n",
        "    features = doc[['f0', 'f1', 'f2']]\n",
        "    target = doc['product']\n",
        "    features_train, features_valid, target_train, target_valid = train_test_split(features, target, \n",
        "                                                                                  test_size=0.25, random_state=42)\n",
        "    prediction = [target_train.mean()] * len(target_valid)\n",
        "    rmse = mean_squared_error(target_valid, prediction) ** 0.5\n",
        "    RMSE.append(rmse)\n",
        "    scores.append(reg.score(features_train, target_train))\n",
        "    reg_table = pd.DataFrame({\"RMSE\" : RMSE, \"R2\" : scores})\n",
        "print(reg_table)\n"
      ]
    },
    {
      "cell_type": "markdown",
      "metadata": {
        "id": "kZgQBq9xyo1Y"
      },
      "source": [
        "Для 0-ого и 2-ого региона мало что изменилось, а вот для 1-ого региона линейная регрессия намного лучше просто среднего.\n",
        "\n",
        "For the 0th and 2nd region, little has changed, but for the 1st region, the linear regression is much better than just the average."
      ]
    },
    {
      "cell_type": "markdown",
      "metadata": {
        "id": "Yt4uY0ZQyo1Y"
      },
      "source": [
        "#### Исследование на мультиколлинеарность. \n",
        "\n",
        "#### Research on multicollinearity."
      ]
    },
    {
      "cell_type": "markdown",
      "metadata": {
        "id": "3be2F5qqyo1Z"
      },
      "source": [
        "Мультиколлениарность увеличивает стандартные ошибки. Что бы ее выявить используют коэффициент вздутия дисперсии (VIF), который считается как регрессия на j-ой перменной на остальные переменные. VIF больще 10 свидетельсвует о возможном наличии мультиколлинеарности.\n",
        "\n",
        "Multicolleniality increases standard errors. To reveal it, the inflation factor of variance (VIF) is used, which is considered as a regression on the j-th variable on the remaining variables. VIF greater than 10 indicates the possible presence of multicollinearity.\n"
      ]
    },
    {
      "cell_type": "markdown",
      "metadata": {
        "id": "KDtXy1Ieyo1Z"
      },
      "source": [
        "Теоритических оснвоаний для подозорения переменных на мультиколлинеарность у меня нет, но я проверю ради опыта. \n",
        "\n",
        "I have no theoretical basis for suspecting variables for multicollinearity, but I will check for the sake of experience."
      ]
    },
    {
      "cell_type": "code",
      "execution_count": null,
      "metadata": {
        "scrolled": false,
        "id": "x_B5eT8eyo1Z",
        "outputId": "395ec8d8-4eed-49d8-9283-8e4f5190409a"
      },
      "outputs": [
        {
          "name": "stdout",
          "output_type": "stream",
          "text": [
            "VIF-ы для переменных 0-ого региона\n",
            "1.157011142815797\n",
            "1.1359994455991602\n",
            "1.231341538646144\n",
            "\n",
            "VIF-ы для переменных 1-ого региона\n",
            "1.027315592291686\n",
            "1.4945909857898279\n",
            "1.5075610902870005\n",
            "\n",
            "VIF-ы для переменных 2-ого региона\n",
            "1.0000003783447908\n",
            "1.0000002823930898\n",
            "1.0000001055140126\n"
          ]
        }
      ],
      "source": [
        "print('VIF-ы для переменных 0-ого региона')\n",
        "for exog_idx in range(0,3):\n",
        "    print(oi.variance_inflation_factor(np.array(df0[['f0', 'f1', 'f2']]), exog_idx))\n",
        "print(\"\")\n",
        "print('VIF-ы для переменных 1-ого региона')\n",
        "for exog_idx in range(0,3):\n",
        "    print(oi.variance_inflation_factor(np.array(df1[['f0', 'f1', 'f2']]), exog_idx))\n",
        "print(\"\")\n",
        "print('VIF-ы для переменных 2-ого региона')\n",
        "for exog_idx in range(0,3):\n",
        "    print(oi.variance_inflation_factor(np.array(df2[['f0', 'f1', 'f2']]), exog_idx))"
      ]
    },
    {
      "cell_type": "markdown",
      "metadata": {
        "id": "cJQU8phtyo1a"
      },
      "source": [
        "Вероятно, мультиколлинеарность отсутсвут: все VIF-ы меньше 10.\n",
        "\n",
        "There is probably no multicollinearity: all VIFs are less than 10."
      ]
    },
    {
      "cell_type": "markdown",
      "metadata": {
        "id": "KSVCqyOwyo1b"
      },
      "source": [
        "### Summary.\n",
        "- Были построенны регрессии для трех регионов: удоволитворительный результат сточки зрения R2, был получен только для 1-ого.\n",
        "- Наибольшие средние значения предсказанных значений целевой переменной находятся в 0-ом и 2-ом регионах.\n",
        "- Наибольшие дисперсии предсказанных значений целевой переменной находятся в 0-ом и 2-ом регионах.\n",
        "- 1-ый регион намнрго более предсказуем, но от него не приходится ждать больших значений целевой переменной.\n",
        "- Регрессия сработала лучше модели средних.\n",
        "- Коэффициенты были проинтерпретированны.\n",
        "- Теоретических оснований мультиколлинеарности нет; подсчет VIF это подтверждает. "
      ]
    },
    {
      "cell_type": "markdown",
      "source": [
        "### Summary.\n",
        "- Regressions were built for three regions: a satisfactory result from the point of view of R2 was obtained only for the 1st.\n",
        "- The largest average values ​​of the predicted values ​​of the target variable are in the 0th and 2nd regions.\n",
        "- The largest variances of the predicted values ​​of the target variable are in the 0th and 2nd regions.\n",
        "- The 1st region is much more predictable, but one should not expect large values ​​of the target variable from it.\n",
        "- The regression performed better than the mean model.\n",
        "- The coefficients have been interpreted.\n",
        "- There are no theoretical grounds for multicollinearity; the VIF count confirms this."
      ],
      "metadata": {
        "id": "p5O2Nl2g9Flc"
      }
    },
    {
      "cell_type": "markdown",
      "metadata": {
        "id": "IO7kTmCxyo1b"
      },
      "source": [
        "<a id='Step_6'></a>\n",
        "# 3. Подготовка к расчёту прибыли\n",
        "\n",
        "# 3. Preparing to Calculate Profits"
      ]
    },
    {
      "cell_type": "markdown",
      "metadata": {
        "id": "xVqXkFaPyo1c"
      },
      "source": [
        "Добавим условия задачи в отдельные переменные. \n",
        "\n",
        "Let's add the task conditions to separate variables."
      ]
    },
    {
      "cell_type": "code",
      "execution_count": null,
      "metadata": {
        "id": "WK3NjhyDyo1c"
      },
      "outputs": [],
      "source": [
        "budget = 10000000000\n",
        "proceeds_per_barrel = 450000\n",
        "fields_to_explore = 500\n",
        "fields_to_develop = 200\n",
        "lesion_proba_threshold = .025"
      ]
    },
    {
      "cell_type": "markdown",
      "metadata": {
        "id": "qXst6zlAyo1d"
      },
      "source": [
        "Посчитаем минимальный объем сырья в регионе, необходимый для покрытия потраченного бюджета.\n",
        "\n",
        "Let's calculate the minimum amount of raw materials in the region necessary to cover the spent budget."
      ]
    },
    {
      "cell_type": "code",
      "execution_count": null,
      "metadata": {
        "id": "eaThZNFmyo1d",
        "outputId": "6eb837fa-b2fb-45de-c32e-79fb4e97da85"
      },
      "outputs": [
        {
          "name": "stdout",
          "output_type": "stream",
          "text": [
            "Минимальный объем нефти в скважине для окупаемости затрат: 111.11 баррелей.\n"
          ]
        }
      ],
      "source": [
        "min_product_per_field = budget / proceeds_per_barrel / 200\n",
        "print('Минимальный объем нефти в скважине для окупаемости затрат: {:.2f} баррелей.'.format(min_product_per_field))"
      ]
    },
    {
      "cell_type": "markdown",
      "source": [
        "Minimum volume of oil in the well for cost recovery: 111.11 barrels."
      ],
      "metadata": {
        "id": "Du51-eg69tzK"
      }
    },
    {
      "cell_type": "code",
      "execution_count": null,
      "metadata": {
        "id": "mSHSFcWSyo1d",
        "outputId": "b99ee2ce-f0a1-42a4-c20e-9b9f76f3f78f"
      },
      "outputs": [
        {
          "name": "stdout",
          "output_type": "stream",
          "text": [
            "Минимальный объем нефти в скважине для окупаемости затрат больше среднего запаса в регионе 0 на 18.61 баррелей.\n",
            "Минимальный объем нефти в скважине для окупаемости затрат больше среднего запаса в регионе 1 на 42.29 баррелей.\n",
            "Минимальный объем нефти в скважине для окупаемости затрат больше среднего запаса в регионе 2 на 16.11 баррелей.\n"
          ]
        }
      ],
      "source": [
        "j = -1\n",
        "for doc in (df0, df1, df2):\n",
        "    j += 1\n",
        "    print('Минимальный объем нефти в скважине для окупаемости затрат больше среднего запаса в регионе {} на {:.2f} баррелей.'\n",
        "          .format((j), (min_product_per_field - doc['product'].mean())))"
      ]
    },
    {
      "cell_type": "markdown",
      "source": [
        "The minimum volume of oil in the well for cost recovery is 18.61 barrels more than the average reserve in region 0.\n",
        "The minimum volume of oil in the well for cost recovery is 42.29 barrels more than the average reserve in region 1.\n",
        "The minimum volume of oil in the well for cost recovery is 16.11 barrels more than the average reserve in region 2."
      ],
      "metadata": {
        "id": "-ogGD4ug9177"
      }
    },
    {
      "cell_type": "markdown",
      "metadata": {
        "id": "otlDvwLByo1e"
      },
      "source": [
        "### Summary.\n",
        "- Минимально в скважене должно быть 111.11 баррелей нефти.\n",
        "- В среднем скважена в любом регионе убыточна - необходимо тщательно подбирать скважены.\n",
        "\n",
        "### Summary.\n",
        "- The minimum well should be 111.11 barrels of oil.\n",
        "- On average, a well in any region is unprofitable - it is necessary to carefully select wells."
      ]
    },
    {
      "cell_type": "markdown",
      "metadata": {
        "id": "zeb7uX0qyo1e"
      },
      "source": [
        "<a id='Step_7'></a>\n",
        "# 4. Расчёт прибыли и рисков \n",
        "\n",
        "# 4. Profit and Risk Calculation"
      ]
    },
    {
      "cell_type": "markdown",
      "metadata": {
        "id": "2VbWrAOpyo1e"
      },
      "source": [
        "Напишем функцию для подсчета прибыли.\n",
        "\n",
        "Let's write a function to calculate profit."
      ]
    },
    {
      "cell_type": "code",
      "execution_count": null,
      "metadata": {
        "id": "K1sqplhHyo1f"
      },
      "outputs": [],
      "source": [
        "def revenue(pred, target, proceeds_per_barrel, fields_to_develop):\n",
        "    # Принимает на вход предсказания, фактические значения, цену за 1 тыс. баррелей, количество точек для разработки.\n",
        "    # Выбираем количество точк для разработки с нивысшими значениями предсказаний.\n",
        "    pred_sorted = pred.sort_values(ascending=False)[:fields_to_develop]\n",
        "    # Получаем фактические значения целевого признака на этих точках.\n",
        "    target_selected = target[pred_sorted.index]\n",
        "    # Считаем сколько прибыли было бы получено.\n",
        "    return proceeds_per_barrel * target_selected.sum() - budget"
      ]
    },
    {
      "cell_type": "markdown",
      "metadata": {
        "id": "Wq13FOvXyo1f"
      },
      "source": [
        "<a id='Step_8'></a>\n",
        "### Регион 0."
      ]
    },
    {
      "cell_type": "code",
      "execution_count": null,
      "metadata": {
        "scrolled": true,
        "id": "UWKYggvOyo1g",
        "outputId": "652dfe48-0662-43e0-e78d-5cdc01ec1339"
      },
      "outputs": [
        {
          "name": "stdout",
          "output_type": "stream",
          "text": [
            "Регион 0.\n",
            "Среднее значение прибыли: 330492697.5888724\n",
            "-212423247.87151995\n",
            "909646913.7112546\n"
          ]
        }
      ],
      "source": [
        "# Получим предсказания по всему региону. \n",
        "pred_df0 = pd.Series(reg.predict(df0[['f0', 'f1', 'f2']]))\n",
        "# Установим псевдослучайность.\n",
        "state = np.random.RandomState(12345)\n",
        "# Создадим пустой список для сохранения значений прибыли.\n",
        "values_df0 = []\n",
        "# Цикл, который считает предпологаемую прибыль.\n",
        "for i in range(1000):\n",
        "    # Делаем будстреп 500 точек из всех точек в регионе.\n",
        "    target_subsample_df0 = df0['product'].sample(fields_to_explore, random_state=state, replace=True)\n",
        "    # Получаем предсказания, которые мы бы получили для этих точек. \n",
        "    pred_subsample_df0 = pred_df0[target_subsample_df0.index] \n",
        "    # Считаем прибыль.\n",
        "    values_df0.append(revenue(pred_subsample_df0, target_subsample_df0, proceeds_per_barrel, fields_to_develop))\n",
        "# Сохранияем в сериес для удобства.\n",
        "values_df0 = pd.Series(values_df0)\n",
        "# Считаем среднее прибыли.\n",
        "mean_value_df0 = values_df0.mean()\n",
        "print(\"Регион 0.\")\n",
        "print(\"Среднее значение прибыли:\", mean_value_df0)\n",
        "# Выводим 95% доверительный интервал.\n",
        "lower_df0 = values_df0.quantile(0.025)\n",
        "upper_df0 = values_df0.quantile(0.975)\n",
        "print(lower_df0)\n",
        "print(upper_df0)"
      ]
    },
    {
      "cell_type": "markdown",
      "source": [
        "Region 0.\n",
        "\n",
        "Average Profit: 330492697.5888724\n",
        "\n",
        "95% confidence interval:\n",
        "\n",
        "-212423247.87151995\n",
        "\n",
        "909646913.7112546"
      ],
      "metadata": {
        "id": "yMusLsX9-bIT"
      }
    },
    {
      "cell_type": "markdown",
      "metadata": {
        "id": "ZOlU_2GVyo1g"
      },
      "source": [
        "Посмотрим на риск получения убытка: выручка меньше 10 млрд.р..\n",
        "\n",
        "Let's look at the risk of loss: revenue is less than 10 billion rubles."
      ]
    },
    {
      "cell_type": "code",
      "execution_count": null,
      "metadata": {
        "scrolled": false,
        "id": "lqlJDiAJyo1h",
        "outputId": "a93a9c83-8767-4fbd-a2d8-327650e7b144"
      },
      "outputs": [
        {
          "name": "stdout",
          "output_type": "stream",
          "text": [
            "Регион 0.\n",
            "Вероятность получить убыток: 0.119\n",
            "Максимально допустимая вероятность получить убыток: 0.025\n"
          ]
        }
      ],
      "source": [
        "risk_df0 = (values_df0<0).sum()/len(values_df0)\n",
        "print(\"Регион 0.\")\n",
        "print(\"Вероятность получить убыток:\", risk_df0)\n",
        "print(\"Максимально допустимая вероятность получить убыток:\", lesion_proba_threshold)"
      ]
    },
    {
      "cell_type": "markdown",
      "source": [
        "Region 0.\n",
        "\n",
        "Probability of getting a loss: 0.119\n",
        "\n",
        "Maximum allowable probability of taking a loss: 0.025"
      ],
      "metadata": {
        "id": "ZjYMUuXL-1rX"
      }
    },
    {
      "cell_type": "markdown",
      "metadata": {
        "id": "mjMNP_g-yo1h"
      },
      "source": [
        "Получили вероятность ниже пороговой. \n",
        "\n",
        "Недопустимый риск убытка обнаружен. \n",
        "\n",
        "We got a probability below the threshold.\n",
        "\n",
        "An unacceptable risk of loss has been detected."
      ]
    },
    {
      "cell_type": "markdown",
      "metadata": {
        "id": "4bl3tb1Cyo1i"
      },
      "source": [
        "<a id='Step_9'></a>\n",
        "### Регион 1.\n",
        "\n",
        "### Region 1."
      ]
    },
    {
      "cell_type": "code",
      "execution_count": null,
      "metadata": {
        "scrolled": true,
        "id": "BoAgUOlkyo1i",
        "outputId": "a9984e4a-8286-418e-de80-4e60ca57fe47"
      },
      "outputs": [
        {
          "name": "stdout",
          "output_type": "stream",
          "text": [
            "Регион 1.\n",
            "Среднее значение прибыли: 498769860.17802864\n",
            "73741917.31029607\n",
            "896096796.3533735\n"
          ]
        }
      ],
      "source": [
        "# Получим предсказания по всему региону. \n",
        "pred_df1 = pd.Series(reg.predict(df1[['f0', 'f1', 'f2']]))\n",
        "# Установим псевдослучайность.\n",
        "state = np.random.RandomState(12345)\n",
        "# Создадим пустой список для сохранения значений прибыли.\n",
        "values_df1 = []\n",
        "# Цикл, который считает предпологаемую прибыль.\n",
        "for i in range(1000):\n",
        "    # Делаем будстреп 500 точек из всех точек в регионе.\n",
        "    target_subsample_df1 = df1['product'].sample(fields_to_explore, random_state=state, replace=True)\n",
        "    # Получаем предсказания, которые мы бы получили для этих точек. \n",
        "    pred_subsample_df1 = pred_df1[target_subsample_df1.index] \n",
        "    # Считаем прибыль.\n",
        "    values_df1.append(revenue(pred_subsample_df1, target_subsample_df1, proceeds_per_barrel, fields_to_develop))\n",
        "# Сохранияем в сериес для удобства.\n",
        "values_df1 = pd.Series(values_df1)\n",
        "# Считаем среднее прибыли.\n",
        "mean_value_df1 = values_df1.mean()\n",
        "print(\"Регион 1.\")\n",
        "print(\"Среднее значение прибыли:\", mean_value_df1)\n",
        "# Выводим 95% доверительный интервал.\n",
        "lower_df1 = values_df1.quantile(0.025)\n",
        "upper_df1 = values_df1.quantile(0.975)\n",
        "print(lower_df1)\n",
        "print(upper_df1)"
      ]
    },
    {
      "cell_type": "markdown",
      "source": [
        "Region 1.\n",
        "\n",
        "Average Profit: 498769860.17802864\n",
        "\n",
        "95% confidence interval:\n",
        "\n",
        "73741917.31029607\n",
        "\n",
        "896096796.3533735"
      ],
      "metadata": {
        "id": "hzlhxf2J_Hlz"
      }
    },
    {
      "cell_type": "markdown",
      "metadata": {
        "id": "2v_p4k9kyo1i"
      },
      "source": [
        "Посмотрим на риск получения убытка (отрицательная прибыль).\n",
        "\n",
        "Let's look at the risk of loss (negative profit)."
      ]
    },
    {
      "cell_type": "code",
      "execution_count": null,
      "metadata": {
        "scrolled": true,
        "id": "GxAlbNUVyo1i",
        "outputId": "1ec525bb-c894-4571-bef6-7497459a66f5"
      },
      "outputs": [
        {
          "name": "stdout",
          "output_type": "stream",
          "text": [
            "Регион 1.\n",
            "Вероятность получить убыток: 0.013\n",
            "Максимально допустимая вероятность получить убыток: 0.025\n"
          ]
        }
      ],
      "source": [
        "risk_df1 = (values_df1<0).sum()/len(values_df1)\n",
        "print(\"Регион 1.\")\n",
        "print(\"Вероятность получить убыток:\", risk_df1)\n",
        "print(\"Максимально допустимая вероятность получить убыток:\", lesion_proba_threshold)"
      ]
    },
    {
      "cell_type": "markdown",
      "source": [
        "Region 1.\n",
        "\n",
        "Probability of making a loss: 0.013\n",
        "\n",
        "Maximum allowable probability of taking a loss: 0.025"
      ],
      "metadata": {
        "id": "WAOhxm3y_nmg"
      }
    },
    {
      "cell_type": "markdown",
      "metadata": {
        "id": "fv_g7wHeyo1j"
      },
      "source": [
        "Риск убытка в пределах допустимого порога.\n",
        "\n",
        "Risk of loss within acceptable threshold."
      ]
    },
    {
      "cell_type": "markdown",
      "metadata": {
        "id": "zZPLfI7Ryo1j"
      },
      "source": [
        "<a id='Step_10'></a>\n",
        "### Регион 2.\n",
        "\n",
        "### Region 2."
      ]
    },
    {
      "cell_type": "code",
      "execution_count": null,
      "metadata": {
        "id": "622E1-ftyo1j",
        "outputId": "b7ac3c88-d978-474e-b002-6fc782216950"
      },
      "outputs": [
        {
          "name": "stdout",
          "output_type": "stream",
          "text": [
            "Регион 2.\n",
            "Среднее значение прибыли: 425107170.35025847\n",
            "-151353761.24355105\n",
            "965553593.1619681\n"
          ]
        }
      ],
      "source": [
        "# Получим предсказания по всему региону. \n",
        "pred_df2 = pd.Series(reg.predict(df2[['f0', 'f1', 'f2']]))\n",
        "# Установим псевдослучайность.\n",
        "state = np.random.RandomState(12345)\n",
        "# Создадим пустой список для сохранения значений прибыли.\n",
        "values_df2 = []\n",
        "# Цикл, который считает предпологаемую прибыль.\n",
        "for i in range(1000):\n",
        "    # Делаем будстреп 500 точек из всех точек в регионе.\n",
        "    target_subsample_df2 = df2['product'].sample(fields_to_explore, random_state=state, replace=True)\n",
        "    # Получаем предсказания, которые мы бы получили для этих точек. \n",
        "    pred_subsample_df2 = pred_df2[target_subsample_df2.index] \n",
        "    # Считаем прибыль.\n",
        "    values_df2.append(revenue(pred_subsample_df2, target_subsample_df2, proceeds_per_barrel, fields_to_develop))\n",
        "# Сохранияем в сериес для удобства.\n",
        "values_df2 = pd.Series(values_df2)\n",
        "# Считаем среднее прибыли.\n",
        "mean_value_df2 = values_df2.mean()\n",
        "print(\"Регион 2.\")\n",
        "print(\"Среднее значение прибыли:\", mean_value_df2)\n",
        "# Выводим 95% доверительный интервал.\n",
        "lower_df2 = values_df2.quantile(0.025)\n",
        "upper_df2 = values_df2.quantile(0.975)\n",
        "print(lower_df2)\n",
        "print(upper_df2)"
      ]
    },
    {
      "cell_type": "markdown",
      "source": [
        "Region 2.\n",
        "\n",
        "Average Profit: 425107170.35025847\n",
        "\n",
        "-151353761.24355105\n",
        "\n",
        "965553593.1619681"
      ],
      "metadata": {
        "id": "j3WQj7xJ_vmO"
      }
    },
    {
      "cell_type": "markdown",
      "metadata": {
        "id": "aBx7h8Cbyo1k"
      },
      "source": [
        "Посмотрим на риск получения убытка.\n",
        "\n",
        "Let's look at the risk of loss."
      ]
    },
    {
      "cell_type": "code",
      "execution_count": null,
      "metadata": {
        "scrolled": true,
        "id": "BwST8_U_yo1k",
        "outputId": "b2554fa0-71d7-42d7-b957-82ca6fd24aac"
      },
      "outputs": [
        {
          "name": "stdout",
          "output_type": "stream",
          "text": [
            "Регион 2.\n",
            "Вероятность получить убыток: 0.078\n",
            "Максимально допустимая вероятность получить убыток: 0.025\n"
          ]
        }
      ],
      "source": [
        "risk_df2 = (values_df2<0).sum()/len(values_df2)\n",
        "print(\"Регион 2.\")\n",
        "print(\"Вероятность получить убыток:\", risk_df2)\n",
        "print(\"Максимально допустимая вероятность получить убыток:\", lesion_proba_threshold)"
      ]
    },
    {
      "cell_type": "markdown",
      "source": [
        "Region 2.\n",
        "\n",
        "Probability of getting a loss: 0.078\n",
        "\n",
        "Maximum allowable probability of taking a loss: 0.025"
      ],
      "metadata": {
        "id": "kt9sCdl2_7hC"
      }
    },
    {
      "cell_type": "markdown",
      "metadata": {
        "id": "4fVTztE7yo1k"
      },
      "source": [
        "Недопустимый риск убытка обнаружен. \n",
        "\n",
        "An unacceptable risk of loss has been detected."
      ]
    },
    {
      "cell_type": "markdown",
      "metadata": {
        "id": "cs0L8T3Vyo1l"
      },
      "source": [
        "## Сведем результаты в таблицу.\n",
        "\n",
        "## Let's summarize the results in a table."
      ]
    },
    {
      "cell_type": "code",
      "execution_count": null,
      "metadata": {
        "id": "ALOQXEz4yo1l",
        "outputId": "f9b475c9-fde4-4e5a-cf51-8c39adee5b9e"
      },
      "outputs": [
        {
          "data": {
            "text/html": [
              "<div>\n",
              "<style scoped>\n",
              "    .dataframe tbody tr th:only-of-type {\n",
              "        vertical-align: middle;\n",
              "    }\n",
              "\n",
              "    .dataframe tbody tr th {\n",
              "        vertical-align: top;\n",
              "    }\n",
              "\n",
              "    .dataframe thead th {\n",
              "        text-align: right;\n",
              "    }\n",
              "</style>\n",
              "<table border=\"1\" class=\"dataframe\">\n",
              "  <thead>\n",
              "    <tr style=\"text-align: right;\">\n",
              "      <th></th>\n",
              "      <th>lower_int</th>\n",
              "      <th>upper_int</th>\n",
              "      <th>avg_profit</th>\n",
              "      <th>risk</th>\n",
              "      <th>is_over_threshold</th>\n",
              "    </tr>\n",
              "  </thead>\n",
              "  <tbody>\n",
              "    <tr>\n",
              "      <td>0</td>\n",
              "      <td>-2.124232e+08</td>\n",
              "      <td>9.096469e+08</td>\n",
              "      <td>3.304927e+08</td>\n",
              "      <td>0.119</td>\n",
              "      <td>1</td>\n",
              "    </tr>\n",
              "    <tr>\n",
              "      <td>1</td>\n",
              "      <td>7.374192e+07</td>\n",
              "      <td>8.960968e+08</td>\n",
              "      <td>4.987699e+08</td>\n",
              "      <td>0.013</td>\n",
              "      <td>0</td>\n",
              "    </tr>\n",
              "    <tr>\n",
              "      <td>2</td>\n",
              "      <td>-1.513538e+08</td>\n",
              "      <td>9.655536e+08</td>\n",
              "      <td>4.251072e+08</td>\n",
              "      <td>0.078</td>\n",
              "      <td>1</td>\n",
              "    </tr>\n",
              "  </tbody>\n",
              "</table>\n",
              "</div>"
            ],
            "text/plain": [
              "      lower_int     upper_int    avg_profit   risk  is_over_threshold\n",
              "0 -2.124232e+08  9.096469e+08  3.304927e+08  0.119                  1\n",
              "1  7.374192e+07  8.960968e+08  4.987699e+08  0.013                  0\n",
              "2 -1.513538e+08  9.655536e+08  4.251072e+08  0.078                  1"
            ]
          },
          "execution_count": 93,
          "metadata": {},
          "output_type": "execute_result"
        }
      ],
      "source": [
        "lower = [lower_df0, lower_df1, lower_df2]\n",
        "upper = [upper_df0, upper_df1, upper_df2]\n",
        "avg_profit = [values_df0.mean(), values_df1.mean(), values_df2.mean()]\n",
        "risk = [risk_df0, risk_df1, risk_df2]\n",
        "result_df = pd.DataFrame({\"lower_int\" : lower, \"upper_int\" : upper, \"avg_profit\" : avg_profit, \"risk\" : risk})\n",
        "result_df[\"is_over_threshold\"] = result_df['risk'].apply(lambda x: 1 if x > lesion_proba_threshold else 0) \n",
        "result_df"
      ]
    },
    {
      "cell_type": "markdown",
      "metadata": {
        "id": "CYrPNbV3yo1l"
      },
      "source": [
        "## Общий вывод.\n",
        "- Была подготовлена модель регрессии для получения предсказаний целеовго признака по трем перменным.\n",
        "- При при помощи модели и техники будстреп была определена средняя ожидаемая прибыль для каждого региона, а также доверительный интервал и риск получения убытка.\n",
        "- Риск получения убытка оказался ниже порога только в регионе 1 со средней ожидаемой прибылью 498769860 рублей."
      ]
    },
    {
      "cell_type": "markdown",
      "source": [
        "## General conclusion.\n",
        "- A regression model was prepared to obtain target attribute predictions for three variables.\n",
        "- Using the bootstrap model and technique, the average expected profit for each region was determined, as well as the confidence interval and the risk of loss.\n",
        "- The risk of loss was below the threshold only in region 1 with an average expected profit of 498769860 rubles."
      ],
      "metadata": {
        "id": "0HmJeJ9IAK9s"
      }
    }
  ],
  "metadata": {
    "kernelspec": {
      "display_name": "Python 3 (ipykernel)",
      "language": "python",
      "name": "python3"
    },
    "language_info": {
      "codemirror_mode": {
        "name": "ipython",
        "version": 3
      },
      "file_extension": ".py",
      "mimetype": "text/x-python",
      "name": "python",
      "nbconvert_exporter": "python",
      "pygments_lexer": "ipython3",
      "version": "3.9.5"
    },
    "toc": {
      "base_numbering": 1,
      "nav_menu": {},
      "number_sections": true,
      "sideBar": true,
      "skip_h1_title": false,
      "title_cell": "Table of Contents",
      "title_sidebar": "Contents",
      "toc_cell": false,
      "toc_position": {},
      "toc_section_display": true,
      "toc_window_display": false
    },
    "colab": {
      "name": "8th_project_oil_well.ipynb",
      "provenance": []
    }
  },
  "nbformat": 4,
  "nbformat_minor": 0
}