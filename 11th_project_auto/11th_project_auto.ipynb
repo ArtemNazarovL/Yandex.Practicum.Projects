{
  "cells": [
    {
      "cell_type": "markdown",
      "metadata": {
        "id": "AtsgaF6eDWo8"
      },
      "source": [
        "# Определение стоимости автомобилей\n",
        "\n",
        "# Determining the cost of cars"
      ]
    },
    {
      "cell_type": "markdown",
      "metadata": {
        "id": "_oQay2NrDWo8"
      },
      "source": [
        "## Оглавление\n",
        "- [Шаг 0. Описание проекта.](#Step_1)\n",
        "- [Шаг 1. Подготовка данных.](#Step_2)\n",
        "[Пункт 1.1. Изучение файлов.](#Step_3) <br />\n",
        "[Пункт 1.2. Обработка данных.](#Step_4) <br />\n",
        "- [Шаг 2. Обучение моделей.](#Step_5)<br />\n",
        "[Пункт 2.1. Регрессия.](#Step_6) <br />\n",
        "[Пункт 2.2. Случайный лес.](#Step_7) <br />\n",
        "[Пункт 2.3. Градиентный бустинг.](#Step_8) <br />\n",
        "- [Шаг 3. Анализ моделей.](#Step_9)<br />\n",
        "[Пункт 3.1. Регрессия.](#Step_10) <br />\n",
        "[Пункт 3.2. Случайный лес.](#Step_11) <br />\n",
        "[Пункт 3.3. Градиентный бустинг.](#Step_12) <br />"
      ]
    },
    {
      "cell_type": "markdown",
      "source": [
        "## Table of contents\n",
        "- [Step 0. Description of the project.](#Step_1)\n",
        "- [Step 1. Data preparation.](#Step_2)\n",
        "[Clause 1.1. Examining files.](#Step_3) <br />\n",
        "[Clause 1.2. Data processing.](#Step_4) <br />\n",
        "- [Step 2. Train models.](#Step_5)<br />\n",
        "[Clause 2.1. Regression.](#Step_6) <br />\n",
        "[Clause 2.2. Random forest.](#Step_7) <br />\n",
        "[Clause 2.3. Gradient boosting.](#Step_8) <br />\n",
        "- [Step 3. Model analysis.](#Step_9)<br />\n",
        "[Clause 3.1. Regression.](#Step_10) <br />\n",
        "[Clause 3.2. Random forest.](#Step_11) <br />\n",
        "[Clause 3.3. Gradient boosting.](#Step_12) <br />"
      ],
      "metadata": {
        "id": "9Pn_ZLF5GHy0"
      }
    },
    {
      "cell_type": "markdown",
      "source": [
        "<a id='Step_1'></a>\n",
        "Необходимо построить модель, сопосбную предсказать стоимость автомобиля, на основе его параметров. Нам доступны исторические данные. Эта модель будет использована в приложении сервиса по продаже автомобилей с пробегом. \n",
        "\n",
        "В этом проекте важны: качество предсказайний, их скорость и время обучения.\n",
        "\n",
        "It is necessary to build a model capable of predicting the cost of a car based on its parameters. We have historical data available. This model will be used in the application of the service for the sale of used cars.\n",
        "\n",
        "In this project, the quality of predictions, their speed and training time are important."
      ],
      "metadata": {
        "id": "wb3sLZliFw9j"
      }
    },
    {
      "cell_type": "markdown",
      "metadata": {
        "id": "nVMe9KbADWo9"
      },
      "source": [
        "<a id='Step_2'></a>\n",
        "# 1. Подготовка данных\n",
        "\n",
        "# 1. Data preparation"
      ]
    },
    {
      "cell_type": "markdown",
      "metadata": {
        "id": "r9gCOgZ-DWo-"
      },
      "source": [
        "<a id='Step_3'></a>\n",
        "## 1.1. Изучение данных.\n",
        "\n",
        "## 1.1. Data exploration."
      ]
    },
    {
      "cell_type": "markdown",
      "metadata": {
        "id": "vVREEfygDWo-"
      },
      "source": [
        "Загрузка библиотек.\n",
        "\n",
        "Loading libraries."
      ]
    },
    {
      "cell_type": "code",
      "execution_count": null,
      "metadata": {
        "id": "S_AvEBdZDWo-"
      },
      "outputs": [],
      "source": [
        "import pandas as pd\n",
        "import numpy as np\n",
        "from sklearn.model_selection import train_test_split\n",
        "from sklearn.linear_model import Ridge\n",
        "from sklearn.ensemble import RandomForestRegressor\n",
        "import lightgbm as lgb\n",
        "from lightgbm import LGBMRegressor\n",
        "from sklearn.metrics import mean_squared_error\n",
        "from sklearn.metrics import make_scorer\n",
        "from sklearn.model_selection import GridSearchCV\n",
        "import itertools\n",
        "from sklearn.preprocessing import StandardScaler"
      ]
    },
    {
      "cell_type": "markdown",
      "metadata": {
        "id": "kbJtwbm9DWo_"
      },
      "source": [
        "Загрузка файла.\n",
        "\n",
        "Loading libraries."
      ]
    },
    {
      "cell_type": "code",
      "execution_count": null,
      "metadata": {
        "id": "8NxesBjaDWo_"
      },
      "outputs": [],
      "source": [
        "df = pd.read_csv('https://code.s3.yandex.net/datasets/autos.csv')"
      ]
    },
    {
      "cell_type": "markdown",
      "metadata": {
        "id": "u2EGpKW9DWo_"
      },
      "source": [
        "Пропуски:\n",
        "\n",
        "Passes:"
      ]
    },
    {
      "cell_type": "code",
      "execution_count": null,
      "metadata": {
        "scrolled": false,
        "id": "DF_AtHlFDWo_",
        "outputId": "a198038c-c683-447d-ccb5-4916d5305274"
      },
      "outputs": [
        {
          "data": {
            "text/plain": [
              "DateCrawled              0\n",
              "Price                    0\n",
              "VehicleType          37490\n",
              "RegistrationYear         0\n",
              "Gearbox              19833\n",
              "Power                    0\n",
              "Model                19705\n",
              "Kilometer                0\n",
              "RegistrationMonth        0\n",
              "FuelType             32895\n",
              "Brand                    0\n",
              "NotRepaired          71154\n",
              "DateCreated              0\n",
              "NumberOfPictures         0\n",
              "PostalCode               0\n",
              "LastSeen                 0\n",
              "dtype: int64"
            ]
          },
          "execution_count": 3,
          "metadata": {},
          "output_type": "execute_result"
        }
      ],
      "source": [
        "df.isna().sum()"
      ]
    },
    {
      "cell_type": "markdown",
      "metadata": {
        "id": "LxD6FmK-DWpA"
      },
      "source": [
        "Описание переменных.\n",
        "\n",
        "Description of variables."
      ]
    },
    {
      "cell_type": "code",
      "execution_count": null,
      "metadata": {
        "id": "2Rrx5DPmDWpA",
        "outputId": "8cd6dbf7-8d8b-433b-f562-f31153c5b544"
      },
      "outputs": [
        {
          "data": {
            "text/html": [
              "<div>\n",
              "<style scoped>\n",
              "    .dataframe tbody tr th:only-of-type {\n",
              "        vertical-align: middle;\n",
              "    }\n",
              "\n",
              "    .dataframe tbody tr th {\n",
              "        vertical-align: top;\n",
              "    }\n",
              "\n",
              "    .dataframe thead th {\n",
              "        text-align: right;\n",
              "    }\n",
              "</style>\n",
              "<table border=\"1\" class=\"dataframe\">\n",
              "  <thead>\n",
              "    <tr style=\"text-align: right;\">\n",
              "      <th></th>\n",
              "      <th>Price</th>\n",
              "      <th>RegistrationYear</th>\n",
              "      <th>Power</th>\n",
              "      <th>Kilometer</th>\n",
              "      <th>RegistrationMonth</th>\n",
              "      <th>NumberOfPictures</th>\n",
              "      <th>PostalCode</th>\n",
              "    </tr>\n",
              "  </thead>\n",
              "  <tbody>\n",
              "    <tr>\n",
              "      <td>count</td>\n",
              "      <td>354369.000000</td>\n",
              "      <td>354369.000000</td>\n",
              "      <td>354369.000000</td>\n",
              "      <td>354369.000000</td>\n",
              "      <td>354369.000000</td>\n",
              "      <td>354369.0</td>\n",
              "      <td>354369.000000</td>\n",
              "    </tr>\n",
              "    <tr>\n",
              "      <td>mean</td>\n",
              "      <td>4416.656776</td>\n",
              "      <td>2004.234448</td>\n",
              "      <td>110.094337</td>\n",
              "      <td>128211.172535</td>\n",
              "      <td>5.714645</td>\n",
              "      <td>0.0</td>\n",
              "      <td>50508.689087</td>\n",
              "    </tr>\n",
              "    <tr>\n",
              "      <td>std</td>\n",
              "      <td>4514.158514</td>\n",
              "      <td>90.227958</td>\n",
              "      <td>189.850405</td>\n",
              "      <td>37905.341530</td>\n",
              "      <td>3.726421</td>\n",
              "      <td>0.0</td>\n",
              "      <td>25783.096248</td>\n",
              "    </tr>\n",
              "    <tr>\n",
              "      <td>min</td>\n",
              "      <td>0.000000</td>\n",
              "      <td>1000.000000</td>\n",
              "      <td>0.000000</td>\n",
              "      <td>5000.000000</td>\n",
              "      <td>0.000000</td>\n",
              "      <td>0.0</td>\n",
              "      <td>1067.000000</td>\n",
              "    </tr>\n",
              "    <tr>\n",
              "      <td>25%</td>\n",
              "      <td>1050.000000</td>\n",
              "      <td>1999.000000</td>\n",
              "      <td>69.000000</td>\n",
              "      <td>125000.000000</td>\n",
              "      <td>3.000000</td>\n",
              "      <td>0.0</td>\n",
              "      <td>30165.000000</td>\n",
              "    </tr>\n",
              "    <tr>\n",
              "      <td>50%</td>\n",
              "      <td>2700.000000</td>\n",
              "      <td>2003.000000</td>\n",
              "      <td>105.000000</td>\n",
              "      <td>150000.000000</td>\n",
              "      <td>6.000000</td>\n",
              "      <td>0.0</td>\n",
              "      <td>49413.000000</td>\n",
              "    </tr>\n",
              "    <tr>\n",
              "      <td>75%</td>\n",
              "      <td>6400.000000</td>\n",
              "      <td>2008.000000</td>\n",
              "      <td>143.000000</td>\n",
              "      <td>150000.000000</td>\n",
              "      <td>9.000000</td>\n",
              "      <td>0.0</td>\n",
              "      <td>71083.000000</td>\n",
              "    </tr>\n",
              "    <tr>\n",
              "      <td>max</td>\n",
              "      <td>20000.000000</td>\n",
              "      <td>9999.000000</td>\n",
              "      <td>20000.000000</td>\n",
              "      <td>150000.000000</td>\n",
              "      <td>12.000000</td>\n",
              "      <td>0.0</td>\n",
              "      <td>99998.000000</td>\n",
              "    </tr>\n",
              "  </tbody>\n",
              "</table>\n",
              "</div>"
            ],
            "text/plain": [
              "               Price  RegistrationYear          Power      Kilometer  \\\n",
              "count  354369.000000     354369.000000  354369.000000  354369.000000   \n",
              "mean     4416.656776       2004.234448     110.094337  128211.172535   \n",
              "std      4514.158514         90.227958     189.850405   37905.341530   \n",
              "min         0.000000       1000.000000       0.000000    5000.000000   \n",
              "25%      1050.000000       1999.000000      69.000000  125000.000000   \n",
              "50%      2700.000000       2003.000000     105.000000  150000.000000   \n",
              "75%      6400.000000       2008.000000     143.000000  150000.000000   \n",
              "max     20000.000000       9999.000000   20000.000000  150000.000000   \n",
              "\n",
              "       RegistrationMonth  NumberOfPictures     PostalCode  \n",
              "count      354369.000000          354369.0  354369.000000  \n",
              "mean            5.714645               0.0   50508.689087  \n",
              "std             3.726421               0.0   25783.096248  \n",
              "min             0.000000               0.0    1067.000000  \n",
              "25%             3.000000               0.0   30165.000000  \n",
              "50%             6.000000               0.0   49413.000000  \n",
              "75%             9.000000               0.0   71083.000000  \n",
              "max            12.000000               0.0   99998.000000  "
            ]
          },
          "execution_count": 4,
          "metadata": {},
          "output_type": "execute_result"
        }
      ],
      "source": [
        "df.describe()"
      ]
    },
    {
      "cell_type": "markdown",
      "metadata": {
        "id": "0ZlN_OT3DWpB"
      },
      "source": [
        "<a id='Step_4'></a>\n",
        "## 1.2. Обработка данных.\n",
        "\n",
        "## 1.2. Data processing."
      ]
    },
    {
      "cell_type": "markdown",
      "metadata": {
        "id": "rpZkSZzODWpB"
      },
      "source": [
        "Приведем DateCrawled, DateCreated и LastSeen к формату даты.\n",
        "\n",
        "Let's cast DateCrawled, DateCreated and LastSeen to date format."
      ]
    },
    {
      "cell_type": "code",
      "execution_count": null,
      "metadata": {
        "id": "hJBPdBKdDWpB"
      },
      "outputs": [],
      "source": [
        "df['DateCrawled'] = pd.to_datetime(df.DateCrawled, format='%Y-%m-%d %H:%M:%S')\n",
        "df['DateCreated'] = pd.to_datetime(df.DateCreated, format='%Y-%m-%d %H:%M:%S')\n",
        "df['LastSeen'] = pd.to_datetime(df.LastSeen, format='%Y-%m-%d %H:%M:%S')"
      ]
    },
    {
      "cell_type": "markdown",
      "metadata": {
        "id": "i921DcSwDWpC"
      },
      "source": [
        "Посмотрим на распредление месяцев регистрации. \n",
        "\n",
        "Let's look at the distribution of registration months."
      ]
    },
    {
      "cell_type": "code",
      "execution_count": null,
      "metadata": {
        "id": "60VnF3PnDWpC",
        "outputId": "50121e8d-c567-4185-ffd7-f0ddeb09e9f7"
      },
      "outputs": [
        {
          "data": {
            "text/plain": [
              "<matplotlib.axes._subplots.AxesSubplot at 0x7fd17f280c50>"
            ]
          },
          "execution_count": 6,
          "metadata": {},
          "output_type": "execute_result"
        },
        {
          "data": {
            "image/png": "[encoded data removed]",
            "text/plain": [
              "<Figure size 432x288 with 1 Axes>"
            ]
          },
          "metadata": {
            "needs_background": "light"
          },
          "output_type": "display_data"
        }
      ],
      "source": [
        "df['RegistrationMonth'].plot(kind='hist')"
      ]
    },
    {
      "cell_type": "markdown",
      "metadata": {
        "id": "2crCXg26DWpD"
      },
      "source": [
        "Я думаю, что было бы размумно недопустимое значение 0 превартаить в числа от 1 до 12 в соответсвии с текущим распределением. То есть, если значение 2 встречается в 10% случаев, то мы 10% нулей превратим в 2. Но я не знаю как это сделать и нужно ли это. Поэтому я щаменю 0 на 1). По рекомендации просто удалил такие значения\n",
        "\n",
        "I think it would be sensible to change the invalid value 0 into numbers from 1 to 12 according to the current distribution. That is, if the value 2 occurs in 10% of cases, then we will turn 10% of zeros into 2. But I don’t know how to do this and whether it is necessary. Therefore, I will reduce 0 to 1). As recommended, just removed such values"
      ]
    },
    {
      "cell_type": "code",
      "execution_count": null,
      "metadata": {
        "id": "5sNvmjEcDWpF"
      },
      "outputs": [],
      "source": [
        "df.drop(df[df['RegistrationMonth'] == 0].index, axis=0, inplace=True)"
      ]
    },
    {
      "cell_type": "markdown",
      "metadata": {
        "id": "XWkjA-abDWpF"
      },
      "source": [
        "Исходя из знания, что автомобили не выпускались ранее 1886 года и из предположения, что год регистрации автомобиля не может быть позже даты его появления на сайте, удалим такие наблюдения.\n",
        "\n",
        "Based on the knowledge that cars were not produced before 1886 and on the assumption that the year of registration of the car cannot be later than the date of its appearance on the site, we will remove such observations."
      ]
    },
    {
      "cell_type": "code",
      "execution_count": null,
      "metadata": {
        "id": "R7CLkQheDWpF"
      },
      "outputs": [],
      "source": [
        "df.drop(df[(df.RegistrationYear < 1886) | (df.RegistrationYear > pd.DatetimeIndex(df['DateCreated']).year)].index, axis=0,\n",
        "       inplace=True)"
      ]
    },
    {
      "cell_type": "markdown",
      "metadata": {
        "id": "cINkxi-yDWpF"
      },
      "source": [
        "Создадим признак RegistrationDate, который объеденит в себе месяц и дату регистрации авто.\n",
        "\n",
        "Let's create the RegistrationDate feature, which will combine the month and date of registration of the car."
      ]
    },
    {
      "cell_type": "code",
      "execution_count": null,
      "metadata": {
        "id": "gpI3ezAFDWpF"
      },
      "outputs": [],
      "source": [
        "df['RegistrationDate'] = df.RegistrationMonth.astype('str') + '.' + df.RegistrationYear.astype('str')\n",
        "df['RegistrationDate'] = pd.to_datetime(df.RegistrationDate, format='%m.%Y')"
      ]
    },
    {
      "cell_type": "markdown",
      "metadata": {
        "id": "_NPzKLBfDWpF"
      },
      "source": [
        "Удалим наблюдения, в которых цена меньше 500. Наверно, маловероятно найти такой авто.\n",
        "\n",
        "Let's remove the observations in which the price is less than 500. Probably, it is unlikely to find such a car."
      ]
    },
    {
      "cell_type": "code",
      "execution_count": null,
      "metadata": {
        "id": "LJHhDlG7DWpF"
      },
      "outputs": [],
      "source": [
        "df.drop(df[df['Price'] < 500].index, axis=0, inplace=True)"
      ]
    },
    {
      "cell_type": "markdown",
      "metadata": {
        "id": "-8F55nFwDWpG"
      },
      "source": [
        "Удалим наблюдения, в которых мощность равно 4,2 (самый слабый авто) или же более 1900 л.с. (самый мощный серийный авто).\n",
        "\n",
        "Let's remove the observations in which the power is 4.2 (the weakest car) or more than 1900 hp. (the most powerful serial car)."
      ]
    },
    {
      "cell_type": "code",
      "execution_count": null,
      "metadata": {
        "id": "m3ACUrlnDWpG"
      },
      "outputs": [],
      "source": [
        "df.drop(df[(df['Power'] <= 4.2) | (df['Power'] > 1900)].index, axis=0, inplace=True)"
      ]
    },
    {
      "cell_type": "markdown",
      "metadata": {
        "id": "z2QslxQ2DWpG"
      },
      "source": [
        "Заполним Model 'other', так как пользователь может продовать редкий автомобиль, которого нет в базе сайта.\n",
        "\n",
        "Let's fill in Model 'other', as the user can sell a rare car that is not in the site database."
      ]
    },
    {
      "cell_type": "code",
      "execution_count": null,
      "metadata": {
        "id": "_a4lBjxZDWpG"
      },
      "outputs": [],
      "source": [
        "df['Model'].fillna('other', inplace=True)"
      ]
    },
    {
      "cell_type": "markdown",
      "metadata": {
        "id": "rGqZNn2GDWpG"
      },
      "source": [
        "Заполним VehicleType, Gearbox, FuelType unknown.\n",
        "\n",
        "Fill in VehicleType, Gearbox, FuelType unknown."
      ]
    },
    {
      "cell_type": "code",
      "execution_count": null,
      "metadata": {
        "id": "_ZedzPVTDWpG"
      },
      "outputs": [],
      "source": [
        "df['VehicleType'].fillna('unknown', inplace=True)"
      ]
    },
    {
      "cell_type": "code",
      "execution_count": null,
      "metadata": {
        "id": "pJgwDG67DWpH"
      },
      "outputs": [],
      "source": [
        "df['Gearbox'].fillna('unknown', inplace=True)"
      ]
    },
    {
      "cell_type": "code",
      "execution_count": null,
      "metadata": {
        "id": "uFvk1mnwDWpH"
      },
      "outputs": [],
      "source": [
        "df['FuelType'].fillna('unknown', inplace=True)"
      ]
    },
    {
      "cell_type": "markdown",
      "metadata": {
        "id": "XEV_lFpFDWpH"
      },
      "source": [
        "Зоплним пропуски в NotRepaired 'no', предпологая, что чаще всего авто всё же не были в значительном ремонте. \n",
        "\n",
        "Let's fill in the gaps in Not Repaired 'no', assuming that more often than not the cars have not been significantly repaired."
      ]
    },
    {
      "cell_type": "code",
      "execution_count": null,
      "metadata": {
        "id": "uJ8wOUTvDWpH"
      },
      "outputs": [],
      "source": [
        "df['NotRepaired'].fillna('no', inplace=True)"
      ]
    },
    {
      "cell_type": "markdown",
      "metadata": {
        "id": "wwlEPUkxDWpH"
      },
      "source": [
        "Добавим признак Old (возраст авто). Вычтем из даты создания анкеты дату регистрации.\n",
        "\n",
        "Let's add the sign Old (age of the car). Subtract the date of registration from the date of creation of the questionnaire."
      ]
    },
    {
      "cell_type": "code",
      "execution_count": null,
      "metadata": {
        "id": "bKa3DSJaDWpH"
      },
      "outputs": [],
      "source": [
        "df['Old'] = (df['DateCreated'] - df['RegistrationDate']).apply(lambda x: x.days)"
      ]
    },
    {
      "cell_type": "markdown",
      "metadata": {
        "id": "kN6X4D8EDWpH"
      },
      "source": [
        "Удалим отрицательные значения, так как не верим в авто из будующего.\n",
        "\n",
        "Let's remove negative values, because we don't believe in cars from the future."
      ]
    },
    {
      "cell_type": "code",
      "execution_count": null,
      "metadata": {
        "scrolled": true,
        "id": "rPPqhszQDWpI"
      },
      "outputs": [],
      "source": [
        "df.drop(df[df['Old'] < 0].index, axis=0, inplace=True)"
      ]
    },
    {
      "cell_type": "markdown",
      "metadata": {
        "id": "VwCf-VJ1DWpI"
      },
      "source": [
        "Добавим признак TimeSell (время продажи). Вычтем из даты последней активности дату активации анкеты.\n",
        "\n",
        "Let's add the attribute TimeSell (time of sale). Subtract the date of activation of the questionnaire from the date of the last activity."
      ]
    },
    {
      "cell_type": "code",
      "execution_count": null,
      "metadata": {
        "id": "hCFLDjEmDWpI"
      },
      "outputs": [],
      "source": [
        "df['TimeSell'] = (df['LastSeen'] - df['DateCreated']).apply(lambda x: x.days)"
      ]
    },
    {
      "cell_type": "code",
      "execution_count": null,
      "metadata": {
        "id": "ixUB6JZeDWpI",
        "outputId": "d15057c6-23b6-4f63-fb89-fc0d5f8d6715"
      },
      "outputs": [
        {
          "data": {
            "text/plain": [
              "<matplotlib.axes._subplots.AxesSubplot at 0x7fd1843e1410>"
            ]
          },
          "execution_count": 20,
          "metadata": {},
          "output_type": "execute_result"
        },
        {
          "data": {
            "image/png": "[encoded data removed]",
            "text/plain": [
              "<Figure size 432x288 with 1 Axes>"
            ]
          },
          "metadata": {
            "needs_background": "light"
          },
          "output_type": "display_data"
        }
      ],
      "source": [
        "df['TimeSell'].plot(kind='hist', bins=100)"
      ]
    },
    {
      "cell_type": "code",
      "execution_count": null,
      "metadata": {
        "id": "eyhS7PoODWpI",
        "outputId": "a6a1700f-c43b-4c9f-83fd-5fdfbd4a4bfc"
      },
      "outputs": [
        {
          "data": {
            "text/html": [
              "<div>\n",
              "<style scoped>\n",
              "    .dataframe tbody tr th:only-of-type {\n",
              "        vertical-align: middle;\n",
              "    }\n",
              "\n",
              "    .dataframe tbody tr th {\n",
              "        vertical-align: top;\n",
              "    }\n",
              "\n",
              "    .dataframe thead th {\n",
              "        text-align: right;\n",
              "    }\n",
              "</style>\n",
              "<table border=\"1\" class=\"dataframe\">\n",
              "  <thead>\n",
              "    <tr style=\"text-align: right;\">\n",
              "      <th></th>\n",
              "      <th>Price</th>\n",
              "      <th>RegistrationYear</th>\n",
              "      <th>Power</th>\n",
              "      <th>Kilometer</th>\n",
              "      <th>RegistrationMonth</th>\n",
              "      <th>NumberOfPictures</th>\n",
              "      <th>PostalCode</th>\n",
              "      <th>Old</th>\n",
              "      <th>TimeSell</th>\n",
              "    </tr>\n",
              "  </thead>\n",
              "  <tbody>\n",
              "    <tr>\n",
              "      <td>count</td>\n",
              "      <td>262221.000000</td>\n",
              "      <td>262221.000000</td>\n",
              "      <td>262221.000000</td>\n",
              "      <td>262221.000000</td>\n",
              "      <td>262221.000000</td>\n",
              "      <td>262221.0</td>\n",
              "      <td>262221.000000</td>\n",
              "      <td>262221.000000</td>\n",
              "      <td>262221.000000</td>\n",
              "    </tr>\n",
              "    <tr>\n",
              "      <td>mean</td>\n",
              "      <td>5276.514646</td>\n",
              "      <td>2003.056761</td>\n",
              "      <td>124.157680</td>\n",
              "      <td>127202.397977</td>\n",
              "      <td>6.378314</td>\n",
              "      <td>0.0</td>\n",
              "      <td>51604.603243</td>\n",
              "      <td>4644.029002</td>\n",
              "      <td>9.040885</td>\n",
              "    </tr>\n",
              "    <tr>\n",
              "      <td>std</td>\n",
              "      <td>4649.998000</td>\n",
              "      <td>6.267272</td>\n",
              "      <td>61.072439</td>\n",
              "      <td>37096.460023</td>\n",
              "      <td>3.351297</td>\n",
              "      <td>0.0</td>\n",
              "      <td>25719.298461</td>\n",
              "      <td>2290.789756</td>\n",
              "      <td>8.617648</td>\n",
              "    </tr>\n",
              "    <tr>\n",
              "      <td>min</td>\n",
              "      <td>500.000000</td>\n",
              "      <td>1910.000000</td>\n",
              "      <td>5.000000</td>\n",
              "      <td>5000.000000</td>\n",
              "      <td>1.000000</td>\n",
              "      <td>0.0</td>\n",
              "      <td>1067.000000</td>\n",
              "      <td>0.000000</td>\n",
              "      <td>0.000000</td>\n",
              "    </tr>\n",
              "    <tr>\n",
              "      <td>25%</td>\n",
              "      <td>1650.000000</td>\n",
              "      <td>1999.000000</td>\n",
              "      <td>82.000000</td>\n",
              "      <td>125000.000000</td>\n",
              "      <td>3.000000</td>\n",
              "      <td>0.0</td>\n",
              "      <td>31224.000000</td>\n",
              "      <td>3088.000000</td>\n",
              "      <td>2.000000</td>\n",
              "    </tr>\n",
              "    <tr>\n",
              "      <td>50%</td>\n",
              "      <td>3650.000000</td>\n",
              "      <td>2004.000000</td>\n",
              "      <td>116.000000</td>\n",
              "      <td>150000.000000</td>\n",
              "      <td>6.000000</td>\n",
              "      <td>0.0</td>\n",
              "      <td>50858.000000</td>\n",
              "      <td>4472.000000</td>\n",
              "      <td>6.000000</td>\n",
              "    </tr>\n",
              "    <tr>\n",
              "      <td>75%</td>\n",
              "      <td>7500.000000</td>\n",
              "      <td>2007.000000</td>\n",
              "      <td>150.000000</td>\n",
              "      <td>150000.000000</td>\n",
              "      <td>9.000000</td>\n",
              "      <td>0.0</td>\n",
              "      <td>72358.000000</td>\n",
              "      <td>5944.000000</td>\n",
              "      <td>14.000000</td>\n",
              "    </tr>\n",
              "    <tr>\n",
              "      <td>max</td>\n",
              "      <td>20000.000000</td>\n",
              "      <td>2016.000000</td>\n",
              "      <td>1900.000000</td>\n",
              "      <td>150000.000000</td>\n",
              "      <td>12.000000</td>\n",
              "      <td>0.0</td>\n",
              "      <td>99998.000000</td>\n",
              "      <td>38692.000000</td>\n",
              "      <td>244.000000</td>\n",
              "    </tr>\n",
              "  </tbody>\n",
              "</table>\n",
              "</div>"
            ],
            "text/plain": [
              "               Price  RegistrationYear          Power      Kilometer  \\\n",
              "count  262221.000000     262221.000000  262221.000000  262221.000000   \n",
              "mean     5276.514646       2003.056761     124.157680  127202.397977   \n",
              "std      4649.998000          6.267272      61.072439   37096.460023   \n",
              "min       500.000000       1910.000000       5.000000    5000.000000   \n",
              "25%      1650.000000       1999.000000      82.000000  125000.000000   \n",
              "50%      3650.000000       2004.000000     116.000000  150000.000000   \n",
              "75%      7500.000000       2007.000000     150.000000  150000.000000   \n",
              "max     20000.000000       2016.000000    1900.000000  150000.000000   \n",
              "\n",
              "       RegistrationMonth  NumberOfPictures     PostalCode            Old  \\\n",
              "count      262221.000000          262221.0  262221.000000  262221.000000   \n",
              "mean            6.378314               0.0   51604.603243    4644.029002   \n",
              "std             3.351297               0.0   25719.298461    2290.789756   \n",
              "min             1.000000               0.0    1067.000000       0.000000   \n",
              "25%             3.000000               0.0   31224.000000    3088.000000   \n",
              "50%             6.000000               0.0   50858.000000    4472.000000   \n",
              "75%             9.000000               0.0   72358.000000    5944.000000   \n",
              "max            12.000000               0.0   99998.000000   38692.000000   \n",
              "\n",
              "            TimeSell  \n",
              "count  262221.000000  \n",
              "mean        9.040885  \n",
              "std         8.617648  \n",
              "min         0.000000  \n",
              "25%         2.000000  \n",
              "50%         6.000000  \n",
              "75%        14.000000  \n",
              "max       244.000000  "
            ]
          },
          "execution_count": 21,
          "metadata": {},
          "output_type": "execute_result"
        }
      ],
      "source": [
        "df.describe()"
      ]
    },
    {
      "cell_type": "markdown",
      "metadata": {
        "id": "W9Pu5ha5DWpI"
      },
      "source": [
        "Посмотрим на распредление времени продажи.\n",
        "\n",
        "Let's look at the distribution of sales time."
      ]
    },
    {
      "cell_type": "code",
      "execution_count": null,
      "metadata": {
        "scrolled": true,
        "id": "V9Q1rkMVDWpI",
        "outputId": "f324262c-80ee-4845-b3da-d2ed7c2ac0f6"
      },
      "outputs": [
        {
          "data": {
            "text/plain": [
              "<matplotlib.axes._subplots.AxesSubplot at 0x7fd184371f90>"
            ]
          },
          "execution_count": 22,
          "metadata": {},
          "output_type": "execute_result"
        },
        {
          "data": {
            "image/png": "[encoded data removed]",
            "text/plain": [
              "<Figure size 432x288 with 1 Axes>"
            ]
          },
          "metadata": {
            "needs_background": "light"
          },
          "output_type": "display_data"
        }
      ],
      "source": [
        "df['TimeSell'].plot(kind='box')"
      ]
    },
    {
      "cell_type": "markdown",
      "metadata": {
        "id": "TsQ2aAyUDWpJ"
      },
      "source": [
        "Люди по-разному видят справедлвивую цену на свой авто, но немногие готовы купить авто по завышенной цене. Также продать машину в день публикации обявления - слишком быстро, вряд ли такие авто продавались по рыночным ценам. Удалим наблюдения,в которых время продажи равно 0 или выше суммы интерквартильного размаха умноженного на полтора и третей квартили. \n",
        "\n",
        "People see a fair price for their car in different ways, but few are willing to buy a car at an inflated price. Also, selling a car on the day the announcement was published is too fast, it is unlikely that such cars were sold at market prices. Let's remove observations where the sell time is 0 or greater than the sum of the interquartile range multiplied by one and a half and third quartiles."
      ]
    },
    {
      "cell_type": "code",
      "execution_count": null,
      "metadata": {
        "id": "TsCEsN-VDWpJ"
      },
      "outputs": [],
      "source": [
        "up_edge = df['TimeSell'].quantile(0.75) + (df['TimeSell'].quantile(0.75)-\n",
        "                                           df['TimeSell'].quantile(0.25)) * 1.5\n",
        "df.drop(df[(df['TimeSell'] == 0) & (df['TimeSell'] > up_edge)].index, axis=0, inplace=True)"
      ]
    },
    {
      "cell_type": "markdown",
      "metadata": {
        "id": "8S2yuigZDWpJ"
      },
      "source": [
        "Создадим перменную Car, которая будет содержать в себе и бренд и модель.\n",
        "\n",
        "Let's create a Car variable that will contain both brand and model."
      ]
    },
    {
      "cell_type": "code",
      "execution_count": null,
      "metadata": {
        "id": "fOk1boJ9DWpK"
      },
      "outputs": [],
      "source": [
        "df['Car'] = df['Brand'] + ' ' + df['Model']"
      ]
    },
    {
      "cell_type": "markdown",
      "metadata": {
        "id": "0PdFpdOmDWpK"
      },
      "source": [
        "Удалим столбцы.\n",
        "- NumberOfPictures. Содержит только 0, удалим этот столбец.\n",
        "- DateCrawled. Нам не нужно информация из него. \n",
        "- RegistrationYear и RegistrationMonth (так как мы сделали из них RegistrationDate)\n",
        "- RegistrationDate, LastSeen,  и DateCreated, так как мы уже использовали их для создания Old и TimeSell.\n",
        "- TimeSell, так как мы уже отчистили наблюдения по этому признаку.\n",
        "- Brand, Model, так как мы сделали из них Car.\n",
        "- PostalCode, так без знания страны или без базы кодов это информация бесполезна. Хотя на самом деле она содержит в себе информацию о регионе продажи авто."
      ]
    },
    {
      "cell_type": "markdown",
      "source": [
        "Let's remove the columns.\n",
        "- NumberOfPictures. Contains only 0, delete this column.\n",
        "- datecrawled. We don't need information from it.\n",
        "- RegistrationYear and RegistrationMonth (since we made RegistrationDate out of them)\n",
        "- RegistrationDate, LastSeen, and DateCreated, since we already used them to create Old and TimeSell.\n",
        "- TimeSell, since we have already cleared observations for this feature.\n",
        "- Brand, Model, since we made Car out of them.\n",
        "- PostalCode, so without knowing the country or without a codebase, this information is useless. Although in fact it contains information about the region where the car is sold."
      ],
      "metadata": {
        "id": "Pjw19gKGI7p4"
      }
    },
    {
      "cell_type": "code",
      "execution_count": null,
      "metadata": {
        "id": "yNPonKidDWpL"
      },
      "outputs": [],
      "source": [
        "df.drop(['NumberOfPictures', 'DateCrawled', 'RegistrationYear', 'RegistrationMonth', 'LastSeen', \n",
        "         'RegistrationDate', 'DateCreated', 'Brand', 'Model', 'PostalCode', 'TimeSell']\n",
        "        , axis=1, inplace=True)"
      ]
    },
    {
      "cell_type": "markdown",
      "metadata": {
        "id": "4tIY2d_IDWpL"
      },
      "source": [
        "Удалим дубликаты, если есть.\n",
        "\n",
        "Remove duplicates, if any."
      ]
    },
    {
      "cell_type": "code",
      "execution_count": null,
      "metadata": {
        "id": "ewd29Ud0DWpL"
      },
      "outputs": [],
      "source": [
        "df.drop_duplicates(inplace=True)"
      ]
    },
    {
      "cell_type": "markdown",
      "metadata": {
        "id": "vW7QG2z5DWpL"
      },
      "source": [
        "Восстановим индексы.\n",
        "\n",
        "Let's restore the indexes."
      ]
    },
    {
      "cell_type": "code",
      "execution_count": null,
      "metadata": {
        "id": "amqT55oQDWpM"
      },
      "outputs": [],
      "source": [
        "df.reset_index(inplace=True, drop=True)"
      ]
    },
    {
      "cell_type": "markdown",
      "metadata": {
        "id": "NPG0TGtWDWpM"
      },
      "source": [
        "Посомтрим на результат.\n",
        "\n",
        "Let's look at the result."
      ]
    },
    {
      "cell_type": "code",
      "execution_count": null,
      "metadata": {
        "id": "AjKLVAC7DWpM",
        "outputId": "66e3185f-84f9-43bc-e889-6b05e05b672a"
      },
      "outputs": [
        {
          "name": "stdout",
          "output_type": "stream",
          "text": [
            "<class 'pandas.core.frame.DataFrame'>\n",
            "RangeIndex: 251175 entries, 0 to 251174\n",
            "Data columns (total 9 columns):\n",
            "Price          251175 non-null int64\n",
            "VehicleType    251175 non-null object\n",
            "Gearbox        251175 non-null object\n",
            "Power          251175 non-null int64\n",
            "Kilometer      251175 non-null int64\n",
            "FuelType       251175 non-null object\n",
            "NotRepaired    251175 non-null object\n",
            "Old            251175 non-null int64\n",
            "Car            251175 non-null object\n",
            "dtypes: int64(4), object(5)\n",
            "memory usage: 17.2+ MB\n"
          ]
        }
      ],
      "source": [
        "df.info()"
      ]
    },
    {
      "cell_type": "markdown",
      "metadata": {
        "id": "3zDIxhedDWpM"
      },
      "source": [
        "Закодируем перменные типа obj в дамми.\n",
        "\n",
        "Let's encode obj-type variables into dummy."
      ]
    },
    {
      "cell_type": "code",
      "execution_count": null,
      "metadata": {
        "id": "zIMgVCbzDWpM"
      },
      "outputs": [],
      "source": [
        "df = pd.get_dummies(df, drop_first=True)"
      ]
    },
    {
      "cell_type": "markdown",
      "metadata": {
        "id": "gj5kWTXnDWpM"
      },
      "source": [
        "Посмотрим на форму сета.\n",
        "\n",
        "Let's look at the form of the set."
      ]
    },
    {
      "cell_type": "code",
      "execution_count": null,
      "metadata": {
        "id": "X7xUpG8rDWpM",
        "outputId": "3dbaad91-699f-4496-9557-6466a416347f"
      },
      "outputs": [
        {
          "data": {
            "text/plain": [
              "(251175, 318)"
            ]
          },
          "execution_count": 30,
          "metadata": {},
          "output_type": "execute_result"
        }
      ],
      "source": [
        "df.shape"
      ]
    },
    {
      "cell_type": "markdown",
      "metadata": {
        "id": "B9MiG-zsDWpN"
      },
      "source": [
        "Разделим выборку на обучнеие и тест. На тест оставим треть наблюдений.\n",
        "\n",
        "We divide the sample into training and test. Let's leave a third of the observations for the test."
      ]
    },
    {
      "cell_type": "code",
      "execution_count": null,
      "metadata": {
        "id": "wEZJyhV1DWpN"
      },
      "outputs": [],
      "source": [
        "X = df.drop(['Price'], axis=1)\n",
        "y = df['Price']\n",
        "X_train, X_test, y_train, y_test = train_test_split(X, y, test_size=0.33, random_state=42)"
      ]
    },
    {
      "cell_type": "markdown",
      "metadata": {
        "id": "fedeltyrDWpN"
      },
      "source": [
        "Отнормируетм обучение и тест.\n",
        "\n",
        "Let's normalize training and test."
      ]
    },
    {
      "cell_type": "code",
      "execution_count": null,
      "metadata": {
        "id": "R_EviyjrDWpN"
      },
      "outputs": [],
      "source": [
        "scaler = StandardScaler()\n",
        "X_train_scaled = scaler.fit_transform(X_train[['Power', 'Kilometer', 'Old']])\n",
        "X_train = np.hstack((X_train_scaled, np.array(X_train.drop(['Power', 'Kilometer', 'Old'], axis=1))))\n",
        "X_test_scaled = scaler.transform(X_test[['Power', 'Kilometer', 'Old']])\n",
        "X_test = np.hstack((X_test_scaled, np.array(X_test.drop(['Power', 'Kilometer', 'Old'], axis=1))))"
      ]
    },
    {
      "cell_type": "markdown",
      "metadata": {
        "id": "w2xadJkEDWpO"
      },
      "source": [
        "### Summary.\n",
        "На этом этапе мы изучили данные и привели их к нужному состоянию:\n",
        "- удалили дубликаты и подозрительные наблюдения\n",
        "- выяснили возраст машин и срок их продажи\n",
        "- изменили форматы данных\n",
        "- разделили выборку на обучение и тест."
      ]
    },
    {
      "cell_type": "markdown",
      "source": [
        "### Summary.\n",
        "At this stage, we have studied the data and brought it to the desired state:\n",
        "- removed duplicates and suspicious observations\n",
        "- found out the age of the cars and the period of their sale\n",
        "- changed data formats\n",
        "- Divided the sample into training and test."
      ],
      "metadata": {
        "id": "sEJUfEHiJuzy"
      }
    },
    {
      "cell_type": "markdown",
      "metadata": {
        "id": "hZBOgHADDWpO"
      },
      "source": [
        "<a id='Step_5'></a>\n",
        "# 2. Обучение моделей\n",
        "\n",
        "#2 Train Models"
      ]
    },
    {
      "cell_type": "markdown",
      "metadata": {
        "id": "Z7wzy3nHDWpO"
      },
      "source": [
        "Определим фунцию потерь для кросс-валидации.\n",
        "\n",
        "Let's define the loss function for cross-validation."
      ]
    },
    {
      "cell_type": "code",
      "execution_count": null,
      "metadata": {
        "id": "tw0ePn2nDWpO"
      },
      "outputs": [],
      "source": [
        "MSE = make_scorer(mean_squared_error, greater_is_better=False)"
      ]
    },
    {
      "cell_type": "markdown",
      "metadata": {
        "id": "cAZ-pe8BDWpO"
      },
      "source": [
        "<a id='Step_6'></a>\n",
        "## 2.1. Регрессия. \n",
        "\n",
        "## 2.1. Regression."
      ]
    },
    {
      "cell_type": "code",
      "execution_count": null,
      "metadata": {
        "id": "jbR7KSb1DWpO",
        "outputId": "e0ae00ce-daa0-4588-a5c9-af2c01bbde45"
      },
      "outputs": [
        {
          "name": "stdout",
          "output_type": "stream",
          "text": [
            "Лучшие переметры: {'alpha': 1, 'fit_intercept': True}\n"
          ]
        }
      ],
      "source": [
        "model_l_r = Ridge()\n",
        "parameters_l_r = {'fit_intercept':(True, False), 'alpha':(1, 10)}\n",
        "clf_l_r = GridSearchCV(model_l_r, parameters_l_r, cv=2, scoring=MSE)\n",
        "clf_l_r.fit(X_train, y_train)\n",
        "print('Лучшие переметры:', clf_l_r.best_params_)"
      ]
    },
    {
      "cell_type": "markdown",
      "source": [
        "Best parameters: {'alpha': 1, 'fit_intercept': True}"
      ],
      "metadata": {
        "id": "AF4IA-VQJ3em"
      }
    },
    {
      "cell_type": "markdown",
      "metadata": {
        "id": "clr_OSt3DWpP"
      },
      "source": [
        "<a id='Step_7'></a>\n",
        "## 2.2. Случайный лес. \n",
        "\n",
        "## 2.2. Random forest."
      ]
    },
    {
      "cell_type": "code",
      "execution_count": null,
      "metadata": {
        "id": "ryT5PZZ_DWpP",
        "outputId": "f737443b-116b-4b8f-a48b-dc80d4325ca5"
      },
      "outputs": [
        {
          "name": "stdout",
          "output_type": "stream",
          "text": [
            "Лучшие переметры: {'max_depth': 20, 'n_estimators': 20}\n"
          ]
        }
      ],
      "source": [
        "model_l_r = RandomForestRegressor()\n",
        "parameters_l_r = {'max_depth':(1, 20), 'n_estimators':(1, 20)}\n",
        "clf_l_r = GridSearchCV(model_l_r, parameters_l_r, cv=2, scoring=MSE)\n",
        "clf_l_r.fit(X_train, y_train)\n",
        "print('Лучшие переметры:', clf_l_r.best_params_)"
      ]
    },
    {
      "cell_type": "markdown",
      "source": [
        "Best parameters: {'max_depth': 20, 'n_estimators': 20}"
      ],
      "metadata": {
        "id": "PlyBxx6nJ8ia"
      }
    },
    {
      "cell_type": "markdown",
      "metadata": {
        "id": "thDyo9dEDWpP"
      },
      "source": [
        "<a id='Step_8'></a>\n",
        "## 2.3. Градиентный бустинг. \n",
        "\n",
        "## 2.3. Gradient boosting."
      ]
    },
    {
      "cell_type": "code",
      "execution_count": null,
      "metadata": {
        "id": "A0mx4SkTDWpP",
        "outputId": "56153b88-9787-45db-eec8-9b32a1c4df83"
      },
      "outputs": [
        {
          "name": "stdout",
          "output_type": "stream",
          "text": [
            "Лучшие переметры: {'learning_rate': 0.5, 'reg_lambda': 5}\n"
          ]
        }
      ],
      "source": [
        "model_l_r = LGBMRegressor()\n",
        "parameters_l_r = {'learning_rate':(0.1, 0.3, 0.5, 0.7), 'reg_lambda':(0, 5, 50)}\n",
        "clf_l_r = GridSearchCV(model_l_r, parameters_l_r, cv=2, scoring=MSE)\n",
        "clf_l_r.fit(X_train, y_train)\n",
        "print('Лучшие переметры:', clf_l_r.best_params_)"
      ]
    },
    {
      "cell_type": "markdown",
      "source": [
        "Best parameters: {'learning_rate': 0.5, 'reg_lambda': 5}"
      ],
      "metadata": {
        "id": "p-c1OKZwKOp0"
      }
    },
    {
      "cell_type": "markdown",
      "metadata": {
        "id": "LeubWwHuDWpP"
      },
      "source": [
        "### Summary.\n",
        "На этом этапе мы подобрали параметры для моделей. На следующем этапе проанализируем эти модели с нужными параметрами"
      ]
    },
    {
      "cell_type": "markdown",
      "source": [
        "### Summary.\n",
        "At this stage, we selected the parameters for the models. At the next stage, we analyze these models with the required parameters."
      ],
      "metadata": {
        "id": "Ojl1Kwx-KRta"
      }
    },
    {
      "cell_type": "markdown",
      "metadata": {
        "id": "g1cib_gTDWpR"
      },
      "source": [
        "<a id='Step_9'></a>\n",
        "# 3. Анализ моделей\n",
        "\n",
        "# 3. Model analysis"
      ]
    },
    {
      "cell_type": "markdown",
      "metadata": {
        "id": "mmDYWXfUDWpR"
      },
      "source": [
        "<a id='Step_10'></a>\n",
        "## 3.1. Регрессия. \n",
        "\n",
        "## 3.1. Regression."
      ]
    },
    {
      "cell_type": "markdown",
      "metadata": {
        "id": "-WP70fj3DWpR"
      },
      "source": [
        "Скорость обучения.\n",
        "\n",
        "Learning rate."
      ]
    },
    {
      "cell_type": "code",
      "execution_count": null,
      "metadata": {
        "id": "bfdiYil-DWpS",
        "outputId": "7c01545e-1308-42e4-8508-9ecf54eec940"
      },
      "outputs": [
        {
          "name": "stdout",
          "output_type": "stream",
          "text": [
            "CPU times: user 2 s, sys: 711 ms, total: 2.71 s\n",
            "Wall time: 2.7 s\n"
          ]
        },
        {
          "data": {
            "text/plain": [
              "Ridge(alpha=1, copy_X=True, fit_intercept=True, max_iter=None, normalize=False,\n",
              "      random_state=None, solver='auto', tol=0.001)"
            ]
          },
          "execution_count": 37,
          "metadata": {},
          "output_type": "execute_result"
        }
      ],
      "source": [
        "%%time\n",
        "model_r = Ridge(fit_intercept=True, alpha=1)\n",
        "model_r.fit(X_train, y_train)"
      ]
    },
    {
      "cell_type": "markdown",
      "metadata": {
        "id": "WEYl194zDWpS"
      },
      "source": [
        "Скорость предсказания и точность.\n",
        "\n",
        "Prediction speed and accuracy."
      ]
    },
    {
      "cell_type": "code",
      "execution_count": null,
      "metadata": {
        "id": "vcaFwzaWDWpS",
        "outputId": "88aa1828-cdcd-449c-ee9d-c94b77860a6f"
      },
      "outputs": [
        {
          "name": "stdout",
          "output_type": "stream",
          "text": [
            "2686.468989043734\n",
            "CPU times: user 72.8 ms, sys: 69.7 ms, total: 142 ms\n",
            "Wall time: 115 ms\n"
          ]
        }
      ],
      "source": [
        "%%time\n",
        "prediction = model_r.predict(X_test)\n",
        "rMSE = mean_squared_error(prediction, y_test) ** 0.5\n",
        "print(rMSE)"
      ]
    },
    {
      "cell_type": "markdown",
      "metadata": {
        "id": "PxXkfIN_DWpS"
      },
      "source": [
        "<a id='Step_11'></a>\n",
        "## 3.2. Случайный лес. \n",
        "\n",
        "## 3.2. Random forest."
      ]
    },
    {
      "cell_type": "markdown",
      "metadata": {
        "id": "g_RQryxmDWpS"
      },
      "source": [
        "Скорость обучения.\n",
        "\n",
        "Learning rate."
      ]
    },
    {
      "cell_type": "code",
      "execution_count": null,
      "metadata": {
        "id": "WTTEFl11DWpS",
        "outputId": "7e2d1c64-8faa-489a-ca14-f9637aeab2e6"
      },
      "outputs": [
        {
          "name": "stdout",
          "output_type": "stream",
          "text": [
            "CPU times: user 1min 13s, sys: 58.3 ms, total: 1min 13s\n",
            "Wall time: 1min 13s\n"
          ]
        },
        {
          "data": {
            "text/plain": [
              "RandomForestRegressor(bootstrap=True, criterion='mse', max_depth=20,\n",
              "                      max_features='auto', max_leaf_nodes=None,\n",
              "                      min_impurity_decrease=0.0, min_impurity_split=None,\n",
              "                      min_samples_leaf=1, min_samples_split=2,\n",
              "                      min_weight_fraction_leaf=0.0, n_estimators=20,\n",
              "                      n_jobs=None, oob_score=False, random_state=0, verbose=0,\n",
              "                      warm_start=False)"
            ]
          },
          "execution_count": 39,
          "metadata": {},
          "output_type": "execute_result"
        }
      ],
      "source": [
        "%%time\n",
        "model_f = RandomForestRegressor(max_depth=20, n_estimators=20, random_state=0)\n",
        "model_f.fit(X_train, y_train)"
      ]
    },
    {
      "cell_type": "markdown",
      "metadata": {
        "id": "CeWSO2JtDWpS"
      },
      "source": [
        "Скорость предсказания и точность.\n",
        "\n",
        "Prediction speed and accuracy."
      ]
    },
    {
      "cell_type": "code",
      "execution_count": null,
      "metadata": {
        "id": "eyhDnC3EDWpT",
        "outputId": "9c4ebd40-29ba-4878-a046-83a0a739f1aa"
      },
      "outputs": [
        {
          "name": "stdout",
          "output_type": "stream",
          "text": [
            "1665.0848628671024\n",
            "CPU times: user 645 ms, sys: 28 ms, total: 673 ms\n",
            "Wall time: 688 ms\n"
          ]
        }
      ],
      "source": [
        "%%time\n",
        "prediction = model_f.predict(X_test)\n",
        "rMSE = mean_squared_error(prediction, y_test) ** 0.5\n",
        "print(rMSE)"
      ]
    },
    {
      "cell_type": "markdown",
      "metadata": {
        "id": "zSfIycIYDWpT"
      },
      "source": [
        "<a id='Step_12'></a>\n",
        "## 3.3. Градиентный бустинг. \n",
        "\n",
        "## 3.3. Gradient boosting."
      ]
    },
    {
      "cell_type": "markdown",
      "metadata": {
        "id": "KGdnQxzODWpT"
      },
      "source": [
        "Скорость обучения.\n",
        "\n",
        "Learning rate."
      ]
    },
    {
      "cell_type": "code",
      "execution_count": null,
      "metadata": {
        "id": "xSoeRidNDWpT",
        "outputId": "f217a898-a1c4-4a59-bafd-376e26cb8e66"
      },
      "outputs": [
        {
          "name": "stdout",
          "output_type": "stream",
          "text": [
            "CPU times: user 7.35 s, sys: 173 ms, total: 7.52 s\n",
            "Wall time: 7.54 s\n"
          ]
        },
        {
          "data": {
            "text/plain": [
              "LGBMRegressor(boosting_type='gbdt', class_weight=None, colsample_bytree=1.0,\n",
              "              importance_type='split', learning_rate=0.5, max_depth=-1,\n",
              "              min_child_samples=20, min_child_weight=0.001, min_split_gain=0.0,\n",
              "              n_estimators=100, n_jobs=-1, num_leaves=31, objective=None,\n",
              "              random_state=0, reg_alpha=0.0, reg_lambda=0, silent=True,\n",
              "              subsample=1.0, subsample_for_bin=200000, subsample_freq=0)"
            ]
          },
          "execution_count": 41,
          "metadata": {},
          "output_type": "execute_result"
        }
      ],
      "source": [
        "%%time\n",
        "model_l = LGBMRegressor(learning_rate=0.5, reg_lambda=0, random_state=0)\n",
        "model_l.fit(X_train, y_train)"
      ]
    },
    {
      "cell_type": "markdown",
      "metadata": {
        "id": "XclO5jLbDWpT"
      },
      "source": [
        "Скорость предсказания и точность.\n",
        "\n",
        "Prediction speed and accuracy."
      ]
    },
    {
      "cell_type": "code",
      "execution_count": null,
      "metadata": {
        "id": "4rkbMp8NDWpT",
        "outputId": "92072523-c36f-4da2-ae6e-b99b57275d9c"
      },
      "outputs": [
        {
          "name": "stdout",
          "output_type": "stream",
          "text": [
            "1620.5267878428092\n",
            "CPU times: user 927 ms, sys: 61 ms, total: 988 ms\n",
            "Wall time: 916 ms\n"
          ]
        }
      ],
      "source": [
        "%%time\n",
        "prediction = model_l.predict(X_test)\n",
        "rMSE = mean_squared_error(prediction, y_test) ** 0.5\n",
        "print(rMSE)"
      ]
    },
    {
      "cell_type": "markdown",
      "metadata": {
        "id": "ZdaJ4N6mDWpU"
      },
      "source": [
        "### Summary.\n",
        "- Самое быстрое обучение - регрессия (3.39 s Wall time)\n",
        "- Самое быстрое предсказание - регрессия (59.1 ms Wall time)\n",
        "- Наилучший результат метрики rMSE - LGBM (1614.66 евро)."
      ]
    },
    {
      "cell_type": "markdown",
      "source": [
        "### Summary.\n",
        "- Fastest learning - regression (3.39 s Wall time)\n",
        "- Fastest prediction - regression (59.1 ms Wall time)\n",
        "- The best result of the rMSE metric is LGBM (1614.66 euros)."
      ],
      "metadata": {
        "id": "KcTKVoPgK_aD"
      }
    },
    {
      "cell_type": "markdown",
      "metadata": {
        "id": "AutGJ0EiDWpU"
      },
      "source": [
        "### Общий вывод.\n",
        "В этом проекте:\n",
        "- мы изучили и подготовили данные (произвели отчистку от подохрительных наблюдений, изменили форматы переменных и создали новые признаки)\n",
        "- подобрали параметры для моделей регрессии, случайного леса и градиентного бустинга.\n",
        "- проанализировали модели и получили результаты, которые описаны ниже."
      ]
    },
    {
      "cell_type": "markdown",
      "source": [
        "### General conclusion.\n",
        "In this project:\n",
        "- we studied and prepared the data (cleaned up suspicious observations, changed the formats of variables and created new features)\n",
        "- selected parameters for regression, random forest and gradient boosting models.\n",
        "- analyzed the models and obtained the results, which are described below."
      ],
      "metadata": {
        "id": "iabif2sgLCKG"
      }
    },
    {
      "cell_type": "markdown",
      "metadata": {
        "id": "9WyOWsc9DWpU"
      },
      "source": [
        "### Рекомендация по выбору модели. \n",
        "Несмотря на то, что скорость обучения и предсказания оказалась ниже у регрессии, мы рекомендуем использовать именно LGBMRegression, так как скорость работы модели всё же вполне приемлема (обучение - 7.78 s Wall time, предсказание - 900 ms Wall time). Кроме того, бустинг показывает лучшую метрику rMSE - 1614.66 против 2694.37 у регрессии, что заметного меньше. Случайный лес хоть и приближается по качеству к LGBM - 1659.86, но всё же занимает значитально больше врмени (обучение - 1min 55s Wall time, предсказание - 626 ms Wall time)."
      ]
    },
    {
      "cell_type": "markdown",
      "source": [
        "### Model recommendation.\n",
        "Despite the fact that the learning and prediction speed turned out to be lower for the regression, we recommend using LGBMRegression, since the speed of the model is still quite acceptable (training - 7.78 s Wall time, prediction - 900 ms Wall time). In addition, boosting shows the best rMSE metric - 1614.66 versus 2694.37 for the regression, which is less noticeable. Although Random Forest is close in quality to LGBM - 1659.86, it still takes much more time (training - 1min 55s Wall time, prediction - 626 ms Wall time)."
      ],
      "metadata": {
        "id": "fIXwWAoqLEYx"
      }
    }
  ],
  "metadata": {
    "kernelspec": {
      "display_name": "Python 3 (ipykernel)",
      "language": "python",
      "name": "python3"
    },
    "language_info": {
      "codemirror_mode": {
        "name": "ipython",
        "version": 3
      },
      "file_extension": ".py",
      "mimetype": "text/x-python",
      "name": "python",
      "nbconvert_exporter": "python",
      "pygments_lexer": "ipython3",
      "version": "3.9.5"
    },
    "toc": {
      "base_numbering": 1,
      "nav_menu": {},
      "number_sections": true,
      "sideBar": true,
      "skip_h1_title": false,
      "title_cell": "Table of Contents",
      "title_sidebar": "Contents",
      "toc_cell": false,
      "toc_position": {},
      "toc_section_display": true,
      "toc_window_display": false
    },
    "colab": {
      "name": "11th_project_auto.ipynb",
      "provenance": []
    }
  },
  "nbformat": 4,
  "nbformat_minor": 0
}