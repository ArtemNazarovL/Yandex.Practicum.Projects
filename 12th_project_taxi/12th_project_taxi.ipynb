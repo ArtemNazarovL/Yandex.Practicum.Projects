{
  "cells": [
    {
      "cell_type": "markdown",
      "metadata": {
        "id": "ezC_AXHlRO3d"
      },
      "source": [
        "## Описание проекта\n",
        "\n",
        "Компания, оказывающая услуги такси, собрала исторические данные о заказах в аэропортах. Необходимо предсказать объём заказов такси на следующий час, чтобы максимизировать прибыль. Для  этого построим модель машинного обучения.\n",
        "\n",
        "Значение метрики *RMSE* на тестовой выборке должно быть не больше 48.\n",
        "\n"
      ]
    },
    {
      "cell_type": "markdown",
      "source": [
        "## Description of the project\n",
        "\n",
        "A taxi company has collected historical data on bookings at airports. It is necessary to predict the volume of taxi orders for the next hour in order to maximize profit. To do this, we will build a machine learning model.\n",
        "\n",
        "The value of the *RMSE* metric on the test set should not exceed 48."
      ],
      "metadata": {
        "id": "v4MDP1fxSezL"
      }
    },
    {
      "cell_type": "markdown",
      "metadata": {
        "id": "eWtAAkFQRO3d"
      },
      "source": [
        "Оглавление.\n",
        "- [Шаг 1. Подготовка.](#Step_1)\n",
        "- [Шаг 2. Анализ.](#Step_2)\n",
        "- [Шаг 3. Обучение.](#Step_3)<br />\n",
        "[Пункт 3.1. Регрессия.](#Step_4) <br />\n",
        "[Пункт 3.2. Случайный лес.](#Step_5) <br />\n",
        "[Пункт 3.3. Градиентный бустинг.](#Step_6) <br />\n",
        "- [Шаг 4. Тестирование.](#Step_7)<br />"
      ]
    },
    {
      "cell_type": "markdown",
      "source": [
        "Table of contents.\n",
        "- [Step 1. Preparation.](#Step_1)\n",
        "- [Step 2. Analyze.](#Step_2)\n",
        "- [Step 3. Learning.](#Step_3)<br />\n",
        "[Clause 3.1. Regression.](#Step_4) <br />\n",
        "[Clause 3.2. Random forest.](#Step_5) <br />\n",
        "[Clause 3.3. Gradient boosting.](#Step_6) <br />\n",
        "- [Step 4. Testing.](#Step_7)<br />"
      ],
      "metadata": {
        "id": "mLt9mf7DSkFb"
      }
    },
    {
      "cell_type": "markdown",
      "metadata": {
        "id": "M8eeFMZdRO3e"
      },
      "source": [
        "<a id='Step_1'></a>\n",
        "# Подготовка"
      ]
    },
    {
      "cell_type": "markdown",
      "source": [
        "# Preporation"
      ],
      "metadata": {
        "id": "lm4sDAhjSnEz"
      }
    },
    {
      "cell_type": "markdown",
      "metadata": {
        "id": "qLV_wr5tRO3e"
      },
      "source": [
        "Загрузим библиотеки.\n",
        "\n",
        "Let's load the libraries."
      ]
    },
    {
      "cell_type": "code",
      "execution_count": null,
      "metadata": {
        "id": "xQummctaRO3f"
      },
      "outputs": [],
      "source": [
        "import pandas as pd\n",
        "import numpy as np\n",
        "from statsmodels.tsa.seasonal import seasonal_decompose\n",
        "import matplotlib.pyplot as plt\n",
        "from sklearn.metrics import mean_squared_error\n",
        "from sklearn.metrics import make_scorer\n",
        "from sklearn.model_selection import train_test_split\n",
        "from sklearn.model_selection import GridSearchCV\n",
        "from sklearn.linear_model import Ridge\n",
        "from sklearn.ensemble import RandomForestRegressor\n",
        "from lightgbm import LGBMRegressor\n",
        "from sklearn.model_selection import TimeSeriesSplit\n",
        "#import warnings\n",
        "#warnings.filterwarnings('ignore')"
      ]
    },
    {
      "cell_type": "markdown",
      "metadata": {
        "id": "5evlGPMZRO3g"
      },
      "source": [
        "Загрузим файл.\n",
        "\n",
        "Let's upload the file."
      ]
    },
    {
      "cell_type": "code",
      "execution_count": null,
      "metadata": {
        "id": "8GUcSjUgRO3g"
      },
      "outputs": [],
      "source": [
        "df = pd.read_csv('/datasets/taxi.csv', parse_dates=['datetime'], index_col=['datetime'])"
      ]
    },
    {
      "cell_type": "code",
      "execution_count": null,
      "metadata": {
        "id": "V3P30p_6RO3h",
        "outputId": "c1dc7ec0-8c0e-4eed-bfc8-873047beb119"
      },
      "outputs": [
        {
          "data": {
            "text/html": [
              "<div>\n",
              "<style scoped>\n",
              "    .dataframe tbody tr th:only-of-type {\n",
              "        vertical-align: middle;\n",
              "    }\n",
              "\n",
              "    .dataframe tbody tr th {\n",
              "        vertical-align: top;\n",
              "    }\n",
              "\n",
              "    .dataframe thead th {\n",
              "        text-align: right;\n",
              "    }\n",
              "</style>\n",
              "<table border=\"1\" class=\"dataframe\">\n",
              "  <thead>\n",
              "    <tr style=\"text-align: right;\">\n",
              "      <th></th>\n",
              "      <th>num_orders</th>\n",
              "    </tr>\n",
              "    <tr>\n",
              "      <th>datetime</th>\n",
              "      <th></th>\n",
              "    </tr>\n",
              "  </thead>\n",
              "  <tbody>\n",
              "    <tr>\n",
              "      <td>2018-03-01 00:00:00</td>\n",
              "      <td>9</td>\n",
              "    </tr>\n",
              "    <tr>\n",
              "      <td>2018-03-01 00:10:00</td>\n",
              "      <td>14</td>\n",
              "    </tr>\n",
              "    <tr>\n",
              "      <td>2018-03-01 00:20:00</td>\n",
              "      <td>28</td>\n",
              "    </tr>\n",
              "    <tr>\n",
              "      <td>2018-03-01 00:30:00</td>\n",
              "      <td>20</td>\n",
              "    </tr>\n",
              "    <tr>\n",
              "      <td>2018-03-01 00:40:00</td>\n",
              "      <td>32</td>\n",
              "    </tr>\n",
              "  </tbody>\n",
              "</table>\n",
              "</div>"
            ],
            "text/plain": [
              "                     num_orders\n",
              "datetime                       \n",
              "2018-03-01 00:00:00           9\n",
              "2018-03-01 00:10:00          14\n",
              "2018-03-01 00:20:00          28\n",
              "2018-03-01 00:30:00          20\n",
              "2018-03-01 00:40:00          32"
            ]
          },
          "execution_count": 3,
          "metadata": {},
          "output_type": "execute_result"
        }
      ],
      "source": [
        "df.head()"
      ]
    },
    {
      "cell_type": "code",
      "execution_count": null,
      "metadata": {
        "scrolled": true,
        "id": "xJ-VF28HRO3i",
        "outputId": "b701abda-4fde-41db-89af-572c67fa0dfc"
      },
      "outputs": [
        {
          "name": "stdout",
          "output_type": "stream",
          "text": [
            "<class 'pandas.core.frame.DataFrame'>\n",
            "DatetimeIndex: 26496 entries, 2018-03-01 00:00:00 to 2018-08-31 23:50:00\n",
            "Data columns (total 1 columns):\n",
            "num_orders    26496 non-null int64\n",
            "dtypes: int64(1)\n",
            "memory usage: 414.0 KB\n"
          ]
        }
      ],
      "source": [
        "df.info()"
      ]
    },
    {
      "cell_type": "markdown",
      "metadata": {
        "id": "mNdmkAWSRO3i"
      },
      "source": [
        "Пропущенных значений нет.\n",
        "\n",
        "There are no missing values."
      ]
    },
    {
      "cell_type": "markdown",
      "metadata": {
        "id": "CCNluIWxRO3i"
      },
      "source": [
        "Отсоритируем данные по времени и проверим монотонны ли данные.\n",
        "\n",
        "Let's sort the data by time and check whether the data is monotonic."
      ]
    },
    {
      "cell_type": "code",
      "execution_count": null,
      "metadata": {
        "id": "a5RtQt5xRO3i",
        "outputId": "efbc6022-9381-46ca-9270-8c53b4627418"
      },
      "outputs": [
        {
          "data": {
            "text/plain": [
              "True"
            ]
          },
          "execution_count": 5,
          "metadata": {},
          "output_type": "execute_result"
        }
      ],
      "source": [
        "df = df.sort_index()\n",
        "df.index.is_monotonic"
      ]
    },
    {
      "cell_type": "markdown",
      "metadata": {
        "id": "ZJi5L-EQRO3j"
      },
      "source": [
        "Данные монотонны.\n",
        "\n",
        "The data is monotonous."
      ]
    },
    {
      "cell_type": "markdown",
      "metadata": {
        "id": "Zv9V9J7xRO3j"
      },
      "source": [
        "Проведем ресемплирование на 1 час. \n",
        "\n",
        "We will resample for 1 hour."
      ]
    },
    {
      "cell_type": "code",
      "execution_count": null,
      "metadata": {
        "id": "41Hn6dieRO3j"
      },
      "outputs": [],
      "source": [
        "df = df.resample('1H').sum()"
      ]
    },
    {
      "cell_type": "markdown",
      "metadata": {
        "id": "98BX_dyjRO3j"
      },
      "source": [
        "На этом этапе мы загрузили библиотеки, файл, первичного изучили его и провели ресемплирование на 1 час.\n",
        "\n",
        "At this stage, we loaded the libraries, the file, studied it for the first time and resampled it for 1 hour."
      ]
    },
    {
      "cell_type": "markdown",
      "metadata": {
        "id": "2J97R6zPRO3k"
      },
      "source": [
        "<a id='Step_2'></a>\n",
        "# Анализ"
      ]
    },
    {
      "cell_type": "markdown",
      "source": [
        "# Analysis"
      ],
      "metadata": {
        "id": "o242Rrj2Uc2h"
      }
    },
    {
      "cell_type": "markdown",
      "metadata": {
        "id": "XzF3zFemRO3k"
      },
      "source": [
        "Изучим ряд и его стационарность.\n",
        "\n",
        "Let us study the series and its stationarity."
      ]
    },
    {
      "cell_type": "code",
      "execution_count": null,
      "metadata": {
        "scrolled": true,
        "id": "-L_hIJ5QRO3k",
        "outputId": "75fc91ae-ee3b-4bb8-aae4-926f740e1859"
      },
      "outputs": [
        {
          "data": {
            "text/plain": [
              "<matplotlib.axes._subplots.AxesSubplot at 0x7fc8d61aed90>"
            ]
          },
          "execution_count": 7,
          "metadata": {},
          "output_type": "execute_result"
        },
        {
          "data": {
            "image/png": "[encoded data removed]",
            "text/plain": [
              "<Figure size 432x288 with 1 Axes>"
            ]
          },
          "metadata": {
            "needs_background": "light"
          },
          "output_type": "display_data"
        }
      ],
      "source": [
        "df['mean'] = df['num_orders'].rolling(100).mean()\n",
        "df['std'] = df['num_orders'].rolling(100).std()\n",
        "df.plot() "
      ]
    },
    {
      "cell_type": "markdown",
      "metadata": {
        "id": "JcWEkkMgRO3k"
      },
      "source": [
        "Ряд не стационарен - мат. ожидание и дисперсия не являются константами. Однако, я думаю, что не стационарность этого ряда не ялвяется критической, ряд можно описать линенией, а волотильность мат. ожидания и дисперсии не является критическими. Разности временного ряда доблять ненужно.\n",
        "\n",
        "The series is not stationary - mat. expectation and variance are not constants. However, I think that the non-stationarity of this series is not critical, the series can be described by a line, but the volatility is a mat. expectations and variance are not critical. It is unnecessary to add the differences of the time series."
      ]
    },
    {
      "cell_type": "markdown",
      "metadata": {
        "id": "ffASo_czRO3k"
      },
      "source": [
        "Удалим столбцы со средним и стандартным отклонением - они нам пока не нужны.\n",
        "\n",
        "Let's remove the columns with the mean and standard deviation - we don't need them yet."
      ]
    },
    {
      "cell_type": "code",
      "execution_count": null,
      "metadata": {
        "id": "6eeCaKIpRO3l"
      },
      "outputs": [],
      "source": [
        "df.drop(['mean', 'std'], axis=1, inplace=True)"
      ]
    },
    {
      "cell_type": "markdown",
      "metadata": {
        "id": "jYnBe6yWRO3l"
      },
      "source": [
        "Посмотрим на крайние наблюдения.\n",
        "\n",
        "Let's look at extreme observations."
      ]
    },
    {
      "cell_type": "code",
      "execution_count": null,
      "metadata": {
        "scrolled": false,
        "id": "F2OpayxARO3l",
        "outputId": "17688170-c9b7-4719-bf20-6376f93b4d56"
      },
      "outputs": [
        {
          "name": "stdout",
          "output_type": "stream",
          "text": [
            "Самое раннее наблюдение 2018-03-01 00:00:00\n",
            "Минимальное наблюдение 0\n",
            "Самое позднее наблюдение 2018-08-31 23:00:00\n",
            "Максимальное наблюдение наблюдение 462\n"
          ]
        }
      ],
      "source": [
        "print('Самое раннее наблюдение', df.index.min())\n",
        "print('Минимальное наблюдение', df.num_orders.min())\n",
        "print('Самое позднее наблюдение', df.index.max())\n",
        "print('Максимальное наблюдение наблюдение', df.num_orders.max())"
      ]
    },
    {
      "cell_type": "markdown",
      "source": [
        "Earliest Observation 2018-03-01 00:00:00\n",
        "\n",
        "Minimum observation 0\n",
        "\n",
        "Latest observation 2018-08-31 23:00:00\n",
        "\n",
        "Maximum surveillance surveillance 462"
      ],
      "metadata": {
        "id": "MkmAQIV_VcRQ"
      }
    },
    {
      "cell_type": "markdown",
      "metadata": {
        "id": "rkWqC3eXRO3l"
      },
      "source": [
        "Итак, у нас данные с марта по август 2018 года. То есть наблюдать ГОДОВУЮ сезонность по этому сету мы не можем.  \n",
        "\n",
        "So, we have data from March to August 2018. That is, we cannot observe ANNUAL seasonality for this set."
      ]
    },
    {
      "cell_type": "code",
      "execution_count": null,
      "metadata": {
        "id": "DtZlbV-DRO3l",
        "outputId": "974f4785-c72e-45b4-8c90-4f8e155f618c"
      },
      "outputs": [
        {
          "data": {
            "image/png": "[encoded data removed]",
            "text/plain": [
              "<Figure size 432x576 with 3 Axes>"
            ]
          },
          "metadata": {
            "needs_background": "light"
          },
          "output_type": "display_data"
        }
      ],
      "source": [
        "decomposed = seasonal_decompose(df)\n",
        "plt.figure(figsize=(6, 8))\n",
        "plt.subplot(311)\n",
        "decomposed.trend.plot(ax=plt.gca())\n",
        "plt.title('Trend')\n",
        "plt.subplot(312)\n",
        "decomposed.seasonal.plot(ax=plt.gca())\n",
        "plt.title('Seasonal')\n",
        "plt.subplot(313)\n",
        "decomposed.resid.plot(ax=plt.gca())\n",
        "plt.title('Residuals')\n",
        "plt.tight_layout()"
      ]
    },
    {
      "cell_type": "markdown",
      "metadata": {
        "id": "2hYi0w3KRO3m"
      },
      "source": [
        "Можно увидеть тренд - количество заказов растет со временем: от марта к августу. \n",
        "\n",
        "You can see the trend - the number of orders is growing over time: from March to August."
      ]
    },
    {
      "cell_type": "markdown",
      "metadata": {
        "id": "tFJ2wiEYRO3m"
      },
      "source": [
        "Посмотрим на сезонность внутри каждого месяца по дням.\n",
        "\n",
        "Let's look at the seasonality within each month by day."
      ]
    },
    {
      "cell_type": "code",
      "execution_count": null,
      "metadata": {
        "scrolled": true,
        "id": "V21JpeCERO3m",
        "outputId": "1d30434d-bce6-4807-e71e-3197a78410ec"
      },
      "outputs": [
        {
          "data": {
            "image/png": "[encoded data removed]",
            "text/plain": [
              "<Figure size 1296x864 with 1 Axes>"
            ]
          },
          "metadata": {
            "needs_background": "light"
          },
          "output_type": "display_data"
        }
      ],
      "source": [
        "df_copy = df.copy()\n",
        "df_copy = df_copy.sort_index()\n",
        "df_copy = df_copy.resample('1D').sum()\n",
        "decomposed_copy = seasonal_decompose(df_copy)\n",
        "plt.figure(figsize=(18, 12))\n",
        "plt.subplot(311)\n",
        "decomposed_copy.seasonal.plot(ax=plt.gca())\n",
        "plt.title('Seanonal')\n",
        "plt.tight_layout()"
      ]
    },
    {
      "cell_type": "markdown",
      "metadata": {
        "id": "yvBTuWKhRO3m"
      },
      "source": [
        "Выберем один день и посмотрим на график количества заказов внутри него (одноименные дни похожи друг на друга из недели в неделю, как видно из графика выше).\n",
        "\n",
        "Let's choose one day and look at the graph of the number of orders inside it (the same-named days are similar to each other from week to week, as you can see from the graph above)."
      ]
    },
    {
      "cell_type": "code",
      "execution_count": null,
      "metadata": {
        "scrolled": false,
        "id": "FPUxlziFRO3m",
        "outputId": "c9d6f54b-56ae-4314-bd20-8346720ac323"
      },
      "outputs": [
        {
          "data": {
            "text/plain": [
              "<matplotlib.axes._subplots.AxesSubplot at 0x7fc8d503e650>"
            ]
          },
          "execution_count": 12,
          "metadata": {},
          "output_type": "execute_result"
        },
        {
          "data": {
            "image/png": "[encoded data removed]",
            "text/plain": [
              "<Figure size 432x288 with 1 Axes>"
            ]
          },
          "metadata": {
            "needs_background": "light"
          },
          "output_type": "display_data"
        }
      ],
      "source": [
        "df['2018-03-01':'2018-03-01'].plot()"
      ]
    },
    {
      "cell_type": "markdown",
      "metadata": {
        "id": "R6C9MAePRO3n"
      },
      "source": [
        "Видим, что пиковые загрузки наблюдаются в 00, 11 и 22 часов. С 5 до 7 утра заказов меньше всего.\n",
        "\n",
        "We see that peak loads are observed at 00, 11 and 22 hours. From 5 to 7 in the morning there are the fewest orders."
      ]
    },
    {
      "cell_type": "markdown",
      "metadata": {
        "id": "OA5EHP4PRO3n"
      },
      "source": [
        "На графике можно увидеть, что внутри каждую неделю каждого месяца колебания одинаковые. То есть есть недельная сезонность.\n",
        "\n",
        "On the graph, you can see that inside every week of every month the fluctuations are the same. That is, there is a weekly seasonality."
      ]
    },
    {
      "cell_type": "markdown",
      "metadata": {
        "id": "wOjD-WOrRO3n"
      },
      "source": [
        "Результаты анализа.\n",
        "- Ряд не стационарен, но не критично.\n",
        "- Наблюдается восходящий тренд количества заказов со временем.\n",
        "- Есть недельная и дневная сезонности.\n",
        "\n",
        "Analysis results.\n",
        "- The series is not stationary, but not critical.\n",
        "- There is an upward trend in the number of orders over time.\n",
        "- There are weekly and daily seasonality."
      ]
    },
    {
      "cell_type": "markdown",
      "metadata": {
        "id": "pVVaysA6RO3n"
      },
      "source": [
        "<a id='Step_3'></a>\n",
        "# Обучение"
      ]
    },
    {
      "cell_type": "markdown",
      "source": [
        "# Education"
      ],
      "metadata": {
        "id": "3iA11i6dWT9Q"
      }
    },
    {
      "cell_type": "markdown",
      "metadata": {
        "id": "DH5izEzfRO3n"
      },
      "source": [
        "Создадим функцию, которая добавит признаки: день недели и час. Так же функция добавит временные лаги  и скольязящее среднее (количество лагов и интервал усредненния побираются экспеременатально). \n",
        "\n",
        "Let's create a function that will add signs: day of the week and hour. The function will also add time lags and a moving average (the number of lags and the averaging interval are selected experimentally)."
      ]
    },
    {
      "cell_type": "code",
      "execution_count": null,
      "metadata": {
        "id": "S5E7EbccRO3n"
      },
      "outputs": [],
      "source": [
        "def make_features(data, max_lag, rolling_mean_size):\n",
        "    data['dayofweek'] = data.index.dayofweek\n",
        "    data['hour'] = data.index.hour  \n",
        "    \n",
        "    for lag in range(1, max_lag + 1):\n",
        "        data['lag_{}'.format(lag)] = data['num_orders'].shift(lag)\n",
        "\n",
        "    data['rolling_mean'] = data['num_orders'].shift().rolling(rolling_mean_size).mean()"
      ]
    },
    {
      "cell_type": "code",
      "execution_count": null,
      "metadata": {
        "id": "OGvdbComRO3o"
      },
      "outputs": [],
      "source": [
        "MSE = make_scorer(mean_squared_error, greater_is_better=False)"
      ]
    },
    {
      "cell_type": "markdown",
      "metadata": {
        "id": "dUwI7dOyRO3o"
      },
      "source": [
        "Разделим сет на обучение и тест.\n",
        "\n",
        "Let's divide the set into training and testing."
      ]
    },
    {
      "cell_type": "code",
      "execution_count": null,
      "metadata": {
        "id": "lwvcBgAIRO3o"
      },
      "outputs": [],
      "source": [
        "train, test = train_test_split(df, test_size=0.1, shuffle=False)\n",
        "train_cv = train.copy()"
      ]
    },
    {
      "cell_type": "markdown",
      "metadata": {
        "id": "vHmsLFxrRO3o"
      },
      "source": [
        "<a id='Step_4'></a>\n",
        "##  Регрессия."
      ]
    },
    {
      "cell_type": "markdown",
      "source": [
        "# Regression."
      ],
      "metadata": {
        "id": "1FA1voO3W4p4"
      }
    },
    {
      "cell_type": "code",
      "execution_count": null,
      "metadata": {
        "scrolled": true,
        "id": "CVgYA44DRO3o",
        "outputId": "01fb09b9-d3e0-4b94-fc55-852a51b7c7dd"
      },
      "outputs": [
        {
          "data": {
            "text/html": [
              "<div>\n",
              "<style scoped>\n",
              "    .dataframe tbody tr th:only-of-type {\n",
              "        vertical-align: middle;\n",
              "    }\n",
              "\n",
              "    .dataframe tbody tr th {\n",
              "        vertical-align: top;\n",
              "    }\n",
              "\n",
              "    .dataframe thead th {\n",
              "        text-align: right;\n",
              "    }\n",
              "</style>\n",
              "<table border=\"1\" class=\"dataframe\">\n",
              "  <thead>\n",
              "    <tr style=\"text-align: right;\">\n",
              "      <th></th>\n",
              "      <th>max_lag</th>\n",
              "      <th>rolling_mean_size</th>\n",
              "      <th>parameters</th>\n",
              "      <th>results</th>\n",
              "    </tr>\n",
              "  </thead>\n",
              "  <tbody>\n",
              "    <tr>\n",
              "      <td>40</td>\n",
              "      <td>20</td>\n",
              "      <td>75</td>\n",
              "      <td>{'alpha': 1, 'fit_intercept': True}</td>\n",
              "      <td>-992.620924</td>\n",
              "    </tr>\n",
              "    <tr>\n",
              "      <td>39</td>\n",
              "      <td>20</td>\n",
              "      <td>50</td>\n",
              "      <td>{'alpha': 1, 'fit_intercept': True}</td>\n",
              "      <td>-996.403223</td>\n",
              "    </tr>\n",
              "    <tr>\n",
              "      <td>41</td>\n",
              "      <td>20</td>\n",
              "      <td>100</td>\n",
              "      <td>{'alpha': 1, 'fit_intercept': True}</td>\n",
              "      <td>-999.513611</td>\n",
              "    </tr>\n",
              "    <tr>\n",
              "      <td>38</td>\n",
              "      <td>20</td>\n",
              "      <td>30</td>\n",
              "      <td>{'alpha': 100, 'fit_intercept': False}</td>\n",
              "      <td>-1010.881899</td>\n",
              "    </tr>\n",
              "    <tr>\n",
              "      <td>34</td>\n",
              "      <td>10</td>\n",
              "      <td>75</td>\n",
              "      <td>{'alpha': 100, 'fit_intercept': False}</td>\n",
              "      <td>-1080.819622</td>\n",
              "    </tr>\n",
              "  </tbody>\n",
              "</table>\n",
              "</div>"
            ],
            "text/plain": [
              "    max_lag  rolling_mean_size                              parameters  \\\n",
              "40       20                 75     {'alpha': 1, 'fit_intercept': True}   \n",
              "39       20                 50     {'alpha': 1, 'fit_intercept': True}   \n",
              "41       20                100     {'alpha': 1, 'fit_intercept': True}   \n",
              "38       20                 30  {'alpha': 100, 'fit_intercept': False}   \n",
              "34       10                 75  {'alpha': 100, 'fit_intercept': False}   \n",
              "\n",
              "        results  \n",
              "40  -992.620924  \n",
              "39  -996.403223  \n",
              "41  -999.513611  \n",
              "38 -1010.881899  \n",
              "34 -1080.819622  "
            ]
          },
          "execution_count": 16,
          "metadata": {},
          "output_type": "execute_result"
        }
      ],
      "source": [
        "# Создадим списки в которые будем сохранять результаты подбора парметров функции make_features.\n",
        "list_max_lag = []\n",
        "list_rolling_mean_size = []\n",
        "list_parameters = []\n",
        "list_results = []\n",
        "# Создадим цикл для подбора вышеупомянутых параметров.\n",
        "for i in (1,2,3,4,5,10,20):\n",
        "    for j in (1,20,30,50,75,100):        \n",
        "        # Создадим новые параметры. \n",
        "        make_features(train_cv, i, j)\n",
        "        # Удалим строки с пропущенными значенниями.\n",
        "        train_cv = train_cv.dropna()\n",
        "        # Получим признаки и целевую перменную.\n",
        "        X_train = train_cv.drop('num_orders', axis=1)\n",
        "        y_train = train_cv['num_orders']\n",
        "        # Сделаем модель для таймсериес сплит.\n",
        "        model = Ridge()\n",
        "        parameters = {'fit_intercept':(True, False), 'alpha':(1, 10, 50, 100)}\n",
        "        tscv = TimeSeriesSplit(n_splits=2)\n",
        "        gsearch = GridSearchCV(estimator=model, cv=tscv, param_grid=parameters, scoring=MSE)\n",
        "        # Обучим модель и проверим параметры.\n",
        "        gsearch.fit(X_train, y_train)\n",
        "        # Запишем результаты работы цикла и таймсериес сплит.\n",
        "        list_max_lag.append(i)\n",
        "        list_rolling_mean_size.append(j)\n",
        "        list_parameters.append(gsearch.best_params_)\n",
        "        list_results.append(gsearch.best_score_)\n",
        "        # Создадим таблицу с результатами.\n",
        "        regression_results = pd.DataFrame({'max_lag':list_max_lag, 'rolling_mean_size':list_rolling_mean_size, \n",
        "                                                   'parameters': list_parameters, 'results':list_results})\n",
        "        # Обнулим тренировочный фрейм.\n",
        "        train_cv = train.copy()\n",
        "# Выведем рузультаты на экран.\n",
        "regression_results.sort_values('results',ascending=False).head(5)"
      ]
    },
    {
      "cell_type": "markdown",
      "metadata": {
        "id": "jNA2lOmERO3q"
      },
      "source": [
        "<a id='Step_5'></a>\n",
        "##  Случайный лес."
      ]
    },
    {
      "cell_type": "markdown",
      "source": [
        "## Random forest."
      ],
      "metadata": {
        "id": "1IxZNGRMXgwV"
      }
    },
    {
      "cell_type": "code",
      "execution_count": null,
      "metadata": {
        "id": "zZvD4oRNRO3q",
        "outputId": "c308d1be-7f80-4507-f83f-0573204f8953"
      },
      "outputs": [
        {
          "data": {
            "text/html": [
              "<div>\n",
              "<style scoped>\n",
              "    .dataframe tbody tr th:only-of-type {\n",
              "        vertical-align: middle;\n",
              "    }\n",
              "\n",
              "    .dataframe tbody tr th {\n",
              "        vertical-align: top;\n",
              "    }\n",
              "\n",
              "    .dataframe thead th {\n",
              "        text-align: right;\n",
              "    }\n",
              "</style>\n",
              "<table border=\"1\" class=\"dataframe\">\n",
              "  <thead>\n",
              "    <tr style=\"text-align: right;\">\n",
              "      <th></th>\n",
              "      <th>max_lag</th>\n",
              "      <th>rolling_mean_size</th>\n",
              "      <th>parameters</th>\n",
              "      <th>results</th>\n",
              "    </tr>\n",
              "  </thead>\n",
              "  <tbody>\n",
              "    <tr>\n",
              "      <td>33</td>\n",
              "      <td>10</td>\n",
              "      <td>50</td>\n",
              "      <td>{'max_depth': 20, 'n_estimators': 100}</td>\n",
              "      <td>-750.681251</td>\n",
              "    </tr>\n",
              "    <tr>\n",
              "      <td>34</td>\n",
              "      <td>10</td>\n",
              "      <td>75</td>\n",
              "      <td>{'max_depth': 19, 'n_estimators': 100}</td>\n",
              "      <td>-751.271824</td>\n",
              "    </tr>\n",
              "    <tr>\n",
              "      <td>28</td>\n",
              "      <td>5</td>\n",
              "      <td>75</td>\n",
              "      <td>{'max_depth': 19, 'n_estimators': 100}</td>\n",
              "      <td>-757.725243</td>\n",
              "    </tr>\n",
              "    <tr>\n",
              "      <td>35</td>\n",
              "      <td>10</td>\n",
              "      <td>100</td>\n",
              "      <td>{'max_depth': 19, 'n_estimators': 100}</td>\n",
              "      <td>-761.059595</td>\n",
              "    </tr>\n",
              "    <tr>\n",
              "      <td>29</td>\n",
              "      <td>5</td>\n",
              "      <td>100</td>\n",
              "      <td>{'max_depth': 19, 'n_estimators': 100}</td>\n",
              "      <td>-767.303964</td>\n",
              "    </tr>\n",
              "  </tbody>\n",
              "</table>\n",
              "</div>"
            ],
            "text/plain": [
              "    max_lag  rolling_mean_size                              parameters  \\\n",
              "33       10                 50  {'max_depth': 20, 'n_estimators': 100}   \n",
              "34       10                 75  {'max_depth': 19, 'n_estimators': 100}   \n",
              "28        5                 75  {'max_depth': 19, 'n_estimators': 100}   \n",
              "35       10                100  {'max_depth': 19, 'n_estimators': 100}   \n",
              "29        5                100  {'max_depth': 19, 'n_estimators': 100}   \n",
              "\n",
              "       results  \n",
              "33 -750.681251  \n",
              "34 -751.271824  \n",
              "28 -757.725243  \n",
              "35 -761.059595  \n",
              "29 -767.303964  "
            ]
          },
          "execution_count": 17,
          "metadata": {},
          "output_type": "execute_result"
        }
      ],
      "source": [
        "# Создадим списки в которые будем сохранять результаты подбора парметров функции make_features.\n",
        "list_max_lag = []\n",
        "list_rolling_mean_size = []\n",
        "list_parameters = []\n",
        "list_results = []\n",
        "# Создадим цикл для подбора вышеупомянутых параметров.\n",
        "for i in (1,2,3,4,5,10,20):\n",
        "    for j in (1,20,30,50,75,100):        \n",
        "        # Создадим новые параметры. \n",
        "        make_features(train_cv, i, j)\n",
        "        # Удалим строки с пропущенными значенниями.\n",
        "        train_cv = train_cv.dropna()\n",
        "        # Получим признаки и целевую перменную.\n",
        "        X_train = train_cv.drop('num_orders', axis=1)\n",
        "        y_train = train_cv['num_orders']\n",
        "        # Сделаем модель для таймсериес сплит.\n",
        "        model = RandomForestRegressor()\n",
        "        parameters = {'max_depth':(1,5,10,19,20), 'n_estimators':(1, 20,100)}\n",
        "        tscv = TimeSeriesSplit(n_splits=2)\n",
        "        gsearch = GridSearchCV(estimator=model, cv=tscv, param_grid=parameters, scoring=MSE)\n",
        "        # Обучим модель и проверим параметры.\n",
        "        gsearch.fit(X_train, y_train)\n",
        "        # Запишем результаты работы цикла и таймсериес сплит.\n",
        "        list_max_lag.append(i)\n",
        "        list_rolling_mean_size.append(j)\n",
        "        list_parameters.append(gsearch.best_params_)\n",
        "        list_results.append(gsearch.best_score_)\n",
        "        # Создадим таблицу с результатами.\n",
        "        forest_results = pd.DataFrame({'max_lag':list_max_lag, 'rolling_mean_size':list_rolling_mean_size, \n",
        "                                                   'parameters': list_parameters, 'results':list_results})\n",
        "        # Обнулим тренировочный фрейм.\n",
        "        train_cv = train.copy()\n",
        "# Выведем рузультаты на экран.\n",
        "forest_results.sort_values('results', ascending=False).head(5)"
      ]
    },
    {
      "cell_type": "markdown",
      "metadata": {
        "id": "M8hvms8XRO3q"
      },
      "source": [
        "<a id='Step_6'></a>\n",
        "##  Градиентный бустинг."
      ]
    },
    {
      "cell_type": "markdown",
      "source": [
        "## Gradient boosting."
      ],
      "metadata": {
        "id": "ZlhzfBISXi9i"
      }
    },
    {
      "cell_type": "code",
      "execution_count": null,
      "metadata": {
        "id": "ZvKIAhgbRO3q",
        "outputId": "d84c9c48-b0fe-4e43-931a-e80805a7b2be"
      },
      "outputs": [
        {
          "data": {
            "text/html": [
              "<div>\n",
              "<style scoped>\n",
              "    .dataframe tbody tr th:only-of-type {\n",
              "        vertical-align: middle;\n",
              "    }\n",
              "\n",
              "    .dataframe tbody tr th {\n",
              "        vertical-align: top;\n",
              "    }\n",
              "\n",
              "    .dataframe thead th {\n",
              "        text-align: right;\n",
              "    }\n",
              "</style>\n",
              "<table border=\"1\" class=\"dataframe\">\n",
              "  <thead>\n",
              "    <tr style=\"text-align: right;\">\n",
              "      <th></th>\n",
              "      <th>max_lag</th>\n",
              "      <th>rolling_mean_size</th>\n",
              "      <th>parameters</th>\n",
              "      <th>results</th>\n",
              "    </tr>\n",
              "  </thead>\n",
              "  <tbody>\n",
              "    <tr>\n",
              "      <td>41</td>\n",
              "      <td>20</td>\n",
              "      <td>100</td>\n",
              "      <td>{'learning_rate': 0.1, 'reg_lambda': 5}</td>\n",
              "      <td>-772.327469</td>\n",
              "    </tr>\n",
              "    <tr>\n",
              "      <td>36</td>\n",
              "      <td>20</td>\n",
              "      <td>1</td>\n",
              "      <td>{'learning_rate': 0.1, 'reg_lambda': 5}</td>\n",
              "      <td>-772.821629</td>\n",
              "    </tr>\n",
              "    <tr>\n",
              "      <td>37</td>\n",
              "      <td>20</td>\n",
              "      <td>20</td>\n",
              "      <td>{'learning_rate': 0.1, 'reg_lambda': 5}</td>\n",
              "      <td>-778.815123</td>\n",
              "    </tr>\n",
              "    <tr>\n",
              "      <td>40</td>\n",
              "      <td>20</td>\n",
              "      <td>75</td>\n",
              "      <td>{'learning_rate': 0.1, 'reg_lambda': 0}</td>\n",
              "      <td>-778.984964</td>\n",
              "    </tr>\n",
              "    <tr>\n",
              "      <td>38</td>\n",
              "      <td>20</td>\n",
              "      <td>30</td>\n",
              "      <td>{'learning_rate': 0.1, 'reg_lambda': 5}</td>\n",
              "      <td>-781.729205</td>\n",
              "    </tr>\n",
              "  </tbody>\n",
              "</table>\n",
              "</div>"
            ],
            "text/plain": [
              "    max_lag  rolling_mean_size                               parameters  \\\n",
              "41       20                100  {'learning_rate': 0.1, 'reg_lambda': 5}   \n",
              "36       20                  1  {'learning_rate': 0.1, 'reg_lambda': 5}   \n",
              "37       20                 20  {'learning_rate': 0.1, 'reg_lambda': 5}   \n",
              "40       20                 75  {'learning_rate': 0.1, 'reg_lambda': 0}   \n",
              "38       20                 30  {'learning_rate': 0.1, 'reg_lambda': 5}   \n",
              "\n",
              "       results  \n",
              "41 -772.327469  \n",
              "36 -772.821629  \n",
              "37 -778.815123  \n",
              "40 -778.984964  \n",
              "38 -781.729205  "
            ]
          },
          "execution_count": 18,
          "metadata": {},
          "output_type": "execute_result"
        }
      ],
      "source": [
        "# Создадим списки в которые будем сохранять результаты подбора парметров функции make_features.\n",
        "list_max_lag = []\n",
        "list_rolling_mean_size = []\n",
        "list_parameters = []\n",
        "list_results = []\n",
        "# Создадим цикл для подбора вышеупомянутых параметров.\n",
        "for i in (1,2,3,4,5,10,20):\n",
        "    for j in (1,20,30,50,75,100):        \n",
        "        # Создадим новые параметры. \n",
        "        make_features(train_cv, i, j)\n",
        "        # Удалим строки с пропущенными значенниями.\n",
        "        train_cv = train_cv.dropna()\n",
        "        # Получим признаки и целевую перменную.\n",
        "        X_train = train_cv.drop('num_orders', axis=1)\n",
        "        y_train = train_cv['num_orders']\n",
        "        # Сделаем модель для таймсериес сплит.\n",
        "        model = LGBMRegressor()\n",
        "        parameters = {'learning_rate':(0.1, 0.3, 0.5, 0.7), 'reg_lambda':(0, 5, 50)}\n",
        "        tscv = TimeSeriesSplit(n_splits=2)\n",
        "        gsearch = GridSearchCV(estimator=model, cv=tscv, param_grid=parameters, scoring=MSE)\n",
        "        # Обучим модель и проверим параметры.\n",
        "        gsearch.fit(X_train, y_train)\n",
        "        # Запишем результаты работы цикла и таймсериес сплит.\n",
        "        list_max_lag.append(i)\n",
        "        list_rolling_mean_size.append(j)\n",
        "        list_parameters.append(gsearch.best_params_)\n",
        "        list_results.append(gsearch.best_score_)\n",
        "        # Создадим таблицу с результатами.\n",
        "        lgbm_results = pd.DataFrame({'max_lag':list_max_lag, 'rolling_mean_size':list_rolling_mean_size, \n",
        "                                                   'parameters': list_parameters, 'results':list_results})\n",
        "        # Обнулим тренировочный фрейм.\n",
        "        train_cv = train.copy()\n",
        "# Выведем рузультаты на экран.\n",
        "lgbm_results.sort_values('results', ascending=False).head(5)"
      ]
    },
    {
      "cell_type": "markdown",
      "metadata": {
        "id": "6zCpRAbsRO3r"
      },
      "source": [
        "<a id='Step_7'></a>\n",
        "# Тестирование"
      ]
    },
    {
      "cell_type": "markdown",
      "source": [
        "# Testing"
      ],
      "metadata": {
        "id": "xfBJvpILXy7k"
      }
    },
    {
      "cell_type": "markdown",
      "metadata": {
        "id": "vhShI3X5RO3r"
      },
      "source": [
        "Будем использовать LGMB с параметрами {'learning_rate': 0.1, 'reg_lambda': 0} и\tдобавим признани через функцию make_features с парметрами max_lag=10 и rolling_mean_size=20\n",
        "\n",
        "We will use LGMB with parameters {'learning_rate': 0.1, 'reg_lambda': 0} and add recognition through the make_features function with parameters max_lag=10 and rolling_mean_size=20"
      ]
    },
    {
      "cell_type": "code",
      "execution_count": null,
      "metadata": {
        "scrolled": true,
        "id": "oKesP_kWRO3r",
        "outputId": "26def37e-dd48-48d8-8ecf-9b42c3b6e03c"
      },
      "outputs": [
        {
          "name": "stdout",
          "output_type": "stream",
          "text": [
            "RMSE 43.522650259264715\n"
          ]
        }
      ],
      "source": [
        "make_features(df, 10, 20)\n",
        "train, test = train_test_split(df, shuffle=False, test_size=0.1)\n",
        "train = train.dropna()\n",
        "X_train = train.drop('num_orders', axis=1)\n",
        "y_train = train['num_orders']\n",
        "X_test = test.drop('num_orders', axis=1)\n",
        "y_test = test['num_orders']\n",
        "model = LGBMRegressor(learning_rate = 0.1, reg_lambda = 0)\n",
        "model.fit(X_train, y_train)\n",
        "prediction = model.predict(X_test)\n",
        "print('RMSE', mean_squared_error(prediction, y_test) ** 0.5)"
      ]
    },
    {
      "cell_type": "markdown",
      "metadata": {
        "id": "nAVWZtHtRO3r"
      },
      "source": [
        "Общий вывод.\n",
        "- Нами были подгтовленны данные: сортировка и ресемплирование.\n",
        "- Пронализирован времнной ряд: он не стационарный (не критичично), наблюдается недельная сезонность, наблюдается восходящий тренд.\n",
        "- Обучены модели на кросс-валидации: регрессия, случайный лес, градиентный бустинг.\n",
        "- Тестирование модели LGMB: получены подоходязие результаты - RMSE меньше 48."
      ]
    },
    {
      "cell_type": "markdown",
      "source": [
        "General conclusion.\n",
        "- We have prepared data: sorting and resampling.\n",
        "- The time series has been analyzed: it is not stationary (not critical), there is a weekly seasonality, an uptrend is observed.\n",
        "- Trained models for cross-validation: regression, random forest, gradient boosting.\n",
        "- Testing the LGMB model: Appropriate results obtained - RMSE less than 48."
      ],
      "metadata": {
        "id": "sOAYqkozX31o"
      }
    }
  ],
  "metadata": {
    "kernelspec": {
      "display_name": "Python 3 (ipykernel)",
      "language": "python",
      "name": "python3"
    },
    "language_info": {
      "codemirror_mode": {
        "name": "ipython",
        "version": 3
      },
      "file_extension": ".py",
      "mimetype": "text/x-python",
      "name": "python",
      "nbconvert_exporter": "python",
      "pygments_lexer": "ipython3",
      "version": "3.9.5"
    },
    "toc": {
      "base_numbering": 1,
      "nav_menu": {},
      "number_sections": true,
      "sideBar": true,
      "skip_h1_title": false,
      "title_cell": "Table of Contents",
      "title_sidebar": "Contents",
      "toc_cell": false,
      "toc_position": {},
      "toc_section_display": true,
      "toc_window_display": false
    },
    "colab": {
      "name": "12th_project_taxi.ipynb",
      "provenance": []
    }
  },
  "nbformat": 4,
  "nbformat_minor": 0
}